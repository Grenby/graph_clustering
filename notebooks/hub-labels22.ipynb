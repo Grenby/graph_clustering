{
 "cells": [
  {
   "cell_type": "code",
   "execution_count": 1,
   "id": "92641b5d828c9de8",
   "metadata": {
    "collapsed": false,
    "ExecuteTime": {
     "end_time": "2024-12-21T11:53:13.491740Z",
     "start_time": "2024-12-21T11:53:13.179690Z"
    }
   },
   "outputs": [],
   "source": [
    "import logging\n",
    "import sys\n",
    "\n",
    "import matplotlib.pyplot as plt\n",
    "\n",
    "root = logging.getLogger()\n",
    "root.setLevel(logging.INFO)\n",
    "\n",
    "handler = logging.StreamHandler(sys.stdout)\n",
    "handler.setLevel(logging.INFO)\n",
    "formatter = logging.Formatter('%(asctime)s - %(name)s - %(levelname)s - %(message)s')\n",
    "handler.setFormatter(formatter)\n",
    "root.addHandler(handler)"
   ]
  },
  {
   "cell_type": "code",
   "execution_count": 2,
   "id": "679e292ddcafdd40",
   "metadata": {
    "collapsed": false,
    "ExecuteTime": {
     "end_time": "2024-12-21T11:53:14.339167Z",
     "start_time": "2024-12-21T11:53:13.492831Z"
    }
   },
   "outputs": [],
   "source": [
    "import sys\n",
    "\n",
    "sys.path.append('../scripts')\n",
    "sys.path.append('../')\n",
    "from scripts import centroids_graph_builder\n",
    "from time import sleep\n",
    "from multiprocessing import Pool\n",
    "\n",
    "import numpy as np\n",
    "from tqdm.notebook import trange, tqdm\n",
    "from scripts import graph_osm_loader, utils\n",
    "\n",
    "import networkx as nx\n",
    "import osmnx as ox\n",
    "from heapq import heappop, heappush\n",
    "from itertools import count\n",
    "from scripts import clustering"
   ]
  },
  {
   "cell_type": "code",
   "outputs": [],
   "source": [
    "from scripts import pfa\n",
    "from scripts.path_findings import ch_pfa, dijkstra_pfa, ch_builder"
   ],
   "metadata": {
    "collapsed": false,
    "ExecuteTime": {
     "end_time": "2024-12-21T11:53:14.345216Z",
     "start_time": "2024-12-21T11:53:14.340038Z"
    }
   },
   "id": "8572e082ab1b55df",
   "execution_count": 3
  },
  {
   "cell_type": "code",
   "execution_count": 4,
   "id": "34f910ca623208b5",
   "metadata": {
    "collapsed": false,
    "ExecuteTime": {
     "end_time": "2024-12-21T11:53:14.348750Z",
     "start_time": "2024-12-21T11:53:14.346123Z"
    }
   },
   "outputs": [],
   "source": [
    "def get_rand_graph(N, p):\n",
    "    G = nx.fast_gnp_random_graph(N, p, directed=False)\n",
    "    if not nx.is_connected(G):\n",
    "        tmp = []\n",
    "        for n in nx.connected_components(G):\n",
    "            for q in n:\n",
    "                tmp.append(q)\n",
    "                break\n",
    "        for i in range(len(tmp) - 1):\n",
    "            G.add_edge(tmp[i], tmp[i + 1])\n",
    "    for e in G.edges:\n",
    "        G.add_edge(e[0], e[1], length=np.random.random_sample() + 0.001)\n",
    "    for u in G.nodes:\n",
    "        if u in G[u]:\n",
    "            G.remove_edge(u, u)\n",
    "    return G"
   ]
  },
  {
   "cell_type": "code",
   "outputs": [],
   "source": [
    "NUM_ITERATION = 10  # чтобы уменьшить ошибку при вычислении времени выполнения, при каждом замере время меряется для NUM_ITERATION повторений\n",
    "WORKER = 5  # количество потоков"
   ],
   "metadata": {
    "collapsed": false,
    "ExecuteTime": {
     "end_time": "2024-12-21T11:53:14.351332Z",
     "start_time": "2024-12-21T11:53:14.349681Z"
    }
   },
   "id": "78e5833ef3ec5a4c",
   "execution_count": 5
  },
  {
   "cell_type": "code",
   "execution_count": 6,
   "id": "1b60f4b11aad1567",
   "metadata": {
    "collapsed": false,
    "ExecuteTime": {
     "end_time": "2024-12-21T11:53:14.382960Z",
     "start_time": "2024-12-21T11:53:14.351817Z"
    }
   },
   "outputs": [
    {
     "name": "stdout",
     "output_type": "stream",
     "text": [
      "17940 27061\n"
     ]
    }
   ],
   "source": [
    "GRAPH_ID = 'R2555133'  # R13470549 R2555133 R3766483\n",
    "# примеры id есть в graph_osm_loader.py\n",
    "# g = get_rand_graph(1000, 0.1)  # загрузка графа\n",
    "N = 10000\n",
    "p = 3 / N\n",
    "# g = get_rand_graph(N,p)\n",
    "# g = get_graph()\n",
    "g = graph_osm_loader.get_graph(GRAPH_ID)\n",
    "print(len(g.nodes), len(g.edges))"
   ]
  },
  {
   "cell_type": "code",
   "outputs": [],
   "source": [
    "g.remove_edges_from(nx.selfloop_edges(g))"
   ],
   "metadata": {
    "collapsed": false,
    "ExecuteTime": {
     "end_time": "2024-12-21T11:53:14.386943Z",
     "start_time": "2024-12-21T11:53:14.383664Z"
    }
   },
   "id": "af782e49baab793a",
   "execution_count": 7
  },
  {
   "cell_type": "code",
   "outputs": [],
   "source": [
    "pfa = dijkstra_pfa.Dijkstra(g = g)"
   ],
   "metadata": {
    "collapsed": false,
    "ExecuteTime": {
     "end_time": "2024-12-21T11:53:14.389723Z",
     "start_time": "2024-12-21T11:53:14.387689Z"
    }
   },
   "id": "6e20064e693dc667",
   "execution_count": 8
  },
  {
   "cell_type": "code",
   "outputs": [
    {
     "data": {
      "text/plain": "generate points:   0%|          | 0/100 [00:00<?, ?it/s]",
      "application/vnd.jupyter.widget-view+json": {
       "version_major": 2,
       "version_minor": 0,
       "model_id": "06f3b51f05c04dffae922f79d78eba9f"
      }
     },
     "metadata": {},
     "output_type": "display_data"
    }
   ],
   "source": [
    "# points = [(u,v) for u in g.nodes() for v in g.nodes() if u!=v]\n",
    "points = [utils.get_node_for_initial_graph_v2(g) for _ in trange(100, desc='generate points')]"
   ],
   "metadata": {
    "collapsed": false,
    "ExecuteTime": {
     "end_time": "2024-12-21T11:53:14.407526Z",
     "start_time": "2024-12-21T11:53:14.390322Z"
    }
   },
   "id": "442ba97a4c47c206",
   "execution_count": 9
  },
  {
   "cell_type": "code",
   "outputs": [
    {
     "data": {
      "text/plain": "(np.float64(16436.019605159538),\n [6100270055,\n  376304913,\n  312013064,\n  312013065,\n  260122293,\n  4890491633,\n  319388692,\n  251542746,\n  314943660,\n  255743902,\n  255743900,\n  251542444,\n  267379882,\n  324532006,\n  301117073,\n  490992191,\n  1086168550,\n  324532022,\n  179536100,\n  179572305,\n  179533092,\n  339066654,\n  271890579,\n  10929975439,\n  10929975434,\n  7519693097,\n  919567892,\n  2536195935,\n  5064247362,\n  528559357,\n  85689991,\n  4409390073,\n  4409390071,\n  85690065,\n  965792146,\n  314969137,\n  306558382,\n  470248651,\n  598963408,\n  12289960409,\n  265694621,\n  2379495376,\n  251068505,\n  251068504,\n  257747436,\n  251068496,\n  1460826461,\n  274854237,\n  253033871,\n  458231744,\n  458231746,\n  274854332,\n  458231749,\n  6646242555,\n  252851864,\n  253027649,\n  253033642,\n  458231752,\n  313295946,\n  313295947,\n  252845726,\n  340157261,\n  315056701,\n  282654209,\n  315056702,\n  253067715,\n  458100699,\n  458109135,\n  253948013,\n  306081981,\n  95949502,\n  95949504,\n  339937106,\n  95949507,\n  4252222949,\n  95949500,\n  4252222948,\n  5667805660,\n  1733854568,\n  253635848,\n  253634938,\n  384510536,\n  336031616,\n  253634598,\n  9156294611,\n  604772403,\n  245919304,\n  245919306,\n  2576719312,\n  273805376,\n  3266775266,\n  313140554,\n  3266775048])"
     },
     "execution_count": 10,
     "metadata": {},
     "output_type": "execute_result"
    }
   ],
   "source": [
    "pfa.find_path(*points[0])"
   ],
   "metadata": {
    "collapsed": false,
    "ExecuteTime": {
     "end_time": "2024-12-21T11:53:14.432496Z",
     "start_time": "2024-12-21T11:53:14.409137Z"
    }
   },
   "id": "96ebc31b366d183c",
   "execution_count": 10
  },
  {
   "cell_type": "code",
   "outputs": [
    {
     "data": {
      "text/plain": "(np.float64(16436.019605159538),\n [6100270055,\n  376304913,\n  312013064,\n  312013065,\n  260122293,\n  4890491633,\n  319388692,\n  251542746,\n  314943660,\n  255743902,\n  255743900,\n  251542444,\n  267379882,\n  324532006,\n  301117073,\n  490992191,\n  1086168550,\n  324532022,\n  179536100,\n  179572305,\n  179533092,\n  339066654,\n  271890579,\n  10929975439,\n  10929975434,\n  7519693097,\n  919567892,\n  2536195935,\n  5064247362,\n  528559357,\n  85689991,\n  4409390073,\n  4409390071,\n  85690065,\n  965792146,\n  314969137,\n  306558382,\n  470248651,\n  598963408,\n  12289960409,\n  265694621,\n  2379495376,\n  251068505,\n  251068504,\n  257747436,\n  251068496,\n  1460826461,\n  274854237,\n  253033871,\n  458231744,\n  458231746,\n  274854332,\n  458231749,\n  6646242555,\n  252851864,\n  253027649,\n  253033642,\n  458231752,\n  313295946,\n  313295947,\n  252845726,\n  340157261,\n  315056701,\n  282654209,\n  315056702,\n  253067715,\n  458100699,\n  458109135,\n  253948013,\n  306081981,\n  95949502,\n  95949504,\n  339937106,\n  95949507,\n  4252222949,\n  95949500,\n  4252222948,\n  5667805660,\n  1733854568,\n  253635848,\n  253634938,\n  384510536,\n  336031616,\n  253634598,\n  9156294611,\n  604772403,\n  245919304,\n  245919306,\n  2576719312,\n  273805376,\n  3266775266,\n  313140554,\n  3266775048])"
     },
     "execution_count": 11,
     "metadata": {},
     "output_type": "execute_result"
    }
   ],
   "source": [
    "nx.single_source_dijkstra(g, *points[0], weight='length')"
   ],
   "metadata": {
    "collapsed": false,
    "ExecuteTime": {
     "end_time": "2024-12-21T11:53:14.458410Z",
     "start_time": "2024-12-21T11:53:14.433072Z"
    }
   },
   "id": "6f5d133adce92595",
   "execution_count": 11
  },
  {
   "cell_type": "code",
   "outputs": [
    {
     "data": {
      "text/plain": "build ch graph:   0%|          | 0/17940 [00:00<?, ?it/s]",
      "application/vnd.jupyter.widget-view+json": {
       "version_major": 2,
       "version_minor": 0,
       "model_id": "4618d499c67b4bbe997cd247d81e19a2"
      }
     },
     "metadata": {},
     "output_type": "display_data"
    }
   ],
   "source": [
    "ch = ch_builder.GreedyBuilder().build_ch_pfa(g)"
   ],
   "metadata": {
    "collapsed": false,
    "ExecuteTime": {
     "start_time": "2024-12-21T11:53:14.459132Z"
    }
   },
   "id": "3aba7ead0485c9a1",
   "execution_count": null
  },
  {
   "cell_type": "code",
   "outputs": [],
   "source": [
    "ch.find_path(*points[0])"
   ],
   "metadata": {
    "collapsed": false
   },
   "id": "5f619150e5a3beda",
   "execution_count": null
  },
  {
   "cell_type": "code",
   "outputs": [],
   "source": [
    "cms = clustering.resolve_k_means_communities(g, resolution=10, max_iteration=100, cluster_name='cluster',\n",
    "                                             print_log=True)\n",
    "print(len(cms))"
   ],
   "metadata": {
    "collapsed": false
   },
   "id": "64b0c1b8f91aeb84",
   "execution_count": null
  },
  {
   "cell_type": "code",
   "outputs": [],
   "source": [
    "cls2hubs = {}\n",
    "cls2n = centroids_graph_builder.get_cls2n(g)\n",
    "for i, c in enumerate(cms):\n",
    "    for j in cls2n[i]:\n",
    "        if (i, j) in cls2hubs:\n",
    "            continue\n",
    "        a = set()\n",
    "        b = set()\n",
    "        for u in c:\n",
    "            for v in g[u]:\n",
    "                if v in cms[j]:\n",
    "                    a.add(u)\n",
    "                    b.add(v)\n",
    "        cls2hubs[i, j] = a if len(a) < len(b) else b\n",
    "        cls2hubs[j, i] = a if len(a) < len(b) else b"
   ],
   "metadata": {
    "collapsed": false
   },
   "id": "1ae3134a9a2e6ae2",
   "execution_count": null
  },
  {
   "cell_type": "code",
   "outputs": [],
   "source": [
    "cls2hub = {}  # = centroids_graph_builder.get_cls2hubs(g)\n",
    "for i, j in cls2hubs:\n",
    "    if i not in cls2hub:\n",
    "        cls2hub[i] = set()\n",
    "    cls2hub[i].update(cls2hubs[i, j])\n",
    "del cls2hubs"
   ],
   "metadata": {
    "collapsed": false
   },
   "id": "ad09487d7d40493e",
   "execution_count": null
  },
  {
   "cell_type": "code",
   "outputs": [],
   "source": [
    "np.mean([len(c) for c in cls2hub.values()])"
   ],
   "metadata": {
    "collapsed": false
   },
   "id": "6a9d5ba57ebe9672",
   "execution_count": null
  },
  {
   "cell_type": "code",
   "outputs": [],
   "source": [
    "hubs = set([u for v in cls2hub.values() for u in v])"
   ],
   "metadata": {
    "collapsed": false
   },
   "id": "464c5ebab86fa68",
   "execution_count": null
  },
  {
   "cell_type": "code",
   "outputs": [],
   "source": [
    "hub2id = {h: i for i, h in enumerate(hubs)}\n",
    "id2hub = {i: h for i, h in enumerate(hubs)}"
   ],
   "metadata": {
    "collapsed": false
   },
   "id": "5bc9d050aa510b6d",
   "execution_count": null
  },
  {
   "cell_type": "code",
   "outputs": [],
   "source": [
    "len(set(hubs))"
   ],
   "metadata": {
    "collapsed": false
   },
   "id": "d5ca0891f5788ef3",
   "execution_count": null
  },
  {
   "cell_type": "code",
   "outputs": [],
   "source": [
    "def dijkstra_pfa_to_set(graph: nx.Graph,\n",
    "                        start: int,\n",
    "                        ends: set[int]\n",
    "                        ) -> \\\n",
    "        tuple[float, list[int]]:\n",
    "    adjacency = graph._adj\n",
    "    c = count()\n",
    "    push = heappush\n",
    "    pop = heappop\n",
    "    dist = {}\n",
    "    fringe = []\n",
    "\n",
    "    dist[start] = (0.0, None)\n",
    "    push(fringe, (0.0, next(c), start))\n",
    "    visited = set()\n",
    "    \n",
    "    while fringe:\n",
    "        (d, _, v) = pop(fringe)\n",
    "        if v in ends:\n",
    "            visited.add(v)\n",
    "        if len(visited) == len(ends):\n",
    "            break\n",
    "        \n",
    "        for u, e in adjacency[v].items():\n",
    "            vu_dist = d + e['length']\n",
    "            if u not in dist or dist[u][0] > vu_dist:\n",
    "                dist[u] = (vu_dist, v)\n",
    "                push(fringe, (vu_dist, next(c), u))\n",
    "    return dist\n"
   ],
   "metadata": {
    "collapsed": false
   },
   "id": "6966826e5e6cf3ff",
   "execution_count": null
  },
  {
   "cell_type": "code",
   "outputs": [],
   "source": [
    "def cals(data_partitions):\n",
    "    part, hubs, l = data_partitions\n",
    "    dst = np.zeros((l, l))\n",
    "\n",
    "    for u in part:\n",
    "        dst_u = dijkstra_pfa_to_set(g, u, hubs)\n",
    "        for v in hubs:\n",
    "            dst[hub2id[u], hub2id[v]] = dst_u[v][0]\n",
    "    return dst\n",
    "\n",
    "\n",
    "data = [(list(hubs)[i::WORKER], hubs, len(hubs)) for i in range(WORKER)]\n",
    "with Pool(WORKER) as p:\n",
    "    dst = sum(tqdm(p.imap_unordered(cals, data), total=len(data)))"
   ],
   "metadata": {
    "collapsed": false
   },
   "id": "e17f4cedcf254346",
   "execution_count": null
  },
  {
   "cell_type": "code",
   "outputs": [],
   "source": [
    "def cals(data_partitions):\n",
    "    part, l = data_partitions\n",
    "    res = {}\n",
    "    for u in part:\n",
    "        dst_u = dijkstra_pfa_to_set(g, u, cls2hub[g.nodes()[u]['cluster']])\n",
    "        for v in cls2hub[g.nodes()[u]['cluster']]:\n",
    "            node = v\n",
    "            path = [node]\n",
    "            while dst_u[node][1]is not None:\n",
    "                node = dst_u[node][1]\n",
    "                path.append(node)\n",
    "            res[u, v] = dst_u[v][0]#, set(g.nodes()[p]['cluster'] for p in path)\n",
    "    return res\n",
    "\n",
    "data = [(list(g.nodes)[i::WORKER], hubs) for i in range(WORKER)]\n",
    "with Pool(WORKER) as p:\n",
    "    d_nodes = {k: v for d in tqdm(p.imap_unordered(cals, data), total=len(data)) for k, v in d.items()}"
   ],
   "metadata": {
    "collapsed": false
   },
   "id": "bad578e4001b961a",
   "execution_count": null
  },
  {
   "cell_type": "code",
   "outputs": [],
   "source": [
    "from pympler.asizeof import asizeof\n",
    "asizeof(d_nodes)/1024/1024, asizeof(dst)/1024/1024"
   ],
   "metadata": {
    "collapsed": false
   },
   "id": "6b85badd40837657",
   "execution_count": null
  },
  {
   "cell_type": "code",
   "outputs": [],
   "source": [
    "all_paths = dict(nx.all_pairs_dijkstra_path_length(g, weight='length'))"
   ],
   "metadata": {
    "collapsed": false
   },
   "id": "40f62a130e262c90",
   "execution_count": null
  },
  {
   "cell_type": "code",
   "outputs": [],
   "source": [
    "nodes = g.nodes()\n",
    "    "
   ],
   "metadata": {
    "collapsed": false
   },
   "id": "87cde8873b4377fb",
   "execution_count": null
  },
  {
   "cell_type": "code",
   "outputs": [],
   "source": [
    "def dijkstra_pfa_cls(g, u, v):\n",
    "    # return all_paths[u][v] ,[]\n",
    "    c1, c2 = nodes[u]['cluster'], nodes[v]['cluster']\n",
    "    if c1 == c2:\n",
    "        return 0,[]\n",
    "    return min(d_nodes[u, h1] + d_nodes[v, h2] + dst[hub2id[h1], hub2id[h2]] for h1 in cls2hub[c1] for h2 in cls2hub[c2]), []"
   ],
   "metadata": {
    "collapsed": false
   },
   "id": "aaa85e3ce1ab4772",
   "execution_count": null
  },
  {
   "cell_type": "code",
   "outputs": [],
   "source": [
    "def dijkstra_pfa(graph: nx.Graph,\n",
    "                 start: int,\n",
    "                 end: int) -> \\\n",
    "        tuple[float, list[int]]:\n",
    "    if start == end:\n",
    "        return 0, [start]\n",
    "    adjacency = graph._adj\n",
    "    nodes = graph.nodes()\n",
    "    c = count()\n",
    "    push = heappush\n",
    "    pop = heappop\n",
    "    dist = {}\n",
    "    pred = {}\n",
    "    fringe = []\n",
    "    push(fringe, (0,0.0, next(c), 0, start, None))\n",
    "    while fringe:\n",
    "        (_,d, _, n, v, p) = pop(fringe)\n",
    "        if v in dist:\n",
    "            continue\n",
    "        dist[v] = (d, n)\n",
    "        pred[v] = p\n",
    "        if v == end:\n",
    "            break\n",
    "        for u, e in adjacency[v].items():\n",
    "            \n",
    "            l = dijkstra_pfa_cls(g, u,end)[0]\n",
    "            vu_dist = d + e['length']\n",
    "            \n",
    "            if u not in dist:\n",
    "                push(fringe, (vu_dist + l,vu_dist, next(c), n + 1, u, v))\n",
    "    d, n = dist[end]\n",
    "    n += 1\n",
    "    path = [None] * n\n",
    "    i = n - 1\n",
    "    e = end\n",
    "    while i >= 0:\n",
    "        path[i] = e\n",
    "        i -= 1\n",
    "        e = pred[e]\n",
    "    return d, path\n"
   ],
   "metadata": {
    "collapsed": false
   },
   "id": "7b8d6a3c475931b1",
   "execution_count": null
  },
  {
   "cell_type": "code",
   "outputs": [],
   "source": [
    "# points = [(u,v) for u in g.nodes() for v in g.nodes() if u!=v]\n",
    "points = [utils.get_node_for_initial_graph_v2(g) for _ in trange(100, desc='generate points')]"
   ],
   "metadata": {
    "collapsed": false
   },
   "id": "c4102bdcb9677bd8",
   "execution_count": null
  },
  {
   "cell_type": "code",
   "outputs": [],
   "source": [
    "@utils.profile(iterations=NUM_ITERATION)\n",
    "def usual_path(g, p1, p2):\n",
    "    return nx.single_source_dijkstra(g, p1, p2, weight='length')\n",
    "\n",
    "\n",
    "@utils.profile(iterations=NUM_ITERATION)\n",
    "def h_path(g, p1, p2):\n",
    "    return dijkstra_pfa(g, p1, p2)\n",
    "\n",
    "\n",
    "def do_calc(data_partitions):\n",
    "    point_partition, worker_number = data_partitions\n",
    "\n",
    "    stat = {\n",
    "        'l': [],\n",
    "        'h_l': [],\n",
    "        'p': [],\n",
    "        'h_p': [],\n",
    "        'time_l': [],\n",
    "        'time_h': [],\n",
    "        'delta': []\n",
    "    }\n",
    "\n",
    "    # чисто чтобы tqdm нормально прогрузился \n",
    "    sleep(worker_number / 10)\n",
    "    print('start', worker_number)\n",
    "\n",
    "    for p1, p2 in tqdm(\n",
    "            point_partition,\n",
    "            desc=f'find paths {worker_number}',\n",
    "            position=worker_number\n",
    "    ):\n",
    "        # класический дейкстра\n",
    "        time_l, (l, p) = usual_path(g, p1, p2)\n",
    "        # иерархический\n",
    "        time_h, (h_l, h_p) = h_path(g, p1, p2)\n",
    "        delta = (h_l - l) / l * 100\n",
    "\n",
    "        stat['l'].append(l)  # длина обычного пути\n",
    "        stat['h_l'].append(h_l)  # длина иерархического пути\n",
    "        stat['p'].append(p)  # обычный путь\n",
    "        stat['h_p'].append(h_p)  # иерархический путь\n",
    "        stat['delta'].append(delta)  # разница в длине\n",
    "        stat['time_l'].append(time_l)  # обычное время \n",
    "        stat['time_h'].append(time_h)  # иерархическое\n",
    "    return stat\n",
    "\n",
    "\n",
    "data = [([p for p in points[i::WORKER]], i) for i in range(WORKER)]\n",
    "# do_calc(data[0])\n",
    "with Pool(WORKER) as p:\n",
    "    stat = {k: v for r in p.imap_unordered(do_calc, data) for k, v in r.items()}\n",
    "\n",
    "print(f\"err_mean: {np.mean(stat['delta']):.2f} %\")\n",
    "print(f\"err_min: {np.min(stat['delta']):.2f} %\")\n",
    "print(f\"err_max: {np.max(stat['delta']):.2f} %\", )\n",
    "print(f\"acceleration: {np.mean(np.array(stat['time_l']) / np.array(stat['time_h'])):.2f} times\")"
   ],
   "metadata": {
    "collapsed": false
   },
   "id": "7312717ee99a6dc",
   "execution_count": null
  },
  {
   "cell_type": "code",
   "outputs": [],
   "source": [
    "acceleration = np.array(stat['time_l']) / np.array(stat['time_h'])\n",
    "plt.boxplot(acceleration)"
   ],
   "metadata": {
    "collapsed": false
   },
   "id": "a80092fd1889e9c1",
   "execution_count": null
  },
  {
   "cell_type": "code",
   "outputs": [],
   "source": [
    "idx = np.argmax(stat['delta'])"
   ],
   "metadata": {
    "collapsed": false
   },
   "id": "78b49900e478c313",
   "execution_count": null
  },
  {
   "cell_type": "code",
   "outputs": [],
   "source": [
    "p1,p2 = stat['l'][idx], stat['h_l'][idx]"
   ],
   "metadata": {
    "collapsed": false
   },
   "id": "36ddfeff53486881",
   "execution_count": null
  },
  {
   "cell_type": "code",
   "outputs": [],
   "source": [
    "p1,p2"
   ],
   "metadata": {
    "collapsed": false
   },
   "id": "d09f7ee15e3efdd7",
   "execution_count": null
  },
  {
   "cell_type": "code",
   "outputs": [],
   "source": [],
   "metadata": {
    "collapsed": false
   },
   "id": "bd9bb2d99efe921f",
   "execution_count": null
  },
  {
   "cell_type": "code",
   "outputs": [],
   "source": [
    "p = stat['p'][idx]\n",
    "hp = stat['h_p'][idx]\n",
    "len(p), len(hp)"
   ],
   "metadata": {
    "collapsed": false
   },
   "id": "cafd5de1ef91d609",
   "execution_count": null
  },
  {
   "cell_type": "code",
   "outputs": [],
   "source": [
    "u,v = p[0],p[-1]"
   ],
   "metadata": {
    "collapsed": false
   },
   "id": "c11ef954f3a8dfad",
   "execution_count": null
  },
  {
   "cell_type": "code",
   "outputs": [],
   "source": [
    "dijkstra_pfa(g,u,v)"
   ],
   "metadata": {
    "collapsed": false
   },
   "id": "efc8af32ead072f8",
   "execution_count": null
  },
  {
   "cell_type": "code",
   "outputs": [],
   "source": [
    "u,v"
   ],
   "metadata": {
    "collapsed": false
   },
   "id": "e5079608abf35c99",
   "execution_count": null
  },
  {
   "cell_type": "code",
   "outputs": [],
   "source": [
    "bi_dijkstra_pfa(g, u,v)"
   ],
   "metadata": {
    "collapsed": false
   },
   "id": "a3bd2303d0b22063",
   "execution_count": null
  },
  {
   "cell_type": "code",
   "outputs": [],
   "source": [],
   "metadata": {
    "collapsed": false
   },
   "id": "af6466687a20544e"
  }
 ],
 "metadata": {
  "kernelspec": {
   "display_name": "Python 3 (ipykernel)",
   "language": "python",
   "name": "python3"
  },
  "language_info": {
   "codemirror_mode": {
    "name": "ipython",
    "version": 3
   },
   "file_extension": ".py",
   "mimetype": "text/x-python",
   "name": "python",
   "nbconvert_exporter": "python",
   "pygments_lexer": "ipython3",
   "version": "3.10.12"
  }
 },
 "nbformat": 4,
 "nbformat_minor": 5
}
