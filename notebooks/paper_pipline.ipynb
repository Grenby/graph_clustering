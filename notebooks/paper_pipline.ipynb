{
 "cells": [
  {
   "cell_type": "code",
   "outputs": [],
   "source": [
    "import logging\n",
    "import sys\n",
    "\n",
    "root = logging.getLogger()\n",
    "root.setLevel(logging.INFO)\n",
    "\n",
    "handler = logging.StreamHandler(sys.stdout)\n",
    "handler.setLevel(logging.INFO)\n",
    "formatter = logging.Formatter('%(asctime)s - %(name)s - %(levelname)s - %(message)s')\n",
    "handler.setFormatter(formatter)\n",
    "root.addHandler(handler)"
   ],
   "metadata": {
    "collapsed": false,
    "ExecuteTime": {
     "end_time": "2024-12-23T12:22:48.016989Z",
     "start_time": "2024-12-23T12:22:48.008205Z"
    }
   },
   "id": "dde76cebf871e8c3",
   "execution_count": 1
  },
  {
   "cell_type": "code",
   "outputs": [],
   "source": [
    "import sys\n",
    "\n",
    "sys.path.append('../scripts')\n",
    "sys.path.append('../')\n",
    "\n",
    "from scripts import graph_osm_loader\n",
    "from scripts import pipeline, centroids_graph_builder, clustering\n",
    "from scripts.path_findings import excraction_pfa, dijkstra_pfa\n",
    "from scripts import utils\n",
    "import scripts"
   ],
   "metadata": {
    "collapsed": false,
    "ExecuteTime": {
     "end_time": "2024-12-23T12:22:48.948514Z",
     "start_time": "2024-12-23T12:22:48.030705Z"
    }
   },
   "id": "e9ed6a4c09332b67",
   "execution_count": 2
  },
  {
   "cell_type": "code",
   "outputs": [
    {
     "name": "stdout",
     "output_type": "stream",
     "text": [
      "723 1046\n"
     ]
    }
   ],
   "source": [
    "GRAPH_ID = 'R13470549'  # R13470549 R2555133 R3766483\n",
    "# примеры id есть в graph_osm_loader.py\n",
    "g = graph_osm_loader.get_graph(GRAPH_ID)\n",
    "print(len(g.nodes), len(g.edges))"
   ],
   "metadata": {
    "collapsed": false,
    "ExecuteTime": {
     "end_time": "2024-12-23T12:22:48.958052Z",
     "start_time": "2024-12-23T12:22:48.950386Z"
    }
   },
   "id": "f3d83b1cd99d1de9",
   "execution_count": 3
  },
  {
   "cell_type": "code",
   "outputs": [],
   "source": [
    "points = utils.read_points(GRAPH_ID, g, num=1000)"
   ],
   "metadata": {
    "collapsed": false,
    "ExecuteTime": {
     "end_time": "2024-12-23T12:22:48.964458Z",
     "start_time": "2024-12-23T12:22:48.960385Z"
    }
   },
   "id": "362ff279af79b465",
   "execution_count": 4
  },
  {
   "cell_type": "code",
   "outputs": [],
   "source": [
    "nodes = g.nodes()"
   ],
   "metadata": {
    "collapsed": false,
    "ExecuteTime": {
     "end_time": "2024-12-23T12:22:48.970800Z",
     "start_time": "2024-12-23T12:22:48.967594Z"
    }
   },
   "id": "50abdb860b170c92",
   "execution_count": 5
  },
  {
   "cell_type": "code",
   "outputs": [],
   "source": [
    "import numpy as np\n",
    "\n",
    "\n",
    "def dst(da, db):\n",
    "    return ((da['x'] - db['x']) ** 2 + (da['y'] - db['y']) ** 2) ** 0.5 / 360 * 2 * np.pi * 6371.01 * 1000 * 0.56\n",
    "\n",
    "\n",
    "def node_dst(u, v):\n",
    "    da = nodes[u]\n",
    "    db = nodes[v]\n",
    "    return dst(da, db)"
   ],
   "metadata": {
    "collapsed": false,
    "ExecuteTime": {
     "end_time": "2024-12-23T12:22:48.977988Z",
     "start_time": "2024-12-23T12:22:48.972999Z"
    }
   },
   "id": "e3e09a91603a5c7d",
   "execution_count": 6
  },
  {
   "cell_type": "code",
   "outputs": [
    {
     "data": {
      "text/plain": "find centroids:   0%|          | 0/143 [00:00<?, ?it/s]",
      "application/vnd.jupyter.widget-view+json": {
       "version_major": 2,
       "version_minor": 0,
       "model_id": "07fb04e20ced4eb59489d7f080317859"
      }
     },
     "metadata": {},
     "output_type": "display_data"
    },
    {
     "data": {
      "text/plain": "find edges:   0%|          | 0/143 [00:00<?, ?it/s]",
      "application/vnd.jupyter.widget-view+json": {
       "version_major": 2,
       "version_minor": 0,
       "model_id": "d920f3f305474a6998204e9c50962718"
      }
     },
     "metadata": {},
     "output_type": "display_data"
    },
    {
     "name": "stdout",
     "output_type": "stream",
     "text": [
      "2024-12-23 15:22:58,638 - root - INFO - cms: 26\n"
     ]
    },
    {
     "data": {
      "text/plain": "  0%|          | 0/723 [00:00<?, ?it/s]",
      "application/vnd.jupyter.widget-view+json": {
       "version_major": 2,
       "version_minor": 0,
       "model_id": "b172118a897b48d3862e5acf00a4bdf2"
      }
     },
     "metadata": {},
     "output_type": "display_data"
    }
   ],
   "source": [
    "from scripts.path_findings.alt_builder import RandomAltBuilder, ClusterAltBuilder\n",
    "\n",
    "cms_resolver = clustering.LouvainCommunityResolver(resolution=25)\n",
    "cg = centroids_graph_builder.CentroidGraphBuilder().build(g, cms_resolver)\n",
    "\n",
    "baseline = dijkstra_pfa.Dijkstra(g)\n",
    "\n",
    "# test_alg = excraction_pfa.ExtractionPfa(\n",
    "#     g = g,\n",
    "#     cg=cg,\n",
    "#     upper=dijkstra_pfa.Dijkstra(cg.g),\n",
    "#     down=dijkstra_pfa.Dijkstra(g)\n",
    "# )\n",
    "\n",
    "\n",
    "# test_alg = dijkstra_pfa.AStar(\n",
    "#     g = g,\n",
    "#     h = node_dst\n",
    "# )\n",
    "test_alg = ClusterAltBuilder(1).build_ch_pfa(g)"
   ],
   "metadata": {
    "collapsed": false,
    "ExecuteTime": {
     "end_time": "2024-12-23T12:23:00.331051Z",
     "start_time": "2024-12-23T12:22:58.345660Z"
    }
   },
   "id": "4325b5d0ed6e8858",
   "execution_count": 10
  },
  {
   "cell_type": "code",
   "outputs": [
    {
     "name": "stdout",
     "output_type": "stream",
     "text": [
      "start 0\n"
     ]
    },
    {
     "data": {
      "text/plain": "find paths:   0%|          | 0/250 [00:00<?, ?it/s]",
      "application/vnd.jupyter.widget-view+json": {
       "version_major": 2,
       "version_minor": 0,
       "model_id": "28cdbd4b46524eeda6b5410b17ccbdb6"
      }
     },
     "metadata": {},
     "output_type": "display_data"
    },
    {
     "name": "stdout",
     "output_type": "stream",
     "text": [
      "start 1\n"
     ]
    },
    {
     "data": {
      "text/plain": "find paths:   0%|          | 0/250 [00:00<?, ?it/s]",
      "application/vnd.jupyter.widget-view+json": {
       "version_major": 2,
       "version_minor": 0,
       "model_id": "20ccc4ae133047e691ed175a50cf56bb"
      }
     },
     "metadata": {},
     "output_type": "display_data"
    },
    {
     "name": "stdout",
     "output_type": "stream",
     "text": [
      "start 2\n"
     ]
    },
    {
     "data": {
      "text/plain": "find paths:   0%|          | 0/250 [00:00<?, ?it/s]",
      "application/vnd.jupyter.widget-view+json": {
       "version_major": 2,
       "version_minor": 0,
       "model_id": "8bc8e94c28ad4a039ea0ac600dfa5f96"
      }
     },
     "metadata": {},
     "output_type": "display_data"
    },
    {
     "name": "stdout",
     "output_type": "stream",
     "text": [
      "start 3\n"
     ]
    },
    {
     "data": {
      "text/plain": "find paths:   0%|          | 0/250 [00:00<?, ?it/s]",
      "application/vnd.jupyter.widget-view+json": {
       "version_major": 2,
       "version_minor": 0,
       "model_id": "acdc4c93f3f14613b28b699eda6db6e1"
      }
     },
     "metadata": {},
     "output_type": "display_data"
    }
   ],
   "source": [
    "stat = pipeline.PfaComparator(\n",
    "    baseline=baseline,\n",
    "    test_algorithm=test_alg,\n",
    "    points=points,\n",
    "    workers=4\n",
    ").compare()"
   ],
   "metadata": {
    "collapsed": false,
    "ExecuteTime": {
     "end_time": "2024-12-23T12:23:03.778527Z",
     "start_time": "2024-12-23T12:23:00.333132Z"
    }
   },
   "id": "ae3121ce02585050",
   "execution_count": 11
  },
  {
   "cell_type": "code",
   "outputs": [
    {
     "data": {
      "text/plain": "\n        err_max:    0.0000\n        err_min:    0.0000\n        err_median: 0.0000\n        err_mean:   0.0000\n        \n        acceleration_max:    6.5789\n        acceleration_min:    0.1615\n        acceleration_median: 1.1094\n        acceleration_mean:   1.2626\n        "
     },
     "execution_count": 12,
     "metadata": {},
     "output_type": "execute_result"
    }
   ],
   "source": [
    "stat"
   ],
   "metadata": {
    "collapsed": false,
    "ExecuteTime": {
     "end_time": "2024-12-23T12:23:03.787055Z",
     "start_time": "2024-12-23T12:23:03.780590Z"
    }
   },
   "id": "987dc47fb30c404",
   "execution_count": 12
  },
  {
   "cell_type": "code",
   "outputs": [],
   "source": [],
   "metadata": {
    "collapsed": false,
    "ExecuteTime": {
     "end_time": "2024-12-23T12:22:54.565482Z",
     "start_time": "2024-12-23T12:22:54.562027Z"
    }
   },
   "id": "a693144e02e9f060",
   "execution_count": 9
  }
 ],
 "metadata": {
  "kernelspec": {
   "display_name": "Python 3",
   "language": "python",
   "name": "python3"
  },
  "language_info": {
   "codemirror_mode": {
    "name": "ipython",
    "version": 2
   },
   "file_extension": ".py",
   "mimetype": "text/x-python",
   "name": "python",
   "nbconvert_exporter": "python",
   "pygments_lexer": "ipython2",
   "version": "2.7.6"
  }
 },
 "nbformat": 4,
 "nbformat_minor": 5
}
