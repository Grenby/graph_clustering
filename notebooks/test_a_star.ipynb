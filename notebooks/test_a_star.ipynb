{
 "cells": [
  {
   "cell_type": "code",
   "execution_count": 119,
   "id": "initial_id",
   "metadata": {
    "collapsed": true,
    "ExecuteTime": {
     "end_time": "2024-10-02T20:48:36.858662Z",
     "start_time": "2024-10-02T20:48:36.854948Z"
    }
   },
   "outputs": [],
   "source": [
    "import networkx as nx\n",
    "import pandas\n",
    "from tqdm import trange, tqdm\n",
    "import graph_generator\n",
    "import numpy as np\n",
    "import random\n",
    "from matplotlib import pyplot as plt\n",
    "import osmnx as ox"
   ]
  },
  {
   "cell_type": "markdown",
   "source": [],
   "metadata": {
    "collapsed": false
   },
   "id": "b3a8bf6d68200a29"
  },
  {
   "cell_type": "code",
   "outputs": [],
   "source": [
    "def get_statistic_per_point(graph: nx.Graph, c_from: int, c_to: int, _cls2hubs: dict[int:set[int]], log = False):\n",
    "    nodes_from = _cls2hubs[c_from]\n",
    "    nodes_to = _cls2hubs[c_to]\n",
    "    statistic = {}\n",
    "    generator = tqdm(nodes_from, desc='find statistic') if log else nodes_from \n",
    "    for f in generator:\n",
    "        statistic[f] = {}\n",
    "        for t in nodes_to:\n",
    "            p = nx.single_source_dijkstra(graph, f,t,weight='length')\n",
    "            cls = list(dict.fromkeys([int(graph.nodes()[u]['cluster']) for u in p[1]])) \n",
    "            cls = tuple(cls)\n",
    "            if cls not in statistic[f]:\n",
    "                statistic[f][cls] = 0\n",
    "            statistic[f][cls] += 1\n",
    "    return statistic"
   ],
   "metadata": {
    "collapsed": false,
    "ExecuteTime": {
     "end_time": "2024-10-02T20:48:36.954951Z",
     "start_time": "2024-10-02T20:48:36.948604Z"
    }
   },
   "id": "6c9b2ee661caaab7",
   "execution_count": 120
  },
  {
   "cell_type": "code",
   "outputs": [],
   "source": [
    "def get_cls2n(graph: nx.Graph)-> dict[int: set[int]]:\n",
    "    _cls2n = {}\n",
    "    for u, du in graph.nodes(data=True):\n",
    "        for v in graph[u]:\n",
    "            dv = graph.nodes()[v]\n",
    "            if dv['cluster'] == du['cluster']:\n",
    "                continue\n",
    "            c1 = dv['cluster']\n",
    "            c2 = du['cluster']\n",
    "            if not (c1 in _cls2n):\n",
    "                _cls2n[c1] = set()\n",
    "            if not (c2 in _cls2n):\n",
    "                _cls2n[c2] = set()\n",
    "            _cls2n[c1].add(c2)\n",
    "            _cls2n[c2].add(c1)\n",
    "    return _cls2n\n",
    "\n",
    "def get_cls2hubs(graph: nx.Graph)-> dict[int: set[int]]:\n",
    "    _cls2hubs = {}\n",
    "    for u, du in graph.nodes(data=True):\n",
    "        for v in graph[u]:\n",
    "            dv = graph.nodes()[v]\n",
    "            c1 = du['cluster']\n",
    "            c2 = dv['cluster']\n",
    "            if c1 == c2:\n",
    "                continue\n",
    "            if not (c1 in _cls2hubs):\n",
    "                _cls2hubs[c1] = set()\n",
    "            if not (c2 in _cls2hubs):\n",
    "                _cls2hubs[c2] = set()\n",
    "            _cls2hubs[c1].add(u)\n",
    "            _cls2hubs[c2].add(v)\n",
    "    return _cls2hubs\n",
    "\n",
    "def get_ad_matrix(\n",
    "        graph:nx.Graph,\n",
    "        communities: list[set[int]],\n",
    "        cls2hubs,\n",
    "        cls2n\n",
    ")->dict[int: dict[int:set[int]]]:\n",
    "    ad_matrix = {}\n",
    "    for i in trange(0,len(communities)):\n",
    "        ad_matrix[i] = {}\n",
    "        for j in cls2n[i]:\n",
    "            data = get_statistic_per_point(graph, i,j,cls2hubs,False)\n",
    "            ss= set()\n",
    "            for k,v in data.items():\n",
    "                for kk, vv in v.items():\n",
    "                    ss.add(kk)\n",
    "            cls0to1 = set()\n",
    "            for ii in ss:\n",
    "                for jj in ii:\n",
    "                    cls0to1.add(jj)\n",
    "            ad_matrix[i][j] = cls0to1\n",
    "    return ad_matrix\n",
    "\n",
    "def build_center_graph(\n",
    "        graph: nx.Graph,\n",
    "        communities: list[set[int]],\n",
    "        adjacency: dict[int:dict[int, set[int]]],\n",
    "        cls2n: dict[int: set[int]]\n",
    ") -> tuple[nx.Graph, dict[int, int]]:\n",
    "    \"\"\"\n",
    "        строим граф центройд по комьюнити для графа G\n",
    "    \"\"\"\n",
    "    x_graph = nx.Graph()\n",
    "    cls2c = {}\n",
    "    for cls, _ in enumerate(communities):\n",
    "        gc = extract_cluster_list_subgraph(graph, [cls], communities)\n",
    "        min_node = nx.barycenter(gc, weight='length')[0]\n",
    "        du = graph.nodes()[min_node]\n",
    "        x_graph.add_node(graph.nodes()[min_node]['cluster'], **du)\n",
    "        cls2c[graph.nodes()[min_node]['cluster']] = min_node\n",
    "        \n",
    "    if len(x_graph.nodes) == 1:\n",
    "        return x_graph, cls2c\n",
    "    \n",
    "    for u in x_graph.nodes():\n",
    "        for v in cls2n[u]:\n",
    "            g = extract_cluster_list_subgraph(graph, adjacency[u][v], communities)\n",
    "            l = nx.single_source_dijkstra(g, source=cls2c[u],target=cls2c[v], weight='length')[0]\n",
    "            x_graph.add_edge(u,v,length = l)\n",
    "    return x_graph,cls2c\n",
    "\n",
    "\n"
   ],
   "metadata": {
    "collapsed": false,
    "ExecuteTime": {
     "end_time": "2024-10-02T20:48:36.975946Z",
     "start_time": "2024-10-02T20:48:36.965742Z"
    }
   },
   "id": "236db12a822b1cb6",
   "execution_count": 121
  },
  {
   "cell_type": "code",
   "outputs": [],
   "source": [
    "def get_graph(city_id: str = 'R2555133') -> nx.Graph:\n",
    "    gdf = ox.geocode_to_gdf(city_id, by_osmid=True)\n",
    "    polygon_boundary = gdf.unary_union\n",
    "    graph = ox.graph_from_polygon(polygon_boundary,\n",
    "                                  network_type='drive',\n",
    "                                  simplify=True)\n",
    "    G = nx.Graph(graph)\n",
    "    H = nx.Graph()\n",
    "    # Добавляем рёбра в новый граф, копируя только веса\n",
    "    for u, d in G.nodes(data=True):\n",
    "        H.add_node(u, x=d['x'], y=d['y'])\n",
    "    for u, v, d in G.edges(data=True):\n",
    "        if u == v:\n",
    "            continue\n",
    "        H.add_edge(u, v, length=d['length'])\n",
    "    del city_id, gdf, polygon_boundary, graph, G\n",
    "    return H\n",
    "\n",
    "def extract_cluster_list_subgraph(graph: nx.Graph, cluster_number: list[int] | set[int], communities=None) -> nx.Graph:\n",
    "    if communities:\n",
    "        nodes_to_keep = [u for c in cluster_number for u in communities[c]]\n",
    "    else:\n",
    "        nodes_to_keep = [node for node, data in graph.nodes(data=True) if data['cluster'] in cluster_number]\n",
    "    return graph.subgraph(nodes_to_keep)\n",
    "\n",
    "def resolve_communities(H: nx.Graph, **params) -> list[set[int]]:\n",
    "    communities = nx.community.louvain_communities(H,\n",
    "                                                       seed=1534,\n",
    "                                                       weight='length',\n",
    "                                                       resolution=params['r'])\n",
    "    cls = []\n",
    "    for i, c in enumerate(communities):\n",
    "        for n in nx.connected_components(H.subgraph(c)):\n",
    "            cls.append(n)\n",
    "    for i, ids in enumerate(cls):\n",
    "        for j in ids:\n",
    "            H.nodes()[j]['cluster'] = i\n",
    "    return cls"
   ],
   "metadata": {
    "collapsed": false,
    "ExecuteTime": {
     "end_time": "2024-10-02T20:48:36.981049Z",
     "start_time": "2024-10-02T20:48:36.976788Z"
    }
   },
   "id": "769b8cceb07d0805",
   "execution_count": 122
  },
  {
   "cell_type": "markdown",
   "source": [
    "Path Finding Alg"
   ],
   "metadata": {
    "collapsed": false
   },
   "id": "78737cdaf362b62b"
  },
  {
   "cell_type": "code",
   "outputs": [],
   "source": [
    "def find_path_length_h(\n",
    "        g0: nx.Graph,\n",
    "        g1: nx.Graph,\n",
    "        adjacency: dict[int,dict[int:set[int]]],\n",
    "        cms: list[set[int]] | tuple[set[int]],\n",
    "        cls2c: dict[int:int],\n",
    "        from_node: int,\n",
    "        to_node: int,\n",
    "        cls2n:dict[int,set[int]] ) -> float:\n",
    "    from_cluster = g0.nodes()[from_node]['cluster']\n",
    "    to_cluster = g0.nodes()[to_node]['cluster']\n",
    "\n",
    "    path = nx.single_source_dijkstra(g1, from_cluster, to_cluster, weight='length')[1]\n",
    "    cls = set()\n",
    "    cls.add(to_cluster)\n",
    "    for i in range(len(path) - 1):\n",
    "        u = path[i]\n",
    "        v = path[i + 1]\n",
    "        cu = g0.nodes()[cls2c[u]]['cluster']\n",
    "        cv = g0.nodes()[cls2c[v]]['cluster']\n",
    "        for c in adjacency[cu][cv]:\n",
    "            cls.add(c)\n",
    "        cls.add(cu)\n",
    "        cls.add(cv)\n",
    "    g = extract_cluster_list_subgraph(g0, cls, cms)\n",
    "    return nx.single_source_dijkstra(g, from_node, to_node, weight='length')\n"
   ],
   "metadata": {
    "collapsed": false,
    "ExecuteTime": {
     "end_time": "2024-10-02T20:48:36.991464Z",
     "start_time": "2024-10-02T20:48:36.988573Z"
    }
   },
   "id": "acb0f5d59ba73b3f",
   "execution_count": 123
  },
  {
   "cell_type": "code",
   "outputs": [],
   "source": [
    "g = get_graph('R2555133')"
   ],
   "metadata": {
    "collapsed": false,
    "ExecuteTime": {
     "end_time": "2024-10-02T20:48:53.438129Z",
     "start_time": "2024-10-02T20:48:36.992029Z"
    }
   },
   "id": "b219e78cf93171f5",
   "execution_count": 124
  },
  {
   "cell_type": "code",
   "outputs": [
    {
     "name": "stdout",
     "output_type": "stream",
     "text": [
      "507\n"
     ]
    }
   ],
   "source": [
    "cms = resolve_communities(g, r = 10)\n",
    "print(len(cms))"
   ],
   "metadata": {
    "collapsed": false,
    "ExecuteTime": {
     "end_time": "2024-10-02T20:48:54.338705Z",
     "start_time": "2024-10-02T20:48:53.438991Z"
    }
   },
   "id": "23c1a5d32d570651",
   "execution_count": 125
  },
  {
   "cell_type": "code",
   "outputs": [],
   "source": [
    "cls2n = get_cls2n(g)\n",
    "cls2hubs = get_cls2hubs(g)"
   ],
   "metadata": {
    "collapsed": false,
    "ExecuteTime": {
     "end_time": "2024-10-02T20:48:54.402863Z",
     "start_time": "2024-10-02T20:48:54.339346Z"
    }
   },
   "id": "718024858ba64653",
   "execution_count": 126
  },
  {
   "cell_type": "code",
   "outputs": [
    {
     "name": "stdout",
     "output_type": "stream",
     "text": [
      "332002257 {'length': 46.84}\n",
      "339588494 {'length': 123.86099999999999}\n",
      "12035249579 {'length': 34.846000000000004}\n",
      "{332002257: {'length': 46.84}, 339588494: {'length': 123.86099999999999}, 12035249579: {'length': 34.846000000000004}}\n"
     ]
    }
   ],
   "source": [
    "for u, du in g[12035249578].items():\n",
    "    # du = g.nodes()[u]\n",
    "    print(u, du)\n",
    "print(g[12035249578])"
   ],
   "metadata": {
    "collapsed": false,
    "ExecuteTime": {
     "end_time": "2024-10-02T20:48:54.410057Z",
     "start_time": "2024-10-02T20:48:54.404672Z"
    }
   },
   "id": "afc13d38287e881b",
   "execution_count": 127
  },
  {
   "cell_type": "code",
   "outputs": [
    {
     "name": "stderr",
     "output_type": "stream",
     "text": [
      "100%|██████████| 507/507 [08:01<00:00,  1.05it/s]\n"
     ]
    }
   ],
   "source": [
    "ad_mat = get_ad_matrix(g, cms, cls2hubs, cls2n)"
   ],
   "metadata": {
    "collapsed": false,
    "ExecuteTime": {
     "end_time": "2024-10-02T20:56:55.497015Z",
     "start_time": "2024-10-02T20:48:54.410861Z"
    }
   },
   "id": "d8b83f4d7f12f6c3",
   "execution_count": 128
  },
  {
   "cell_type": "code",
   "outputs": [
    {
     "name": "stdout",
     "output_type": "stream",
     "text": [
      "{80260458, 264445099, 1995685907, 338867740, 80260477}\n"
     ]
    }
   ],
   "source": [
    "print(cls2hubs[0])"
   ],
   "metadata": {
    "collapsed": false,
    "ExecuteTime": {
     "end_time": "2024-10-02T20:56:55.499948Z",
     "start_time": "2024-10-02T20:56:55.497803Z"
    }
   },
   "id": "1f72ba0af7883d42",
   "execution_count": 129
  },
  {
   "cell_type": "code",
   "outputs": [],
   "source": [
    "g1, cls2c = build_center_graph(g, cms, ad_mat, cls2n)"
   ],
   "metadata": {
    "collapsed": false,
    "ExecuteTime": {
     "end_time": "2024-10-02T20:56:59.605467Z",
     "start_time": "2024-10-02T20:56:55.500503Z"
    }
   },
   "id": "3ad500622fb7b60e",
   "execution_count": 130
  },
  {
   "cell_type": "code",
   "outputs": [
    {
     "name": "stderr",
     "output_type": "stream",
     "text": [
      "generate points: 100%|██████████| 10000/10000 [00:00<00:00, 13215.27it/s]\n"
     ]
    }
   ],
   "source": [
    "def get_node_for_initial_graph_v2(graph: nx.Graph):\n",
    "    nodes = list(graph.nodes())\n",
    "    f, t = random.choice(nodes), random.choice(nodes)\n",
    "    while f == t:\n",
    "        f, t = random.choice(nodes), random.choice(nodes)\n",
    "    return f, t\n",
    "\n",
    "points = [get_node_for_initial_graph_v2(g) for _ in trange(10_000, desc='generate points')]"
   ],
   "metadata": {
    "collapsed": false,
    "ExecuteTime": {
     "end_time": "2024-10-02T20:57:00.367617Z",
     "start_time": "2024-10-02T20:56:59.606550Z"
    }
   },
   "id": "950e8ced345d955d",
   "execution_count": 131
  },
  {
   "cell_type": "code",
   "outputs": [],
   "source": [],
   "metadata": {
    "collapsed": false,
    "ExecuteTime": {
     "end_time": "2024-10-02T20:57:00.369965Z",
     "start_time": "2024-10-02T20:57:00.368222Z"
    }
   },
   "id": "794616aaec2f6de5",
   "execution_count": 131
  },
  {
   "cell_type": "code",
   "outputs": [
    {
     "ename": "KeyError",
     "evalue": "'The edge (988, 1121) is not in the graph.'",
     "output_type": "error",
     "traceback": [
      "\u001B[0;31m---------------------------------------------------------------------------\u001B[0m",
      "\u001B[0;31mKeyError\u001B[0m                                  Traceback (most recent call last)",
      "File \u001B[0;32m~/programming/graph_clustering/venv/lib/python3.10/site-packages/networkx/classes/reportviews.py:1088\u001B[0m, in \u001B[0;36mOutEdgeView.__getitem__\u001B[0;34m(self, e)\u001B[0m\n\u001B[1;32m   1087\u001B[0m \u001B[38;5;28;01mtry\u001B[39;00m:\n\u001B[0;32m-> 1088\u001B[0m     \u001B[38;5;28;01mreturn\u001B[39;00m \u001B[38;5;28;43mself\u001B[39;49m\u001B[38;5;241;43m.\u001B[39;49m\u001B[43m_adjdict\u001B[49m\u001B[43m[\u001B[49m\u001B[43mu\u001B[49m\u001B[43m]\u001B[49m[v]\n\u001B[1;32m   1089\u001B[0m \u001B[38;5;28;01mexcept\u001B[39;00m \u001B[38;5;167;01mKeyError\u001B[39;00m \u001B[38;5;28;01mas\u001B[39;00m ex:  \u001B[38;5;66;03m# Customize msg to indicate exception origin\u001B[39;00m\n",
      "\u001B[0;31mKeyError\u001B[0m: 988",
      "\nDuring handling of the above exception, another exception occurred:\n",
      "\u001B[0;31mKeyError\u001B[0m                                  Traceback (most recent call last)",
      "Cell \u001B[0;32mIn[132], line 1\u001B[0m\n\u001B[0;32m----> 1\u001B[0m \u001B[38;5;28mprint\u001B[39m(\u001B[43mg1\u001B[49m\u001B[38;5;241;43m.\u001B[39;49m\u001B[43medges\u001B[49m\u001B[43m[\u001B[49m\u001B[43m(\u001B[49m\u001B[38;5;241;43m988\u001B[39;49m\u001B[43m,\u001B[49m\u001B[43m \u001B[49m\u001B[38;5;241;43m1121\u001B[39;49m\u001B[43m)\u001B[49m\u001B[43m]\u001B[49m)\n",
      "File \u001B[0;32m~/programming/graph_clustering/venv/lib/python3.10/site-packages/networkx/classes/reportviews.py:1090\u001B[0m, in \u001B[0;36mOutEdgeView.__getitem__\u001B[0;34m(self, e)\u001B[0m\n\u001B[1;32m   1088\u001B[0m     \u001B[38;5;28;01mreturn\u001B[39;00m \u001B[38;5;28mself\u001B[39m\u001B[38;5;241m.\u001B[39m_adjdict[u][v]\n\u001B[1;32m   1089\u001B[0m \u001B[38;5;28;01mexcept\u001B[39;00m \u001B[38;5;167;01mKeyError\u001B[39;00m \u001B[38;5;28;01mas\u001B[39;00m ex:  \u001B[38;5;66;03m# Customize msg to indicate exception origin\u001B[39;00m\n\u001B[0;32m-> 1090\u001B[0m     \u001B[38;5;28;01mraise\u001B[39;00m \u001B[38;5;167;01mKeyError\u001B[39;00m(\u001B[38;5;124mf\u001B[39m\u001B[38;5;124m\"\u001B[39m\u001B[38;5;124mThe edge \u001B[39m\u001B[38;5;132;01m{\u001B[39;00me\u001B[38;5;132;01m}\u001B[39;00m\u001B[38;5;124m is not in the graph.\u001B[39m\u001B[38;5;124m\"\u001B[39m)\n",
      "\u001B[0;31mKeyError\u001B[0m: 'The edge (988, 1121) is not in the graph.'"
     ]
    }
   ],
   "source": [
    "print(g1.edges[(988, 1121)])"
   ],
   "metadata": {
    "collapsed": false,
    "ExecuteTime": {
     "end_time": "2024-10-02T20:57:00.392273Z",
     "start_time": "2024-10-02T20:57:00.370910Z"
    }
   },
   "id": "71138187fa908c97",
   "execution_count": 132
  },
  {
   "cell_type": "code",
   "outputs": [
    {
     "name": "stderr",
     "output_type": "stream",
     "text": [
      "find paths:   3%|▎         | 315/10000 [00:13<06:38, 24.29it/s]"
     ]
    }
   ],
   "source": [
    "stat = {}\n",
    "stat['l'] = []\n",
    "stat['h_l'] = []\n",
    "stat['p'] = []\n",
    "stat['h_p'] = []\n",
    "stat['delta'] = []\n",
    "for p1,p2 in tqdm(points, desc='find paths'):\n",
    "    if (p1,p2) in stat:\n",
    "        continue\n",
    "    l,p  = nx.single_source_dijkstra(g, p1,p2, weight='length')\n",
    "    h_l,h_p = find_path_length_h(g,g1,ad_mat,cms,cls2c,p1,p2, cls2n)\n",
    "    delta = (h_l - l)/l * 100    \n",
    "    stat['l'].append(l)\n",
    "    stat['h_l'].append(h_l)\n",
    "    stat['p'].append(p)\n",
    "    stat['h_p'].append(h_p)\n",
    "    stat['delta'].append(delta)\n",
    "    # tqdm.write(f\"\"\"delta: {delta:.4f}%, l: {l:.2f}, hl: { h_l:.2f}\"\"\")"
   ],
   "metadata": {
    "collapsed": false,
    "is_executing": true,
    "ExecuteTime": {
     "start_time": "2024-10-02T21:29:10.099221Z"
    }
   },
   "id": "d7674e5d2cbc4bb2",
   "execution_count": null
  },
  {
   "cell_type": "code",
   "outputs": [],
   "source": [
    "print('err_mean:', np.mean(stat['delta']))\n",
    "print('err_min:', np.min(stat['delta']))\n",
    "print('err_max:', np.max(stat['delta']))"
   ],
   "metadata": {
    "collapsed": false,
    "is_executing": true
   },
   "id": "bfd3af6835a4e12",
   "execution_count": null
  },
  {
   "cell_type": "code",
   "outputs": [],
   "source": [
    "import folium"
   ],
   "metadata": {
    "collapsed": false
   },
   "id": "b94e38be2b00e026",
   "execution_count": null
  },
  {
   "cell_type": "code",
   "outputs": [],
   "source": [
    "def get_color_list(l:int):\n",
    "    cmap = plt.get_cmap('plasma')\n",
    "    colors = [cmap(i/l) for i in range(l)]\n",
    "    hex_colors = ['#' + ''.join([f'{int(c*255):02x}' for c in color[:3]])\\\n",
    "          for color in colors]\n",
    "    return hex_colors\n",
    "\n",
    "def draw_on_map(_g: nx.Graph,\n",
    "                communities: tuple = None,\n",
    "                m: folium.Map = None,\n",
    "                node_colors: list | str = None,\n",
    "                edge_colors :  str = 'black') -> folium.Map:\n",
    "    if communities is None:\n",
    "        communities = _g.nodes\n",
    "    if node_colors is None:\n",
    "        node_colors = get_color_list(len(communities))\n",
    "\n",
    "    if m is None:\n",
    "        for u, d in _g.nodes(data=True):\n",
    "            u_x, u_y = d['x'], d['y']\n",
    "            break\n",
    "        m = folium.Map(location=[u_y, u_x], zoom_start=10)  # Координаты города\n",
    "    for i, community in enumerate(communities):\n",
    "        for node in community:\n",
    "            if node not in _g.nodes():\n",
    "                continue\n",
    "            node_data = _g.nodes[node]\n",
    "            popup_text = f\"Кластер: {i}, \\n\" + f\"номер: {node}\"\n",
    "            folium.CircleMarker(\n",
    "                location=(node_data['y'], node_data['x']),\n",
    "                radius=4,\n",
    "                color=node_colors[i] if isinstance(node_colors, list) else node_colors,\n",
    "                fill=True,\n",
    "                fill_color=node_colors[i] if isinstance(node_colors, list) is list else node_colors,\n",
    "                fill_opacity=0.7,\n",
    "                popup=popup_text\n",
    "            ).add_to(m)\n",
    "    if not (edge_colors is None):\n",
    "        for u, v, data in _g.edges(data=True):\n",
    "            u_x, u_y = _g.nodes()[u]['x'], _g.nodes()[u]['y']\n",
    "            v_x, v_y = _g.nodes()[v]['x'], _g.nodes()[v]['y']\n",
    "            folium.PolyLine([(u_y, u_x), (v_y, v_x)], color=edge_colors, weight=1).add_to(m)\n",
    "    return m"
   ],
   "metadata": {
    "collapsed": false
   },
   "id": "3a66e853cda3113e",
   "execution_count": null
  },
  {
   "cell_type": "code",
   "outputs": [],
   "source": [
    "max_index = np.argmax(stat['delta'])\n",
    "correct_path = g.subgraph(stat['p'][max_index])\n",
    "h_path = g.subgraph(stat['h_p'][max_index])\n",
    "\n",
    "clusters = set()\n",
    "# for i in range(len(correct_path)-1):\n",
    "#     c1 = g.nodes()[stat['p'][max_index][i]]['cluster']\n",
    "#     c2 = g.nodes()[stat['p'][max_index][i+1]]['cluster']\n",
    "#     clusters.add(c1)\n",
    "#     if c1 != c2:\n",
    "#         clusters = clusters.union(ad_mat[c1][c2])\n",
    "for i in range(len(h_path)-1):\n",
    "    c1 = g.nodes()[stat['h_p'][max_index][i]]['cluster']\n",
    "    c2 = g.nodes()[stat['h_p'][max_index][i+1]]['cluster']\n",
    "    clusters.add(c1)\n",
    "    if c1 != c2:\n",
    "        clusters = clusters.union(ad_mat[c1][c2])\n",
    "\n",
    "sub_graph = nx.Graph(extract_cluster_list_subgraph(g, clusters, cms))"
   ],
   "metadata": {
    "collapsed": false,
    "ExecuteTime": {
     "end_time": "2024-10-02T20:57:00.394827Z",
     "start_time": "2024-10-02T20:57:00.394768Z"
    }
   },
   "id": "897c2945578ef40",
   "execution_count": null
  },
  {
   "cell_type": "code",
   "outputs": [],
   "source": [
    "print(len(clusters))"
   ],
   "metadata": {
    "collapsed": false
   },
   "id": "c875a1ac80347101",
   "execution_count": null
  },
  {
   "cell_type": "code",
   "outputs": [],
   "source": [
    "cls = {}\n",
    "counter = 0\n",
    "for c in clusters:\n",
    "    cls[c] = counter\n",
    "    counter+=1\n",
    "for u, d in sub_graph.nodes(data=True):\n",
    "    d['cluster'] = cls[d['cluster']]"
   ],
   "metadata": {
    "collapsed": false
   },
   "id": "87772dab623048f9",
   "execution_count": null
  },
  {
   "cell_type": "code",
   "outputs": [],
   "source": [
    "from matplotlib import pyplot as plt\n",
    "\n",
    "\n",
    "\n",
    "pos_sub_graph = {u: (d['x'], d['y']) for u, d in sub_graph.nodes(data=True)}\n",
    "pos_correct_path = {u: (d['x'], d['y']) for u, d in correct_path.nodes(data=True)}\n",
    "pos_h_path = {u: (d['x'], d['y']) for u, d in h_path.nodes(data=True)}\n",
    "\n",
    "# pos_G = {u: (d['x'], d['y']) for u, d in G.nodes(data=True)}\n",
    "\n",
    "cmap = plt.get_cmap('plasma')\n",
    "colors_sub_graph = [cmap(d['cluster']/len(clusters)) for u,d in sub_graph.nodes(data=True)]\n",
    "\n",
    "fig, axs = plt.subplots(1, 1)\n",
    "fig.set_figwidth(20)\n",
    "fig.set_figheight(20)\n",
    "\n",
    "nx.draw(sub_graph, ax=axs, node_size = 50, pos=pos_sub_graph, alpha = 0.5, node_color = colors_sub_graph)\n",
    "nx.draw(correct_path, ax=axs, node_size = 50, pos=pos_correct_path, node_color='red')\n",
    "nx.draw(h_path, ax=axs, node_size = 50, pos=pos_h_path, node_color='green')\n",
    "# nx.draw(H, ax=axs,node_size = 50, pos=pos_H, node_color = 'red', edge_color = 'green')"
   ],
   "metadata": {
    "collapsed": false
   },
   "id": "84ec94635f2445e",
   "execution_count": null
  },
  {
   "cell_type": "code",
   "outputs": [],
   "source": [
    "    # m = draw_on_map(sub_graph, cms)\n",
    "# m.show_in_browser()"
   ],
   "metadata": {
    "collapsed": false
   },
   "id": "37c9199bd6441396",
   "execution_count": null
  }
 ],
 "metadata": {
  "kernelspec": {
   "display_name": "Python 3",
   "language": "python",
   "name": "python3"
  },
  "language_info": {
   "codemirror_mode": {
    "name": "ipython",
    "version": 2
   },
   "file_extension": ".py",
   "mimetype": "text/x-python",
   "name": "python",
   "nbconvert_exporter": "python",
   "pygments_lexer": "ipython2",
   "version": "2.7.6"
  }
 },
 "nbformat": 4,
 "nbformat_minor": 5
}
