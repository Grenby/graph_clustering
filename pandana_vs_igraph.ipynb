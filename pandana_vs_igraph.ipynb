{
 "cells": [
  {
   "cell_type": "code",
   "outputs": [],
   "source": [
    "import os\n",
    "import pickle\n",
    "import time\n",
    "from multiprocessing import Pool\n",
    "from time import sleep\n",
    "\n",
    "import networkx as nx\n",
    "import numpy as np\n",
    "import pandana as pdna\n",
    "import pandas as pd\n",
    "from tqdm.notebook import trange, tqdm\n",
    "import igraph as ig\n",
    "from scripts import graph_osm_loader, utils"
   ],
   "metadata": {
    "collapsed": false
   },
   "id": "initial_id",
   "execution_count": null
  },
  {
   "cell_type": "markdown",
   "source": [
    "Примеры как резолвить комьюнити"
   ],
   "metadata": {
    "collapsed": false
   },
   "id": "24e484a2a3e88df1"
  },
  {
   "cell_type": "code",
   "outputs": [],
   "source": [
    "# pdna.utils."
   ],
   "metadata": {
    "collapsed": false
   },
   "id": "ebdf9009d79cfa18",
   "execution_count": null
  },
  {
   "cell_type": "code",
   "outputs": [],
   "source": [
    "#resolve_communities\n",
    "def resolve_communities(H: nx.Graph, **params) -> list[set[int]]:\n",
    "    communities = nx.community.louvain_communities(H,\n",
    "                                                   seed=1534,\n",
    "                                                   weight='length',\n",
    "                                                   resolution=params['r'])\n",
    "    return utils.validate_cms(H, communities)"
   ],
   "metadata": {
    "collapsed": false
   },
   "id": "b114b4571083fd89",
   "execution_count": null
  },
  {
   "cell_type": "code",
   "outputs": [],
   "source": [
    "GRAPH_ID = 'R207359'  # R13470549 R2555133 R337422"
   ],
   "metadata": {
    "collapsed": false
   },
   "id": "3b4742a1a125081c",
   "execution_count": null
  },
  {
   "cell_type": "code",
   "outputs": [],
   "source": [
    "# примеры id есть в graph_osm_loader.py\n",
    "g = graph_osm_loader.get_graph(GRAPH_ID)  # загрузка графа\n",
    "len(g.nodes), len(g.edges)"
   ],
   "metadata": {
    "collapsed": false
   },
   "id": "b219e78cf93171f5",
   "execution_count": null
  },
  {
   "cell_type": "code",
   "outputs": [],
   "source": [],
   "metadata": {
    "collapsed": false
   },
   "id": "b3d63306cf0f0e65",
   "execution_count": null
  },
  {
   "cell_type": "code",
   "outputs": [],
   "source": [
    "node2id = {u: i for i, u in enumerate(g.nodes())}\n",
    "nodes_x = [d['x'] for _, d in g.nodes(data=True)]\n",
    "nodes_y = [d['y'] for _, d in g.nodes(data=True)]\n",
    "edges_from = [node2id[u] for u, _ in g.edges()]\n",
    "edges_to = [node2id[v] for _, v in g.edges()]\n",
    "edges_w = [d['length'] for u, v, d in g.edges(data=True)]\n",
    "df = pd.DataFrame.from_dict({\n",
    "    'x': nodes_x,\n",
    "    'y': nodes_y\n",
    "})\n",
    "df1 = pd.DataFrame.from_dict(\n",
    "    {\n",
    "        'f': edges_from,\n",
    "        't': edges_to,\n",
    "        'w': edges_w\n",
    "    }\n",
    ")\n"
   ],
   "metadata": {
    "collapsed": false
   },
   "id": "3375acb3bb6a079",
   "execution_count": null
  },
  {
   "cell_type": "code",
   "outputs": [],
   "source": [],
   "metadata": {
    "collapsed": false
   },
   "id": "d7d366183b908e7f",
   "execution_count": null
  },
  {
   "cell_type": "code",
   "outputs": [],
   "source": [
    "G = ig.Graph(n=len(nodes_x), edges=[[edges_from[i], edges_to[i]] for i in range(len(edges_to))],\n",
    "                 edge_attrs={'weight': edges_w})"
   ],
   "metadata": {
    "collapsed": false
   },
   "id": "5a81630e3219f00c",
   "execution_count": null
  },
  {
   "cell_type": "code",
   "outputs": [],
   "source": [
    "net_ch = pdna.Network(df['x'], df['y'], df1['f'], df1['t'], df1[['w']])\n",
    "# net_ch.precompute(10_000)"
   ],
   "metadata": {
    "collapsed": false
   },
   "id": "a9a6414ea9d331a7",
   "execution_count": null
  },
  {
   "cell_type": "code",
   "outputs": [],
   "source": [
    "path = utils.get_path('pouits', f'points_{GRAPH_ID}.pickle')\n",
    "\n",
    "if os.path.exists(path):\n",
    "    with open(path, 'rb') as fp:\n",
    "        points = pickle.load(fp)\n",
    "        fp.close()\n",
    "else:\n",
    "    points = [utils.get_node_for_initial_graph_v2(g) for _ in trange(1000, desc='generate points')]\n",
    "    with open(path, 'wb') as fp:\n",
    "        pickle.dump(points, fp)\n",
    "        fp.close()"
   ],
   "metadata": {
    "collapsed": false
   },
   "id": "950e8ced345d955d",
   "execution_count": null
  },
  {
   "cell_type": "code",
   "outputs": [],
   "source": [
    "del g"
   ],
   "metadata": {
    "collapsed": false
   },
   "id": "8fbc16b99d5a461",
   "execution_count": null
  },
  {
   "cell_type": "code",
   "outputs": [],
   "source": [
    "NUM_ITERATION = 3  # чтобы уменьшить ошибку при вычислении времени выполнения, при каждом замере время меряется для NUM_ITERATION повторений\n",
    "WORKER = 4  # количество потоков\n",
    "\n",
    "\n",
    "def do_calc(data):\n",
    "    pps, i = data\n",
    "\n",
    "    stat = {}\n",
    "    stat['l'] = []\n",
    "    stat['h_l'] = []\n",
    "    stat['p'] = []\n",
    "    stat['h_p'] = []\n",
    "    stat['time_l'] = []\n",
    "    stat['time_h'] = []\n",
    "\n",
    "    stat['delta'] = []\n",
    "    # чисто чтобы tqdm нормально прогрузился \n",
    "    sleep(i / 10)\n",
    "    print('start', i)\n",
    "\n",
    "    for p1, p2 in tqdm(pps, desc='find paths', position=i):\n",
    "        if (p1, p2) in stat:\n",
    "            continue\n",
    "        # класический дейкстра\n",
    "        l, p = None, None\n",
    "        start = time.time()\n",
    "        for i in range(NUM_ITERATION):\n",
    "            p = G.get_shortest_paths(node2id[p1],node2id[p2], weights=G.es[\"weight\"], output=\"epath\",algorithm = 'dijkstra')\n",
    "            # p = []\n",
    "            # l, p = nx.single_source_dijkstra(g, p1, p2, weight='length')\n",
    "        time_l = time.time() - start\n",
    "        l = 0\n",
    "        for e in p[0]:\n",
    "            l += G.es[e][\"weight\"]\n",
    "        # иерархический\n",
    "        h_l, h_p = None, None\n",
    "        start = time.time()\n",
    "        for _ in range(NUM_ITERATION):\n",
    "            # h_l, h_p = nx.single_source_dijkstra(g, p1, p2, weight='length')\n",
    "            h_l = net_ch.shortest_path_length(node2id[p1], node2id[p2])\n",
    "            # h_p = []\n",
    "        time_h = time.time() - start\n",
    "        # print(l, h_l)\n",
    "        \n",
    "        delta = (h_l - l) / l * 100\n",
    "        stat['l'].append(l)  # длина обычного пути\n",
    "        stat['h_l'].append(h_l)  # длина иерархического пути\n",
    "        stat['p'].append(p)  # обычный путь\n",
    "        stat['h_p'].append(h_p)  # иерархический путь\n",
    "        stat['delta'].append(delta)  # разница в длине\n",
    "        stat['time_l'].append(time_l)  # обычное время \n",
    "        stat['time_h'].append(time_h)  # иерархическое\n",
    "    return stat\n",
    "\n",
    "\n",
    "data = [([p for p in points[i::WORKER]], i) for i in range(WORKER)]\n",
    "# do_calc(data[0])\n",
    "with Pool(WORKER) as p:\n",
    "    res = p.map(do_calc, data)\n",
    "\n",
    "stat = {}\n",
    "for l in res:\n",
    "    for d in l:\n",
    "        if d not in stat:\n",
    "            stat[d] = []\n",
    "        stat[d].extend(l[d])\n",
    "print('err_mean:', np.mean(stat['delta']))\n",
    "print('err_min:', np.min(stat['delta']))\n",
    "print('err_max:', np.max(stat['delta']))\n",
    "print(np.mean(np.array(stat['time_l']) / np.array(stat['time_h'])))"
   ],
   "metadata": {
    "collapsed": false
   },
   "id": "966d360e9a0575eb",
   "execution_count": null
  }
 ],
 "metadata": {
  "kernelspec": {
   "display_name": "Python 3",
   "language": "python",
   "name": "python3"
  },
  "language_info": {
   "codemirror_mode": {
    "name": "ipython",
    "version": 2
   },
   "file_extension": ".py",
   "mimetype": "text/x-python",
   "name": "python",
   "nbconvert_exporter": "python",
   "pygments_lexer": "ipython2",
   "version": "2.7.6"
  }
 },
 "nbformat": 4,
 "nbformat_minor": 5
}
