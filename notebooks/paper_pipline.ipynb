{
 "cells": [
  {
   "cell_type": "code",
   "outputs": [],
   "source": [
    "import logging\n",
    "import sys\n",
    "\n",
    "root = logging.getLogger()\n",
    "root.setLevel(logging.INFO)\n",
    "\n",
    "handler = logging.StreamHandler(sys.stdout)\n",
    "handler.setLevel(logging.INFO)\n",
    "formatter = logging.Formatter('%(asctime)s - %(name)s - %(levelname)s - %(message)s')\n",
    "handler.setFormatter(formatter)\n",
    "root.addHandler(handler)"
   ],
   "metadata": {
    "collapsed": false,
    "ExecuteTime": {
     "end_time": "2024-12-23T15:00:43.288608Z",
     "start_time": "2024-12-23T15:00:43.280989Z"
    }
   },
   "id": "dde76cebf871e8c3",
   "execution_count": 1
  },
  {
   "cell_type": "code",
   "outputs": [],
   "source": [
    "import sys\n",
    "\n",
    "sys.path.append('../scripts')\n",
    "sys.path.append('../')\n",
    "\n",
    "from scripts import graph_osm_loader\n",
    "from scripts import pipeline, centroids_graph_builder, clustering\n",
    "from scripts.path_findings import excraction_pfa, dijkstra_pfa\n",
    "from scripts import utils\n",
    "import scripts"
   ],
   "metadata": {
    "collapsed": false,
    "ExecuteTime": {
     "end_time": "2024-12-23T15:00:44.219738Z",
     "start_time": "2024-12-23T15:00:43.464229Z"
    }
   },
   "id": "e9ed6a4c09332b67",
   "execution_count": 2
  },
  {
   "cell_type": "code",
   "outputs": [],
   "source": [
    "    # 'PARIS': 'R71525',\n",
    "    # 'Prague': 'R435514',\n",
    "    # \n",
    "    # 'DUBAI': 'R3766483',\n"
   ],
   "metadata": {
    "collapsed": false,
    "ExecuteTime": {
     "end_time": "2024-12-23T15:00:44.225Z",
     "start_time": "2024-12-23T15:00:44.221700Z"
    }
   },
   "id": "a250dda702bca2cb",
   "execution_count": 3
  },
  {
   "cell_type": "code",
   "outputs": [
    {
     "name": "stdout",
     "output_type": "stream",
     "text": [
      "9507 14804\n"
     ]
    }
   ],
   "source": [
    "GRAPH_ID = 'R71525'  # R13470549 R2555133 R3766483\n",
    "# примеры id есть в graph_osm_loader.py\n",
    "g = graph_osm_loader.get_graph(GRAPH_ID)\n",
    "print(len(g.nodes), len(g.edges))"
   ],
   "metadata": {
    "collapsed": false,
    "ExecuteTime": {
     "end_time": "2024-12-23T15:00:45.696669Z",
     "start_time": "2024-12-23T15:00:45.645971Z"
    }
   },
   "id": "f3d83b1cd99d1de9",
   "execution_count": 6
  },
  {
   "cell_type": "code",
   "outputs": [
    {
     "name": "stdout",
     "output_type": "stream",
     "text": [
      "21702 30009\n"
     ]
    }
   ],
   "source": [
    "GRAPH_ID = 'R435514'  # R13470549 R2555133 R3766483\n",
    "# примеры id есть в graph_osm_loader.py\n",
    "g = graph_osm_loader.get_graph(GRAPH_ID)\n",
    "print(len(g.nodes), len(g.edges))"
   ],
   "metadata": {
    "collapsed": false,
    "ExecuteTime": {
     "end_time": "2024-12-23T15:00:44.404894Z",
     "start_time": "2024-12-23T15:00:44.272904Z"
    }
   },
   "id": "69244312a8318203",
   "execution_count": 5
  },
  {
   "cell_type": "code",
   "outputs": [
    {
     "name": "stdout",
     "output_type": "stream",
     "text": [
      "59342 85597\n"
     ]
    }
   ],
   "source": [
    "GRAPH_ID = 'R3766483'  # R13470549 R2555133 R3766483\n",
    "# примеры id есть в graph_osm_loader.py\n",
    "g = graph_osm_loader.get_graph(GRAPH_ID)\n",
    "print(len(g.nodes), len(g.edges))"
   ],
   "metadata": {
    "collapsed": false,
    "ExecuteTime": {
     "end_time": "2024-12-23T13:53:10.062055Z",
     "start_time": "2024-12-23T13:53:09.707032Z"
    }
   },
   "id": "63723175d0832542",
   "execution_count": 29
  },
  {
   "cell_type": "code",
   "outputs": [],
   "source": [
    "points = utils.read_points(GRAPH_ID, g, num=1000)"
   ],
   "metadata": {
    "collapsed": false,
    "ExecuteTime": {
     "end_time": "2024-12-23T15:00:47.424236Z",
     "start_time": "2024-12-23T15:00:47.416334Z"
    }
   },
   "id": "362ff279af79b465",
   "execution_count": 7
  },
  {
   "cell_type": "code",
   "outputs": [],
   "source": [
    "nodes = g.nodes()"
   ],
   "metadata": {
    "collapsed": false,
    "ExecuteTime": {
     "end_time": "2024-12-23T15:00:47.633820Z",
     "start_time": "2024-12-23T15:00:47.629940Z"
    }
   },
   "id": "50abdb860b170c92",
   "execution_count": 8
  },
  {
   "cell_type": "code",
   "outputs": [],
   "source": [
    "import numpy as np\n",
    "\n",
    "\n",
    "def dst(da, db):\n",
    "    return ((da['x'] - db['x']) ** 2 + (da['y'] - db['y']) ** 2) ** 0.5 / 360 * 2 * np.pi * 6371.01 * 1000 * 0.56\n",
    "\n",
    "\n",
    "def node_dst(u, v):\n",
    "    da = nodes[u]\n",
    "    db = nodes[v]\n",
    "    return dst(da, db)"
   ],
   "metadata": {
    "collapsed": false,
    "ExecuteTime": {
     "end_time": "2024-12-23T15:00:47.861378Z",
     "start_time": "2024-12-23T15:00:47.855372Z"
    }
   },
   "id": "e3e09a91603a5c7d",
   "execution_count": 9
  },
  {
   "cell_type": "code",
   "outputs": [],
   "source": [
    "from pympler.asizeof import asizeof"
   ],
   "metadata": {
    "collapsed": false,
    "ExecuteTime": {
     "end_time": "2024-12-23T15:00:48.043397Z",
     "start_time": "2024-12-23T15:00:48.034421Z"
    }
   },
   "id": "65299d71fa84fb68",
   "execution_count": 10
  },
  {
   "cell_type": "code",
   "outputs": [
    {
     "data": {
      "text/plain": "find centroids:   0%|          | 0/109 [00:00<?, ?it/s]",
      "application/vnd.jupyter.widget-view+json": {
       "version_major": 2,
       "version_minor": 0,
       "model_id": "f338180bc38a48eaa2ff89331a8e4e34"
      }
     },
     "metadata": {},
     "output_type": "display_data"
    },
    {
     "data": {
      "text/plain": "find edges:   0%|          | 0/109 [00:00<?, ?it/s]",
      "application/vnd.jupyter.widget-view+json": {
       "version_major": 2,
       "version_minor": 0,
       "model_id": "8c86cb247a11454a953602d5f03218ac"
      }
     },
     "metadata": {},
     "output_type": "display_data"
    },
    {
     "data": {
      "text/plain": "(10.449612855911255, 1.374359130859375, 68.13776397705078)"
     },
     "execution_count": 16,
     "metadata": {},
     "output_type": "execute_result"
    }
   ],
   "source": [
    "\n",
    "cms_resolver = clustering.LouvainCommunityResolver(resolution=2)\n",
    "\n",
    "t, cg = centroids_graph_builder.CentroidGraphBuilder().build_with_time(g, cms_resolver)\n",
    "t, asizeof(cg)/1024/1024, asizeof(g)/1024/1024"
   ],
   "metadata": {
    "collapsed": false,
    "ExecuteTime": {
     "end_time": "2024-12-23T15:02:58.430884Z",
     "start_time": "2024-12-23T15:02:42.697694Z"
    }
   },
   "id": "c356a17ee7eebe16",
   "execution_count": 16
  },
  {
   "cell_type": "code",
   "outputs": [
    {
     "data": {
      "text/plain": "  0%|          | 0/109 [00:00<?, ?it/s]",
      "application/vnd.jupyter.widget-view+json": {
       "version_major": 2,
       "version_minor": 0,
       "model_id": "34fc4f975d7e4b668ace79c8aee67f5a"
      }
     },
     "metadata": {},
     "output_type": "display_data"
    }
   ],
   "source": [
    "from scripts.path_findings.arc_flags_builder import ArcFlagsBuilder\n",
    "from scripts.path_findings.alt_builder import RandomAltBuilder, ClusterAltBuilder\n",
    "\n",
    "baseline = dijkstra_pfa.Dijkstra(g)\n",
    "# \n",
    "# test_alg = excraction_pfa.ExtractionPfa(\n",
    "#     g = g,\n",
    "#     cg=cg,\n",
    "#     upper=dijkstra_pfa.Dijkstra(cg.g),\n",
    "#     down=dijkstra_pfa.Dijkstra(g)\n",
    "# )\n",
    "\n",
    "test_alg = ArcFlagsBuilder().build(g, cg.cls2hubs)\n",
    "# test_alg = dijkstra_pfa.AStar(\n",
    "#     g = g,\n",
    "#     h = node_dst\n",
    "# )\n",
    "# test_alg = ClusterAltBuilder(0.1).build_ch_pfa(g)"
   ],
   "metadata": {
    "collapsed": false,
    "ExecuteTime": {
     "end_time": "2024-12-23T15:03:02.194939Z",
     "start_time": "2024-12-23T15:02:58.432525Z"
    }
   },
   "id": "4325b5d0ed6e8858",
   "execution_count": 17
  },
  {
   "cell_type": "code",
   "outputs": [
    {
     "name": "stdout",
     "output_type": "stream",
     "text": [
      "start 0\n"
     ]
    },
    {
     "data": {
      "text/plain": "find paths:   0%|          | 0/167 [00:00<?, ?it/s]",
      "application/vnd.jupyter.widget-view+json": {
       "version_major": 2,
       "version_minor": 0,
       "model_id": "86c1daf5911c462787717cd6f0b5ddc6"
      }
     },
     "metadata": {},
     "output_type": "display_data"
    },
    {
     "name": "stdout",
     "output_type": "stream",
     "text": [
      "start 1\n"
     ]
    },
    {
     "data": {
      "text/plain": "find paths:   0%|          | 0/167 [00:00<?, ?it/s]",
      "application/vnd.jupyter.widget-view+json": {
       "version_major": 2,
       "version_minor": 0,
       "model_id": "cec094bf948340e08111bddc410a0242"
      }
     },
     "metadata": {},
     "output_type": "display_data"
    },
    {
     "name": "stdout",
     "output_type": "stream",
     "text": [
      "start 2\n"
     ]
    },
    {
     "data": {
      "text/plain": "find paths:   0%|          | 0/167 [00:00<?, ?it/s]",
      "application/vnd.jupyter.widget-view+json": {
       "version_major": 2,
       "version_minor": 0,
       "model_id": "857b9fc80dd64a09a46d2b81669c561c"
      }
     },
     "metadata": {},
     "output_type": "display_data"
    },
    {
     "name": "stdout",
     "output_type": "stream",
     "text": [
      "start 3\n"
     ]
    },
    {
     "data": {
      "text/plain": "find paths:   0%|          | 0/167 [00:00<?, ?it/s]",
      "application/vnd.jupyter.widget-view+json": {
       "version_major": 2,
       "version_minor": 0,
       "model_id": "66ce69d464c042cab3f043eb7683a0bf"
      }
     },
     "metadata": {},
     "output_type": "display_data"
    },
    {
     "name": "stdout",
     "output_type": "stream",
     "text": [
      "start 4\n"
     ]
    },
    {
     "data": {
      "text/plain": "find paths:   0%|          | 0/166 [00:00<?, ?it/s]",
      "application/vnd.jupyter.widget-view+json": {
       "version_major": 2,
       "version_minor": 0,
       "model_id": "31e4b60113454adfaddb3d0039978198"
      }
     },
     "metadata": {},
     "output_type": "display_data"
    },
    {
     "name": "stdout",
     "output_type": "stream",
     "text": [
      "start 5\n"
     ]
    },
    {
     "data": {
      "text/plain": "find paths:   0%|          | 0/166 [00:00<?, ?it/s]",
      "application/vnd.jupyter.widget-view+json": {
       "version_major": 2,
       "version_minor": 0,
       "model_id": "7074ae30190a4d42b46d6be292926d48"
      }
     },
     "metadata": {},
     "output_type": "display_data"
    }
   ],
   "source": [
    "stat = pipeline.PfaComparator(\n",
    "    baseline=baseline,\n",
    "    test_algorithm=test_alg,\n",
    "    points=points,\n",
    "    workers=6\n",
    ").compare()"
   ],
   "metadata": {
    "collapsed": false,
    "ExecuteTime": {
     "end_time": "2024-12-23T15:03:53.092433Z",
     "start_time": "2024-12-23T15:03:02.196681Z"
    }
   },
   "id": "ae3121ce02585050",
   "execution_count": 18
  },
  {
   "cell_type": "code",
   "outputs": [
    {
     "data": {
      "text/plain": "\n        err_max:    0.0000\n        err_min:    0.0000\n        err_median: 0.0000\n        err_mean:   0.0000\n        \n        acceleration_max:    2.8983\n        acceleration_min:    0.5080\n        acceleration_median: 0.9242\n        acceleration_mean:   0.9503\n        "
     },
     "execution_count": 19,
     "metadata": {},
     "output_type": "execute_result"
    }
   ],
   "source": [
    "stat"
   ],
   "metadata": {
    "collapsed": false,
    "ExecuteTime": {
     "end_time": "2024-12-23T15:03:53.101250Z",
     "start_time": "2024-12-23T15:03:53.095321Z"
    }
   },
   "id": "987dc47fb30c404",
   "execution_count": 19
  },
  {
   "cell_type": "code",
   "outputs": [
    {
     "data": {
      "text/plain": "np.int64(109)"
     },
     "execution_count": 25,
     "metadata": {},
     "output_type": "execute_result"
    }
   ],
   "source": [
    "np.min([sum(d['arcs']) for u,v,d in g.edges(data=True)])"
   ],
   "metadata": {
    "collapsed": false,
    "ExecuteTime": {
     "end_time": "2024-12-23T15:05:51.808188Z",
     "start_time": "2024-12-23T15:05:51.769517Z"
    }
   },
   "id": "a693144e02e9f060",
   "execution_count": 25
  },
  {
   "cell_type": "code",
   "outputs": [],
   "source": [
    "a = [0] * 19\n",
    "a[0] = 1"
   ],
   "metadata": {
    "collapsed": false,
    "ExecuteTime": {
     "end_time": "2024-12-23T15:05:22.574267Z",
     "start_time": "2024-12-23T15:05:22.570930Z"
    }
   },
   "id": "ee6248e680547c14",
   "execution_count": 23
  },
  {
   "cell_type": "code",
   "outputs": [
    {
     "data": {
      "text/plain": "[1, 0, 0, 0, 0, 0, 0, 0, 0, 0, 0, 0, 0, 0, 0, 0, 0, 0, 0]"
     },
     "execution_count": 24,
     "metadata": {},
     "output_type": "execute_result"
    }
   ],
   "source": [
    "a"
   ],
   "metadata": {
    "collapsed": false,
    "ExecuteTime": {
     "end_time": "2024-12-23T15:05:23.584732Z",
     "start_time": "2024-12-23T15:05:23.579262Z"
    }
   },
   "id": "5130eb6d138c5e76",
   "execution_count": 24
  },
  {
   "cell_type": "code",
   "outputs": [],
   "source": [],
   "metadata": {
    "collapsed": false
   },
   "id": "97ddc46086f4e691"
  }
 ],
 "metadata": {
  "kernelspec": {
   "display_name": "Python 3",
   "language": "python",
   "name": "python3"
  },
  "language_info": {
   "codemirror_mode": {
    "name": "ipython",
    "version": 2
   },
   "file_extension": ".py",
   "mimetype": "text/x-python",
   "name": "python",
   "nbconvert_exporter": "python",
   "pygments_lexer": "ipython2",
   "version": "2.7.6"
  }
 },
 "nbformat": 4,
 "nbformat_minor": 5
}
