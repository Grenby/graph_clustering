{
 "cells": [
  {
   "cell_type": "raw",
   "source": [
    "!#%%\n",
    "pip install git+https://github.com/m-a-huber/AuToMATo"
   ],
   "metadata": {
    "collapsed": false
   },
   "id": "3678591300e42826"
  },
  {
   "cell_type": "code",
   "outputs": [
    {
     "name": "stdout",
     "output_type": "stream",
     "text": [
      "Collecting git+https://github.com/m-a-huber/AuToMATo\r\n",
      "  Cloning https://github.com/m-a-huber/AuToMATo to /tmp/pip-req-build-v8k_49kc\r\n",
      "  Running command git clone --filter=blob:none --quiet https://github.com/m-a-huber/AuToMATo /tmp/pip-req-build-v8k_49kc\r\n",
      "  Resolved https://github.com/m-a-huber/AuToMATo to commit 84dbc424e50792448288f1fe408c736530f83a04\r\n",
      "\u001B[31mERROR: git+https://github.com/m-a-huber/AuToMATo does not appear to be a Python project: neither 'setup.py' nor 'pyproject.toml' found.\u001B[0m\u001B[31m\r\n",
      "\u001B[0m\r\n",
      "\u001B[1m[\u001B[0m\u001B[34;49mnotice\u001B[0m\u001B[1;39;49m]\u001B[0m\u001B[39;49m A new release of pip is available: \u001B[0m\u001B[31;49m23.2.1\u001B[0m\u001B[39;49m -> \u001B[0m\u001B[32;49m24.2\u001B[0m\r\n",
      "\u001B[1m[\u001B[0m\u001B[34;49mnotice\u001B[0m\u001B[1;39;49m]\u001B[0m\u001B[39;49m To update, run: \u001B[0m\u001B[32;49mpip install --upgrade pip\u001B[0m\r\n"
     ]
    }
   ],
   "source": [
    "!pip install git+https://github.com/m-a-huber/AuToMATo"
   ],
   "metadata": {
    "collapsed": false,
    "ExecuteTime": {
     "end_time": "2024-10-27T20:45:27.104064Z",
     "start_time": "2024-10-27T20:45:25.380575Z"
    }
   },
   "id": "8ae89808ac9bdbcf",
   "execution_count": 331
  },
  {
   "cell_type": "code",
   "outputs": [],
   "source": [
    "import os\n",
    "\n",
    "import pickle\n",
    "import time\n",
    "from multiprocessing import Pool\n",
    "from time import sleep\n",
    "\n",
    "import networkx as nx\n",
    "import numpy as np\n",
    "from sklearn.cluster import HDBSCAN, KMeans\n",
    "from tqdm.notebook import trange, tqdm\n",
    "from scripts import centroids_graph_builder, graph_osm_loader, utils\n",
    "import gudhi\n",
    "from automato import Automato\n",
    "from gudhi.clustering.tomato import Tomato\n",
    "\n",
    "import kmapper as km\n",
    "from kmapper.jupyter import display"
   ],
   "metadata": {
    "collapsed": false,
    "ExecuteTime": {
     "end_time": "2024-10-27T20:13:05.273750Z",
     "start_time": "2024-10-27T20:13:05.271068Z"
    }
   },
   "id": "initial_id",
   "execution_count": 264
  },
  {
   "cell_type": "markdown",
   "source": [
    "Примеры как резолвить комьюнити"
   ],
   "metadata": {
    "collapsed": false
   },
   "id": "24e484a2a3e88df1"
  },
  {
   "cell_type": "code",
   "outputs": [],
   "source": [
    "#resolve_communities\n",
    "def resolve_communities(H: nx.Graph, **params) -> list[set[int]]:\n",
    "    communities = nx.community.louvain_communities(H,\n",
    "                                                   seed=1534,\n",
    "                                                   weight='length',\n",
    "                                                   resolution=params['r'])\n",
    "    return utils.validate_cms(H, communities)"
   ],
   "metadata": {
    "collapsed": false,
    "ExecuteTime": {
     "end_time": "2024-10-27T20:13:05.289841Z",
     "start_time": "2024-10-27T20:13:05.284748Z"
    }
   },
   "id": "b114b4571083fd89",
   "execution_count": 265
  },
  {
   "cell_type": "code",
   "outputs": [],
   "source": [
    "def resolve_by_hdbscan(H: nx.Graph):\n",
    "    def f(a,b):\n",
    "        u = int(a[2])\n",
    "        v = int(b[2])\n",
    "        if (u,v) in H.edges() or (v,u) in H.edges():\n",
    "            return H.edges()[(u,v)]['length']\n",
    "        return float('inf')\n",
    "    scan = HDBSCAN(metric=f, min_samples=1, max_cluster_size=30,n_jobs = 10)\n",
    "    x = np.array([[d['x'], d['y'], u] for u, d in g.nodes(data=True)])\n",
    "    y = scan.fit_predict(x)\n",
    "    communities = {}\n",
    "    for i, u in enumerate(g.nodes):\n",
    "        cls = y[i]\n",
    "        if cls not in communities:\n",
    "            communities[cls] = set()\n",
    "        communities[cls].add(u)\n",
    "    communities = [communities[cls] for cls in communities]\n",
    "    del scan\n",
    "    return utils.validate_cms(H, communities)"
   ],
   "metadata": {
    "collapsed": false,
    "ExecuteTime": {
     "end_time": "2024-10-27T20:13:05.310592Z",
     "start_time": "2024-10-27T20:13:05.306252Z"
    }
   },
   "id": "b85841f8c53d4240",
   "execution_count": 266
  },
  {
   "cell_type": "code",
   "outputs": [],
   "source": [
    "# def resolve_by_mapper(H: nx.Graph):\n",
    "#     id2node = {i:u for i, u in enumerate(H.nodes())}\n",
    "#     mapper = km.KeplerMapper(verbose=0)\n",
    "#     x = np.array([[d['x'], d['y']] for u, d in H.nodes(data=True)])\n",
    "#     proj_data = mapper.fit_transform(x)\n",
    "#     g = mapper.map(proj_data, x, clusterer= HDBSCAN())\n",
    "#     cms = []\n",
    "#     scan = HDBSCAN(metric=f, min_samples=1, max_cluster_size=30,n_jobs = 10)\n",
    "#     x = np.array([[d['x'], d['y'], u] for u, d in g.nodes(data=True)])\n",
    "#     \n",
    "#     all_nodes = set()\n",
    "#     for i, (k,v) in enumerate(dict(g['nodes']).items()):\n",
    "#         # print(k)\n",
    "#         for n in v:\n",
    "#             all_nodes.add(n)\n",
    "#         cms.append(set([id2node[id_node] for id_node in v ]))\n",
    "#     # mapper.visualize(g, path_html=\"make_circles_keplermapper_output.html\",\n",
    "#     #              title=\"make_circles(n_samples=5000, noise=0.03, factor=0.3)\")\n",
    "#     print(len(all_nodes), len(x))\n",
    "#     return utils.validate_cms(H, cms)\n"
   ],
   "metadata": {
    "collapsed": false,
    "ExecuteTime": {
     "end_time": "2024-10-27T20:13:05.313637Z",
     "start_time": "2024-10-27T20:13:05.311397Z"
    }
   },
   "id": "cd757f53a1321dce",
   "execution_count": 267
  },
  {
   "cell_type": "code",
   "outputs": [],
   "source": [
    "def resolve_by_part(g):\n",
    "    cms = nx.community.kernighan_lin_bisection(g, weight='length')\n",
    "    cms = utils.validate_cms(g, cms)\n",
    "    res = []\n",
    "    for c in cms:\n",
    "        if len(c) < 100:\n",
    "            res.append(c)\n",
    "        else:\n",
    "            gg = g.subgraph(c)\n",
    "            rr = resolve_by_part(gg)\n",
    "            rr = utils.validate_cms(gg, rr)\n",
    "            res.extend(rr)\n",
    "    return utils.validate_cms(g, res)"
   ],
   "metadata": {
    "collapsed": false,
    "ExecuteTime": {
     "end_time": "2024-10-27T20:13:05.320135Z",
     "start_time": "2024-10-27T20:13:05.315745Z"
    }
   },
   "id": "9052e388e4c865fa",
   "execution_count": 268
  },
  {
   "cell_type": "code",
   "outputs": [],
   "source": [
    "def k_clique_communities(g, k =2):\n",
    "    cms= nx.community.k_clique_communities(g,k )\n",
    "    res = utils.validate_cms(g, cms)\n",
    "    assert nx.community.is_partition(g, res)\n",
    "    return res"
   ],
   "metadata": {
    "collapsed": false,
    "ExecuteTime": {
     "end_time": "2024-10-27T20:13:05.322809Z",
     "start_time": "2024-10-27T20:13:05.320814Z"
    }
   },
   "id": "b424b717d1d00edc",
   "execution_count": 269
  },
  {
   "cell_type": "code",
   "outputs": [],
   "source": [
    "def girvan_newman(g):\n",
    "    comp = nx.community.girvan_newman(g)\n",
    "    for i, communities in tqdm(enumerate(comp), total= 800):\n",
    "        cms = communities\n",
    "        if len(cms)>800:\n",
    "            break\n",
    "    return utils.validate_cms(g, cms)"
   ],
   "metadata": {
    "collapsed": false,
    "ExecuteTime": {
     "end_time": "2024-10-27T20:13:05.325290Z",
     "start_time": "2024-10-27T20:13:05.323427Z"
    }
   },
   "id": "eb4df2d5f6f65c60",
   "execution_count": 270
  },
  {
   "cell_type": "code",
   "outputs": [],
   "source": [
    "def resolve_by_kmeans(H: nx.Graph):\n",
    "    scan = KMeans(n_clusters=100)\n",
    "    x = np.array([[d['x'], d['y'], u] for u, d in g.nodes(data=True)])\n",
    "    y = scan.fit_predict(x)\n",
    "    communities = {}\n",
    "    for i, u in enumerate(g.nodes):\n",
    "        cls = y[i]\n",
    "        if cls not in communities:\n",
    "            communities[cls] = set()\n",
    "        communities[cls].add(u)\n",
    "    communities = [communities[cls] for cls in communities]\n",
    "    del scan\n",
    "    return utils.validate_cms(H, communities)"
   ],
   "metadata": {
    "collapsed": false,
    "ExecuteTime": {
     "end_time": "2024-10-27T20:13:05.328437Z",
     "start_time": "2024-10-27T20:13:05.326171Z"
    }
   },
   "id": "41ceeaffd32841a6",
   "execution_count": 271
  },
  {
   "cell_type": "code",
   "outputs": [],
   "source": [
    "def tomato_resolver(H, r = 0.1):\n",
    "    xx = {(d['x'], d['y']):u for u, d in H.nodes(data=True)}\n",
    "    \n",
    "    def f(a,b):\n",
    "        \n",
    "        u = a[2]\n",
    "        v = b[2]\n",
    "        \n",
    "        if (u,v) in H.edges() or (v,u) in H.edges():\n",
    "            return H.edges()[(u,v)]['length']\n",
    "        return float('inf')\n",
    "    x = np.array([[d['x'], d['y'], u] for u, d in H.nodes(data=True)])\n",
    "        \n",
    "    ex1 = Tomato(\n",
    "        # metric = f,\n",
    "            input_type=\"points\",\n",
    "        # n_jobs = 10,\n",
    "        # p = 1,\n",
    "            graph_type=\"radius\",\n",
    "            density_type=\"KDE\",\n",
    "            # n_clusters=800,\n",
    "            r=r,\n",
    "        )\n",
    "    \n",
    "    ex1.fit(x)\n",
    "    cms = {}\n",
    "    ll = list(ex1.labels_)\n",
    "    for i, u in enumerate(g.nodes()):\n",
    "        l = ll[i]\n",
    "        if l not in cms:\n",
    "            cms[l] = set()\n",
    "        cms[l].add(u)\n",
    "    cms_1 = []\n",
    "    for c in cms.values():\n",
    "        cms_1.append(c)\n",
    "    return utils.validate_cms(g, cms_1)"
   ],
   "metadata": {
    "collapsed": false,
    "ExecuteTime": {
     "end_time": "2024-10-27T20:40:46.181807Z",
     "start_time": "2024-10-27T20:40:46.178303Z"
    }
   },
   "id": "71c26b8b69eed926",
   "execution_count": 326
  },
  {
   "cell_type": "code",
   "outputs": [],
   "source": [
    "# find path between two points\n",
    "def find_path_length_h(\n",
    "        g0: nx.Graph,\n",
    "        g1: nx.Graph,\n",
    "        cms: list[set[int]] | tuple[set[int]],\n",
    "        from_node: int,\n",
    "        to_node: int) -> float:\n",
    "    from_cluster = g0.nodes()[from_node]['cluster']\n",
    "    to_cluster = g0.nodes()[to_node]['cluster']\n",
    "    \n",
    "    def h(a, b):\n",
    "        da = g0.nodes()[cls2c[a]]\n",
    "        db = g0.nodes()[cls2c[b]]\n",
    "        return ((da['x'] - db['x']) ** 2 + (da['y'] - db['y']) ** 2) ** 0.5 / 360 * 2 * np.pi * 6371.01 * 1000 * 0.56\n",
    "    \n",
    "    path = nx.astar_path(g1, from_cluster, to_cluster,heuristic=h, weight='length')\n",
    "    cls = set([u for u in path])\n",
    "    g = centroids_graph_builder.extract_cluster_list_subgraph(g0, cls, cms)\n",
    "    return nx.single_source_dijkstra(g, from_node, to_node, weight='length')"
   ],
   "metadata": {
    "collapsed": false,
    "ExecuteTime": {
     "end_time": "2024-10-27T20:13:05.340484Z",
     "start_time": "2024-10-27T20:13:05.337866Z"
    }
   },
   "id": "f19c4ac09db589e6",
   "execution_count": 273
  },
  {
   "cell_type": "code",
   "outputs": [],
   "source": [
    "GRAPH_ID = 'R2555133' # R13470549 R2555133"
   ],
   "metadata": {
    "collapsed": false,
    "ExecuteTime": {
     "end_time": "2024-10-27T20:13:05.343176Z",
     "start_time": "2024-10-27T20:13:05.341408Z"
    }
   },
   "id": "3b4742a1a125081c",
   "execution_count": 274
  },
  {
   "cell_type": "code",
   "outputs": [
    {
     "data": {
      "text/plain": "(17883, 26972)"
     },
     "execution_count": 275,
     "metadata": {},
     "output_type": "execute_result"
    }
   ],
   "source": [
    "# примеры id есть в graph_osm_loader.py\n",
    "g = graph_osm_loader.get_graph(GRAPH_ID) # загрузка графа\n",
    "len(g.nodes), len(g.edges)"
   ],
   "metadata": {
    "collapsed": false,
    "ExecuteTime": {
     "end_time": "2024-10-27T20:13:05.369911Z",
     "start_time": "2024-10-27T20:13:05.343734Z"
    }
   },
   "id": "b219e78cf93171f5",
   "execution_count": 275
  },
  {
   "cell_type": "code",
   "outputs": [
    {
     "data": {
      "text/plain": "858"
     },
     "execution_count": 288,
     "metadata": {},
     "output_type": "execute_result"
    }
   ],
   "source": [
    "utils.get_opt_cluster_count(len(g.nodes)) # оптимальное количество кластеров"
   ],
   "metadata": {
    "collapsed": false,
    "ExecuteTime": {
     "end_time": "2024-10-27T20:17:10.153232Z",
     "start_time": "2024-10-27T20:17:10.149280Z"
    }
   },
   "id": "b1053ecba87c88b6",
   "execution_count": 288
  },
  {
   "cell_type": "code",
   "outputs": [],
   "source": [],
   "metadata": {
    "collapsed": false,
    "ExecuteTime": {
     "end_time": "2024-10-27T20:13:05.374322Z",
     "start_time": "2024-10-27T20:13:05.373260Z"
    }
   },
   "id": "abb52548b8325872",
   "execution_count": 276
  },
  {
   "cell_type": "code",
   "outputs": [
    {
     "name": "stdout",
     "output_type": "stream",
     "text": [
      "17883\n"
     ]
    }
   ],
   "source": [
    "cms = tomato_resolver(g, r =0.8)#(g, r = 26.5)\n",
    "print(len(cms))"
   ],
   "metadata": {
    "collapsed": false,
    "ExecuteTime": {
     "end_time": "2024-10-27T20:40:54.054963Z",
     "start_time": "2024-10-27T20:40:53.687342Z"
    }
   },
   "id": "23c1a5d32d570651",
   "execution_count": 329
  },
  {
   "cell_type": "code",
   "outputs": [],
   "source": [
    "cls2n =  centroids_graph_builder.get_cls2n(g) # мапа кластер к соседним кластерам "
   ],
   "metadata": {
    "collapsed": false,
    "ExecuteTime": {
     "end_time": "2024-10-27T20:21:35.377076Z",
     "start_time": "2024-10-27T20:21:35.352102Z"
    }
   },
   "id": "e6594fe741a815f3",
   "execution_count": 304
  },
  {
   "cell_type": "code",
   "outputs": [
    {
     "name": "stderr",
     "output_type": "stream",
     "text": [
      "find centroids: 100%|██████████| 11159/11159 [00:00<00:00, 39468.44it/s]\n",
      "find edges:   0%|          | 13/11159 [00:02<30:11,  6.15it/s]\n"
     ]
    },
    {
     "ename": "KeyboardInterrupt",
     "evalue": "",
     "output_type": "error",
     "traceback": [
      "\u001B[0;31m---------------------------------------------------------------------------\u001B[0m",
      "\u001B[0;31mKeyboardInterrupt\u001B[0m                         Traceback (most recent call last)",
      "Cell \u001B[0;32mIn[324], line 1\u001B[0m\n\u001B[0;32m----> 1\u001B[0m g1, cls2c \u001B[38;5;241m=\u001B[39m \u001B[43mcentroids_graph_builder\u001B[49m\u001B[38;5;241;43m.\u001B[39;49m\u001B[43mbuild_center_graph\u001B[49m\u001B[43m(\u001B[49m\u001B[43mg\u001B[49m\u001B[43m,\u001B[49m\u001B[43m \u001B[49m\u001B[43mcms\u001B[49m\u001B[43m,\u001B[49m\u001B[43m \u001B[49m\u001B[43mcls2n\u001B[49m\u001B[43m,\u001B[49m\u001B[43m \u001B[49m\u001B[43mlog\u001B[49m\u001B[38;5;241;43m=\u001B[39;49m\u001B[38;5;28;43;01mTrue\u001B[39;49;00m\u001B[43m)\u001B[49m\n",
      "File \u001B[0;32m~/programming/graph_clustering/scripts/centroids_graph_builder.py:65\u001B[0m, in \u001B[0;36mbuild_center_graph\u001B[0;34m(graph, communities, cls2n, log)\u001B[0m\n\u001B[1;32m     63\u001B[0m \u001B[38;5;28;01mfor\u001B[39;00m u \u001B[38;5;129;01min\u001B[39;00m \u001B[38;5;28miter\u001B[39m:\n\u001B[1;32m     64\u001B[0m     \u001B[38;5;28;01mfor\u001B[39;00m v \u001B[38;5;129;01min\u001B[39;00m cls2n[u]:\n\u001B[0;32m---> 65\u001B[0m         l \u001B[38;5;241m=\u001B[39m \u001B[43mnx\u001B[49m\u001B[38;5;241;43m.\u001B[39;49m\u001B[43msingle_source_dijkstra\u001B[49m\u001B[43m(\u001B[49m\u001B[43mgraph\u001B[49m\u001B[43m,\u001B[49m\u001B[43m \u001B[49m\u001B[43msource\u001B[49m\u001B[38;5;241;43m=\u001B[39;49m\u001B[43mcls2c\u001B[49m\u001B[43m[\u001B[49m\u001B[43mu\u001B[49m\u001B[43m]\u001B[49m\u001B[43m,\u001B[49m\u001B[43m \u001B[49m\u001B[43mtarget\u001B[49m\u001B[38;5;241;43m=\u001B[39;49m\u001B[43mcls2c\u001B[49m\u001B[43m[\u001B[49m\u001B[43mv\u001B[49m\u001B[43m]\u001B[49m\u001B[43m,\u001B[49m\u001B[43m \u001B[49m\u001B[43mweight\u001B[49m\u001B[38;5;241;43m=\u001B[39;49m\u001B[38;5;124;43m'\u001B[39;49m\u001B[38;5;124;43mlength\u001B[39;49m\u001B[38;5;124;43m'\u001B[39;49m\u001B[43m)\u001B[49m[\u001B[38;5;241m0\u001B[39m]\n\u001B[1;32m     66\u001B[0m         x_graph\u001B[38;5;241m.\u001B[39madd_edge(u, v, length\u001B[38;5;241m=\u001B[39ml)\n\u001B[1;32m     67\u001B[0m \u001B[38;5;28;01mreturn\u001B[39;00m x_graph, cls2c\n",
      "File \u001B[0;32m<class 'networkx.utils.decorators.argmap'> compilation 43:3\u001B[0m, in \u001B[0;36margmap_single_source_dijkstra_40\u001B[0;34m(G, source, target, cutoff, weight, backend, **backend_kwargs)\u001B[0m\n\u001B[1;32m      1\u001B[0m \u001B[38;5;28;01mimport\u001B[39;00m \u001B[38;5;21;01mbz2\u001B[39;00m\n\u001B[1;32m      2\u001B[0m \u001B[38;5;28;01mimport\u001B[39;00m \u001B[38;5;21;01mcollections\u001B[39;00m\n\u001B[0;32m----> 3\u001B[0m \u001B[38;5;28;01mimport\u001B[39;00m \u001B[38;5;21;01mgzip\u001B[39;00m\n\u001B[1;32m      4\u001B[0m \u001B[38;5;28;01mimport\u001B[39;00m \u001B[38;5;21;01minspect\u001B[39;00m\n\u001B[1;32m      5\u001B[0m \u001B[38;5;28;01mimport\u001B[39;00m \u001B[38;5;21;01mitertools\u001B[39;00m\n",
      "File \u001B[0;32m~/programming/graph_clustering/venv/lib/python3.10/site-packages/networkx/utils/backends.py:633\u001B[0m, in \u001B[0;36m_dispatchable.__call__\u001B[0;34m(self, backend, *args, **kwargs)\u001B[0m\n\u001B[1;32m    628\u001B[0m \u001B[38;5;250m\u001B[39m\u001B[38;5;124;03m\"\"\"Returns the result of the original function, or the backend function if\u001B[39;00m\n\u001B[1;32m    629\u001B[0m \u001B[38;5;124;03mthe backend is specified and that backend implements `func`.\"\"\"\u001B[39;00m\n\u001B[1;32m    631\u001B[0m \u001B[38;5;28;01mif\u001B[39;00m \u001B[38;5;129;01mnot\u001B[39;00m backends:\n\u001B[1;32m    632\u001B[0m     \u001B[38;5;66;03m# Fast path if no backends are installed\u001B[39;00m\n\u001B[0;32m--> 633\u001B[0m     \u001B[38;5;28;01mreturn\u001B[39;00m \u001B[38;5;28;43mself\u001B[39;49m\u001B[38;5;241;43m.\u001B[39;49m\u001B[43morig_func\u001B[49m\u001B[43m(\u001B[49m\u001B[38;5;241;43m*\u001B[39;49m\u001B[43margs\u001B[49m\u001B[43m,\u001B[49m\u001B[43m \u001B[49m\u001B[38;5;241;43m*\u001B[39;49m\u001B[38;5;241;43m*\u001B[39;49m\u001B[43mkwargs\u001B[49m\u001B[43m)\u001B[49m\n\u001B[1;32m    635\u001B[0m \u001B[38;5;66;03m# Use `backend_name` in this function instead of `backend`\u001B[39;00m\n\u001B[1;32m    636\u001B[0m backend_name \u001B[38;5;241m=\u001B[39m backend\n",
      "File \u001B[0;32m~/programming/graph_clustering/venv/lib/python3.10/site-packages/networkx/algorithms/shortest_paths/weighted.py:489\u001B[0m, in \u001B[0;36msingle_source_dijkstra\u001B[0;34m(G, source, target, cutoff, weight)\u001B[0m\n\u001B[1;32m    392\u001B[0m \u001B[38;5;129m@nx\u001B[39m\u001B[38;5;241m.\u001B[39m_dispatchable(edge_attrs\u001B[38;5;241m=\u001B[39m\u001B[38;5;124m\"\u001B[39m\u001B[38;5;124mweight\u001B[39m\u001B[38;5;124m\"\u001B[39m)\n\u001B[1;32m    393\u001B[0m \u001B[38;5;28;01mdef\u001B[39;00m \u001B[38;5;21msingle_source_dijkstra\u001B[39m(G, source, target\u001B[38;5;241m=\u001B[39m\u001B[38;5;28;01mNone\u001B[39;00m, cutoff\u001B[38;5;241m=\u001B[39m\u001B[38;5;28;01mNone\u001B[39;00m, weight\u001B[38;5;241m=\u001B[39m\u001B[38;5;124m\"\u001B[39m\u001B[38;5;124mweight\u001B[39m\u001B[38;5;124m\"\u001B[39m):\n\u001B[1;32m    394\u001B[0m \u001B[38;5;250m    \u001B[39m\u001B[38;5;124;03m\"\"\"Find shortest weighted paths and lengths from a source node.\u001B[39;00m\n\u001B[1;32m    395\u001B[0m \n\u001B[1;32m    396\u001B[0m \u001B[38;5;124;03m    Compute the shortest path length between source and all other\u001B[39;00m\n\u001B[0;32m   (...)\u001B[0m\n\u001B[1;32m    487\u001B[0m \u001B[38;5;124;03m    single_source_bellman_ford\u001B[39;00m\n\u001B[1;32m    488\u001B[0m \u001B[38;5;124;03m    \"\"\"\u001B[39;00m\n\u001B[0;32m--> 489\u001B[0m     \u001B[38;5;28;01mreturn\u001B[39;00m \u001B[43mmulti_source_dijkstra\u001B[49m\u001B[43m(\u001B[49m\n\u001B[1;32m    490\u001B[0m \u001B[43m        \u001B[49m\u001B[43mG\u001B[49m\u001B[43m,\u001B[49m\u001B[43m \u001B[49m\u001B[43m{\u001B[49m\u001B[43msource\u001B[49m\u001B[43m}\u001B[49m\u001B[43m,\u001B[49m\u001B[43m \u001B[49m\u001B[43mcutoff\u001B[49m\u001B[38;5;241;43m=\u001B[39;49m\u001B[43mcutoff\u001B[49m\u001B[43m,\u001B[49m\u001B[43m \u001B[49m\u001B[43mtarget\u001B[49m\u001B[38;5;241;43m=\u001B[39;49m\u001B[43mtarget\u001B[49m\u001B[43m,\u001B[49m\u001B[43m \u001B[49m\u001B[43mweight\u001B[49m\u001B[38;5;241;43m=\u001B[39;49m\u001B[43mweight\u001B[49m\n\u001B[1;32m    491\u001B[0m \u001B[43m    \u001B[49m\u001B[43m)\u001B[49m\n",
      "File \u001B[0;32m<class 'networkx.utils.decorators.argmap'> compilation 47:3\u001B[0m, in \u001B[0;36margmap_multi_source_dijkstra_44\u001B[0;34m(G, sources, target, cutoff, weight, backend, **backend_kwargs)\u001B[0m\n\u001B[1;32m      1\u001B[0m \u001B[38;5;28;01mimport\u001B[39;00m \u001B[38;5;21;01mbz2\u001B[39;00m\n\u001B[1;32m      2\u001B[0m \u001B[38;5;28;01mimport\u001B[39;00m \u001B[38;5;21;01mcollections\u001B[39;00m\n\u001B[0;32m----> 3\u001B[0m \u001B[38;5;28;01mimport\u001B[39;00m \u001B[38;5;21;01mgzip\u001B[39;00m\n\u001B[1;32m      4\u001B[0m \u001B[38;5;28;01mimport\u001B[39;00m \u001B[38;5;21;01minspect\u001B[39;00m\n\u001B[1;32m      5\u001B[0m \u001B[38;5;28;01mimport\u001B[39;00m \u001B[38;5;21;01mitertools\u001B[39;00m\n",
      "File \u001B[0;32m~/programming/graph_clustering/venv/lib/python3.10/site-packages/networkx/utils/backends.py:633\u001B[0m, in \u001B[0;36m_dispatchable.__call__\u001B[0;34m(self, backend, *args, **kwargs)\u001B[0m\n\u001B[1;32m    628\u001B[0m \u001B[38;5;250m\u001B[39m\u001B[38;5;124;03m\"\"\"Returns the result of the original function, or the backend function if\u001B[39;00m\n\u001B[1;32m    629\u001B[0m \u001B[38;5;124;03mthe backend is specified and that backend implements `func`.\"\"\"\u001B[39;00m\n\u001B[1;32m    631\u001B[0m \u001B[38;5;28;01mif\u001B[39;00m \u001B[38;5;129;01mnot\u001B[39;00m backends:\n\u001B[1;32m    632\u001B[0m     \u001B[38;5;66;03m# Fast path if no backends are installed\u001B[39;00m\n\u001B[0;32m--> 633\u001B[0m     \u001B[38;5;28;01mreturn\u001B[39;00m \u001B[38;5;28;43mself\u001B[39;49m\u001B[38;5;241;43m.\u001B[39;49m\u001B[43morig_func\u001B[49m\u001B[43m(\u001B[49m\u001B[38;5;241;43m*\u001B[39;49m\u001B[43margs\u001B[49m\u001B[43m,\u001B[49m\u001B[43m \u001B[49m\u001B[38;5;241;43m*\u001B[39;49m\u001B[38;5;241;43m*\u001B[39;49m\u001B[43mkwargs\u001B[49m\u001B[43m)\u001B[49m\n\u001B[1;32m    635\u001B[0m \u001B[38;5;66;03m# Use `backend_name` in this function instead of `backend`\u001B[39;00m\n\u001B[1;32m    636\u001B[0m backend_name \u001B[38;5;241m=\u001B[39m backend\n",
      "File \u001B[0;32m~/programming/graph_clustering/venv/lib/python3.10/site-packages/networkx/algorithms/shortest_paths/weighted.py:759\u001B[0m, in \u001B[0;36mmulti_source_dijkstra\u001B[0;34m(G, sources, target, cutoff, weight)\u001B[0m\n\u001B[1;32m    757\u001B[0m weight \u001B[38;5;241m=\u001B[39m _weight_function(G, weight)\n\u001B[1;32m    758\u001B[0m paths \u001B[38;5;241m=\u001B[39m {source: [source] \u001B[38;5;28;01mfor\u001B[39;00m source \u001B[38;5;129;01min\u001B[39;00m sources}  \u001B[38;5;66;03m# dictionary of paths\u001B[39;00m\n\u001B[0;32m--> 759\u001B[0m dist \u001B[38;5;241m=\u001B[39m \u001B[43m_dijkstra_multisource\u001B[49m\u001B[43m(\u001B[49m\n\u001B[1;32m    760\u001B[0m \u001B[43m    \u001B[49m\u001B[43mG\u001B[49m\u001B[43m,\u001B[49m\u001B[43m \u001B[49m\u001B[43msources\u001B[49m\u001B[43m,\u001B[49m\u001B[43m \u001B[49m\u001B[43mweight\u001B[49m\u001B[43m,\u001B[49m\u001B[43m \u001B[49m\u001B[43mpaths\u001B[49m\u001B[38;5;241;43m=\u001B[39;49m\u001B[43mpaths\u001B[49m\u001B[43m,\u001B[49m\u001B[43m \u001B[49m\u001B[43mcutoff\u001B[49m\u001B[38;5;241;43m=\u001B[39;49m\u001B[43mcutoff\u001B[49m\u001B[43m,\u001B[49m\u001B[43m \u001B[49m\u001B[43mtarget\u001B[49m\u001B[38;5;241;43m=\u001B[39;49m\u001B[43mtarget\u001B[49m\n\u001B[1;32m    761\u001B[0m \u001B[43m\u001B[49m\u001B[43m)\u001B[49m\n\u001B[1;32m    762\u001B[0m \u001B[38;5;28;01mif\u001B[39;00m target \u001B[38;5;129;01mis\u001B[39;00m \u001B[38;5;28;01mNone\u001B[39;00m:\n\u001B[1;32m    763\u001B[0m     \u001B[38;5;28;01mreturn\u001B[39;00m (dist, paths)\n",
      "File \u001B[0;32m~/programming/graph_clustering/venv/lib/python3.10/site-packages/networkx/algorithms/shortest_paths/weighted.py:865\u001B[0m, in \u001B[0;36m_dijkstra_multisource\u001B[0;34m(G, sources, weight, pred, paths, cutoff, target)\u001B[0m\n\u001B[1;32m    863\u001B[0m     \u001B[38;5;28;01mif\u001B[39;00m vu_dist \u001B[38;5;241m>\u001B[39m cutoff:\n\u001B[1;32m    864\u001B[0m         \u001B[38;5;28;01mcontinue\u001B[39;00m\n\u001B[0;32m--> 865\u001B[0m \u001B[38;5;28;01mif\u001B[39;00m u \u001B[38;5;129;01min\u001B[39;00m dist:\n\u001B[1;32m    866\u001B[0m     u_dist \u001B[38;5;241m=\u001B[39m dist[u]\n\u001B[1;32m    867\u001B[0m     \u001B[38;5;28;01mif\u001B[39;00m vu_dist \u001B[38;5;241m<\u001B[39m u_dist:\n",
      "\u001B[0;31mKeyboardInterrupt\u001B[0m: "
     ]
    }
   ],
   "source": [
    "g1, cls2c = centroids_graph_builder.build_center_graph(g, cms, cls2n, log=True)"
   ],
   "metadata": {
    "collapsed": false,
    "ExecuteTime": {
     "end_time": "2024-10-27T20:40:04.292908Z",
     "start_time": "2024-10-27T20:40:01.784317Z"
    }
   },
   "id": "718024858ba64653",
   "execution_count": 324
  },
  {
   "cell_type": "code",
   "outputs": [],
   "source": [
    "path = utils.get_path('pouits', f'points_{GRAPH_ID}.pickle')\n",
    "\n",
    "if os.path.exists(path):\n",
    "    with open(path, 'rb') as fp:\n",
    "        points = pickle.load(fp)\n",
    "        fp.close()\n",
    "else:\n",
    "    points = [utils.get_node_for_initial_graph_v2(g) for _ in trange(1000, desc='generate points')]\n",
    "    with open(path, 'wb') as fp:\n",
    "        pickle.dump(points, fp)\n",
    "        fp.close()"
   ],
   "metadata": {
    "collapsed": false,
    "ExecuteTime": {
     "end_time": "2024-10-27T20:22:07.126212Z",
     "start_time": "2024-10-27T20:22:07.123660Z"
    }
   },
   "id": "950e8ced345d955d",
   "execution_count": 306
  },
  {
   "cell_type": "code",
   "outputs": [],
   "source": [],
   "metadata": {
    "collapsed": false
   },
   "id": "c2b78f0ab2e2659"
  },
  {
   "cell_type": "code",
   "outputs": [
    {
     "name": "stdout",
     "output_type": "stream",
     "text": [
      "start 0\n"
     ]
    },
    {
     "data": {
      "text/plain": "find paths:   0%|          | 0/250 [00:00<?, ?it/s]",
      "application/vnd.jupyter.widget-view+json": {
       "version_major": 2,
       "version_minor": 0,
       "model_id": "8f0a3d5164ca47d894997addb260ac39"
      }
     },
     "metadata": {},
     "output_type": "display_data"
    },
    {
     "name": "stdout",
     "output_type": "stream",
     "text": [
      "start 1\n"
     ]
    },
    {
     "data": {
      "text/plain": "find paths:   0%|          | 0/250 [00:00<?, ?it/s]",
      "application/vnd.jupyter.widget-view+json": {
       "version_major": 2,
       "version_minor": 0,
       "model_id": "5d8e5cad2a5643429bd7ba80aa4e047e"
      }
     },
     "metadata": {},
     "output_type": "display_data"
    },
    {
     "name": "stdout",
     "output_type": "stream",
     "text": [
      "start 2\n"
     ]
    },
    {
     "data": {
      "text/plain": "find paths:   0%|          | 0/250 [00:00<?, ?it/s]",
      "application/vnd.jupyter.widget-view+json": {
       "version_major": 2,
       "version_minor": 0,
       "model_id": "474344cde61746aba92354137d77e76c"
      }
     },
     "metadata": {},
     "output_type": "display_data"
    },
    {
     "name": "stdout",
     "output_type": "stream",
     "text": [
      "start 3\n"
     ]
    },
    {
     "data": {
      "text/plain": "find paths:   0%|          | 0/250 [00:00<?, ?it/s]",
      "application/vnd.jupyter.widget-view+json": {
       "version_major": 2,
       "version_minor": 0,
       "model_id": "b18e047c33a34178b77e53a62c600503"
      }
     },
     "metadata": {},
     "output_type": "display_data"
    },
    {
     "name": "stdout",
     "output_type": "stream",
     "text": [
      "err_mean: 7.158752195805673\n",
      "err_min: 0.0\n",
      "err_max: 115.87059109940981\n",
      "2.986050325043698\n"
     ]
    }
   ],
   "source": [
    "NUM_ITERATION = 2 # чтобы уменьшить ошибку при вычислении времени выполнения, при каждом замере время меряется для NUM_ITERATION повторений\n",
    "WORKER = 4 # количество потоков\n",
    "\n",
    "\n",
    "def do_calc(data):\n",
    "    pps, i = data\n",
    "\n",
    "    stat = {}\n",
    "    stat['l'] = []\n",
    "    stat['h_l'] = []\n",
    "    stat['p'] = []\n",
    "    stat['h_p'] = []\n",
    "    stat['time_l'] = []\n",
    "    stat['time_h'] = []\n",
    "\n",
    "    stat['delta'] = []\n",
    "    # чисто чтобы tqdm нормально прогрузился \n",
    "    sleep(i/10)\n",
    "    print('start', i)\n",
    "    \n",
    "    for p1, p2 in tqdm(pps, desc='find paths', position=i):\n",
    "        if (p1, p2) in stat:\n",
    "            continue\n",
    "        # класический дейкстра\n",
    "        l, p = None, None\n",
    "        start = time.time()\n",
    "        for i in range(NUM_ITERATION):\n",
    "            l, p = nx.single_source_dijkstra(g, p1, p2, weight='length')\n",
    "        time_l = time.time() - start\n",
    "        \n",
    "        # иерархический\n",
    "        h_l, h_p = None, None\n",
    "        start = time.time()\n",
    "        for _ in range(NUM_ITERATION):\n",
    "            h_l, h_p = find_path_length_h(g, g1,cms, p1, p2)\n",
    "        time_h = time.time() - start\n",
    "        \n",
    "        delta = (h_l - l) / l * 100\n",
    "        stat['l'].append(l) # длина обычного пути\n",
    "        stat['h_l'].append(h_l) # длина иерархического пути\n",
    "        stat['p'].append(p) # обычный путь\n",
    "        stat['h_p'].append(h_p) # иерархический путь\n",
    "        stat['delta'].append(delta) # разница в длине\n",
    "        stat['time_l'].append(time_l) # обычное время \n",
    "        stat['time_h'].append(time_h) # иерархическое\n",
    "    return stat\n",
    "\n",
    "data = [([p for p in points[i::WORKER]], i) for i in range(WORKER)]\n",
    "with Pool(WORKER) as p:\n",
    "    res = p.map(do_calc, data)\n",
    "\n",
    "stat = {}\n",
    "for l in res:\n",
    "    for d in l:\n",
    "        if d not in stat:\n",
    "            stat[d] = []\n",
    "        stat[d].extend(l[d])\n",
    "print('err_mean:', np.mean(stat['delta']))\n",
    "print('err_min:', np.min(stat['delta']))\n",
    "print('err_max:', np.max(stat['delta']))\n",
    "print(np.mean(np.array(stat['time_l']) / np.array(stat['time_h'])))"
   ],
   "metadata": {
    "collapsed": false,
    "ExecuteTime": {
     "end_time": "2024-10-27T20:22:24.683145Z",
     "start_time": "2024-10-27T20:22:07.126850Z"
    }
   },
   "id": "d7674e5d2cbc4bb2",
   "execution_count": 307
  }
 ],
 "metadata": {
  "kernelspec": {
   "display_name": "Python 3",
   "language": "python",
   "name": "python3"
  },
  "language_info": {
   "codemirror_mode": {
    "name": "ipython",
    "version": 2
   },
   "file_extension": ".py",
   "mimetype": "text/x-python",
   "name": "python",
   "nbconvert_exporter": "python",
   "pygments_lexer": "ipython2",
   "version": "2.7.6"
  }
 },
 "nbformat": 4,
 "nbformat_minor": 5
}
