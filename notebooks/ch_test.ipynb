{
 "cells": [
  {
   "cell_type": "code",
   "outputs": [],
   "source": [
    "import logging\n",
    "import sys\n",
    "\n",
    "import numpy as np\n",
    "\n",
    "root = logging.getLogger()\n",
    "root.setLevel(logging.INFO)\n",
    "\n",
    "handler = logging.StreamHandler(sys.stdout)\n",
    "handler.setLevel(logging.INFO)\n",
    "formatter = logging.Formatter('%(asctime)s - %(name)s - %(levelname)s - %(message)s')\n",
    "handler.setFormatter(formatter)\n",
    "root.addHandler(handler)"
   ],
   "metadata": {
    "collapsed": false,
    "ExecuteTime": {
     "end_time": "2025-06-24T15:04:28.722566Z",
     "start_time": "2025-06-24T15:04:28.717541Z"
    }
   },
   "id": "dde76cebf871e8c3",
   "execution_count": 8
  },
  {
   "cell_type": "code",
   "outputs": [],
   "source": [
    "import sys\n",
    "\n",
    "sys.path.append('../scripts')\n",
    "sys.path.append('../')\n",
    "\n",
    "from scripts import graph_osm_loader\n",
    "from scripts import pipeline, centroids_graph_builder, clustering\n",
    "from scripts.path_findings import excraction_pfa, dijkstra_pfa\n",
    "from scripts import utils"
   ],
   "metadata": {
    "collapsed": false,
    "ExecuteTime": {
     "end_time": "2025-06-24T15:04:28.730903Z",
     "start_time": "2025-06-24T15:04:28.724950Z"
    }
   },
   "id": "e9ed6a4c09332b67",
   "execution_count": 9
  },
  {
   "cell_type": "code",
   "outputs": [
    {
     "name": "stdout",
     "output_type": "stream",
     "text": [
      "723 1046\n"
     ]
    }
   ],
   "source": [
    "GRAPH_ID = 'R13470549'  # R13470549 R2555133 R3766483\n",
    "# примеры id есть в graph_osm_loader.py\n",
    "g = graph_osm_loader.get_graph(GRAPH_ID)\n",
    "print(len(g.nodes), len(g.edges))"
   ],
   "metadata": {
    "collapsed": false,
    "ExecuteTime": {
     "end_time": "2025-06-24T15:04:28.754876Z",
     "start_time": "2025-06-24T15:04:28.746642Z"
    }
   },
   "id": "f3d83b1cd99d1de9",
   "execution_count": 10
  },
  {
   "cell_type": "code",
   "outputs": [],
   "source": [
    "points = utils.read_points('R13470549', g, num=1000)"
   ],
   "metadata": {
    "collapsed": false,
    "ExecuteTime": {
     "end_time": "2025-06-24T15:04:28.803405Z",
     "start_time": "2025-06-24T15:04:28.798598Z"
    }
   },
   "id": "362ff279af79b465",
   "execution_count": 11
  },
  {
   "cell_type": "code",
   "outputs": [
    {
     "data": {
      "text/plain": "  0%|          | 0/1046 [00:00<?, ?it/s]",
      "application/vnd.jupyter.widget-view+json": {
       "version_major": 2,
       "version_minor": 0,
       "model_id": "a722761c2be8428d978f3ff89a4e42f6"
      }
     },
     "metadata": {},
     "output_type": "display_data"
    }
   ],
   "source": [
    "from tqdm.notebook import tqdm\n",
    "x = len(g.edges)/len(g.nodes)*4\n",
    "# print(x)\n",
    "for u,v,d in tqdm(g.edges(data=True)):\n",
    "    d['l'] = 1/(d['length'])\n",
    "    d['l_1'] = 1/(d['length'])**3"
   ],
   "metadata": {
    "collapsed": false,
    "ExecuteTime": {
     "end_time": "2025-06-24T15:04:28.848791Z",
     "start_time": "2025-06-24T15:04:28.829656Z"
    }
   },
   "id": "36d6320e84116664",
   "execution_count": 12
  },
  {
   "cell_type": "code",
   "outputs": [],
   "source": [
    "from scripts.path_findings import ch_builder\n",
    "\n",
    "baseline = dijkstra_pfa.Dijkstra(g)\n",
    "test_alg = ch_builder.PotentialChBuilder(iter = 5, alpha=0.5).build_ch_pfa(g)\n",
    "# test_alg = ch_builder.GreedyChBuilder().build_ch_pfa(g)\n",
    "\n",
    "stat_paper = pipeline.PfaComparator(\n",
    "    baseline=baseline,\n",
    "    test_algorithm=test_alg,\n",
    "    points=points,\n",
    "    workers=4\n",
    ").compare()"
   ],
   "metadata": {
    "collapsed": false,
    "is_executing": true,
    "ExecuteTime": {
     "start_time": "2025-06-24T15:04:39.060212Z"
    }
   },
   "id": "4325b5d0ed6e8858",
   "execution_count": null
  },
  {
   "cell_type": "code",
   "outputs": [
    {
     "data": {
      "text/plain": "\n        err_max:    0.0000\n        err_min:    -0.0000\n        err_median: 0.0000\n        err_mean:   0.0000\n        \n        acceleration_max:    19.9217\n        acceleration_min:    0.0969\n        acceleration_median: 2.3256\n        acceleration_mean:   3.1198\n        "
     },
     "execution_count": 14,
     "metadata": {},
     "output_type": "execute_result"
    }
   ],
   "source": [
    "stat_paper"
   ],
   "metadata": {
    "collapsed": false,
    "ExecuteTime": {
     "end_time": "2025-06-24T15:04:33.293063Z",
     "start_time": "2025-06-24T15:04:33.286041Z"
    }
   },
   "id": "b122f7950edcbb3",
   "execution_count": 14
  },
  {
   "cell_type": "code",
   "outputs": [],
   "source": [],
   "metadata": {
    "collapsed": false,
    "ExecuteTime": {
     "end_time": "2025-06-24T15:04:33.298502Z",
     "start_time": "2025-06-24T15:04:33.295512Z"
    }
   },
   "id": "f4ab9aef6d74cc40",
   "execution_count": 14
  }
 ],
 "metadata": {
  "kernelspec": {
   "display_name": "Python 3",
   "language": "python",
   "name": "python3"
  },
  "language_info": {
   "codemirror_mode": {
    "name": "ipython",
    "version": 2
   },
   "file_extension": ".py",
   "mimetype": "text/x-python",
   "name": "python",
   "nbconvert_exporter": "python",
   "pygments_lexer": "ipython2",
   "version": "2.7.6"
  }
 },
 "nbformat": 4,
 "nbformat_minor": 5
}
