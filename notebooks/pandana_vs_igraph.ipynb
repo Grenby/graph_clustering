{
 "cells": [
  {
   "cell_type": "code",
   "outputs": [],
   "source": [
    "import os\n",
    "import pickle\n",
    "import time\n",
    "from multiprocessing import Pool\n",
    "from time import sleep\n",
    "\n",
    "import networkx as nx\n",
    "import numpy as np\n",
    "# import pandana as pdna\n",
    "import pandas as pd\n",
    "from tqdm.notebook import trange, tqdm\n",
    "import igraph as ig\n",
    "from scripts import graph_osm_loader, utils, pipeline\n",
    "from scripts.pfa import Path"
   ],
   "metadata": {
    "collapsed": false,
    "ExecuteTime": {
     "end_time": "2024-12-21T13:49:30.146013Z",
     "start_time": "2024-12-21T13:49:28.224193Z"
    }
   },
   "id": "initial_id",
   "execution_count": 2
  },
  {
   "cell_type": "markdown",
   "source": [
    "Примеры как резолвить комьюнити"
   ],
   "metadata": {
    "collapsed": false
   },
   "id": "24e484a2a3e88df1"
  },
  {
   "cell_type": "code",
   "outputs": [],
   "source": [
    "GRAPH_ID = 'R13470549'  # R13470549 R2555133 R337422"
   ],
   "metadata": {
    "collapsed": false,
    "ExecuteTime": {
     "end_time": "2024-12-21T13:50:17.392928Z",
     "start_time": "2024-12-21T13:50:17.389658Z"
    }
   },
   "id": "3b4742a1a125081c",
   "execution_count": 5
  },
  {
   "cell_type": "code",
   "outputs": [
    {
     "data": {
      "text/plain": "(723, 1046)"
     },
     "execution_count": 6,
     "metadata": {},
     "output_type": "execute_result"
    }
   ],
   "source": [
    "# примеры id есть в graph_osm_loader.py\n",
    "g = graph_osm_loader.get_graph(GRAPH_ID)  # загрузка графа\n",
    "len(g.nodes), len(g.edges)"
   ],
   "metadata": {
    "collapsed": false,
    "ExecuteTime": {
     "end_time": "2024-12-21T13:50:17.577869Z",
     "start_time": "2024-12-21T13:50:17.568482Z"
    }
   },
   "id": "b219e78cf93171f5",
   "execution_count": 6
  },
  {
   "cell_type": "code",
   "outputs": [],
   "source": [
    "node2id = {u: i for i, u in enumerate(g.nodes())}\n",
    "nodes_x = [d['x'] for _, d in g.nodes(data=True)]\n",
    "nodes_y = [d['y'] for _, d in g.nodes(data=True)]\n",
    "edges_from = [node2id[u] for u, _ in g.edges()]\n",
    "edges_to = [node2id[v] for _, v in g.edges()]\n",
    "edges_w = [d['length'] for u, v, d in g.edges(data=True)]\n",
    "df = pd.DataFrame.from_dict({\n",
    "    'x': nodes_x,\n",
    "    'y': nodes_y\n",
    "})\n",
    "df1 = pd.DataFrame.from_dict(\n",
    "    {\n",
    "        'f': edges_from,\n",
    "        't': edges_to,\n",
    "        'w': edges_w\n",
    "    }\n",
    ")\n"
   ],
   "metadata": {
    "collapsed": false,
    "ExecuteTime": {
     "end_time": "2024-12-21T13:50:18.521256Z",
     "start_time": "2024-12-21T13:50:18.510623Z"
    }
   },
   "id": "3375acb3bb6a079",
   "execution_count": 7
  },
  {
   "cell_type": "code",
   "outputs": [],
   "source": [],
   "metadata": {
    "collapsed": false,
    "ExecuteTime": {
     "end_time": "2024-12-21T13:50:18.981580Z",
     "start_time": "2024-12-21T13:50:18.977985Z"
    }
   },
   "id": "d7d366183b908e7f",
   "execution_count": 7
  },
  {
   "cell_type": "code",
   "outputs": [],
   "source": [
    "G = ig.Graph(n=len(nodes_x), edges=[[edges_from[i], edges_to[i]] for i in range(len(edges_to))],\n",
    "                 edge_attrs={'weight': edges_w})"
   ],
   "metadata": {
    "collapsed": false,
    "ExecuteTime": {
     "end_time": "2024-12-21T13:50:19.416330Z",
     "start_time": "2024-12-21T13:50:19.411378Z"
    }
   },
   "id": "5a81630e3219f00c",
   "execution_count": 8
  },
  {
   "cell_type": "code",
   "outputs": [],
   "source": [
    "net_ch = pdna.Network(df['x'], df['y'], df1['f'], df1['t'], df1[['w']])\n",
    "# net_ch.precompute(10_000)"
   ],
   "metadata": {
    "collapsed": false
   },
   "id": "a9a6414ea9d331a7",
   "execution_count": null
  },
  {
   "cell_type": "code",
   "outputs": [],
   "source": [
    "points= utils.generate_points(g)"
   ],
   "metadata": {
    "collapsed": false,
    "ExecuteTime": {
     "end_time": "2024-12-21T13:50:21.516437Z",
     "start_time": "2024-12-21T13:50:21.504669Z"
    }
   },
   "id": "950e8ced345d955d",
   "execution_count": 9
  },
  {
   "cell_type": "code",
   "outputs": [],
   "source": [],
   "metadata": {
    "collapsed": false,
    "ExecuteTime": {
     "end_time": "2024-12-21T13:50:21.794019Z",
     "start_time": "2024-12-21T13:50:21.791270Z"
    }
   },
   "id": "8fbc16b99d5a461",
   "execution_count": 9
  },
  {
   "cell_type": "code",
   "outputs": [],
   "source": [],
   "metadata": {
    "collapsed": false,
    "ExecuteTime": {
     "end_time": "2024-12-21T13:50:21.995836Z",
     "start_time": "2024-12-21T13:50:21.993392Z"
    }
   },
   "id": "966d360e9a0575eb",
   "execution_count": 9
  },
  {
   "cell_type": "code",
   "outputs": [],
   "source": [
    "from scripts import pfa\n",
    "\n",
    "\n",
    "class IGraphPfa(pfa.PathFinding):\n",
    "    def find_path(self, start: int, end: int)-> Path:\n",
    "        p = G.get_shortest_paths(node2id[start],node2id[end], weights=G.es[\"weight\"], output=\"epath\",algorithm = 'dijkstra')\n",
    "        l = 0\n",
    "        for e in p[0]:\n",
    "            l += G.es[e][\"weight\"]\n",
    "        return l,p\n",
    "    \n",
    "class PandanaPfa(pfa.PathFinding):\n",
    "    def find_path(self, start: int, end: int)-> Path:\n",
    "        return net_ch.shortest_path_length(node2id[start], node2id[end])"
   ],
   "metadata": {
    "collapsed": false,
    "ExecuteTime": {
     "end_time": "2024-12-21T13:50:22.189081Z",
     "start_time": "2024-12-21T13:50:22.184235Z"
    }
   },
   "id": "be370b1ceefa8176",
   "execution_count": 10
  },
  {
   "cell_type": "code",
   "outputs": [
    {
     "name": "stdout",
     "output_type": "stream",
     "text": [
      "start 0\n"
     ]
    },
    {
     "data": {
      "text/plain": "find paths:   0%|          | 0/100 [00:00<?, ?it/s]",
      "application/vnd.jupyter.widget-view+json": {
       "version_major": 2,
       "version_minor": 0,
       "model_id": "ed3cefa52904474fb88788087c0b2790"
      }
     },
     "metadata": {},
     "output_type": "display_data"
    },
    {
     "name": "stdout",
     "output_type": "stream",
     "text": [
      "start 1\n"
     ]
    },
    {
     "data": {
      "text/plain": "find paths:   0%|          | 0/100 [00:00<?, ?it/s]",
      "application/vnd.jupyter.widget-view+json": {
       "version_major": 2,
       "version_minor": 0,
       "model_id": "cd6cd1519abe418fbe4a3489300bae91"
      }
     },
     "metadata": {},
     "output_type": "display_data"
    },
    {
     "name": "stdout",
     "output_type": "stream",
     "text": [
      "start 2\n"
     ]
    },
    {
     "data": {
      "text/plain": "find paths:   0%|          | 0/100 [00:00<?, ?it/s]",
      "application/vnd.jupyter.widget-view+json": {
       "version_major": 2,
       "version_minor": 0,
       "model_id": "a87fda8a7050412794d3e184475685ce"
      }
     },
     "metadata": {},
     "output_type": "display_data"
    },
    {
     "name": "stdout",
     "output_type": "stream",
     "text": [
      "start 3\n"
     ]
    },
    {
     "data": {
      "text/plain": "find paths:   0%|          | 0/100 [00:00<?, ?it/s]",
      "application/vnd.jupyter.widget-view+json": {
       "version_major": 2,
       "version_minor": 0,
       "model_id": "48d358556b504e7bb9379ebdcfa573a4"
      }
     },
     "metadata": {},
     "output_type": "display_data"
    },
    {
     "name": "stdout",
     "output_type": "stream",
     "text": [
      "start 4\n"
     ]
    },
    {
     "data": {
      "text/plain": "find paths:   0%|          | 0/100 [00:00<?, ?it/s]",
      "application/vnd.jupyter.widget-view+json": {
       "version_major": 2,
       "version_minor": 0,
       "model_id": "831b9d52632e40dfa443b4cc7d68a5e5"
      }
     },
     "metadata": {},
     "output_type": "display_data"
    },
    {
     "name": "stdout",
     "output_type": "stream",
     "text": [
      "start 5\n"
     ]
    },
    {
     "data": {
      "text/plain": "find paths:   0%|          | 0/100 [00:00<?, ?it/s]",
      "application/vnd.jupyter.widget-view+json": {
       "version_major": 2,
       "version_minor": 0,
       "model_id": "184fccf15e2b448eb0451759dc80ae60"
      }
     },
     "metadata": {},
     "output_type": "display_data"
    },
    {
     "name": "stdout",
     "output_type": "stream",
     "text": [
      "start 6\n"
     ]
    },
    {
     "data": {
      "text/plain": "find paths:   0%|          | 0/100 [00:00<?, ?it/s]",
      "application/vnd.jupyter.widget-view+json": {
       "version_major": 2,
       "version_minor": 0,
       "model_id": "6ae7aa44df6849248a21f78f63a90281"
      }
     },
     "metadata": {},
     "output_type": "display_data"
    },
    {
     "name": "stdout",
     "output_type": "stream",
     "text": [
      "start 7\n"
     ]
    },
    {
     "data": {
      "text/plain": "find paths:   0%|          | 0/100 [00:00<?, ?it/s]",
      "application/vnd.jupyter.widget-view+json": {
       "version_major": 2,
       "version_minor": 0,
       "model_id": "c1ed02573b294e3688f60978e0324e9a"
      }
     },
     "metadata": {},
     "output_type": "display_data"
    },
    {
     "name": "stdout",
     "output_type": "stream",
     "text": [
      "start 8\n"
     ]
    },
    {
     "data": {
      "text/plain": "find paths:   0%|          | 0/100 [00:00<?, ?it/s]",
      "application/vnd.jupyter.widget-view+json": {
       "version_major": 2,
       "version_minor": 0,
       "model_id": "41bb2188cdbc400e8b38f8cd0a63deca"
      }
     },
     "metadata": {},
     "output_type": "display_data"
    },
    {
     "name": "stdout",
     "output_type": "stream",
     "text": [
      "start 9\n"
     ]
    },
    {
     "data": {
      "text/plain": "find paths:   0%|          | 0/100 [00:00<?, ?it/s]",
      "application/vnd.jupyter.widget-view+json": {
       "version_major": 2,
       "version_minor": 0,
       "model_id": "d8d1f03c21ff4101bc0a52b424b0cebc"
      }
     },
     "metadata": {},
     "output_type": "display_data"
    },
    {
     "data": {
      "text/plain": "\n        err_max:    0.0000\n        err_min:    0.0000\n        err_median: 0.0000\n        err_mean:   0.0000\n        \n        acceleration_max:    4.6941\n        acceleration_min:    0.6387\n        acceleration_median: 1.1120\n        acceleration_mean:   1.1464\n        "
     },
     "execution_count": 11,
     "metadata": {},
     "output_type": "execute_result"
    }
   ],
   "source": [
    "stat = pipeline.PfaComparator(\n",
    "    baseline=IGraphPfa(g = g),\n",
    "    test_algorithm=PandanaPfa(g =g),\n",
    "    points=points,\n",
    "    workers=10\n",
    ").compare()\n",
    "stat"
   ],
   "metadata": {
    "collapsed": false,
    "ExecuteTime": {
     "end_time": "2024-12-21T13:50:24.397846Z",
     "start_time": "2024-12-21T13:50:22.751778Z"
    }
   },
   "id": "8b37d9d5180feae6",
   "execution_count": 11
  },
  {
   "cell_type": "code",
   "outputs": [],
   "source": [],
   "metadata": {
    "collapsed": false
   },
   "id": "5a7e538473fafaa5"
  }
 ],
 "metadata": {
  "kernelspec": {
   "display_name": "Python 3",
   "language": "python",
   "name": "python3"
  },
  "language_info": {
   "codemirror_mode": {
    "name": "ipython",
    "version": 2
   },
   "file_extension": ".py",
   "mimetype": "text/x-python",
   "name": "python",
   "nbconvert_exporter": "python",
   "pygments_lexer": "ipython2",
   "version": "2.7.6"
  }
 },
 "nbformat": 4,
 "nbformat_minor": 5
}
