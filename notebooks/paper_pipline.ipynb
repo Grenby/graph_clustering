{
 "cells": [
  {
   "cell_type": "code",
   "outputs": [],
   "source": [
    "import logging\n",
    "import sys\n",
    "\n",
    "root = logging.getLogger()\n",
    "root.setLevel(logging.INFO)\n",
    "\n",
    "handler = logging.StreamHandler(sys.stdout)\n",
    "handler.setLevel(logging.INFO)\n",
    "formatter = logging.Formatter('%(asctime)s - %(name)s - %(levelname)s - %(message)s')\n",
    "handler.setFormatter(formatter)\n",
    "root.addHandler(handler)"
   ],
   "metadata": {
    "collapsed": false,
    "ExecuteTime": {
     "end_time": "2024-12-21T13:09:44.077890Z",
     "start_time": "2024-12-21T13:09:44.074264Z"
    }
   },
   "id": "dde76cebf871e8c3",
   "execution_count": 1
  },
  {
   "cell_type": "code",
   "outputs": [],
   "source": [
    "import sys\n",
    "\n",
    "sys.path.append('../scripts')\n",
    "sys.path.append('../')\n",
    "\n",
    "from scripts import graph_osm_loader\n",
    "from scripts import pipeline, centroids_graph_builder, clustering\n",
    "from scripts.path_findings import excraction_pfa, dijkstra_pfa\n",
    "from scripts import utils\n",
    "import scripts"
   ],
   "metadata": {
    "collapsed": false,
    "ExecuteTime": {
     "end_time": "2024-12-21T13:09:45.407315Z",
     "start_time": "2024-12-21T13:09:44.078963Z"
    }
   },
   "id": "e9ed6a4c09332b67",
   "execution_count": 2
  },
  {
   "cell_type": "code",
   "outputs": [
    {
     "name": "stdout",
     "output_type": "stream",
     "text": [
      "723 1046\n"
     ]
    }
   ],
   "source": [
    "GRAPH_ID = 'R13470549'  # R13470549 R2555133 R3766483\n",
    "# примеры id есть в graph_osm_loader.py\n",
    "g = graph_osm_loader.get_graph(GRAPH_ID)\n",
    "print(len(g.nodes), len(g.edges))"
   ],
   "metadata": {
    "collapsed": false,
    "ExecuteTime": {
     "end_time": "2024-12-21T13:09:45.411779Z",
     "start_time": "2024-12-21T13:09:45.407981Z"
    }
   },
   "id": "f3d83b1cd99d1de9",
   "execution_count": 3
  },
  {
   "cell_type": "code",
   "outputs": [],
   "source": [
    "points = utils.read_points(GRAPH_ID, g, num=1000)"
   ],
   "metadata": {
    "collapsed": false,
    "ExecuteTime": {
     "end_time": "2024-12-21T13:09:45.415659Z",
     "start_time": "2024-12-21T13:09:45.412575Z"
    }
   },
   "id": "362ff279af79b465",
   "execution_count": 4
  },
  {
   "cell_type": "code",
   "outputs": [
    {
     "data": {
      "text/plain": "find centroids:   0%|          | 0/143 [00:00<?, ?it/s]",
      "application/vnd.jupyter.widget-view+json": {
       "version_major": 2,
       "version_minor": 0,
       "model_id": "1e8d597768db45fcae22c45d59a1e21f"
      }
     },
     "metadata": {},
     "output_type": "display_data"
    },
    {
     "data": {
      "text/plain": "find edges:   0%|          | 0/143 [00:00<?, ?it/s]",
      "application/vnd.jupyter.widget-view+json": {
       "version_major": 2,
       "version_minor": 0,
       "model_id": "039f8211a9a246648397fde5a4563318"
      }
     },
     "metadata": {},
     "output_type": "display_data"
    }
   ],
   "source": [
    "cms_resolver = clustering.LouvainCommunityResolver(resolution=25)\n",
    "cg = centroids_graph_builder.CentroidGraphBuilder().build(g, cms_resolver)\n",
    "\n",
    "baseline = dijkstra_pfa.Dijkstra(g)\n",
    "\n",
    "test_alg = excraction_pfa.ExtractionPfa(\n",
    "    g = g,\n",
    "    cg=cg,\n",
    "    upper=dijkstra_pfa.Dijkstra(cg.g),\n",
    "    down=dijkstra_pfa.Dijkstra(g)\n",
    ")"
   ],
   "metadata": {
    "collapsed": false,
    "ExecuteTime": {
     "end_time": "2024-12-21T13:09:45.482222Z",
     "start_time": "2024-12-21T13:09:45.416116Z"
    }
   },
   "id": "4325b5d0ed6e8858",
   "execution_count": 5
  },
  {
   "cell_type": "code",
   "outputs": [
    {
     "name": "stdout",
     "output_type": "stream",
     "text": [
      "start 0\n"
     ]
    },
    {
     "data": {
      "text/plain": "find paths:   0%|          | 0/100 [00:00<?, ?it/s]",
      "application/vnd.jupyter.widget-view+json": {
       "version_major": 2,
       "version_minor": 0,
       "model_id": "df18de5021404dec86c7670f7bbba9d4"
      }
     },
     "metadata": {},
     "output_type": "display_data"
    },
    {
     "name": "stdout",
     "output_type": "stream",
     "text": [
      "start 1\n"
     ]
    },
    {
     "data": {
      "text/plain": "find paths:   0%|          | 0/100 [00:00<?, ?it/s]",
      "application/vnd.jupyter.widget-view+json": {
       "version_major": 2,
       "version_minor": 0,
       "model_id": "54f864bbcf60491c9fdb39f85853fda0"
      }
     },
     "metadata": {},
     "output_type": "display_data"
    },
    {
     "name": "stdout",
     "output_type": "stream",
     "text": [
      "start 2\n"
     ]
    },
    {
     "data": {
      "text/plain": "find paths:   0%|          | 0/100 [00:00<?, ?it/s]",
      "application/vnd.jupyter.widget-view+json": {
       "version_major": 2,
       "version_minor": 0,
       "model_id": "aadb8a2a8a9d45ea9292f0de03b7ddd9"
      }
     },
     "metadata": {},
     "output_type": "display_data"
    },
    {
     "name": "stdout",
     "output_type": "stream",
     "text": [
      "start 3\n"
     ]
    },
    {
     "data": {
      "text/plain": "find paths:   0%|          | 0/100 [00:00<?, ?it/s]",
      "application/vnd.jupyter.widget-view+json": {
       "version_major": 2,
       "version_minor": 0,
       "model_id": "dfa31f5c67dd49ca8e5987f055ff0838"
      }
     },
     "metadata": {},
     "output_type": "display_data"
    },
    {
     "name": "stdout",
     "output_type": "stream",
     "text": [
      "start 4\n"
     ]
    },
    {
     "data": {
      "text/plain": "find paths:   0%|          | 0/100 [00:00<?, ?it/s]",
      "application/vnd.jupyter.widget-view+json": {
       "version_major": 2,
       "version_minor": 0,
       "model_id": "9c0d01412df14749917f136ff209b93c"
      }
     },
     "metadata": {},
     "output_type": "display_data"
    },
    {
     "name": "stdout",
     "output_type": "stream",
     "text": [
      "start 5\n"
     ]
    },
    {
     "data": {
      "text/plain": "find paths:   0%|          | 0/100 [00:00<?, ?it/s]",
      "application/vnd.jupyter.widget-view+json": {
       "version_major": 2,
       "version_minor": 0,
       "model_id": "586b7b2737394c61966d09f49d3a968c"
      }
     },
     "metadata": {},
     "output_type": "display_data"
    },
    {
     "name": "stdout",
     "output_type": "stream",
     "text": [
      "start 6\n"
     ]
    },
    {
     "data": {
      "text/plain": "find paths:   0%|          | 0/100 [00:00<?, ?it/s]",
      "application/vnd.jupyter.widget-view+json": {
       "version_major": 2,
       "version_minor": 0,
       "model_id": "9f66b127f1c54903b346959d6758eb82"
      }
     },
     "metadata": {},
     "output_type": "display_data"
    },
    {
     "name": "stdout",
     "output_type": "stream",
     "text": [
      "start 7\n"
     ]
    },
    {
     "data": {
      "text/plain": "find paths:   0%|          | 0/100 [00:00<?, ?it/s]",
      "application/vnd.jupyter.widget-view+json": {
       "version_major": 2,
       "version_minor": 0,
       "model_id": "ee106ae33b994de1a4244231cec47984"
      }
     },
     "metadata": {},
     "output_type": "display_data"
    },
    {
     "name": "stdout",
     "output_type": "stream",
     "text": [
      "start 8\n"
     ]
    },
    {
     "data": {
      "text/plain": "find paths:   0%|          | 0/100 [00:00<?, ?it/s]",
      "application/vnd.jupyter.widget-view+json": {
       "version_major": 2,
       "version_minor": 0,
       "model_id": "59b2c4318e7b41e193b55e52419fa25a"
      }
     },
     "metadata": {},
     "output_type": "display_data"
    },
    {
     "name": "stdout",
     "output_type": "stream",
     "text": [
      "start 9\n"
     ]
    },
    {
     "data": {
      "text/plain": "find paths:   0%|          | 0/100 [00:00<?, ?it/s]",
      "application/vnd.jupyter.widget-view+json": {
       "version_major": 2,
       "version_minor": 0,
       "model_id": "cccb4a4974a64c9985987e033d144ae2"
      }
     },
     "metadata": {},
     "output_type": "display_data"
    }
   ],
   "source": [
    "stat = pipeline.PfaComparator(\n",
    "    baseline=baseline,\n",
    "    test_algorithm=test_alg,\n",
    "    points=points,\n",
    "    workers=10\n",
    ").compare()"
   ],
   "metadata": {
    "collapsed": false,
    "ExecuteTime": {
     "end_time": "2024-12-21T13:28:58.221655Z",
     "start_time": "2024-12-21T13:28:56.605177Z"
    }
   },
   "id": "ae3121ce02585050",
   "execution_count": 8
  },
  {
   "cell_type": "code",
   "outputs": [
    {
     "data": {
      "text/plain": "\n        err_max:    180.7498\n        err_min:    0.0000\n        err_median: 5.8505\n        err_mean:   9.0262\n        \n        acceleration_max:    8.3152\n        acceleration_min:    0.4268\n        acceleration_median: 2.4001\n        acceleration_mean:   2.5081\n        "
     },
     "execution_count": 9,
     "metadata": {},
     "output_type": "execute_result"
    }
   ],
   "source": [
    "stat"
   ],
   "metadata": {
    "collapsed": false,
    "ExecuteTime": {
     "end_time": "2024-12-21T13:28:58.770046Z",
     "start_time": "2024-12-21T13:28:58.764906Z"
    }
   },
   "id": "987dc47fb30c404",
   "execution_count": 9
  },
  {
   "cell_type": "code",
   "outputs": [],
   "source": [],
   "metadata": {
    "collapsed": false
   },
   "id": "a693144e02e9f060"
  }
 ],
 "metadata": {
  "kernelspec": {
   "display_name": "Python 3",
   "language": "python",
   "name": "python3"
  },
  "language_info": {
   "codemirror_mode": {
    "name": "ipython",
    "version": 2
   },
   "file_extension": ".py",
   "mimetype": "text/x-python",
   "name": "python",
   "nbconvert_exporter": "python",
   "pygments_lexer": "ipython2",
   "version": "2.7.6"
  }
 },
 "nbformat": 4,
 "nbformat_minor": 5
}
