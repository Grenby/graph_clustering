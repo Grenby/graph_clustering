{
 "cells": [
  {
   "cell_type": "code",
   "execution_count": 1,
   "id": "92641b5d828c9de8",
   "metadata": {
    "collapsed": false,
    "ExecuteTime": {
     "end_time": "2024-12-09T18:47:12.401076Z",
     "start_time": "2024-12-09T18:47:11.517907Z"
    }
   },
   "outputs": [],
   "source": [
    "import logging\n",
    "import sys\n",
    "\n",
    "import matplotlib.pyplot as plt\n",
    "\n",
    "root = logging.getLogger()\n",
    "root.setLevel(logging.INFO)\n",
    "\n",
    "handler = logging.StreamHandler(sys.stdout)\n",
    "handler.setLevel(logging.INFO)\n",
    "formatter = logging.Formatter('%(asctime)s - %(name)s - %(levelname)s - %(message)s')\n",
    "handler.setFormatter(formatter)\n",
    "root.addHandler(handler)"
   ]
  },
  {
   "cell_type": "code",
   "outputs": [],
   "source": [
    "import logging\n",
    "import sys\n",
    "\n",
    "import matplotlib.pyplot as plt\n",
    "\n",
    "root = logging.getLogger()\n",
    "root.setLevel(logging.INFO)\n",
    "\n",
    "handler = logging.StreamHandler(sys.stdout)\n",
    "handler.setLevel(logging.INFO)\n",
    "formatter = logging.Formatter('%(asctime)s - %(name)s - %(levelname)s - %(message)s')\n",
    "handler.setFormatter(formatter)\n",
    "root.addHandler(handler)"
   ],
   "metadata": {
    "collapsed": false,
    "ExecuteTime": {
     "end_time": "2024-12-09T18:47:12.411117Z",
     "start_time": "2024-12-09T18:47:12.404287Z"
    }
   },
   "id": "a02dc84e2c97c4f8",
   "execution_count": 2
  },
  {
   "cell_type": "code",
   "execution_count": 3,
   "id": "679e292ddcafdd40",
   "metadata": {
    "collapsed": false,
    "ExecuteTime": {
     "end_time": "2024-12-09T18:47:14.629531Z",
     "start_time": "2024-12-09T18:47:12.413413Z"
    }
   },
   "outputs": [
    {
     "name": "stdout",
     "output_type": "stream",
     "text": [
      "2024-12-09 21:47:12,763 - numexpr.utils - INFO - NumExpr defaulting to 8 threads.\n",
      "2024-12-09 21:47:12,763 - numexpr.utils - INFO - NumExpr defaulting to 8 threads.\n"
     ]
    }
   ],
   "source": [
    "import sys\n",
    "\n",
    "sys.path.append('../scripts')\n",
    "sys.path.append('../')\n",
    "from scripts import centroids_graph_builder\n",
    "from time import sleep\n",
    "from multiprocessing import Pool\n",
    "\n",
    "import numpy as np\n",
    "from tqdm.notebook import trange, tqdm\n",
    "from scripts import graph_osm_loader, utils\n",
    "\n",
    "import networkx as nx\n",
    "\n",
    "from heapq import heappop, heappush\n",
    "from itertools import count\n",
    "from scripts import clustering"
   ]
  },
  {
   "cell_type": "code",
   "execution_count": 4,
   "id": "34f910ca623208b5",
   "metadata": {
    "collapsed": false,
    "ExecuteTime": {
     "end_time": "2024-12-09T18:47:14.644808Z",
     "start_time": "2024-12-09T18:47:14.631898Z"
    }
   },
   "outputs": [],
   "source": [
    "def get_rand_graph(N, p):\n",
    "    G = nx.fast_gnp_random_graph(N, p, directed=False)\n",
    "    if not nx.is_connected(G):\n",
    "        tmp = []\n",
    "        for n in nx.connected_components(G):\n",
    "            for q in n:\n",
    "                tmp.append(q)\n",
    "                break\n",
    "        for i in range(len(tmp) - 1):\n",
    "            G.add_edge(tmp[i], tmp[i + 1])\n",
    "    for e in G.edges:\n",
    "        G.add_edge(e[0], e[1], length=np.random.random_sample() + 0.001)\n",
    "    for u in G.nodes:\n",
    "        if u in G[u]:\n",
    "            G.remove_edge(u, u)\n",
    "    return G"
   ]
  },
  {
   "cell_type": "code",
   "execution_count": 5,
   "id": "78e5833ef3ec5a4c",
   "metadata": {
    "collapsed": false,
    "ExecuteTime": {
     "end_time": "2024-12-09T18:47:14.654054Z",
     "start_time": "2024-12-09T18:47:14.649451Z"
    }
   },
   "outputs": [],
   "source": [
    "NUM_ITERATION = 10  # чтобы уменьшить ошибку при вычислении времени выполнения, при каждом замере время меряется для NUM_ITERATION повторений\n",
    "WORKER = 5  # количество потоков"
   ]
  },
  {
   "cell_type": "code",
   "execution_count": 6,
   "id": "1b60f4b11aad1567",
   "metadata": {
    "collapsed": false,
    "ExecuteTime": {
     "end_time": "2024-12-09T18:47:14.669688Z",
     "start_time": "2024-12-09T18:47:14.656697Z"
    }
   },
   "outputs": [
    {
     "name": "stdout",
     "output_type": "stream",
     "text": [
      "715 1038\n"
     ]
    }
   ],
   "source": [
    "GRAPH_ID = 'R13470549'  # R13470549 R2555133 R3766483\n",
    "# примеры id есть в graph_osm_loader.py\n",
    "# g = get_rand_graph(1000, 0.1)  # загрузка графа\n",
    "N = 10000\n",
    "p = 3 / N\n",
    "# g = get_rand_graph(N,p)\n",
    "# g = get_graph()\n",
    "g = graph_osm_loader.get_graph(GRAPH_ID)\n",
    "print(len(g.nodes), len(g.edges))"
   ]
  },
  {
   "cell_type": "code",
   "execution_count": 7,
   "id": "af782e49baab793a",
   "metadata": {
    "collapsed": false,
    "ExecuteTime": {
     "end_time": "2024-12-09T18:47:14.679670Z",
     "start_time": "2024-12-09T18:47:14.672631Z"
    }
   },
   "outputs": [],
   "source": [
    "g.remove_edges_from(nx.selfloop_edges(g))"
   ]
  },
  {
   "cell_type": "code",
   "execution_count": 8,
   "id": "64b0c1b8f91aeb84",
   "metadata": {
    "collapsed": false,
    "ExecuteTime": {
     "end_time": "2024-12-09T18:47:15.456455Z",
     "start_time": "2024-12-09T18:47:14.683477Z"
    }
   },
   "outputs": [
    {
     "name": "stdout",
     "output_type": "stream",
     "text": [
      "2024-12-09 21:47:14,828 - root - INFO - communities: 88\n",
      "2024-12-09 21:47:14,828 - root - INFO - communities: 88\n"
     ]
    },
    {
     "name": "stderr",
     "output_type": "stream",
     "text": [
      "100%|██████████| 100/100 [00:00<00:00, 161.91it/s]"
     ]
    },
    {
     "name": "stdout",
     "output_type": "stream",
     "text": [
      "88\n"
     ]
    },
    {
     "name": "stderr",
     "output_type": "stream",
     "text": [
      "\n"
     ]
    }
   ],
   "source": [
    "cms = clustering.resolve_k_means_communities(g, resolution=10, max_iteration=100, cluster_name='cluster',\n",
    "                                             print_log=True)\n",
    "print(len(cms))"
   ]
  },
  {
   "cell_type": "code",
   "execution_count": 9,
   "id": "1ae3134a9a2e6ae2",
   "metadata": {
    "collapsed": false,
    "ExecuteTime": {
     "end_time": "2024-12-09T18:47:15.472202Z",
     "start_time": "2024-12-09T18:47:15.459033Z"
    }
   },
   "outputs": [],
   "source": [
    "cls2hubs = {}\n",
    "cls2n = centroids_graph_builder.get_cls2n(g)\n",
    "for i, c in enumerate(cms):\n",
    "    for j in cls2n[i]:\n",
    "        if (i, j) in cls2hubs:\n",
    "            continue\n",
    "        a = set()\n",
    "        b = set()\n",
    "        for u in c:\n",
    "            for v in g[u]:\n",
    "                if v in cms[j]:\n",
    "                    a.add(u)\n",
    "                    b.add(v)\n",
    "        cls2hubs[i, j] = a if len(a) < len(b) else b\n",
    "        cls2hubs[j, i] = a if len(a) < len(b) else b"
   ]
  },
  {
   "cell_type": "code",
   "execution_count": 10,
   "id": "ad09487d7d40493e",
   "metadata": {
    "collapsed": false,
    "ExecuteTime": {
     "end_time": "2024-12-09T18:47:15.488942Z",
     "start_time": "2024-12-09T18:47:15.475144Z"
    }
   },
   "outputs": [],
   "source": [
    "cls2hub = {}  # = centroids_graph_builder.get_cls2hubs(g)\n",
    "for i, j in cls2hubs:\n",
    "    if i not in cls2hub:\n",
    "        cls2hub[i] = set()\n",
    "    cls2hub[i].update(cls2hubs[i, j])\n",
    "del cls2hubs"
   ]
  },
  {
   "cell_type": "code",
   "execution_count": 11,
   "id": "464c5ebab86fa68",
   "metadata": {
    "collapsed": false,
    "ExecuteTime": {
     "end_time": "2024-12-09T18:47:15.497505Z",
     "start_time": "2024-12-09T18:47:15.491750Z"
    }
   },
   "outputs": [],
   "source": [
    "hubs = set([u for v in cls2hub.values() for u in v])"
   ]
  },
  {
   "cell_type": "code",
   "execution_count": 12,
   "id": "5bc9d050aa510b6d",
   "metadata": {
    "collapsed": false,
    "ExecuteTime": {
     "end_time": "2024-12-09T18:47:15.507918Z",
     "start_time": "2024-12-09T18:47:15.499966Z"
    }
   },
   "outputs": [],
   "source": [
    "hub2id = {h: i for i, h in enumerate(hubs)}\n",
    "id2hub = {i: h for i, h in enumerate(hubs)}"
   ]
  },
  {
   "cell_type": "code",
   "execution_count": 13,
   "id": "d5ca0891f5788ef3",
   "metadata": {
    "collapsed": false,
    "ExecuteTime": {
     "end_time": "2024-12-09T18:47:15.523782Z",
     "start_time": "2024-12-09T18:47:15.510770Z"
    }
   },
   "outputs": [
    {
     "data": {
      "text/plain": "214"
     },
     "execution_count": 13,
     "metadata": {},
     "output_type": "execute_result"
    }
   ],
   "source": [
    "len(set(hubs))"
   ]
  },
  {
   "cell_type": "code",
   "execution_count": 14,
   "id": "6966826e5e6cf3ff",
   "metadata": {
    "collapsed": false,
    "ExecuteTime": {
     "end_time": "2024-12-09T18:47:15.541876Z",
     "start_time": "2024-12-09T18:47:15.529754Z"
    }
   },
   "outputs": [],
   "source": [
    "def dijkstra_pfa_to_set(graph: nx.Graph,\n",
    "                        start: int,\n",
    "                        ends: set[int]\n",
    "                        ) -> \\\n",
    "        tuple[float, list[int]]:\n",
    "    adjacency = graph._adj\n",
    "    c = count()\n",
    "    push = heappush\n",
    "    pop = heappop\n",
    "    dist = {}\n",
    "    fringe = []\n",
    "\n",
    "    dist[start] = (0.0, None)\n",
    "    push(fringe, (0.0, next(c), start))\n",
    "    visited = set()\n",
    "    \n",
    "    while fringe:\n",
    "        (d, _, v) = pop(fringe)\n",
    "        if v in ends:\n",
    "            visited.add(v)\n",
    "        if len(visited) == len(ends):\n",
    "            break\n",
    "        \n",
    "        for u, e in adjacency[v].items():\n",
    "            vu_dist = d + e['length']\n",
    "            if u not in dist or dist[u][0] > vu_dist:\n",
    "                dist[u] = (vu_dist, v)\n",
    "                push(fringe, (vu_dist, next(c), u))\n",
    "    return dist\n"
   ]
  },
  {
   "cell_type": "code",
   "execution_count": 15,
   "id": "e17f4cedcf254346",
   "metadata": {
    "collapsed": false,
    "ExecuteTime": {
     "end_time": "2024-12-09T18:47:16.710805Z",
     "start_time": "2024-12-09T18:47:15.544847Z"
    }
   },
   "outputs": [
    {
     "data": {
      "text/plain": "  0%|          | 0/5 [00:00<?, ?it/s]",
      "application/vnd.jupyter.widget-view+json": {
       "version_major": 2,
       "version_minor": 0,
       "model_id": "0c60de6b09df43ef971d7a2e00082036"
      }
     },
     "metadata": {},
     "output_type": "display_data"
    }
   ],
   "source": [
    "def cals(data_partitions):\n",
    "    part, hubs, l = data_partitions\n",
    "    dst = {}\n",
    "\n",
    "    for u in part:\n",
    "        dst_u = dijkstra_pfa_to_set(g, u, hubs)\n",
    "        for v in hubs:\n",
    "            path = [v]\n",
    "            node = v\n",
    "            while dst_u[node][1] is not None:\n",
    "                node = dst_u[node][1]\n",
    "                path = path + [node]\n",
    "            \n",
    "            dst[hub2id[u], hub2id[v]] = (dst_u[v][0], path[1:-1])\n",
    "                \n",
    "    return dst\n",
    "\n",
    "\n",
    "data = [(list(hubs)[i::WORKER], hubs, len(hubs)) for i in range(WORKER)]\n",
    "with Pool(WORKER) as p:\n",
    "    dst = {k: v for d in tqdm(p.imap_unordered(cals, data), total=len(data)) for k, v in d.items()}"
   ]
  },
  {
   "cell_type": "code",
   "execution_count": 16,
   "id": "bad578e4001b961a",
   "metadata": {
    "collapsed": false,
    "ExecuteTime": {
     "end_time": "2024-12-09T18:47:16.895005Z",
     "start_time": "2024-12-09T18:47:16.712653Z"
    }
   },
   "outputs": [
    {
     "data": {
      "text/plain": "  0%|          | 0/5 [00:00<?, ?it/s]",
      "application/vnd.jupyter.widget-view+json": {
       "version_major": 2,
       "version_minor": 0,
       "model_id": "8d530011cff5442d8c3de09973791c58"
      }
     },
     "metadata": {},
     "output_type": "display_data"
    }
   ],
   "source": [
    "def cals(data_partitions):\n",
    "    part, l = data_partitions\n",
    "    res = {}\n",
    "    for u in part:\n",
    "        dst_u = dijkstra_pfa_to_set(g, u, cls2hub[g.nodes()[u]['cluster']])\n",
    "        for v in cls2hub[g.nodes()[u]['cluster']]:\n",
    "            path = [v]\n",
    "            node = v\n",
    "            while dst_u[node][1] is not None:\n",
    "                node = dst_u[node][1]\n",
    "                path = path + [node]\n",
    "            res[u, v] = (dst_u[v][0], path)\n",
    "    return res\n",
    "\n",
    "data = [(list(g.nodes)[i::WORKER], hubs) for i in range(WORKER)]\n",
    "with Pool(WORKER) as p:\n",
    "    d_nodes = {k: v for d in tqdm(p.imap_unordered(cals, data), total=len(data)) for k, v in d.items()}"
   ]
  },
  {
   "cell_type": "code",
   "execution_count": 17,
   "id": "c39d2d48cef2cd41",
   "metadata": {
    "collapsed": false,
    "ExecuteTime": {
     "end_time": "2024-12-09T18:47:20.231763Z",
     "start_time": "2024-12-09T18:47:16.898752Z"
    }
   },
   "outputs": [
    {
     "data": {
      "text/plain": "(1.8871536254882812, 56.177024841308594)"
     },
     "execution_count": 17,
     "metadata": {},
     "output_type": "execute_result"
    }
   ],
   "source": [
    "from pympler.asizeof import asizeof\n",
    "asizeof(d_nodes)/1024/1024, asizeof(dst)/1024/1024"
   ]
  },
  {
   "cell_type": "code",
   "execution_count": 44,
   "id": "aaa85e3ce1ab4772",
   "metadata": {
    "ExecuteTime": {
     "end_time": "2024-12-09T18:21:06.225432Z",
     "start_time": "2024-12-09T18:21:06.206270Z"
    },
    "collapsed": false
   },
   "outputs": [],
   "source": [
    "def dijkstra_pfa_cls(g, u, v):\n",
    "    nodes = g.nodes()\n",
    "    c1, c2 = nodes[u]['cluster'], nodes[v]['cluster']\n",
    "    if c1 == c2:\n",
    "        return nx.single_source_dijkstra(g, u, v, weight='length')\n",
    "    H1, H2 = None, None\n",
    "    d=float('inf')\n",
    "    for h1 in cls2hub[c1]:\n",
    "        for h2 in cls2hub[c2]:\n",
    "            tmp = d_nodes[u, h1][0] + d_nodes[v, h2][0] + dst[hub2id[h1], hub2id[h2]][0]\n",
    "            if tmp < d:\n",
    "                d = tmp\n",
    "                H1,H2 = h1,h2\n",
    "    return d, d_nodes[u,H1][1][::-1] + dst[hub2id[H1], hub2id[H2]][1][::-1] + d_nodes[v,H2][1]"
   ]
  },
  {
   "cell_type": "code",
   "execution_count": 45,
   "id": "c4102bdcb9677bd8",
   "metadata": {
    "ExecuteTime": {
     "end_time": "2024-12-09T18:21:06.566465Z",
     "start_time": "2024-12-09T18:21:06.536893Z"
    },
    "collapsed": false
   },
   "outputs": [
    {
     "data": {
      "application/vnd.jupyter.widget-view+json": {
       "model_id": "dd5de0e135904a27845a6901c029a52f",
       "version_major": 2,
       "version_minor": 0
      },
      "text/plain": [
       "generate points:   0%|          | 0/1000 [00:00<?, ?it/s]"
      ]
     },
     "metadata": {},
     "output_type": "display_data"
    }
   ],
   "source": [
    "# points = [(u,v) for u in g.nodes() for v in g.nodes() if u!=v]\n",
    "points = [utils.get_node_for_initial_graph_v2(g) for _ in trange(1000, desc='generate points')]"
   ]
  },
  {
   "cell_type": "code",
   "execution_count": 46,
   "id": "7312717ee99a6dc",
   "metadata": {
    "ExecuteTime": {
     "end_time": "2024-12-09T18:21:13.731213Z",
     "start_time": "2024-12-09T18:21:06.856098Z"
    },
    "collapsed": false
   },
   "outputs": [
    {
     "name": "stdout",
     "output_type": "stream",
     "text": [
      "start 0\n"
     ]
    },
    {
     "data": {
      "application/vnd.jupyter.widget-view+json": {
       "model_id": "3786b2d486c64b0eb02858e77e7d96aa",
       "version_major": 2,
       "version_minor": 0
      },
      "text/plain": [
       "find paths:   0%|          | 0/200 [00:00<?, ?it/s]"
      ]
     },
     "metadata": {},
     "output_type": "display_data"
    },
    {
     "name": "stdout",
     "output_type": "stream",
     "text": [
      "start 1\n"
     ]
    },
    {
     "data": {
      "application/vnd.jupyter.widget-view+json": {
       "model_id": "4f905803aa1245a081e1ca26cf5d6435",
       "version_major": 2,
       "version_minor": 0
      },
      "text/plain": [
       "find paths:   0%|          | 0/200 [00:00<?, ?it/s]"
      ]
     },
     "metadata": {},
     "output_type": "display_data"
    },
    {
     "name": "stdout",
     "output_type": "stream",
     "text": [
      "start 2\n"
     ]
    },
    {
     "data": {
      "application/vnd.jupyter.widget-view+json": {
       "model_id": "72024ecbef494298941509ac973b57ec",
       "version_major": 2,
       "version_minor": 0
      },
      "text/plain": [
       "find paths:   0%|          | 0/200 [00:00<?, ?it/s]"
      ]
     },
     "metadata": {},
     "output_type": "display_data"
    },
    {
     "name": "stdout",
     "output_type": "stream",
     "text": [
      "start 3\n"
     ]
    },
    {
     "data": {
      "application/vnd.jupyter.widget-view+json": {
       "model_id": "b37bbe70c4d54275b68d307ead712c0c",
       "version_major": 2,
       "version_minor": 0
      },
      "text/plain": [
       "find paths:   0%|          | 0/200 [00:00<?, ?it/s]"
      ]
     },
     "metadata": {},
     "output_type": "display_data"
    },
    {
     "name": "stdout",
     "output_type": "stream",
     "text": [
      "start 4\n"
     ]
    },
    {
     "data": {
      "application/vnd.jupyter.widget-view+json": {
       "model_id": "f1e332fd1d9048f8a046d53c0139028b",
       "version_major": 2,
       "version_minor": 0
      },
      "text/plain": [
       "find paths:   0%|          | 0/200 [00:00<?, ?it/s]"
      ]
     },
     "metadata": {},
     "output_type": "display_data"
    },
    {
     "name": "stdout",
     "output_type": "stream",
     "text": [
      "err_mean: -0.00 %\n",
      "err_min: -0.00 %\n",
      "err_max: 0.00 %\n",
      "acceleration: 57.27 times\n"
     ]
    }
   ],
   "source": [
    "@utils.profile(iterations=NUM_ITERATION)\n",
    "def usual_path(g, p1, p2):\n",
    "    return nx.single_source_dijkstra(g, p1, p2, weight='length')\n",
    "\n",
    "\n",
    "@utils.profile(iterations=NUM_ITERATION)\n",
    "def h_path(g, p1, p2):\n",
    "    return dijkstra_pfa_cls(g, p1, p2)\n",
    "\n",
    "\n",
    "def do_calc(data_partitions):\n",
    "    point_partition, worker_number = data_partitions\n",
    "\n",
    "    stat = {\n",
    "        'l': [],\n",
    "        'h_l': [],\n",
    "        'p': [],\n",
    "        'h_p': [],\n",
    "        'time_l': [],\n",
    "        'time_h': [],\n",
    "        'delta': []\n",
    "    }\n",
    "\n",
    "    # чисто чтобы tqdm нормально прогрузился \n",
    "    sleep(worker_number / 10)\n",
    "    print('start', worker_number)\n",
    "\n",
    "    for p1, p2 in tqdm(\n",
    "            point_partition,\n",
    "            desc='find paths',\n",
    "            position=worker_number\n",
    "    ):\n",
    "        # класический дейкстра\n",
    "        time_l, (l, p) = usual_path(g, p1, p2)\n",
    "        # иерархический\n",
    "        time_h, (h_l, h_p) = h_path(g, p1, p2)\n",
    "        delta = (h_l - l) / l * 100\n",
    "\n",
    "        stat['l'].append(l)  # длина обычного пути\n",
    "        stat['h_l'].append(h_l)  # длина иерархического пути\n",
    "        stat['p'].append(p)  # обычный путь\n",
    "        stat['h_p'].append(h_p)  # иерархический путь\n",
    "        stat['delta'].append(delta)  # разница в длине\n",
    "        stat['time_l'].append(time_l)  # обычное время \n",
    "        stat['time_h'].append(time_h)  # иерархическое\n",
    "    return stat\n",
    "\n",
    "\n",
    "data = [([p for p in points[i::WORKER]], i) for i in range(WORKER)]\n",
    "# do_calc(data[0])\n",
    "with Pool(WORKER) as p:\n",
    "    stat = {k: v for r in p.imap_unordered(do_calc, data) for k, v in r.items()}\n",
    "\n",
    "print(f\"err_mean: {np.mean(stat['delta']):.2f} %\")\n",
    "print(f\"err_min: {np.min(stat['delta']):.2f} %\")\n",
    "print(f\"err_max: {np.max(stat['delta']):.2f} %\", )\n",
    "print(f\"acceleration: {np.mean(np.array(stat['time_l']) / np.array(stat['time_h'])):.2f} times\")"
   ]
  },
  {
   "cell_type": "code",
   "execution_count": 47,
   "id": "a80092fd1889e9c1",
   "metadata": {
    "ExecuteTime": {
     "end_time": "2024-12-09T18:21:13.941612Z",
     "start_time": "2024-12-09T18:21:13.734290Z"
    },
    "collapsed": false
   },
   "outputs": [
    {
     "data": {
      "text/plain": [
       "{'whiskers': [<matplotlib.lines.Line2D at 0x7f7353616800>,\n",
       "  <matplotlib.lines.Line2D at 0x7f7353616aa0>],\n",
       " 'caps': [<matplotlib.lines.Line2D at 0x7f7353616c20>,\n",
       "  <matplotlib.lines.Line2D at 0x7f7353616ec0>],\n",
       " 'boxes': [<matplotlib.lines.Line2D at 0x7f7353616560>],\n",
       " 'medians': [<matplotlib.lines.Line2D at 0x7f7353617160>],\n",
       " 'fliers': [<matplotlib.lines.Line2D at 0x7f7353617400>],\n",
       " 'means': []}"
      ]
     },
     "execution_count": 47,
     "metadata": {},
     "output_type": "execute_result"
    },
    {
     "data": {
      "image/png": "[encoded data removed]",
      "text/plain": [
       "<Figure size 640x480 with 1 Axes>"
      ]
     },
     "metadata": {},
     "output_type": "display_data"
    }
   ],
   "source": [
    "acceleration = np.array(stat['time_l']) / np.array(stat['time_h'])\n",
    "plt.boxplot(acceleration)"
   ]
  },
  {
   "cell_type": "code",
   "execution_count": 48,
   "id": "78b49900e478c313",
   "metadata": {
    "ExecuteTime": {
     "end_time": "2024-12-09T18:21:13.947989Z",
     "start_time": "2024-12-09T18:21:13.944101Z"
    },
    "collapsed": false
   },
   "outputs": [],
   "source": [
    "idx = np.argmin(stat['delta'])"
   ]
  },
  {
   "cell_type": "code",
   "execution_count": 49,
   "id": "36ddfeff53486881",
   "metadata": {
    "ExecuteTime": {
     "end_time": "2024-12-09T18:21:13.956601Z",
     "start_time": "2024-12-09T18:21:13.950472Z"
    },
    "collapsed": false
   },
   "outputs": [],
   "source": [
    "p1,p2 = stat['l'][idx], stat['h_l'][idx]"
   ]
  },
  {
   "cell_type": "code",
   "execution_count": 50,
   "id": "d09f7ee15e3efdd7",
   "metadata": {
    "ExecuteTime": {
     "end_time": "2024-12-09T18:21:13.963906Z",
     "start_time": "2024-12-09T18:21:13.958119Z"
    },
    "collapsed": false
   },
   "outputs": [
    {
     "data": {
      "text/plain": [
       "(8338.896000000002, 8338.895999999999)"
      ]
     },
     "execution_count": 50,
     "metadata": {},
     "output_type": "execute_result"
    }
   ],
   "source": [
    "p1,p2"
   ]
  },
  {
   "cell_type": "code",
   "execution_count": 51,
   "id": "cafd5de1ef91d609",
   "metadata": {
    "ExecuteTime": {
     "end_time": "2024-12-09T18:21:13.970950Z",
     "start_time": "2024-12-09T18:21:13.965297Z"
    },
    "collapsed": false
   },
   "outputs": [
    {
     "data": {
      "text/plain": [
       "(54, 54)"
      ]
     },
     "execution_count": 51,
     "metadata": {},
     "output_type": "execute_result"
    }
   ],
   "source": [
    "p = stat['p'][idx]\n",
    "hp = stat['h_p'][idx]\n",
    "len(p), len(hp)"
   ]
  },
  {
   "cell_type": "code",
   "execution_count": 52,
   "id": "c11ef954f3a8dfad",
   "metadata": {
    "ExecuteTime": {
     "end_time": "2024-12-09T18:21:13.980377Z",
     "start_time": "2024-12-09T18:21:13.972266Z"
    },
    "collapsed": false
   },
   "outputs": [
    {
     "data": {
      "text/plain": [
       "(array([ 861499301, 5272857655, 5272857684,  861499277, 5272857752,\n",
       "        5272857773, 5303705148,  861499233, 5303705142, 3881491026,\n",
       "         847059866, 1211686759, 3100552383,  251528356, 3094455211,\n",
       "        1211686665, 3094455657, 1211686791, 3094455707, 3094455722,\n",
       "        3094455743, 1211686753, 3094455776,  251528359, 1271789168,\n",
       "        2027953582,  620100726, 2027953606, 5316681276, 1576824945,\n",
       "        1289849118, 1289849094, 1289849092,  620100727, 1289849113,\n",
       "        1289849102, 1289849106, 1289849100, 1289849105,  620100728,\n",
       "        2027953685, 1526038958, 1526038959, 1526038968, 1526038979,\n",
       "        1526038980, 2028569909, 1521196280, 1521196298, 1521196316,\n",
       "        2028570322, 2028474183, 2028474185, 2028570416]),\n",
       " array([ 861499301, 5272857655, 5272857684,  861499277, 5272857752,\n",
       "        5272857773, 5303705148,  861499233, 5303705142, 3881491026,\n",
       "         847059866, 1211686759, 3100552383,  251528356, 3094455211,\n",
       "        1211686665, 3094455657, 1211686791, 3094455707, 3094455722,\n",
       "        3094455743, 1211686753, 3094455776,  251528359, 1271789168,\n",
       "        2027953582,  620100726, 2027953606, 5316681276, 1576824945,\n",
       "        1289849118, 1289849094, 1289849092,  620100727, 1289849113,\n",
       "        1289849102, 1289849106, 1289849100, 1289849105,  620100728,\n",
       "        2027953685, 1526038958, 1526038959, 1526038968, 1526038979,\n",
       "        1526038980, 2028569909, 1521196280, 1521196298, 1521196316,\n",
       "        2028570322, 2028474183, 2028474185, 2028570416]))"
      ]
     },
     "execution_count": 52,
     "metadata": {},
     "output_type": "execute_result"
    }
   ],
   "source": [
    "np.array(p), np.array(hp)"
   ]
  },
  {
   "cell_type": "code",
   "execution_count": null,
   "id": "e5079608abf35c99",
   "metadata": {
    "collapsed": false
   },
   "outputs": [],
   "source": [
    "u,v"
   ]
  },
  {
   "cell_type": "code",
   "execution_count": null,
   "id": "a3bd2303d0b22063",
   "metadata": {
    "collapsed": false
   },
   "outputs": [],
   "source": [
    "bi_dijkstra_pfa(g, u,v)"
   ]
  },
  {
   "cell_type": "code",
   "execution_count": null,
   "id": "af6466687a20544e",
   "metadata": {
    "collapsed": false
   },
   "outputs": [],
   "source": []
  }
 ],
 "metadata": {
  "kernelspec": {
   "display_name": ".venv",
   "language": "python",
   "name": "python3"
  },
  "language_info": {
   "codemirror_mode": {
    "name": "ipython",
    "version": 3
   },
   "file_extension": ".py",
   "mimetype": "text/x-python",
   "name": "python",
   "nbconvert_exporter": "python",
   "pygments_lexer": "ipython3",
   "version": "3.10.12"
  }
 },
 "nbformat": 4,
 "nbformat_minor": 5
}
