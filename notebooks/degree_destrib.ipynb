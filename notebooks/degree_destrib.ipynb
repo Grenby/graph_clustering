{
 "cells": [
  {
   "cell_type": "code",
   "execution_count": 1,
   "id": "initial_id",
   "metadata": {
    "collapsed": true,
    "ExecuteTime": {
     "end_time": "2024-08-18T13:04:05.940315Z",
     "start_time": "2024-08-18T13:04:04.976139Z"
    }
   },
   "outputs": [],
   "source": [
    "import math\n",
    "import pickle\n",
    "import random\n",
    "import sys\n",
    "from multiprocessing import Pool\n",
    "\n",
    "import networkx as nx\n",
    "import numpy as np\n",
    "import pandas as pd\n",
    "from scipy.spatial import KDTree as kd\n",
    "from tqdm import trange, tqdm\n",
    "import matplotlib.pyplot as plt\n",
    "import graph_tests as city_tests\n",
    "import graph_generator\n",
    "\n",
    "import osmnx as ox\n"
   ]
  },
  {
   "cell_type": "code",
   "outputs": [],
   "source": [
    "\n",
    "\n",
    "def get_graph(city_id: str = 'R2555133') -> nx.Graph:\n",
    "    gdf = ox.geocode_to_gdf(city_id, by_osmid=True)\n",
    "    polygon_boundary = gdf.unary_union\n",
    "    graph = ox.graph_from_polygon(polygon_boundary,\n",
    "                                  network_type='drive',\n",
    "                                  simplify=True)\n",
    "    G = nx.Graph(graph)\n",
    "    H = nx.Graph()\n",
    "    # Добавляем рёбра в новый граф, копируя только веса\n",
    "    for u, d in G.nodes(data=True):\n",
    "        H.add_node(u, x=d['x'], y=d['y'])\n",
    "    for u, v, d in G.edges(data=True):\n",
    "        H.add_edge(u, v, length=d['length'])\n",
    "    del city_id, gdf, polygon_boundary, graph, G\n",
    "    return H\n",
    "\n",
    "\n",
    "def calculate(data):\n",
    "    cities = data[0]\n",
    "    points_number = data[1]\n",
    "    NUMBER = data[2]\n",
    "    THREADS = data[3]\n",
    "\n",
    "    for name, id in cities:\n",
    "        G = get_graph(id)\n",
    "\n",
    "        points = [graph_generator.get_node_for_initial_graph_v2(G) for _ in\n",
    "                  range(points_number)]\n",
    "\n",
    "        Q = G.copy()\n",
    "        for u in Q.nodes:\n",
    "            if u in Q[u]:\n",
    "                Q.remove_edge(u, u)\n",
    "        data = {}\n",
    "        for (u, d) in Q.degree:\n",
    "            if d not in data:\n",
    "                data[d] = 0\n",
    "            data[d] += 1\n",
    "        dd = {\n",
    "            'degree': [],\n",
    "            'probability': []\n",
    "        }\n",
    "        total = sum([d for d in data.values()])\n",
    "\n",
    "        for d in data:\n",
    "            dd['degree'].append(d)\n",
    "            dd['probability'].append(data[d] / total)\n",
    "        df = pd.DataFrame.from_dict(dd)\n",
    "        print(df)\n",
    "        return df"
   ],
   "metadata": {
    "collapsed": false,
    "ExecuteTime": {
     "end_time": "2024-08-18T13:04:05.945956Z",
     "start_time": "2024-08-18T13:04:05.941009Z"
    }
   },
   "id": "79e2d3dea7a203bd",
   "execution_count": 2
  },
  {
   "cell_type": "code",
   "outputs": [
    {
     "name": "stderr",
     "output_type": "stream",
     "text": [
      "/tmp/ipykernel_4064/168065684.py:3: DeprecationWarning: The 'unary_union' attribute is deprecated, use the 'union_all()' method instead.\n",
      "  polygon_boundary = gdf.unary_union\n"
     ]
    },
    {
     "name": "stdout",
     "output_type": "stream",
     "text": [
      "   degree  probability\n",
      "0       4     0.230931\n",
      "1       3     0.654340\n",
      "2       2     0.040139\n",
      "3       5     0.016435\n",
      "4       1     0.056679\n",
      "5       6     0.001370\n",
      "6       7     0.000105\n"
     ]
    }
   ],
   "source": [
    "\n",
    "\n",
    "if __name__ == '__main__':\n",
    "    total = 1\n",
    "    points_number = 500\n",
    "    if len(sys.argv) == 2:\n",
    "        total = int(sys.argv[1])\n",
    "\n",
    "    # print('THREADS:', total)\n",
    "    # print('POINTS:', points_number)\n",
    "\n",
    "    cities = {\n",
    "        # 'ASHA': 'R13470549',\n",
    "        # 'KRG': 'R4676636',\n",
    "        # 'EKB': 'R6564910',\n",
    "        # 'BARCELONA': 'R347950',\n",
    "        'PARIS': 'R71525',\n",
    "        # 'Prague': 'R435514',\n",
    "        # 'MSK': 'R2555133',\n",
    "        # 'SBP': 'R337422',\n",
    "        # 'SINGAPORE': 'R17140517',\n",
    "        # 'BERLIN': 'R62422',\n",
    "        # 'ROME': 'R41485',\n",
    "        # 'LA': 'R207359',\n",
    "        # 'DUBAI': 'R4479752',\n",
    "        # 'RIO': 'R2697338',\n",
    "        # 'DELHI': 'R1942586',\n",
    "        # 'KAIR': 'R5466227'\n",
    "    }\n",
    "    total_len = len(cities)\n",
    "    l = list(cities.items())\n",
    "    data = [[l[i: total_len: total], points_number, i + 1, total] for i in range(total)]\n",
    "\n",
    "    df = calculate(data[0])"
   ],
   "metadata": {
    "collapsed": false,
    "ExecuteTime": {
     "end_time": "2024-08-18T13:04:11.008146Z",
     "start_time": "2024-08-18T13:04:05.946525Z"
    }
   },
   "id": "691534c0b306b5ec",
   "execution_count": 3
  },
  {
   "cell_type": "code",
   "outputs": [
    {
     "data": {
      "text/plain": "   degree  probability\n0       4     0.230931\n1       3     0.654340\n2       2     0.040139\n3       5     0.016435\n4       1     0.056679\n5       6     0.001370\n6       7     0.000105",
      "text/html": "<div>\n<style scoped>\n    .dataframe tbody tr th:only-of-type {\n        vertical-align: middle;\n    }\n\n    .dataframe tbody tr th {\n        vertical-align: top;\n    }\n\n    .dataframe thead th {\n        text-align: right;\n    }\n</style>\n<table border=\"1\" class=\"dataframe\">\n  <thead>\n    <tr style=\"text-align: right;\">\n      <th></th>\n      <th>degree</th>\n      <th>probability</th>\n    </tr>\n  </thead>\n  <tbody>\n    <tr>\n      <th>0</th>\n      <td>4</td>\n      <td>0.230931</td>\n    </tr>\n    <tr>\n      <th>1</th>\n      <td>3</td>\n      <td>0.654340</td>\n    </tr>\n    <tr>\n      <th>2</th>\n      <td>2</td>\n      <td>0.040139</td>\n    </tr>\n    <tr>\n      <th>3</th>\n      <td>5</td>\n      <td>0.016435</td>\n    </tr>\n    <tr>\n      <th>4</th>\n      <td>1</td>\n      <td>0.056679</td>\n    </tr>\n    <tr>\n      <th>5</th>\n      <td>6</td>\n      <td>0.001370</td>\n    </tr>\n    <tr>\n      <th>6</th>\n      <td>7</td>\n      <td>0.000105</td>\n    </tr>\n  </tbody>\n</table>\n</div>"
     },
     "execution_count": 4,
     "metadata": {},
     "output_type": "execute_result"
    }
   ],
   "source": [
    "df"
   ],
   "metadata": {
    "collapsed": false,
    "ExecuteTime": {
     "end_time": "2024-08-18T13:04:11.014291Z",
     "start_time": "2024-08-18T13:04:11.009322Z"
    }
   },
   "id": "18dca61385b966ba",
   "execution_count": 4
  },
  {
   "cell_type": "code",
   "outputs": [],
   "source": [
    "momentums = {}\n",
    "for i in range(1, 10):\n",
    "    momentums[i] = 0\n",
    "    for j in range(len(df)):\n",
    "        momentums[i] += (df['degree'][j] ** i) * df['probability'][j]\n"
   ],
   "metadata": {
    "collapsed": false,
    "ExecuteTime": {
     "end_time": "2024-08-18T13:04:11.017103Z",
     "start_time": "2024-08-18T13:04:11.014780Z"
    }
   },
   "id": "3a443eba7a6cc5",
   "execution_count": 5
  },
  {
   "cell_type": "code",
   "outputs": [
    {
     "name": "stdout",
     "output_type": "stream",
     "text": [
      "1 : 3.114833544037084\n",
      "2 : 10.266540244416351\n",
      "3 : 35.21091445427728\n",
      "4 : 125.11862621154657\n",
      "5 : 460.59903076274753\n",
      "6 : 1758.6230509903075\n",
      "7 : 6973.946691951117\n",
      "8 : 28765.34618626212\n",
      "9 : 123590.13126843657\n"
     ]
    }
   ],
   "source": [
    "for m in momentums:\n",
    "    print(m, ':', momentums[m])"
   ],
   "metadata": {
    "collapsed": false,
    "ExecuteTime": {
     "end_time": "2024-08-18T13:04:11.020338Z",
     "start_time": "2024-08-18T13:04:11.017812Z"
    }
   },
   "id": "192edf26b2150344",
   "execution_count": 6
  },
  {
   "cell_type": "code",
   "outputs": [
    {
     "name": "stdout",
     "output_type": "stream",
     "text": [
      "[0.00000000e+00 7.17345846e-02 4.40354581e-02 8.16758547e-01\n",
      " 6.18335351e-02 5.62086664e-03 1.70086744e-05]\n"
     ]
    }
   ],
   "source": [
    "degree_destrib = {\n",
    "    0: 0,\n",
    "    3: 0.816342,\n",
    "    2: 0.044013,\n",
    "    1: 0.071698,\n",
    "    4: 0.061802,\n",
    "    5: 0.005618,\n",
    "    7: 0.000017\n",
    "}\n",
    "\n",
    "q = list(degree_destrib.items())\n",
    "q.sort(key=lambda x: x[0])\n",
    "degree_destrib = dict(q)\n",
    "W = list(degree_destrib.values())\n",
    "\n",
    "W = np.array(W)\n",
    "W/=np.sum(W)\n",
    "print(W)\n"
   ],
   "metadata": {
    "collapsed": false,
    "ExecuteTime": {
     "end_time": "2024-08-18T13:04:11.023428Z",
     "start_time": "2024-08-18T13:04:11.020977Z"
    }
   },
   "id": "30f15f96d900c6d2",
   "execution_count": 7
  },
  {
   "cell_type": "code",
   "outputs": [],
   "source": [
    "S = nx.expected_degree_graph(W)"
   ],
   "metadata": {
    "collapsed": false,
    "ExecuteTime": {
     "end_time": "2024-08-18T13:04:11.025514Z",
     "start_time": "2024-08-18T13:04:11.023959Z"
    }
   },
   "id": "9ca8eaa4bab1b490",
   "execution_count": 8
  },
  {
   "cell_type": "code",
   "outputs": [],
   "source": [
    "# print(len(S.nodes))"
   ],
   "metadata": {
    "collapsed": false,
    "ExecuteTime": {
     "end_time": "2024-08-18T13:04:11.027740Z",
     "start_time": "2024-08-18T13:04:11.026009Z"
    }
   },
   "id": "54011055d4c89cfb",
   "execution_count": 9
  },
  {
   "cell_type": "code",
   "outputs": [
    {
     "name": "stdout",
     "output_type": "stream",
     "text": [
      "1.0\n"
     ]
    }
   ],
   "source": [
    "print(sum(W))"
   ],
   "metadata": {
    "collapsed": false,
    "ExecuteTime": {
     "end_time": "2024-08-18T13:04:11.029968Z",
     "start_time": "2024-08-18T13:04:11.028295Z"
    }
   },
   "id": "3784ab251e0a8af3",
   "execution_count": 10
  },
  {
   "cell_type": "code",
   "outputs": [
    {
     "name": "stdout",
     "output_type": "stream",
     "text": [
      "[0.00000000e+00 7.17345846e-02 4.40354581e-02 8.16758547e-01\n",
      " 6.18335351e-02 5.62086664e-03 1.70086744e-05]\n"
     ]
    }
   ],
   "source": [
    "print(W)"
   ],
   "metadata": {
    "collapsed": false,
    "ExecuteTime": {
     "end_time": "2024-08-18T13:04:11.032950Z",
     "start_time": "2024-08-18T13:04:11.031178Z"
    }
   },
   "id": "108d1c19daa39835",
   "execution_count": 11
  },
  {
   "cell_type": "code",
   "outputs": [],
   "source": [
    "# print(c)"
   ],
   "metadata": {
    "collapsed": false,
    "ExecuteTime": {
     "end_time": "2024-08-18T13:04:11.034853Z",
     "start_time": "2024-08-18T13:04:11.033559Z"
    }
   },
   "id": "df81abd46ce1349d",
   "execution_count": 12
  },
  {
   "cell_type": "code",
   "outputs": [
    {
     "name": "stdout",
     "output_type": "stream",
     "text": [
      "[3 3 3 3 3 3 3 3 3 3 3 4 3 3 3 1 3 5 3 3 4 3 3 3 1 3 3 3 3 3 3 4 3 3 3 3 3\n",
      " 3 2 3 3 3 3 3 3 1 3 3 3 4 3 3 3 3 3 4 3 3 3 4 3 2 3 3 3 3 3 3 3 3 1 3 4 3\n",
      " 2 3 3 3 3 3 3 3 3 4 3 3 3 3 2 3 3 4 3 3 2 2 3 3 3 3]\n"
     ]
    }
   ],
   "source": [
    "N = 100\n",
    "degrees = np.random.choice(range(0, len(W)), size=N,p=W)\n",
    "print(degrees)"
   ],
   "metadata": {
    "collapsed": false,
    "ExecuteTime": {
     "end_time": "2024-08-18T13:04:11.037599Z",
     "start_time": "2024-08-18T13:04:11.035251Z"
    }
   },
   "id": "23a6cd611627222a",
   "execution_count": 13
  },
  {
   "cell_type": "code",
   "outputs": [],
   "source": [],
   "metadata": {
    "collapsed": false,
    "ExecuteTime": {
     "end_time": "2024-08-18T13:04:11.039081Z",
     "start_time": "2024-08-18T13:04:11.038034Z"
    }
   },
   "id": "a1a7a248cd75b58",
   "execution_count": 13
  },
  {
   "cell_type": "code",
   "outputs": [
    {
     "name": "stdout",
     "output_type": "stream",
     "text": [
      "[0.00000000e+00 7.17345846e-02 4.40354581e-02 8.16758547e-01\n",
      " 6.18335351e-02 5.62086664e-03 1.70086744e-05]\n"
     ]
    }
   ],
   "source": [
    "degree_destrib = {\n",
    "        0: 0,\n",
    "        3: 0.816342,\n",
    "        2: 0.044013,\n",
    "        1: 0.071698,\n",
    "        4: 0.061802,\n",
    "        5: 0.005618,\n",
    "        7: 0.000017\n",
    "    }\n",
    "\n",
    "q = list(degree_destrib.items())\n",
    "q.sort(key=lambda x: x[0])\n",
    "degree_destrib = dict(q)\n",
    "W = list(degree_destrib.values())\n",
    "\n",
    "W = np.array(W)\n",
    "W/=np.sum(W)\n",
    "print(W)"
   ],
   "metadata": {
    "collapsed": false,
    "ExecuteTime": {
     "end_time": "2024-08-18T13:04:11.041549Z",
     "start_time": "2024-08-18T13:04:11.039531Z"
    }
   },
   "id": "fe063d8c268c2323",
   "execution_count": 14
  },
  {
   "cell_type": "code",
   "outputs": [],
   "source": [
    "N = 100\n",
    "degrees = np.random.choice(range(0, len(W)), size=N,p=W)"
   ],
   "metadata": {
    "collapsed": false,
    "ExecuteTime": {
     "end_time": "2024-08-18T13:04:11.044336Z",
     "start_time": "2024-08-18T13:04:11.041963Z"
    }
   },
   "id": "788f737ca819252a",
   "execution_count": 15
  },
  {
   "cell_type": "code",
   "outputs": [
    {
     "data": {
      "text/plain": "array([3, 3, 3, 3, 3, 3, 4, 3, 3, 3, 3, 3, 3, 3, 3, 3, 3, 3, 1, 3, 3, 3,\n       2, 3, 1, 3, 3, 3, 3, 3, 3, 1, 3, 3, 2, 3, 3, 3, 3, 3, 3, 3, 2, 4,\n       3, 3, 3, 3, 3, 3, 3, 3, 4, 3, 3, 3, 3, 3, 3, 3, 3, 3, 3, 2, 3, 3,\n       3, 4, 3, 1, 4, 3, 4, 4, 3, 3, 3, 3, 3, 3, 3, 1, 3, 3, 3, 3, 3, 4,\n       3, 3, 3, 3, 3, 3, 1, 3, 3, 3, 3, 3])"
     },
     "execution_count": 16,
     "metadata": {},
     "output_type": "execute_result"
    }
   ],
   "source": [
    "degrees"
   ],
   "metadata": {
    "collapsed": false,
    "ExecuteTime": {
     "end_time": "2024-08-18T13:04:11.047777Z",
     "start_time": "2024-08-18T13:04:11.044901Z"
    }
   },
   "id": "197b003c03b0af9",
   "execution_count": 16
  },
  {
   "cell_type": "code",
   "outputs": [
    {
     "name": "stdout",
     "output_type": "stream",
     "text": [
      "True\n"
     ]
    }
   ],
   "source": [
    "def handshake(nodes):\n",
    "    total = 0\n",
    "    for n in nodes:\n",
    "        if n % 2 == 1:\n",
    "            total +=1\n",
    "    return total%2==0\n",
    "N = 10000\n",
    "degrees = np.random.choice(range(0, len(W)), size=N,p=W)\n",
    "print(handshake(degrees))"
   ],
   "metadata": {
    "collapsed": false,
    "ExecuteTime": {
     "end_time": "2024-08-18T13:04:11.051204Z",
     "start_time": "2024-08-18T13:04:11.048385Z"
    }
   },
   "id": "8edef5ac04b2a7e",
   "execution_count": 17
  },
  {
   "cell_type": "code",
   "outputs": [],
   "source": [
    "def havel_hakimi(seq):\n",
    "    # if seq is empty or only contains zeros,\n",
    "    # degree sequence is valid\n",
    "    if len(seq) < 1 or all(deg == 0 for deg in seq):\n",
    "        print(\"Finished! Graph IS constructable with Havel Hakimi algorithm.\")\n",
    "        return True\n",
    "\n",
    "    print(seq, end=\"\")\n",
    "    seq.sort()\n",
    "    print(\" --sort--> \", end=\"\")\n",
    "    print(seq)\n",
    "\n",
    "    last = seq[len(seq)-1]\n",
    "    if last > len(seq)-1:\n",
    "        print(\"Failed! Graph IS NOT constructable with Havel Hakimi algorithm.\")\n",
    "        return False\n",
    "\n",
    "    print(seq, end=\"\")\n",
    "\n",
    "    # remove last element\n",
    "    seq.remove(last)\n",
    "\n",
    "    # iterate seq backwards\n",
    "    for num in range(len(seq)-1, len(seq)-last-1, -1):\n",
    "        if seq[num] > 0:\n",
    "            seq[num] -= 1\n",
    "        else:\n",
    "            print(\"\\nFailed! Graph is not constructable with Havel Hakimi algorithm\")\n",
    "            return False\n",
    "\n",
    "    print(\" --alg-->\", end=\"\")\n",
    "    print(seq)\n",
    "\n",
    "    # recursive call\n",
    "    return havel_hakimi(seq)"
   ],
   "metadata": {
    "collapsed": false,
    "ExecuteTime": {
     "end_time": "2024-08-18T13:04:11.054245Z",
     "start_time": "2024-08-18T13:04:11.051742Z"
    }
   },
   "id": "ac423c4068efff9f",
   "execution_count": 18
  },
  {
   "cell_type": "code",
   "outputs": [],
   "source": [],
   "metadata": {
    "collapsed": false,
    "ExecuteTime": {
     "end_time": "2024-08-18T13:04:11.056207Z",
     "start_time": "2024-08-18T13:04:11.055013Z"
    }
   },
   "id": "a2539c54b8c313c1",
   "execution_count": 18
  },
  {
   "cell_type": "code",
   "outputs": [],
   "source": [],
   "metadata": {
    "collapsed": false,
    "ExecuteTime": {
     "end_time": "2024-08-18T13:04:11.057736Z",
     "start_time": "2024-08-18T13:04:11.056644Z"
    }
   },
   "id": "66046e1dc73b5565",
   "execution_count": 18
  },
  {
   "cell_type": "code",
   "outputs": [
    {
     "data": {
      "text/plain": "[[[('PARIS', 'R71525')], 500, 1, 1]]"
     },
     "execution_count": 19,
     "metadata": {},
     "output_type": "execute_result"
    }
   ],
   "source": [
    "data"
   ],
   "metadata": {
    "collapsed": false,
    "ExecuteTime": {
     "end_time": "2024-08-18T13:04:11.059847Z",
     "start_time": "2024-08-18T13:04:11.058160Z"
    }
   },
   "id": "fdfb0967960fb0af",
   "execution_count": 19
  },
  {
   "cell_type": "code",
   "outputs": [],
   "source": [],
   "metadata": {
    "collapsed": false,
    "ExecuteTime": {
     "end_time": "2024-08-18T13:04:11.061680Z",
     "start_time": "2024-08-18T13:04:11.060363Z"
    }
   },
   "id": "fdcf7a7eb5332c86",
   "execution_count": 19
  },
  {
   "cell_type": "code",
   "outputs": [],
   "source": [],
   "metadata": {
    "collapsed": false,
    "ExecuteTime": {
     "end_time": "2024-08-18T13:04:11.063195Z",
     "start_time": "2024-08-18T13:04:11.062117Z"
    }
   },
   "id": "73894d3241a85b3b",
   "execution_count": 19
  },
  {
   "cell_type": "code",
   "outputs": [],
   "source": [],
   "metadata": {
    "collapsed": false,
    "ExecuteTime": {
     "end_time": "2024-08-18T13:04:11.064856Z",
     "start_time": "2024-08-18T13:04:11.063695Z"
    }
   },
   "id": "b01cfffaf2b552bf",
   "execution_count": 19
  },
  {
   "cell_type": "code",
   "outputs": [],
   "source": [],
   "metadata": {
    "collapsed": false,
    "ExecuteTime": {
     "end_time": "2024-08-18T13:04:11.066624Z",
     "start_time": "2024-08-18T13:04:11.065364Z"
    }
   },
   "id": "23c7d6d37d7773ff",
   "execution_count": 19
  },
  {
   "cell_type": "code",
   "outputs": [],
   "source": [],
   "metadata": {
    "collapsed": false,
    "ExecuteTime": {
     "end_time": "2024-08-18T13:04:11.068514Z",
     "start_time": "2024-08-18T13:04:11.067194Z"
    }
   },
   "id": "dca0a447b9a6b7b7",
   "execution_count": 19
  },
  {
   "cell_type": "code",
   "outputs": [
    {
     "ename": "NameError",
     "evalue": "name 'G' is not defined",
     "output_type": "error",
     "traceback": [
      "\u001B[0;31m---------------------------------------------------------------------------\u001B[0m",
      "\u001B[0;31mNameError\u001B[0m                                 Traceback (most recent call last)",
      "Cell \u001B[0;32mIn[20], line 1\u001B[0m\n\u001B[0;32m----> 1\u001B[0m \u001B[43mG\u001B[49m\u001B[38;5;241m.\u001B[39medges(data\u001B[38;5;241m=\u001B[39m\u001B[38;5;28;01mTrue\u001B[39;00m)\n",
      "\u001B[0;31mNameError\u001B[0m: name 'G' is not defined"
     ]
    }
   ],
   "source": [
    "G.edges(data=True)"
   ],
   "metadata": {
    "collapsed": false,
    "ExecuteTime": {
     "end_time": "2024-08-18T13:04:11.342424Z",
     "start_time": "2024-08-18T13:04:11.069017Z"
    }
   },
   "id": "bdd4bbdde9a3e23",
   "execution_count": 20
  },
  {
   "cell_type": "code",
   "outputs": [],
   "source": [
    "N = len(G.nodes)\n",
    "M = len(G.edges)\n",
    "print(M/N)"
   ],
   "metadata": {
    "collapsed": false
   },
   "id": "4c2439701ad0e76e",
   "execution_count": null
  },
  {
   "cell_type": "code",
   "outputs": [],
   "source": [
    "def f(d):\n",
    "    G = nx.random_geometric_graph(10000, 0.1)"
   ],
   "metadata": {
    "collapsed": false
   },
   "id": "56168a087ac30f98"
  },
  {
   "cell_type": "code",
   "outputs": [],
   "source": [
    "d = [i for i in range(10000)]\n",
    "with Pool(20) as p:\n",
    "    r = list(tqdm(p.imap_unordered(f, d), total = len(d)))"
   ],
   "metadata": {
    "collapsed": false
   },
   "id": "ca27dd330b931906",
   "execution_count": null
  },
  {
   "cell_type": "code",
   "outputs": [],
   "source": [],
   "metadata": {
    "collapsed": false
   },
   "id": "60991cc37fb4c0a1"
  }
 ],
 "metadata": {
  "kernelspec": {
   "display_name": "Python 3",
   "language": "python",
   "name": "python3"
  },
  "language_info": {
   "codemirror_mode": {
    "name": "ipython",
    "version": 2
   },
   "file_extension": ".py",
   "mimetype": "text/x-python",
   "name": "python",
   "nbconvert_exporter": "python",
   "pygments_lexer": "ipython2",
   "version": "2.7.6"
  }
 },
 "nbformat": 4,
 "nbformat_minor": 5
}
