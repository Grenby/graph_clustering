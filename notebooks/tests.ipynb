{
 "cells": [
  {
   "cell_type": "code",
   "outputs": [],
   "source": [
    "from dataclasses import dataclass\n"
   ],
   "metadata": {
    "collapsed": false,
    "ExecuteTime": {
     "end_time": "2024-12-21T15:39:01.055116Z",
     "start_time": "2024-12-21T15:39:01.052525Z"
    }
   },
   "id": "5fe0ca12da762d2d",
   "execution_count": 29
  },
  {
   "cell_type": "code",
   "outputs": [],
   "source": [
    "@dataclass(slots=True)\n",
    "class Integer:\n",
    "    default: int = 0\n",
    "     \n",
    "    def __get__(self, instance, owner):\n",
    "        return self.default\n",
    "\n",
    "    def __set__(self, instance, value):\n",
    "        self.default = value\n",
    "    \n",
    "    "
   ],
   "metadata": {
    "collapsed": false,
    "ExecuteTime": {
     "end_time": "2024-12-21T15:41:16.050091Z",
     "start_time": "2024-12-21T15:41:16.045944Z"
    }
   },
   "id": "e2c7a5d33271935b",
   "execution_count": 32
  },
  {
   "cell_type": "code",
   "execution_count": 33,
   "id": "initial_id",
   "metadata": {
    "collapsed": true,
    "ExecuteTime": {
     "end_time": "2024-12-21T15:41:16.316382Z",
     "start_time": "2024-12-21T15:41:16.312433Z"
    }
   },
   "outputs": [],
   "source": [
    "\n",
    "\n",
    "@dataclass()\n",
    "class TestClass:\n",
    "    a = Integer(1)\n",
    "    \n",
    "    b: int | None = None\n",
    "    \n",
    "    \n",
    "    def summ(self):\n",
    "        return self.a"
   ]
  },
  {
   "cell_type": "code",
   "outputs": [
    {
     "ename": "TypeError",
     "evalue": "TestClass.__init__() got an unexpected keyword argument 'a'",
     "output_type": "error",
     "traceback": [
      "\u001B[0;31m---------------------------------------------------------------------------\u001B[0m",
      "\u001B[0;31mTypeError\u001B[0m                                 Traceback (most recent call last)",
      "Cell \u001B[0;32mIn[34], line 1\u001B[0m\n\u001B[0;32m----> 1\u001B[0m tc \u001B[38;5;241m=\u001B[39m \u001B[43mTestClass\u001B[49m\u001B[43m(\u001B[49m\u001B[43ma\u001B[49m\u001B[43m \u001B[49m\u001B[38;5;241;43m=\u001B[39;49m\u001B[43m \u001B[49m\u001B[38;5;124;43m'\u001B[39;49m\u001B[38;5;124;43mf\u001B[39;49m\u001B[38;5;124;43m'\u001B[39;49m\u001B[43m,\u001B[49m\u001B[43m \u001B[49m\u001B[43mb\u001B[49m\u001B[43m \u001B[49m\u001B[38;5;241;43m=\u001B[39;49m\u001B[43m \u001B[49m\u001B[38;5;241;43m23\u001B[39;49m\u001B[43m)\u001B[49m \n",
      "\u001B[0;31mTypeError\u001B[0m: TestClass.__init__() got an unexpected keyword argument 'a'"
     ]
    }
   ],
   "source": [
    "tc = TestClass(a = 'f', b = 23) "
   ],
   "metadata": {
    "collapsed": false,
    "ExecuteTime": {
     "end_time": "2024-12-21T15:41:17.019225Z",
     "start_time": "2024-12-21T15:41:17.004375Z"
    }
   },
   "id": "3244b6a0d0b87c7e",
   "execution_count": 34
  },
  {
   "cell_type": "code",
   "outputs": [
    {
     "data": {
      "text/plain": "TestClass(a='f', b=23)"
     },
     "execution_count": 27,
     "metadata": {},
     "output_type": "execute_result"
    }
   ],
   "source": [
    "tc"
   ],
   "metadata": {
    "collapsed": false,
    "ExecuteTime": {
     "end_time": "2024-12-21T15:34:56.646274Z",
     "start_time": "2024-12-21T15:34:56.642024Z"
    }
   },
   "id": "ecbaeaf277012183",
   "execution_count": 27
  },
  {
   "cell_type": "code",
   "outputs": [
    {
     "data": {
      "text/plain": "{'a': 'f', 'b': 23}"
     },
     "execution_count": 28,
     "metadata": {},
     "output_type": "execute_result"
    }
   ],
   "source": [
    "tc.__dict__"
   ],
   "metadata": {
    "collapsed": false,
    "ExecuteTime": {
     "end_time": "2024-12-21T15:34:57.307827Z",
     "start_time": "2024-12-21T15:34:57.303576Z"
    }
   },
   "id": "f3d3037a30e525e7",
   "execution_count": 28
  },
  {
   "cell_type": "code",
   "outputs": [],
   "source": [
    "import scripts\n",
    "from scripts import path_findings\n",
    "from scripts.path_findings import dijkstra_pfa"
   ],
   "metadata": {
    "collapsed": false
   },
   "id": "d84457c4537297d9"
  },
  {
   "cell_type": "code",
   "outputs": [],
   "source": [
    "import networkx as nx"
   ],
   "metadata": {
    "collapsed": false,
    "ExecuteTime": {
     "end_time": "2024-12-21T16:04:49.685650Z",
     "start_time": "2024-12-21T16:04:49.373795Z"
    }
   },
   "id": "af12851a5a369ce1",
   "execution_count": 35
  },
  {
   "cell_type": "code",
   "outputs": [],
   "source": [],
   "metadata": {
    "collapsed": false
   },
   "id": "24479c401a63952e"
  }
 ],
 "metadata": {
  "kernelspec": {
   "display_name": "Python 3",
   "language": "python",
   "name": "python3"
  },
  "language_info": {
   "codemirror_mode": {
    "name": "ipython",
    "version": 2
   },
   "file_extension": ".py",
   "mimetype": "text/x-python",
   "name": "python",
   "nbconvert_exporter": "python",
   "pygments_lexer": "ipython2",
   "version": "2.7.6"
  }
 },
 "nbformat": 4,
 "nbformat_minor": 5
}
