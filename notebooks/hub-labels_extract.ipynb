{
 "cells": [
  {
   "cell_type": "code",
   "execution_count": 1,
   "id": "92641b5d828c9de8",
   "metadata": {
    "ExecuteTime": {
     "end_time": "2024-12-09T19:04:55.427087Z",
     "start_time": "2024-12-09T19:04:55.417053Z"
    },
    "collapsed": false
   },
   "outputs": [],
   "source": [
    "import logging\n",
    "import sys\n",
    "\n",
    "import matplotlib.pyplot as plt\n",
    "\n",
    "root = logging.getLogger()\n",
    "root.setLevel(logging.INFO)\n",
    "\n",
    "handler = logging.StreamHandler(sys.stdout)\n",
    "handler.setLevel(logging.INFO)\n",
    "formatter = logging.Formatter('%(asctime)s - %(name)s - %(levelname)s - %(message)s')\n",
    "handler.setFormatter(formatter)\n",
    "root.addHandler(handler)"
   ]
  },
  {
   "cell_type": "code",
   "execution_count": 2,
   "id": "a02dc84e2c97c4f8",
   "metadata": {
    "ExecuteTime": {
     "end_time": "2024-12-09T19:04:55.504033Z",
     "start_time": "2024-12-09T19:04:55.498912Z"
    },
    "collapsed": false
   },
   "outputs": [],
   "source": [
    "import logging\n",
    "import sys\n",
    "\n",
    "import matplotlib.pyplot as plt\n",
    "\n",
    "root = logging.getLogger()\n",
    "root.setLevel(logging.INFO)\n",
    "\n",
    "handler = logging.StreamHandler(sys.stdout)\n",
    "handler.setLevel(logging.INFO)\n",
    "formatter = logging.Formatter('%(asctime)s - %(name)s - %(levelname)s - %(message)s')\n",
    "handler.setFormatter(formatter)\n",
    "root.addHandler(handler)"
   ]
  },
  {
   "cell_type": "code",
   "execution_count": 3,
   "id": "679e292ddcafdd40",
   "metadata": {
    "ExecuteTime": {
     "end_time": "2024-12-09T19:04:55.553854Z",
     "start_time": "2024-12-09T19:04:55.548350Z"
    },
    "collapsed": false
   },
   "outputs": [
    {
     "name": "stdout",
     "output_type": "stream",
     "text": [
      "2024-12-09 22:17:57,933 - numexpr.utils - INFO - NumExpr defaulting to 8 threads.\n",
      "2024-12-09 22:17:57,933 - numexpr.utils - INFO - NumExpr defaulting to 8 threads.\n"
     ]
    }
   ],
   "source": [
    "import sys\n",
    "\n",
    "sys.path.append('../scripts')\n",
    "sys.path.append('../')\n",
    "\n",
    "from scripts import centroids_graph_builder\n",
    "from time import sleep\n",
    "from multiprocessing import Pool\n",
    "\n",
    "import numpy as np\n",
    "from tqdm.notebook import trange, tqdm\n",
    "from scripts import graph_osm_loader, utils\n",
    "\n",
    "import networkx as nx\n",
    "\n",
    "from heapq import heappop, heappush\n",
    "from itertools import count\n",
    "from scripts import clustering"
   ]
  },
  {
   "cell_type": "code",
   "execution_count": 4,
   "id": "34f910ca623208b5",
   "metadata": {
    "ExecuteTime": {
     "end_time": "2024-12-09T19:04:55.593484Z",
     "start_time": "2024-12-09T19:04:55.586661Z"
    },
    "collapsed": false
   },
   "outputs": [],
   "source": [
    "def get_rand_graph(N, p):\n",
    "    G = nx.fast_gnp_random_graph(N, p, directed=False)\n",
    "    if not nx.is_connected(G):\n",
    "        tmp = []\n",
    "        for n in nx.connected_components(G):\n",
    "            for q in n:\n",
    "                tmp.append(q)\n",
    "                break\n",
    "        for i in range(len(tmp) - 1):\n",
    "            G.add_edge(tmp[i], tmp[i + 1])\n",
    "    for e in G.edges:\n",
    "        G.add_edge(e[0], e[1], length=np.random.random_sample() + 0.001)\n",
    "    for u in G.nodes:\n",
    "        if u in G[u]:\n",
    "            G.remove_edge(u, u)\n",
    "    return G"
   ]
  },
  {
   "cell_type": "code",
   "execution_count": 5,
   "id": "78e5833ef3ec5a4c",
   "metadata": {
    "ExecuteTime": {
     "end_time": "2024-12-09T19:04:55.629091Z",
     "start_time": "2024-12-09T19:04:55.624631Z"
    },
    "collapsed": false
   },
   "outputs": [],
   "source": [
    "NUM_ITERATION = 10  # чтобы уменьшить ошибку при вычислении времени выполнения, при каждом замере время меряется для NUM_ITERATION повторений\n",
    "WORKER = 5  # количество потоков"
   ]
  },
  {
   "cell_type": "code",
   "execution_count": 6,
   "id": "1b60f4b11aad1567",
   "metadata": {
    "ExecuteTime": {
     "end_time": "2024-12-09T19:05:18.829752Z",
     "start_time": "2024-12-09T19:05:18.772833Z"
    },
    "collapsed": false
   },
   "outputs": [
    {
     "name": "stdout",
     "output_type": "stream",
     "text": [
      "17923 27016\n"
     ]
    }
   ],
   "source": [
    "GRAPH_ID = 'R2555133'  # R13470549 R2555133 R3766483\n",
    "# примеры id есть в graph_osm_loader.py\n",
    "# g = get_rand_graph(1000, 0.1)  # загрузка графа\n",
    "N = 10000\n",
    "p = 3 / N\n",
    "# g = get_rand_graph(N,p)\n",
    "# g = get_graph()\n",
    "g = graph_osm_loader.get_graph(GRAPH_ID)\n",
    "print(len(g.nodes), len(g.edges))"
   ]
  },
  {
   "cell_type": "code",
   "execution_count": 7,
   "id": "af782e49baab793a",
   "metadata": {
    "ExecuteTime": {
     "end_time": "2024-12-09T19:05:19.452548Z",
     "start_time": "2024-12-09T19:05:19.444180Z"
    },
    "collapsed": false
   },
   "outputs": [],
   "source": [
    "g.remove_edges_from(nx.selfloop_edges(g))"
   ]
  },
  {
   "cell_type": "code",
   "execution_count": 21,
   "id": "64b0c1b8f91aeb84",
   "metadata": {
    "ExecuteTime": {
     "end_time": "2024-12-09T19:06:25.671712Z",
     "start_time": "2024-12-09T19:05:19.930713Z"
    },
    "collapsed": false
   },
   "outputs": [
    {
     "name": "stdout",
     "output_type": "stream",
     "text": [
      "2024-12-09 22:22:58,798 - root - INFO - communities: 140\n",
      "2024-12-09 22:22:58,798 - root - INFO - communities: 140\n"
     ]
    },
    {
     "name": "stderr",
     "output_type": "stream",
     "text": [
      "100%|██████████| 100/100 [03:00<00:00,  1.81s/it]"
     ]
    },
    {
     "name": "stdout",
     "output_type": "stream",
     "text": [
      "140\n"
     ]
    },
    {
     "name": "stderr",
     "output_type": "stream",
     "text": [
      "\n"
     ]
    }
   ],
   "source": [
    "cms = clustering.resolve_k_means_communities(g, resolution=1, max_iteration=100, cluster_name='cluster',\n",
    "                                             print_log=True)\n",
    "print(len(cms))"
   ]
  },
  {
   "cell_type": "code",
   "execution_count": 22,
   "id": "1ae3134a9a2e6ae2",
   "metadata": {
    "ExecuteTime": {
     "end_time": "2024-12-09T19:06:39.782322Z",
     "start_time": "2024-12-09T19:06:39.641484Z"
    },
    "collapsed": false
   },
   "outputs": [],
   "source": [
    "cls2hubs = {}\n",
    "cls2n = centroids_graph_builder.get_cls2n(g)\n",
    "for i, c in enumerate(cms):\n",
    "    for j in cls2n[i]:\n",
    "        if (i, j) in cls2hubs:\n",
    "            continue\n",
    "        a = set()\n",
    "        b = set()\n",
    "        for u in c:\n",
    "            for v in g[u]:\n",
    "                if v in cms[j]:\n",
    "                    a.add(u)\n",
    "                    b.add(v)\n",
    "        cls2hubs[i, j] = a if len(a) < len(b) else b\n",
    "        cls2hubs[j, i] = a if len(a) < len(b) else b"
   ]
  },
  {
   "cell_type": "code",
   "execution_count": 23,
   "id": "ad09487d7d40493e",
   "metadata": {
    "ExecuteTime": {
     "end_time": "2024-12-09T19:06:40.050069Z",
     "start_time": "2024-12-09T19:06:40.041436Z"
    },
    "collapsed": false
   },
   "outputs": [],
   "source": [
    "cls2hub = {}  # = centroids_graph_builder.get_cls2hubs(g)\n",
    "for i, j in cls2hubs:\n",
    "    if i not in cls2hub:\n",
    "        cls2hub[i] = set()\n",
    "    cls2hub[i].update(cls2hubs[i, j])\n",
    "del cls2hubs"
   ]
  },
  {
   "cell_type": "code",
   "execution_count": 24,
   "id": "32699cfae987132b",
   "metadata": {
    "ExecuteTime": {
     "end_time": "2024-12-09T19:06:40.447693Z",
     "start_time": "2024-12-09T19:06:40.439615Z"
    },
    "collapsed": false
   },
   "outputs": [],
   "source": [
    "hub2cluster = {}\n",
    "for c in cls2hub:\n",
    "    for u in cls2hub[c]:\n",
    "        if u not in hub2cluster:\n",
    "            hub2cluster[u] = set()\n",
    "        hub2cluster[u].add(c)"
   ]
  },
  {
   "cell_type": "code",
   "execution_count": 25,
   "id": "f07db481bb27fc72",
   "metadata": {
    "ExecuteTime": {
     "end_time": "2024-12-09T19:06:40.800306Z",
     "start_time": "2024-12-09T19:06:40.796500Z"
    },
    "collapsed": false
   },
   "outputs": [],
   "source": [
    "# cls2hub = centroids_graph_builder.get_cls2hubs(g)"
   ]
  },
  {
   "cell_type": "code",
   "execution_count": 26,
   "id": "464c5ebab86fa68",
   "metadata": {
    "ExecuteTime": {
     "end_time": "2024-12-09T19:06:41.221636Z",
     "start_time": "2024-12-09T19:06:41.214870Z"
    },
    "collapsed": false
   },
   "outputs": [],
   "source": [
    "hubs = set([u for v in cls2hub.values() for u in v])"
   ]
  },
  {
   "cell_type": "code",
   "execution_count": 27,
   "id": "5bc9d050aa510b6d",
   "metadata": {
    "ExecuteTime": {
     "end_time": "2024-12-09T19:06:41.492770Z",
     "start_time": "2024-12-09T19:06:41.487440Z"
    },
    "collapsed": false
   },
   "outputs": [],
   "source": [
    "hub2id = {h: i for i, h in enumerate(hubs)}\n",
    "id2hub = {i: h for i, h in enumerate(hubs)}"
   ]
  },
  {
   "cell_type": "code",
   "execution_count": 28,
   "id": "d5ca0891f5788ef3",
   "metadata": {
    "ExecuteTime": {
     "end_time": "2024-12-09T19:06:41.831639Z",
     "start_time": "2024-12-09T19:06:41.825487Z"
    },
    "collapsed": false
   },
   "outputs": [
    {
     "data": {
      "text/plain": [
       "1358"
      ]
     },
     "execution_count": 28,
     "metadata": {},
     "output_type": "execute_result"
    }
   ],
   "source": [
    "len(set(hubs))"
   ]
  },
  {
   "cell_type": "code",
   "execution_count": 29,
   "id": "6966826e5e6cf3ff",
   "metadata": {
    "ExecuteTime": {
     "end_time": "2024-12-09T19:06:42.412561Z",
     "start_time": "2024-12-09T19:06:42.403291Z"
    },
    "collapsed": false
   },
   "outputs": [],
   "source": [
    "def dijkstra_pfa_to_set(graph: nx.Graph,\n",
    "                        start: int,\n",
    "                        ends: set[int]\n",
    "                        ) -> \\\n",
    "        tuple[float, list[int]]:\n",
    "    adjacency = graph._adj\n",
    "    c = count()\n",
    "    push = heappush\n",
    "    pop = heappop\n",
    "    dist = {}\n",
    "    fringe = []\n",
    "\n",
    "    dist[start] = (0.0, None)\n",
    "    push(fringe, (0.0, next(c), start))\n",
    "    visited = set()\n",
    "    \n",
    "    while fringe:\n",
    "        (d, _, v) = pop(fringe)\n",
    "        if v in ends:\n",
    "            visited.add(v)\n",
    "        if len(visited) == len(ends):\n",
    "            break\n",
    "        \n",
    "        for u, e in adjacency[v].items():\n",
    "            vu_dist = d + e['length']\n",
    "            if u not in dist or dist[u][0] > vu_dist:\n",
    "                dist[u] = (vu_dist, v)\n",
    "                push(fringe, (vu_dist, next(c), u))\n",
    "    return dist\n"
   ]
  },
  {
   "cell_type": "code",
   "execution_count": 30,
   "id": "e17f4cedcf254346",
   "metadata": {
    "ExecuteTime": {
     "end_time": "2024-12-09T19:07:41.420004Z",
     "start_time": "2024-12-09T19:06:42.916124Z"
    },
    "collapsed": false
   },
   "outputs": [
    {
     "data": {
      "application/vnd.jupyter.widget-view+json": {
       "model_id": "207378806db54df097d898b6305bb05b",
       "version_major": 2,
       "version_minor": 0
      },
      "text/plain": [
       "  0%|          | 0/5 [00:00<?, ?it/s]"
      ]
     },
     "metadata": {},
     "output_type": "display_data"
    },
    {
     "name": "stdout",
     "output_type": "stream",
     "text": [
      "1\n"
     ]
    },
    {
     "data": {
      "application/vnd.jupyter.widget-view+json": {
       "model_id": "82e3da47cc0a4e23ab2924840f728c28",
       "version_major": 2,
       "version_minor": 0
      },
      "text/plain": [
       "  0%|          | 0/272 [00:00<?, ?it/s]"
      ]
     },
     "metadata": {},
     "output_type": "display_data"
    },
    {
     "name": "stdout",
     "output_type": "stream",
     "text": [
      "1\n"
     ]
    },
    {
     "data": {
      "application/vnd.jupyter.widget-view+json": {
       "model_id": "7e0ffae0846e47b7aa89fe946eccd19a",
       "version_major": 2,
       "version_minor": 0
      },
      "text/plain": [
       "  0%|          | 0/272 [00:00<?, ?it/s]"
      ]
     },
     "metadata": {},
     "output_type": "display_data"
    },
    {
     "name": "stdout",
     "output_type": "stream",
     "text": [
      "1\n"
     ]
    },
    {
     "data": {
      "application/vnd.jupyter.widget-view+json": {
       "model_id": "051e81502d6144e19e29306577fbaa72",
       "version_major": 2,
       "version_minor": 0
      },
      "text/plain": [
       "  0%|          | 0/272 [00:00<?, ?it/s]"
      ]
     },
     "metadata": {},
     "output_type": "display_data"
    },
    {
     "name": "stdout",
     "output_type": "stream",
     "text": [
      "1\n"
     ]
    },
    {
     "data": {
      "application/vnd.jupyter.widget-view+json": {
       "model_id": "ca97b3ce57524b0080bc5701c9b7830b",
       "version_major": 2,
       "version_minor": 0
      },
      "text/plain": [
       "  0%|          | 0/271 [00:00<?, ?it/s]"
      ]
     },
     "metadata": {},
     "output_type": "display_data"
    },
    {
     "name": "stdout",
     "output_type": "stream",
     "text": [
      "1\n"
     ]
    },
    {
     "data": {
      "application/vnd.jupyter.widget-view+json": {
       "model_id": "62d16b942b334e59a5993f6e9cd738dc",
       "version_major": 2,
       "version_minor": 0
      },
      "text/plain": [
       "  0%|          | 0/271 [00:00<?, ?it/s]"
      ]
     },
     "metadata": {},
     "output_type": "display_data"
    }
   ],
   "source": [
    "def cals(data_partitions):\n",
    "    part, hubs, l,i = data_partitions\n",
    "    dst = {}\n",
    "    sleep(i)\n",
    "    print(1)\n",
    "    for u in tqdm(part, position=i+1):\n",
    "        dst_u = dijkstra_pfa_to_set(g, u, hubs)\n",
    "        for v in hubs:\n",
    "            path = [v]\n",
    "            node = v\n",
    "            while dst_u[node][1] is not None:\n",
    "                node = dst_u[node][1]\n",
    "                path = path + [node]\n",
    "            cls = set()\n",
    "            for p in path:\n",
    "                cls.add(g.nodes()[p]['cluster'])\n",
    "                if p in hub2cluster:\n",
    "                    for w in hub2cluster[p]:\n",
    "                        cls.add(w)\n",
    "            dst[hub2id[u], hub2id[v]] = (dst_u[v][0], cls)\n",
    "    return dst\n",
    "\n",
    "\n",
    "data = [(list(hubs)[i::WORKER], hubs, len(hubs),i) for i in range(WORKER)]\n",
    "with Pool(WORKER) as p:\n",
    "    dst = {k: v for d in tqdm(p.imap_unordered(cals, data), total=len(data)) for k, v in d.items()}"
   ]
  },
  {
   "cell_type": "code",
   "execution_count": 31,
   "id": "bad578e4001b961a",
   "metadata": {
    "ExecuteTime": {
     "end_time": "2024-12-09T19:04:57.917745Z",
     "start_time": "2024-12-09T19:04:57.725449Z"
    },
    "collapsed": false
   },
   "outputs": [
    {
     "data": {
      "application/vnd.jupyter.widget-view+json": {
       "model_id": "f7147e83c36146e6b33b09616725b15f",
       "version_major": 2,
       "version_minor": 0
      },
      "text/plain": [
       "  0%|          | 0/5 [00:00<?, ?it/s]"
      ]
     },
     "metadata": {},
     "output_type": "display_data"
    }
   ],
   "source": [
    "def cals(data_partitions):\n",
    "    part, l = data_partitions\n",
    "    res = {}\n",
    "    for u in part:\n",
    "        dst_u = dijkstra_pfa_to_set(g, u, cls2hub[g.nodes()[u]['cluster']])\n",
    "        for v in cls2hub[g.nodes()[u]['cluster']]:\n",
    "            res[u, v] = dst_u[v][0]\n",
    "            \n",
    "            path = [v]\n",
    "            node = v\n",
    "            while dst_u[node][1] is not None:\n",
    "                node = dst_u[node][1]\n",
    "                path = path + [node]\n",
    "            cls = set()\n",
    "            for p in path:\n",
    "                cls.add(g.nodes()[p]['cluster'])\n",
    "            res[u, v] = (dst_u[v][0], cls)\n",
    "    return res\n",
    "\n",
    "data = [(list(g.nodes)[i::WORKER], hubs) for i in range(WORKER)]\n",
    "with Pool(WORKER) as p:\n",
    "    d_nodes = {k: v for d in tqdm(p.imap_unordered(cals, data), total=len(data)) for k, v in d.items()}"
   ]
  },
  {
   "cell_type": "code",
   "execution_count": 38,
   "id": "c39d2d48cef2cd41",
   "metadata": {
    "ExecuteTime": {
     "end_time": "2024-12-09T19:04:59.957546Z",
     "start_time": "2024-12-09T19:04:57.920855Z"
    },
    "collapsed": false
   },
   "outputs": [
    {
     "data": {
      "text/plain": [
       "(178.7818603515625, 1661.1140594482422, 19.42926788330078)"
      ]
     },
     "execution_count": 38,
     "metadata": {},
     "output_type": "execute_result"
    }
   ],
   "source": [
    "from pympler.asizeof import asizeof\n",
    "asizeof(d_nodes)/1024/1024, asizeof(dst)/1024/1024, asizeof(g)/1024/1024"
   ]
  },
  {
   "cell_type": "code",
   "execution_count": 33,
   "id": "ec424202347d081e",
   "metadata": {
    "ExecuteTime": {
     "end_time": "2024-12-09T19:04:59.961892Z",
     "start_time": "2024-12-09T19:04:59.958870Z"
    },
    "collapsed": false
   },
   "outputs": [],
   "source": [
    "from scripts import dijkstra"
   ]
  },
  {
   "cell_type": "code",
   "execution_count": 34,
   "id": "aaa85e3ce1ab4772",
   "metadata": {
    "ExecuteTime": {
     "end_time": "2024-12-09T19:04:59.975887Z",
     "start_time": "2024-12-09T19:04:59.963555Z"
    },
    "collapsed": false
   },
   "outputs": [],
   "source": [
    "def dijkstra_pfa_cls(g, u, v):\n",
    "    nodes = g.nodes()\n",
    "    c1, c2 = nodes[u]['cluster'], nodes[v]['cluster']\n",
    "    if c1 == c2:\n",
    "        return nx.single_source_dijkstra(g, u, v, weight='length')\n",
    "    H1, H2 = None, None\n",
    "    d=float('inf')\n",
    "    for h1 in cls2hub[c1]:\n",
    "        for h2 in cls2hub[c2]:\n",
    "            tmp = d_nodes[u, h1][0] + d_nodes[v, h2][0] + dst[hub2id[h1], hub2id[h2]][0]\n",
    "            if tmp < d:\n",
    "                d = tmp\n",
    "                H1,H2 = h1,h2\n",
    "    return dijkstra.dijkstra_pfa(g, u,v,dst[hub2id[H1],hub2id[H2]][1].union(d_nodes[u, H1][1].union(d_nodes[v,H2][1])))"
   ]
  },
  {
   "cell_type": "code",
   "execution_count": 35,
   "id": "c4102bdcb9677bd8",
   "metadata": {
    "ExecuteTime": {
     "end_time": "2024-12-09T19:05:00.017441Z",
     "start_time": "2024-12-09T19:04:59.977852Z"
    },
    "collapsed": false
   },
   "outputs": [
    {
     "data": {
      "application/vnd.jupyter.widget-view+json": {
       "model_id": "4ec436f4a1494c678d46aea147c40e9f",
       "version_major": 2,
       "version_minor": 0
      },
      "text/plain": [
       "generate points:   0%|          | 0/1000 [00:00<?, ?it/s]"
      ]
     },
     "metadata": {},
     "output_type": "display_data"
    }
   ],
   "source": [
    "# points = [(u,v) for u in g.nodes() for v in g.nodes() if u!=v]\n",
    "points = [utils.get_node_for_initial_graph_v2(g) for _ in trange(1000, desc='generate points')]"
   ]
  },
  {
   "cell_type": "code",
   "execution_count": 36,
   "id": "7312717ee99a6dc",
   "metadata": {
    "ExecuteTime": {
     "end_time": "2024-12-09T19:05:07.159306Z",
     "start_time": "2024-12-09T19:05:00.019971Z"
    },
    "collapsed": false
   },
   "outputs": [
    {
     "name": "stdout",
     "output_type": "stream",
     "text": [
      "start 0\n"
     ]
    },
    {
     "data": {
      "application/vnd.jupyter.widget-view+json": {
       "model_id": "fd0253b5532a4fc8bf06d3ca285afff0",
       "version_major": 2,
       "version_minor": 0
      },
      "text/plain": [
       "find paths:   0%|          | 0/200 [00:00<?, ?it/s]"
      ]
     },
     "metadata": {},
     "output_type": "display_data"
    },
    {
     "name": "stdout",
     "output_type": "stream",
     "text": [
      "start 1\n"
     ]
    },
    {
     "data": {
      "application/vnd.jupyter.widget-view+json": {
       "model_id": "641deb600b4d4e98996c0a6bfea508d2",
       "version_major": 2,
       "version_minor": 0
      },
      "text/plain": [
       "find paths:   0%|          | 0/200 [00:00<?, ?it/s]"
      ]
     },
     "metadata": {},
     "output_type": "display_data"
    },
    {
     "name": "stdout",
     "output_type": "stream",
     "text": [
      "start 2\n"
     ]
    },
    {
     "data": {
      "application/vnd.jupyter.widget-view+json": {
       "model_id": "271213da57524d4da1c20899b6ce8a1b",
       "version_major": 2,
       "version_minor": 0
      },
      "text/plain": [
       "find paths:   0%|          | 0/200 [00:00<?, ?it/s]"
      ]
     },
     "metadata": {},
     "output_type": "display_data"
    },
    {
     "name": "stdout",
     "output_type": "stream",
     "text": [
      "start 3\n"
     ]
    },
    {
     "data": {
      "application/vnd.jupyter.widget-view+json": {
       "model_id": "a59a5d8bf6184573aca14122ec5e0672",
       "version_major": 2,
       "version_minor": 0
      },
      "text/plain": [
       "find paths:   0%|          | 0/200 [00:00<?, ?it/s]"
      ]
     },
     "metadata": {},
     "output_type": "display_data"
    },
    {
     "name": "stdout",
     "output_type": "stream",
     "text": [
      "start 4\n"
     ]
    },
    {
     "data": {
      "application/vnd.jupyter.widget-view+json": {
       "model_id": "10db5ba33ad04930901ee5ae4ad5598c",
       "version_major": 2,
       "version_minor": 0
      },
      "text/plain": [
       "find paths:   0%|          | 0/200 [00:00<?, ?it/s]"
      ]
     },
     "metadata": {},
     "output_type": "display_data"
    },
    {
     "name": "stdout",
     "output_type": "stream",
     "text": [
      "err_mean: 0.00 %\n",
      "err_min: 0.00 %\n",
      "err_max: 0.00 %\n",
      "acceleration: 10.71 times\n"
     ]
    }
   ],
   "source": [
    "@utils.profile(iterations=NUM_ITERATION)\n",
    "def usual_path(g, p1, p2):\n",
    "    return nx.single_source_dijkstra(g, p1, p2, weight='length')\n",
    "\n",
    "\n",
    "@utils.profile(iterations=NUM_ITERATION)\n",
    "def h_path(g, p1, p2):\n",
    "    return dijkstra_pfa_cls(g, p1, p2)\n",
    "\n",
    "\n",
    "def do_calc(data_partitions):\n",
    "    point_partition, worker_number = data_partitions\n",
    "\n",
    "    stat = {\n",
    "        'l': [],\n",
    "        'h_l': [],\n",
    "        'p': [],\n",
    "        'h_p': [],\n",
    "        'time_l': [],\n",
    "        'time_h': [],\n",
    "        'delta': []\n",
    "    }\n",
    "\n",
    "    # чисто чтобы tqdm нормально прогрузился \n",
    "    sleep(worker_number / 10)\n",
    "    print('start', worker_number)\n",
    "\n",
    "    for p1, p2 in tqdm(\n",
    "            point_partition,\n",
    "            desc='find paths',\n",
    "            position=worker_number\n",
    "    ):\n",
    "        # класический дейкстра\n",
    "        time_l, (l, p) = usual_path(g, p1, p2)\n",
    "        # иерархический\n",
    "        time_h, (h_l, h_p) = h_path(g, p1, p2)\n",
    "        delta = (h_l - l) / l * 100\n",
    "\n",
    "        stat['l'].append(l)  # длина обычного пути\n",
    "        stat['h_l'].append(h_l)  # длина иерархического пути\n",
    "        stat['p'].append(p)  # обычный путь\n",
    "        stat['h_p'].append(h_p)  # иерархический путь\n",
    "        stat['delta'].append(delta)  # разница в длине\n",
    "        stat['time_l'].append(time_l)  # обычное время \n",
    "        stat['time_h'].append(time_h)  # иерархическое\n",
    "    return stat\n",
    "\n",
    "data = [([p for p in points[i::WORKER]], i) for i in range(WORKER)]\n",
    "# do_calc(data[0])\n",
    "with Pool(WORKER) as p:\n",
    "    stat = {k: v for r in p.imap_unordered(do_calc, data) for k, v in r.items()}\n",
    "\n",
    "print(f\"err_mean: {np.mean(stat['delta']):.2f} %\")\n",
    "print(f\"err_min: {np.min(stat['delta']):.2f} %\")\n",
    "print(f\"err_max: {np.max(stat['delta']):.2f} %\", )\n",
    "print(f\"acceleration: {np.mean(np.array(stat['time_l']) / np.array(stat['time_h'])):.2f} times\")"
   ]
  },
  {
   "cell_type": "code",
   "execution_count": 37,
   "id": "a80092fd1889e9c1",
   "metadata": {
    "ExecuteTime": {
     "end_time": "2024-12-09T19:05:07.413581Z",
     "start_time": "2024-12-09T19:05:07.161643Z"
    },
    "collapsed": false
   },
   "outputs": [
    {
     "data": {
      "text/plain": [
       "{'whiskers': [<matplotlib.lines.Line2D at 0x7e6fdb399300>,\n",
       "  <matplotlib.lines.Line2D at 0x7e6fdb39b250>],\n",
       " 'caps': [<matplotlib.lines.Line2D at 0x7e6fdb39b0a0>,\n",
       "  <matplotlib.lines.Line2D at 0x7e6fdb39ac50>],\n",
       " 'boxes': [<matplotlib.lines.Line2D at 0x7e6fdb39b280>],\n",
       " 'medians': [<matplotlib.lines.Line2D at 0x7e6f63a381f0>],\n",
       " 'fliers': [<matplotlib.lines.Line2D at 0x7e6f63a38490>],\n",
       " 'means': []}"
      ]
     },
     "execution_count": 37,
     "metadata": {},
     "output_type": "execute_result"
    },
    {
     "data": {
      "image/png": "[encoded data removed]",
      "text/plain": [
       "<Figure size 640x480 with 1 Axes>"
      ]
     },
     "metadata": {},
     "output_type": "display_data"
    }
   ],
   "source": [
    "acceleration = np.array(stat['time_l']) / np.array(stat['time_h'])\n",
    "plt.boxplot(acceleration)"
   ]
  },
  {
   "cell_type": "code",
   "execution_count": 75,
   "id": "78b49900e478c313",
   "metadata": {
    "ExecuteTime": {
     "end_time": "2024-12-09T19:05:07.418479Z",
     "start_time": "2024-12-09T19:05:07.414966Z"
    },
    "collapsed": false
   },
   "outputs": [],
   "source": [
    "idx = np.argmin(stat['delta'])"
   ]
  },
  {
   "cell_type": "code",
   "execution_count": 76,
   "id": "36ddfeff53486881",
   "metadata": {
    "ExecuteTime": {
     "end_time": "2024-12-09T19:05:07.426431Z",
     "start_time": "2024-12-09T19:05:07.421809Z"
    },
    "collapsed": false
   },
   "outputs": [],
   "source": [
    "p1,p2 = stat['l'][idx], stat['h_l'][idx]"
   ]
  },
  {
   "cell_type": "code",
   "execution_count": 77,
   "id": "d09f7ee15e3efdd7",
   "metadata": {
    "ExecuteTime": {
     "end_time": "2024-12-09T19:05:07.434887Z",
     "start_time": "2024-12-09T19:05:07.427864Z"
    },
    "collapsed": false
   },
   "outputs": [
    {
     "data": {
      "text/plain": [
       "(7510.666000000003, 7510.666000000003)"
      ]
     },
     "execution_count": 77,
     "metadata": {},
     "output_type": "execute_result"
    }
   ],
   "source": [
    "p1,p2"
   ]
  },
  {
   "cell_type": "code",
   "execution_count": 78,
   "id": "cafd5de1ef91d609",
   "metadata": {
    "ExecuteTime": {
     "end_time": "2024-12-09T19:05:07.443968Z",
     "start_time": "2024-12-09T19:05:07.437434Z"
    },
    "collapsed": false
   },
   "outputs": [
    {
     "data": {
      "text/plain": [
       "(51, 51)"
      ]
     },
     "execution_count": 78,
     "metadata": {},
     "output_type": "execute_result"
    }
   ],
   "source": [
    "p = stat['p'][idx]\n",
    "hp = stat['h_p'][idx]\n",
    "len(p), len(hp)"
   ]
  },
  {
   "cell_type": "code",
   "execution_count": 79,
   "id": "c11ef954f3a8dfad",
   "metadata": {
    "ExecuteTime": {
     "end_time": "2024-12-09T19:05:07.453370Z",
     "start_time": "2024-12-09T19:05:07.445395Z"
    },
    "collapsed": false
   },
   "outputs": [
    {
     "data": {
      "text/plain": [
       "(array([2028569951, 2028569942, 2028569925, 2028569909, 1526038980,\n",
       "        1526038979, 1526038968, 1526038959, 1526038958, 2027953685,\n",
       "         620100728, 1289849105, 1289849100, 1289849106, 1289849102,\n",
       "        1289849113,  620100727, 1289849092, 1289849094, 1289849118,\n",
       "        1576824945, 5316681276, 2027953606,  620100726, 2027953582,\n",
       "        1271789168,  251528359, 3094455776, 1211686753, 3094455743,\n",
       "        3094455722, 3094455707, 1211686791, 3094455657, 1211686665,\n",
       "        3094455211,  251528356, 3100552383, 1211686759,  847059866,\n",
       "        1576824857,  847059861,  847059858, 1576824908, 1211686804,\n",
       "        1211686692, 4308396403, 5271296033, 1211686775,  847059851,\n",
       "        5308979076]),\n",
       " array([2028569951, 2028569942, 2028569925, 2028569909, 1526038980,\n",
       "        1526038979, 1526038968, 1526038959, 1526038958, 2027953685,\n",
       "         620100728, 1289849105, 1289849100, 1289849106, 1289849102,\n",
       "        1289849113,  620100727, 1289849092, 1289849094, 1289849118,\n",
       "        1576824945, 5316681276, 2027953606,  620100726, 2027953582,\n",
       "        1271789168,  251528359, 3094455776, 1211686753, 3094455743,\n",
       "        3094455722, 3094455707, 1211686791, 3094455657, 1211686665,\n",
       "        3094455211,  251528356, 3100552383, 1211686759,  847059866,\n",
       "        1576824857,  847059861,  847059858, 1576824908, 1211686804,\n",
       "        1211686692, 4308396403, 5271296033, 1211686775,  847059851,\n",
       "        5308979076]))"
      ]
     },
     "execution_count": 79,
     "metadata": {},
     "output_type": "execute_result"
    }
   ],
   "source": [
    "np.array(p), np.array(hp)"
   ]
  },
  {
   "cell_type": "code",
   "execution_count": 80,
   "id": "e5079608abf35c99",
   "metadata": {
    "ExecuteTime": {
     "end_time": "2024-12-09T19:05:07.461512Z",
     "start_time": "2024-12-09T19:05:07.455109Z"
    },
    "collapsed": false
   },
   "outputs": [
    {
     "data": {
      "text/plain": [
       "(1585803311, 3094455776)"
      ]
     },
     "execution_count": 80,
     "metadata": {},
     "output_type": "execute_result"
    }
   ],
   "source": [
    "u,v"
   ]
  },
  {
   "cell_type": "code",
   "execution_count": 81,
   "id": "a3bd2303d0b22063",
   "metadata": {
    "ExecuteTime": {
     "end_time": "2024-12-09T19:05:07.502825Z",
     "start_time": "2024-12-09T19:05:07.464028Z"
    },
    "collapsed": false
   },
   "outputs": [
    {
     "ename": "NameError",
     "evalue": "name 'bi_dijkstra_pfa' is not defined",
     "output_type": "error",
     "traceback": [
      "\u001b[0;31m---------------------------------------------------------------------------\u001b[0m",
      "\u001b[0;31mNameError\u001b[0m                                 Traceback (most recent call last)",
      "Cell \u001b[0;32mIn[81], line 1\u001b[0m\n\u001b[0;32m----> 1\u001b[0m \u001b[43mbi_dijkstra_pfa\u001b[49m(g, u,v)\n",
      "\u001b[0;31mNameError\u001b[0m: name 'bi_dijkstra_pfa' is not defined"
     ]
    }
   ],
   "source": [
    "bi_dijkstra_pfa(g, u,v)"
   ]
  },
  {
   "cell_type": "code",
   "execution_count": null,
   "id": "af6466687a20544e",
   "metadata": {
    "ExecuteTime": {
     "end_time": "2024-12-09T19:05:07.505405Z",
     "start_time": "2024-12-09T19:05:07.504772Z"
    },
    "collapsed": false
   },
   "outputs": [],
   "source": []
  }
 ],
 "metadata": {
  "kernelspec": {
   "display_name": ".venv",
   "language": "python",
   "name": "python3"
  },
  "language_info": {
   "codemirror_mode": {
    "name": "ipython",
    "version": 3
   },
   "file_extension": ".py",
   "mimetype": "text/x-python",
   "name": "python",
   "nbconvert_exporter": "python",
   "pygments_lexer": "ipython3",
   "version": "3.10.12"
  }
 },
 "nbformat": 4,
 "nbformat_minor": 5
}
