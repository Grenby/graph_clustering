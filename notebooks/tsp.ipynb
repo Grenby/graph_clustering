{
 "cells": [
  {
   "cell_type": "code",
   "execution_count": null,
   "id": "initial_id",
   "metadata": {
    "collapsed": true
   },
   "outputs": [],
   "source": [
    "import sys\n",
    "\n",
    "\n",
    "import networkx as nx\n",
    "from ortools.sat.python import cp_model\n",
    "\n",
    "from scripts import graph_osm_loader, utils, clustering, centroids_graph_builder\n",
    "\n",
    "sys.path.append('../')"
   ]
  },
  {
   "cell_type": "code",
   "outputs": [],
   "source": [
    "GRAPH_ID = 'R13470549'  # R13470549 R2555133 R3766483\n",
    "# примеры id есть в graph_osm_loader.py\n",
    "g = graph_osm_loader.get_graph(GRAPH_ID)\n",
    "print(len(g.nodes), len(g.edges))"
   ],
   "metadata": {
    "collapsed": false
   },
   "id": "a9dd3c4dfc9a6402",
   "execution_count": null
  },
  {
   "cell_type": "code",
   "outputs": [],
   "source": [
    "\n",
    "cms_resolver = clustering.LouvainKMeansCommunityResolver(resolution=1)\n",
    "\n",
    "t, cg = centroids_graph_builder.CentroidGraphBuilder().build_with_time(g, cms_resolver)"
   ],
   "metadata": {
    "collapsed": false
   },
   "id": "5ac7a4d595dcaffc",
   "execution_count": null
  },
  {
   "cell_type": "code",
   "outputs": [],
   "source": [
    "N = 10\n",
    "points = list({p for p, u in utils.read_points(GRAPH_ID, g, num=N)})\n",
    "points"
   ],
   "metadata": {
    "collapsed": false
   },
   "id": "5ab188fd5f804c0",
   "execution_count": null
  },
  {
   "cell_type": "code",
   "outputs": [],
   "source": [
    "dst = {(u, v): nx.dijkstra_path_length(g, u, v, weight='length') for u in points for v in points}"
   ],
   "metadata": {
    "collapsed": false
   },
   "id": "c40d021ded13e3b5",
   "execution_count": null
  },
  {
   "cell_type": "code",
   "outputs": [],
   "source": [
    "def get_model(points, dst_matrix, START = None, cms_order = None, initial_X = None, initial_U = None):\n",
    "    if START is None:\n",
    "        START = points[0]\n",
    "\n",
    "    X = {}\n",
    "    U = {}\n",
    "    model = cp_model.CpModel()\n",
    "\n",
    "    for v in points:\n",
    "        for u in points:\n",
    "            X[v, u] = model.new_bool_var(f'r_{v}_{u}')\n",
    "        model.add(X[v, v] == 0)\n",
    "        U[v] = model.new_int_var(name=f'u_{v}', lb=0, ub=N-1)\n",
    "\n",
    "    for u in points:\n",
    "        model.add(sum(X[u, v] for v in points) == sum(X[v, u] for v in points))\n",
    "\n",
    "    for u in points:\n",
    "        if u == START:\n",
    "            pass\n",
    "        else:\n",
    "            model.add(sum(X[v, u] for v in points) == 1)\n",
    "\n",
    "    model.add(sum(X[START, v] for v in points if v != START) == 1)\n",
    "    U[START] = 0\n",
    "    for u in points:\n",
    "        for v in points:\n",
    "            if v != START:\n",
    "                model.add(U[u] + 1 <= U[v] + (1 - X[u, v]) * 1000)\n",
    "    \n",
    "    if cms_order is not None:\n",
    "        vals = list(cms_order.items())\n",
    "        vals.sort(key=lambda x: x[1])\n",
    "        for i in range(len(vals)-2):\n",
    "            (k1, v1) = vals[i]\n",
    "            (k2, v2) = vals[i+2]\n",
    "            if v1 == 0 or v1 == len(vals) - 1:\n",
    "                continue\n",
    "            set1 = set()\n",
    "            set2 = set()\n",
    "            for u in points:\n",
    "                if g.nodes()[u]['cluster'] == k2:\n",
    "                    set2.add(u)\n",
    "                elif g.nodes()[u]['cluster'] == k1:\n",
    "                    set1.add(u)\n",
    "            print(set1,set2)\n",
    "            print(k1,k2)\n",
    "            for u in set1:\n",
    "                for v in set2:\n",
    "                    model.add(U[u]<=U[v])\n",
    "    \n",
    "    if initial_X is not None:\n",
    "        for (u,v),val in initial_X.items():\n",
    "            model.add_hint(X[u,v],val)\n",
    "    if initial_U is not None:\n",
    "        for u,val in initial_U.items():\n",
    "            model.add_hint(U[u],val)\n",
    "    \n",
    "    \n",
    "    obj = sum(X[a, b] * int(dst_matrix[a, b]) for a in points for b in points)\n",
    "    model.minimize(obj)\n",
    "    return model, X, U"
   ],
   "metadata": {
    "collapsed": false
   },
   "id": "b4f5337e5f4da583",
   "execution_count": null
  },
  {
   "cell_type": "code",
   "outputs": [],
   "source": [
    "cms_points = list({g.nodes()[p]['cluster'] for p in points})\n",
    "cms_dst = {(u, v): nx.dijkstra_path_length(cg.g, u, v, weight='length') for u in cms_points for v in cms_points}"
   ],
   "metadata": {
    "collapsed": false
   },
   "id": "b11493fb7d0e5ca7",
   "execution_count": null
  },
  {
   "cell_type": "code",
   "outputs": [],
   "source": [],
   "metadata": {
    "collapsed": false
   },
   "id": "f607e44782c9bb9b",
   "execution_count": null
  },
  {
   "cell_type": "code",
   "outputs": [],
   "source": [
    "# from cpsat_autotune import  tune_time_to_optimal, tune_for_gap_within_timelimit\n",
    "# model, X = get_model_1()\n",
    "# best = tune_time_to_optimal(\n",
    "#     model,\n",
    "#     max_time_in_seconds=5,  # Enter a time limit slightly above what the solver with default parameters needs\n",
    "#     n_samples_for_trial=10,  # Number of samples for each trial\n",
    "#     n_samples_for_verification=10,  # Number of samples for each statistically relevant comparison.\n",
    "#     n_trials=40,  # Number of trials to run with Optuna\n",
    "#     # relative_gap_limit= 10e5\n",
    "# )"
   ],
   "metadata": {
    "collapsed": false
   },
   "id": "978ad14a7541b2bb",
   "execution_count": null
  },
  {
   "cell_type": "code",
   "outputs": [],
   "source": [
    "best = {'preferred_variable_order': 2,\n",
    "        'clause_cleanup_protection': 1,\n",
    "        'max_presolve_iterations': 5,\n",
    "        'cp_model_probing_level': 1,\n",
    "        'presolve_probing_deterministic_time_limit': 10.0,\n",
    "        'search_branching': 2,\n",
    "        'feasibility_jump_linearization_level': 0,\n",
    "        'fp_rounding': 0,\n",
    "        'polish_lp_solution': True,\n",
    "        'linearization_level': 0,\n",
    "        'cut_level': 2,\n",
    "        'max_all_diff_cut_size': 128,\n",
    "        'symmetry_level': 0,\n",
    "        'num_workers': 8}\n",
    "solver = cp_model.CpSolver()\n",
    "\n",
    "for k, v in best.items():\n",
    "    if isinstance(v, list):\n",
    "        for ss in v:\n",
    "            solver.parameters.ignore_subsolvers.append(ss)\n",
    "    else:\n",
    "        if 'ignore_subsolvers' in k:\n",
    "            if v:\n",
    "                solver.parameters.ignore_subsolvers.append(k.split(':')[1])\n",
    "        else:\n",
    "            exec(f'solver.parameters.{k} = {v}')\n",
    "\n",
    "solver.parameters.log_search_progress = True\n",
    "solver.parameters.max_time_in_seconds = 60.0 * 30"
   ],
   "metadata": {
    "collapsed": false
   },
   "id": "ae4067c20e06987",
   "execution_count": null
  },
  {
   "cell_type": "code",
   "outputs": [],
   "source": [
    "START = points[0]"
   ],
   "metadata": {
    "collapsed": false
   },
   "id": "2ee4cdaf97a25eb0",
   "execution_count": null
  },
  {
   "cell_type": "code",
   "outputs": [],
   "source": [
    "model, X, U = get_model(cms_points, cms_dst, START=g.nodes()[START]['cluster'])\n",
    "status = solver.solve(model)\n",
    "status"
   ],
   "metadata": {
    "collapsed": false
   },
   "id": "bc4a07beb09a5db5",
   "execution_count": null
  },
  {
   "cell_type": "code",
   "outputs": [],
   "source": [
    "# objective: 39792\n",
    "# best_bound: 39792"
   ],
   "metadata": {
    "collapsed": false
   },
   "id": "ec091bf0a6cd32f5",
   "execution_count": null
  },
  {
   "cell_type": "code",
   "outputs": [],
   "source": [
    "order_cms = {c: solver.value(U[c]) for c in U}\n",
    "order_cms"
   ],
   "metadata": {
    "collapsed": false
   },
   "id": "a0946feec18b72e1",
   "execution_count": null
  },
  {
   "cell_type": "code",
   "outputs": [],
   "source": [
    "model, X, U = get_model(points, dst, cms_order=order_cms, START = START)\n",
    "status = solver.solve(model)\n",
    "status"
   ],
   "metadata": {
    "collapsed": false
   },
   "id": "53e3e15ad70fb932",
   "execution_count": null
  },
  {
   "cell_type": "code",
   "outputs": [],
   "source": [
    "x_sol = {(u,v) : solver.value(val) for (u,v),val in X.items()}\n",
    "u_sol = {u : solver.value(val) for u,val in U.items()}"
   ],
   "metadata": {
    "collapsed": false
   },
   "id": "752b704e71c2da4c",
   "execution_count": null
  },
  {
   "cell_type": "code",
   "outputs": [],
   "source": [
    "model, X, U = get_model(points, dst, START = START, initial_X=x_sol)\n",
    "status = solver.solve(model)\n",
    "status"
   ],
   "metadata": {
    "collapsed": false
   },
   "id": "27e9fee367d25409",
   "execution_count": null
  },
  {
   "cell_type": "code",
   "outputs": [],
   "source": [
    "model, X, U = get_model(points, dst, START = START)\n",
    "status = solver.solve(model)\n",
    "status"
   ],
   "metadata": {
    "collapsed": false
   },
   "id": "2a5399c9a040d26c",
   "execution_count": null
  },
  {
   "cell_type": "code",
   "outputs": [],
   "source": [
    "model = get_model(points, dst,START = START)\n",
    "status = solver.solve(model)\n",
    "status"
   ],
   "metadata": {
    "collapsed": false
   },
   "id": "9ca13b6d724f1899",
   "execution_count": null
  },
  {
   "cell_type": "code",
   "outputs": [],
   "source": [
    "# точное решения для 50 точек\n",
    "# objective: 51523\n",
    "# best_bound: 51523\n",
    "# walltime: 88.2413\n",
    "# usertime: 88.2413"
   ],
   "metadata": {
    "collapsed": false
   },
   "id": "1066ac3ed34bcd36",
   "execution_count": null
  },
  {
   "cell_type": "code",
   "outputs": [],
   "source": [
    "# кластерное решение для 50 точек\n",
    "# objective: 51524\n",
    "# best_bound: 51524\n",
    "# walltime: 3.20884\n",
    "# usertime: 3.20884"
   ],
   "metadata": {
    "collapsed": false
   },
   "id": "ecc627098ade15e6",
   "execution_count": null
  },
  {
   "cell_type": "code",
   "outputs": [],
   "source": [
    "# objective: 33237\n",
    "# best_bound: 33237\n",
    "\n",
    "# objective: 33734\n",
    "# best_bound: 33734"
   ],
   "metadata": {
    "collapsed": false
   },
   "id": "b69d8e648af134de",
   "execution_count": null
  },
  {
   "cell_type": "code",
   "outputs": [],
   "source": [
    "res = {}\n",
    "u = points[0]\n",
    "for i in range(len(points) + 1):\n",
    "    res[i] = u\n",
    "    u = [v for v in points if solver.value(X[u, v]) == 1][0]"
   ],
   "metadata": {
    "collapsed": false
   },
   "id": "7f01bc4d0ed25ddd",
   "execution_count": null
  },
  {
   "cell_type": "code",
   "outputs": [],
   "source": [
    "import matplotlib.pyplot as plt\n",
    "import numpy as np\n",
    "\n",
    "rr = {(u, v): solver.value(X[u, v]) for u, v in X}\n",
    "node2id = {u: i for i, u in enumerate(points)}\n",
    "x = np.zeros((len(points), len(points)))\n",
    "for (u, v) in rr:\n",
    "    x[node2id[u], node2id[v]] = rr[u, v]\n",
    "_, _ = plt.subplots(1, 1, figsize=(\n",
    "10, 10))  # nx.draw(g, pos= {u : [d['x'],d['y']] for u,d in g.nodes(data=True)}, node_size= 20)\n",
    "\n",
    "plt.imshow(x)\n",
    "plt.xticks([i for i in range(N)], [i for i in range(N)])\n",
    "plt.yticks([i for i in range(N)], [i for i in range(N)])\n",
    "ax = plt.gca()\n",
    "ax.set_xticks([x - 0.5 for x in range(N)], minor=True)\n",
    "ax.set_yticks([y - 0.5 for y in range(N)], minor=True)\n",
    "plt.grid(which=\"minor\", ls=\"-\", lw=2)\n",
    "plt.show()"
   ],
   "metadata": {
    "collapsed": false
   },
   "id": "97599e40af8a05cb",
   "execution_count": null
  },
  {
   "cell_type": "code",
   "outputs": [],
   "source": [
    "# res = {r : u for (r,u),v in routes.items() if solver.value(v) == 1 }\n",
    "# res"
   ],
   "metadata": {
    "collapsed": false
   },
   "id": "6ce0c5c035753ecf",
   "execution_count": null
  },
  {
   "cell_type": "code",
   "outputs": [],
   "source": [
    "subgraph = nx.DiGraph()"
   ],
   "metadata": {
    "collapsed": false
   },
   "id": "683888d70120fc7e",
   "execution_count": null
  },
  {
   "cell_type": "code",
   "outputs": [],
   "source": [
    "pp = [res[i] for i in range(len(points) + 1)]\n",
    "subgraph_points = set(pp)\n",
    "L = 0\n",
    "for i in range(len(pp) - 1):\n",
    "    p1, p2 = res[i], res[i + 1]\n",
    "    l, path = nx.single_source_dijkstra(g, p1, p2, weight='length')\n",
    "    L += l\n",
    "    print(l)\n",
    "    for j in range(len(path) - 1):\n",
    "        u1, u2 = path[j], path[j + 1]\n",
    "        subgraph.add_edge(u1, u2)\n",
    "    subgraph_points.update(path)\n",
    "# subgraph = g.subgraph(subgraph_points)"
   ],
   "metadata": {
    "collapsed": false
   },
   "id": "9a6ea3a6b9cd11ba",
   "execution_count": null
  },
  {
   "cell_type": "code",
   "outputs": [],
   "source": [
    "L"
   ],
   "metadata": {
    "collapsed": false
   },
   "id": "1f4b84570e96070",
   "execution_count": null
  },
  {
   "cell_type": "code",
   "outputs": [],
   "source": [
    "node_colors = ['red' if u in set(res.values()) else 'green' for u in subgraph.nodes()]"
   ],
   "metadata": {
    "collapsed": false
   },
   "id": "35c73d44612f93a6",
   "execution_count": null
  },
  {
   "cell_type": "code",
   "outputs": [],
   "source": [
    "# labeldict = {u : u for u in res.values()}"
   ],
   "metadata": {
    "collapsed": false
   },
   "id": "a2704202d26e61cd",
   "execution_count": null
  },
  {
   "cell_type": "code",
   "outputs": [],
   "source": [
    "from matplotlib import pyplot as plt\n",
    "\n",
    "_, _ = plt.subplots(1, 1, figsize=(\n",
    "10, 10))  # nx.draw(g, pos= {u : [d['x'],d['y']] for u,d in g.nodes(data=True)}, node_size= 20)\n",
    "nx.draw(subgraph, pos={u: [d['x'], d['y']] for u, d in g.nodes(data=True)}, node_size=60, node_color=node_colors,\n",
    "        edge_color='red', width=0.1)"
   ],
   "metadata": {
    "collapsed": false
   },
   "id": "391a74a35d6d4c5d"
  },
  {
   "cell_type": "code",
   "outputs": [],
   "source": [
    "from matplotlib import pyplot as plt\n",
    "\n",
    "_, _ = plt.subplots(1, 1, figsize=(\n",
    "10, 10))  # nx.draw(g, pos= {u : [d['x'],d['y']] for u,d in g.nodes(data=True)}, node_size= 20)\n",
    "nx.draw(subgraph, pos={u: [d['x'], d['y']] for u, d in g.nodes(data=True)}, node_size=60, node_color=node_colors,\n",
    "        edge_color='red', width=0.1)"
   ],
   "metadata": {
    "collapsed": false
   },
   "id": "20dec0048e537ea1"
  },
  {
   "cell_type": "code",
   "outputs": [],
   "source": [],
   "metadata": {
    "collapsed": false
   },
   "id": "7e275e41359a3032"
  }
 ],
 "metadata": {
  "kernelspec": {
   "display_name": "Python 3",
   "language": "python",
   "name": "python3"
  },
  "language_info": {
   "codemirror_mode": {
    "name": "ipython",
    "version": 2
   },
   "file_extension": ".py",
   "mimetype": "text/x-python",
   "name": "python",
   "nbconvert_exporter": "python",
   "pygments_lexer": "ipython2",
   "version": "2.7.6"
  }
 },
 "nbformat": 4,
 "nbformat_minor": 5
}
