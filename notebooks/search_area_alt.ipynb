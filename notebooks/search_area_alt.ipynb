{
 "cells": [
  {
   "cell_type": "code",
   "execution_count": 1,
   "id": "92641b5d828c9de8",
   "metadata": {
    "collapsed": false,
    "ExecuteTime": {
     "end_time": "2024-11-24T09:15:22.383629Z",
     "start_time": "2024-11-24T09:15:22.379437Z"
    }
   },
   "outputs": [],
   "source": [
    "import logging\n",
    "import sys\n",
    "\n",
    "root = logging.getLogger()\n",
    "root.setLevel(logging.INFO)\n",
    "\n",
    "handler = logging.StreamHandler(sys.stdout)\n",
    "handler.setLevel(logging.INFO)\n",
    "formatter = logging.Formatter('%(asctime)s - %(name)s - %(levelname)s - %(message)s')\n",
    "handler.setFormatter(formatter)\n",
    "root.addHandler(handler)"
   ]
  },
  {
   "cell_type": "code",
   "execution_count": 2,
   "id": "843a11fe35a77465",
   "metadata": {
    "collapsed": false,
    "ExecuteTime": {
     "end_time": "2024-11-24T09:15:22.414720Z",
     "start_time": "2024-11-24T09:15:22.411994Z"
    }
   },
   "outputs": [],
   "source": [
    "import pathfinding"
   ]
  },
  {
   "cell_type": "code",
   "outputs": [],
   "source": [],
   "metadata": {
    "collapsed": false,
    "ExecuteTime": {
     "end_time": "2024-11-24T09:15:22.417266Z",
     "start_time": "2024-11-24T09:15:22.415754Z"
    }
   },
   "id": "ec581d36780133be",
   "execution_count": 2
  },
  {
   "cell_type": "code",
   "execution_count": 3,
   "id": "679e292ddcafdd40",
   "metadata": {
    "collapsed": false,
    "ExecuteTime": {
     "end_time": "2024-11-24T09:15:23.899771Z",
     "start_time": "2024-11-24T09:15:22.420948Z"
    }
   },
   "outputs": [],
   "source": [
    "import sys\n",
    "\n",
    "import matplotlib.pyplot as plt\n",
    "\n",
    "sys.path.append('../scripts')\n",
    "sys.path.append('../')\n",
    "\n",
    "from heapq import heappop, heappush\n",
    "from itertools import count\n",
    "\n",
    "import time\n",
    "from multiprocessing import Pool\n",
    "from time import sleep\n",
    "\n",
    "import numpy as np\n",
    "from tqdm.notebook import trange, tqdm\n",
    "from scripts import centroids_graph_builder, graph_osm_loader, utils, clustering\n",
    "\n",
    "import networkx as nx\n",
    "import leidenalg as la\n",
    "import pandas as pd\n",
    "\n",
    "from joblib import Parallel, delayed"
   ]
  },
  {
   "cell_type": "code",
   "outputs": [],
   "source": [
    "def get_graph():\n",
    "    dataset=pd.read_csv('../data/graph_data/p2p-Gnutella31.txt',delimiter=\"\\t\")\n",
    "    g = nx.DiGraph()\n",
    "    nodes = set()\n",
    "    edges = set()\n",
    "    for _,r in tqdm(dataset.iterrows(),total=len(dataset.index), desc = 'read data'):\n",
    "        f,t = r['# FromNodeId'], r['ToNodeId']\n",
    "        nodes.add(f)\n",
    "        nodes.add(t)\n",
    "        edges.add((f,t))\n",
    "    for n in tqdm(nodes, desc='add nodes'):\n",
    "        g.add_node(n)\n",
    "    for u,v in tqdm(edges, desc='add edges'):\n",
    "        g.add_edge(u,v,length = 1)\n",
    "    \n",
    "    del dataset\n",
    "    return g"
   ],
   "metadata": {
    "collapsed": false,
    "ExecuteTime": {
     "end_time": "2024-11-24T09:15:23.907043Z",
     "start_time": "2024-11-24T09:15:23.903202Z"
    }
   },
   "id": "d023a2c8ec39b58b",
   "execution_count": 4
  },
  {
   "cell_type": "code",
   "execution_count": 5,
   "id": "25e5c1440003f43a",
   "metadata": {
    "collapsed": false,
    "ExecuteTime": {
     "end_time": "2024-11-24T09:15:23.913157Z",
     "start_time": "2024-11-24T09:15:23.907621Z"
    }
   },
   "outputs": [],
   "source": [
    "def dijkstra_pfa_min_dst(graph: nx.Graph,\n",
    "                 start: set[int],\n",
    "                 ) -> \\\n",
    "        tuple[float, list[int]]:\n",
    "    adjacency = graph._adj\n",
    "    c = count()\n",
    "    push = heappush\n",
    "    pop = heappop\n",
    "    dist = {}\n",
    "    fringe = []\n",
    "    for s in start:\n",
    "        dist[s] = 0.0\n",
    "        push(fringe, (0.0, next(c), s))\n",
    "    while fringe:\n",
    "        (d, _, v) = pop(fringe)\n",
    "        for u, e in adjacency[v].items():\n",
    "            vu_dist = d + e['length']\n",
    "            if u not in dist or dist[u] > vu_dist:\n",
    "                dist[u] = vu_dist\n",
    "                push(fringe, (vu_dist, next(c), u))\n",
    "    return dist\n"
   ]
  },
  {
   "cell_type": "code",
   "execution_count": 6,
   "id": "34f910ca623208b5",
   "metadata": {
    "collapsed": false,
    "ExecuteTime": {
     "end_time": "2024-11-24T09:15:23.919657Z",
     "start_time": "2024-11-24T09:15:23.913970Z"
    }
   },
   "outputs": [],
   "source": [
    "def get_rand_graph(N, p):\n",
    "    G = nx.fast_gnp_random_graph(N, p, directed=False)\n",
    "    if not nx.is_connected(G):\n",
    "        tmp = []\n",
    "        for n in nx.connected_components(G):\n",
    "            for q in n:\n",
    "                tmp.append(q)\n",
    "                break\n",
    "        for i in range(len(tmp) - 1):\n",
    "            G.add_edge(tmp[i], tmp[i + 1])\n",
    "    for e in G.edges:\n",
    "        G.add_edge(e[0], e[1], length=np.random.random_sample() + 0.001)\n",
    "    for u in G.nodes:\n",
    "        if u in G[u]:\n",
    "            G.remove_edge(u, u)\n",
    "    return G"
   ]
  },
  {
   "cell_type": "code",
   "execution_count": 7,
   "id": "1b60f4b11aad1567",
   "metadata": {
    "collapsed": false,
    "ExecuteTime": {
     "end_time": "2024-11-24T09:15:23.948400Z",
     "start_time": "2024-11-24T09:15:23.921252Z"
    }
   },
   "outputs": [
    {
     "name": "stdout",
     "output_type": "stream",
     "text": [
      "17883 26972\n"
     ]
    }
   ],
   "source": [
    "GRAPH_ID = 'R2555133'  # R13470549 R2555133 R3766483\n",
    "# примеры id есть в graph_osm_loader.py\n",
    "# g = get_rand_graph(1000, 0.1)  # загрузка графа\n",
    "N = 100000\n",
    "p = 3/N\n",
    "# g = get_rand_grAaph(N,p)\n",
    "# g = get_graph()\n",
    "g= graph_osm_loader.get_graph(GRAPH_ID)\n",
    "print(len(g.nodes), len(g.edges))"
   ]
  },
  {
   "cell_type": "code",
   "outputs": [],
   "source": [
    "g.remove_edges_from(nx.selfloop_edges(g))"
   ],
   "metadata": {
    "collapsed": false,
    "ExecuteTime": {
     "end_time": "2024-11-24T09:15:23.956645Z",
     "start_time": "2024-11-24T09:15:23.949057Z"
    }
   },
   "id": "af782e49baab793a",
   "execution_count": 8
  },
  {
   "cell_type": "code",
   "outputs": [
    {
     "name": "stdout",
     "output_type": "stream",
     "text": [
      "2024-11-24 12:15:25,129 - root - INFO - communities: 3107\n"
     ]
    },
    {
     "name": "stderr",
     "output_type": "stream",
     "text": [
      "100%|██████████| 100/100 [00:06<00:00, 16.00it/s]"
     ]
    },
    {
     "name": "stdout",
     "output_type": "stream",
     "text": [
      "3107\n"
     ]
    },
    {
     "name": "stderr",
     "output_type": "stream",
     "text": [
      "\n"
     ]
    }
   ],
   "source": [
    "cms = clustering.resolve_k_means_communities(g, resolution=400, max_iteration=100, cluster_name='cluster1', print_log=True)\n",
    "print(len(cms))"
   ],
   "metadata": {
    "collapsed": false,
    "ExecuteTime": {
     "end_time": "2024-11-24T09:15:31.382761Z",
     "start_time": "2024-11-24T09:15:23.957210Z"
    }
   },
   "id": "64b0c1b8f91aeb84",
   "execution_count": 9
  },
  {
   "cell_type": "code",
   "outputs": [],
   "source": [
    "# cms = clustering.leiden(g, partition_type=la.CPMVertexPartition, resolution_parameter = 0.00001, weights='length')\n",
    "# len(cms), len(g.nodes)"
   ],
   "metadata": {
    "collapsed": false,
    "ExecuteTime": {
     "end_time": "2024-11-24T09:15:31.385852Z",
     "start_time": "2024-11-24T09:15:31.383605Z"
    }
   },
   "id": "dcf1a5444167e640",
   "execution_count": 10
  },
  {
   "cell_type": "code",
   "outputs": [
    {
     "name": "stderr",
     "output_type": "stream",
     "text": [
      "find centroids: 100%|██████████| 3107/3107 [00:00<00:00, 6043.66it/s]\n",
      "find edges: 100%|██████████| 3107/3107 [00:00<00:00, 5779.79it/s]\n"
     ]
    }
   ],
   "source": [
    "cls2n = centroids_graph_builder.get_cls2n(g, name='cluster1')  # мапа кластер к соседним кластерам \n",
    "g1, cls2c = centroids_graph_builder.build_center_graph(g, cms, cls2n, log=True, name='cluster1')"
   ],
   "metadata": {
    "collapsed": false,
    "ExecuteTime": {
     "end_time": "2024-11-24T09:15:32.473712Z",
     "start_time": "2024-11-24T09:15:31.388470Z"
    }
   },
   "id": "eb8dc07194669a4e",
   "execution_count": 11
  },
  {
   "cell_type": "code",
   "execution_count": 15,
   "id": "8021c0e3732684cd",
   "metadata": {
    "collapsed": false,
    "ExecuteTime": {
     "end_time": "2024-11-24T09:15:40.957607Z",
     "start_time": "2024-11-24T09:15:40.866967Z"
    }
   },
   "outputs": [
    {
     "data": {
      "text/plain": "generate points:   0%|          | 0/1000 [00:00<?, ?it/s]",
      "application/vnd.jupyter.widget-view+json": {
       "version_major": 2,
       "version_minor": 0,
       "model_id": "c4da2f9d25874feea3c4728a073f6296"
      }
     },
     "metadata": {},
     "output_type": "display_data"
    }
   ],
   "source": [
    "points = [utils.get_node_for_initial_graph_v2(g) for _ in trange(1000, desc='generate points')]"
   ]
  },
  {
   "cell_type": "code",
   "outputs": [
    {
     "data": {
      "text/plain": "73.64997100830078"
     },
     "execution_count": 16,
     "metadata": {},
     "output_type": "execute_result"
    }
   ],
   "source": [
    "d_clusters = np.zeros((len(cms), len(cms)))\n",
    "\n",
    "d_clusters.size * d_clusters.itemsize / 1024 / 1024"
   ],
   "metadata": {
    "collapsed": false,
    "ExecuteTime": {
     "end_time": "2024-11-24T09:15:42.067840Z",
     "start_time": "2024-11-24T09:15:42.064810Z"
    }
   },
   "id": "b21d2f57477fd4d8",
   "execution_count": 16
  },
  {
   "cell_type": "code",
   "execution_count": 17,
   "id": "c212be3a651b722e",
   "metadata": {
    "collapsed": false,
    "ExecuteTime": {
     "end_time": "2024-11-24T09:15:42.547170Z",
     "start_time": "2024-11-24T09:15:42.543400Z"
    }
   },
   "outputs": [],
   "source": [
    "import pickle\n",
    "\n",
    "\n",
    "def calc(data):\n",
    "    i,points, name, cms, g = data \n",
    "    d_clusters = np.zeros((len(cms), len(cms)))\n",
    "\n",
    "    for u in points:\n",
    "        ll = dijkstra_pfa_min_dst(g, cms[u])\n",
    "        q = {}\n",
    "        for v, d in ll.items():\n",
    "            if g.nodes()[v][name] in q:\n",
    "                q[g.nodes()[v][name]] = min(q[g.nodes()[v][name]], d)\n",
    "            else:\n",
    "                q[g.nodes()[v][name]] = d\n",
    "        for v in range(len(cms)):\n",
    "            if v in q:\n",
    "                d_clusters[u, v] = q[v]\n",
    "    with open(f'./temp/{i}.pcl', 'wb') as fp:\n",
    "        pickle.dump(d_clusters, fp)\n",
    "    del  i,points, name, cms, g, d_clusters\n",
    "    return 0"
   ]
  },
  {
   "cell_type": "code",
   "outputs": [],
   "source": [
    "w = 10"
   ],
   "metadata": {
    "collapsed": false,
    "ExecuteTime": {
     "end_time": "2024-11-24T09:15:43.019230Z",
     "start_time": "2024-11-24T09:15:43.016743Z"
    }
   },
   "id": "de0b155ab3d1043b",
   "execution_count": 18
  },
  {
   "cell_type": "code",
   "outputs": [],
   "source": [
    "from threading import Semaphore\n",
    "\n",
    "def generator_data():\n",
    "    s = Semaphore(w * 2)\n",
    "    for p in range(len(cms)):\n",
    "        s.acquire()\n",
    "        yield ({p}, 'cluster1', cms, g)\n",
    "        s.release()"
   ],
   "metadata": {
    "collapsed": false,
    "ExecuteTime": {
     "end_time": "2024-11-24T09:15:43.303658Z",
     "start_time": "2024-11-24T09:15:43.299041Z"
    }
   },
   "id": "df8f4e0ad12b184f",
   "execution_count": 19
  },
  {
   "cell_type": "code",
   "outputs": [],
   "source": [
    "cms_points = list(range(len(cms)))\n",
    "data = [(i, cms_points[i::w],'cluster1', cms, g) for i in range(w)]"
   ],
   "metadata": {
    "collapsed": false,
    "ExecuteTime": {
     "end_time": "2024-11-24T09:15:43.528837Z",
     "start_time": "2024-11-24T09:15:43.526187Z"
    }
   },
   "id": "daf8928c68f67d63",
   "execution_count": 20
  },
  {
   "cell_type": "code",
   "outputs": [],
   "source": [
    "! mkdir temp "
   ],
   "metadata": {
    "collapsed": false,
    "ExecuteTime": {
     "end_time": "2024-11-24T09:15:44.182002Z",
     "start_time": "2024-11-24T09:15:44.064275Z"
    }
   },
   "id": "9129f9dbcece8334",
   "execution_count": 21
  },
  {
   "cell_type": "markdown",
   "source": [],
   "metadata": {
    "collapsed": false
   },
   "id": "6aa18414c56987b"
  },
  {
   "cell_type": "code",
   "outputs": [],
   "source": [],
   "metadata": {
    "collapsed": false,
    "ExecuteTime": {
     "end_time": "2024-11-24T09:15:44.690985Z",
     "start_time": "2024-11-24T09:15:44.689291Z"
    }
   },
   "id": "2d5a90976f0cca8f",
   "execution_count": 21
  },
  {
   "cell_type": "code",
   "outputs": [
    {
     "data": {
      "text/plain": "  0%|          | 0/10 [00:00<?, ?it/s]",
      "application/vnd.jupyter.widget-view+json": {
       "version_major": 2,
       "version_minor": 0,
       "model_id": "75da5b4380274b30bd37dae950ed274a"
      }
     },
     "metadata": {},
     "output_type": "display_data"
    }
   ],
   "source": [
    "with Pool(w) as p:\n",
    "    res = list(tqdm(p.imap_unordered(calc, data), total = len(data)))\n",
    "for i in range(w):\n",
    "    with open(f'./temp/{i}.pcl', 'rb') as fp:\n",
    "        d_clusters += pickle.load(fp)"
   ],
   "metadata": {
    "collapsed": false,
    "ExecuteTime": {
     "end_time": "2024-11-24T09:16:06.481694Z",
     "start_time": "2024-11-24T09:15:44.886576Z"
    }
   },
   "id": "729a8a7ce12a6976",
   "execution_count": 22
  },
  {
   "cell_type": "code",
   "outputs": [],
   "source": [
    "!rm -rf temp"
   ],
   "metadata": {
    "collapsed": false,
    "ExecuteTime": {
     "end_time": "2024-11-24T09:16:06.662225Z",
     "start_time": "2024-11-24T09:16:06.482829Z"
    }
   },
   "id": "d58149f962b892bd",
   "execution_count": 23
  },
  {
   "cell_type": "markdown",
   "source": [],
   "metadata": {
    "collapsed": false
   },
   "id": "3b9e5aec982e2c22"
  },
  {
   "cell_type": "code",
   "execution_count": 24,
   "id": "d37d5156bf0da65e",
   "metadata": {
    "collapsed": false,
    "ExecuteTime": {
     "end_time": "2024-11-24T09:16:06.665622Z",
     "start_time": "2024-11-24T09:16:06.663380Z"
    }
   },
   "outputs": [],
   "source": [
    "d_clusters1= d_clusters\n",
    "nodes = g.nodes()"
   ]
  },
  {
   "cell_type": "code",
   "outputs": [
    {
     "data": {
      "text/plain": "  0%|          | 0/3107 [00:00<?, ?it/s]",
      "application/vnd.jupyter.widget-view+json": {
       "version_major": 2,
       "version_minor": 0,
       "model_id": "7e07e8006ea741288f4483ed7d95e551"
      }
     },
     "metadata": {},
     "output_type": "display_data"
    },
    {
     "data": {
      "text/plain": "  0%|          | 0/17883 [00:00<?, ?it/s]",
      "application/vnd.jupyter.widget-view+json": {
       "version_major": 2,
       "version_minor": 0,
       "model_id": "ceb446607a504058af36ab497e9f0e29"
      }
     },
     "metadata": {},
     "output_type": "display_data"
    }
   ],
   "source": [
    "d_clusters = {}\n",
    "d_nodes = {}\n",
    "for u in tqdm(g1.nodes()):\n",
    "    dst = dijkstra_pfa_min_dst(g, {cls2c[u]})\n",
    "    for v in g1.nodes():\n",
    "        d_clusters[u, v] = dst[cls2c[v]]\n",
    "        d_clusters[v, u] = dst[cls2c[v]]\n",
    "\n",
    "for u, d in tqdm(g.nodes(data=True)):\n",
    "    c = cls2c[d['cluster1']]\n",
    "    l = nx.single_source_dijkstra(g, u, c, weight='length')[0]\n",
    "    d_nodes[u] = l"
   ],
   "metadata": {
    "collapsed": false,
    "ExecuteTime": {
     "end_time": "2024-11-24T09:17:42.073539Z",
     "start_time": "2024-11-24T09:16:06.668203Z"
    }
   },
   "id": "ecca606448c54d68",
   "execution_count": 25
  },
  {
   "cell_type": "code",
   "execution_count": 26,
   "id": "dff5479132efa6dd",
   "metadata": {
    "collapsed": false,
    "ExecuteTime": {
     "end_time": "2024-11-24T09:17:42.078054Z",
     "start_time": "2024-11-24T09:17:42.074458Z"
    }
   },
   "outputs": [
    {
     "data": {
      "text/plain": "73.64997100830078"
     },
     "execution_count": 26,
     "metadata": {},
     "output_type": "execute_result"
    }
   ],
   "source": [
    "d_clusters1.size * d_clusters1.itemsize / 1024 / 1024"
   ]
  },
  {
   "cell_type": "code",
   "outputs": [],
   "source": [
    "# p2remove = set()\n",
    "# for p1,p2 in tqdm(points):\n",
    "#     try:\n",
    "#         nx.single_source_dijkstra(g,p1,p2,weight='length')\n",
    "#     except Exception as e:\n",
    "#         print(e)\n",
    "#         p2remove.add((p1,p2))"
   ],
   "metadata": {
    "collapsed": false,
    "ExecuteTime": {
     "end_time": "2024-11-24T09:18:02.705028Z",
     "start_time": "2024-11-24T09:18:02.700438Z"
    }
   },
   "id": "89e00e0ec3e77754",
   "execution_count": 27
  },
  {
   "cell_type": "code",
   "outputs": [],
   "source": [
    "# len(p2remove)"
   ],
   "metadata": {
    "collapsed": false,
    "ExecuteTime": {
     "end_time": "2024-11-24T09:18:03.716204Z",
     "start_time": "2024-11-24T09:18:03.712561Z"
    }
   },
   "id": "3f9372da35559457",
   "execution_count": 28
  },
  {
   "cell_type": "code",
   "outputs": [],
   "source": [
    "# p = []\n",
    "# for p1,p2 in points:\n",
    "#     if (p1,p2)not  in p2remove:\n",
    "#         p.append((p1,p2))\n",
    "# points = p"
   ],
   "metadata": {
    "collapsed": false,
    "ExecuteTime": {
     "end_time": "2024-11-24T09:18:03.720917Z",
     "start_time": "2024-11-24T09:18:03.716699Z"
    }
   },
   "id": "e89bfa40063cb53c",
   "execution_count": 29
  },
  {
   "cell_type": "code",
   "execution_count": 30,
   "id": "231a9079b330fe1b",
   "metadata": {
    "collapsed": false,
    "ExecuteTime": {
     "end_time": "2024-11-24T09:18:03.747791Z",
     "start_time": "2024-11-24T09:18:03.737437Z"
    }
   },
   "outputs": [],
   "source": [
    "\n",
    "\n",
    "def dijkstra_pfa(graph: nx.Graph,\n",
    "                 start: int,\n",
    "                 end: int,\n",
    "                 cms: set[int] | None = None) -> \\\n",
    "        tuple[float, list[int]]:\n",
    "    if start == end:\n",
    "        return 0, [start]\n",
    "    adjacency = graph._adj\n",
    "    nodes = graph.nodes()\n",
    "    c = count()\n",
    "    push = heappush\n",
    "    pop = heappop\n",
    "    dist = {}\n",
    "    pred = {}\n",
    "    fringe = []\n",
    "    push(fringe, (0.0, next(c), 0, start, None))\n",
    "    while fringe:\n",
    "        (d, _, n, v, p) = pop(fringe)\n",
    "        if v in dist:\n",
    "            continue\n",
    "        dist[v] = (d, n)\n",
    "        pred[v] = p\n",
    "        if v == end:\n",
    "            break\n",
    "        for u, e in adjacency[v].items():\n",
    "            if cms and nodes[u]['cluster'] not in cms:\n",
    "                continue\n",
    "            vu_dist = d + e['length']\n",
    "            if u not in dist:\n",
    "                push(fringe, (vu_dist, next(c), n + 1, u, v))\n",
    "    d, n = dist[end]\n",
    "    n += 1\n",
    "    path = [None] * n\n",
    "    i = n - 1\n",
    "    e = end\n",
    "    while i >= 0:\n",
    "        path[i] = e\n",
    "        i -= 1\n",
    "        e = pred[e]\n",
    "    return d, path, set(dist.keys())\n",
    "\n",
    "\n",
    "def bi_dijkstra_pfa(graph: nx.Graph,\n",
    "                    start: int,\n",
    "                    end: int,\n",
    "                    cms: set[int] | None = None\n",
    "                    ) -> tuple[float, list[int]]:\n",
    "    if start == end:\n",
    "        return 0, [start]\n",
    "    push = heappush\n",
    "    pop = heappop\n",
    "    dist = ({start: (0, 0, None)}, {end: (0, 0, None)})\n",
    "    fringe = ([], [])\n",
    "    c = count()\n",
    "\n",
    "    adjacency = graph._adj\n",
    "    nodes = graph.nodes()\n",
    "\n",
    "    push(fringe[0], (0, next(c), 0, start))\n",
    "    push(fringe[1], (0, next(c), 0, end))\n",
    "\n",
    "    union_node = None\n",
    "    union_dst = float('inf')\n",
    "    while fringe[0] and fringe[1]:\n",
    "        (d1, _, n1, v1) = pop(fringe[0])\n",
    "        (d2, _, n2, v2) = pop(fringe[1])\n",
    "        for u, e in adjacency[v1].items():\n",
    "            if cms and nodes[u]['cluster'] not in cms:\n",
    "                continue\n",
    "\n",
    "            vu_dist = d1 + e['length']\n",
    "            if u not in dist[0] or dist[0][u][0] > vu_dist:\n",
    "                dist[0][u] = (vu_dist, n1 + 1, v1)\n",
    "                push(fringe[0], (vu_dist, next(c), n1 + 1, u))\n",
    "            if u in dist[1]:\n",
    "                dd = dist[1][u][0] + dist[0][u][0]\n",
    "                if dd < union_dst:\n",
    "                    union_dst = dd\n",
    "                    union_node = u\n",
    "        for u, e in adjacency[v2].items():\n",
    "            if cms and nodes[u]['cluster'] not in cms:\n",
    "                continue\n",
    "\n",
    "            vu_dist = d2 + e['length']\n",
    "            if u not in dist[1] or dist[1][u][0] > vu_dist:\n",
    "                dist[1][u] = (vu_dist, n2 + 1, v2)\n",
    "                push(fringe[1], (vu_dist, next(c), n2 + 1, u))\n",
    "            if u in dist[0]:\n",
    "                dd = dist[0][u][0] + dist[1][u][0]\n",
    "                if dd < union_dst:\n",
    "                    union_dst = dd\n",
    "                    union_node = u\n",
    "        if d1 + d2 > union_dst:\n",
    "            break\n",
    "\n",
    "    d1, n1, _ = dist[0][union_node]\n",
    "    d2, n2, _ = dist[1][union_node]\n",
    "    path = [0] * (n1 + n2 + 1)\n",
    "    e = union_node\n",
    "    i = n1\n",
    "    while dist[0][e][2] is not None:\n",
    "        path[i] = e\n",
    "        i -= 1\n",
    "        e = dist[0][e][2]\n",
    "    path[0] = e\n",
    "\n",
    "    e = union_node\n",
    "    i = n1\n",
    "    while dist[1][e][2] is not None:\n",
    "        path[i] = e\n",
    "        i += 1\n",
    "        e = dist[1][e][2]\n",
    "    path[-1] = e\n",
    "    return union_dst, path, set(dist[0].keys()).union(set(dist[1].keys()))\n"
   ]
  },
  {
   "cell_type": "code",
   "outputs": [],
   "source": [
    "d_nodes1 = np.zeros((len(g.nodes)))\n",
    "d_clusters2 = np.zeros(d_clusters1.shape)"
   ],
   "metadata": {
    "collapsed": false,
    "ExecuteTime": {
     "end_time": "2024-11-24T09:18:04.711233Z",
     "start_time": "2024-11-24T09:18:04.709376Z"
    }
   },
   "id": "ed5c32fff85c0e94",
   "execution_count": 31
  },
  {
   "cell_type": "code",
   "outputs": [],
   "source": [
    "for i,j in d_clusters:\n",
    "    d_clusters2[i,j] = d_clusters[i,j]\n",
    "d_clusters = d_clusters2"
   ],
   "metadata": {
    "collapsed": false,
    "ExecuteTime": {
     "end_time": "2024-11-24T09:18:08.775887Z",
     "start_time": "2024-11-24T09:18:04.711695Z"
    }
   },
   "id": "1f92eb6dda996c1c",
   "execution_count": 32
  },
  {
   "cell_type": "code",
   "outputs": [],
   "source": [
    "for i,(u,d) in enumerate(g.nodes(data=True)):\n",
    "    d['n'] = i\n",
    "    d_nodes1[i] = d_nodes[u]\n",
    "d_nodes = d_nodes1"
   ],
   "metadata": {
    "collapsed": false,
    "ExecuteTime": {
     "end_time": "2024-11-24T09:23:47.911101Z",
     "start_time": "2024-11-24T09:23:47.891343Z"
    }
   },
   "id": "38e8b38bd745c103",
   "execution_count": 90
  },
  {
   "cell_type": "code",
   "execution_count": 202,
   "id": "2081393eaf43ca2",
   "metadata": {
    "collapsed": false,
    "ExecuteTime": {
     "end_time": "2024-11-24T09:40:34.452672Z",
     "start_time": "2024-11-24T09:40:34.448822Z"
    }
   },
   "outputs": [],
   "source": [
    "def func(u, v):\n",
    "    n1,n2 = nodes[u],nodes[v]\n",
    "    c1 = n1['cluster1']\n",
    "    c2 = n2['cluster1']   \n",
    "    n1 = n1['n']\n",
    "    n2 = n2['n']   \n",
    "    d1 = d_nodes[n1] - d_nodes[n2] - d_clusters[c1,c2]\n",
    "    d2 = abs(d_clusters[c1,c2] - d_nodes[n1]) - d_nodes[n2] \n",
    "    d3 = abs(d_clusters[c1,c2] - d_nodes[n2]) - d_nodes[n1]\n",
    "    d4 = d_nodes[n2] - d_nodes[n1] - d_clusters[c1,c2]\n",
    "    # print(d_clusters1[c1,c2], d2,d3)\n",
    "    return np.max(d_clusters1[c1, c2],d2,d3,d1,d4)"
   ]
  },
  {
   "cell_type": "code",
   "execution_count": 194,
   "id": "d1069473230a56d8",
   "metadata": {
    "collapsed": false,
    "ExecuteTime": {
     "end_time": "2024-11-24T09:37:17.561897Z",
     "start_time": "2024-11-24T09:37:17.558155Z"
    }
   },
   "outputs": [],
   "source": [
    "def dijkstra_pfa_cls(graph: nx.Graph,\n",
    "                     start: int,\n",
    "                     end: int\n",
    "                     ) -> tuple[float, list[int]]:\n",
    "    if start == end:\n",
    "        return 0, [start]\n",
    "    push = heappush\n",
    "    pop = heappop\n",
    "    dist = {start: (0, None)}\n",
    "    fringe = []\n",
    "    c = count()\n",
    "    adjacency = graph._adj\n",
    "    push(fringe, (0, next(c), 0, func(start, end), start))\n",
    "\n",
    "    while fringe:\n",
    "        (_, _, d1, l1, v1) = pop(fringe) \n",
    "        if v1 == end:\n",
    "            break\n",
    "        for u, e in adjacency[v1].items():\n",
    "            vu_dist = d1 + e['length']\n",
    "            if u not in dist or dist[u][0] > vu_dist:\n",
    "                dist[u] = (vu_dist, v1)\n",
    "                lu = func(u, end)\n",
    "                push(fringe, (vu_dist + lu, next(c), vu_dist, lu, u))\n",
    "\n",
    "    path = [end]\n",
    "    e = end\n",
    "    while dist[e][1] is not None:\n",
    "        e = dist[e][1]\n",
    "        path = [e] + path\n",
    "    l = 0\n",
    "    e = g.edges()\n",
    "    for i in range(len(path) - 1):\n",
    "        p1, p2 = path[i], path[i + 1]\n",
    "        l += e[p1, p2]['length']\n",
    "    return l, path, set(dist.keys())"
   ]
  },
  {
   "cell_type": "code",
   "execution_count": 195,
   "id": "81fd681530268c76",
   "metadata": {
    "collapsed": false,
    "ExecuteTime": {
     "end_time": "2024-11-24T09:37:17.806651Z",
     "start_time": "2024-11-24T09:37:17.797273Z"
    }
   },
   "outputs": [],
   "source": [
    "def ch_pfa(\n",
    "        graph: nx.Graph,\n",
    "        start: int,\n",
    "        end: int) -> tuple[float, list[int]]:\n",
    "    if start == end:\n",
    "        return 0, [start]\n",
    "    adjacency = graph._adj\n",
    "    push = heappush\n",
    "    pop = heappop\n",
    "    dist = (set(), set())\n",
    "    fringe = ([], [])\n",
    "    c = count()\n",
    "\n",
    "    push(fringe[0], (0, next(c), 0, start))\n",
    "    push(fringe[1], (0, next(c), 0, end))\n",
    "\n",
    "    heads = [0, 0]\n",
    "    seens = ({start: (0, None)}, {end: (0, None)})\n",
    "    union_node = None\n",
    "    union_dst = float('inf')\n",
    "    dir = 1\n",
    "    while fringe[0] or fringe[1]:\n",
    "        if fringe[0] and fringe[1]:\n",
    "            dir = 1 - dir\n",
    "        elif fringe[0]:\n",
    "            dir = 0\n",
    "        else:\n",
    "            dir = 1\n",
    "\n",
    "        (_, _, d, v) = pop(fringe[dir])\n",
    "\n",
    "        heads[dir] = d\n",
    "\n",
    "        if v in dist[dir]:\n",
    "            continue\n",
    "\n",
    "        dist[dir].add(v)\n",
    "\n",
    "        for u, l in adjacency[v].items():\n",
    "            vu_dist = d + l['length']\n",
    "            if u not in dist[dir] and (u not in seens[dir] or seens[dir][u][0] > vu_dist):\n",
    "                seens[dir][u] = (vu_dist, v)\n",
    "                l = -(func(start, u) -  func(end, u))/2 if dir == 1 else (func(start, u) -  func(end, u))/2\n",
    "                push(fringe[dir], (vu_dist + l, next(c),vu_dist, u))\n",
    "                if u in seens[1 - dir]:\n",
    "                    tpl = seens[1 - dir][u]\n",
    "                    dd = tpl[0] + vu_dist\n",
    "                    if dd < union_dst:\n",
    "                        union_dst = dd\n",
    "                        union_node = u\n",
    "        if min(heads) > union_dst:\n",
    "            break\n",
    "    path = []\n",
    "\n",
    "    e = union_node\n",
    "    while seens[0][e][1] is not None:\n",
    "        path = [e] + path\n",
    "        e = seens[0][e][1]\n",
    "    path = [e] + path\n",
    "\n",
    "    e = union_node\n",
    "    while seens[1][e][1] is not None:\n",
    "        e = seens[1][e][1]\n",
    "        path += [e]\n",
    "\n",
    "    l = 0\n",
    "    e = g.edges()\n",
    "    for i in range(len(path) - 1):\n",
    "        p1, p2 = path[i], path[i + 1]\n",
    "        l += e[p1, p2]['length']\n",
    "    return l, path\n"
   ]
  },
  {
   "cell_type": "code",
   "execution_count": 196,
   "id": "e4fcd02b902382dc",
   "metadata": {
    "collapsed": false,
    "ExecuteTime": {
     "end_time": "2024-11-24T09:37:18.352896Z",
     "start_time": "2024-11-24T09:37:18.342852Z"
    }
   },
   "outputs": [],
   "source": [
    "def bi_dijkstra_pfa_cls(graph: nx.Graph,\n",
    "                        start: int,\n",
    "                        end: int\n",
    "                        ) -> tuple[float, list[int]]:\n",
    "    if start == end:\n",
    "        return 0, [start]\n",
    "    push = heappush\n",
    "    pop = heappop\n",
    "    dist = ({start: (0, None)}, {end: (0, None)})\n",
    "    fringe = ([], [])\n",
    "    c = count()\n",
    "    adjacency = graph._adj\n",
    "\n",
    "    push(fringe[0], (0, next(c), 0, 0, start))\n",
    "    push(fringe[1], (0, next(c), 0, 0, end))\n",
    "\n",
    "    union_node = None\n",
    "    union_dst = float('inf')\n",
    "    while fringe[0] and fringe[1]:\n",
    "        (_, _, d1, l1, v1) = pop(fringe[0])\n",
    "        (_, _, d2, l2, v2) = pop(fringe[1])\n",
    "\n",
    "        for u, e in adjacency[v1].items():\n",
    "            vu_dist = d1 + e['length']\n",
    "            if u not in dist[0] or dist[0][u][0] > vu_dist:\n",
    "                dist[0][u] = (vu_dist, v1)\n",
    "                lu = -(func(u, start) - func(u,end))/2\n",
    "                push(fringe[0], (vu_dist + lu, next(c), vu_dist, lu, u))\n",
    "                if u in dist[1]:\n",
    "                    dd = dist[1][u][0] + dist[0][u][0]\n",
    "                    if dd < union_dst:\n",
    "                        union_dst = dd\n",
    "                        union_node = u\n",
    "\n",
    "        for u, e in adjacency[v2].items():\n",
    "            vu_dist = d2 + e['length']\n",
    "            if u not in dist[1] or dist[1][u][0] > vu_dist:\n",
    "                dist[1][u] = (vu_dist, v2)\n",
    "                lu = (func(u, start) - func(u,end))/2\n",
    "                push(fringe[1], (vu_dist + lu, next(c), vu_dist, lu, u))\n",
    "                if u in dist[0]:\n",
    "                    dd = dist[0][u][0] + dist[1][u][0]\n",
    "                    if dd < union_dst:\n",
    "                        union_dst = dd\n",
    "                        union_node = u\n",
    "        if d1 + d2 > union_dst:\n",
    "            break\n",
    "    d1, _ = dist[0][union_node]\n",
    "    d2, _ = dist[1][union_node]\n",
    "    path = []\n",
    "\n",
    "    e = union_node\n",
    "    while dist[0][e][1] is not None:\n",
    "        path = [e] + path\n",
    "        e = dist[0][e][1]\n",
    "    path = [e] + path\n",
    "\n",
    "    e = union_node\n",
    "    while dist[1][e][1] is not None:\n",
    "        e = dist[1][e][1]\n",
    "        path += [e]\n",
    "\n",
    "    l = 0\n",
    "    e = g.edges()\n",
    "    for i in range(len(path) - 1):\n",
    "        p1, p2 = path[i], path[i + 1]\n",
    "        l += e[p1, p2]['length']\n",
    "    return l, path"
   ]
  },
  {
   "cell_type": "code",
   "execution_count": 180,
   "id": "9fcf7ac581d2a138",
   "metadata": {
    "collapsed": false,
    "ExecuteTime": {
     "end_time": "2024-11-24T09:27:50.697239Z",
     "start_time": "2024-11-24T09:27:50.613898Z"
    }
   },
   "outputs": [],
   "source": [
    "pos = {u: [d['x'], d['y']] for u, d in g.nodes(data=True)}\n"
   ]
  },
  {
   "cell_type": "code",
   "execution_count": 181,
   "id": "2d3e31693f80a5dd",
   "metadata": {
    "collapsed": false,
    "ExecuteTime": {
     "end_time": "2024-11-24T09:27:50.825311Z",
     "start_time": "2024-11-24T09:27:50.821127Z"
    }
   },
   "outputs": [],
   "source": [
    "p1, p2 = points[4]"
   ]
  },
  {
   "cell_type": "code",
   "outputs": [
    {
     "name": "stdout",
     "output_type": "stream",
     "text": [
      "2916.4949999999994 3194.9530000000004 3194.9530000000004\n",
      "2916.4949999999994 3206.811 3206.811\n",
      "2916.4949999999994 3158.6220000000003 3158.6220000000003\n",
      "2916.4949999999994 3234.2470000000003 3234.2470000000003\n",
      "3388.726 3608.9540000000006 3608.9540000000006\n",
      "2924.662 3166.789 3166.789\n",
      "2385.917 2920.273 2920.273\n",
      "2385.917 3013.63 3013.63\n",
      "2385.917 2976.5860000000002 2976.5860000000002\n",
      "2385.917 2771.406 2771.406\n",
      "2385.917 2622.1130000000003 2622.1130000000003\n",
      "2385.917 2912.877 2912.877\n",
      "2385.917 2917.4120000000003 2917.4120000000003\n",
      "2305.328 2749.956 2749.956\n",
      "3105.351 3347.4780000000005 3347.4780000000005\n",
      "2305.328 2559.0950000000003 2559.0950000000003\n",
      "2305.328 2547.455 2547.455\n",
      "2385.917 2721.495 2721.495\n",
      "3388.726 3551.9940000000006 3551.9940000000006\n",
      "3461.632 3703.7590000000005 3703.7590000000005\n",
      "3105.351 3175.2210000000005 3175.2210000000005\n",
      "2305.328 2422.3410000000003 2422.3410000000003\n",
      "2906.6209999999996 3148.7480000000005 3148.7480000000005\n",
      "1840.3609999999999 2083.689 2083.689\n",
      "1840.3609999999999 2082.488 2082.488\n",
      "1840.3609999999999 2152.959 2152.959\n",
      "1469.4629999999997 1615.942 1615.942\n",
      "1469.4629999999997 1711.5900000000001 1711.5900000000001\n",
      "1023.9119999999999 1359.577 1359.577\n",
      "963.7090000000001 1072.03 1072.03\n",
      "1469.4629999999997 1931.845 1931.845\n",
      "963.7090000000001 1032.186 1032.186\n",
      "963.7090000000001 1111.069 1111.069\n",
      "963.7090000000001 1068.766 1068.766\n",
      "963.7090000000001 1167.432 1167.432\n",
      "781.6500000000001 933.6270000000001 933.6270000000001\n",
      "781.6500000000001 983.272 983.272\n",
      "317.877 587.2000000000002 587.2000000000002\n",
      "850.184 1117.8750000000002 1117.8750000000002\n",
      "317.877 542.5750000000002 542.5750000000002\n",
      "317.877 275.3470000000002 275.3470000000002\n",
      "317.877 560.0040000000001 560.0040000000001\n",
      "317.877 516.1890000000002 516.1890000000002\n",
      "0.0 246.18400000000003 -246.18400000000003\n",
      "317.877 253.65100000000018 253.65100000000018\n",
      "0.0 200.39100000000002 -200.39100000000002\n",
      "159.402 571.678 571.678\n",
      "0.0 540.706 -540.706\n",
      "2916.4949999999994 3198.3950000000004 3198.3950000000004\n",
      "3388.726 3644.7780000000007 3644.7780000000007\n",
      "1824.5399999999997 2057.895 2057.895\n",
      "1824.5399999999997 2129.497 2129.497\n",
      "1824.5399999999997 2066.667 2066.667\n",
      "1423.397 1665.5240000000001 1665.5240000000001\n",
      "1268.226 1492.9030000000002 1492.9030000000002\n",
      "1469.4629999999997 1897.641 1897.641\n",
      "1387.7939999999999 1572.9450000000002 1572.9450000000002\n",
      "1268.226 1546.6850000000002 1546.6850000000002\n",
      "1268.226 1510.353 1510.353\n",
      "1268.226 1522.4130000000002 1522.4130000000002\n",
      "1493.3269999999998 1735.4540000000002 1735.4540000000002\n",
      "963.7090000000001 1032.186 1032.186\n",
      "963.7090000000001 1068.766 1068.766\n",
      "963.7090000000001 1123.627 1123.627\n",
      "1344.225 1494.084 1494.084\n",
      "1824.5399999999997 2046.589 2046.589\n",
      "1840.3609999999999 2096.5429999999997 2096.5429999999997\n",
      "1344.225 1546.891 1546.891\n",
      "963.7090000000001 877.4680000000001 877.4680000000001\n",
      "2916.4949999999994 3198.7050000000004 3198.7050000000004\n",
      "226.05499999999998 304.21100000000007 304.21100000000007\n",
      "2924.662 3177.853 3177.853\n",
      "2916.4949999999994 2772.1590000000006 2772.1590000000006\n",
      "226.05499999999998 328.6890000000001 328.6890000000001\n",
      "0.0 0.0 0.0\n",
      "159.402 344.701 344.701\n",
      "2924.662 3215.266 3215.266\n",
      "781.6500000000001 818.8290000000001 818.8290000000001\n",
      "963.7090000000001 936.671 936.671\n",
      "1840.3609999999999 1884.433 1884.433\n",
      "2924.662 3156.702 3156.702\n",
      "1824.5399999999997 1854.7669999999998 1854.7669999999998\n",
      "226.05499999999998 491.41700000000003 491.41700000000003\n",
      "3456.8650000000002 3698.9919999999997 3698.9919999999997\n",
      "226.05499999999998 515.613 515.613\n",
      "0.0 0.0 0.0\n",
      "850.184 1151.9690000000003 1151.9690000000003\n",
      "850.184 1218.2780000000002 1218.2780000000002\n",
      "620.4399999999999 629.3320000000001 629.3320000000001\n",
      "226.05499999999998 304.21100000000007 304.21100000000007\n",
      "226.05499999999998 491.41700000000003 491.41700000000003\n",
      "620.4399999999999 487.52800000000013 487.52800000000013\n",
      "963.7090000000001 898.226 898.226\n",
      "620.4399999999999 794.2690000000001 794.2690000000001\n",
      "1469.4629999999997 1897.641 1897.641\n",
      "1469.4629999999997 1951.171 1951.171\n",
      "1469.4629999999997 1823.519 1823.519\n",
      "1469.4629999999997 1915.078 1915.078\n"
     ]
    },
    {
     "data": {
      "text/plain": "(3194.9529999999995,\n [249544760,\n  690915721,\n  347447440,\n  267391897,\n  8311547252,\n  8311547250,\n  260328156,\n  6950556447,\n  7648865942,\n  347962521,\n  9128626709,\n  7648859472,\n  3556341874,\n  3917371583,\n  4974239207,\n  8416859194,\n  8738859109,\n  8044993459,\n  8044993460,\n  8044993480],\n {249378501,\n  249544023,\n  249544499,\n  249544511,\n  249544584,\n  249544586,\n  249544760,\n  249689987,\n  260328156,\n  260328158,\n  260328161,\n  267380483,\n  267391897,\n  269167423,\n  275104477,\n  303586376,\n  303586417,\n  303586553,\n  303586934,\n  303587870,\n  303587873,\n  303587877,\n  303588014,\n  347447440,\n  347447448,\n  347962521,\n  444816949,\n  690915676,\n  690915721,\n  690976165,\n  1003819252,\n  1005315429,\n  1288826270,\n  1886870754,\n  3052006166,\n  3556341874,\n  3556341888,\n  3763031286,\n  3914345567,\n  3915382214,\n  3917371548,\n  3917371578,\n  3917371583,\n  4118651614,\n  4974239205,\n  4974239207,\n  5260031318,\n  5840577687,\n  6048405427,\n  6144636723,\n  6144636850,\n  6950556447,\n  6991098698,\n  6991098699,\n  6991098702,\n  7385165899,\n  7385165903,\n  7648859464,\n  7648859465,\n  7648859472,\n  7648865885,\n  7648865886,\n  7648865901,\n  7648865902,\n  7648865912,\n  7648865934,\n  7648865935,\n  7648865942,\n  7962087519,\n  8001510051,\n  8044993457,\n  8044993459,\n  8044993460,\n  8044993461,\n  8044993480,\n  8044993482,\n  8045034794,\n  8141079437,\n  8311547250,\n  8311547252,\n  8416856754,\n  8416856758,\n  8416859194,\n  8738859109,\n  9128626709,\n  9177628324,\n  9250013104,\n  9250708306,\n  9363809816,\n  10060934861,\n  10223035438,\n  11121670365})"
     },
     "execution_count": 192,
     "metadata": {},
     "output_type": "execute_result"
    }
   ],
   "source": [
    "dijkstra_pfa_cls(g,p1,p2)"
   ],
   "metadata": {
    "collapsed": false,
    "ExecuteTime": {
     "end_time": "2024-11-24T09:35:31.179652Z",
     "start_time": "2024-11-24T09:35:31.173918Z"
    }
   },
   "id": "6beaf215429a6956",
   "execution_count": 192
  },
  {
   "cell_type": "code",
   "execution_count": 182,
   "id": "1057e57c1fb2ea87",
   "metadata": {
    "collapsed": false,
    "ExecuteTime": {
     "end_time": "2024-11-24T09:27:51.022153Z",
     "start_time": "2024-11-24T09:27:51.020008Z"
    }
   },
   "outputs": [],
   "source": [
    "# f, ax = plt.subplots(1, 1, figsize=(20, 10))\n",
    "# l, path, nn = dijkstra_pfa(g, p1, p2)\n",
    "# f.suptitle('classical')\n",
    "# nx.draw(g, pos=pos, ax=ax, node_size=10, alpha=0.5)\n",
    "# nx.draw(g.subgraph(nn), pos=pos, ax=ax, node_size=10, node_color='green')\n",
    "# nx.draw(g.subgraph(path), pos=pos, ax=ax, node_size=15, node_color='red', edge_color='red', width=2)\n",
    "# nx.draw(g.subgraph(p1), pos=pos, ax=ax, node_size=30, node_color='blue', edge_color='red', width=2)\n",
    "# nx.draw(g.subgraph(p2), pos=pos, ax=ax, node_size=30, node_color='black', edge_color='red', width=2)\n",
    "# # plt.show()"
   ]
  },
  {
   "cell_type": "code",
   "execution_count": 183,
   "id": "ead6cfe49a9e37ea",
   "metadata": {
    "collapsed": false,
    "ExecuteTime": {
     "end_time": "2024-11-24T09:27:51.203724Z",
     "start_time": "2024-11-24T09:27:51.199890Z"
    }
   },
   "outputs": [],
   "source": [
    "# f, ax = plt.subplots(1, 1, figsize=(20, 10))\n",
    "# l, path, nn = bi_dijkstra_pfa(g, p1, p2)\n",
    "# f.suptitle('bi-directional')\n",
    "# nx.draw(g, pos=pos, ax=ax, node_size=10, alpha=0.5)\n",
    "# nx.draw(g.subgraph(nn), pos=pos, ax=ax, node_size=15, node_color='olivedrab', width=2)\n",
    "# nx.draw(g.subgraph(path), pos=pos, ax=ax, node_size=15, node_color='red', edge_color='red', width=3)\n",
    "# nx.draw(g.subgraph(p1), pos=pos, ax=ax, node_size=30, node_color='blue', edge_color='red', width=3)\n",
    "# nx.draw(g.subgraph(p2), pos=pos, ax=ax, node_size=30, node_color='black', edge_color='red', width=3)\n",
    "# # plt.show()"
   ]
  },
  {
   "cell_type": "code",
   "execution_count": 184,
   "id": "bdf43fb38aa475cf",
   "metadata": {
    "collapsed": false,
    "ExecuteTime": {
     "end_time": "2024-11-24T09:27:51.405915Z",
     "start_time": "2024-11-24T09:27:51.403438Z"
    }
   },
   "outputs": [],
   "source": [
    "# f, ax = plt.subplots(1, 1, figsize=(20, 10))\n",
    "# l, path, nn = dijkstra_pfa_cls(g, p1, p2)\n",
    "# \n",
    "# f.suptitle('bi-dir-cluster-heuristic')\n",
    "# nx.draw(g, pos=pos, ax=ax, node_size=10, alpha=0.5)\n",
    "# nx.draw(g.subgraph(nn), pos=pos, ax=ax, node_size=15, node_color='olivedrab', width=2)\n",
    "# nx.draw(g.subgraph(path), pos=pos, ax=ax, node_size=15, node_color='red', edge_color='red', width=3)\n",
    "# nx.draw(g.subgraph(p1), pos=pos, ax=ax, node_size=30, node_color='blue', edge_color='red', width=3)\n",
    "# nx.draw(g.subgraph(p2), pos=pos, ax=ax, node_size=30, node_color='black', edge_color='red', width=3)\n",
    "# # plt.show()"
   ]
  },
  {
   "cell_type": "code",
   "execution_count": 185,
   "id": "9253056cf1d1e0bf",
   "metadata": {
    "collapsed": false,
    "ExecuteTime": {
     "end_time": "2024-11-24T09:27:51.589025Z",
     "start_time": "2024-11-24T09:27:51.586234Z"
    }
   },
   "outputs": [],
   "source": [
    "# f, ax = plt.subplots(1, 1, figsize=(20, 10))\n",
    "# l,path,nn = ch_pfa(chg, p1,p2)\n",
    "# f.suptitle('cluster-heuristic')\n",
    "# nx.draw(g,pos=pos, ax = ax, node_size = 10, alpha=0.5)\n",
    "# nx.draw(g.subgraph(nn),pos=pos, ax = ax, node_size = 15, node_color='olivedrab',width = 2)\n",
    "# nx.draw(g.subgraph(path),pos=pos, ax = ax, node_size = 15, node_color='red', edge_color='red',width = 3)\n",
    "# nx.draw(g.subgraph(p1),pos=pos, ax = ax, node_size = 30, node_color='blue', edge_color='red',width = 3)\n",
    "# nx.draw(g.subgraph(p2),pos=pos, ax = ax, node_size = 30, node_color='black', edge_color='red',width = 3)\n",
    "# # plt.show()"
   ]
  },
  {
   "cell_type": "code",
   "execution_count": 186,
   "id": "790e9eeb9e397af0",
   "metadata": {
    "collapsed": false,
    "ExecuteTime": {
     "end_time": "2024-11-24T09:27:51.797631Z",
     "start_time": "2024-11-24T09:27:51.792136Z"
    }
   },
   "outputs": [],
   "source": [
    "# for p1,p2 in points:\n",
    "    # print(func(p1, p2), nx.single_source_dijkstra(g, p1, p2, weight='length')[0])    "
   ]
  },
  {
   "cell_type": "code",
   "execution_count": 186,
   "id": "b51a49857529b137",
   "metadata": {
    "collapsed": false,
    "ExecuteTime": {
     "end_time": "2024-11-24T09:27:52.024473Z",
     "start_time": "2024-11-24T09:27:52.020865Z"
    }
   },
   "outputs": [],
   "source": []
  },
  {
   "cell_type": "code",
   "execution_count": 187,
   "id": "a30e70cfa72463f4",
   "metadata": {
    "collapsed": false,
    "ExecuteTime": {
     "end_time": "2024-11-24T09:27:52.275176Z",
     "start_time": "2024-11-24T09:27:52.273002Z"
    }
   },
   "outputs": [],
   "source": [
    "p1, p2 = points[2]"
   ]
  },
  {
   "cell_type": "code",
   "execution_count": 203,
   "id": "7312717ee99a6dc",
   "metadata": {
    "collapsed": false,
    "ExecuteTime": {
     "end_time": "2024-11-24T09:40:55.304914Z",
     "start_time": "2024-11-24T09:40:40.118524Z"
    }
   },
   "outputs": [
    {
     "name": "stdout",
     "output_type": "stream",
     "text": [
      "start 0\n"
     ]
    },
    {
     "data": {
      "text/plain": "find paths:   0%|          | 0/125 [00:00<?, ?it/s]",
      "application/vnd.jupyter.widget-view+json": {
       "version_major": 2,
       "version_minor": 0,
       "model_id": "e35250dcb2f4444c9707b8ed3409ba8d"
      }
     },
     "metadata": {},
     "output_type": "display_data"
    },
    {
     "name": "stdout",
     "output_type": "stream",
     "text": [
      "start 1\n"
     ]
    },
    {
     "data": {
      "text/plain": "find paths:   0%|          | 0/125 [00:00<?, ?it/s]",
      "application/vnd.jupyter.widget-view+json": {
       "version_major": 2,
       "version_minor": 0,
       "model_id": "ce00b4ee974c4c5ea6c17df4c37a2eef"
      }
     },
     "metadata": {},
     "output_type": "display_data"
    },
    {
     "name": "stdout",
     "output_type": "stream",
     "text": [
      "start 2\n"
     ]
    },
    {
     "data": {
      "text/plain": "find paths:   0%|          | 0/125 [00:00<?, ?it/s]",
      "application/vnd.jupyter.widget-view+json": {
       "version_major": 2,
       "version_minor": 0,
       "model_id": "3b9a58341df848088022ead963b40c42"
      }
     },
     "metadata": {},
     "output_type": "display_data"
    },
    {
     "name": "stdout",
     "output_type": "stream",
     "text": [
      "start 3\n"
     ]
    },
    {
     "data": {
      "text/plain": "find paths:   0%|          | 0/125 [00:00<?, ?it/s]",
      "application/vnd.jupyter.widget-view+json": {
       "version_major": 2,
       "version_minor": 0,
       "model_id": "4506ff35f78d4b969feced36b28de824"
      }
     },
     "metadata": {},
     "output_type": "display_data"
    },
    {
     "name": "stdout",
     "output_type": "stream",
     "text": [
      "start 4\n"
     ]
    },
    {
     "data": {
      "text/plain": "find paths:   0%|          | 0/125 [00:00<?, ?it/s]",
      "application/vnd.jupyter.widget-view+json": {
       "version_major": 2,
       "version_minor": 0,
       "model_id": "00349688a96a4d3d8461ef5f5cee2352"
      }
     },
     "metadata": {},
     "output_type": "display_data"
    },
    {
     "name": "stdout",
     "output_type": "stream",
     "text": [
      "start 5\n"
     ]
    },
    {
     "data": {
      "text/plain": "find paths:   0%|          | 0/125 [00:00<?, ?it/s]",
      "application/vnd.jupyter.widget-view+json": {
       "version_major": 2,
       "version_minor": 0,
       "model_id": "bf377e07d72740ddbda5b253da6112b3"
      }
     },
     "metadata": {},
     "output_type": "display_data"
    },
    {
     "name": "stdout",
     "output_type": "stream",
     "text": [
      "start 6\n"
     ]
    },
    {
     "data": {
      "text/plain": "find paths:   0%|          | 0/125 [00:00<?, ?it/s]",
      "application/vnd.jupyter.widget-view+json": {
       "version_major": 2,
       "version_minor": 0,
       "model_id": "d827109c9a97442c9fd66a690c9ab76c"
      }
     },
     "metadata": {},
     "output_type": "display_data"
    },
    {
     "name": "stdout",
     "output_type": "stream",
     "text": [
      "start 7\n"
     ]
    },
    {
     "data": {
      "text/plain": "find paths:   0%|          | 0/125 [00:00<?, ?it/s]",
      "application/vnd.jupyter.widget-view+json": {
       "version_major": 2,
       "version_minor": 0,
       "model_id": "9ff2aa581c2a4ba4ac42ab11f78975fa"
      }
     },
     "metadata": {},
     "output_type": "display_data"
    },
    {
     "name": "stdout",
     "output_type": "stream",
     "text": [
      "err_mean: 0.00 %\n",
      "err_min: 0.00 %\n",
      "err_max: 0.00 %\n",
      "acceleration: 35.82 times\n"
     ]
    }
   ],
   "source": [
    "NUM_ITERATION = 3  # чтобы уменьшить ошибку при вычислении времени выполнения, при каждом замере время меряется для NUM_ITERATION повторений\n",
    "WORKER = 8  # количество потоков\n",
    "\n",
    "\n",
    "def do_calc(data):\n",
    "    pps, i = data\n",
    "\n",
    "    stat = {}\n",
    "    stat['l'] = []\n",
    "    stat['h_l'] = []\n",
    "\n",
    "    stat['p'] = []\n",
    "    stat['h_p'] = []\n",
    "    stat['time_l'] = []\n",
    "    stat['time_h'] = []\n",
    "\n",
    "    stat['delta'] = []\n",
    "    # чисто чтобы tqdm нормально прогрузился \n",
    "    sleep(i / 10)\n",
    "    print('start', i)\n",
    "\n",
    "    for p1, p2 in tqdm(pps, desc='find paths', position=i):\n",
    "        if (p1, p2) in stat:\n",
    "            continue\n",
    "        # класический дейкстра\n",
    "        l, p = None, None\n",
    "        start = time.time()\n",
    "        for i in range(NUM_ITERATION):\n",
    "            l, p = nx.single_source_dijkstra(g, p1, p2, weight='length')\n",
    "        time_l = time.time() - start\n",
    "\n",
    "        # иерархический\n",
    "        h_l, h_p = None, None\n",
    "        start = time.time()\n",
    "        for _ in range(NUM_ITERATION):\n",
    "            h_l, h_p, _ = dijkstra_pfa_cls(g, p1, p2)  #find_path_length_h(g, g1,cms, p1, p2)\n",
    "            # h_l, h_p,_ = dijkstra_pfa_cls(g, p1, p2)  #find_path_length_h(g, g1,cms, p1, p2)\n",
    "            # cls = set([g.nodes()[u]['cluster'] for u in h_p])\n",
    "            # cls1 = cls.copy()\n",
    "            # for c in cls:\n",
    "            #     for cc in cls2n[c]:\n",
    "            #         cls1.add(cc)\n",
    "            # h_l, h_p = dijkstra.dijkstra_pfa(g, p1,p2, cls1)  #find_path_length_h(g, g1,cms, p1, p2)\n",
    "            # h_l,h_p=ch_pfa(chg, p1,p2)\n",
    "            # h_l, h_p = nx.astar_path_length(g, p1,p2,weight='length', heuristic=func), []\n",
    "        time_h = time.time() - start\n",
    "\n",
    "        delta = (h_l - l) / l * 100\n",
    "        stat['l'].append(l)  # длина обычного пути\n",
    "        stat['h_l'].append(h_l)  # длина иерархического пути\n",
    "        stat['p'].append(p)  # обычный путь\n",
    "        stat['h_p'].append(h_p)  # иерархический путь\n",
    "        stat['delta'].append(delta)  # разница в длине\n",
    "        stat['time_l'].append(time_l)  # обычное время \n",
    "        stat['time_h'].append(time_h)  # иерархическое\n",
    "    return stat\n",
    "\n",
    "data = [([p for p in points[i::WORKER]], i) for i in range(WORKER)]\n",
    "# do_calc(data[0])\n",
    "with Pool(WORKER) as p:\n",
    "    res = p.map(do_calc, data)\n",
    "\n",
    "stat = {}\n",
    "for l in res:\n",
    "\n",
    "    for d in l:\n",
    "        if d not in stat:\n",
    "            stat[d] = []\n",
    "        stat[d].extend(l[d])\n",
    "print(f\"err_mean: {np.mean(stat['delta']):.2f} %\")\n",
    "print(f\"err_min: {np.min(stat['delta']):.2f} %\")\n",
    "print(f\"err_max: {np.max(stat['delta']):.2f} %\", )\n",
    "print(f\"acceleration: {np.mean(np.array(stat['time_l']) / np.array(stat['time_h'])):.2f} times\")"
   ]
  },
  {
   "cell_type": "code",
   "execution_count": 120,
   "id": "cd32e31a7d7a07f",
   "metadata": {
    "collapsed": false,
    "ExecuteTime": {
     "end_time": "2024-11-24T09:25:26.260066Z",
     "start_time": "2024-11-24T09:25:26.258611Z"
    }
   },
   "outputs": [],
   "source": []
  },
  {
   "cell_type": "code",
   "execution_count": null,
   "id": "e0c0d817c47378c2",
   "metadata": {
    "collapsed": false
   },
   "outputs": [],
   "source": [
    "max_err_idx = np.argmax(stat['delta'])\n"
   ]
  },
  {
   "cell_type": "code",
   "execution_count": null,
   "id": "56569198c3b78968",
   "metadata": {
    "collapsed": false
   },
   "outputs": [],
   "source": [
    "path = stat['p'][max_err_idx]\n",
    "h_path = stat['h_p'][max_err_idx]"
   ]
  },
  {
   "cell_type": "code",
   "execution_count": null,
   "id": "2a1ae3f08bdffa97",
   "metadata": {
    "collapsed": false
   },
   "outputs": [],
   "source": [
    "path"
   ]
  },
  {
   "cell_type": "code",
   "execution_count": null,
   "id": "ec3bae66089efd38",
   "metadata": {
    "collapsed": false
   },
   "outputs": [],
   "source": [
    "h_path"
   ]
  },
  {
   "cell_type": "code",
   "execution_count": null,
   "id": "9ad5c485635ede1",
   "metadata": {
    "collapsed": false
   },
   "outputs": [],
   "source": [
    "len(path), len(h_path)"
   ]
  },
  {
   "cell_type": "code",
   "execution_count": null,
   "id": "e8ed5b139389440a",
   "metadata": {
    "collapsed": false
   },
   "outputs": [],
   "source": [
    "print(np.array(path) - np.array(h_path))"
   ]
  },
  {
   "cell_type": "code",
   "execution_count": null,
   "id": "87f3a1144554bacd",
   "metadata": {
    "collapsed": false
   },
   "outputs": [],
   "source": [
    "stat['l'][max_err_idx], stat['h_l'][max_err_idx]"
   ]
  },
  {
   "cell_type": "code",
   "execution_count": null,
   "id": "d3c87591ee42ead2",
   "metadata": {
    "collapsed": false
   },
   "outputs": [],
   "source": [
    "p1, p2 = path[0], path[-1]"
   ]
  },
  {
   "cell_type": "markdown",
   "id": "850f3f3f5ab289bf",
   "metadata": {
    "collapsed": false
   },
   "source": []
  },
  {
   "cell_type": "code",
   "execution_count": null,
   "id": "e111a68deb48ef0b",
   "metadata": {
    "collapsed": false
   },
   "outputs": [],
   "source": [
    "labels = {u: d['cluster'] for u, d in g.nodes(data=True)}"
   ]
  },
  {
   "cell_type": "code",
   "execution_count": null,
   "id": "1a1a6f0599f5cbdc",
   "metadata": {
    "collapsed": false
   },
   "outputs": [],
   "source": [
    "pos_l = {u: [d['x'] + 0.001, d['y'] + 0.001] for u, d in g.nodes(data=True)}\n",
    "pos = {u: [d['x'], d['y']] for u, d in g.nodes(data=True)}\n"
   ]
  },
  {
   "cell_type": "code",
   "execution_count": null,
   "id": "3e55de9980d61cc5",
   "metadata": {
    "collapsed": false
   },
   "outputs": [],
   "source": [
    "f, ax = plt.subplots(1, 1, figsize=(20, 10))\n",
    "f.suptitle('max_err')\n",
    "cls = set([g.nodes()[u]['cluster'] for u in h_path])\n",
    "cls1 = cls.copy()\n",
    "for c in cls:\n",
    "    for cc in cls2n[c]:\n",
    "        cls1.add(cc)\n",
    "cls = set([g.nodes()[u]['cluster'] for u in path])\n",
    "for c in cls:\n",
    "    cls1.add(c)\n",
    "    for cc in cls2n[c]:\n",
    "        cls1.add(cc)\n",
    "\n",
    "nx.draw(centroids_graph_builder.extract_cluster_list_subgraph(g, cls1, cms2), pos=pos, ax=ax, node_size=10, alpha=0.5)\n",
    "nx.draw(g.subgraph(path), pos=pos, ax=ax, node_size=15, node_color='red', width=2, alpha=0.5)\n",
    "nx.draw(g.subgraph(h_path), pos=pos, ax=ax, node_size=15, node_color='green', width=2, alpha=0.5)\n",
    "# nx.draw_networkx_labels(g,pos_l,labels=labels,font_size=6)"
   ]
  },
  {
   "cell_type": "code",
   "execution_count": null,
   "id": "5592ac605e4db162",
   "metadata": {
    "collapsed": false
   },
   "outputs": [],
   "source": [
    "nx.single_source_dijkstra(g,p1,p2,weight='length')"
   ]
  },
  {
   "cell_type": "code",
   "execution_count": null,
   "id": "d38611334c807e54",
   "metadata": {
    "collapsed": false
   },
   "outputs": [],
   "source": [
    "bi_dijkstra_pfa_cls(g, p1,p2)"
   ]
  },
  {
   "cell_type": "code",
   "execution_count": null,
   "id": "1a6369a0755e99e7",
   "metadata": {
    "collapsed": false
   },
   "outputs": [],
   "source": [
    "893305603 in nx.single_source_dijkstra(g,p1,p2,weight='length')[1]"
   ]
  },
  {
   "cell_type": "code",
   "execution_count": null,
   "id": "b3e6540a4adab084",
   "metadata": {
    "collapsed": false
   },
   "outputs": [],
   "source": []
  }
 ],
 "metadata": {
  "kernelspec": {
   "display_name": "Python 3 (ipykernel)",
   "language": "python",
   "name": "python3"
  },
  "language_info": {
   "codemirror_mode": {
    "name": "ipython",
    "version": 3
   },
   "file_extension": ".py",
   "mimetype": "text/x-python",
   "name": "python",
   "nbconvert_exporter": "python",
   "pygments_lexer": "ipython3",
   "version": "3.10.12"
  }
 },
 "nbformat": 4,
 "nbformat_minor": 5
}
