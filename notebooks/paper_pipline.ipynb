{
 "cells": [
  {
   "cell_type": "code",
   "outputs": [],
   "source": [
    "import logging\n",
    "import sys\n",
    "\n",
    "root = logging.getLogger()\n",
    "root.setLevel(logging.INFO)\n",
    "\n",
    "handler = logging.StreamHandler(sys.stdout)\n",
    "handler.setLevel(logging.INFO)\n",
    "formatter = logging.Formatter('%(asctime)s - %(name)s - %(levelname)s - %(message)s')\n",
    "handler.setFormatter(formatter)\n",
    "root.addHandler(handler)"
   ],
   "metadata": {
    "collapsed": false,
    "ExecuteTime": {
     "end_time": "2025-01-21T07:29:15.811896Z",
     "start_time": "2025-01-21T07:29:15.800165Z"
    }
   },
   "id": "dde76cebf871e8c3",
   "execution_count": 1
  },
  {
   "cell_type": "code",
   "outputs": [],
   "source": [
    "import sys\n",
    "from scripts.path_findings import ch_builder\n",
    "\n",
    "import numpy as np\n",
    "\n",
    "sys.path.append('../scripts')\n",
    "sys.path.append('../')\n",
    "\n",
    "from scripts import graph_osm_loader\n",
    "from scripts import pipeline, centroids_graph_builder, clustering\n",
    "from scripts.path_findings import excraction_pfa, dijkstra_pfa\n",
    "from scripts import utils"
   ],
   "metadata": {
    "collapsed": false,
    "ExecuteTime": {
     "end_time": "2025-01-21T07:29:58.681667Z",
     "start_time": "2025-01-21T07:29:58.674430Z"
    }
   },
   "id": "e9ed6a4c09332b67",
   "execution_count": 10
  },
  {
   "cell_type": "code",
   "outputs": [],
   "source": [
    "    # 'PARIS': 'R71525',\n",
    "# 'Prague': 'R435514',\n",
    "# \n",
    "# 'DUBAI': 'R3766483',\n"
   ],
   "metadata": {
    "collapsed": false,
    "ExecuteTime": {
     "end_time": "2025-01-21T07:29:18.772882Z",
     "start_time": "2025-01-21T07:29:18.769786Z"
    }
   },
   "id": "a250dda702bca2cb",
   "execution_count": 3
  },
  {
   "cell_type": "code",
   "outputs": [
    {
     "name": "stdout",
     "output_type": "stream",
     "text": [
      "723 1046\n"
     ]
    }
   ],
   "source": [
    "GRAPH_ID = 'R13470549'  # R13470549 R2555133 R3766483\n",
    "# примеры id есть в graph_osm_loader.py\n",
    "g = graph_osm_loader.get_graph(GRAPH_ID)\n",
    "print(len(g.nodes), len(g.edges))"
   ],
   "metadata": {
    "collapsed": false,
    "ExecuteTime": {
     "end_time": "2025-01-21T07:29:19.391825Z",
     "start_time": "2025-01-21T07:29:19.381950Z"
    }
   },
   "id": "f3d83b1cd99d1de9",
   "execution_count": 6
  },
  {
   "cell_type": "code",
   "outputs": [
    {
     "name": "stdout",
     "output_type": "stream",
     "text": [
      "21702 30009\n"
     ]
    }
   ],
   "source": [
    "GRAPH_ID = 'R435514'  # R13470549 R2555133 R3766483\n",
    "# примеры id есть в graph_osm_loader.py\n",
    "g = graph_osm_loader.get_graph(GRAPH_ID)\n",
    "print(len(g.nodes), len(g.edges))"
   ],
   "metadata": {
    "collapsed": false,
    "ExecuteTime": {
     "end_time": "2025-01-21T07:29:18.856797Z",
     "start_time": "2025-01-21T07:29:18.787836Z"
    }
   },
   "id": "69244312a8318203",
   "execution_count": 5
  },
  {
   "cell_type": "code",
   "outputs": [
    {
     "name": "stdout",
     "output_type": "stream",
     "text": [
      "17970 27107\n"
     ]
    }
   ],
   "source": [
    "GRAPH_ID = 'R2555133'  # R13470549 R2555133 R3766483\n",
    "# примеры id есть в graph_osm_loader.py\n",
    "g = graph_osm_loader.get_graph(GRAPH_ID)\n",
    "print(len(g.nodes), len(g.edges))"
   ],
   "metadata": {
    "collapsed": false,
    "ExecuteTime": {
     "end_time": "2025-01-21T07:35:15.470040Z",
     "start_time": "2025-01-21T07:35:15.387261Z"
    }
   },
   "id": "63723175d0832542",
   "execution_count": 24
  },
  {
   "cell_type": "code",
   "outputs": [],
   "source": [
    "points = utils.read_points(GRAPH_ID, g, num=1000)"
   ],
   "metadata": {
    "collapsed": false,
    "ExecuteTime": {
     "end_time": "2025-01-21T07:35:15.751827Z",
     "start_time": "2025-01-21T07:35:15.746821Z"
    }
   },
   "id": "362ff279af79b465",
   "execution_count": 25
  },
  {
   "cell_type": "code",
   "outputs": [],
   "source": [
    "nodes = g.nodes()"
   ],
   "metadata": {
    "collapsed": false,
    "ExecuteTime": {
     "end_time": "2025-01-21T07:29:21.161207Z",
     "start_time": "2025-01-21T07:29:21.156820Z"
    }
   },
   "id": "50abdb860b170c92",
   "execution_count": 8
  },
  {
   "cell_type": "code",
   "outputs": [],
   "source": [
    "\n",
    "\n",
    "def dst(da, db):\n",
    "    return ((da['x'] - db['x']) ** 2 + (da['y'] - db['y']) ** 2) ** 0.5 / 360 * 2 * np.pi * 6371.01 * 1000 * 0.56\n",
    "\n",
    "\n",
    "def node_dst(u, v):\n",
    "    da = nodes[u]\n",
    "    db = nodes[v]\n",
    "    return dst(da, db)"
   ],
   "metadata": {
    "collapsed": false,
    "ExecuteTime": {
     "end_time": "2025-01-21T07:22:40.298891Z",
     "start_time": "2025-01-21T07:22:40.292729Z"
    }
   },
   "id": "e3e09a91603a5c7d",
   "execution_count": 30
  },
  {
   "cell_type": "code",
   "outputs": [],
   "source": [
    "from pympler.asizeof import asizeof"
   ],
   "metadata": {
    "collapsed": false,
    "ExecuteTime": {
     "end_time": "2025-01-21T07:22:40.958405Z",
     "start_time": "2025-01-21T07:22:40.953995Z"
    }
   },
   "id": "65299d71fa84fb68",
   "execution_count": 31
  },
  {
   "cell_type": "code",
   "outputs": [
    {
     "data": {
      "text/plain": "find centroids:   0%|          | 0/1661 [00:00<?, ?it/s]",
      "application/vnd.jupyter.widget-view+json": {
       "version_major": 2,
       "version_minor": 0,
       "model_id": "d6e4235792d54cfdab04195a70fee261"
      }
     },
     "metadata": {},
     "output_type": "display_data"
    },
    {
     "data": {
      "text/plain": "find edges:   0%|          | 0/1661 [00:00<?, ?it/s]",
      "application/vnd.jupyter.widget-view+json": {
       "version_major": 2,
       "version_minor": 0,
       "model_id": "8ded416c6fec4cf5a2e94f66ef12dfdb"
      }
     },
     "metadata": {},
     "output_type": "display_data"
    },
    {
     "data": {
      "text/plain": "(9.942084550857544, 6.217681884765625, 19.52996826171875)"
     },
     "execution_count": 32,
     "metadata": {},
     "output_type": "execute_result"
    }
   ],
   "source": [
    "\n",
    "cms_resolver = clustering.LouvainCommunityResolver(resolution=100)\n",
    "\n",
    "t, cg = centroids_graph_builder.CentroidGraphBuilder().build_with_time(g, cms_resolver)\n",
    "t, asizeof(cg) / 1024 / 1024, asizeof(g) / 1024 / 1024"
   ],
   "metadata": {
    "collapsed": false,
    "ExecuteTime": {
     "end_time": "2025-01-21T07:22:57.062950Z",
     "start_time": "2025-01-21T07:22:46.231064Z"
    }
   },
   "id": "c356a17ee7eebe16",
   "execution_count": 32
  },
  {
   "cell_type": "code",
   "outputs": [
    {
     "data": {
      "text/plain": "21.04889678955078"
     },
     "execution_count": 33,
     "metadata": {},
     "output_type": "execute_result"
    }
   ],
   "source": [
    "len(cg.cms) ** 2 * 8 / 1024 / 1024"
   ],
   "metadata": {
    "collapsed": false,
    "ExecuteTime": {
     "end_time": "2025-01-21T07:22:57.071222Z",
     "start_time": "2025-01-21T07:22:57.064897Z"
    }
   },
   "id": "d9abb00af9bb47ed",
   "execution_count": 33
  },
  {
   "cell_type": "code",
   "outputs": [
    {
     "data": {
      "text/plain": "build ch graph:   0%|          | 0/1661 [00:00<?, ?it/s]",
      "application/vnd.jupyter.widget-view+json": {
       "version_major": 2,
       "version_minor": 0,
       "model_id": "cd939e25f49849d3b45cfb136f7dc570"
      }
     },
     "metadata": {},
     "output_type": "display_data"
    }
   ],
   "source": [
    "\n",
    "chpfa = ch_builder.GreedyChBuilder().build_ch_pfa(cg.g)\n"
   ],
   "metadata": {
    "collapsed": false,
    "ExecuteTime": {
     "end_time": "2025-01-21T07:23:00.182143Z",
     "start_time": "2025-01-21T07:22:57.073289Z"
    }
   },
   "id": "b60b1e9cb8b05dd4",
   "execution_count": 34
  },
  {
   "cell_type": "code",
   "outputs": [],
   "source": [
    "\n",
    "\n",
    "baseline = dijkstra_pfa.Dijkstra(g)\n",
    "# \n",
    "test_alg = excraction_pfa.ExtractionPfa(\n",
    "    g=g,\n",
    "    upper=chpfa,\n",
    "    down=dijkstra_pfa.Dijkstra(g)\n",
    ")\n",
    "\n",
    "# test_alg = ArcFlagsBuilder().build(g, cg.cls2hubs)\n",
    "# test_alg = dijkstra_pfa.AStar(\n",
    "#     g = g,\n",
    "#     h = node_dst\n",
    "# )\n",
    "# test_alg = ClusterAltBuilder(0.1).build_ch_pfa(g)"
   ],
   "metadata": {
    "collapsed": false,
    "ExecuteTime": {
     "end_time": "2025-01-21T07:23:00.191498Z",
     "start_time": "2025-01-21T07:23:00.185278Z"
    }
   },
   "id": "4325b5d0ed6e8858",
   "execution_count": 35
  },
  {
   "cell_type": "code",
   "outputs": [
    {
     "data": {
      "text/plain": "1661"
     },
     "execution_count": 36,
     "metadata": {},
     "output_type": "execute_result"
    }
   ],
   "source": [
    "len(cg.cms)"
   ],
   "metadata": {
    "collapsed": false,
    "ExecuteTime": {
     "end_time": "2025-01-21T07:23:00.206927Z",
     "start_time": "2025-01-21T07:23:00.193976Z"
    }
   },
   "id": "449b92922069dceb",
   "execution_count": 36
  },
  {
   "cell_type": "code",
   "outputs": [],
   "source": [
    "# test_alg = MinClusterDistance(workers=10).build_astar(g, cg.cms)"
   ],
   "metadata": {
    "collapsed": false,
    "ExecuteTime": {
     "end_time": "2025-01-21T07:23:00.214473Z",
     "start_time": "2025-01-21T07:23:00.209306Z"
    }
   },
   "id": "3ca62bb28a1a6b05",
   "execution_count": 37
  },
  {
   "cell_type": "code",
   "outputs": [
    {
     "name": "stdout",
     "output_type": "stream",
     "text": [
      "start 0\n"
     ]
    },
    {
     "data": {
      "text/plain": "find paths:   0%|          | 0/250 [00:00<?, ?it/s]",
      "application/vnd.jupyter.widget-view+json": {
       "version_major": 2,
       "version_minor": 0,
       "model_id": "a8cf2d8573e64136829ba867522bdb54"
      }
     },
     "metadata": {},
     "output_type": "display_data"
    },
    {
     "name": "stdout",
     "output_type": "stream",
     "text": [
      "start 1\n"
     ]
    },
    {
     "data": {
      "text/plain": "find paths:   0%|          | 0/250 [00:00<?, ?it/s]",
      "application/vnd.jupyter.widget-view+json": {
       "version_major": 2,
       "version_minor": 0,
       "model_id": "7a8e3dc2b6264012bc39414185c65b8c"
      }
     },
     "metadata": {},
     "output_type": "display_data"
    },
    {
     "name": "stdout",
     "output_type": "stream",
     "text": [
      "start 2\n"
     ]
    },
    {
     "data": {
      "text/plain": "find paths:   0%|          | 0/250 [00:00<?, ?it/s]",
      "application/vnd.jupyter.widget-view+json": {
       "version_major": 2,
       "version_minor": 0,
       "model_id": "9007e7f9558648d9b2fbb4c5f306e53c"
      }
     },
     "metadata": {},
     "output_type": "display_data"
    },
    {
     "name": "stdout",
     "output_type": "stream",
     "text": [
      "start 3\n"
     ]
    },
    {
     "data": {
      "text/plain": "find paths:   0%|          | 0/250 [00:00<?, ?it/s]",
      "application/vnd.jupyter.widget-view+json": {
       "version_major": 2,
       "version_minor": 0,
       "model_id": "9fa757bff25a4d71b8c31d58875f4407"
      }
     },
     "metadata": {},
     "output_type": "display_data"
    }
   ],
   "source": [
    "stat = pipeline.PfaComparator(\n",
    "    baseline=baseline,\n",
    "    test_algorithm=test_alg,\n",
    "    points=points,\n",
    "    workers=4\n",
    ").compare()"
   ],
   "metadata": {
    "collapsed": false,
    "ExecuteTime": {
     "end_time": "2025-01-21T07:23:50.668886Z",
     "start_time": "2025-01-21T07:23:00.216325Z"
    }
   },
   "id": "ae3121ce02585050",
   "execution_count": 38
  },
  {
   "cell_type": "code",
   "outputs": [
    {
     "data": {
      "text/plain": "\n        err_max:    191.0248\n        err_min:    0.0000\n        err_median: 11.4312\n        err_mean:   13.7027\n        \n        acceleration_max:    67.0140\n        acceleration_min:    0.4381\n        acceleration_median: 16.7148\n        acceleration_mean:   17.3691\n        "
     },
     "execution_count": 39,
     "metadata": {},
     "output_type": "execute_result"
    }
   ],
   "source": [
    "stat"
   ],
   "metadata": {
    "collapsed": false,
    "ExecuteTime": {
     "end_time": "2025-01-21T07:23:50.676910Z",
     "start_time": "2025-01-21T07:23:50.670719Z"
    }
   },
   "id": "987dc47fb30c404",
   "execution_count": 39
  },
  {
   "cell_type": "code",
   "outputs": [
    {
     "data": {
      "text/plain": "  0%|          | 0/9 [00:00<?, ?it/s]",
      "application/vnd.jupyter.widget-view+json": {
       "version_major": 2,
       "version_minor": 0,
       "model_id": "919e539031ce46ba8e72a6f80b5f4416"
      }
     },
     "metadata": {},
     "output_type": "display_data"
    },
    {
     "name": "stdout",
     "output_type": "stream",
     "text": [
      "alpha = 0.03\n",
      "alpha = 0.05\n",
      "alpha = 0.07\n",
      "alpha = 0.08\n",
      "alpha = 0.09\n",
      "alpha = 0.09\n",
      "alpha = 0.13\n",
      "alpha = 0.19\n",
      "alpha = 0.26\n"
     ]
    }
   ],
   "source": [
    "from tqdm.auto import tqdm\n",
    "\n",
    "points = utils.read_points(GRAPH_ID, g, num=1000)\n",
    "resolutions = [10, 30, 50, 70, 90, 100, 200, 500, 1000]\n",
    "alphas = []\n",
    "stats = []\n",
    "baseline = dijkstra_pfa.Dijkstra(g)\n",
    "for r in tqdm(resolutions):\n",
    "    cms_resolver = clustering.LouvainCommunityResolver(resolution=r)\n",
    "    cg = centroids_graph_builder.CentroidGraphBuilder(log=False).build(g, cms_resolver)\n",
    "\n",
    "    alpha = len(cg.cms) / len(g.nodes())\n",
    "    alphas.append(alpha)\n",
    "    tqdm.write(f'alpha = {alpha:.2f}')\n",
    "\n",
    "    chpfa = ch_builder.GreedyChBuilder(print_log=False).build_ch_pfa(cg.g)\n",
    "    test_alg = excraction_pfa.ExtractionPfa(\n",
    "        g=g,\n",
    "        upper=chpfa,\n",
    "        down=dijkstra_pfa.Dijkstra(g)\n",
    "    )\n",
    "\n",
    "    stat = pipeline.PfaComparator(\n",
    "        baseline=baseline,\n",
    "        test_algorithm=test_alg,\n",
    "        points=points,\n",
    "        workers=4,\n",
    "        print_log=False\n",
    "    ).compare()\n",
    "\n",
    "    stats.append(stat)"
   ],
   "metadata": {
    "collapsed": false,
    "ExecuteTime": {
     "end_time": "2025-01-21T07:50:00.252652Z",
     "start_time": "2025-01-21T07:41:27.683456Z"
    }
   },
   "id": "1bc789d744d7bd15",
   "execution_count": 28
  },
  {
   "cell_type": "code",
   "outputs": [
    {
     "data": {
      "text/plain": "Text(0.5, 0, 'alpha')"
     },
     "execution_count": 30,
     "metadata": {},
     "output_type": "execute_result"
    },
    {
     "data": {
      "text/plain": "<Figure size 640x480 with 1 Axes>",
      "image/png": "[encoded data removed]"
     },
     "metadata": {},
     "output_type": "display_data"
    }
   ],
   "source": [
    "from matplotlib import pyplot as plt\n",
    "\n",
    "plt.boxplot([stat.get_acceleration() for stat in stats])\n",
    "plt.xticks(list(range(1, len(alphas) + 1)), [f'{a:.3f}' for a in alphas], rotation=45)\n",
    "plt.ylabel('acceleration')\n",
    "plt.xlabel('alpha')"
   ],
   "metadata": {
    "collapsed": false,
    "ExecuteTime": {
     "end_time": "2025-01-21T07:50:43.678932Z",
     "start_time": "2025-01-21T07:50:43.411915Z"
    }
   },
   "id": "d5e12f9132a99fd8",
   "execution_count": 30
  },
  {
   "cell_type": "code",
   "outputs": [],
   "source": [],
   "metadata": {
    "collapsed": false
   },
   "id": "42dd01ff77f674ff"
  }
 ],
 "metadata": {
  "kernelspec": {
   "display_name": "Python 3",
   "language": "python",
   "name": "python3"
  },
  "language_info": {
   "codemirror_mode": {
    "name": "ipython",
    "version": 2
   },
   "file_extension": ".py",
   "mimetype": "text/x-python",
   "name": "python",
   "nbconvert_exporter": "python",
   "pygments_lexer": "ipython2",
   "version": "2.7.6"
  }
 },
 "nbformat": 4,
 "nbformat_minor": 5
}
