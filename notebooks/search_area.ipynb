{
 "cells": [
  {
   "cell_type": "code",
   "execution_count": 1,
   "id": "92641b5d828c9de8",
   "metadata": {
    "collapsed": false,
    "ExecuteTime": {
     "end_time": "2024-11-25T18:00:57.536720Z",
     "start_time": "2024-11-25T18:00:57.523969Z"
    }
   },
   "outputs": [],
   "source": [
    "import logging\n",
    "import sys\n",
    "\n",
    "root = logging.getLogger()\n",
    "root.setLevel(logging.INFO)\n",
    "\n",
    "handler = logging.StreamHandler(sys.stdout)\n",
    "handler.setLevel(logging.INFO)\n",
    "formatter = logging.Formatter('%(asctime)s - %(name)s - %(levelname)s - %(message)s')\n",
    "handler.setFormatter(formatter)\n",
    "root.addHandler(handler)"
   ]
  },
  {
   "cell_type": "code",
   "execution_count": 1,
   "id": "843a11fe35a77465",
   "metadata": {
    "collapsed": false,
    "ExecuteTime": {
     "end_time": "2024-11-25T18:00:57.571284Z",
     "start_time": "2024-11-25T18:00:57.567690Z"
    }
   },
   "outputs": [],
   "source": []
  },
  {
   "cell_type": "code",
   "execution_count": 2,
   "id": "679e292ddcafdd40",
   "metadata": {
    "collapsed": false,
    "ExecuteTime": {
     "end_time": "2024-11-25T18:01:01.455452Z",
     "start_time": "2024-11-25T18:00:57.611293Z"
    }
   },
   "outputs": [
    {
     "name": "stdout",
     "output_type": "stream",
     "text": [
      "2024-11-25 21:00:59,327 - numexpr.utils - INFO - NumExpr defaulting to 8 threads.\n"
     ]
    }
   ],
   "source": [
    "import sys\n",
    "\n",
    "import matplotlib.pyplot as plt\n",
    "\n",
    "sys.path.append('../scripts')\n",
    "sys.path.append('../')\n",
    "\n",
    "from heapq import heappop, heappush\n",
    "from itertools import count\n",
    "\n",
    "import time\n",
    "from multiprocessing import Pool\n",
    "from time import sleep\n",
    "\n",
    "import numpy as np\n",
    "from tqdm.notebook import trange, tqdm\n",
    "from scripts import graph_osm_loader, utils, clustering\n",
    "\n",
    "import networkx as nx\n",
    "import pandas as pd\n"
   ]
  },
  {
   "cell_type": "code",
   "outputs": [],
   "source": [
    "def get_graph():\n",
    "    dataset = pd.read_csv('../data/graph_data/p2p-Gnutella31.txt', delimiter=\"\\t\")\n",
    "    g = nx.DiGraph()\n",
    "    nodes = set()\n",
    "    edges = set()\n",
    "    for _, r in tqdm(dataset.iterrows(), total=len(dataset.index), desc='read data'):\n",
    "        f, t = r['# FromNodeId'], r['ToNodeId']\n",
    "        nodes.add(f)\n",
    "        nodes.add(t)\n",
    "        edges.add((f, t))\n",
    "    for n in tqdm(nodes, desc='add nodes'):\n",
    "        g.add_node(n)\n",
    "    for u, v in tqdm(edges, desc='add edges'):\n",
    "        g.add_edge(u, v, length=1)\n",
    "\n",
    "    del dataset\n",
    "    return g"
   ],
   "metadata": {
    "collapsed": false,
    "ExecuteTime": {
     "end_time": "2024-11-25T18:01:01.472233Z",
     "start_time": "2024-11-25T18:01:01.463417Z"
    }
   },
   "id": "d023a2c8ec39b58b",
   "execution_count": 3
  },
  {
   "cell_type": "code",
   "execution_count": 4,
   "id": "25e5c1440003f43a",
   "metadata": {
    "collapsed": false,
    "ExecuteTime": {
     "end_time": "2024-11-25T18:01:01.480563Z",
     "start_time": "2024-11-25T18:01:01.474228Z"
    }
   },
   "outputs": [],
   "source": [
    "def dijkstra_pfa_min_dst(graph: nx.Graph,\n",
    "                         start: set[int],\n",
    "                         ) -> \\\n",
    "        tuple[float, list[int]]:\n",
    "    adjacency = graph._adj\n",
    "    c = count()\n",
    "    push = heappush\n",
    "    pop = heappop\n",
    "    dist = {}\n",
    "    fringe = []\n",
    "    for s in start:\n",
    "        dist[s] = 0.0\n",
    "        push(fringe, (0.0, next(c), s))\n",
    "    while fringe:\n",
    "        (d, _, v) = pop(fringe)\n",
    "        for u, e in adjacency[v].items():\n",
    "            vu_dist = d + e['length']\n",
    "            if u not in dist or dist[u] > vu_dist:\n",
    "                dist[u] = vu_dist\n",
    "                push(fringe, (vu_dist, next(c), u))\n",
    "    return dist\n"
   ]
  },
  {
   "cell_type": "code",
   "execution_count": 5,
   "id": "34f910ca623208b5",
   "metadata": {
    "collapsed": false,
    "ExecuteTime": {
     "end_time": "2024-11-25T18:01:01.489358Z",
     "start_time": "2024-11-25T18:01:01.483039Z"
    }
   },
   "outputs": [],
   "source": [
    "def get_rand_graph(N, p):\n",
    "    G = nx.fast_gnp_random_graph(N, p, directed=False)\n",
    "    if not nx.is_connected(G):\n",
    "        print('create connected')\n",
    "        tmp = []\n",
    "        for n in nx.connected_components(G):\n",
    "            for q in n:\n",
    "                tmp.append(q)\n",
    "                break\n",
    "        for i in trange(len(tmp) - 1):\n",
    "            G.add_edge(tmp[i], tmp[i + 1])\n",
    "    for e in G.edges:\n",
    "        G.add_edge(e[0], e[1], length=np.random.random_sample() + 0.001)\n",
    "    for u in G.nodes:\n",
    "        if u in G[u]:\n",
    "            G.remove_edge(u, u)\n",
    "    return G"
   ]
  },
  {
   "cell_type": "code",
   "execution_count": 6,
   "id": "1b60f4b11aad1567",
   "metadata": {
    "collapsed": false,
    "ExecuteTime": {
     "end_time": "2024-11-25T18:01:01.500720Z",
     "start_time": "2024-11-25T18:01:01.491149Z"
    }
   },
   "outputs": [
    {
     "name": "stdout",
     "output_type": "stream",
     "text": [
      "715 1038\n"
     ]
    }
   ],
   "source": [
    "GRAPH_ID = 'R13470549'  # R13470549 R2555133 R3766483\n",
    "# примеры id есть в graph_osm_loader.py\n",
    "# g = get_rand_graph(1000, 0.1)  # загрузка графа\n",
    "N = 1000_00\n",
    "p = 3 / N\n",
    "# g = get_rand_graph(N,p)\n",
    "# g = get_graph()\n",
    "g = graph_osm_loader.get_graph(GRAPH_ID)\n",
    "print(len(g.nodes), len(g.edges))"
   ]
  },
  {
   "cell_type": "code",
   "outputs": [],
   "source": [
    "g.remove_edges_from(nx.selfloop_edges(g))"
   ],
   "metadata": {
    "collapsed": false,
    "ExecuteTime": {
     "end_time": "2024-11-25T18:01:01.507164Z",
     "start_time": "2024-11-25T18:01:01.502947Z"
    }
   },
   "id": "af782e49baab793a",
   "execution_count": 7
  },
  {
   "cell_type": "code",
   "outputs": [
    {
     "data": {
      "text/plain": "26.739483914241877"
     },
     "execution_count": 9,
     "metadata": {},
     "output_type": "execute_result"
    }
   ],
   "source": [
    "np.sqrt(len(g.nodes))"
   ],
   "metadata": {
    "collapsed": false,
    "ExecuteTime": {
     "end_time": "2024-11-25T15:48:55.614770Z",
     "start_time": "2024-11-25T15:48:55.606973Z"
    }
   },
   "id": "23eedb584f161e9",
   "execution_count": 9
  },
  {
   "cell_type": "code",
   "outputs": [
    {
     "name": "stdout",
     "output_type": "stream",
     "text": [
      "2024-11-25 21:01:02,136 - root - INFO - communities: 26\n"
     ]
    },
    {
     "name": "stderr",
     "output_type": "stream",
     "text": [
      "100%|██████████| 100/100 [00:01<00:00, 51.08it/s]"
     ]
    },
    {
     "name": "stdout",
     "output_type": "stream",
     "text": [
      "26\n"
     ]
    },
    {
     "name": "stderr",
     "output_type": "stream",
     "text": [
      "\n"
     ]
    }
   ],
   "source": [
    "cms = clustering.resolve_k_means_communities(g, resolution=1, max_iteration=100, cluster_name='cluster1',\n",
    "                                             print_log=True)\n",
    "print(len(cms))"
   ],
   "metadata": {
    "collapsed": false,
    "ExecuteTime": {
     "end_time": "2024-11-25T18:01:04.100402Z",
     "start_time": "2024-11-25T18:01:02.042930Z"
    }
   },
   "id": "64b0c1b8f91aeb84",
   "execution_count": 8
  },
  {
   "cell_type": "code",
   "execution_count": 14,
   "id": "c212be3a651b722e",
   "metadata": {
    "collapsed": false,
    "ExecuteTime": {
     "end_time": "2024-11-25T15:48:58.480411Z",
     "start_time": "2024-11-25T15:48:58.468236Z"
    }
   },
   "outputs": [],
   "source": [
    "import pickle\n",
    "\n",
    "\n",
    "def calc(data):\n",
    "    i, points, name, cms, g = data\n",
    "    d_clusters = np.zeros((len(cms), len(cms)))\n",
    "\n",
    "    for u in points:\n",
    "        ll = dijkstra_pfa_min_dst(g, cms[u])\n",
    "        q = {}\n",
    "        for v, d in ll.items():\n",
    "            if g.nodes()[v][name] in q:\n",
    "                q[g.nodes()[v][name]] = min(q[g.nodes()[v][name]], d)\n",
    "            else:\n",
    "                q[g.nodes()[v][name]] = d\n",
    "        for v in range(len(cms)):\n",
    "            if v in q:\n",
    "                d_clusters[u, v] = q[v]\n",
    "    with open(f'./temp/{i}.pcl', 'wb') as fp:\n",
    "        pickle.dump(d_clusters, fp)\n",
    "    del i, points, name, cms, g, d_clusters\n",
    "    return 0"
   ]
  },
  {
   "cell_type": "code",
   "outputs": [],
   "source": [
    "w = 4"
   ],
   "metadata": {
    "collapsed": false,
    "ExecuteTime": {
     "end_time": "2024-11-25T15:48:58.487731Z",
     "start_time": "2024-11-25T15:48:58.482980Z"
    }
   },
   "id": "de0b155ab3d1043b",
   "execution_count": 15
  },
  {
   "cell_type": "code",
   "outputs": [],
   "source": [
    "from threading import Semaphore\n",
    "\n",
    "\n",
    "def generator_data():\n",
    "    s = Semaphore(w * 2)\n",
    "    for p in range(len(cms)):\n",
    "        s.acquire()\n",
    "        yield ({p}, 'cluster1', cms, g)\n",
    "        s.release()"
   ],
   "metadata": {
    "collapsed": false,
    "ExecuteTime": {
     "end_time": "2024-11-25T15:48:58.496743Z",
     "start_time": "2024-11-25T15:48:58.490164Z"
    }
   },
   "id": "df8f4e0ad12b184f",
   "execution_count": 16
  },
  {
   "cell_type": "code",
   "outputs": [],
   "source": [
    "cms_points = list(range(len(cms)))\n",
    "data = [(i, cms_points[i::w], 'cluster1', cms, g) for i in range(w)]"
   ],
   "metadata": {
    "collapsed": false,
    "ExecuteTime": {
     "end_time": "2024-11-25T15:48:58.505462Z",
     "start_time": "2024-11-25T15:48:58.499685Z"
    }
   },
   "id": "daf8928c68f67d63",
   "execution_count": 17
  },
  {
   "cell_type": "code",
   "outputs": [],
   "source": [
    "! mkdir temp "
   ],
   "metadata": {
    "collapsed": false,
    "ExecuteTime": {
     "end_time": "2024-11-25T15:48:58.645077Z",
     "start_time": "2024-11-25T15:48:58.508657Z"
    }
   },
   "id": "9129f9dbcece8334",
   "execution_count": 18
  },
  {
   "cell_type": "markdown",
   "source": [],
   "metadata": {
    "collapsed": false
   },
   "id": "6aa18414c56987b"
  },
  {
   "cell_type": "code",
   "outputs": [
    {
     "data": {
      "text/plain": "  0%|          | 0/4 [00:00<?, ?it/s]",
      "application/vnd.jupyter.widget-view+json": {
       "version_major": 2,
       "version_minor": 0,
       "model_id": "03024cdbcc24409aba04c752182e4723"
      }
     },
     "metadata": {},
     "output_type": "display_data"
    }
   ],
   "source": [
    "\n",
    "with Pool(w) as p:\n",
    "    res = list(tqdm(p.imap_unordered(calc, data), total=len(data)))\n",
    "for i in range(w):\n",
    "    with open(f'./temp/{i}.pcl', 'rb') as fp:\n",
    "        d_clusters += pickle.load(fp)"
   ],
   "metadata": {
    "collapsed": false,
    "ExecuteTime": {
     "end_time": "2024-11-25T15:48:58.837657Z",
     "start_time": "2024-11-25T15:48:58.648147Z"
    }
   },
   "id": "729a8a7ce12a6976",
   "execution_count": 19
  },
  {
   "cell_type": "code",
   "outputs": [],
   "source": [
    "!rm -rf temp"
   ],
   "metadata": {
    "collapsed": false,
    "ExecuteTime": {
     "end_time": "2024-11-25T15:48:58.968092Z",
     "start_time": "2024-11-25T15:48:58.841166Z"
    }
   },
   "id": "d58149f962b892bd",
   "execution_count": 20
  },
  {
   "cell_type": "markdown",
   "source": [],
   "metadata": {
    "collapsed": false
   },
   "id": "3b9e5aec982e2c22"
  },
  {
   "cell_type": "code",
   "execution_count": 21,
   "id": "d37d5156bf0da65e",
   "metadata": {
    "collapsed": false,
    "ExecuteTime": {
     "end_time": "2024-11-25T15:48:58.984767Z",
     "start_time": "2024-11-25T15:48:58.971804Z"
    }
   },
   "outputs": [],
   "source": [
    "d_clusters1 = d_clusters\n",
    "nodes = g.nodes()"
   ]
  },
  {
   "cell_type": "code",
   "execution_count": 22,
   "id": "dff5479132efa6dd",
   "metadata": {
    "collapsed": false,
    "ExecuteTime": {
     "end_time": "2024-11-25T15:48:58.996402Z",
     "start_time": "2024-11-25T15:48:58.988009Z"
    }
   },
   "outputs": [
    {
     "data": {
      "text/plain": "0.005157470703125"
     },
     "execution_count": 22,
     "metadata": {},
     "output_type": "execute_result"
    }
   ],
   "source": [
    "d_clusters1.size * d_clusters1.itemsize / 1024 / 1024"
   ]
  },
  {
   "cell_type": "code",
   "outputs": [],
   "source": [
    "# p2remove = set()\n",
    "# for p1,p2 in tqdm(points):\n",
    "#     try:\n",
    "#         nx.single_source_dijkstra(g,p1,p2,weight='length')\n",
    "#     except Exception as e:\n",
    "#         print(e)\n",
    "#         p2remove.add((p1,p2))"
   ],
   "metadata": {
    "collapsed": false
   },
   "id": "89e00e0ec3e77754",
   "execution_count": 23
  },
  {
   "cell_type": "code",
   "outputs": [],
   "source": [
    "# len(p2remove)"
   ],
   "metadata": {
    "collapsed": false,
    "ExecuteTime": {
     "end_time": "2024-11-25T15:48:59.012470Z",
     "start_time": "2024-11-25T15:48:59.007370Z"
    }
   },
   "id": "3f9372da35559457",
   "execution_count": 24
  },
  {
   "cell_type": "code",
   "outputs": [],
   "source": [
    "# p = []\n",
    "# for p1,p2 in points:\n",
    "#     if (p1,p2)not  in p2remove:\n",
    "#         p.append((p1,p2))\n",
    "# points = p"
   ],
   "metadata": {
    "collapsed": false,
    "ExecuteTime": {
     "end_time": "2024-11-25T15:48:59.025968Z",
     "start_time": "2024-11-25T15:48:59.021126Z"
    }
   },
   "id": "e89bfa40063cb53c",
   "execution_count": 25
  },
  {
   "cell_type": "code",
   "execution_count": 26,
   "id": "231a9079b330fe1b",
   "metadata": {
    "collapsed": false,
    "ExecuteTime": {
     "end_time": "2024-11-25T15:48:59.081017Z",
     "start_time": "2024-11-25T15:48:59.030694Z"
    }
   },
   "outputs": [],
   "source": [
    "\n",
    "\n",
    "def dijkstra_pfa(graph: nx.Graph,\n",
    "                 start: int,\n",
    "                 end: int,\n",
    "                 cms: set[int] | None = None) -> \\\n",
    "        tuple[float, list[int]]:\n",
    "    if start == end:\n",
    "        return 0, [start]\n",
    "    adjacency = graph._adj\n",
    "    nodes = graph.nodes()\n",
    "    c = count()\n",
    "    push = heappush\n",
    "    pop = heappop\n",
    "    dist = {}\n",
    "    pred = {}\n",
    "    fringe = []\n",
    "    push(fringe, (0.0, next(c), 0, start, None))\n",
    "    while fringe:\n",
    "        (d, _, n, v, p) = pop(fringe)\n",
    "        if v in dist:\n",
    "            continue\n",
    "        dist[v] = (d, n)\n",
    "        pred[v] = p\n",
    "        if v == end:\n",
    "            break\n",
    "        for u, e in adjacency[v].items():\n",
    "            if cms and nodes[u]['cluster'] not in cms:\n",
    "                continue\n",
    "            vu_dist = d + e['length']\n",
    "            if u not in dist:\n",
    "                push(fringe, (vu_dist, next(c), n + 1, u, v))\n",
    "    d, n = dist[end]\n",
    "    n += 1\n",
    "    path = [None] * n\n",
    "    i = n - 1\n",
    "    e = end\n",
    "    while i >= 0:\n",
    "        path[i] = e\n",
    "        i -= 1\n",
    "        e = pred[e]\n",
    "    return d, path, set(dist.keys())\n",
    "\n",
    "\n",
    "def bi_dijkstra_pfa(graph: nx.Graph,\n",
    "                    start: int,\n",
    "                    end: int,\n",
    "                    cms: set[int] | None = None\n",
    "                    ) -> tuple[float, list[int]]:\n",
    "    if start == end:\n",
    "        return 0, [start]\n",
    "    push = heappush\n",
    "    pop = heappop\n",
    "    dist = ({start: (0, 0, None)}, {end: (0, 0, None)})\n",
    "    fringe = ([], [])\n",
    "    c = count()\n",
    "\n",
    "    adjacency = graph._adj\n",
    "    nodes = graph.nodes()\n",
    "\n",
    "    push(fringe[0], (0, next(c), 0, start))\n",
    "    push(fringe[1], (0, next(c), 0, end))\n",
    "\n",
    "    union_node = None\n",
    "    union_dst = float('inf')\n",
    "    while fringe[0] and fringe[1]:\n",
    "        (d1, _, n1, v1) = pop(fringe[0])\n",
    "        (d2, _, n2, v2) = pop(fringe[1])\n",
    "        for u, e in adjacency[v1].items():\n",
    "            if cms and nodes[u]['cluster'] not in cms:\n",
    "                continue\n",
    "\n",
    "            vu_dist = d1 + e['length']\n",
    "            if u not in dist[0] or dist[0][u][0] > vu_dist:\n",
    "                dist[0][u] = (vu_dist, n1 + 1, v1)\n",
    "                push(fringe[0], (vu_dist, next(c), n1 + 1, u))\n",
    "            if u in dist[1]:\n",
    "                dd = dist[1][u][0] + dist[0][u][0]\n",
    "                if dd < union_dst:\n",
    "                    union_dst = dd\n",
    "                    union_node = u\n",
    "        for u, e in adjacency[v2].items():\n",
    "            if cms and nodes[u]['cluster'] not in cms:\n",
    "                continue\n",
    "\n",
    "            vu_dist = d2 + e['length']\n",
    "            if u not in dist[1] or dist[1][u][0] > vu_dist:\n",
    "                dist[1][u] = (vu_dist, n2 + 1, v2)\n",
    "                push(fringe[1], (vu_dist, next(c), n2 + 1, u))\n",
    "            if u in dist[0]:\n",
    "                dd = dist[0][u][0] + dist[1][u][0]\n",
    "                if dd < union_dst:\n",
    "                    union_dst = dd\n",
    "                    union_node = u\n",
    "        if d1 + d2 > union_dst:\n",
    "            break\n",
    "\n",
    "    d1, n1, _ = dist[0][union_node]\n",
    "    d2, n2, _ = dist[1][union_node]\n",
    "    path = [0] * (n1 + n2 + 1)\n",
    "    e = union_node\n",
    "    i = n1\n",
    "    while dist[0][e][2] is not None:\n",
    "        path[i] = e\n",
    "        i -= 1\n",
    "        e = dist[0][e][2]\n",
    "    path[0] = e\n",
    "\n",
    "    e = union_node\n",
    "    i = n1\n",
    "    while dist[1][e][2] is not None:\n",
    "        path[i] = e\n",
    "        i += 1\n",
    "        e = dist[1][e][2]\n",
    "    path[-1] = e\n",
    "    return union_dst, path, set(dist[0].keys()).union(set(dist[1].keys()))\n"
   ]
  },
  {
   "cell_type": "code",
   "execution_count": 27,
   "id": "2081393eaf43ca2",
   "metadata": {
    "collapsed": false,
    "ExecuteTime": {
     "end_time": "2024-11-25T15:48:59.399523Z",
     "start_time": "2024-11-25T15:48:59.393570Z"
    }
   },
   "outputs": [],
   "source": [
    "def func(u, v):\n",
    "    return d_clusters1[nodes[v]['cluster1'], nodes[u]['cluster1']]"
   ]
  },
  {
   "cell_type": "code",
   "outputs": [],
   "source": [
    "rad = []\n",
    "for i, c in enumerate(cms):\n",
    "    gg = g.subgraph(c)\n",
    "    rad.append(nx.diameter(gg, weight='length'))"
   ],
   "metadata": {
    "collapsed": false,
    "ExecuteTime": {
     "end_time": "2024-11-25T15:49:00.512407Z",
     "start_time": "2024-11-25T15:48:59.963135Z"
    }
   },
   "id": "ef2a57616534223f",
   "execution_count": 28
  },
  {
   "cell_type": "code",
   "execution_count": 29,
   "id": "d1069473230a56d8",
   "metadata": {
    "collapsed": false,
    "ExecuteTime": {
     "end_time": "2024-11-25T15:49:00.526626Z",
     "start_time": "2024-11-25T15:49:00.515110Z"
    }
   },
   "outputs": [],
   "source": [
    "def dijkstra_pfa_cls(graph: nx.Graph,\n",
    "                     start: int,\n",
    "                     end: int\n",
    "                     ) -> tuple[float, list[int]]:\n",
    "    if start == end:\n",
    "        return 0, [start]\n",
    "    push = heappush\n",
    "    pop = heappop\n",
    "    dist = {start: (0, None)}\n",
    "    fringe = []\n",
    "    c1, c2 = nodes[start]['cluster1'], nodes[end]['cluster1']\n",
    "    l0 = d_clusters1[c1,c2]\n",
    "    \n",
    "    c = count()\n",
    "    adjacency = graph._adj\n",
    "    push(fringe, (0, next(c), 0, func(start, end), start))\n",
    "\n",
    "    while fringe:\n",
    "        (_, _, d1, l1, v1) = pop(fringe)\n",
    "        if v1 == end:\n",
    "            break\n",
    "        for u, e in adjacency[v1].items():\n",
    "            vu_dist = d1 + e['length']\n",
    "            if u not in dist or dist[u][0] > vu_dist:\n",
    "                uc = nodes[u]['cluster1']\n",
    "                lu = d_clusters1[uc, c2]\n",
    "                print(lu+vu_dist)\n",
    "                dist[u] = (vu_dist, v1)\n",
    "                push(fringe, (vu_dist + lu, next(c), vu_dist, lu, u))\n",
    "    path = [end]\n",
    "    e = end\n",
    "    while dist[e][1] is not None:\n",
    "        e = dist[e][1]\n",
    "        path = [e] + path\n",
    "    l = 0\n",
    "    e = g.edges()\n",
    "    for i in range(len(path) - 1):\n",
    "        p1, p2 = path[i], path[i + 1]\n",
    "        l += e[p1, p2]['length']\n",
    "    return l, path, set(dist.keys())"
   ]
  },
  {
   "cell_type": "code",
   "execution_count": 30,
   "id": "81fd681530268c76",
   "metadata": {
    "collapsed": false,
    "ExecuteTime": {
     "end_time": "2024-11-25T15:49:00.545220Z",
     "start_time": "2024-11-25T15:49:00.528772Z"
    }
   },
   "outputs": [],
   "source": [
    "def ch_pfa(\n",
    "        graph: nx.Graph,\n",
    "        start: int,\n",
    "        end: int) -> tuple[float, list[int]]:\n",
    "    if start == end:\n",
    "        return 0, [start]\n",
    "    adjacency = graph._adj\n",
    "    push = heappush\n",
    "    pop = heappop\n",
    "    dist = (set(), set())\n",
    "    fringe = ([], [])\n",
    "    c = count()\n",
    "\n",
    "    push(fringe[0], (0, next(c), 0, start))\n",
    "    push(fringe[1], (0, next(c), 0, end))\n",
    "\n",
    "    heads = [0, 0]\n",
    "    seens = ({start: (0, None)}, {end: (0, None)})\n",
    "    union_node = None\n",
    "    union_dst = float('inf')\n",
    "    dir = 1\n",
    "    while fringe[0] or fringe[1]:\n",
    "        if fringe[0] and fringe[1]:\n",
    "            dir = 1 - dir\n",
    "        elif fringe[0]:\n",
    "            dir = 0\n",
    "        else:\n",
    "            dir = 1\n",
    "\n",
    "        (_, _, d, v) = pop(fringe[dir])\n",
    "\n",
    "        heads[dir] = d\n",
    "\n",
    "        if v in dist[dir]:\n",
    "            continue\n",
    "\n",
    "        dist[dir].add(v)\n",
    "\n",
    "        for u, l in adjacency[v].items():\n",
    "            vu_dist = d + l['length']\n",
    "            if u not in dist[dir] and (u not in seens[dir] or seens[dir][u][0] > vu_dist):\n",
    "                seens[dir][u] = (vu_dist, v)\n",
    "                l = -(func(start, u) - func(end, u)) / 2 if dir == 1 else (func(start, u) - func(end, u)) / 2\n",
    "                push(fringe[dir], (vu_dist + l, next(c), vu_dist, u))\n",
    "                if u in seens[1 - dir]:\n",
    "                    tpl = seens[1 - dir][u]\n",
    "                    dd = tpl[0] + vu_dist\n",
    "                    if dd < union_dst:\n",
    "                        union_dst = dd\n",
    "                        union_node = u\n",
    "        if min(heads) > union_dst:\n",
    "            break\n",
    "    path = []\n",
    "\n",
    "    e = union_node\n",
    "    while seens[0][e][1] is not None:\n",
    "        path = [e] + path\n",
    "        e = seens[0][e][1]\n",
    "    path = [e] + path\n",
    "\n",
    "    e = union_node\n",
    "    while seens[1][e][1] is not None:\n",
    "        e = seens[1][e][1]\n",
    "        path += [e]\n",
    "\n",
    "    l = 0\n",
    "    e = g.edges()\n",
    "    for i in range(len(path) - 1):\n",
    "        p1, p2 = path[i], path[i + 1]\n",
    "        l += e[p1, p2]['length']\n",
    "    return l, path\n"
   ]
  },
  {
   "cell_type": "code",
   "execution_count": 31,
   "id": "e4fcd02b902382dc",
   "metadata": {
    "collapsed": false,
    "ExecuteTime": {
     "end_time": "2024-11-25T15:49:00.661746Z",
     "start_time": "2024-11-25T15:49:00.634369Z"
    }
   },
   "outputs": [],
   "source": [
    "def bi_dijkstra_pfa_cls(graph: nx.Graph,\n",
    "                        start: int,\n",
    "                        end: int\n",
    "                        ) -> tuple[float, list[int]]:\n",
    "    if start == end:\n",
    "        return 0, [start]\n",
    "    push = heappush\n",
    "    pop = heappop\n",
    "    dist = ({start: (0, None)}, {end: (0, None)})\n",
    "    fringe = ([], [])\n",
    "    c = count()\n",
    "    adjacency = graph._adj\n",
    "\n",
    "    push(fringe[0], (0, next(c), 0, 0, start))\n",
    "    push(fringe[1], (0, next(c), 0, 0, end))\n",
    "    nodes = g.nodes()\n",
    "    c1, c2 = nodes[start]['cluster1'], nodes[end]['cluster1']\n",
    "    l0 = d_clusters1[c1, c2]\n",
    "    union_node = None\n",
    "    union_dst = float('inf')\n",
    "    while fringe[0] and fringe[1]:\n",
    "        (_, _, d1, l1, v1) = pop(fringe[0])\n",
    "        (_, _, d2, l2, v2) = pop(fringe[1])\n",
    "\n",
    "        for u, e in adjacency[v1].items():\n",
    "            vu_dist = d1 + e['length']\n",
    "            if u not in dist[0] or dist[0][u][0] > vu_dist:\n",
    "                dist[0][u] = (vu_dist, v1)\n",
    "                lu = -(func(u, start) - func(u, end)) / 2\n",
    "                push(fringe[0], (vu_dist + lu, next(c), vu_dist, lu, u))\n",
    "                if u in dist[1]:\n",
    "                    dd = dist[1][u][0] + dist[0][u][0]\n",
    "                    if dd < union_dst:\n",
    "                        union_dst = dd\n",
    "                        union_node = u\n",
    "\n",
    "        for u, e in adjacency[v2].items():\n",
    "            vu_dist = d2 + e['length']\n",
    "            if u not in dist[1] or dist[1][u][0] > vu_dist:\n",
    "                dist[1][u] = (vu_dist, v2)\n",
    "                lu = (func(u, start) - func(u, end)) / 2\n",
    "                push(fringe[1], (vu_dist + lu, next(c), vu_dist, lu, u))\n",
    "                if u in dist[0]:\n",
    "                    dd = dist[0][u][0] + dist[1][u][0]\n",
    "                    if dd < union_dst:\n",
    "                        union_dst = dd\n",
    "                        union_node = u\n",
    "        if d1 + d2 > union_dst:\n",
    "            break\n",
    "    d1, _ = dist[0][union_node]\n",
    "    d2, _ = dist[1][union_node]\n",
    "    path = []\n",
    "\n",
    "    e = union_node\n",
    "    while dist[0][e][1] is not None:\n",
    "        path = [e] + path\n",
    "        e = dist[0][e][1]\n",
    "    path = [e] + path\n",
    "\n",
    "    e = union_node\n",
    "    while dist[1][e][1] is not None:\n",
    "        e = dist[1][e][1]\n",
    "        path += [e]\n",
    "\n",
    "    l = 0\n",
    "    e = g.edges()\n",
    "    for i in range(len(path) - 1):\n",
    "        p1, p2 = path[i], path[i + 1]\n",
    "        l += e[p1, p2]['length']\n",
    "    return l, path"
   ]
  },
  {
   "cell_type": "code",
   "execution_count": 32,
   "id": "9fcf7ac581d2a138",
   "metadata": {
    "collapsed": false,
    "ExecuteTime": {
     "end_time": "2024-11-25T15:49:00.727816Z",
     "start_time": "2024-11-25T15:49:00.721239Z"
    }
   },
   "outputs": [],
   "source": [
    "pos = {u: [d['x'], d['y']] for u, d in g.nodes(data=True)}\n"
   ]
  },
  {
   "cell_type": "code",
   "outputs": [
    {
     "data": {
      "text/plain": "  0%|          | 0/26 [00:00<?, ?it/s]",
      "application/vnd.jupyter.widget-view+json": {
       "version_major": 2,
       "version_minor": 0,
       "model_id": "4278f7d172ee4b82bb198e07e478b2e4"
      }
     },
     "metadata": {},
     "output_type": "display_data"
    }
   ],
   "source": [
    "dst = dict(tqdm(nx.all_pairs_dijkstra_path_length(g, weight='length'), total=len(cms)))"
   ],
   "metadata": {
    "collapsed": false,
    "ExecuteTime": {
     "end_time": "2024-11-25T15:49:04.095250Z",
     "start_time": "2024-11-25T15:49:00.924751Z"
    }
   },
   "id": "c12dfa3692b2434d",
   "execution_count": 33
  },
  {
   "cell_type": "code",
   "execution_count": 34,
   "id": "2d3e31693f80a5dd",
   "metadata": {
    "collapsed": false,
    "ExecuteTime": {
     "end_time": "2024-11-25T15:49:04.596059Z",
     "start_time": "2024-11-25T15:49:04.098587Z"
    }
   },
   "outputs": [
    {
     "data": {
      "text/plain": "0it [00:00, ?it/s]",
      "application/vnd.jupyter.widget-view+json": {
       "version_major": 2,
       "version_minor": 0,
       "model_id": "30316ecf4c524be8a726778d706d5a4e"
      }
     },
     "metadata": {},
     "output_type": "display_data"
    }
   ],
   "source": [
    "for i1, c1 in tqdm(enumerate(cms)):\n",
    "    for i2, c2 in enumerate(cms):\n",
    "        if i1 == i2:\n",
    "            assert d_clusters1[i1, i2] == 0\n",
    "            continue\n",
    "        m = 1e100\n",
    "        for u in c1:\n",
    "            for v in c2:\n",
    "                l = dst[u][v]\n",
    "                m = min(m, l)\n",
    "        if abs(d_clusters1[i1, i2] - m) > 0.1:\n",
    "            print(m, d_clusters1[i1, i2])"
   ]
  },
  {
   "cell_type": "code",
   "execution_count": 35,
   "id": "1057e57c1fb2ea87",
   "metadata": {
    "collapsed": false,
    "ExecuteTime": {
     "end_time": "2024-11-25T15:49:05.533689Z",
     "start_time": "2024-11-25T15:49:04.599718Z"
    }
   },
   "outputs": [
    {
     "ename": "NameError",
     "evalue": "name 'p1' is not defined",
     "output_type": "error",
     "traceback": [
      "\u001B[0;31m---------------------------------------------------------------------------\u001B[0m",
      "\u001B[0;31mNameError\u001B[0m                                 Traceback (most recent call last)",
      "Cell \u001B[0;32mIn[35], line 2\u001B[0m\n\u001B[1;32m      1\u001B[0m f, ax \u001B[38;5;241m=\u001B[39m plt\u001B[38;5;241m.\u001B[39msubplots(\u001B[38;5;241m1\u001B[39m, \u001B[38;5;241m1\u001B[39m, figsize\u001B[38;5;241m=\u001B[39m(\u001B[38;5;241m20\u001B[39m, \u001B[38;5;241m10\u001B[39m))\n\u001B[0;32m----> 2\u001B[0m l, path, nn \u001B[38;5;241m=\u001B[39m dijkstra_pfa(g, \u001B[43mp1\u001B[49m, p2)\n\u001B[1;32m      3\u001B[0m f\u001B[38;5;241m.\u001B[39msuptitle(\u001B[38;5;124m'\u001B[39m\u001B[38;5;124mclassical\u001B[39m\u001B[38;5;124m'\u001B[39m)\n\u001B[1;32m      4\u001B[0m nx\u001B[38;5;241m.\u001B[39mdraw(g, pos\u001B[38;5;241m=\u001B[39mpos, ax\u001B[38;5;241m=\u001B[39max, node_size\u001B[38;5;241m=\u001B[39m\u001B[38;5;241m10\u001B[39m, alpha\u001B[38;5;241m=\u001B[39m\u001B[38;5;241m0.5\u001B[39m)\n",
      "\u001B[0;31mNameError\u001B[0m: name 'p1' is not defined"
     ]
    },
    {
     "data": {
      "text/plain": "<Figure size 2000x1000 with 1 Axes>",
      "image/png": "[encoded data removed]"
     },
     "metadata": {},
     "output_type": "display_data"
    }
   ],
   "source": [
    "f, ax = plt.subplots(1, 1, figsize=(20, 10))\n",
    "l, path, nn = dijkstra_pfa(g, p1, p2)\n",
    "f.suptitle('classical')\n",
    "nx.draw(g, pos=pos, ax=ax, node_size=10, alpha=0.5)\n",
    "nx.draw(g.subgraph(nn), pos=pos, ax=ax, node_size=10, node_color='green')\n",
    "nx.draw(g.subgraph(path), pos=pos, ax=ax, node_size=15, node_color='red', edge_color='red', width=2)\n",
    "nx.draw(g.subgraph(p1), pos=pos, ax=ax, node_size=30, node_color='blue', edge_color='red', width=2)\n",
    "nx.draw(g.subgraph(p2), pos=pos, ax=ax, node_size=30, node_color='black', edge_color='red', width=2)\n",
    "# plt.show()"
   ]
  },
  {
   "cell_type": "code",
   "execution_count": null,
   "id": "ead6cfe49a9e37ea",
   "metadata": {
    "collapsed": false,
    "ExecuteTime": {
     "end_time": "2024-11-25T15:49:05.536582Z",
     "start_time": "2024-11-25T15:49:05.536297Z"
    }
   },
   "outputs": [],
   "source": [
    "# f, ax = plt.subplots(1, 1, figsize=(20, 10))\n",
    "# l, path, nn = bi_dijkstra_pfa(g, p1, p2)\n",
    "# f.suptitle('bi-directional')\n",
    "# nx.draw(g, pos=pos, ax=ax, node_size=10, alpha=0.5)\n",
    "# nx.draw(g.subgraph(nn), pos=pos, ax=ax, node_size=15, node_color='olivedrab', width=2)\n",
    "# nx.draw(g.subgraph(path), pos=pos, ax=ax, node_size=15, node_color='red', edge_color='red', width=3)\n",
    "# nx.draw(g.subgraph(p1), pos=pos, ax=ax, node_size=30, node_color='blue', edge_color='red', width=3)\n",
    "# nx.draw(g.subgraph(p2), pos=pos, ax=ax, node_size=30, node_color='black', edge_color='red', width=3)\n",
    "# # plt.show()"
   ]
  },
  {
   "cell_type": "code",
   "execution_count": null,
   "id": "bdf43fb38aa475cf",
   "metadata": {
    "collapsed": false,
    "ExecuteTime": {
     "end_time": "2024-11-25T15:49:05.539182Z",
     "start_time": "2024-11-25T15:49:05.538457Z"
    }
   },
   "outputs": [],
   "source": [
    "f, ax = plt.subplots(1, 1, figsize=(20, 10))\n",
    "p1, p2 = points[11]\n",
    "l, path, nn = dijkstra_pfa_cls(g, p1, p2)\n",
    "\n",
    "f.suptitle('bi-dir-cluster-heuristic')\n",
    "nx.draw(g, pos=pos, ax=ax, node_size=10, alpha=0.5)\n",
    "nx.draw(g.subgraph(nn), pos=pos, ax=ax, node_size=15, node_color='olivedrab', width=2)\n",
    "nx.draw(g.subgraph(path), pos=pos, ax=ax, node_size=15, node_color='red', edge_color='red', width=3)\n",
    "nx.draw(g.subgraph(p1), pos=pos, ax=ax, node_size=30, node_color='red', edge_color='red', width=3)\n",
    "nx.draw(g.subgraph(p2), pos=pos, ax=ax, node_size=30, node_color='blue', edge_color='red', width=3)\n",
    "# plt.show()"
   ]
  },
  {
   "cell_type": "code",
   "execution_count": null,
   "id": "9253056cf1d1e0bf",
   "metadata": {
    "collapsed": false
   },
   "outputs": [],
   "source": [
    "# f, ax = plt.subplots(1, 1, figsize=(20, 10))\n",
    "# l,path,nn = ch_pfa(chg, p1,p2)\n",
    "# f.suptitle('cluster-heuristic')\n",
    "# nx.draw(g,pos=pos, ax = ax, node_size = 10, alpha=0.5)\n",
    "# nx.draw(g.subgraph(nn),pos=pos, ax = ax, node_size = 15, node_color='olivedrab',width = 2)\n",
    "# nx.draw(g.subgraph(path),pos=pos, ax = ax, node_size = 15, node_color='red', edge_color='red',width = 3)\n",
    "# nx.draw(g.subgraph(p1),pos=pos, ax = ax, node_size = 30, node_color='blue', edge_color='red',width = 3)\n",
    "# nx.draw(g.subgraph(p2),pos=pos, ax = ax, node_size = 30, node_color='black', edge_color='red',width = 3)\n",
    "# # plt.show()"
   ]
  },
  {
   "cell_type": "code",
   "execution_count": null,
   "id": "790e9eeb9e397af0",
   "metadata": {
    "collapsed": false
   },
   "outputs": [],
   "source": [
    "# for p1,p2 in points:\n",
    "# print(func(p1, p2), nx.single_source_dijkstra(g, p1, p2, weight='length')[0])    "
   ]
  },
  {
   "cell_type": "code",
   "execution_count": null,
   "id": "b51a49857529b137",
   "metadata": {
    "collapsed": false
   },
   "outputs": [],
   "source": [
    "points = [utils.get_node_for_initial_graph_v2(g) for _ in trange(1000, desc='generate points')]"
   ]
  },
  {
   "cell_type": "code",
   "execution_count": null,
   "id": "a30e70cfa72463f4",
   "metadata": {
    "collapsed": false
   },
   "outputs": [],
   "source": [
    "p1, p2 = points[2]"
   ]
  },
  {
   "cell_type": "code",
   "execution_count": 37,
   "id": "7312717ee99a6dc",
   "metadata": {
    "collapsed": false,
    "ExecuteTime": {
     "end_time": "2024-11-25T15:49:21.521436Z",
     "start_time": "2024-11-25T15:49:21.430310Z"
    }
   },
   "outputs": [
    {
     "name": "stdout",
     "output_type": "stream",
     "text": [
      "start 0\n"
     ]
    },
    {
     "data": {
      "text/plain": "find paths:   0%|          | 0/250 [00:00<?, ?it/s]",
      "application/vnd.jupyter.widget-view+json": {
       "version_major": 2,
       "version_minor": 0,
       "model_id": "9c5c86c8e17e4cf7a3cfa0699decc2fb"
      }
     },
     "metadata": {},
     "output_type": "display_data"
    },
    {
     "name": "stdout",
     "output_type": "stream",
     "text": [
      "2568.2319999999995\n",
      "2605.5979999999995\n",
      "2567.6249999999995\n",
      "2695.5659999999993\n",
      "2780.6379999999995\n",
      "2861.7589999999996\n",
      "2684.7759999999994\n",
      "2649.9169999999995\n",
      "2719.1989999999996\n",
      "2694.3719999999994\n",
      "2701.2499999999995\n",
      "2772.499\n",
      "2723.0309999999995\n",
      "2808.9479999999994\n",
      "2767.0339999999997\n",
      "4220.375\n",
      "2782.7919999999995\n",
      "2809.8889999999997\n",
      "2781.4949999999994\n",
      "2742.5139999999997\n",
      "2881.9119999999994\n",
      "2877.1179999999995\n",
      "2850.3719999999994\n",
      "2890.7219999999998\n",
      "2925.0999999999995\n",
      "3050.334\n",
      "2977.4559999999997\n",
      "2896.3029999999994\n",
      "2906.0649999999996\n",
      "3027.2589999999996\n",
      "3032.3959999999997\n",
      "3019.7779999999993\n",
      "2966.961\n",
      "3085.968\n",
      "3054.0219999999995\n",
      "3060.6289999999995\n",
      "3078.4509999999996\n",
      "3175.2929999999997\n",
      "3133.2029999999995\n",
      "3157.0689999999995\n",
      "3131.87\n",
      "3142.4059999999995\n",
      "3172.4029999999993\n",
      "3132.7679999999996\n",
      "3247.2899999999995\n",
      "3319.5629999999996\n",
      "3144.7259999999997\n",
      "3453.1279999999997\n",
      "3255.1459999999997\n",
      "3326.2799999999997\n",
      "3255.4639999999995\n",
      "3326.0399999999995\n",
      "3377.691\n",
      "3460.2349999999997\n",
      "3452.4039999999995\n",
      "3504.6069999999995\n",
      "3402.6179999999995\n",
      "5570.9580000000005\n",
      "3520.4019999999996\n",
      "3583.7289999999994\n",
      "3166.574\n",
      "3130.884\n",
      "3327.7580000000003\n",
      "3271.2960000000003\n",
      "3461.396\n",
      "3520.402\n",
      "3563.857\n",
      "3414.4060000000004\n",
      "3626.3880000000004\n",
      "3527.2230000000004\n",
      "3684.2770000000005\n",
      "3653.063\n",
      "3764.103\n",
      "3327.267\n",
      "3680.754\n",
      "3605.674\n",
      "3434.7799999999997\n",
      "3050.1369999999997\n",
      "3502.098\n",
      "3157.3940000000002\n",
      "4097.601\n",
      "3370.745\n",
      "3267.803\n",
      "3326.041\n",
      "3441.156\n",
      "3355.38\n",
      "3368.9139999999998\n",
      "3573.125\n",
      "3461.7740000000003\n",
      "3520.402\n",
      "3584.5240000000003\n",
      "3533.518\n",
      "3608.799\n",
      "3731.9809999999998\n",
      "4063.2960000000003\n",
      "3160.405\n",
      "3216.4900000000002\n",
      "3341.4260000000004\n",
      "3290.7320000000004\n",
      "3403.126\n",
      "3368.5130000000004\n",
      "3431.6820000000002\n",
      "3481.0430000000006\n",
      "3399.2000000000003\n",
      "3441.262\n",
      "3431.8420000000006\n",
      "3549.1230000000005\n",
      "3465.86\n",
      "3551.4330000000004\n",
      "3520.402\n",
      "3619.065\n",
      "3574.424\n",
      "4076.777\n",
      "3632.1000000000004\n",
      "3625.3790000000004\n",
      "3715.835\n",
      "3520.402\n",
      "3699.496\n",
      "3593.339\n",
      "3773.4599999999996\n",
      "3677.4720000000007\n",
      "3754.3730000000005\n",
      "3698.6030000000005\n",
      "3961.2010000000005\n",
      "3695.2890000000007\n",
      "3955.3700000000003\n",
      "3618.9849999999997\n",
      "3593.3729999999996\n",
      "4197.284000000001\n",
      "3671.834\n",
      "3768.268\n",
      "3777.199\n",
      "4701.364\n",
      "3705.4479999999994\n",
      "3672.4350000000004\n",
      "3245.161\n",
      "3302.935\n",
      "3369.595\n",
      "3386.828\n",
      "3478.1589999999997\n",
      "3980.5119999999997\n",
      "3458.947\n",
      "3537.8849999999998\n",
      "3538.0440000000003\n",
      "3608.427\n",
      "4101.019\n",
      "3690.9330000000004\n",
      "3620.0690000000004\n",
      "3682.1800000000003\n",
      "3691.0599999999995\n",
      "4649.588\n",
      "3765.9600000000005\n",
      "3791.0820000000003\n",
      "3699.1220000000003\n",
      "3929.3070000000002\n",
      "3884.766\n",
      "3798.1\n",
      "3840.383\n",
      "3746.2149999999997\n",
      "3858.9289999999996\n",
      "3824.754\n",
      "3751.6440000000002\n",
      "3978.536\n",
      "3755.174\n",
      "3759.9840000000004\n",
      "4720.715999999999\n",
      "3859.5400000000004\n",
      "3859.548\n",
      "3857.7839999999997\n",
      "3816.794\n",
      "4088.294\n",
      "3916.3279999999995\n",
      "3826.4109999999996\n",
      "3936.2459999999996\n",
      "3897.389\n",
      "3363.4309999999996\n",
      "3471.9949999999994\n",
      "3955.46\n",
      "3778.644\n",
      "3836.7660000000005\n",
      "4719.111\n",
      "2568.2319999999995\n",
      "2605.5979999999995\n",
      "2567.6249999999995\n",
      "2695.5659999999993\n",
      "2780.6379999999995\n",
      "2861.7589999999996\n",
      "2684.7759999999994\n",
      "2649.9169999999995\n",
      "2719.1989999999996\n",
      "2694.3719999999994\n",
      "2701.2499999999995\n",
      "2772.499\n",
      "2723.0309999999995\n",
      "2808.9479999999994\n",
      "2767.0339999999997\n",
      "4220.375\n",
      "2782.7919999999995\n",
      "2809.8889999999997\n",
      "2781.4949999999994\n",
      "2742.5139999999997\n",
      "2881.9119999999994\n",
      "2877.1179999999995\n",
      "2850.3719999999994\n",
      "2890.7219999999998\n",
      "2925.0999999999995\n",
      "3050.334\n",
      "2977.4559999999997\n",
      "2896.3029999999994\n",
      "2906.0649999999996\n",
      "3027.2589999999996\n",
      "3032.3959999999997\n",
      "3019.7779999999993\n",
      "2966.961\n",
      "3085.968\n",
      "3054.0219999999995\n",
      "3060.6289999999995\n",
      "3078.4509999999996\n",
      "3175.2929999999997\n",
      "3133.2029999999995\n",
      "3157.0689999999995\n",
      "3131.87\n",
      "3142.4059999999995\n",
      "3172.4029999999993\n",
      "3132.7679999999996\n",
      "3247.2899999999995\n",
      "3319.5629999999996\n",
      "3144.7259999999997\n",
      "3453.1279999999997\n",
      "3255.1459999999997\n",
      "3326.2799999999997\n",
      "3255.4639999999995\n",
      "3326.0399999999995\n",
      "3377.691\n",
      "3460.2349999999997\n",
      "3452.4039999999995\n",
      "3504.6069999999995\n",
      "3402.6179999999995\n",
      "5570.9580000000005\n",
      "3520.4019999999996\n",
      "3583.7289999999994\n",
      "3166.574\n",
      "3130.884\n",
      "3327.7580000000003\n",
      "3271.2960000000003\n",
      "3461.396\n",
      "3520.402\n",
      "3563.857\n",
      "3414.4060000000004\n",
      "3626.3880000000004\n",
      "3527.2230000000004\n",
      "3684.2770000000005\n",
      "3653.063\n",
      "3764.103\n",
      "3327.267\n",
      "3680.754\n",
      "3605.674\n",
      "3434.7799999999997\n",
      "3050.1369999999997\n",
      "3502.098\n",
      "3157.3940000000002\n",
      "4097.601\n",
      "3370.745\n",
      "3267.803\n",
      "3326.041\n",
      "3441.156\n",
      "3355.38\n",
      "3368.9139999999998\n",
      "3573.125\n",
      "3461.7740000000003\n",
      "3520.402\n",
      "3584.5240000000003\n",
      "3533.518\n",
      "3608.799\n",
      "3731.9809999999998\n",
      "4063.2960000000003\n",
      "3160.405\n",
      "3216.4900000000002\n",
      "3341.4260000000004\n",
      "3290.7320000000004\n",
      "3403.126\n",
      "3368.5130000000004\n",
      "3431.6820000000002\n",
      "3481.0430000000006\n",
      "3399.2000000000003\n",
      "3441.262\n",
      "3431.8420000000006\n",
      "3549.1230000000005\n",
      "3465.86\n",
      "3551.4330000000004\n",
      "3520.402\n",
      "3619.065\n",
      "3574.424\n",
      "4076.777\n",
      "3632.1000000000004\n",
      "3625.3790000000004\n",
      "3715.835\n",
      "3520.402\n",
      "3699.496\n",
      "3593.339\n",
      "3773.4599999999996\n",
      "3677.4720000000007\n",
      "3754.3730000000005\n",
      "3698.6030000000005\n",
      "3961.2010000000005\n",
      "3695.2890000000007\n",
      "3955.3700000000003\n",
      "3618.9849999999997\n",
      "3593.3729999999996\n",
      "4197.284000000001\n",
      "3671.834\n",
      "3768.268\n",
      "3777.199\n",
      "4701.364\n",
      "3705.4479999999994\n",
      "3672.4350000000004\n",
      "3245.161\n",
      "3302.935\n",
      "3369.595\n",
      "3386.828\n",
      "3478.1589999999997\n",
      "3980.5119999999997\n",
      "3458.947\n",
      "3537.8849999999998\n",
      "3538.0440000000003\n",
      "3608.427\n",
      "4101.019\n",
      "3690.9330000000004\n",
      "3620.0690000000004\n",
      "3682.1800000000003\n",
      "3691.0599999999995\n",
      "4649.588\n",
      "3765.9600000000005\n",
      "3791.0820000000003\n",
      "3699.1220000000003\n",
      "3929.3070000000002\n",
      "3884.766\n",
      "3798.1\n",
      "3840.383\n",
      "3746.2149999999997\n",
      "3858.9289999999996\n",
      "3824.754\n",
      "3751.6440000000002\n",
      "3978.536\n",
      "3755.174\n",
      "3759.9840000000004\n",
      "4720.715999999999\n",
      "3859.5400000000004\n",
      "3859.548\n",
      "3857.7839999999997\n",
      "3816.794\n",
      "4088.294\n",
      "3916.3279999999995\n",
      "3826.4109999999996\n",
      "3936.2459999999996\n",
      "3897.389\n",
      "3363.4309999999996\n",
      "3471.9949999999994\n",
      "3955.46\n",
      "3778.644\n",
      "3836.7660000000005\n",
      "4719.111\n",
      "2568.2319999999995\n",
      "2605.5979999999995\n",
      "2567.6249999999995\n",
      "2695.5659999999993\n",
      "2780.6379999999995\n",
      "2861.7589999999996\n",
      "2684.7759999999994\n",
      "2649.9169999999995\n",
      "2719.1989999999996\n",
      "2694.3719999999994\n",
      "2701.2499999999995\n",
      "2772.499\n",
      "2723.0309999999995\n",
      "2808.9479999999994\n",
      "2767.0339999999997\n",
      "4220.375\n",
      "2782.7919999999995\n",
      "2809.8889999999997\n",
      "2781.4949999999994\n",
      "2742.5139999999997\n",
      "2881.9119999999994\n",
      "2877.1179999999995\n",
      "2850.3719999999994\n",
      "2890.7219999999998\n",
      "2925.0999999999995\n",
      "3050.334\n",
      "2977.4559999999997\n",
      "2896.3029999999994\n",
      "2906.0649999999996\n",
      "3027.2589999999996\n",
      "3032.3959999999997\n",
      "3019.7779999999993\n",
      "2966.961\n",
      "3085.968\n",
      "3054.0219999999995\n",
      "3060.6289999999995\n",
      "3078.4509999999996\n",
      "3175.2929999999997\n",
      "3133.2029999999995\n",
      "3157.0689999999995\n",
      "3131.87\n",
      "3142.4059999999995\n",
      "3172.4029999999993\n",
      "3132.7679999999996\n",
      "3247.2899999999995\n",
      "3319.5629999999996\n",
      "3144.7259999999997\n",
      "3453.1279999999997\n",
      "3255.1459999999997\n",
      "3326.2799999999997\n",
      "3255.4639999999995\n",
      "3326.0399999999995\n",
      "3377.691\n",
      "3460.2349999999997\n",
      "3452.4039999999995\n",
      "3504.6069999999995\n",
      "3402.6179999999995\n",
      "5570.9580000000005\n",
      "3520.4019999999996\n",
      "3583.7289999999994\n",
      "3166.574\n",
      "3130.884\n",
      "3327.7580000000003\n",
      "3271.2960000000003\n",
      "3461.396\n",
      "3520.402\n",
      "3563.857\n",
      "3414.4060000000004\n",
      "3626.3880000000004\n",
      "3527.2230000000004\n",
      "3684.2770000000005\n",
      "3653.063\n",
      "3764.103\n",
      "3327.267\n",
      "3680.754\n",
      "3605.674\n",
      "3434.7799999999997\n",
      "3050.1369999999997\n",
      "3502.098\n",
      "3157.3940000000002\n",
      "4097.601\n",
      "3370.745\n",
      "3267.803\n",
      "3326.041\n",
      "3441.156\n",
      "3355.38\n",
      "3368.9139999999998\n",
      "3573.125\n",
      "3461.7740000000003\n",
      "3520.402\n",
      "3584.5240000000003\n",
      "3533.518\n",
      "3608.799\n",
      "3731.9809999999998\n",
      "4063.2960000000003\n",
      "3160.405\n",
      "3216.4900000000002\n",
      "3341.4260000000004\n",
      "3290.7320000000004\n",
      "3403.126\n",
      "3368.5130000000004\n",
      "3431.6820000000002\n",
      "3481.0430000000006\n",
      "3399.2000000000003\n",
      "3441.262\n",
      "3431.8420000000006\n",
      "3549.1230000000005\n",
      "3465.86\n",
      "3551.4330000000004\n",
      "3520.402\n",
      "3619.065\n",
      "3574.424\n",
      "4076.777\n",
      "3632.1000000000004\n",
      "3625.3790000000004\n",
      "3715.835\n",
      "3520.402\n",
      "3699.496\n",
      "3593.339\n",
      "3773.4599999999996\n",
      "3677.4720000000007\n",
      "3754.3730000000005\n",
      "3698.6030000000005\n",
      "3961.2010000000005\n",
      "3695.2890000000007\n",
      "3955.3700000000003\n",
      "3618.9849999999997\n",
      "3593.3729999999996\n",
      "4197.284000000001\n",
      "3671.834\n",
      "3768.268\n",
      "3777.199\n",
      "4701.364\n",
      "3705.4479999999994\n",
      "3672.4350000000004\n",
      "3245.161\n",
      "3302.935\n",
      "3369.595\n",
      "3386.828\n",
      "3478.1589999999997\n",
      "3980.5119999999997\n",
      "3458.947\n",
      "3537.8849999999998\n",
      "3538.0440000000003\n",
      "3608.427\n",
      "4101.019\n",
      "3690.9330000000004\n",
      "3620.0690000000004\n",
      "3682.1800000000003\n",
      "3691.0599999999995\n",
      "4649.588\n",
      "3765.9600000000005\n",
      "3791.0820000000003\n",
      "3699.1220000000003\n",
      "3929.3070000000002\n",
      "3884.766\n",
      "3798.1\n",
      "3840.383\n",
      "3746.2149999999997\n",
      "3858.9289999999996\n",
      "3824.754\n",
      "3751.6440000000002\n",
      "3978.536\n",
      "3755.174\n",
      "3759.9840000000004\n",
      "4720.715999999999\n",
      "3859.5400000000004\n",
      "3859.548\n",
      "3857.7839999999997\n",
      "3816.794\n",
      "4088.294\n",
      "3916.3279999999995\n",
      "3826.4109999999996\n",
      "3936.2459999999996\n",
      "3897.389\n",
      "3363.4309999999996\n",
      "3471.9949999999994\n",
      "3955.46\n",
      "3778.644\n",
      "3836.7660000000005\n",
      "4719.111\n"
     ]
    },
    {
     "ename": "TypeError",
     "evalue": "'int' object is not iterable",
     "output_type": "error",
     "traceback": [
      "\u001B[0;31m---------------------------------------------------------------------------\u001B[0m",
      "\u001B[0;31mTypeError\u001B[0m                                 Traceback (most recent call last)",
      "Cell \u001B[0;32mIn[37], line 61\u001B[0m\n\u001B[1;32m     58\u001B[0m stat \u001B[38;5;241m=\u001B[39m {}\n\u001B[1;32m     59\u001B[0m \u001B[38;5;28;01mfor\u001B[39;00m l \u001B[38;5;129;01min\u001B[39;00m res:\n\u001B[0;32m---> 61\u001B[0m     \u001B[38;5;28;01mfor\u001B[39;00m d \u001B[38;5;129;01min\u001B[39;00m l:\n\u001B[1;32m     62\u001B[0m         \u001B[38;5;28;01mif\u001B[39;00m d \u001B[38;5;129;01mnot\u001B[39;00m \u001B[38;5;129;01min\u001B[39;00m stat:\n\u001B[1;32m     63\u001B[0m             stat[d] \u001B[38;5;241m=\u001B[39m []\n",
      "\u001B[0;31mTypeError\u001B[0m: 'int' object is not iterable"
     ]
    }
   ],
   "source": [
    "NUM_ITERATION = 3  # чтобы уменьшить ошибку при вычислении времени выполнения, при каждом замере время меряется для NUM_ITERATION повторений\n",
    "WORKER = 4  # количество потоков\n",
    "\n",
    "\n",
    "def do_calc(data):\n",
    "    pps, i = data\n",
    "\n",
    "    stat = {}\n",
    "    stat['l'] = []\n",
    "    stat['h_l'] = []\n",
    "\n",
    "    stat['p'] = []\n",
    "    stat['h_p'] = []\n",
    "    stat['time_l'] = []\n",
    "    stat['time_h'] = []\n",
    "\n",
    "    stat['delta'] = []\n",
    "    # чисто чтобы tqdm нормально прогрузился \n",
    "    sleep(i / 10)\n",
    "    print('start', i)\n",
    "\n",
    "    for p1, p2 in tqdm(pps, desc='find paths', position=i):\n",
    "        if (p1, p2) in stat:\n",
    "            continue\n",
    "        # класический дейкстра\n",
    "        l, p = None, None\n",
    "        start = time.time()\n",
    "        for i in range(NUM_ITERATION):\n",
    "            l, p = nx.single_source_dijkstra(g, p1, p2, weight='length')\n",
    "        time_l = time.time() - start\n",
    "\n",
    "        # иерархический\n",
    "        h_l, h_p = None, None\n",
    "\n",
    "        start = time.time()\n",
    "        for _ in range(NUM_ITERATION):\n",
    "            h_l, h_p, _ = dijkstra_pfa_cls(g, p1, p2)  #find_path_length_h(g, g1,cms, p1, p2)\n",
    "\n",
    "        time_h = time.time() - start\n",
    "\n",
    "        delta = (h_l - l) / l * 100\n",
    "        stat['l'].append(l)  # длина обычного пути\n",
    "        stat['h_l'].append(h_l)  # длина иерархического пути\n",
    "        stat['p'].append(p)  # обычный путь\n",
    "        stat['h_p'].append(h_p)  # иерархический путь\n",
    "        stat['delta'].append(delta)  # разница в длине\n",
    "        stat['time_l'].append(time_l)  # обычное время \n",
    "        stat['time_h'].append(time_h)  # иерархическое\n",
    "        break\n",
    "    return stat\n",
    "\n",
    "\n",
    "data = [([p for p in points[i::WORKER]], i) for i in range(WORKER)]\n",
    "do_calc(data[0])\n",
    "# with Pool(WORKER) as p:\n",
    "#     res = p.map(do_calc, data)\n",
    "\n",
    "stat = {}\n",
    "for l in res:\n",
    "\n",
    "    for d in l:\n",
    "        if d not in stat:\n",
    "            stat[d] = []\n",
    "        stat[d].extend(l[d])\n",
    "print(f\"err_mean: {np.mean(stat['delta']):.2f} %\")\n",
    "print(f\"err_min: {np.min(stat['delta']):.2f} %\")\n",
    "print(f\"err_max: {np.max(stat['delta']):.2f} %\", )\n",
    "print(f\"acceleration: {np.mean(np.array(stat['time_l']) / np.array(stat['time_h'])):.2f} times\")"
   ]
  },
  {
   "cell_type": "code",
   "execution_count": null,
   "id": "cd32e31a7d7a07f",
   "metadata": {
    "collapsed": false
   },
   "outputs": [],
   "source": []
  },
  {
   "cell_type": "code",
   "execution_count": null,
   "id": "e0c0d817c47378c2",
   "metadata": {
    "collapsed": false
   },
   "outputs": [],
   "source": [
    "max_err_idx = np.argmax(stat['delta'])\n"
   ]
  },
  {
   "cell_type": "code",
   "execution_count": null,
   "id": "56569198c3b78968",
   "metadata": {
    "collapsed": false
   },
   "outputs": [],
   "source": [
    "path = stat['p'][max_err_idx]\n",
    "h_path = stat['h_p'][max_err_idx]"
   ]
  },
  {
   "cell_type": "code",
   "execution_count": null,
   "id": "2a1ae3f08bdffa97",
   "metadata": {
    "collapsed": false
   },
   "outputs": [],
   "source": [
    "path"
   ]
  },
  {
   "cell_type": "code",
   "execution_count": null,
   "id": "ec3bae66089efd38",
   "metadata": {
    "collapsed": false
   },
   "outputs": [],
   "source": [
    "h_path"
   ]
  },
  {
   "cell_type": "code",
   "execution_count": null,
   "id": "9ad5c485635ede1",
   "metadata": {
    "collapsed": false
   },
   "outputs": [],
   "source": [
    "len(path), len(h_path)"
   ]
  },
  {
   "cell_type": "code",
   "execution_count": null,
   "id": "e8ed5b139389440a",
   "metadata": {
    "collapsed": false
   },
   "outputs": [],
   "source": [
    "print(np.array(path) - np.array(h_path))"
   ]
  },
  {
   "cell_type": "code",
   "execution_count": null,
   "id": "87f3a1144554bacd",
   "metadata": {
    "collapsed": false
   },
   "outputs": [],
   "source": [
    "stat['l'][max_err_idx], stat['h_l'][max_err_idx]"
   ]
  },
  {
   "cell_type": "code",
   "execution_count": null,
   "id": "d3c87591ee42ead2",
   "metadata": {
    "collapsed": false
   },
   "outputs": [],
   "source": [
    "p1, p2 = path[0], path[-1]"
   ]
  },
  {
   "cell_type": "markdown",
   "id": "850f3f3f5ab289bf",
   "metadata": {
    "collapsed": false
   },
   "source": []
  },
  {
   "cell_type": "code",
   "outputs": [],
   "source": [
    "g.nodes[p1]['cluster1'],g.nodes[p2]['cluster1']"
   ],
   "metadata": {
    "collapsed": false
   },
   "id": "b9f8b9fe2c98a918",
   "execution_count": null
  },
  {
   "cell_type": "code",
   "execution_count": null,
   "id": "e111a68deb48ef0b",
   "metadata": {
    "collapsed": false
   },
   "outputs": [],
   "source": [
    "labels = {u: d['cluster'] for u, d in g.nodes(data=True)}"
   ]
  },
  {
   "cell_type": "code",
   "execution_count": null,
   "id": "1a1a6f0599f5cbdc",
   "metadata": {
    "collapsed": false
   },
   "outputs": [],
   "source": [
    "pos_l = {u: [d['x'] + 0.001, d['y'] + 0.001] for u, d in g.nodes(data=True)}\n",
    "pos = {u: [d['x'], d['y']] for u, d in g.nodes(data=True)}\n"
   ]
  },
  {
   "cell_type": "code",
   "execution_count": null,
   "id": "3e55de9980d61cc5",
   "metadata": {
    "collapsed": false
   },
   "outputs": [],
   "source": [
    "f, ax = plt.subplots(1, 1, figsize=(20, 10))\n",
    "f.suptitle('max_err')\n",
    "\n",
    "for u, d in g.nodes(data=True):\n",
    "    d['cluster'] = d['cluster1']\n",
    "\n",
    "nx.draw(g, pos=pos, ax=ax, node_size=10, alpha=0.5)\n",
    "nx.draw(g.subgraph(path), pos=pos, ax=ax, node_size=15, node_color='red', width=2, alpha=0.5)\n",
    "nx.draw(g.subgraph(h_path), pos=pos, ax=ax, node_size=15, node_color='green', width=2, alpha=0.5)\n",
    "# nx.draw_networkx_labels(g,pos_l,labels=labels,font_size=6)"
   ]
  },
  {
   "cell_type": "code",
   "execution_count": null,
   "id": "5592ac605e4db162",
   "metadata": {
    "collapsed": false
   },
   "outputs": [],
   "source": [
    "nx.single_source_dijkstra(g, p1, p2, weight='length')"
   ]
  },
  {
   "cell_type": "code",
   "execution_count": null,
   "id": "d38611334c807e54",
   "metadata": {
    "collapsed": false
   },
   "outputs": [],
   "source": [
    "bi_dijkstra_pfa_cls(g, p1, p2)"
   ]
  },
  {
   "cell_type": "code",
   "execution_count": null,
   "id": "1a6369a0755e99e7",
   "metadata": {
    "collapsed": false
   },
   "outputs": [],
   "source": [
    "893305603 in nx.single_source_dijkstra(g, p1, p2, weight='length')[1]"
   ]
  },
  {
   "cell_type": "code",
   "execution_count": null,
   "id": "b3e6540a4adab084",
   "metadata": {
    "collapsed": false
   },
   "outputs": [],
   "source": []
  }
 ],
 "metadata": {
  "kernelspec": {
   "display_name": "Python 3 (ipykernel)",
   "language": "python",
   "name": "python3"
  },
  "language_info": {
   "codemirror_mode": {
    "name": "ipython",
    "version": 3
   },
   "file_extension": ".py",
   "mimetype": "text/x-python",
   "name": "python",
   "nbconvert_exporter": "python",
   "pygments_lexer": "ipython3",
   "version": "3.10.12"
  }
 },
 "nbformat": 4,
 "nbformat_minor": 5
}
