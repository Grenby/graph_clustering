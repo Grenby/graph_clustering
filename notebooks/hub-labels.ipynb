{
 "cells": [
  {
   "cell_type": "code",
   "execution_count": 1,
   "id": "92641b5d828c9de8",
   "metadata": {
    "collapsed": false,
    "ExecuteTime": {
     "end_time": "2024-12-09T18:25:46.124722Z",
     "start_time": "2024-12-09T18:25:45.550435Z"
    }
   },
   "outputs": [],
   "source": [
    "import logging\n",
    "import sys\n",
    "\n",
    "import matplotlib.pyplot as plt\n",
    "\n",
    "root = logging.getLogger()\n",
    "root.setLevel(logging.INFO)\n",
    "\n",
    "handler = logging.StreamHandler(sys.stdout)\n",
    "handler.setLevel(logging.INFO)\n",
    "formatter = logging.Formatter('%(asctime)s - %(name)s - %(levelname)s - %(message)s')\n",
    "handler.setFormatter(formatter)\n",
    "root.addHandler(handler)"
   ]
  },
  {
   "cell_type": "code",
   "execution_count": 2,
   "id": "679e292ddcafdd40",
   "metadata": {
    "collapsed": false,
    "ExecuteTime": {
     "end_time": "2024-12-09T18:25:47.608328Z",
     "start_time": "2024-12-09T18:25:46.126785Z"
    }
   },
   "outputs": [
    {
     "name": "stdout",
     "output_type": "stream",
     "text": [
      "2024-12-09 21:25:46,421 - numexpr.utils - INFO - NumExpr defaulting to 8 threads.\n"
     ]
    }
   ],
   "source": [
    "import sys\n",
    "\n",
    "sys.path.append('../scripts')\n",
    "sys.path.append('../')\n",
    "from scripts import centroids_graph_builder\n",
    "from time import sleep\n",
    "from multiprocessing import Pool\n",
    "\n",
    "import numpy as np\n",
    "from tqdm.notebook import trange, tqdm\n",
    "from scripts import graph_osm_loader, utils\n",
    "\n",
    "import networkx as nx\n",
    "\n",
    "from heapq import heappop, heappush\n",
    "from itertools import count\n",
    "from scripts import clustering"
   ]
  },
  {
   "cell_type": "code",
   "execution_count": 3,
   "id": "34f910ca623208b5",
   "metadata": {
    "collapsed": false,
    "ExecuteTime": {
     "end_time": "2024-12-09T18:25:47.616938Z",
     "start_time": "2024-12-09T18:25:47.610134Z"
    }
   },
   "outputs": [],
   "source": [
    "def get_rand_graph(N, p):\n",
    "    G = nx.fast_gnp_random_graph(N, p, directed=False)\n",
    "    if not nx.is_connected(G):\n",
    "        tmp = []\n",
    "        for n in nx.connected_components(G):\n",
    "            for q in n:\n",
    "                tmp.append(q)\n",
    "                break\n",
    "        for i in range(len(tmp) - 1):\n",
    "            G.add_edge(tmp[i], tmp[i + 1])\n",
    "    for e in G.edges:\n",
    "        G.add_edge(e[0], e[1], length=np.random.random_sample() + 0.001)\n",
    "    for u in G.nodes:\n",
    "        if u in G[u]:\n",
    "            G.remove_edge(u, u)\n",
    "    return G"
   ]
  },
  {
   "cell_type": "code",
   "outputs": [],
   "source": [
    "NUM_ITERATION = 10  # чтобы уменьшить ошибку при вычислении времени выполнения, при каждом замере время меряется для NUM_ITERATION повторений\n",
    "WORKER = 5  # количество потоков"
   ],
   "metadata": {
    "collapsed": false,
    "ExecuteTime": {
     "end_time": "2024-12-09T18:25:47.623659Z",
     "start_time": "2024-12-09T18:25:47.619914Z"
    }
   },
   "id": "78e5833ef3ec5a4c",
   "execution_count": 4
  },
  {
   "cell_type": "code",
   "execution_count": 5,
   "id": "1b60f4b11aad1567",
   "metadata": {
    "collapsed": false,
    "ExecuteTime": {
     "end_time": "2024-12-09T18:25:47.696845Z",
     "start_time": "2024-12-09T18:25:47.625596Z"
    }
   },
   "outputs": [
    {
     "name": "stdout",
     "output_type": "stream",
     "text": [
      "17923 27016\n"
     ]
    }
   ],
   "source": [
    "GRAPH_ID = 'R2555133'  # R13470549 R2555133 R3766483\n",
    "# примеры id есть в graph_osm_loader.py\n",
    "# g = get_rand_graph(1000, 0.1)  # загрузка графа\n",
    "N = 10000\n",
    "p = 3 / N\n",
    "# g = get_rand_graph(N,p)\n",
    "# g = get_graph()\n",
    "g = graph_osm_loader.get_graph(GRAPH_ID)\n",
    "print(len(g.nodes), len(g.edges))"
   ]
  },
  {
   "cell_type": "code",
   "outputs": [],
   "source": [
    "g.remove_edges_from(nx.selfloop_edges(g))"
   ],
   "metadata": {
    "collapsed": false,
    "ExecuteTime": {
     "end_time": "2024-12-09T18:25:47.703779Z",
     "start_time": "2024-12-09T18:25:47.698767Z"
    }
   },
   "id": "af782e49baab793a",
   "execution_count": 6
  },
  {
   "cell_type": "code",
   "outputs": [
    {
     "name": "stdout",
     "output_type": "stream",
     "text": [
      "2024-12-09 21:25:50,440 - root - INFO - communities: 504\n"
     ]
    },
    {
     "name": "stderr",
     "output_type": "stream",
     "text": [
      "100%|██████████| 100/100 [01:08<00:00,  1.47it/s]"
     ]
    },
    {
     "name": "stdout",
     "output_type": "stream",
     "text": [
      "504\n"
     ]
    },
    {
     "name": "stderr",
     "output_type": "stream",
     "text": [
      "\n"
     ]
    }
   ],
   "source": [
    "cms = clustering.resolve_k_means_communities(g, resolution=10, max_iteration=100, cluster_name='cluster',\n",
    "                                             print_log=True)\n",
    "print(len(cms))"
   ],
   "metadata": {
    "collapsed": false,
    "ExecuteTime": {
     "end_time": "2024-12-09T18:26:58.646428Z",
     "start_time": "2024-12-09T18:25:47.706070Z"
    }
   },
   "id": "64b0c1b8f91aeb84",
   "execution_count": 7
  },
  {
   "cell_type": "code",
   "outputs": [],
   "source": [
    "cls2hubs = {}\n",
    "cls2n = centroids_graph_builder.get_cls2n(g)\n",
    "for i, c in enumerate(cms):\n",
    "    for j in cls2n[i]:\n",
    "        if (i, j) in cls2hubs:\n",
    "            continue\n",
    "        a = set()\n",
    "        b = set()\n",
    "        for u in c:\n",
    "            for v in g[u]:\n",
    "                if v in cms[j]:\n",
    "                    a.add(u)\n",
    "                    b.add(v)\n",
    "        cls2hubs[i, j] = a if len(a) < len(b) else b\n",
    "        cls2hubs[j, i] = a if len(a) < len(b) else b"
   ],
   "metadata": {
    "collapsed": false,
    "ExecuteTime": {
     "end_time": "2024-12-09T18:26:58.769884Z",
     "start_time": "2024-12-09T18:26:58.648196Z"
    }
   },
   "id": "1ae3134a9a2e6ae2",
   "execution_count": 8
  },
  {
   "cell_type": "code",
   "outputs": [],
   "source": [
    "cls2hub = {}  # = centroids_graph_builder.get_cls2hubs(g)\n",
    "for i, j in cls2hubs:\n",
    "    if i not in cls2hub:\n",
    "        cls2hub[i] = set()\n",
    "    cls2hub[i].update(cls2hubs[i, j])\n",
    "del cls2hubs"
   ],
   "metadata": {
    "collapsed": false,
    "ExecuteTime": {
     "end_time": "2024-12-09T18:26:58.777501Z",
     "start_time": "2024-12-09T18:26:58.771428Z"
    }
   },
   "id": "ad09487d7d40493e",
   "execution_count": 9
  },
  {
   "cell_type": "code",
   "outputs": [],
   "source": [
    "hubs = set([u for v in cls2hub.values() for u in v])"
   ],
   "metadata": {
    "collapsed": false,
    "ExecuteTime": {
     "end_time": "2024-12-09T18:26:58.787311Z",
     "start_time": "2024-12-09T18:26:58.781942Z"
    }
   },
   "id": "464c5ebab86fa68",
   "execution_count": 10
  },
  {
   "cell_type": "code",
   "outputs": [],
   "source": [
    "hub2id = {h: i for i, h in enumerate(hubs)}\n",
    "id2hub = {i: h for i, h in enumerate(hubs)}"
   ],
   "metadata": {
    "collapsed": false,
    "ExecuteTime": {
     "end_time": "2024-12-09T18:26:58.796134Z",
     "start_time": "2024-12-09T18:26:58.789410Z"
    }
   },
   "id": "5bc9d050aa510b6d",
   "execution_count": 11
  },
  {
   "cell_type": "code",
   "outputs": [
    {
     "data": {
      "text/plain": "2720"
     },
     "execution_count": 12,
     "metadata": {},
     "output_type": "execute_result"
    }
   ],
   "source": [
    "len(set(hubs))"
   ],
   "metadata": {
    "collapsed": false,
    "ExecuteTime": {
     "end_time": "2024-12-09T18:26:58.807516Z",
     "start_time": "2024-12-09T18:26:58.797781Z"
    }
   },
   "id": "d5ca0891f5788ef3",
   "execution_count": 12
  },
  {
   "cell_type": "code",
   "outputs": [],
   "source": [],
   "metadata": {
    "collapsed": false,
    "ExecuteTime": {
     "end_time": "2024-12-09T18:26:58.812284Z",
     "start_time": "2024-12-09T18:26:58.809308Z"
    }
   },
   "id": "301ca0a5cdfef8c8",
   "execution_count": 12
  },
  {
   "cell_type": "code",
   "outputs": [],
   "source": [
    "def dijkstra_pfa_to_set(graph: nx.Graph,\n",
    "                        start: int,\n",
    "                        ends: set[int]\n",
    "                        ) -> \\\n",
    "        tuple[float, list[int]]:\n",
    "    adjacency = graph._adj\n",
    "    c = count()\n",
    "    push = heappush\n",
    "    pop = heappop\n",
    "    dist = {}\n",
    "    fringe = []\n",
    "\n",
    "    dist[start] = 0.0\n",
    "    push(fringe, (0.0, next(c), start))\n",
    "    visited = set()\n",
    "    \n",
    "    while fringe:\n",
    "        (d, _, v) = pop(fringe)\n",
    "        if v in ends:\n",
    "            visited.add(v)\n",
    "        if len(visited) == len(ends):\n",
    "            break\n",
    "        \n",
    "        for u, e in adjacency[v].items():\n",
    "            vu_dist = d + e['length']\n",
    "            if u not in dist or dist[u] > vu_dist:\n",
    "                dist[u] = vu_dist\n",
    "                push(fringe, (vu_dist, next(c), u))\n",
    "    return dist\n"
   ],
   "metadata": {
    "collapsed": false,
    "ExecuteTime": {
     "end_time": "2024-12-09T18:26:58.820835Z",
     "start_time": "2024-12-09T18:26:58.814166Z"
    }
   },
   "id": "6966826e5e6cf3ff",
   "execution_count": 13
  },
  {
   "cell_type": "code",
   "outputs": [
    {
     "data": {
      "text/plain": "  0%|          | 0/5 [00:00<?, ?it/s]",
      "application/vnd.jupyter.widget-view+json": {
       "version_major": 2,
       "version_minor": 0,
       "model_id": "8b13bcd02cf2483098b72e3d2ebfa592"
      }
     },
     "metadata": {},
     "output_type": "display_data"
    }
   ],
   "source": [
    "def cals(data_partitions):\n",
    "    part, hubs, l = data_partitions\n",
    "    dst = np.zeros((l, l))\n",
    "\n",
    "    for u in part:\n",
    "        dst_u = dijkstra_pfa_to_set(g, u, hubs)\n",
    "        for v in hubs:\n",
    "            dst[hub2id[u], hub2id[v]] = dst_u[v]\n",
    "    return dst\n",
    "\n",
    "\n",
    "data = [(list(hubs)[i::WORKER], hubs, len(hubs)) for i in range(WORKER)]\n",
    "with Pool(WORKER) as p:\n",
    "    dst = sum(tqdm(p.imap_unordered(cals, data), total=len(data)))"
   ],
   "metadata": {
    "collapsed": false,
    "ExecuteTime": {
     "end_time": "2024-12-09T18:27:59.018207Z",
     "start_time": "2024-12-09T18:26:58.822971Z"
    }
   },
   "id": "e17f4cedcf254346",
   "execution_count": 14
  },
  {
   "cell_type": "code",
   "outputs": [
    {
     "data": {
      "text/plain": "  0%|          | 0/5 [00:00<?, ?it/s]",
      "application/vnd.jupyter.widget-view+json": {
       "version_major": 2,
       "version_minor": 0,
       "model_id": "f4ce67d778a1405f93d6c5dd55b9509e"
      }
     },
     "metadata": {},
     "output_type": "display_data"
    }
   ],
   "source": [
    "def cals(data_partitions):\n",
    "    part, l = data_partitions\n",
    "    res = {}\n",
    "    for u in part:\n",
    "        dst_u = dijkstra_pfa_to_set(g, u, cls2hub[g.nodes()[u]['cluster']])\n",
    "        for v in cls2hub[g.nodes()[u]['cluster']]:\n",
    "            res[u, v] = dst_u[v]\n",
    "    return res\n",
    "\n",
    "data = [(list(g.nodes)[i::WORKER], hubs) for i in range(WORKER)]\n",
    "with Pool(WORKER) as p:\n",
    "    d_nodes = {k: v for d in tqdm(p.imap_unordered(cals, data), total=len(data)) for k, v in d.items()}"
   ],
   "metadata": {
    "collapsed": false,
    "ExecuteTime": {
     "end_time": "2024-12-09T18:28:02.644191Z",
     "start_time": "2024-12-09T18:27:59.020699Z"
    }
   },
   "id": "bad578e4001b961a",
   "execution_count": 15
  },
  {
   "cell_type": "code",
   "outputs": [
    {
     "data": {
      "text/plain": "(42.56950378417969, 56.44544982910156)"
     },
     "execution_count": 16,
     "metadata": {},
     "output_type": "execute_result"
    }
   ],
   "source": [
    "from pympler.asizeof import asizeof\n",
    "asizeof(d_nodes)/1024/1024, asizeof(dst)/1024/1024"
   ],
   "metadata": {
    "collapsed": false,
    "ExecuteTime": {
     "end_time": "2024-12-09T18:28:05.632700Z",
     "start_time": "2024-12-09T18:28:02.646254Z"
    }
   },
   "id": "6b85badd40837657",
   "execution_count": 16
  },
  {
   "cell_type": "code",
   "outputs": [],
   "source": [
    "def dijkstra_pfa_cls(g, u, v):\n",
    "    nodes = g.nodes()\n",
    "    c1, c2 = nodes[u]['cluster'], nodes[v]['cluster']\n",
    "    if c1 == c2:\n",
    "        return nx.single_source_dijkstra(g, u, v, weight='length')\n",
    "    return min(d_nodes[u, h1] + d_nodes[v, h2] + dst[hub2id[h1], hub2id[h2]] for h1 in cls2hub[c1] for h2 in cls2hub[c2]), []"
   ],
   "metadata": {
    "collapsed": false,
    "ExecuteTime": {
     "end_time": "2024-12-09T18:28:05.640457Z",
     "start_time": "2024-12-09T18:28:05.634462Z"
    }
   },
   "id": "aaa85e3ce1ab4772",
   "execution_count": 17
  },
  {
   "cell_type": "code",
   "outputs": [
    {
     "data": {
      "text/plain": "generate points:   0%|          | 0/1000 [00:00<?, ?it/s]",
      "application/vnd.jupyter.widget-view+json": {
       "version_major": 2,
       "version_minor": 0,
       "model_id": "4cc07ec33382467fae20a7533ca2be19"
      }
     },
     "metadata": {},
     "output_type": "display_data"
    }
   ],
   "source": [
    "# points = [(u,v) for u in g.nodes() for v in g.nodes() if u!=v]\n",
    "points = [utils.get_node_for_initial_graph_v2(g) for _ in trange(1000, desc='generate points')]"
   ],
   "metadata": {
    "collapsed": false,
    "ExecuteTime": {
     "end_time": "2024-12-09T18:28:05.945416Z",
     "start_time": "2024-12-09T18:28:05.642210Z"
    }
   },
   "id": "c4102bdcb9677bd8",
   "execution_count": 18
  },
  {
   "cell_type": "code",
   "outputs": [],
   "source": [
    "g_h = nx.Graph()\n",
    "for u in hubs:\n",
    "    g_h.add_node(u)\n",
    "\n",
    "for u in hubs:\n",
    "    for v in hubs:\n",
    "        if u ==v:\n",
    "            continue\n",
    "        g_h.add_edge(u,v,length = dst[hub2id[u], hub2id[v]])"
   ],
   "metadata": {
    "collapsed": false,
    "ExecuteTime": {
     "end_time": "2024-12-08T22:42:59.205266Z",
     "start_time": "2024-12-08T22:42:42.103908Z"
    }
   },
   "id": "8a70d81e5e22b306",
   "execution_count": 124
  },
  {
   "cell_type": "code",
   "outputs": [
    {
     "data": {
      "text/plain": "  0%|          | 0/3697840 [00:00<?, ?it/s]",
      "application/vnd.jupyter.widget-view+json": {
       "version_major": 2,
       "version_minor": 0,
       "model_id": "58115d5597514d79b9f0d3e8d05ec729"
      }
     },
     "metadata": {},
     "output_type": "display_data"
    }
   ],
   "source": [
    "edges = [(u,v) for u,v in g_h.edges()]\n",
    "for u,v in tqdm(edges):\n",
    "    d = g_h.edges()[u,v]\n",
    "    g_h.remove_edge(u,v)\n",
    "    if not nx.is_connected(g_h):\n",
    "        g_h.add_edge(u,v,**d)\n",
    "        continue\n",
    "    l = nx.single_source_dijkstra(g_h, u,v, weight='length')[0]\n",
    "    if abs(l-d['length']) > 0.1:\n",
    "        # print(l, d['length'])\n",
    "        g_h.add_edge(u,v,**d)"
   ],
   "metadata": {
    "collapsed": false,
    "ExecuteTime": {
     "start_time": "2024-12-08T22:42:59.207169Z"
    }
   },
   "id": "855600f9f419da45",
   "execution_count": null
  },
  {
   "cell_type": "code",
   "outputs": [],
   "source": [
    "len(g_h.nodes), len(g_h.edges), len(dst) * (len(dst)-1)/2"
   ],
   "metadata": {
    "collapsed": false
   },
   "id": "c5268c1e0fb46033",
   "execution_count": null
  },
  {
   "cell_type": "code",
   "outputs": [],
   "source": [
    "for u in g.nodes():\n",
    "    ends = set(cls2hub[g.nodes()[u]['cluster']])\n",
    "    d = dijkstra_pfa_to_set(g, u, ends)\n",
    "    for v in ends:\n",
    "        l  = nx.single_source_dijkstra(g, u,v,weight='length')[0]\n",
    "        if abs(l - d[v]) >0.1:\n",
    "            print(l, d[v], u,v)"
   ],
   "metadata": {
    "collapsed": false
   },
   "id": "3b8897d5cea0e79f",
   "execution_count": null
  },
  {
   "cell_type": "code",
   "outputs": [],
   "source": [
    "for h1 in tqdm(g_h.nodes):\n",
    "    for h2 in g_h.nodes:\n",
    "        if h1 == h2:\n",
    "            continue\n",
    "        l0 = nx.single_source_dijkstra(g_h, h1,h2, weight='length')[0]\n",
    "        l1 = nx.single_source_dijkstra(g, h1,h2, weight='length')[0]\n",
    "        if abs(l0-l1)>0.1:\n",
    "            print(l0,l1)"
   ],
   "metadata": {
    "collapsed": false
   },
   "id": "ab8fcc68d0a3dfcc",
   "execution_count": null
  },
  {
   "cell_type": "code",
   "outputs": [],
   "source": [
    "def bi_dijkstra_pfa(graph: nx.Graph,\n",
    "                    start: int,\n",
    "                    end: int,\n",
    "                    ) -> tuple[float, list[int]]:\n",
    "    if start == end:\n",
    "        return 0, [start]\n",
    "    \n",
    "    nodes = graph.nodes()\n",
    "    c1,c2 = nodes[start]['cluster'],nodes[end]['cluster']\n",
    "    \n",
    "    if c1 == c2:\n",
    "        return nx.single_source_dijkstra(g, start, end, weight='length') \n",
    "        \n",
    "    \n",
    "    push = heappush\n",
    "    pop = heappop\n",
    "    \n",
    "    dist = ({}, {})\n",
    "    fringe = ([], [])\n",
    "    c = count()\n",
    "\n",
    "    d1 = dijkstra_pfa_to_set(graph, start, cls2hub[c1])\n",
    "    d2 = dijkstra_pfa_to_set(graph, end, cls2hub[c2])\n",
    "    \n",
    "    adjacency = g_h._adj\n",
    "    \n",
    "    for h1 in cls2hub[c1]:\n",
    "        push(fringe[0], (d1[h1], next(c), 0, h1))\n",
    "        dist[0][h1] = (d1[h1], 0, None)\n",
    "        \n",
    "    for h2 in cls2hub[c2]:\n",
    "        push(fringe[1], (d2[h2], next(c), 0, h2))\n",
    "        dist[1][h2] = (d2[h2], 0, None)\n",
    "        \n",
    "    union_node = None\n",
    "    union_dst = float('inf')\n",
    "    \n",
    "    while fringe[0] and fringe[1]:\n",
    "        (d1, _, n1, v1) = pop(fringe[0])\n",
    "        (d2, _, n2, v2) = pop(fringe[1])\n",
    "        for u, e in adjacency[v1].items():\n",
    "            vu_dist = d1 + e['length']\n",
    "            if u not in dist[0] or dist[0][u][0] > vu_dist:\n",
    "                dist[0][u] = (vu_dist, n1 + 1, v1)\n",
    "                push(fringe[0], (vu_dist, next(c), n1 + 1, u))\n",
    "            if u in dist[1]:\n",
    "                dd = dist[1][u][0] + dist[0][u][0]\n",
    "                if dd < union_dst:\n",
    "                    union_dst = dd\n",
    "                    union_node = u\n",
    "        for u, e in adjacency[v2].items():\n",
    "            vu_dist = d2 + e['length']\n",
    "            if u not in dist[1] or dist[1][u][0] > vu_dist:\n",
    "                dist[1][u] = (vu_dist, n2 + 1, v2)\n",
    "                push(fringe[1], (vu_dist, next(c), n2 + 1, u))\n",
    "            if u in dist[0]:\n",
    "                dd = dist[0][u][0] + dist[1][u][0]\n",
    "                if dd < union_dst:\n",
    "                    union_dst = dd\n",
    "                    union_node = u\n",
    "        if d1 + d2 > union_dst:\n",
    "            break\n",
    "\n",
    "    # d1, n1, _ = dist[0][union_node]\n",
    "    # d2, n2, _ = dist[1][union_node]\n",
    "    # path = [0] * (n1 + n2 + 1)\n",
    "    # e = union_node\n",
    "    # i = n1\n",
    "    # while dist[0][e][2] is not None:\n",
    "    #     path[i] = e\n",
    "    #     i -= 1\n",
    "    #     e = dist[0][e][2]\n",
    "    # path[0] = e\n",
    "    # \n",
    "    # e = union_node\n",
    "    # i = n1\n",
    "    # while dist[1][e][2] is not None:\n",
    "    #     path[i] = e\n",
    "    #     i += 1\n",
    "    #     e = dist[1][e][2]\n",
    "    # path[-1] = e\n",
    "    return union_dst, []\n"
   ],
   "metadata": {
    "collapsed": false,
    "ExecuteTime": {
     "end_time": "2024-12-08T22:37:48.411360Z",
     "start_time": "2024-12-08T22:37:48.399622Z"
    }
   },
   "id": "ebcdc458bbb60ae6",
   "execution_count": 101
  },
  {
   "cell_type": "code",
   "outputs": [
    {
     "name": "stdout",
     "output_type": "stream",
     "text": [
      "start 0\n"
     ]
    },
    {
     "data": {
      "text/plain": "find paths:   0%|          | 0/200 [00:00<?, ?it/s]",
      "application/vnd.jupyter.widget-view+json": {
       "version_major": 2,
       "version_minor": 0,
       "model_id": "25ca70b199204178b779bab292b2c235"
      }
     },
     "metadata": {},
     "output_type": "display_data"
    },
    {
     "name": "stdout",
     "output_type": "stream",
     "text": [
      "start 1\n"
     ]
    },
    {
     "data": {
      "text/plain": "find paths:   0%|          | 0/200 [00:00<?, ?it/s]",
      "application/vnd.jupyter.widget-view+json": {
       "version_major": 2,
       "version_minor": 0,
       "model_id": "56625e4f07c943469135d7bd82e36aa3"
      }
     },
     "metadata": {},
     "output_type": "display_data"
    },
    {
     "name": "stdout",
     "output_type": "stream",
     "text": [
      "start 2\n"
     ]
    },
    {
     "data": {
      "text/plain": "find paths:   0%|          | 0/200 [00:00<?, ?it/s]",
      "application/vnd.jupyter.widget-view+json": {
       "version_major": 2,
       "version_minor": 0,
       "model_id": "91e8c5138eb84dca9378c59e09a79b06"
      }
     },
     "metadata": {},
     "output_type": "display_data"
    },
    {
     "name": "stdout",
     "output_type": "stream",
     "text": [
      "start 3\n"
     ]
    },
    {
     "data": {
      "text/plain": "find paths:   0%|          | 0/200 [00:00<?, ?it/s]",
      "application/vnd.jupyter.widget-view+json": {
       "version_major": 2,
       "version_minor": 0,
       "model_id": "3b63463ee33a4f09ac0f5d8ee75e9687"
      }
     },
     "metadata": {},
     "output_type": "display_data"
    },
    {
     "name": "stdout",
     "output_type": "stream",
     "text": [
      "start 4\n"
     ]
    },
    {
     "data": {
      "text/plain": "find paths:   0%|          | 0/200 [00:00<?, ?it/s]",
      "application/vnd.jupyter.widget-view+json": {
       "version_major": 2,
       "version_minor": 0,
       "model_id": "c72b0cbf45d042c4a26f5d901ecb3391"
      }
     },
     "metadata": {},
     "output_type": "display_data"
    },
    {
     "name": "stdout",
     "output_type": "stream",
     "text": [
      "err_mean: -0.00 %\n",
      "err_min: -0.00 %\n",
      "err_max: 0.00 %\n",
      "acceleration: 2.90 times\n"
     ]
    }
   ],
   "source": [
    "@utils.profile(iterations=NUM_ITERATION)\n",
    "def usual_path(g, p1, p2):\n",
    "    return nx.single_source_dijkstra(g, p1, p2, weight='length')\n",
    "\n",
    "\n",
    "@utils.profile(iterations=NUM_ITERATION)\n",
    "def h_path(g, p1, p2):\n",
    "    return bi_dijkstra_pfa(g, p1, p2)\n",
    "\n",
    "\n",
    "def do_calc(data_partitions):\n",
    "    point_partition, worker_number = data_partitions\n",
    "\n",
    "    stat = {\n",
    "        'l': [],\n",
    "        'h_l': [],\n",
    "        'p': [],\n",
    "        'h_p': [],\n",
    "        'time_l': [],\n",
    "        'time_h': [],\n",
    "        'delta': []\n",
    "    }\n",
    "\n",
    "    # чисто чтобы tqdm нормально прогрузился \n",
    "    sleep(worker_number / 10)\n",
    "    print('start', worker_number)\n",
    "\n",
    "    for p1, p2 in tqdm(\n",
    "            point_partition,\n",
    "            desc='find paths',\n",
    "            position=worker_number\n",
    "    ):\n",
    "        # класический дейкстра\n",
    "        time_l, (l, p) = usual_path(g, p1, p2)\n",
    "        # иерархический\n",
    "        time_h, (h_l, h_p) = h_path(g, p1, p2)\n",
    "        delta = (h_l - l) / l * 100\n",
    "\n",
    "        stat['l'].append(l)  # длина обычного пути\n",
    "        stat['h_l'].append(h_l)  # длина иерархического пути\n",
    "        stat['p'].append(p)  # обычный путь\n",
    "        stat['h_p'].append(h_p)  # иерархический путь\n",
    "        stat['delta'].append(delta)  # разница в длине\n",
    "        stat['time_l'].append(time_l)  # обычное время \n",
    "        stat['time_h'].append(time_h)  # иерархическое\n",
    "    return stat\n",
    "\n",
    "\n",
    "data = [([p for p in points[i::WORKER]], i) for i in range(WORKER)]\n",
    "# do_calc(data[0])\n",
    "with Pool(WORKER) as p:\n",
    "    stat = {k: v for r in p.imap_unordered(do_calc, data) for k, v in r.items()}\n",
    "\n",
    "print(f\"err_mean: {np.mean(stat['delta']):.2f} %\")\n",
    "print(f\"err_min: {np.min(stat['delta']):.2f} %\")\n",
    "print(f\"err_max: {np.max(stat['delta']):.2f} %\", )\n",
    "print(f\"acceleration: {np.mean(np.array(stat['time_l']) / np.array(stat['time_h'])):.2f} times\")"
   ],
   "metadata": {
    "collapsed": false,
    "ExecuteTime": {
     "end_time": "2024-12-08T22:37:57.534944Z",
     "start_time": "2024-12-08T22:37:48.909968Z"
    }
   },
   "id": "7312717ee99a6dc",
   "execution_count": 102
  },
  {
   "cell_type": "code",
   "outputs": [
    {
     "data": {
      "text/plain": "{'whiskers': [<matplotlib.lines.Line2D at 0x7c77dd815270>,\n  <matplotlib.lines.Line2D at 0x7c77dd815510>],\n 'caps': [<matplotlib.lines.Line2D at 0x7c77dd8157b0>,\n  <matplotlib.lines.Line2D at 0x7c77dd815a50>],\n 'boxes': [<matplotlib.lines.Line2D at 0x7c77dd814fd0>],\n 'medians': [<matplotlib.lines.Line2D at 0x7c77dd815cf0>],\n 'fliers': [<matplotlib.lines.Line2D at 0x7c77dd815f90>],\n 'means': []}"
     },
     "execution_count": 54,
     "metadata": {},
     "output_type": "execute_result"
    },
    {
     "data": {
      "text/plain": "<Figure size 640x480 with 1 Axes>",
      "image/png": "[encoded data removed]"
     },
     "metadata": {},
     "output_type": "display_data"
    }
   ],
   "source": [
    "acceleration = np.array(stat['time_l']) / np.array(stat['time_h'])\n",
    "plt.boxplot(acceleration)"
   ],
   "metadata": {
    "collapsed": false,
    "ExecuteTime": {
     "end_time": "2024-12-08T21:27:15.112479Z",
     "start_time": "2024-12-08T21:27:14.865167Z"
    }
   },
   "id": "a80092fd1889e9c1",
   "execution_count": 54
  },
  {
   "cell_type": "code",
   "outputs": [],
   "source": [
    "idx = np.argmin(stat['delta'])"
   ],
   "metadata": {
    "collapsed": false,
    "ExecuteTime": {
     "end_time": "2024-12-08T21:45:45.698762Z",
     "start_time": "2024-12-08T21:45:45.685167Z"
    }
   },
   "id": "78b49900e478c313",
   "execution_count": 88
  },
  {
   "cell_type": "code",
   "outputs": [],
   "source": [
    "p1,p2 = stat['l'][idx], stat['h_l'][idx]"
   ],
   "metadata": {
    "collapsed": false,
    "ExecuteTime": {
     "end_time": "2024-12-08T21:45:46.026026Z",
     "start_time": "2024-12-08T21:45:46.021558Z"
    }
   },
   "id": "36ddfeff53486881",
   "execution_count": 89
  },
  {
   "cell_type": "code",
   "outputs": [
    {
     "data": {
      "text/plain": "(4924.334000000002, 60.248)"
     },
     "execution_count": 90,
     "metadata": {},
     "output_type": "execute_result"
    }
   ],
   "source": [
    "p1,p2"
   ],
   "metadata": {
    "collapsed": false,
    "ExecuteTime": {
     "end_time": "2024-12-08T21:45:46.605864Z",
     "start_time": "2024-12-08T21:45:46.601547Z"
    }
   },
   "id": "d09f7ee15e3efdd7",
   "execution_count": 90
  },
  {
   "cell_type": "code",
   "outputs": [],
   "source": [
    "p = stat['p'][idx]\n"
   ],
   "metadata": {
    "collapsed": false,
    "ExecuteTime": {
     "end_time": "2024-12-08T21:47:08.031765Z",
     "start_time": "2024-12-08T21:47:08.028151Z"
    }
   },
   "id": "cafd5de1ef91d609",
   "execution_count": 91
  },
  {
   "cell_type": "code",
   "outputs": [],
   "source": [
    "u,v = p[0],p[-1]"
   ],
   "metadata": {
    "collapsed": false,
    "ExecuteTime": {
     "end_time": "2024-12-08T21:47:17.837856Z",
     "start_time": "2024-12-08T21:47:17.831348Z"
    }
   },
   "id": "c11ef954f3a8dfad",
   "execution_count": 93
  },
  {
   "cell_type": "code",
   "outputs": [
    {
     "data": {
      "text/plain": "(2028392726, 5306952854)"
     },
     "execution_count": 97,
     "metadata": {},
     "output_type": "execute_result"
    }
   ],
   "source": [
    "u,v"
   ],
   "metadata": {
    "collapsed": false,
    "ExecuteTime": {
     "end_time": "2024-12-08T21:47:59.273103Z",
     "start_time": "2024-12-08T21:47:59.267746Z"
    }
   },
   "id": "e5079608abf35c99",
   "execution_count": 97
  },
  {
   "cell_type": "code",
   "outputs": [
    {
     "name": "stdout",
     "output_type": "stream",
     "text": [
      "2028474171 214.046\n",
      "1576825122 597.7919999999999\n",
      "1576824995 1076.319\n",
      "1289849091 947.9459999999999\n",
      "1576825125 474.258\n",
      "1576825062 447.144\n",
      "1576825093 531.79\n",
      "2028392584 598.596\n",
      "2028392778 174.832\n",
      "2028392753 220.211\n",
      "1336309426 1134.943\n",
      "1576825011 997.179\n",
      "2028392633 1098.565\n",
      "2028392699 1205.836\n",
      "2028392735 623.679\n",
      "2383149392 312.483\n",
      "5306952854 0.0\n",
      "1585803311 30.124\n"
     ]
    },
    {
     "data": {
      "text/plain": "(60.248, [])"
     },
     "execution_count": 99,
     "metadata": {},
     "output_type": "execute_result"
    }
   ],
   "source": [
    "bi_dijkstra_pfa(g, u,v)"
   ],
   "metadata": {
    "collapsed": false,
    "ExecuteTime": {
     "end_time": "2024-12-08T21:48:47.115791Z",
     "start_time": "2024-12-08T21:48:47.107841Z"
    }
   },
   "id": "a3bd2303d0b22063",
   "execution_count": 99
  },
  {
   "cell_type": "code",
   "outputs": [],
   "source": [],
   "metadata": {
    "collapsed": false
   },
   "id": "af6466687a20544e"
  }
 ],
 "metadata": {
  "kernelspec": {
   "display_name": "Python 3 (ipykernel)",
   "language": "python",
   "name": "python3"
  },
  "language_info": {
   "codemirror_mode": {
    "name": "ipython",
    "version": 3
   },
   "file_extension": ".py",
   "mimetype": "text/x-python",
   "name": "python",
   "nbconvert_exporter": "python",
   "pygments_lexer": "ipython3",
   "version": "3.10.12"
  }
 },
 "nbformat": 4,
 "nbformat_minor": 5
}
