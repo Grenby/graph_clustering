{
 "cells": [
  {
   "cell_type": "code",
   "outputs": [],
   "source": [
    "import logging\n",
    "import sys\n",
    "\n",
    "import matplotlib.pyplot as plt\n",
    "\n",
    "root = logging.getLogger()\n",
    "root.setLevel(logging.INFO)\n",
    "\n",
    "handler = logging.StreamHandler(sys.stdout)\n",
    "handler.setLevel(logging.INFO)\n",
    "formatter = logging.Formatter('%(asctime)s - %(name)s - %(levelname)s - %(message)s')\n",
    "handler.setFormatter(formatter)\n",
    "root.addHandler(handler)"
   ],
   "metadata": {
    "collapsed": false,
    "ExecuteTime": {
     "end_time": "2024-12-20T15:29:12.676424Z",
     "start_time": "2024-12-20T15:29:12.406285Z"
    }
   },
   "id": "53dec751eb7d7337",
   "execution_count": 1
  },
  {
   "cell_type": "code",
   "outputs": [],
   "source": [
    "import sys\n",
    "\n",
    "sys.path.append('../scripts')\n",
    "sys.path.append('../')\n",
    "from scripts import centroids_graph_builder\n",
    "from time import sleep\n",
    "from multiprocessing import Pool\n",
    "from scripts import dijkstra\n",
    "import numpy as np\n",
    "from tqdm.notebook import trange, tqdm\n",
    "from scripts import graph_osm_loader, utils\n",
    "\n",
    "import networkx as nx\n",
    "from heapq import heappop, heappush\n",
    "from itertools import count\n",
    "from scripts import clustering"
   ],
   "metadata": {
    "collapsed": false,
    "ExecuteTime": {
     "end_time": "2024-12-20T15:29:13.577434Z",
     "start_time": "2024-12-20T15:29:12.677609Z"
    }
   },
   "id": "15c1eb90daa7302c",
   "execution_count": 2
  },
  {
   "cell_type": "code",
   "outputs": [],
   "source": [
    "NUM_ITERATION = 5  # чтобы уменьшить ошибку при вычислении времени выполнения, при каждом замере время меряется для NUM_ITERATION повторений\n",
    "WORKER = 10  # количество потоков"
   ],
   "metadata": {
    "collapsed": false,
    "ExecuteTime": {
     "end_time": "2024-12-20T15:29:13.579946Z",
     "start_time": "2024-12-20T15:29:13.578033Z"
    }
   },
   "id": "607e02cb4fa88adf",
   "execution_count": 3
  },
  {
   "cell_type": "code",
   "outputs": [],
   "source": [
    "    # 'PARIS': 'R71525',\n",
    "    # 'Prague': 'R435514',\n",
    "    # \n",
    "    # 'DUBAI': 'R3766483',\n"
   ],
   "metadata": {
    "collapsed": false,
    "ExecuteTime": {
     "end_time": "2024-12-20T15:29:13.582808Z",
     "start_time": "2024-12-20T15:29:13.580776Z"
    }
   },
   "id": "92f328a1c2ab7ec3",
   "execution_count": 4
  },
  {
   "cell_type": "code",
   "outputs": [],
   "source": [],
   "metadata": {
    "collapsed": false,
    "ExecuteTime": {
     "end_time": "2024-12-20T15:29:13.584847Z",
     "start_time": "2024-12-20T15:29:13.583278Z"
    }
   },
   "id": "2083a0e073e4e7fd",
   "execution_count": 4
  },
  {
   "cell_type": "code",
   "outputs": [
    {
     "name": "stdout",
     "output_type": "stream",
     "text": [
      "9507 14804\n"
     ]
    }
   ],
   "source": [
    "GRAPH_ID = 'R71525'  # R13470549 R2555133 R3766483\n",
    "# примеры id есть в graph_osm_loader.py\n",
    "# g = get_rand_graph(1000, 0.1)  # зарузка графа\n",
    "N = 10000\n",
    "p = 3 / N\n",
    "# g = get_rand_graph(N,p)\n",
    "# g = get_graph()\n",
    "g = graph_osm_loader.get_graph(GRAPH_ID)\n",
    "print(len(g.nodes), len(g.edges))"
   ],
   "metadata": {
    "collapsed": false,
    "ExecuteTime": {
     "end_time": "2024-12-20T15:29:13.599753Z",
     "start_time": "2024-12-20T15:29:13.585264Z"
    }
   },
   "id": "1e5b87472e77c825",
   "execution_count": 5
  },
  {
   "cell_type": "code",
   "outputs": [],
   "source": [
    "g.remove_edges_from(nx.selfloop_edges(g))"
   ],
   "metadata": {
    "collapsed": false,
    "ExecuteTime": {
     "end_time": "2024-12-20T15:29:13.602885Z",
     "start_time": "2024-12-20T15:29:13.600432Z"
    }
   },
   "id": "3655ef006e9d684e",
   "execution_count": 6
  },
  {
   "cell_type": "code",
   "outputs": [],
   "source": [],
   "metadata": {
    "collapsed": false,
    "ExecuteTime": {
     "end_time": "2024-12-20T15:29:13.604535Z",
     "start_time": "2024-12-20T15:29:13.603380Z"
    }
   },
   "id": "b16b3539a340be91",
   "execution_count": 6
  },
  {
   "cell_type": "code",
   "outputs": [
    {
     "name": "stdout",
     "output_type": "stream",
     "text": [
      "525\n"
     ]
    }
   ],
   "source": [
    "cms = clustering.resolve_louvain_communities(g, resolution=26.5)\n",
    "print(len(cms))"
   ],
   "metadata": {
    "collapsed": false,
    "ExecuteTime": {
     "end_time": "2024-12-20T15:29:14.119657Z",
     "start_time": "2024-12-20T15:29:13.604898Z"
    }
   },
   "id": "116c0ddd8a2e2508",
   "execution_count": 7
  },
  {
   "cell_type": "code",
   "outputs": [
    {
     "name": "stderr",
     "output_type": "stream",
     "text": [
      "find centroids: 100%|██████████| 525/525 [00:00<00:00, 819.37it/s]\n",
      "find edges: 100%|██████████| 525/525 [00:00<00:00, 1001.36it/s]\n"
     ]
    }
   ],
   "source": [
    "cls2n =  centroids_graph_builder.get_cls2n(g) # мапа кластер к соседним кластерам \n",
    "g1, cls2c = centroids_graph_builder.build_center_graph(g, cms, cls2n, log=True)"
   ],
   "metadata": {
    "collapsed": false,
    "ExecuteTime": {
     "end_time": "2024-12-20T15:29:15.305855Z",
     "start_time": "2024-12-20T15:29:14.121535Z"
    }
   },
   "id": "90485075245ff88d",
   "execution_count": 8
  },
  {
   "cell_type": "code",
   "outputs": [],
   "source": [
    "nodes = g.nodes()"
   ],
   "metadata": {
    "collapsed": false,
    "ExecuteTime": {
     "end_time": "2024-12-20T15:29:15.308801Z",
     "start_time": "2024-12-20T15:29:15.306654Z"
    }
   },
   "id": "3a799dfd1859b352",
   "execution_count": 9
  },
  {
   "cell_type": "code",
   "outputs": [],
   "source": [
    "a = 1"
   ],
   "metadata": {
    "collapsed": false,
    "ExecuteTime": {
     "end_time": "2024-12-20T15:29:15.311562Z",
     "start_time": "2024-12-20T15:29:15.309357Z"
    }
   },
   "id": "567c0c946b9a2e6a",
   "execution_count": 10
  },
  {
   "cell_type": "code",
   "outputs": [],
   "source": [
    "def dst(da,db):\n",
    "    return ((da['x'] - db['x']) ** 2 + (da['y'] - db['y']) ** 2) ** 0.5 / 360 * 2 * np.pi * 6371.01 * 1000 * a"
   ],
   "metadata": {
    "collapsed": false,
    "ExecuteTime": {
     "end_time": "2024-12-20T15:30:32.625224Z",
     "start_time": "2024-12-20T15:30:32.622723Z"
    }
   },
   "id": "27fd66c4712ad507",
   "execution_count": 19
  },
  {
   "cell_type": "code",
   "outputs": [],
   "source": [
    "def node_dst(u,v):\n",
    "    da = nodes[u]\n",
    "    db = nodes[v]\n",
    "    return dst(da,db)"
   ],
   "metadata": {
    "collapsed": false,
    "ExecuteTime": {
     "end_time": "2024-12-20T15:30:32.926786Z",
     "start_time": "2024-12-20T15:30:32.924662Z"
    }
   },
   "id": "d7aa190ade96a059",
   "execution_count": 20
  },
  {
   "cell_type": "code",
   "outputs": [
    {
     "data": {
      "text/plain": "np.float64(0.7894150087507097)"
     },
     "execution_count": 21,
     "metadata": {},
     "output_type": "execute_result"
    }
   ],
   "source": [
    "for u,v,d in g.edges(data=True):\n",
    "    a = min(a, d['length']/node_dst(u,v))\n",
    "a"
   ],
   "metadata": {
    "collapsed": false,
    "ExecuteTime": {
     "end_time": "2024-12-20T15:30:33.144833Z",
     "start_time": "2024-12-20T15:30:33.120379Z"
    }
   },
   "id": "41e6c4b4328693b2",
   "execution_count": 21
  },
  {
   "cell_type": "code",
   "outputs": [],
   "source": [
    "# find path between two points\n",
    "def find_path_length_h(\n",
    "        g0: nx.Graph,\n",
    "        g1: nx.Graph,\n",
    "        cms: list[set[int]] | tuple[set[int]],\n",
    "        cls2c: dict[int, int],\n",
    "        from_node: int,\n",
    "        to_node: int) -> float:\n",
    "    from_cluster = g0.nodes()[from_node]['cluster']\n",
    "    to_cluster = g0.nodes()[to_node]['cluster']\n",
    "    \n",
    "    def h(a, b):\n",
    "        da = nodes[cls2c[a]]\n",
    "        db = nodes[cls2c[b]]\n",
    "        return dst(da,db)\n",
    "    path = nx.single_source_dijkstra(g1, from_cluster, to_cluster, weight='length')[1]\n",
    "    # path = nx.bidirectional_dijkstra(g1, from_cluster, to_cluster, weight='length')[1]\n",
    "    # path = nx.astar_path(g1, from_cluster, to_cluster, weight='length', heuristic=h)\n",
    "    \n",
    "    cls = set([u for u in path])\n",
    "    g = centroids_graph_builder.extract_cluster_list_subgraph(g0, cls, cms)\n",
    "    return nx.single_source_dijkstra(g, from_node, to_node, weight='length')\n",
    "    # return nx.bidirectional_dijkstra(g, from_node, to_node, weight='length')\n",
    "    # return nx.astar_path_length(g, from_node, to_node, weight='length', heuristic=node_dst), []"
   ],
   "metadata": {
    "collapsed": false,
    "ExecuteTime": {
     "end_time": "2024-12-20T15:30:33.325393Z",
     "start_time": "2024-12-20T15:30:33.321821Z"
    }
   },
   "id": "7e887de92d108956",
   "execution_count": 22
  },
  {
   "cell_type": "code",
   "outputs": [],
   "source": [
    "# points = [(u,v) for u in g.nodes() for v in g.nodes() if u!=v]\n",
    "# points = [utils.get_node_for_initial_graph_v2(g) for _ in trange(1000, desc='generate points')]"
   ],
   "metadata": {
    "collapsed": false,
    "ExecuteTime": {
     "end_time": "2024-12-20T15:30:33.532291Z",
     "start_time": "2024-12-20T15:30:33.529518Z"
    }
   },
   "id": "20b3dbb2b323cd8b",
   "execution_count": 23
  },
  {
   "cell_type": "code",
   "outputs": [],
   "source": [
    "path = utils.get_path('pouits', f'points_{GRAPH_ID}.pickle')\n",
    "import os\n",
    "import pickle\n",
    "if os.path.exists(path):\n",
    "    with open(path, 'rb') as fp:\n",
    "        points = pickle.load(fp)\n",
    "        fp.close()\n",
    "else:\n",
    "    points = [utils.get_node_for_initial_graph_v2(g) for _ in trange(1000, desc='generate points')]\n",
    "    with open(path, 'wb') as fp:\n",
    "        pickle.dump(points, fp)\n",
    "        fp.close()"
   ],
   "metadata": {
    "collapsed": false,
    "ExecuteTime": {
     "end_time": "2024-12-20T15:30:33.725760Z",
     "start_time": "2024-12-20T15:30:33.722947Z"
    }
   },
   "id": "fb20ee604be35cca",
   "execution_count": 24
  },
  {
   "cell_type": "code",
   "outputs": [
    {
     "name": "stdout",
     "output_type": "stream",
     "text": [
      "start 0\n"
     ]
    },
    {
     "data": {
      "text/plain": "find paths 0:   0%|          | 0/100 [00:00<?, ?it/s]",
      "application/vnd.jupyter.widget-view+json": {
       "version_major": 2,
       "version_minor": 0,
       "model_id": "26277a67ea5346cb874a970b9f972bc2"
      }
     },
     "metadata": {},
     "output_type": "display_data"
    },
    {
     "name": "stdout",
     "output_type": "stream",
     "text": [
      "start 1\n"
     ]
    },
    {
     "data": {
      "text/plain": "find paths 1:   0%|          | 0/100 [00:00<?, ?it/s]",
      "application/vnd.jupyter.widget-view+json": {
       "version_major": 2,
       "version_minor": 0,
       "model_id": "17adff4fe86946689ef013c5645d8de1"
      }
     },
     "metadata": {},
     "output_type": "display_data"
    },
    {
     "name": "stdout",
     "output_type": "stream",
     "text": [
      "start 2\n"
     ]
    },
    {
     "data": {
      "text/plain": "find paths 2:   0%|          | 0/100 [00:00<?, ?it/s]",
      "application/vnd.jupyter.widget-view+json": {
       "version_major": 2,
       "version_minor": 0,
       "model_id": "6c0e7b46a9ed4be18f803fcc3613a942"
      }
     },
     "metadata": {},
     "output_type": "display_data"
    },
    {
     "name": "stdout",
     "output_type": "stream",
     "text": [
      "start 3\n"
     ]
    },
    {
     "data": {
      "text/plain": "find paths 3:   0%|          | 0/100 [00:00<?, ?it/s]",
      "application/vnd.jupyter.widget-view+json": {
       "version_major": 2,
       "version_minor": 0,
       "model_id": "4241c0f8714140799532977cdc87cd00"
      }
     },
     "metadata": {},
     "output_type": "display_data"
    },
    {
     "name": "stdout",
     "output_type": "stream",
     "text": [
      "start 4\n"
     ]
    },
    {
     "data": {
      "text/plain": "find paths 4:   0%|          | 0/100 [00:00<?, ?it/s]",
      "application/vnd.jupyter.widget-view+json": {
       "version_major": 2,
       "version_minor": 0,
       "model_id": "72e6b986e41e426782a46c4a4ce1ab4d"
      }
     },
     "metadata": {},
     "output_type": "display_data"
    },
    {
     "name": "stdout",
     "output_type": "stream",
     "text": [
      "start 5\n"
     ]
    },
    {
     "data": {
      "text/plain": "find paths 5:   0%|          | 0/100 [00:00<?, ?it/s]",
      "application/vnd.jupyter.widget-view+json": {
       "version_major": 2,
       "version_minor": 0,
       "model_id": "f8cf392b80444a90a35895276ffe3ea2"
      }
     },
     "metadata": {},
     "output_type": "display_data"
    },
    {
     "name": "stdout",
     "output_type": "stream",
     "text": [
      "start 6\n"
     ]
    },
    {
     "data": {
      "text/plain": "find paths 6:   0%|          | 0/100 [00:00<?, ?it/s]",
      "application/vnd.jupyter.widget-view+json": {
       "version_major": 2,
       "version_minor": 0,
       "model_id": "ae030c4df93b4df8b776cc123e887eeb"
      }
     },
     "metadata": {},
     "output_type": "display_data"
    },
    {
     "name": "stdout",
     "output_type": "stream",
     "text": [
      "start 7\n"
     ]
    },
    {
     "data": {
      "text/plain": "find paths 7:   0%|          | 0/100 [00:00<?, ?it/s]",
      "application/vnd.jupyter.widget-view+json": {
       "version_major": 2,
       "version_minor": 0,
       "model_id": "7d364ee804dc4c95865d4b91a6efb93a"
      }
     },
     "metadata": {},
     "output_type": "display_data"
    },
    {
     "name": "stdout",
     "output_type": "stream",
     "text": [
      "start 8\n"
     ]
    },
    {
     "data": {
      "text/plain": "find paths 8:   0%|          | 0/100 [00:00<?, ?it/s]",
      "application/vnd.jupyter.widget-view+json": {
       "version_major": 2,
       "version_minor": 0,
       "model_id": "acff85195b294d83bc850ce85b68b830"
      }
     },
     "metadata": {},
     "output_type": "display_data"
    },
    {
     "name": "stdout",
     "output_type": "stream",
     "text": [
      "start 9\n"
     ]
    },
    {
     "data": {
      "text/plain": "find paths 9:   0%|          | 0/100 [00:00<?, ?it/s]",
      "application/vnd.jupyter.widget-view+json": {
       "version_major": 2,
       "version_minor": 0,
       "model_id": "b81ba4d770d1486c8c0e623f7b918654"
      }
     },
     "metadata": {},
     "output_type": "display_data"
    },
    {
     "name": "stdout",
     "output_type": "stream",
     "text": [
      "err_mean: 0.66 %\n",
      "err_min: 0.00 %\n",
      "err_max: 4.40 %\n",
      "acceleration: 9.08 times\n"
     ]
    }
   ],
   "source": [
    "@utils.profile(iterations=NUM_ITERATION)\n",
    "def usual_path(g, p1, p2):\n",
    "    return dijkstra.dijkstra_pfa(g, p1,p2)\n",
    "\n",
    "@utils.profile(iterations=NUM_ITERATION)\n",
    "def h_path(g, p1, p2):\n",
    "    # return find_path_length_h(g,g1, cms, cls2c, p1, p2)\n",
    "    # return nx.astar_path_length(g, p1, p2, weight='length', heuristic=node_dst), []\n",
    "    return dijkstra.astar(g, p1,p2,node_dst)\n",
    "\n",
    "def do_calc(data_partitions):\n",
    "    point_partition, worker_number = data_partitions\n",
    "\n",
    "    stat = {\n",
    "        'l': [],\n",
    "        'h_l': [],\n",
    "        'p': [],\n",
    "        'h_p': [],\n",
    "        'time_l': [],\n",
    "        'time_h': [],\n",
    "        'delta': []\n",
    "    }\n",
    "\n",
    "    # чисто чтобы tqdm нормально прогрузился \n",
    "    sleep(worker_number / 10)\n",
    "    print('start', worker_number)\n",
    "\n",
    "    for p1, p2 in tqdm(\n",
    "            point_partition,\n",
    "            desc=f'find paths {worker_number}',\n",
    "            position=worker_number\n",
    "    ):\n",
    "        # класический дейкстра\n",
    "        time_l, (l, p) = usual_path(g, p1, p2)\n",
    "        # иерархический\n",
    "        time_h, (h_l, h_p) = h_path(g, p1, p2)\n",
    "        delta = (h_l - l) / l * 100\n",
    "\n",
    "        stat['l'].append(l)  # длина обычного пути\n",
    "        stat['h_l'].append(h_l)  # длина иерархического пути\n",
    "        stat['p'].append(p)  # обычный путь\n",
    "        stat['h_p'].append(h_p)  # иерархический путь\n",
    "        stat['delta'].append(delta)  # разница в длине\n",
    "        stat['time_l'].append(time_l)  # обычное время \n",
    "        stat['time_h'].append(time_h)  # иерархическое\n",
    "    return stat\n",
    "\n",
    "\n",
    "data = [([p for p in points[i::WORKER]], i) for i in range(WORKER)]\n",
    "# do_calc(data[0])\n",
    "with Pool(WORKER) as p:\n",
    "    stat = {k: v for r in p.imap_unordered(do_calc, data) for k, v in r.items()}\n",
    "\n",
    "print(f\"err_mean: {np.mean(stat['delta']):.2f} %\")\n",
    "print(f\"err_min: {np.min(stat['delta']):.2f} %\")\n",
    "print(f\"err_max: {np.max(stat['delta']):.2f} %\", )\n",
    "print(f\"acceleration: {np.mean(np.array(stat['time_l']) / np.array(stat['time_h'])):.2f} times\")"
   ],
   "metadata": {
    "collapsed": false,
    "ExecuteTime": {
     "end_time": "2024-12-20T15:30:41.189835Z",
     "start_time": "2024-12-20T15:30:33.928185Z"
    }
   },
   "id": "202b85144cb1d49f",
   "execution_count": 25
  },
  {
   "cell_type": "code",
   "outputs": [
    {
     "data": {
      "text/plain": "{'whiskers': [<matplotlib.lines.Line2D at 0x7ca368c59df0>,\n  <matplotlib.lines.Line2D at 0x7ca368c5a090>],\n 'caps': [<matplotlib.lines.Line2D at 0x7ca368c5a360>,\n  <matplotlib.lines.Line2D at 0x7ca368c5a660>],\n 'boxes': [<matplotlib.lines.Line2D at 0x7ca3698671d0>],\n 'medians': [<matplotlib.lines.Line2D at 0x7ca368c5a900>],\n 'fliers': [<matplotlib.lines.Line2D at 0x7ca368c5abd0>],\n 'means': []}"
     },
     "execution_count": 18,
     "metadata": {},
     "output_type": "execute_result"
    },
    {
     "data": {
      "text/plain": "<Figure size 640x480 with 1 Axes>",
      "image/png": "[encoded data removed]"
     },
     "metadata": {},
     "output_type": "display_data"
    }
   ],
   "source": [
    "acceleration = np.array(stat['time_l']) / np.array(stat['time_h'])\n",
    "plt.boxplot(acceleration)"
   ],
   "metadata": {
    "collapsed": false,
    "ExecuteTime": {
     "end_time": "2024-12-20T15:29:23.250699Z",
     "start_time": "2024-12-20T15:29:23.202198Z"
    }
   },
   "id": "dba81f8639fa6100",
   "execution_count": 18
  },
  {
   "cell_type": "code",
   "outputs": [],
   "source": [],
   "metadata": {
    "collapsed": false,
    "ExecuteTime": {
     "end_time": "2024-12-20T15:29:23.252579Z",
     "start_time": "2024-12-20T15:29:23.251279Z"
    }
   },
   "id": "3c89422ee54f2794",
   "execution_count": 18
  }
 ],
 "metadata": {
  "kernelspec": {
   "display_name": "Python 3",
   "language": "python",
   "name": "python3"
  },
  "language_info": {
   "codemirror_mode": {
    "name": "ipython",
    "version": 2
   },
   "file_extension": ".py",
   "mimetype": "text/x-python",
   "name": "python",
   "nbconvert_exporter": "python",
   "pygments_lexer": "ipython2",
   "version": "2.7.6"
  }
 },
 "nbformat": 4,
 "nbformat_minor": 5
}
