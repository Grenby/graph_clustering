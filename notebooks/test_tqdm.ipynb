{
 "cells": [
  {
   "cell_type": "code",
   "execution_count": 2,
   "id": "initial_id",
   "metadata": {
    "collapsed": true,
    "ExecuteTime": {
     "end_time": "2024-10-16T10:16:47.662482Z",
     "start_time": "2024-10-16T10:16:47.608343Z"
    }
   },
   "outputs": [],
   "source": [
    "\n",
    "from tqdm.notebook import trange, tqdm"
   ]
  },
  {
   "cell_type": "code",
   "outputs": [],
   "source": [
    "def func_do_update(log : bool|tqdm):\n",
    "    for i in range(10):\n",
    "        log.update(1)"
   ],
   "metadata": {
    "collapsed": false,
    "ExecuteTime": {
     "end_time": "2024-10-16T10:18:34.904614Z",
     "start_time": "2024-10-16T10:18:34.900917Z"
    }
   },
   "id": "a21b956d94ea1107",
   "execution_count": 6
  },
  {
   "cell_type": "code",
   "outputs": [
    {
     "data": {
      "text/plain": "Обработка...:   0%|          | 0/100 [00:00<?, ?it/s]",
      "application/vnd.jupyter.widget-view+json": {
       "version_major": 2,
       "version_minor": 0,
       "model_id": "d5f81b1fcefd42f1aca8531cd885336a"
      }
     },
     "metadata": {},
     "output_type": "display_data"
    }
   ],
   "source": [
    "from time import sleep\n",
    "\n",
    "with tqdm(total=100, desc=\"Обработка...\") as pbar:\n",
    "    for i in range(10):\n",
    "        func_do_update(pbar)\n",
    "        sleep(1)"
   ],
   "metadata": {
    "collapsed": false,
    "ExecuteTime": {
     "end_time": "2024-10-16T10:18:46.711901Z",
     "start_time": "2024-10-16T10:18:36.685656Z"
    }
   },
   "id": "a3336a115c934efb",
   "execution_count": 7
  }
 ],
 "metadata": {
  "kernelspec": {
   "display_name": "Python 3",
   "language": "python",
   "name": "python3"
  },
  "language_info": {
   "codemirror_mode": {
    "name": "ipython",
    "version": 2
   },
   "file_extension": ".py",
   "mimetype": "text/x-python",
   "name": "python",
   "nbconvert_exporter": "python",
   "pygments_lexer": "ipython2",
   "version": "2.7.6"
  }
 },
 "nbformat": 4,
 "nbformat_minor": 5
}
