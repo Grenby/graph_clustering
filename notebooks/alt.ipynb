{
 "cells": [
  {
   "cell_type": "code",
   "outputs": [],
   "source": [
    "import sys\n",
    "\n",
    "sys.path.append('../scripts')"
   ],
   "metadata": {
    "collapsed": false,
    "ExecuteTime": {
     "end_time": "2024-11-19T14:25:31.684285Z",
     "start_time": "2024-11-19T14:25:31.680336Z"
    }
   },
   "id": "8dc89016aba3f61f",
   "execution_count": 2
  },
  {
   "cell_type": "code",
   "outputs": [],
   "source": [
    "import os\n",
    "\n",
    "import pickle\n",
    "import time\n",
    "from multiprocessing import Pool\n",
    "from time import sleep\n",
    "\n",
    "import numpy as np\n",
    "from tqdm.notebook import trange, tqdm\n",
    "from scripts import centroids_graph_builder, graph_osm_loader, utils, clustering\n",
    "from heapq import heappop, heappush\n",
    "from itertools import count\n",
    "import networkx as nx\n",
    "\n",
    "import networkx as nx"
   ],
   "metadata": {
    "collapsed": false,
    "ExecuteTime": {
     "end_time": "2024-11-19T14:25:36.373051Z",
     "start_time": "2024-11-19T14:25:31.845816Z"
    }
   },
   "id": "initial_id",
   "execution_count": 3
  },
  {
   "cell_type": "markdown",
   "source": [
    "Примеры как резолвить комьюнити"
   ],
   "metadata": {
    "collapsed": false
   },
   "id": "24e484a2a3e88df1"
  },
  {
   "cell_type": "code",
   "outputs": [],
   "source": [
    "GRAPH_ID = 'R2555133'  # R13470549 R2555133 R3766483"
   ],
   "metadata": {
    "collapsed": false,
    "ExecuteTime": {
     "end_time": "2024-11-19T14:25:36.379676Z",
     "start_time": "2024-11-19T14:25:36.375706Z"
    }
   },
   "id": "3b4742a1a125081c",
   "execution_count": 4
  },
  {
   "cell_type": "code",
   "outputs": [
    {
     "data": {
      "text/plain": "(17923, 27016)"
     },
     "execution_count": 5,
     "metadata": {},
     "output_type": "execute_result"
    }
   ],
   "source": [
    "# примеры id есть в graph_osm_loader.py\n",
    "g = graph_osm_loader.get_graph(GRAPH_ID)  # загрузка графа\n",
    "# N = 1000\n",
    "# p = 0.01\n",
    "# g = get_rand_graph(N,p)\n",
    "len(g.nodes), len(g.edges)"
   ],
   "metadata": {
    "collapsed": false,
    "ExecuteTime": {
     "end_time": "2024-11-19T14:25:36.482216Z",
     "start_time": "2024-11-19T14:25:36.381930Z"
    }
   },
   "id": "b219e78cf93171f5",
   "execution_count": 5
  },
  {
   "cell_type": "code",
   "outputs": [
    {
     "data": {
      "text/plain": "859"
     },
     "execution_count": 6,
     "metadata": {},
     "output_type": "execute_result"
    }
   ],
   "source": [
    "utils.get_opt_cluster_count(len(g.nodes))  # оптимальное количество кластеров"
   ],
   "metadata": {
    "collapsed": false,
    "ExecuteTime": {
     "end_time": "2024-11-19T14:25:36.494667Z",
     "start_time": "2024-11-19T14:25:36.485874Z"
    }
   },
   "id": "b1053ecba87c88b6",
   "execution_count": 6
  },
  {
   "cell_type": "code",
   "outputs": [],
   "source": [
    "g.remove_edges_from(nx.selfloop_edges(g))"
   ],
   "metadata": {
    "collapsed": false,
    "ExecuteTime": {
     "end_time": "2024-11-19T14:25:36.506679Z",
     "start_time": "2024-11-19T14:25:36.497434Z"
    }
   },
   "id": "d2a76eca84cafd29",
   "execution_count": 7
  },
  {
   "cell_type": "code",
   "outputs": [],
   "source": [
    "name = 'cluster'"
   ],
   "metadata": {
    "collapsed": false,
    "ExecuteTime": {
     "end_time": "2024-11-19T14:25:36.515288Z",
     "start_time": "2024-11-19T14:25:36.509081Z"
    }
   },
   "id": "cfa176e857f7a6fb",
   "execution_count": 8
  },
  {
   "cell_type": "code",
   "outputs": [
    {
     "name": "stderr",
     "output_type": "stream",
     "text": [
      "100%|██████████| 100/100 [00:11<00:00,  8.35it/s]"
     ]
    },
    {
     "name": "stdout",
     "output_type": "stream",
     "text": [
      "3115\n"
     ]
    },
    {
     "name": "stderr",
     "output_type": "stream",
     "text": [
      "\n"
     ]
    }
   ],
   "source": [
    "cms2 = clustering.resolve_k_means_communities(g, resolution=400, max_iteration=100, cluster_name=name, print_log=True)\n",
    "print(len(cms2))"
   ],
   "metadata": {
    "collapsed": false,
    "ExecuteTime": {
     "end_time": "2024-11-19T14:25:51.085871Z",
     "start_time": "2024-11-19T14:25:36.517533Z"
    }
   },
   "id": "23c1a5d32d570651",
   "execution_count": 9
  },
  {
   "cell_type": "code",
   "outputs": [],
   "source": [
    "cls2n = centroids_graph_builder.get_cls2n(g, name=name)  # мапа кластер к соседним кластерам "
   ],
   "metadata": {
    "collapsed": false,
    "ExecuteTime": {
     "end_time": "2024-11-19T14:25:51.141518Z",
     "start_time": "2024-11-19T14:25:51.087229Z"
    }
   },
   "id": "e6594fe741a815f3",
   "execution_count": 10
  },
  {
   "cell_type": "code",
   "outputs": [
    {
     "name": "stderr",
     "output_type": "stream",
     "text": [
      "find centroids: 100%|██████████| 3115/3115 [00:01<00:00, 2519.49it/s]\n",
      "find edges: 100%|██████████| 3115/3115 [00:01<00:00, 2948.89it/s]\n"
     ]
    }
   ],
   "source": [
    "g1, cls2c = centroids_graph_builder.build_center_graph(g, cms2, cls2n, log=True, name=name)"
   ],
   "metadata": {
    "collapsed": false,
    "ExecuteTime": {
     "end_time": "2024-11-19T14:25:53.443051Z",
     "start_time": "2024-11-19T14:25:51.142948Z"
    }
   },
   "id": "718024858ba64653",
   "execution_count": 11
  },
  {
   "cell_type": "code",
   "outputs": [],
   "source": [
    "path = utils.get_path('pouits', f'points_{GRAPH_ID}.pickle')\n",
    "\n",
    "if os.path.exists(path):\n",
    "    with open(path, 'rb') as fp:\n",
    "        points = pickle.load(fp)\n",
    "        fp.close()\n",
    "else:\n",
    "    points = [utils.get_node_for_initial_graph_v2(g) for _ in trange(1000, desc='generate points')]\n",
    "    with open(path, 'wb') as fp:\n",
    "        pickle.dump(points, fp)\n",
    "        fp.close()"
   ],
   "metadata": {
    "collapsed": false,
    "ExecuteTime": {
     "end_time": "2024-11-19T14:25:53.457089Z",
     "start_time": "2024-11-19T14:25:53.446376Z"
    }
   },
   "id": "950e8ced345d955d",
   "execution_count": 12
  },
  {
   "cell_type": "markdown",
   "source": [],
   "metadata": {
    "collapsed": false
   },
   "id": "a4793ae718e64fac"
  },
  {
   "cell_type": "code",
   "outputs": [
    {
     "data": {
      "text/plain": "  0%|          | 0/3115 [00:00<?, ?it/s]",
      "application/vnd.jupyter.widget-view+json": {
       "version_major": 2,
       "version_minor": 0,
       "model_id": "573e36ce0321450aa94fa11d11f21d97"
      }
     },
     "metadata": {},
     "output_type": "display_data"
    },
    {
     "name": "stderr",
     "output_type": "stream",
     "text": [
      "\n",
      "KeyboardInterrupt\n",
      "\n"
     ]
    }
   ],
   "source": [
    "dst = dict(tqdm(nx.all_pairs_dijkstra_path_length(g1, weight='length'), total=len(g1.nodes())))"
   ],
   "metadata": {
    "collapsed": false,
    "ExecuteTime": {
     "end_time": "2024-11-19T14:26:03.156733Z",
     "start_time": "2024-11-19T14:25:53.458387Z"
    }
   },
   "id": "5b8faebd7d6ecde7",
   "execution_count": 13
  },
  {
   "cell_type": "code",
   "outputs": [],
   "source": [
    "d_clusters = {}\n",
    "d_nodes = {}\n",
    "for u in tqdm(dst):\n",
    "    for v in dst[u]:\n",
    "        d_clusters[u, v] = dst[u][v]\n",
    "        d_clusters[v, u] = dst[u][v]\n",
    "\n",
    "for u, d in tqdm(g.nodes(data=True)):\n",
    "    c = cls2c[d[name]]\n",
    "    l = nx.single_source_dijkstra(g, u, c, weight='length')[0]\n",
    "    d_nodes[u] = l"
   ],
   "metadata": {
    "collapsed": false
   },
   "id": "fba25ba03f4c60b8",
   "execution_count": null
  },
  {
   "cell_type": "code",
   "outputs": [],
   "source": [
    "from scripts import ch\n",
    "\n",
    "# chg = ch.build_ch_graph(g)"
   ],
   "metadata": {
    "collapsed": false
   },
   "id": "29c90daf9d7d22bc",
   "execution_count": null
  },
  {
   "cell_type": "code",
   "outputs": [],
   "source": [
    "nodes = g.nodes()\n",
    "\n",
    "def func(u, v):\n",
    "    c1 = nodes[u]['cluster']\n",
    "    c2 = nodes[v]['cluster']    \n",
    "    pi_l = abs(d_clusters[c1,c2] - d_nodes[v])\n",
    "    pil1 = abs(d_clusters[c1,c2] - d_nodes[u])\n",
    "    return max(abs(pi_l - d_nodes[u]),abs(pil1 - d_nodes[v]))"
   ],
   "metadata": {
    "collapsed": false
   },
   "id": "cfc8942099d85fc",
   "execution_count": null
  },
  {
   "cell_type": "code",
   "outputs": [],
   "source": [
    "\n",
    "\n",
    "def get_path(u1, u2, edges_to_nodes):\n",
    "    if (u1, u2) in edges_to_nodes:\n",
    "        u = edges_to_nodes[u1, u2]\n",
    "        return get_path(u1, u, edges_to_nodes) + get_path(u, u2, edges_to_nodes)\n",
    "    return [u1]\n",
    "\n",
    "\n",
    "def ch_pfa(\n",
    "        graph: ch.ChDiGraph,\n",
    "        start: int,\n",
    "        end: int,\n",
    "        cms: set[int] | None = None\n",
    ") -> tuple[float, list[int]]:\n",
    "    if start == end:\n",
    "        return 0, [start]\n",
    "    adjacency = graph.dg._adj\n",
    "    nodes = graph.dg.nodes()\n",
    "    edges_to_nodes = graph.edges_to_node\n",
    "    push = heappush\n",
    "    pop = heappop\n",
    "    dist = (set(), set())\n",
    "    fringe = ([], [])\n",
    "    c = count()\n",
    "\n",
    "    push(fringe[0], (0, next(c),0, 0, start))\n",
    "    push(fringe[1], (0, next(c),0, 0, end))\n",
    "\n",
    "    heads = [0, 0]\n",
    "    seens = ({start: (0, None, 0)}, {end: (0, None, 0)})\n",
    "    union_node = None\n",
    "    union_dst = float('inf')\n",
    "    dir = 1\n",
    "    while fringe[0] or fringe[1]:\n",
    "        if fringe[0] and fringe[1]:\n",
    "            dir = 1 - dir\n",
    "        elif fringe[0]:\n",
    "            dir = 0\n",
    "        else:\n",
    "            dir = 1\n",
    "\n",
    "        (_, _,d, n, v) = pop(fringe[dir])\n",
    "\n",
    "        heads[dir] = d\n",
    "\n",
    "        if v in dist[dir]:\n",
    "            continue\n",
    "\n",
    "        dist[dir].add(v)\n",
    "\n",
    "        for u, l in adjacency[v].items():\n",
    "            vu_dist = d + l['length']\n",
    "            if u not in dist[dir] and (u not in seens[dir] or seens[dir][u][0] > vu_dist):\n",
    "                seens[dir][u] = (vu_dist, v, n + 1)\n",
    "                if dir == 0:\n",
    "                    h = func(u, end)\n",
    "                else:\n",
    "                    h = func(start, u)\n",
    "                push(fringe[dir], (vu_dist + h, next(c),vu_dist,  n + 1, u))\n",
    "                if u in seens[1 - dir]:\n",
    "                    tpl = seens[1 - dir][u]\n",
    "                    dd = tpl[0] + vu_dist\n",
    "                    if dd < union_dst:\n",
    "                        union_dst = dd\n",
    "                        union_node = u\n",
    "        if min(heads) > union_dst:\n",
    "            break\n",
    "    path = []\n",
    "    e = union_node\n",
    "    while seens[0][e][1] is not None:\n",
    "        e1 = seens[0][e][1]\n",
    "        p = get_path(e1, e, edges_to_nodes)\n",
    "        path = p + path\n",
    "        e = e1\n",
    "    e = union_node\n",
    "    while seens[1][e][1] is not None:\n",
    "        e1 = seens[1][e][1]\n",
    "        p = get_path(e, e1, edges_to_nodes)\n",
    "        path += p\n",
    "        e = e1\n",
    "    path += [end]\n",
    "    return union_dst, path\n"
   ],
   "metadata": {
    "collapsed": false
   },
   "id": "62a682a1c23dbf14",
   "execution_count": null
  },
  {
   "cell_type": "code",
   "outputs": [],
   "source": [],
   "metadata": {
    "collapsed": false
   },
   "id": "c2b78f0ab2e2659",
   "execution_count": null
  },
  {
   "cell_type": "code",
   "outputs": [],
   "source": [
    "\n",
    "\n",
    "def bi_dijkstra_pfa(graph: nx.Graph,\n",
    "                    start: int,\n",
    "                    end: int\n",
    "                    ) -> tuple[float, list[int]]:\n",
    "    if start == end:\n",
    "        return 0, [start]\n",
    "    push = heappush\n",
    "    pop = heappop\n",
    "    dist = ({start: (0, None)}, {end: (0, None)})\n",
    "    fringe = ([], [])\n",
    "    c = count()\n",
    "\n",
    "    adjacency = graph._adj\n",
    "\n",
    "    push(fringe[0], (0, next(c), 0, start))\n",
    "    push(fringe[1], (0, next(c), 0, end))\n",
    "\n",
    "    union_node = None\n",
    "    union_dst = float('inf')\n",
    "    while fringe[0] and fringe[1]:\n",
    "        (_, _, d1, v1) = pop(fringe[0])\n",
    "        (_, _, d2, v2) = pop(fringe[1])\n",
    "        for u, e in adjacency[v1].items():\n",
    "            vu_dist = d1 + e['length']\n",
    "            if u not in dist[0] or dist[0][u][0] > vu_dist:\n",
    "                dist[0][u] = (vu_dist, v1)\n",
    "                push(fringe[0], (vu_dist + func(u, end), next(c), vu_dist, u))\n",
    "                if u in dist[1]:\n",
    "                    dd = dist[1][u][0] + dist[0][u][0]\n",
    "                    if dd < union_dst:\n",
    "                        union_dst = dd\n",
    "                        union_node = u\n",
    "\n",
    "        for u, e in adjacency[v2].items():\n",
    "            vu_dist = d2 + e['length']\n",
    "            if u not in dist[1] or dist[1][u][0] > vu_dist:\n",
    "                dist[1][u] = (vu_dist, v2)\n",
    "                push(fringe[1], (vu_dist + func(start, u), next(c), vu_dist, u))\n",
    "                if u in dist[0]:\n",
    "                    dd = dist[0][u][0] + dist[1][u][0]\n",
    "                    if dd < union_dst:\n",
    "                        union_dst = dd\n",
    "                        union_node = u\n",
    "\n",
    "        if union_node is not None:\n",
    "            break\n",
    "\n",
    "    d1, _ = dist[0][union_node]\n",
    "    d2, _ = dist[1][union_node]\n",
    "    path = []\n",
    "    \n",
    "    e = union_node\n",
    "    while dist[0][e][1] is not None:\n",
    "        path = [e] + path\n",
    "        e = dist[0][e][1]\n",
    "    path[0] = e\n",
    "\n",
    "    e = union_node\n",
    "    while dist[1][e][1] is not None:\n",
    "        path+= [e]\n",
    "        e = dist[1][e][1]\n",
    "    path[-1] = e\n",
    "    return union_dst, path\n"
   ],
   "metadata": {
    "collapsed": false
   },
   "id": "d339fff4a9547a5e",
   "execution_count": null
  },
  {
   "cell_type": "code",
   "outputs": [],
   "source": [
    "\n",
    "\n",
    "NUM_ITERATION = 2  # чтобы уменьшить ошибку при вычислении времени выполнения, при каждом замере время меряется для NUM_ITERATION повторений\n",
    "WORKER = 4  # количество потоков\n",
    "\n",
    "\n",
    "def do_calc(data):\n",
    "    pps, i = data\n",
    "\n",
    "    stat = {}\n",
    "    stat['l'] = []\n",
    "    stat['h_l'] = []\n",
    "    stat['p'] = []\n",
    "    stat['h_p'] = []\n",
    "    stat['time_l'] = []\n",
    "    stat['time_h'] = []\n",
    "\n",
    "    stat['delta'] = []\n",
    "    # чисто чтобы tqdm нормально прогрузился \n",
    "    sleep(i / 10)\n",
    "    print('start', i)\n",
    "\n",
    "    for p1, p2 in tqdm(pps, desc='find paths', position=i):\n",
    "        if (p1, p2) in stat:\n",
    "            continue\n",
    "        # класический дейкстра\n",
    "        l, p = None, None\n",
    "        start = time.time()\n",
    "        for i in range(NUM_ITERATION):\n",
    "            l, p = nx.single_source_dijkstra(g, p1, p2, weight='length')\n",
    "        time_l = time.time() - start\n",
    "\n",
    "        # иерархический\n",
    "        h_l, h_p = None, None\n",
    "        start = time.time()\n",
    "        for _ in range(NUM_ITERATION):\n",
    "            # h_l, h_p = bi_dijkstra_pfa(g, p1,p2) #find_path_length_h(g, g1,cms, p1, p2)\n",
    "            h_l, h_p = bi_dijkstra_pfa(g, p1, p2)  #find_path_length_h(g, g1,cms, p1, p2)\n",
    "            # h_l, h_p = nx.astar_path_length(g, p1, p2, heuristic=func, weight='length'),[]  #find_path_length_h(g, g1,cms, p1, p2)\n",
    "            # h_l,h_p=ch_pfa(chg, p1,p2)\n",
    "        time_h = time.time() - start\n",
    "\n",
    "        delta = (h_l - l) / l * 100\n",
    "        stat['l'].append(l)  # длина обычного пути\n",
    "        stat['h_l'].append(h_l)  # длина иерархического пути\n",
    "        stat['p'].append(p)  # обычный путь\n",
    "        stat['h_p'].append(h_p)  # иерархический путь\n",
    "        stat['delta'].append(delta)  # разница в длине\n",
    "        stat['time_l'].append(time_l)  # обычное время \n",
    "        stat['time_h'].append(time_h)  # иерархическое\n",
    "    return stat\n",
    "\n",
    "\n",
    "data = [([p for p in points[i::WORKER]], i) for i in range(WORKER)]\n",
    "# do_calc(data[0])\n",
    "with Pool(WORKER) as p:\n",
    "    res = p.map(do_calc, data)\n",
    "\n",
    "stat = {}\n",
    "for l in res:\n",
    "    for d in l:\n",
    "        if d not in stat:\n",
    "            stat[d] = []\n",
    "        stat[d].extend(l[d])\n",
    "print(f\"err_mean: {np.mean(stat['delta']):.2f}\")\n",
    "print(f\"err_min: {np.min(stat['delta']):.2f}\")\n",
    "print(f\"err_max: { np.max(stat['delta']):.2f}\",)\n",
    "print(np.mean(np.array(stat['time_l']) / np.array(stat['time_h'])))"
   ],
   "metadata": {
    "collapsed": false
   },
   "id": "d7674e5d2cbc4bb2",
   "execution_count": null
  },
  {
   "cell_type": "code",
   "outputs": [],
   "source": [
    "len(g.nodes), len(g.edges), nx.density(g)"
   ],
   "metadata": {
    "collapsed": false
   },
   "id": "f2f9573ae8b0be63",
   "execution_count": null
  },
  {
   "cell_type": "code",
   "outputs": [],
   "source": [
    "p1,p2 = points[0]"
   ],
   "metadata": {
    "collapsed": false,
    "ExecuteTime": {
     "end_time": "2024-11-19T14:26:03.203170Z",
     "start_time": "2024-11-19T14:26:03.202464Z"
    }
   },
   "id": "6494171739b16290",
   "execution_count": null
  },
  {
   "cell_type": "code",
   "outputs": [],
   "source": [],
   "metadata": {
    "collapsed": false,
    "ExecuteTime": {
     "end_time": "2024-11-19T14:26:03.207364Z",
     "start_time": "2024-11-19T14:26:03.206871Z"
    }
   },
   "id": "a41c93a4c194ce26"
  }
 ],
 "metadata": {
  "kernelspec": {
   "display_name": "Python 3",
   "language": "python",
   "name": "python3"
  },
  "language_info": {
   "codemirror_mode": {
    "name": "ipython",
    "version": 2
   },
   "file_extension": ".py",
   "mimetype": "text/x-python",
   "name": "python",
   "nbconvert_exporter": "python",
   "pygments_lexer": "ipython2",
   "version": "2.7.6"
  }
 },
 "nbformat": 4,
 "nbformat_minor": 5
}
