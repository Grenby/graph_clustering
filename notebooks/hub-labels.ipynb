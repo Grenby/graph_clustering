{
 "cells": [
  {
   "cell_type": "code",
   "execution_count": 1,
   "id": "92641b5d828c9de8",
   "metadata": {
    "collapsed": false,
    "ExecuteTime": {
     "end_time": "2024-12-21T13:38:00.302478Z",
     "start_time": "2024-12-21T13:37:59.702616Z"
    }
   },
   "outputs": [],
   "source": [
    "import logging\n",
    "import sys\n",
    "\n",
    "import matplotlib.pyplot as plt\n",
    "from scripts.pfa import Path\n",
    "\n",
    "root = logging.getLogger()\n",
    "root.setLevel(logging.INFO)\n",
    "\n",
    "handler = logging.StreamHandler(sys.stdout)\n",
    "handler.setLevel(logging.INFO)\n",
    "formatter = logging.Formatter('%(asctime)s - %(name)s - %(levelname)s - %(message)s')\n",
    "handler.setFormatter(formatter)\n",
    "root.addHandler(handler)"
   ]
  },
  {
   "cell_type": "code",
   "execution_count": 2,
   "id": "679e292ddcafdd40",
   "metadata": {
    "collapsed": false,
    "ExecuteTime": {
     "end_time": "2024-12-21T13:38:01.127852Z",
     "start_time": "2024-12-21T13:38:00.303711Z"
    }
   },
   "outputs": [],
   "source": [
    "import sys\n",
    "\n",
    "sys.path.append('../scripts')\n",
    "sys.path.append('../')\n",
    "from scripts import centroids_graph_builder\n",
    "from time import sleep\n",
    "from multiprocessing import Pool\n",
    "\n",
    "import numpy as np\n",
    "from tqdm.notebook import trange, tqdm\n",
    "from scripts import graph_osm_loader, utils\n",
    "\n",
    "import networkx as nx\n",
    "import osmnx as ox\n",
    "from heapq import heappop, heappush\n",
    "from itertools import count\n",
    "from scripts import clustering, pfa, pipeline\n",
    "from scripts.path_findings.dijkstra_pfa import Dijkstra"
   ]
  },
  {
   "cell_type": "code",
   "execution_count": 3,
   "id": "34f910ca623208b5",
   "metadata": {
    "collapsed": false,
    "ExecuteTime": {
     "end_time": "2024-12-21T13:38:01.132177Z",
     "start_time": "2024-12-21T13:38:01.128536Z"
    }
   },
   "outputs": [],
   "source": [
    "def get_rand_graph(N, p):\n",
    "    G = nx.fast_gnp_random_graph(N, p, directed=False)\n",
    "    if not nx.is_connected(G):\n",
    "        tmp = []\n",
    "        for n in nx.connected_components(G):\n",
    "            for q in n:\n",
    "                tmp.append(q)\n",
    "                break\n",
    "        for i in range(len(tmp) - 1):\n",
    "            G.add_edge(tmp[i], tmp[i + 1])\n",
    "    for e in G.edges:\n",
    "        G.add_edge(e[0], e[1], length=np.random.random_sample() + 0.001)\n",
    "    for u in G.nodes:\n",
    "        if u in G[u]:\n",
    "            G.remove_edge(u, u)\n",
    "    return G"
   ]
  },
  {
   "cell_type": "code",
   "outputs": [],
   "source": [
    "NUM_ITERATION = 10  # чтобы уменьшить ошибку при вычислении времени выполнения, при каждом замере время меряется для NUM_ITERATION повторений\n",
    "WORKER = 5  # количество потоков"
   ],
   "metadata": {
    "collapsed": false,
    "ExecuteTime": {
     "end_time": "2024-12-21T13:38:01.134866Z",
     "start_time": "2024-12-21T13:38:01.133051Z"
    }
   },
   "id": "78e5833ef3ec5a4c",
   "execution_count": 4
  },
  {
   "cell_type": "code",
   "execution_count": 5,
   "id": "1b60f4b11aad1567",
   "metadata": {
    "collapsed": false,
    "ExecuteTime": {
     "end_time": "2024-12-21T13:38:01.161042Z",
     "start_time": "2024-12-21T13:38:01.135794Z"
    }
   },
   "outputs": [
    {
     "name": "stdout",
     "output_type": "stream",
     "text": [
      "17940 27061\n"
     ]
    }
   ],
   "source": [
    "GRAPH_ID = 'R2555133'  # R13470549 R2555133 R3766483\n",
    "# примеры id есть в graph_osm_loader.py\n",
    "# g = get_rand_graph(1000, 0.1)  # загрузка графа\n",
    "N = 10000\n",
    "p = 3 / N\n",
    "# g = get_rand_graph(N,p)\n",
    "# g = get_graph()\n",
    "g = graph_osm_loader.get_graph(GRAPH_ID)\n",
    "print(len(g.nodes), len(g.edges))"
   ]
  },
  {
   "cell_type": "code",
   "outputs": [],
   "source": [
    "g.remove_edges_from(nx.selfloop_edges(g))"
   ],
   "metadata": {
    "collapsed": false,
    "ExecuteTime": {
     "end_time": "2024-12-21T13:38:01.164960Z",
     "start_time": "2024-12-21T13:38:01.161681Z"
    }
   },
   "id": "af782e49baab793a",
   "execution_count": 6
  },
  {
   "cell_type": "code",
   "outputs": [
    {
     "name": "stdout",
     "output_type": "stream",
     "text": [
      "2024-12-21 16:38:02,241 - root - INFO - communities: 497\n"
     ]
    },
    {
     "name": "stderr",
     "output_type": "stream",
     "text": [
      "100%|██████████| 100/100 [00:27<00:00,  3.62it/s]"
     ]
    },
    {
     "name": "stdout",
     "output_type": "stream",
     "text": [
      "497\n"
     ]
    },
    {
     "name": "stderr",
     "output_type": "stream",
     "text": [
      "\n"
     ]
    }
   ],
   "source": [
    "cms = clustering.resolve_k_means_communities(g, resolution=10, max_iteration=100, cluster_name='cluster',\n",
    "                                             print_log=True)\n",
    "print(len(cms))"
   ],
   "metadata": {
    "collapsed": false,
    "ExecuteTime": {
     "end_time": "2024-12-21T13:38:29.862164Z",
     "start_time": "2024-12-21T13:38:01.165516Z"
    }
   },
   "id": "64b0c1b8f91aeb84",
   "execution_count": 7
  },
  {
   "cell_type": "code",
   "outputs": [],
   "source": [
    "cls2hubs = {}\n",
    "cls2n = centroids_graph_builder.get_cls2n(g)\n",
    "for i, c in enumerate(cms):\n",
    "    for j in cls2n[i]:\n",
    "        if (i, j) in cls2hubs:\n",
    "            continue\n",
    "        a = set()\n",
    "        b = set()\n",
    "        for u in c:\n",
    "            for v in g[u]:\n",
    "                if v in cms[j]:\n",
    "                    a.add(u)\n",
    "                    b.add(v)\n",
    "        cls2hubs[i, j] = a if len(a) < len(b) else b\n",
    "        cls2hubs[j, i] = a if len(a) < len(b) else b"
   ],
   "metadata": {
    "collapsed": false,
    "ExecuteTime": {
     "end_time": "2024-12-21T13:38:29.962019Z",
     "start_time": "2024-12-21T13:38:29.863023Z"
    }
   },
   "id": "1ae3134a9a2e6ae2",
   "execution_count": 8
  },
  {
   "cell_type": "code",
   "outputs": [],
   "source": [
    "cls2hub = {}  # = centroids_graph_builder.get_cls2hubs(g)\n",
    "for i, j in cls2hubs:\n",
    "    if i not in cls2hub:\n",
    "        cls2hub[i] = set()\n",
    "    cls2hub[i].update(cls2hubs[i, j])\n",
    "del cls2hubs"
   ],
   "metadata": {
    "collapsed": false,
    "ExecuteTime": {
     "end_time": "2024-12-21T13:38:29.968091Z",
     "start_time": "2024-12-21T13:38:29.962928Z"
    }
   },
   "id": "ad09487d7d40493e",
   "execution_count": 9
  },
  {
   "cell_type": "code",
   "outputs": [
    {
     "data": {
      "text/plain": "np.float64(11.193158953722333)"
     },
     "execution_count": 10,
     "metadata": {},
     "output_type": "execute_result"
    }
   ],
   "source": [
    "np.mean([len(c) for c in cls2hub.values()])"
   ],
   "metadata": {
    "collapsed": false,
    "ExecuteTime": {
     "end_time": "2024-12-21T13:38:29.973450Z",
     "start_time": "2024-12-21T13:38:29.968741Z"
    }
   },
   "id": "6a9d5ba57ebe9672",
   "execution_count": 10
  },
  {
   "cell_type": "code",
   "outputs": [],
   "source": [
    "hubs = set([u for v in cls2hub.values() for u in v])"
   ],
   "metadata": {
    "collapsed": false,
    "ExecuteTime": {
     "end_time": "2024-12-21T13:38:29.977098Z",
     "start_time": "2024-12-21T13:38:29.974083Z"
    }
   },
   "id": "464c5ebab86fa68",
   "execution_count": 11
  },
  {
   "cell_type": "code",
   "outputs": [],
   "source": [
    "hub2id = {h: i for i, h in enumerate(hubs)}\n",
    "id2hub = {i: h for i, h in enumerate(hubs)}"
   ],
   "metadata": {
    "collapsed": false,
    "ExecuteTime": {
     "end_time": "2024-12-21T13:38:29.980941Z",
     "start_time": "2024-12-21T13:38:29.977868Z"
    }
   },
   "id": "5bc9d050aa510b6d",
   "execution_count": 12
  },
  {
   "cell_type": "code",
   "outputs": [
    {
     "data": {
      "text/plain": "2710"
     },
     "execution_count": 13,
     "metadata": {},
     "output_type": "execute_result"
    }
   ],
   "source": [
    "len(set(hubs))"
   ],
   "metadata": {
    "collapsed": false,
    "ExecuteTime": {
     "end_time": "2024-12-21T13:38:29.984273Z",
     "start_time": "2024-12-21T13:38:29.981736Z"
    }
   },
   "id": "d5ca0891f5788ef3",
   "execution_count": 13
  },
  {
   "cell_type": "code",
   "outputs": [],
   "source": [
    "def dijkstra_pfa_to_set(graph: nx.Graph,\n",
    "                        start: int,\n",
    "                        ends: set[int]\n",
    "                        ) -> \\\n",
    "        tuple[float, list[int]]:\n",
    "    adjacency = graph._adj\n",
    "    c = count()\n",
    "    push = heappush\n",
    "    pop = heappop\n",
    "    dist = {}\n",
    "    fringe = []\n",
    "\n",
    "    dist[start] = (0.0, None)\n",
    "    push(fringe, (0.0, next(c), start))\n",
    "    visited = set()\n",
    "    \n",
    "    while fringe:\n",
    "        (d, _, v) = pop(fringe)\n",
    "        if v in ends:\n",
    "            visited.add(v)\n",
    "        if len(visited) == len(ends):\n",
    "            break\n",
    "        \n",
    "        for u, e in adjacency[v].items():\n",
    "            vu_dist = d + e['length']\n",
    "            if u not in dist or dist[u][0] > vu_dist:\n",
    "                dist[u] = (vu_dist, v)\n",
    "                push(fringe, (vu_dist, next(c), u))\n",
    "    return dist\n"
   ],
   "metadata": {
    "collapsed": false,
    "ExecuteTime": {
     "end_time": "2024-12-21T13:38:29.989241Z",
     "start_time": "2024-12-21T13:38:29.985667Z"
    }
   },
   "id": "6966826e5e6cf3ff",
   "execution_count": 14
  },
  {
   "cell_type": "code",
   "outputs": [
    {
     "data": {
      "text/plain": "  0%|          | 0/5 [00:00<?, ?it/s]",
      "application/vnd.jupyter.widget-view+json": {
       "version_major": 2,
       "version_minor": 0,
       "model_id": "dba220fc21bf4498a003e694cf5fd34a"
      }
     },
     "metadata": {},
     "output_type": "display_data"
    }
   ],
   "source": [
    "def cals(data_partitions):\n",
    "    part, hubs, l = data_partitions\n",
    "    dst = np.zeros((l, l))\n",
    "\n",
    "    for u in part:\n",
    "        dst_u = dijkstra_pfa_to_set(g, u, hubs)\n",
    "        for v in hubs:\n",
    "            dst[hub2id[u], hub2id[v]] = dst_u[v][0]\n",
    "    return dst\n",
    "\n",
    "\n",
    "data = [(list(hubs)[i::WORKER], hubs, len(hubs)) for i in range(WORKER)]\n",
    "with Pool(WORKER) as p:\n",
    "    dst = sum(tqdm(p.imap_unordered(cals, data), total=len(data)))"
   ],
   "metadata": {
    "collapsed": false,
    "ExecuteTime": {
     "end_time": "2024-12-21T13:38:50.055403Z",
     "start_time": "2024-12-21T13:38:29.989962Z"
    }
   },
   "id": "e17f4cedcf254346",
   "execution_count": 15
  },
  {
   "cell_type": "code",
   "outputs": [
    {
     "data": {
      "text/plain": "  0%|          | 0/5 [00:00<?, ?it/s]",
      "application/vnd.jupyter.widget-view+json": {
       "version_major": 2,
       "version_minor": 0,
       "model_id": "0ce2986cf26d424dafedb9f2bce14a27"
      }
     },
     "metadata": {},
     "output_type": "display_data"
    }
   ],
   "source": [
    "def cals(data_partitions):\n",
    "    part, l = data_partitions\n",
    "    res = {}\n",
    "    for u in part:\n",
    "        dst_u = dijkstra_pfa_to_set(g, u, cls2hub[g.nodes()[u]['cluster']])\n",
    "        for v in cls2hub[g.nodes()[u]['cluster']]:\n",
    "            node = v\n",
    "            path = [node]\n",
    "            while dst_u[node][1]is not None:\n",
    "                node = dst_u[node][1]\n",
    "                path.append(node)\n",
    "            res[u, v] = dst_u[v][0]#, set(g.nodes()[p]['cluster'] for p in path)\n",
    "    return res\n",
    "\n",
    "data = [(list(g.nodes)[i::WORKER], hubs) for i in range(WORKER)]\n",
    "with Pool(WORKER) as p:\n",
    "    d_nodes = {k: v for d in tqdm(p.imap_unordered(cals, data), total=len(data)) for k, v in d.items()}"
   ],
   "metadata": {
    "collapsed": false,
    "ExecuteTime": {
     "end_time": "2024-12-21T13:38:51.140167Z",
     "start_time": "2024-12-21T13:38:50.056229Z"
    }
   },
   "id": "bad578e4001b961a",
   "execution_count": 16
  },
  {
   "cell_type": "code",
   "outputs": [
    {
     "data": {
      "text/plain": "(43.203041076660156, 56.03117370605469)"
     },
     "execution_count": 17,
     "metadata": {},
     "output_type": "execute_result"
    }
   ],
   "source": [
    "from pympler.asizeof import asizeof\n",
    "asizeof(d_nodes)/1024/1024, asizeof(dst)/1024/1024"
   ],
   "metadata": {
    "collapsed": false,
    "ExecuteTime": {
     "end_time": "2024-12-21T13:38:52.144257Z",
     "start_time": "2024-12-21T13:38:51.140903Z"
    }
   },
   "id": "6b85badd40837657",
   "execution_count": 17
  },
  {
   "cell_type": "code",
   "outputs": [],
   "source": [
    "nodes = g.nodes()   "
   ],
   "metadata": {
    "collapsed": false,
    "ExecuteTime": {
     "end_time": "2024-12-21T13:38:52.147055Z",
     "start_time": "2024-12-21T13:38:52.144888Z"
    }
   },
   "id": "87cde8873b4377fb",
   "execution_count": 18
  },
  {
   "cell_type": "code",
   "outputs": [],
   "source": [
    "def distance(g, u, v):\n",
    "    c1, c2 = nodes[u]['cluster'], nodes[v]['cluster']\n",
    "    if c1 == c2:\n",
    "        return nx.single_source_dijkstra(g,u,v,weight='length')\n",
    "    return min(d_nodes[u, h1] + d_nodes[v, h2] + dst[hub2id[h1], hub2id[h2]] for h1 in cls2hub[c1] for h2 in cls2hub[c2]), []"
   ],
   "metadata": {
    "collapsed": false,
    "ExecuteTime": {
     "end_time": "2024-12-21T13:43:26.454087Z",
     "start_time": "2024-12-21T13:43:26.449674Z"
    }
   },
   "id": "aaa85e3ce1ab4772",
   "execution_count": 40
  },
  {
   "cell_type": "code",
   "outputs": [],
   "source": [
    "def dijkstra_pfa(graph: nx.Graph,\n",
    "                 start: int,\n",
    "                 end: int) -> \\\n",
    "        tuple[float, list[int]]:\n",
    "    if start == end:\n",
    "        return 0, [start]\n",
    "    adjacency = graph._adj\n",
    "    nodes = graph.nodes()\n",
    "    c = count()\n",
    "    push = heappush\n",
    "    pop = heappop\n",
    "    dist = {}\n",
    "    pred = {}\n",
    "    fringe = []\n",
    "    push(fringe, (0,0.0, next(c), 0, start, None))\n",
    "    while fringe:\n",
    "        (_,d, _, n, v, p) = pop(fringe)\n",
    "        if v in dist:\n",
    "            continue\n",
    "        dist[v] = (d, n)\n",
    "        pred[v] = p\n",
    "        if v == end:\n",
    "            break\n",
    "        for u, e in adjacency[v].items():\n",
    "            \n",
    "            l = distance(g, u, end)[0]\n",
    "            vu_dist = d + e['length']\n",
    "            \n",
    "            if u not in dist:\n",
    "                push(fringe, (vu_dist + l,vu_dist, next(c), n + 1, u, v))\n",
    "    d, n = dist[end]\n",
    "    n += 1\n",
    "    path = [None] * n\n",
    "    i = n - 1\n",
    "    e = end\n",
    "    while i >= 0:\n",
    "        path[i] = e\n",
    "        i -= 1\n",
    "        e = pred[e]\n",
    "    return d, path\n"
   ],
   "metadata": {
    "collapsed": false,
    "ExecuteTime": {
     "end_time": "2024-12-21T13:43:26.803281Z",
     "start_time": "2024-12-21T13:43:26.796071Z"
    }
   },
   "id": "7b8d6a3c475931b1",
   "execution_count": 41
  },
  {
   "cell_type": "code",
   "outputs": [],
   "source": [
    "points =utils.generate_points(g)"
   ],
   "metadata": {
    "collapsed": false,
    "ExecuteTime": {
     "end_time": "2024-12-21T13:43:27.270491Z",
     "start_time": "2024-12-21T13:43:27.049381Z"
    }
   },
   "id": "c4102bdcb9677bd8",
   "execution_count": 42
  },
  {
   "cell_type": "code",
   "outputs": [],
   "source": [
    "class Pfa(pfa.PathFinding):    \n",
    "    def find_path(self, start: int, end: int)-> Path:\n",
    "        return distance(self.g, start, end)"
   ],
   "metadata": {
    "collapsed": false,
    "ExecuteTime": {
     "end_time": "2024-12-21T13:43:27.406767Z",
     "start_time": "2024-12-21T13:43:27.404085Z"
    }
   },
   "id": "ade84d775735b9d3",
   "execution_count": 43
  },
  {
   "cell_type": "code",
   "outputs": [
    {
     "name": "stdout",
     "output_type": "stream",
     "text": [
      "start 0\n"
     ]
    },
    {
     "data": {
      "text/plain": "find paths:   0%|          | 0/250 [00:00<?, ?it/s]",
      "application/vnd.jupyter.widget-view+json": {
       "version_major": 2,
       "version_minor": 0,
       "model_id": "f99bbb1ef4944b948d21fc9bacde05ab"
      }
     },
     "metadata": {},
     "output_type": "display_data"
    },
    {
     "name": "stdout",
     "output_type": "stream",
     "text": [
      "start 1\n"
     ]
    },
    {
     "data": {
      "text/plain": "find paths:   0%|          | 0/250 [00:00<?, ?it/s]",
      "application/vnd.jupyter.widget-view+json": {
       "version_major": 2,
       "version_minor": 0,
       "model_id": "1db0674e729e40a2a1e50f377a4f3f0f"
      }
     },
     "metadata": {},
     "output_type": "display_data"
    },
    {
     "name": "stdout",
     "output_type": "stream",
     "text": [
      "start 2\n"
     ]
    },
    {
     "data": {
      "text/plain": "find paths:   0%|          | 0/250 [00:00<?, ?it/s]",
      "application/vnd.jupyter.widget-view+json": {
       "version_major": 2,
       "version_minor": 0,
       "model_id": "7a77ce81778140a397bf254bb5377c49"
      }
     },
     "metadata": {},
     "output_type": "display_data"
    },
    {
     "name": "stdout",
     "output_type": "stream",
     "text": [
      "start 3\n"
     ]
    },
    {
     "data": {
      "text/plain": "find paths:   0%|          | 0/250 [00:00<?, ?it/s]",
      "application/vnd.jupyter.widget-view+json": {
       "version_major": 2,
       "version_minor": 0,
       "model_id": "c8a3493a7dcc435c84200de4c34ad689"
      }
     },
     "metadata": {},
     "output_type": "display_data"
    }
   ],
   "source": [
    "stat = pipeline.PfaComparator(\n",
    "    baseline=Dijkstra(g),\n",
    "    test_algorithm=Pfa(g),\n",
    "    points=points\n",
    ").compare()"
   ],
   "metadata": {
    "collapsed": false,
    "ExecuteTime": {
     "end_time": "2024-12-21T13:43:47.770125Z",
     "start_time": "2024-12-21T13:43:27.685616Z"
    }
   },
   "id": "d2f89344a876bf23",
   "execution_count": 44
  },
  {
   "cell_type": "code",
   "outputs": [
    {
     "data": {
      "text/plain": "{'whiskers': [<matplotlib.lines.Line2D at 0x7d4efad0f560>,\n  <matplotlib.lines.Line2D at 0x7d4efad0ec00>],\n 'caps': [<matplotlib.lines.Line2D at 0x7d4efad0ce00>,\n  <matplotlib.lines.Line2D at 0x7d4efad0e360>],\n 'boxes': [<matplotlib.lines.Line2D at 0x7d4efad0ede0>],\n 'medians': [<matplotlib.lines.Line2D at 0x7d4efa8c5b50>],\n 'fliers': [<matplotlib.lines.Line2D at 0x7d4efa8c5370>],\n 'means': []}"
     },
     "execution_count": 45,
     "metadata": {},
     "output_type": "execute_result"
    },
    {
     "data": {
      "text/plain": "<Figure size 640x480 with 1 Axes>",
      "image/png": "[encoded data removed]"
     },
     "metadata": {},
     "output_type": "display_data"
    }
   ],
   "source": [
    "acceleration = stat.get_acceleration()\n",
    "plt.boxplot(acceleration)"
   ],
   "metadata": {
    "collapsed": false,
    "ExecuteTime": {
     "end_time": "2024-12-21T13:43:47.813170Z",
     "start_time": "2024-12-21T13:43:47.771135Z"
    }
   },
   "id": "a80092fd1889e9c1",
   "execution_count": 45
  },
  {
   "cell_type": "code",
   "outputs": [
    {
     "data": {
      "text/plain": "[np.float64(17020.936993772062),\n np.float64(9496.71636288793),\n np.float64(12461.209981304186),\n np.float64(20840.906123959827),\n np.float64(17388.590341729367),\n np.float64(14232.580678906543),\n np.float64(16350.834579588047),\n np.float64(5144.188539886693),\n np.float64(15378.980994695296),\n np.float64(11030.720133843886),\n np.float64(7387.463623579858),\n np.float64(22700.805523683375),\n np.float64(5753.2566020200575),\n np.float64(18888.242025191852),\n np.float64(17067.459147148653),\n np.float64(14539.070716753087),\n np.float64(10182.682430537687),\n np.float64(15490.786559253564),\n np.float64(19037.273564466563),\n np.float64(31243.841198495444),\n np.float64(9050.563132317493),\n np.float64(16142.285924775591),\n np.float64(9626.057017763102),\n np.float64(10914.150160108966),\n np.float64(14985.594348366265),\n np.float64(23302.91983602313),\n np.float64(19457.76370156592),\n np.float64(19641.548675822694),\n np.float64(11322.079785710008),\n np.float64(9512.144628899665),\n np.float64(21479.920050462417),\n np.float64(14906.061798292156),\n np.float64(4882.347609097105),\n np.float64(36408.28572193966),\n np.float64(1915.5314881048002),\n np.float64(16789.215625581077),\n np.float64(22145.4924910778),\n np.float64(16427.221333101945),\n np.float64(24457.33350994457),\n np.float64(6451.962304330305),\n np.float64(21036.417528662678),\n np.float64(17119.61971342898),\n np.float64(2749.531722433345),\n np.float64(9454.495652544158),\n np.float64(23210.306272423877),\n np.float64(8313.57264865732),\n np.float64(18174.41655164528),\n np.float64(35980.270501071755),\n np.float64(3360.0391454435085),\n np.float64(13164.929024379766),\n np.float64(9550.953075217274),\n np.float64(11955.245560412837),\n np.float64(17471.051321982584),\n np.float64(47848.95759422068),\n np.float64(35763.81395917291),\n np.float64(12040.079809835937),\n np.float64(16332.399974676457),\n np.float64(6115.900604425158),\n np.float64(1563.6401353785072),\n np.float64(14004.105627562032),\n np.float64(24648.891598294475),\n np.float64(9890.009924150656),\n np.float64(7940.66568117222),\n np.float64(22377.455285974418),\n np.float64(29418.5163103197),\n np.float64(12973.566441907347),\n np.float64(8651.349699048766),\n np.float64(6253.1382273223935),\n np.float64(12130.604438015655),\n np.float64(15742.711937083915),\n np.float64(7468.790852472051),\n np.float64(7609.61780687715),\n np.float64(17995.58883149597),\n np.float64(23468.264855224785),\n np.float64(7812.621421913727),\n np.float64(7644.8929888447),\n np.float64(6933.112737826681),\n np.float64(6881.766741688745),\n np.float64(13628.630261705186),\n np.float64(15359.718175737868),\n np.float64(23588.148429278026),\n np.float64(5647.975371960407),\n np.float64(4303.944269832828),\n np.float64(23294.66806276667),\n np.float64(6607.523899046713),\n np.float64(15224.621930207035),\n np.float64(23603.841963808296),\n np.float64(37708.41493362648),\n np.float64(12811.572850322833),\n np.float64(14477.779054653447),\n np.float64(10013.567166883968),\n np.float64(20166.19236457343),\n np.float64(11303.252889095887),\n np.float64(18718.75141095351),\n np.float64(6031.6286606862495),\n np.float64(17959.671355555878),\n np.float64(16923.295657058206),\n np.float64(16177.172107852632),\n np.float64(22377.83292931633),\n np.float64(7819.045451283093),\n np.float64(18304.914872115223),\n np.float64(15273.036245322177),\n np.float64(31148.754159069576),\n np.float64(19805.131059542746),\n np.float64(3808.341371471465),\n np.float64(13351.245438168506),\n np.float64(10768.959336286764),\n np.float64(18333.81808685975),\n np.float64(11918.85255246581),\n np.float64(23151.785819223012),\n np.float64(10913.822063811762),\n np.float64(31827.908946957374),\n np.float64(12097.568162673335),\n np.float64(10322.271083345304),\n np.float64(30744.195992003046),\n np.float64(13548.471104931694),\n np.float64(13977.942485211915),\n np.float64(5417.1183454771035),\n np.float64(31566.56608365436),\n np.float64(13562.853493812208),\n np.float64(40804.98933861327),\n np.float64(17971.267372167382),\n np.float64(21177.546765026505),\n np.float64(17801.55619402709),\n np.float64(25763.54397232892),\n np.float64(12171.172434048496),\n np.float64(15875.84318443995),\n np.float64(18425.2083360361),\n np.float64(5798.555538366661),\n np.float64(21229.515747547754),\n np.float64(14565.578502532122),\n np.float64(11772.0812947839),\n np.float64(18912.02697870744),\n np.float64(13949.724702333753),\n np.float64(15245.643695070821),\n np.float64(7585.943756165822),\n np.float64(30096.01745521778),\n np.float64(34432.85925237012),\n np.float64(15101.012763762212),\n np.float64(21919.61956560597),\n np.float64(21986.793468363343),\n np.float64(30524.530923834),\n np.float64(35934.4384559411),\n np.float64(16528.969153013044),\n np.float64(3086.5852589695305),\n np.float64(16230.976774903296),\n np.float64(35021.03612075653),\n np.float64(15457.383209874068),\n np.float64(25524.841496857036),\n np.float64(16352.288770623298),\n np.float64(19238.29365486289),\n np.float64(41977.20676922256),\n np.float64(8511.7964619113),\n np.float64(8551.509753682094),\n np.float64(31013.91312621546),\n np.float64(25537.059372454794),\n np.float64(28752.206368707757),\n np.float64(23488.063760562025),\n np.float64(8405.880920672138),\n np.float64(14788.851364901286),\n np.float64(30893.71234250057),\n np.float64(7376.722342560543),\n np.float64(13616.221024441089),\n np.float64(27924.872835405793),\n np.float64(24909.086878855444),\n np.float64(30992.523453479476),\n np.float64(29871.64341870801),\n np.float64(6389.812839331494),\n np.float64(28676.841422585774),\n np.float64(30352.207124950102),\n np.float64(19570.43739692533),\n np.float64(22386.65431703775),\n np.float64(28166.5781495232),\n np.float64(27870.773252259027),\n np.float64(23373.51072978115),\n np.float64(4799.497488220149),\n np.float64(19362.65952229515),\n np.float64(25136.49656200196),\n np.float64(4865.439204827393),\n np.float64(10003.088003144287),\n np.float64(27308.650878269462),\n np.float64(16781.198457054536),\n np.float64(6919.0285195767865),\n np.float64(12608.994776167612),\n np.float64(31188.7464775447),\n np.float64(18309.273508040424),\n np.float64(9876.991243872075),\n np.float64(10640.861299026345),\n np.float64(16526.319994802176),\n np.float64(11890.099354012356),\n np.float64(5886.256905124143),\n np.float64(14811.225007230209),\n np.float64(1763.0147656809997),\n np.float64(29861.111680112175),\n np.float64(4428.727665816414),\n np.float64(16778.35082427862),\n np.float64(12768.805558260718),\n np.float64(18149.1723200607),\n np.float64(22441.90335716027),\n np.float64(33640.090021437805),\n np.float64(16742.88362860759),\n np.float64(26397.1002652293),\n np.float64(29910.89888465994),\n np.float64(13456.22508474974),\n np.float64(18891.229901633546),\n np.float64(30391.07203051939),\n np.float64(24962.124451039006),\n np.float64(9375.807488597518),\n np.float64(16672.69565417974),\n np.float64(14511.553441053466),\n np.float64(20666.135003338815),\n np.float64(16824.557705160805),\n np.float64(3840.156413710924),\n np.float64(20127.032964440667),\n np.float64(18594.161205304077),\n np.float64(7095.930061732537),\n np.float64(16216.06294654696),\n np.float64(9275.630875270614),\n np.float64(5352.550517537022),\n np.float64(817.6568141201243),\n np.float64(12522.467823398329),\n np.float64(28818.76543787545),\n np.float64(6122.232036780004),\n np.float64(20637.86524577865),\n np.float64(5895.832015778777),\n np.float64(17095.889142629276),\n np.float64(15987.115663200224),\n np.float64(21125.859431670324),\n np.float64(27087.397610164662),\n np.float64(5675.475570822342),\n np.float64(17459.14876572611),\n np.float64(22049.76346971137),\n np.float64(23592.455180638837),\n np.float64(26223.85497737978),\n np.float64(26589.219693142455),\n np.float64(7814.567126829765),\n np.float64(18425.915036196453),\n np.float64(20433.312450193767),\n np.float64(5479.746672895055),\n np.float64(626.5074274634761),\n np.float64(22810.046282666517),\n np.float64(25852.07643044469),\n np.float64(5194.998520805362),\n np.float64(18619.08008073576),\n np.float64(12084.971148349323),\n np.float64(20491.281022386),\n np.float64(16486.169918741492),\n np.float64(5488.453910501652),\n np.float64(7970.517242817663),\n np.float64(25534.81150531704),\n np.float64(12485.919206933137),\n np.float64(14649.526311729593),\n np.float64(18757.235391624443),\n np.float64(11709.622463459891),\n np.float64(21629.9384849487),\n np.float64(34251.71050634228),\n np.float64(6351.338765527334),\n np.float64(18111.706675015048),\n np.float64(17229.199771806525),\n np.float64(22924.77059007899),\n np.float64(27693.39153840347),\n np.float64(32418.46255988483),\n np.float64(19446.348364489226),\n np.float64(9715.271636563884),\n np.float64(8862.051210144919),\n np.float64(13023.258638367348),\n np.float64(23673.56183427499),\n np.float64(24333.806944704294),\n np.float64(11063.582553922754),\n np.float64(29001.525652414155),\n np.float64(1819.5883660903914),\n np.float64(11088.640466986988),\n np.float64(16112.593595694729),\n np.float64(9477.27984877532),\n np.float64(27513.8406858718),\n np.float64(14074.084454149088),\n np.float64(36431.07238721888),\n np.float64(39167.02711284084),\n np.float64(12915.558288197399),\n np.float64(15101.584838278794),\n np.float64(26612.825088203146),\n np.float64(5974.689598833039),\n np.float64(15665.427239750385),\n np.float64(13577.48440015394),\n np.float64(6437.066071672738),\n np.float64(22063.10812449888),\n np.float64(32257.412910516105),\n np.float64(9335.933356766836),\n np.float64(3988.1199734443),\n np.float64(12410.589881568741),\n np.float64(24310.96948689034),\n np.float64(30762.08267761941),\n np.float64(25892.965042624433),\n np.float64(4159.48011763498),\n np.float64(17588.61312597579),\n np.float64(33400.64225216227),\n np.float64(30146.74986425816),\n np.float64(33998.662542515645),\n np.float64(32467.13687146403),\n np.float64(11676.338046042778),\n np.float64(24602.255188902895),\n np.float64(11464.506841698141),\n np.float64(3648.681473788305),\n np.float64(9522.14829569513),\n np.float64(18488.96815627645),\n np.float64(15746.889643545042),\n np.float64(16786.24414225155),\n np.float64(41107.75275347217),\n np.float64(21348.85025366556),\n np.float64(14505.9828494962),\n np.float64(9406.140728235687),\n np.float64(4767.659044921951),\n np.float64(20730.610118461205),\n np.float64(8076.9282604469645),\n np.float64(20538.568582656608),\n np.float64(8670.75623775551),\n np.float64(18314.962804524625),\n np.float64(8739.2101872237),\n np.float64(20247.107086275715),\n np.float64(11172.46238998949),\n np.float64(11788.773578114904),\n np.float64(41229.31312666704),\n np.float64(11980.02393185364),\n np.float64(5932.123248824779),\n np.float64(8718.297214758542),\n np.float64(31302.771838013883),\n np.float64(9533.38811596449),\n np.float64(23494.88547763582),\n np.float64(33144.48677743408),\n np.float64(33945.86604464163),\n np.float64(11803.74137561718),\n np.float64(14650.928024472396),\n np.float64(10337.441447692067),\n np.float64(20231.261601837614),\n np.float64(19500.117054673894),\n np.float64(11866.22309211063),\n np.float64(11241.195523613706),\n np.float64(8641.305091770404),\n np.float64(9800.767350755963),\n np.float64(13403.485608720333),\n np.float64(13746.85215538037),\n np.float64(18443.64689964399),\n np.float64(17239.498881060736),\n np.float64(16758.68595960214),\n np.float64(8586.01342588231),\n np.float64(19993.137163594834),\n np.float64(5212.908207086621),\n np.float64(23920.25744183369),\n np.float64(11457.111735180977),\n np.float64(21035.698248178305),\n np.float64(21630.852911992013),\n np.float64(37306.051104418046),\n np.float64(9299.921905460553),\n np.float64(7542.383510238818),\n np.float64(25458.80911838192),\n np.float64(14084.48205642967),\n np.float64(14680.32116058703),\n np.float64(2477.798851038723),\n np.float64(5129.2329421104005),\n np.float64(28192.603322136692),\n np.float64(6976.907316385662),\n np.float64(7079.348949451839),\n np.float64(25562.046647635067),\n np.float64(18794.7049843448),\n np.float64(9610.946166308973),\n np.float64(14061.303387271233),\n np.float64(27778.7410727431),\n np.float64(23273.68327407102),\n np.float64(25924.411691123467),\n np.float64(6113.341356816162),\n np.float64(31632.17415802411),\n np.float64(24617.56828578986),\n np.float64(22420.378724137223),\n np.float64(24220.69948241478),\n np.float64(14533.563793003535),\n np.float64(21885.183983075432),\n np.float64(19817.262641703754),\n np.float64(20356.970286158732),\n np.float64(17784.003522243933),\n np.float64(40638.867905655694),\n np.float64(3610.96562554635),\n np.float64(19984.22331794797),\n np.float64(20428.312794842623),\n np.float64(31978.288014337257),\n np.float64(15166.914714792087),\n np.float64(11214.012649701857),\n np.float64(25258.787354182125),\n np.float64(20996.535749402046),\n np.float64(24052.946338577276),\n np.float64(8958.983518532745),\n np.float64(20546.947961894795),\n np.float64(13317.31170047492),\n np.float64(30096.209528315445),\n np.float64(14571.565246558654),\n np.float64(25675.604948333144),\n np.float64(9423.100365482282),\n np.float64(29698.845790586318),\n np.float64(24317.691167025707),\n np.float64(13708.735050263538),\n np.float64(18004.05697812196),\n np.float64(11155.702642727165),\n np.float64(24858.308683749325),\n np.float64(25987.47004136334),\n np.float64(3673.040416503461),\n np.float64(6694.323098498828),\n np.float64(25237.667992838367),\n np.float64(11659.85644807592),\n np.float64(11256.966533447527),\n np.float64(11893.174523578902),\n np.float64(21022.606833281756),\n np.float64(27597.703489332707),\n np.float64(30495.031708595492),\n np.float64(14662.857525578902),\n np.float64(21821.520753868277),\n np.float64(16069.943018329042),\n np.float64(18232.363962340594),\n np.float64(34108.65527502922),\n np.float64(26526.049000862567),\n np.float64(11631.237080653193),\n np.float64(6956.7978827808565),\n np.float64(13215.29941671855),\n np.float64(16192.595724654973),\n np.float64(18263.08431586219),\n np.float64(21271.500959400884),\n np.float64(36139.381806170764),\n np.float64(32523.486286922984),\n np.float64(22906.17824725221),\n np.float64(30212.82117329517),\n np.float64(28469.991288902642),\n np.float64(8042.650529905583),\n np.float64(18128.377297690968),\n np.float64(6540.506604439348),\n np.float64(5131.2572573785055),\n np.float64(37321.532293367134),\n np.float64(14739.900338712654),\n np.float64(39407.11129537986),\n np.float64(18730.364362126504),\n np.float64(12993.432161588235),\n np.float64(8248.919339313697),\n np.float64(33332.73401682009),\n np.float64(28103.002634132477),\n np.float64(15613.049844573023),\n np.float64(11917.39149297235),\n np.float64(14338.16888490289),\n np.float64(11584.937283663377),\n np.float64(15321.576171904688),\n np.float64(10131.693927263595),\n np.float64(12112.795000261933),\n np.float64(21428.055011348144),\n np.float64(10956.186212473323),\n np.float64(3479.3212189348783),\n np.float64(13884.900993695568),\n np.float64(9548.105774192334),\n np.float64(12570.391328398033),\n np.float64(22810.93767867912),\n np.float64(15463.9827698812),\n np.float64(11857.774462221587),\n np.float64(27834.083917634445),\n np.float64(19913.663398485158),\n np.float64(19087.48724993617),\n np.float64(27567.082567601334),\n np.float64(6538.3140036361265),\n np.float64(21348.701463652676),\n np.float64(23581.937069124153),\n np.float64(7573.182841752181),\n np.float64(16740.58942487699),\n np.float64(7898.7506672570335),\n np.float64(14554.360300226568),\n np.float64(9363.461727914982),\n np.float64(48077.78293080358),\n np.float64(18332.201968181776),\n np.float64(6069.039040847341),\n np.float64(23932.737453609276),\n np.float64(23070.368299660815),\n np.float64(14510.414865585119),\n np.float64(5180.0196696847925),\n np.float64(4493.673455945522),\n np.float64(23451.92111621492),\n np.float64(18622.179705188955),\n np.float64(13893.095563940133),\n np.float64(23656.514911497525),\n np.float64(18011.0296504541),\n np.float64(14210.01867196709),\n np.float64(16502.549607317964),\n np.float64(5896.420561699913),\n np.float64(38138.16943898693),\n np.float64(10393.82377466979),\n np.float64(14572.632962105326),\n np.float64(34225.885339431195),\n np.float64(28806.149637226696),\n np.float64(2944.117123324581),\n np.float64(23128.499222521332),\n np.float64(6473.581723882633),\n np.float64(21204.297389538835),\n np.float64(24682.989972058756),\n np.float64(18027.82657734642),\n np.float64(6607.712341345223),\n np.float64(13602.276133383035),\n np.float64(14002.567788806351),\n np.float64(21266.892801989863),\n np.float64(19596.3344591579),\n np.float64(5883.590954320741),\n np.float64(25267.949098181634),\n np.float64(9655.871267771843),\n np.float64(21171.182743283876),\n np.float64(12545.485632752165),\n np.float64(1982.530108164821),\n np.float64(20159.074937878468),\n np.float64(28108.787183115564),\n np.float64(22610.8940163335),\n np.float64(15249.744322163884),\n np.float64(32505.697161929216),\n np.float64(5664.064978785415),\n np.float64(30211.224516339866),\n np.float64(14594.957121092144),\n np.float64(8847.453042174215),\n np.float64(14061.45526407281),\n np.float64(18234.239019886878),\n np.float64(10567.761570727434),\n np.float64(16249.698262605829),\n np.float64(11942.738853024228),\n np.float64(19956.01993041777),\n np.float64(9184.52755719548),\n np.float64(16787.633790389482),\n np.float64(23154.519088774014),\n np.float64(12332.080592572544),\n np.float64(25610.894444108904),\n np.float64(11351.040425107523),\n np.float64(4965.885046106641),\n np.float64(4053.59511882705),\n np.float64(14466.284245636478),\n np.float64(13576.154109022138),\n np.float64(8856.690751371585),\n np.float64(14880.100359665366),\n np.float64(8995.035432895675),\n np.float64(11282.456493386837),\n np.float64(13375.20311613876),\n np.float64(29030.216229257872),\n np.float64(20690.17674366279),\n np.float64(4886.66328463509),\n np.float64(23416.10627591733),\n np.float64(28564.14117009144),\n np.float64(18805.266073950734),\n np.float64(33003.54768624753),\n np.float64(8436.237993128098),\n np.float64(14044.438126776231),\n np.float64(34729.29153785261),\n np.float64(11259.974174142573),\n np.float64(13858.48480560922),\n np.float64(38415.89180981296),\n np.float64(17207.738017003765),\n np.float64(25354.661183618056),\n np.float64(19408.770027609),\n np.float64(21489.436353829544),\n np.float64(4713.259853535379),\n np.float64(5403.025261036362),\n np.float64(32535.252581271103),\n np.float64(14498.810516293654),\n np.float64(10576.766754309927),\n np.float64(34887.61161195655),\n np.float64(12348.421948054305),\n np.float64(30381.918165262934),\n np.float64(22271.773527945945),\n np.float64(21188.234073373944),\n np.float64(6093.89367350937),\n np.float64(18540.79743125055),\n np.float64(8320.191207710222),\n np.float64(4033.85467741051),\n np.float64(26763.354200285787),\n np.float64(21528.95465353304),\n np.float64(14555.220951781204),\n np.float64(9439.360859917853),\n np.float64(21868.563669709445),\n np.float64(16305.843136830983),\n np.float64(40489.588092807986),\n np.float64(35643.88566170315),\n np.float64(24961.73543019974),\n np.float64(9238.832147119976),\n np.float64(6906.709478556148),\n np.float64(13931.118178453336),\n np.float64(34199.85027864033),\n np.float64(28724.908791209255),\n np.float64(13211.037683985567),\n np.float64(21773.260418369893),\n np.float64(24893.25236497545),\n np.float64(17787.758113503325),\n np.float64(10391.842783690716),\n np.float64(40430.95831651301),\n np.float64(19931.767016793896),\n np.float64(25890.573416779855),\n np.float64(11380.120644216164),\n np.float64(27247.493292937474),\n np.float64(13971.316190710428),\n np.float64(18625.374981330882),\n np.float64(16570.6493198511),\n np.float64(29653.146480014744),\n np.float64(24623.645681065456),\n np.float64(28015.978726577305),\n np.float64(8575.69040101391),\n np.float64(32927.684202653174),\n np.float64(3620.548782722273),\n np.float64(15113.679106926142),\n np.float64(3023.88445445692),\n np.float64(22540.570383579758),\n np.float64(25793.328256253302),\n np.float64(11076.190039023739),\n np.float64(18869.119669902262),\n np.float64(15172.541337084353),\n np.float64(4106.819387531385),\n np.float64(11135.582008047137),\n np.float64(19815.787571952573),\n np.float64(15513.013347937449),\n np.float64(29089.719419184796),\n np.float64(25799.748894922377),\n np.float64(7505.321052198869),\n np.float64(14172.226411769085),\n np.float64(16233.42748774137),\n np.float64(4602.510382427271),\n np.float64(35908.26986803913),\n np.float64(13126.294877137407),\n np.float64(44083.13304648715),\n np.float64(9654.304947711626),\n np.float64(20659.881230564628),\n np.float64(12197.61359540221),\n np.float64(31913.178053068303),\n np.float64(15305.496773199347),\n np.float64(24069.808528555495),\n np.float64(1325.5739230891063),\n np.float64(41598.54811428888),\n np.float64(11890.2910122195),\n np.float64(32389.385687957532),\n np.float64(20803.81139329325),\n np.float64(8833.786306613074),\n np.float64(16882.965383918032),\n np.float64(26718.815978712217),\n np.float64(14813.16721928298),\n np.float64(5122.831939541427),\n np.float64(6201.08015086966),\n np.float64(16871.94635845424),\n np.float64(10762.278662382176),\n np.float64(16844.40936893363),\n np.float64(4822.370240162575),\n np.float64(28523.595110110586),\n np.float64(29752.435479009637),\n np.float64(20395.49983279184),\n np.float64(13894.471799610135),\n np.float64(6853.326078299818),\n np.float64(23136.30614682989),\n np.float64(30399.8169934411),\n np.float64(20864.209745925422),\n np.float64(11241.015898735623),\n np.float64(23109.69492301036),\n np.float64(25588.463348282927),\n np.float64(19571.877502789735),\n np.float64(20525.63239518218),\n np.float64(30268.61094153745),\n np.float64(3640.095795606646),\n np.float64(6228.760279201224),\n np.float64(32439.825289210035),\n np.float64(19738.847647153452),\n np.float64(17527.22436451157),\n np.float64(23057.7270323092),\n np.float64(15631.237890806788),\n np.float64(33314.43317433617),\n np.float64(8823.438158424535),\n np.float64(17368.101887105233),\n np.float64(23564.024931772023),\n np.float64(13989.169437168948),\n np.float64(10425.20562927729),\n np.float64(26290.262339854176),\n np.float64(17331.72879653202),\n np.float64(26132.320792776707),\n np.float64(22449.01687946409),\n np.float64(24425.976452554198),\n np.float64(12026.593275257137),\n np.float64(16890.36670980559),\n np.float64(21226.482696436684),\n np.float64(20776.400373109336),\n np.float64(3056.1880286336054),\n np.float64(32485.655421342963),\n np.float64(31279.387182820723),\n np.float64(15454.049070527904),\n np.float64(36499.119380675416),\n np.float64(26804.92502961363),\n np.float64(35257.707694512304),\n np.float64(13370.927460419418),\n np.float64(17416.65689769678),\n np.float64(2607.8473982493506),\n np.float64(8074.168600560817),\n np.float64(27700.476932247737),\n np.float64(9360.133501267426),\n np.float64(18554.331284207616),\n np.float64(29978.04894948515),\n np.float64(2594.3366119930224),\n np.float64(19150.44780255125),\n np.float64(18541.856602245116),\n np.float64(11921.965381400201),\n np.float64(16924.76446043347),\n np.float64(21773.38549668935),\n np.float64(14454.489566684533),\n np.float64(6848.56146016367),\n np.float64(8221.027100709238),\n np.float64(24135.861240995502),\n np.float64(5209.581079461944),\n np.float64(15546.823032332897),\n np.float64(6972.478061796941),\n np.float64(14401.445517829286),\n np.float64(13930.596411941082),\n np.float64(30010.439911454356),\n np.float64(23853.849338240052),\n np.float64(13850.040447381141),\n np.float64(22794.324325989568),\n np.float64(31397.652182798436),\n np.float64(7380.730106007177),\n np.float64(15411.22637346971),\n np.float64(33456.793066583705),\n np.float64(15156.902125463106),\n np.float64(24101.961800486748),\n np.float64(13940.913757769065),\n np.float64(11519.699865168726),\n np.float64(9286.340358881102),\n np.float64(14133.488433615552),\n np.float64(14321.230997283537),\n np.float64(3051.8306898982323),\n np.float64(11936.085106770814),\n np.float64(12764.57240489665),\n np.float64(11835.302037300653),\n np.float64(23777.495784198843),\n np.float64(3079.5822306317145),\n np.float64(29748.699780941086),\n np.float64(20217.354344263462),\n np.float64(25147.745809565753),\n np.float64(30573.8056226698),\n np.float64(29101.390409677297),\n np.float64(11105.98548152687),\n np.float64(9836.670766834903),\n np.float64(11701.963931629645),\n np.float64(10314.740861515136),\n np.float64(12729.270783509666),\n np.float64(15872.23768274962),\n np.float64(26993.167010724042),\n np.float64(15434.57350967455),\n np.float64(5110.6939734094385),\n np.float64(14212.853146198098),\n np.float64(10907.216192531763),\n np.float64(9094.333523087931),\n np.float64(6391.247615144743),\n np.float64(10561.64636024861),\n np.float64(16188.797079499629),\n np.float64(20722.846585841144),\n np.float64(32381.338083391183),\n np.float64(39628.74588648499),\n np.float64(16751.578227325685),\n np.float64(14087.991827739956),\n np.float64(11925.504840085372),\n np.float64(6823.385826810849),\n np.float64(12248.790988716972),\n np.float64(13207.748574285371),\n np.float64(16950.531130689287),\n np.float64(9217.40380387654),\n np.float64(21756.934441477508),\n np.float64(9433.23429414478),\n np.float64(19054.226242923334),\n np.float64(20243.654928085834),\n np.float64(18935.40358482404),\n np.float64(25265.18703501627),\n np.float64(12686.88614648077),\n np.float64(18836.71303617969),\n np.float64(18565.325479235864),\n np.float64(14986.09456584839),\n np.float64(21438.55049578943),\n np.float64(19130.53641434732),\n np.float64(39022.054403366834),\n np.float64(35413.927908186226),\n np.float64(21023.881804864566),\n np.float64(21965.509847630346),\n np.float64(11236.909170961819),\n np.float64(19129.130263499683),\n np.float64(22453.694247908068),\n np.float64(24955.96379660985),\n np.float64(23375.431971834016),\n np.float64(16786.31820596936),\n np.float64(21602.77158001055),\n np.float64(6079.105421287915),\n np.float64(8134.0814338867585),\n np.float64(14660.511299561038),\n np.float64(9866.393417878804),\n np.float64(18419.078818291488),\n np.float64(7115.284719234776),\n np.float64(26922.322340516122),\n np.float64(45160.22074204837),\n np.float64(12903.453016628435),\n np.float64(27280.458914885334),\n np.float64(24464.89000458332),\n np.float64(16217.685599711456),\n np.float64(2593.7047205369417),\n np.float64(16335.68294414533),\n np.float64(21565.025198055126),\n np.float64(13857.188857198747),\n np.float64(3847.9810817135412),\n np.float64(4491.13646564126),\n np.float64(24633.553239447774),\n np.float64(7746.443607431143),\n np.float64(9231.084866145675),\n np.float64(7983.080173118293),\n np.float64(11446.764159021604),\n np.float64(7581.277450773045),\n np.float64(20198.91050089261),\n np.float64(17113.24705965485),\n np.float64(22829.971087025904),\n np.float64(7133.485155409946),\n np.float64(8004.9922515647995),\n np.float64(14879.503185359546),\n np.float64(25009.033465952067),\n np.float64(23886.322263663536),\n np.float64(24570.536354175907),\n np.float64(16279.095792390175),\n np.float64(23819.102492468657),\n np.float64(14818.136978148243),\n np.float64(8801.491312193488),\n np.float64(12990.738279666897),\n np.float64(39498.522254206124),\n np.float64(9950.714354692906),\n np.float64(28078.579872306487),\n np.float64(19762.306250497237),\n np.float64(29956.8196550587),\n np.float64(10542.49370686358),\n np.float64(1822.4354463666764),\n np.float64(14009.087091956619),\n np.float64(28411.703174746544),\n np.float64(21687.519466301575),\n np.float64(11327.399228836683),\n np.float64(32057.017816630327),\n np.float64(7194.412159308467),\n np.float64(17495.409663991377),\n np.float64(20946.645703810824),\n np.float64(15870.65759376959),\n np.float64(5702.8022441054545),\n np.float64(3662.911156865177),\n np.float64(40110.56423809285),\n np.float64(14015.600673548288),\n np.float64(24071.45493635564),\n np.float64(11802.349804251102),\n np.float64(18667.591490932715),\n np.float64(13894.30194751409),\n np.float64(10908.24994426792),\n np.float64(1432.7896333060996),\n np.float64(11708.20930380737),\n np.float64(12687.586902101568),\n np.float64(9694.319666039526),\n np.float64(21918.170896587795),\n np.float64(28709.279132002812),\n np.float64(18813.033793068447),\n np.float64(18408.58891950797),\n np.float64(24225.52452756598),\n np.float64(27214.05972902457),\n np.float64(14828.249708639898),\n np.float64(46395.977474231615),\n np.float64(13768.078614428361),\n np.float64(19320.243227721196),\n np.float64(39630.444019083334),\n np.float64(5706.402880038168),\n np.float64(29577.900387574795),\n np.float64(25135.772582662805),\n np.float64(30049.605128565556),\n np.float64(27366.16416457868),\n np.float64(24751.92030704131),\n np.float64(26295.595762982666),\n np.float64(11299.740358300007),\n np.float64(12304.312700631941),\n np.float64(29635.650779760763),\n np.float64(18034.03036054335),\n np.float64(30996.067942676505),\n np.float64(16847.14596247131),\n np.float64(45699.83975543842),\n np.float64(33770.98068022968),\n np.float64(12218.60384709414),\n np.float64(24462.44961849189),\n np.float64(27776.115379787596),\n np.float64(21343.007087384703),\n np.float64(28532.36721409554),\n np.float64(23718.152635856968),\n np.float64(22334.992669608728),\n np.float64(13441.337214047413),\n np.float64(20853.172655809292),\n np.float64(22191.411365883938),\n np.float64(13172.183333015782),\n np.float64(10822.768317664117),\n np.float64(14845.860620115176),\n np.float64(27791.93570557618),\n np.float64(24050.038202012915),\n np.float64(10468.230043312644),\n np.float64(13422.93934215447),\n np.float64(25350.004581879628),\n np.float64(13897.243585673245),\n np.float64(26274.880317256637),\n np.float64(15660.0171400594),\n np.float64(42023.83358830735),\n np.float64(6571.7718644209735),\n np.float64(16531.01835908111),\n np.float64(15198.289761024813),\n np.float64(13755.907304445454),\n np.float64(10524.106593771774),\n np.float64(33929.668299502744),\n np.float64(26187.14477314899),\n np.float64(19817.929299417752),\n np.float64(44707.610652005926),\n np.float64(14322.743419856637),\n np.float64(17854.86710921729),\n np.float64(27484.85879468669),\n np.float64(19800.284274456084),\n np.float64(4118.21591389285),\n np.float64(7865.409355470802),\n np.float64(20458.284800325215),\n np.float64(29207.704924475936),\n np.float64(12886.222996931872),\n np.float64(21233.808276823118),\n np.float64(3416.7519503906587),\n np.float64(23928.390224885803),\n np.float64(12788.542684526039),\n np.float64(16718.46970977129),\n np.float64(9116.441059594485),\n np.float64(15949.852814656395),\n np.float64(17688.81216225288),\n np.float64(14904.126529970705),\n np.float64(16430.446082861683),\n np.float64(32389.791798853126),\n np.float64(18024.262830578577),\n np.float64(26420.729305843175),\n np.float64(23472.99927323954),\n np.float64(48907.83561643222),\n np.float64(25656.400881538426),\n np.float64(14015.358568599797),\n np.float64(11159.980389789827),\n np.float64(12667.955981646008),\n np.float64(20894.855865962963),\n np.float64(18776.585943275826),\n np.float64(4709.868439205155),\n np.float64(13041.982330933895),\n np.float64(29319.79178476316),\n np.float64(30941.92722477366),\n np.float64(13202.097436320295),\n np.float64(10160.326633749391),\n np.float64(17262.451064800294),\n np.float64(18143.435898791366),\n np.float64(16131.999906068604),\n np.float64(21652.57403019569),\n np.float64(15496.628457770732),\n np.float64(16681.891827337782),\n np.float64(32461.77547793838),\n np.float64(24560.472129993497),\n np.float64(26522.351012991385),\n np.float64(15125.237461935641),\n np.float64(26368.12251326681),\n np.float64(11896.857008313558),\n np.float64(17083.676615763605),\n np.float64(27269.75374743049),\n np.float64(10981.525270123679),\n np.float64(13248.302197967474),\n np.float64(9035.304457628352),\n np.float64(3697.295431468495),\n np.float64(21729.490097391983),\n np.float64(25098.776291456525),\n np.float64(24102.507578916655),\n np.float64(13000.640919249996),\n np.float64(23803.956590212085),\n np.float64(10787.232432703258),\n np.float64(6720.231103418879),\n np.float64(8463.105934926956),\n np.float64(15266.048055520652),\n np.float64(20808.716230591315),\n np.float64(21262.096247391324),\n np.float64(40466.531632794555),\n np.float64(16840.49884466344),\n np.float64(8188.741666518943),\n np.float64(18455.200250751113),\n np.float64(24848.619212076756),\n np.float64(45213.20826123506),\n np.float64(22768.29708193006),\n np.float64(18180.123585790334),\n np.float64(22425.230125769882),\n np.float64(11521.325280455188),\n np.float64(14697.50638440248),\n np.float64(20572.325691742448),\n np.float64(21593.754696865457),\n np.float64(12077.289846797023),\n np.float64(13801.345954753346),\n np.float64(10236.05560187522),\n np.float64(14950.987664684642),\n np.float64(11819.570212545575),\n np.float64(19783.87006351711),\n np.float64(29878.781257169565),\n np.float64(18955.63350540879),\n np.float64(12648.21189975383),\n np.float64(16695.11160748519),\n np.float64(29840.92968846899),\n np.float64(19137.75633359266),\n np.float64(27794.190898283858),\n np.float64(5281.8445909376405),\n np.float64(22007.708353352544)]"
     },
     "execution_count": 46,
     "metadata": {},
     "output_type": "execute_result"
    }
   ],
   "source": [
    "stat.test_length"
   ],
   "metadata": {
    "collapsed": false,
    "ExecuteTime": {
     "end_time": "2024-12-21T13:43:47.818917Z",
     "start_time": "2024-12-21T13:43:47.813883Z"
    }
   },
   "id": "16f41bfe1e1c24f5",
   "execution_count": 46
  },
  {
   "cell_type": "code",
   "outputs": [
    {
     "data": {
      "text/plain": "\n        err_max:    0.0000\n        err_min:    -0.0000\n        err_median: 0.0000\n        err_mean:   -0.0000\n        \n        acceleration_max:    1978.7332\n        acceleration_min:    0.2379\n        acceleration_median: 244.0241\n        acceleration_mean:   318.8732\n        "
     },
     "execution_count": 47,
     "metadata": {},
     "output_type": "execute_result"
    }
   ],
   "source": [
    "stat"
   ],
   "metadata": {
    "collapsed": false,
    "ExecuteTime": {
     "end_time": "2024-12-21T13:43:47.822239Z",
     "start_time": "2024-12-21T13:43:47.819656Z"
    }
   },
   "id": "895426ca95f199fd",
   "execution_count": 47
  },
  {
   "cell_type": "code",
   "outputs": [],
   "source": [],
   "metadata": {
    "collapsed": false
   },
   "id": "87a35a85e87817fe"
  }
 ],
 "metadata": {
  "kernelspec": {
   "display_name": "Python 3 (ipykernel)",
   "language": "python",
   "name": "python3"
  },
  "language_info": {
   "codemirror_mode": {
    "name": "ipython",
    "version": 3
   },
   "file_extension": ".py",
   "mimetype": "text/x-python",
   "name": "python",
   "nbconvert_exporter": "python",
   "pygments_lexer": "ipython3",
   "version": "3.10.12"
  }
 },
 "nbformat": 4,
 "nbformat_minor": 5
}
