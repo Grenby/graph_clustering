{
 "cells": [
  {
   "cell_type": "code",
   "outputs": [],
   "source": [
    "import logging\n",
    "import sys\n",
    "\n",
    "root = logging.getLogger()\n",
    "root.setLevel(logging.INFO)\n",
    "\n",
    "handler = logging.StreamHandler(sys.stdout)\n",
    "handler.setLevel(logging.INFO)\n",
    "formatter = logging.Formatter('%(asctime)s - %(name)s - %(levelname)s - %(message)s')\n",
    "handler.setFormatter(formatter)\n",
    "root.addHandler(handler)"
   ],
   "metadata": {
    "collapsed": false,
    "ExecuteTime": {
     "end_time": "2024-12-26T12:01:21.794347Z",
     "start_time": "2024-12-26T12:01:21.790535Z"
    }
   },
   "id": "dde76cebf871e8c3",
   "execution_count": 26
  },
  {
   "cell_type": "code",
   "outputs": [],
   "source": [
    "import sys\n",
    "\n",
    "sys.path.append('../scripts')\n",
    "sys.path.append('../')\n",
    "\n",
    "from scripts import graph_osm_loader\n",
    "from scripts import pipeline, centroids_graph_builder, clustering\n",
    "from scripts.path_findings import excraction_pfa, dijkstra_pfa\n",
    "from scripts import utils"
   ],
   "metadata": {
    "collapsed": false,
    "ExecuteTime": {
     "end_time": "2024-12-26T12:01:21.803853Z",
     "start_time": "2024-12-26T12:01:21.798276Z"
    }
   },
   "id": "e9ed6a4c09332b67",
   "execution_count": 27
  },
  {
   "cell_type": "code",
   "outputs": [],
   "source": [
    "    # 'PARIS': 'R71525',\n",
    "    # 'Prague': 'R435514',\n",
    "    # \n",
    "    # 'DUBAI': 'R3766483',\n"
   ],
   "metadata": {
    "collapsed": false,
    "ExecuteTime": {
     "end_time": "2024-12-26T12:01:21.806146Z",
     "start_time": "2024-12-26T12:01:21.804565Z"
    }
   },
   "id": "a250dda702bca2cb",
   "execution_count": 28
  },
  {
   "cell_type": "code",
   "outputs": [
    {
     "name": "stdout",
     "output_type": "stream",
     "text": [
      "9512 14818\n"
     ]
    }
   ],
   "source": [
    "GRAPH_ID = 'R71525'  # R13470549 R2555133 R3766483\n",
    "# примеры id есть в graph_osm_loader.py\n",
    "g = graph_osm_loader.get_graph(GRAPH_ID)\n",
    "print(len(g.nodes), len(g.edges))"
   ],
   "metadata": {
    "collapsed": false,
    "ExecuteTime": {
     "end_time": "2024-12-26T12:01:21.823853Z",
     "start_time": "2024-12-26T12:01:21.806822Z"
    }
   },
   "id": "f3d83b1cd99d1de9",
   "execution_count": 29
  },
  {
   "cell_type": "code",
   "outputs": [
    {
     "name": "stdout",
     "output_type": "stream",
     "text": [
      "21632 29905\n"
     ]
    }
   ],
   "source": [
    "GRAPH_ID = 'R435514'  # R13470549 R2555133 R3766483\n",
    "# примеры id есть в graph_osm_loader.py\n",
    "g = graph_osm_loader.get_graph(GRAPH_ID)\n",
    "print(len(g.nodes), len(g.edges))"
   ],
   "metadata": {
    "collapsed": false,
    "ExecuteTime": {
     "end_time": "2024-12-26T12:01:21.948876Z",
     "start_time": "2024-12-26T12:01:21.824638Z"
    }
   },
   "id": "69244312a8318203",
   "execution_count": 30
  },
  {
   "cell_type": "code",
   "outputs": [
    {
     "name": "stdout",
     "output_type": "stream",
     "text": [
      "21632 29905\n"
     ]
    }
   ],
   "source": [
    "GRAPH_ID = 'R435514'  # R13470549 R2555133 R3766483\n",
    "# примеры id есть в graph_osm_loader.py\n",
    "g = graph_osm_loader.get_graph(GRAPH_ID)\n",
    "print(len(g.nodes), len(g.edges))"
   ],
   "metadata": {
    "collapsed": false,
    "ExecuteTime": {
     "end_time": "2024-12-26T12:07:09.193771Z",
     "start_time": "2024-12-26T12:07:09.156217Z"
    }
   },
   "id": "63723175d0832542",
   "execution_count": 69
  },
  {
   "cell_type": "code",
   "outputs": [],
   "source": [
    "points = utils.read_points(GRAPH_ID, g, num=1000)"
   ],
   "metadata": {
    "collapsed": false,
    "ExecuteTime": {
     "end_time": "2024-12-26T12:07:10.067208Z",
     "start_time": "2024-12-26T12:07:09.966930Z"
    }
   },
   "id": "362ff279af79b465",
   "execution_count": 70
  },
  {
   "cell_type": "code",
   "outputs": [],
   "source": [
    "nodes = g.nodes()"
   ],
   "metadata": {
    "collapsed": false,
    "ExecuteTime": {
     "end_time": "2024-12-26T12:07:10.402751Z",
     "start_time": "2024-12-26T12:07:10.400760Z"
    }
   },
   "id": "50abdb860b170c92",
   "execution_count": 71
  },
  {
   "cell_type": "code",
   "outputs": [],
   "source": [
    "import numpy as np\n",
    "\n",
    "\n",
    "def dst(da, db):\n",
    "    return ((da['x'] - db['x']) ** 2 + (da['y'] - db['y']) ** 2) ** 0.5 / 360 * 2 * np.pi * 6371.01 * 1000 * 0.56\n",
    "\n",
    "\n",
    "def node_dst(u, v):\n",
    "    da = nodes[u]\n",
    "    db = nodes[v]\n",
    "    return dst(da, db)"
   ],
   "metadata": {
    "collapsed": false,
    "ExecuteTime": {
     "end_time": "2024-12-26T12:07:10.821753Z",
     "start_time": "2024-12-26T12:07:10.819350Z"
    }
   },
   "id": "e3e09a91603a5c7d",
   "execution_count": 72
  },
  {
   "cell_type": "code",
   "outputs": [],
   "source": [
    "from pympler.asizeof import asizeof"
   ],
   "metadata": {
    "collapsed": false,
    "ExecuteTime": {
     "end_time": "2024-12-26T12:07:11.236942Z",
     "start_time": "2024-12-26T12:07:11.231735Z"
    }
   },
   "id": "65299d71fa84fb68",
   "execution_count": 73
  },
  {
   "cell_type": "code",
   "outputs": [
    {
     "data": {
      "text/plain": "find centroids:   0%|          | 0/4878 [00:00<?, ?it/s]",
      "application/vnd.jupyter.widget-view+json": {
       "version_major": 2,
       "version_minor": 0,
       "model_id": "29f1920e537f4024b3ea9d122d19197d"
      }
     },
     "metadata": {},
     "output_type": "display_data"
    },
    {
     "data": {
      "text/plain": "find edges:   0%|          | 0/4878 [00:00<?, ?it/s]",
      "application/vnd.jupyter.widget-view+json": {
       "version_major": 2,
       "version_minor": 0,
       "model_id": "06b43762c36242f2aacdb3eae0f7a575"
      }
     },
     "metadata": {},
     "output_type": "display_data"
    },
    {
     "data": {
      "text/plain": "(6.3775482177734375, 11.322639465332031, 22.515457153320312)"
     },
     "execution_count": 83,
     "metadata": {},
     "output_type": "execute_result"
    }
   ],
   "source": [
    "\n",
    "cms_resolver = clustering.LouvainKMeansCommunityResolver(resolution=1000)\n",
    "\n",
    "t, cg = centroids_graph_builder.CentroidGraphBuilder().build_with_time(g, cms_resolver)\n",
    "t, asizeof(cg)/1024/1024, asizeof(g)/1024/1024"
   ],
   "metadata": {
    "collapsed": false,
    "ExecuteTime": {
     "end_time": "2024-12-26T12:09:46.001987Z",
     "start_time": "2024-12-26T12:09:39.120150Z"
    }
   },
   "id": "c356a17ee7eebe16",
   "execution_count": 83
  },
  {
   "cell_type": "code",
   "outputs": [
    {
     "data": {
      "text/plain": "181.54055786132812"
     },
     "execution_count": 84,
     "metadata": {},
     "output_type": "execute_result"
    }
   ],
   "source": [
    "len(cg.cms) ** 2 * 8 /1024/1024"
   ],
   "metadata": {
    "collapsed": false,
    "ExecuteTime": {
     "end_time": "2024-12-26T12:09:46.005923Z",
     "start_time": "2024-12-26T12:09:46.002981Z"
    }
   },
   "id": "d9abb00af9bb47ed",
   "execution_count": 84
  },
  {
   "cell_type": "code",
   "outputs": [],
   "source": [
    "from scripts.path_findings.arc_flags_builder import ArcFlagsBuilder\n",
    "from scripts.path_findings.alt_builder import RandomAltBuilder, ClusterAltBuilder\n",
    "\n",
    "baseline = dijkstra_pfa.Dijkstra(g)\n",
    "# \n",
    "# test_alg = excraction_pfa.ExtractionPfa(\n",
    "#     g = g,\n",
    "#     cg=cg,\n",
    "#     upper=dijkstra_pfa.Dijkstra(cg.g),\n",
    "#     down=dijkstra_pfa.Dijkstra(g)\n",
    "# )\n",
    "\n",
    "# test_alg = ArcFlagsBuilder().build(g, cg.cls2hubs)\n",
    "# test_alg = dijkstra_pfa.AStar(\n",
    "#     g = g,\n",
    "#     h = node_dst\n",
    "# )\n",
    "# test_alg = ClusterAltBuilder(0.1).build_ch_pfa(g)"
   ],
   "metadata": {
    "collapsed": false,
    "ExecuteTime": {
     "end_time": "2024-12-26T12:09:47.543561Z",
     "start_time": "2024-12-26T12:09:47.540082Z"
    }
   },
   "id": "4325b5d0ed6e8858",
   "execution_count": 85
  },
  {
   "cell_type": "code",
   "outputs": [
    {
     "data": {
      "text/plain": "4878"
     },
     "execution_count": 86,
     "metadata": {},
     "output_type": "execute_result"
    }
   ],
   "source": [
    "len(cg.cms)"
   ],
   "metadata": {
    "collapsed": false,
    "ExecuteTime": {
     "end_time": "2024-12-26T12:09:47.836693Z",
     "start_time": "2024-12-26T12:09:47.832574Z"
    }
   },
   "id": "449b92922069dceb",
   "execution_count": 86
  },
  {
   "cell_type": "code",
   "outputs": [
    {
     "data": {
      "text/plain": "  0%|          | 0/10 [00:00<?, ?it/s]",
      "application/vnd.jupyter.widget-view+json": {
       "version_major": 2,
       "version_minor": 0,
       "model_id": "a53369d677ab447aabcf39f6dab53c4f"
      }
     },
     "metadata": {},
     "output_type": "display_data"
    }
   ],
   "source": [
    "from scripts.path_findings.h_search_builder import MinClusterDistance\n",
    "from scripts.clustering import LouvainKMeansCommunityResolver\n",
    "\n",
    "test_alg = MinClusterDistance(workers=10).build_astar(g, cg.cms)"
   ],
   "metadata": {
    "collapsed": false,
    "ExecuteTime": {
     "end_time": "2024-12-26T12:10:26.006288Z",
     "start_time": "2024-12-26T12:09:48.137466Z"
    }
   },
   "id": "3ca62bb28a1a6b05",
   "execution_count": 87
  },
  {
   "cell_type": "code",
   "outputs": [
    {
     "name": "stdout",
     "output_type": "stream",
     "text": [
      "start 0\n"
     ]
    },
    {
     "data": {
      "text/plain": "find paths:   0%|          | 0/100 [00:00<?, ?it/s]",
      "application/vnd.jupyter.widget-view+json": {
       "version_major": 2,
       "version_minor": 0,
       "model_id": "7580a325b5da4f80a503a2ebbefadcb6"
      }
     },
     "metadata": {},
     "output_type": "display_data"
    },
    {
     "name": "stdout",
     "output_type": "stream",
     "text": [
      "start 1\n"
     ]
    },
    {
     "data": {
      "text/plain": "find paths:   0%|          | 0/100 [00:00<?, ?it/s]",
      "application/vnd.jupyter.widget-view+json": {
       "version_major": 2,
       "version_minor": 0,
       "model_id": "06347e3186294330b15acdf46adba5fa"
      }
     },
     "metadata": {},
     "output_type": "display_data"
    },
    {
     "name": "stdout",
     "output_type": "stream",
     "text": [
      "start 2\n"
     ]
    },
    {
     "data": {
      "text/plain": "find paths:   0%|          | 0/100 [00:00<?, ?it/s]",
      "application/vnd.jupyter.widget-view+json": {
       "version_major": 2,
       "version_minor": 0,
       "model_id": "62bdb4b91dd64a43a0451d543740258d"
      }
     },
     "metadata": {},
     "output_type": "display_data"
    },
    {
     "name": "stdout",
     "output_type": "stream",
     "text": [
      "start 3\n"
     ]
    },
    {
     "data": {
      "text/plain": "find paths:   0%|          | 0/100 [00:00<?, ?it/s]",
      "application/vnd.jupyter.widget-view+json": {
       "version_major": 2,
       "version_minor": 0,
       "model_id": "781fd0c05a4b4760aeaef2cb56690e4e"
      }
     },
     "metadata": {},
     "output_type": "display_data"
    },
    {
     "name": "stdout",
     "output_type": "stream",
     "text": [
      "start 4\n"
     ]
    },
    {
     "data": {
      "text/plain": "find paths:   0%|          | 0/100 [00:00<?, ?it/s]",
      "application/vnd.jupyter.widget-view+json": {
       "version_major": 2,
       "version_minor": 0,
       "model_id": "23d7d696486c44f19383965d560e1903"
      }
     },
     "metadata": {},
     "output_type": "display_data"
    },
    {
     "name": "stdout",
     "output_type": "stream",
     "text": [
      "start 5\n"
     ]
    },
    {
     "data": {
      "text/plain": "find paths:   0%|          | 0/100 [00:00<?, ?it/s]",
      "application/vnd.jupyter.widget-view+json": {
       "version_major": 2,
       "version_minor": 0,
       "model_id": "d506054998354656a923b157f140e2eb"
      }
     },
     "metadata": {},
     "output_type": "display_data"
    },
    {
     "name": "stdout",
     "output_type": "stream",
     "text": [
      "start 6\n"
     ]
    },
    {
     "data": {
      "text/plain": "find paths:   0%|          | 0/100 [00:00<?, ?it/s]",
      "application/vnd.jupyter.widget-view+json": {
       "version_major": 2,
       "version_minor": 0,
       "model_id": "13ad15086ee6417ea58c41583ed8de96"
      }
     },
     "metadata": {},
     "output_type": "display_data"
    },
    {
     "name": "stdout",
     "output_type": "stream",
     "text": [
      "start 7\n"
     ]
    },
    {
     "data": {
      "text/plain": "find paths:   0%|          | 0/100 [00:00<?, ?it/s]",
      "application/vnd.jupyter.widget-view+json": {
       "version_major": 2,
       "version_minor": 0,
       "model_id": "34c8e86306fc4a538b00a8a0f989f2be"
      }
     },
     "metadata": {},
     "output_type": "display_data"
    },
    {
     "name": "stdout",
     "output_type": "stream",
     "text": [
      "start 8\n"
     ]
    },
    {
     "data": {
      "text/plain": "find paths:   0%|          | 0/100 [00:00<?, ?it/s]",
      "application/vnd.jupyter.widget-view+json": {
       "version_major": 2,
       "version_minor": 0,
       "model_id": "ab744a3da8b24dec9bdccd98aa0d0a3e"
      }
     },
     "metadata": {},
     "output_type": "display_data"
    },
    {
     "name": "stdout",
     "output_type": "stream",
     "text": [
      "start 9\n"
     ]
    },
    {
     "data": {
      "text/plain": "find paths:   0%|          | 0/100 [00:00<?, ?it/s]",
      "application/vnd.jupyter.widget-view+json": {
       "version_major": 2,
       "version_minor": 0,
       "model_id": "2b1e951fc7134629a3555766a38137b7"
      }
     },
     "metadata": {},
     "output_type": "display_data"
    }
   ],
   "source": [
    "stat = pipeline.PfaComparator(\n",
    "    baseline=baseline,\n",
    "    test_algorithm=test_alg,\n",
    "    points=points,\n",
    "    workers=10\n",
    ").compare()"
   ],
   "metadata": {
    "collapsed": false,
    "ExecuteTime": {
     "end_time": "2024-12-26T12:10:42.770074Z",
     "start_time": "2024-12-26T12:10:26.007206Z"
    }
   },
   "id": "ae3121ce02585050",
   "execution_count": 88
  },
  {
   "cell_type": "code",
   "outputs": [
    {
     "data": {
      "text/plain": "\n        err_max:    0.0000\n        err_min:    0.0000\n        err_median: 0.0000\n        err_mean:   0.0000\n        \n        acceleration_max:    321.0009\n        acceleration_min:    0.8936\n        acceleration_median: 24.8948\n        acceleration_mean:   33.0873\n        "
     },
     "execution_count": 89,
     "metadata": {},
     "output_type": "execute_result"
    }
   ],
   "source": [
    "stat"
   ],
   "metadata": {
    "collapsed": false,
    "ExecuteTime": {
     "end_time": "2024-12-26T12:10:42.774542Z",
     "start_time": "2024-12-26T12:10:42.771201Z"
    }
   },
   "id": "987dc47fb30c404",
   "execution_count": 89
  },
  {
   "cell_type": "code",
   "outputs": [],
   "source": [],
   "metadata": {
    "collapsed": false
   },
   "id": "c671d2b2270d59e7"
  }
 ],
 "metadata": {
  "kernelspec": {
   "display_name": "Python 3",
   "language": "python",
   "name": "python3"
  },
  "language_info": {
   "codemirror_mode": {
    "name": "ipython",
    "version": 2
   },
   "file_extension": ".py",
   "mimetype": "text/x-python",
   "name": "python",
   "nbconvert_exporter": "python",
   "pygments_lexer": "ipython2",
   "version": "2.7.6"
  }
 },
 "nbformat": 4,
 "nbformat_minor": 5
}
