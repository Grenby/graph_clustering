{
 "cells": [
  {
   "cell_type": "code",
   "execution_count": 1,
   "id": "92641b5d828c9de8",
   "metadata": {
    "collapsed": false,
    "ExecuteTime": {
     "end_time": "2024-11-26T12:28:22.206208Z",
     "start_time": "2024-11-26T12:28:22.187755Z"
    }
   },
   "outputs": [],
   "source": [
    "import logging\n",
    "import sys\n",
    "\n",
    "root = logging.getLogger()\n",
    "root.setLevel(logging.INFO)\n",
    "\n",
    "handler = logging.StreamHandler(sys.stdout)\n",
    "handler.setLevel(logging.INFO)\n",
    "formatter = logging.Formatter('%(asctime)s - %(name)s - %(levelname)s - %(message)s')\n",
    "handler.setFormatter(formatter)\n",
    "root.addHandler(handler)"
   ]
  },
  {
   "cell_type": "code",
   "execution_count": 2,
   "id": "679e292ddcafdd40",
   "metadata": {
    "collapsed": false,
    "ExecuteTime": {
     "end_time": "2024-11-26T12:28:25.261253Z",
     "start_time": "2024-11-26T12:28:22.209730Z"
    }
   },
   "outputs": [
    {
     "name": "stdout",
     "output_type": "stream",
     "text": [
      "2024-11-26 15:28:23,520 - numexpr.utils - INFO - NumExpr defaulting to 8 threads.\n"
     ]
    }
   ],
   "source": [
    "import sys\n",
    "\n",
    "import matplotlib.pyplot as plt\n",
    "\n",
    "sys.path.append('../scripts')\n",
    "sys.path.append('../')\n",
    "\n",
    "from heapq import heappop, heappush\n",
    "from itertools import count\n",
    "\n",
    "import time\n",
    "from multiprocessing import Pool\n",
    "from time import sleep\n",
    "\n",
    "import numpy as np\n",
    "from tqdm.notebook import trange, tqdm\n",
    "from scripts import centroids_graph_builder, graph_osm_loader, utils, clustering\n",
    "\n",
    "import networkx as nx\n"
   ]
  },
  {
   "cell_type": "code",
   "execution_count": 3,
   "id": "25e5c1440003f43a",
   "metadata": {
    "collapsed": false,
    "ExecuteTime": {
     "end_time": "2024-11-26T12:28:25.276746Z",
     "start_time": "2024-11-26T12:28:25.264933Z"
    }
   },
   "outputs": [],
   "source": [
    "def dijkstra_pfa_min_dst(graph: nx.Graph,\n",
    "                 start: set[int],\n",
    "                 ) -> \\\n",
    "        tuple[float, list[int]]:\n",
    "    adjacency = graph._adj\n",
    "    c = count()\n",
    "    push = heappush\n",
    "    pop = heappop\n",
    "    dist = {}\n",
    "    fringe = []\n",
    "    for s in start:\n",
    "        dist[s] = 0.0\n",
    "        push(fringe, (0.0, next(c), s))\n",
    "    while fringe:\n",
    "        (d, _, v) = pop(fringe)\n",
    "        for u, e in adjacency[v].items():\n",
    "            vu_dist = d + e['length']\n",
    "            if u not in dist or dist[u] > vu_dist:\n",
    "                dist[u] = vu_dist\n",
    "                push(fringe, (vu_dist, next(c), u))\n",
    "    return dist\n"
   ]
  },
  {
   "cell_type": "code",
   "execution_count": 4,
   "id": "34f910ca623208b5",
   "metadata": {
    "collapsed": false,
    "ExecuteTime": {
     "end_time": "2024-11-26T12:28:25.287933Z",
     "start_time": "2024-11-26T12:28:25.279040Z"
    }
   },
   "outputs": [],
   "source": [
    "def get_rand_graph(N, p):\n",
    "    G = nx.fast_gnp_random_graph(N, p, directed=False)\n",
    "    if not nx.is_connected(G):\n",
    "        tmp = []\n",
    "        for n in nx.connected_components(G):\n",
    "            for q in n:\n",
    "                tmp.append(q)\n",
    "                break\n",
    "        for i in range(len(tmp) - 1):\n",
    "            G.add_edge(tmp[i], tmp[i + 1])\n",
    "    for e in G.edges:\n",
    "        G.add_edge(e[0], e[1], length=np.random.random_sample() + 0.001)\n",
    "    for u in G.nodes:\n",
    "        if u in G[u]:\n",
    "            G.remove_edge(u, u)\n",
    "    return G"
   ]
  },
  {
   "cell_type": "code",
   "execution_count": 9,
   "id": "1b60f4b11aad1567",
   "metadata": {
    "collapsed": false,
    "ExecuteTime": {
     "end_time": "2024-11-26T12:28:31.297078Z",
     "start_time": "2024-11-26T12:28:31.287215Z"
    }
   },
   "outputs": [
    {
     "name": "stdout",
     "output_type": "stream",
     "text": [
      "715 1038\n"
     ]
    }
   ],
   "source": [
    "GRAPH_ID = 'R13470549'  # R13470549 R2555133 R3766483\n",
    "# примеры id есть в graph_osm_loader.py\n",
    "# g = get_rand_graph(1000, 0.1)  # загрузка графа\n",
    "N = 100000\n",
    "p = 3/N\n",
    "# g = get_rand_grAaph(N,p)\n",
    "# g = get_graph()\n",
    "g= graph_osm_loader.get_graph(GRAPH_ID)\n",
    "print(len(g.nodes), len(g.edges))"
   ]
  },
  {
   "cell_type": "code",
   "outputs": [],
   "source": [
    "g.remove_edges_from(nx.selfloop_edges(g))"
   ],
   "metadata": {
    "collapsed": false,
    "ExecuteTime": {
     "end_time": "2024-11-26T12:28:32.536449Z",
     "start_time": "2024-11-26T12:28:32.531676Z"
    }
   },
   "id": "af782e49baab793a",
   "execution_count": 10
  },
  {
   "cell_type": "code",
   "outputs": [
    {
     "data": {
      "text/plain": "26.739483914241877"
     },
     "execution_count": 11,
     "metadata": {},
     "output_type": "execute_result"
    }
   ],
   "source": [
    "np.sqrt(len(g.nodes))"
   ],
   "metadata": {
    "collapsed": false,
    "ExecuteTime": {
     "end_time": "2024-11-26T12:28:32.789021Z",
     "start_time": "2024-11-26T12:28:32.780655Z"
    }
   },
   "id": "84383d0a4d810a26",
   "execution_count": 11
  },
  {
   "cell_type": "code",
   "outputs": [
    {
     "name": "stdout",
     "output_type": "stream",
     "text": [
      "2024-11-26 15:28:33,760 - root - INFO - communities: 599\n"
     ]
    },
    {
     "name": "stderr",
     "output_type": "stream",
     "text": [
      "100%|██████████| 100/100 [00:00<00:00, 836.61it/s]\n"
     ]
    }
   ],
   "source": [
    "cms = clustering.resolve_k_means_communities(g, resolution=500, max_iteration=100, print_log=True)"
   ],
   "metadata": {
    "collapsed": false,
    "ExecuteTime": {
     "end_time": "2024-11-26T12:28:33.886739Z",
     "start_time": "2024-11-26T12:28:33.672048Z"
    }
   },
   "id": "64b0c1b8f91aeb84",
   "execution_count": 12
  },
  {
   "cell_type": "code",
   "execution_count": 13,
   "id": "d37d5156bf0da65e",
   "metadata": {
    "collapsed": false,
    "ExecuteTime": {
     "end_time": "2024-11-26T12:30:20.925737Z",
     "start_time": "2024-11-26T12:30:20.922556Z"
    }
   },
   "outputs": [],
   "source": [
    "nodes = g.nodes()"
   ]
  },
  {
   "cell_type": "code",
   "outputs": [
    {
     "name": "stderr",
     "output_type": "stream",
     "text": [
      "find centroids: 100%|██████████| 599/599 [00:00<00:00, 18608.77it/s]\n",
      "find edges: 100%|██████████| 599/599 [00:00<00:00, 10271.29it/s]\n"
     ]
    }
   ],
   "source": [
    "cls2n =  centroids_graph_builder.get_cls2n(g) # мапа кластер к соседним кластерам \n",
    "g1, cls2c = centroids_graph_builder.build_center_graph(g, cms, cls2n, log=True)"
   ],
   "metadata": {
    "collapsed": false,
    "ExecuteTime": {
     "end_time": "2024-11-26T12:30:21.464008Z",
     "start_time": "2024-11-26T12:30:21.360355Z"
    }
   },
   "id": "98108321acf30670",
   "execution_count": 14
  },
  {
   "cell_type": "code",
   "outputs": [],
   "source": [
    "dst = dict(nx.all_pairs_dijkstra_path_length(g1, weight='length'))"
   ],
   "metadata": {
    "collapsed": false,
    "ExecuteTime": {
     "end_time": "2024-11-26T12:30:22.966259Z",
     "start_time": "2024-11-26T12:30:21.984903Z"
    }
   },
   "id": "40a849d254b10c1f",
   "execution_count": 15
  },
  {
   "cell_type": "code",
   "outputs": [
    {
     "data": {
      "text/plain": "  0%|          | 0/599 [00:00<?, ?it/s]",
      "application/vnd.jupyter.widget-view+json": {
       "version_major": 2,
       "version_minor": 0,
       "model_id": "b343e7736acb442988f3f666239fe0c2"
      }
     },
     "metadata": {},
     "output_type": "display_data"
    },
    {
     "data": {
      "text/plain": "  0%|          | 0/715 [00:00<?, ?it/s]",
      "application/vnd.jupyter.widget-view+json": {
       "version_major": 2,
       "version_minor": 0,
       "model_id": "f22b9cdd11c54c9195a43c98eb4be248"
      }
     },
     "metadata": {},
     "output_type": "display_data"
    }
   ],
   "source": [
    "d_clusters = {}\n",
    "d_nodes = {}\n",
    "for u in tqdm(dst):\n",
    "    for v in dst[u]:\n",
    "        d_clusters[u,v] = dst[u][v]\n",
    "        d_clusters[v,u] = dst[u][v]\n",
    "\n",
    "for u,d in tqdm(g.nodes(data=True)):\n",
    "    c = cls2c[d['cluster']]\n",
    "    l = nx.single_source_dijkstra(g, u,c,weight='length')[0]\n",
    "    d_nodes[u] = l"
   ],
   "metadata": {
    "collapsed": false,
    "ExecuteTime": {
     "end_time": "2024-11-26T12:30:31.590010Z",
     "start_time": "2024-11-26T12:30:30.769212Z"
    }
   },
   "id": "31d49e7b3294d3e3",
   "execution_count": 17
  },
  {
   "cell_type": "code",
   "execution_count": 18,
   "id": "2081393eaf43ca2",
   "metadata": {
    "collapsed": false,
    "ExecuteTime": {
     "end_time": "2024-11-26T12:31:20.949248Z",
     "start_time": "2024-11-26T12:31:20.943861Z"
    }
   },
   "outputs": [],
   "source": [
    "def func(u, v):\n",
    "    n1,n2 = nodes[u],nodes[v]\n",
    "    c2 = n1['cluster']\n",
    "    c1 = n2['cluster']  \n",
    "    d1 = abs(d_clusters[c1,c2] - d_nodes[u]) - d_nodes[v]\n",
    "    d2 = abs(d_clusters[c1,c2] - d_nodes[v]) - d_nodes[u]\n",
    "    return max(d1,d2)"
   ]
  },
  {
   "cell_type": "code",
   "execution_count": 19,
   "id": "d1069473230a56d8",
   "metadata": {
    "collapsed": false,
    "ExecuteTime": {
     "end_time": "2024-11-26T12:31:21.210250Z",
     "start_time": "2024-11-26T12:31:21.198623Z"
    }
   },
   "outputs": [],
   "source": [
    "def dijkstra_pfa_cls(graph: nx.Graph,\n",
    "                     start: int,\n",
    "                     end: int\n",
    "                     ) -> tuple[float, list[int]]:\n",
    "    if start == end:\n",
    "        return 0, [start]\n",
    "    push = heappush\n",
    "    pop = heappop\n",
    "    dist = {start: (0, None)}\n",
    "    fringe = []\n",
    "    c = count()\n",
    "    adjacency = graph._adj\n",
    "    push(fringe, (0, next(c), 0, func(start, end), start))\n",
    "    c1,c2 = nodes[start]['cluster'], nodes[end]['cluster']\n",
    "    \n",
    "    while fringe:\n",
    "        (_, _, d1, l1, v1) = pop(fringe) \n",
    "        if v1 == end:\n",
    "            break\n",
    "        for u, e in adjacency[v1].items():\n",
    "            vu_dist = d1 + e['length']\n",
    "            if u not in dist or dist[u][0] > vu_dist:\n",
    "                dist[u] = (vu_dist, v1)\n",
    "                lu = func(u, end)\n",
    "                push(fringe, (vu_dist + lu, next(c), vu_dist, lu, u))\n",
    "    path = [end]\n",
    "    e = end\n",
    "    while dist[e][1] is not None:\n",
    "        e = dist[e][1]\n",
    "        path.append(e)\n",
    "    l = 0\n",
    "    e = g.edges()\n",
    "    for i in range(len(path) - 1):\n",
    "        p1, p2 = path[i], path[i + 1]\n",
    "        l += e[p1, p2]['length']\n",
    "    return l, path.reverse()"
   ]
  },
  {
   "cell_type": "code",
   "execution_count": 20,
   "id": "e4fcd02b902382dc",
   "metadata": {
    "collapsed": false,
    "ExecuteTime": {
     "end_time": "2024-11-26T12:31:21.468292Z",
     "start_time": "2024-11-26T12:31:21.447650Z"
    }
   },
   "outputs": [],
   "source": [
    "def bi_dijkstra_pfa_cls(graph: nx.Graph,\n",
    "                        start: int,\n",
    "                        end: int\n",
    "                        ) -> tuple[float, list[int]]:\n",
    "    if start == end:\n",
    "        return 0, [start]\n",
    "    \n",
    "    push = heappush\n",
    "    pop = heappop\n",
    "    dist = ({start: (0, None)}, {end: (0, None)})\n",
    "    fringe = ([], [])\n",
    "    c = count()\n",
    "    adjacency = graph._adj\n",
    "\n",
    "    push(fringe[0], (0, next(c), 0,  start))\n",
    "    push(fringe[1], (0, next(c), 0,  end))\n",
    "    \n",
    "    union_node = None\n",
    "    union_dst = float('inf')\n",
    "    seen = (set(), set())\n",
    "    while fringe[0] and fringe[1]:\n",
    "        (_, _, d1,  v1) = pop(fringe[0])\n",
    "        (_, _, d2,  v2) = pop(fringe[1])\n",
    "\n",
    "        for u, e in adjacency[v1].items():\n",
    "            vu_dist = d1 + e['length']\n",
    "            if u not in dist[0] or dist[0][u][0] > vu_dist:\n",
    "                dist[0][u] = (vu_dist, v1)\n",
    "                lu = func(u,end)\n",
    "                push(fringe[0], (vu_dist + lu, next(c), vu_dist, u))\n",
    "        for u, e in adjacency[v2].items():\n",
    "            vu_dist = d2 + e['length']\n",
    "            if u not in dist[1] or dist[1][u][0] > vu_dist:\n",
    "                dist[1][u] = (vu_dist, v2)\n",
    "                lu = func(u,start)\n",
    "                push(fringe[1], (vu_dist + lu, next(c), vu_dist, u))\n",
    "        if v1 in seen[1]:\n",
    "            union_node = v1\n",
    "            union_dst = dist[0][v1][0] + dist[1][v1][0]\n",
    "            break\n",
    "        if v2 in seen[0]:\n",
    "            union_node = v2\n",
    "            union_dst = dist[0][v2][0] + dist[1][v2][0]\n",
    "            break\n",
    "        seen[0].add(v1)\n",
    "        seen[1].add(v2)\n",
    "        \n",
    "    for (_, _, d1, v1) in fringe[0]:\n",
    "        if v1 in dist[1]:\n",
    "            dd = dist[1][v1][0] + dist[0][v1][0]\n",
    "            if dd < union_dst:\n",
    "                union_dst = dd\n",
    "                union_node = v1\n",
    "        for u, e in adjacency[v1].items():\n",
    "            if u in dist[1]:\n",
    "                if u not in dist[0]:\n",
    "                    vu_dist = d1 + e['length']\n",
    "                    dist[0][u] = (vu_dist, v1)    \n",
    "                dd = dist[1][u][0] + dist[0][u][0]\n",
    "                if dd < union_dst:\n",
    "                    union_dst = dd\n",
    "                    union_node = u\n",
    "                    \n",
    "    for (_, _, d2, v2) in  fringe[1]:\n",
    "        if v2 in dist[0]:\n",
    "            dd = dist[1][v2][0] + dist[0][v2][0]\n",
    "            if dd < union_dst:\n",
    "                union_dst = dd\n",
    "                union_node = v2\n",
    "        for u, e in adjacency[v2].items():\n",
    "            if u in dist[0]:\n",
    "                if u not in dist[1]:\n",
    "                    vu_dist = d2 + e['length']\n",
    "                    dist[1][u] = (vu_dist, v2)\n",
    "                dd = dist[1][u][0] + dist[0][u][0]\n",
    "                if dd < union_dst:\n",
    "                    union_dst = dd\n",
    "                    union_node = u\n",
    "    path = []\n",
    "    e = union_node\n",
    "    while dist[0][e][1] is not None:\n",
    "        path = [e] + path\n",
    "        e = dist[0][e][1]\n",
    "    path = [e] + path\n",
    "\n",
    "    e = union_node\n",
    "    while dist[1][e][1] is not None:\n",
    "        e = dist[1][e][1]\n",
    "        path += [e]\n",
    "\n",
    "    l = 0\n",
    "    e = g.edges()\n",
    "    for i in range(len(path) - 1):\n",
    "        p1, p2 = path[i], path[i + 1]\n",
    "        l += e[p1, p2]['length']\n",
    "    return l, path"
   ]
  },
  {
   "cell_type": "code",
   "execution_count": 21,
   "id": "a30e70cfa72463f4",
   "metadata": {
    "collapsed": false,
    "ExecuteTime": {
     "end_time": "2024-11-26T12:31:21.674602Z",
     "start_time": "2024-11-26T12:31:21.647824Z"
    }
   },
   "outputs": [
    {
     "data": {
      "text/plain": "generate points:   0%|          | 0/1000 [00:00<?, ?it/s]",
      "application/vnd.jupyter.widget-view+json": {
       "version_major": 2,
       "version_minor": 0,
       "model_id": "bc05fb26c7f242e18215fe47c118ea1d"
      }
     },
     "metadata": {},
     "output_type": "display_data"
    }
   ],
   "source": [
    "points = [utils.get_node_for_initial_graph_v2(g) for _ in trange(1000, desc='generate points')]"
   ]
  },
  {
   "cell_type": "code",
   "execution_count": 22,
   "id": "7312717ee99a6dc",
   "metadata": {
    "collapsed": false,
    "ExecuteTime": {
     "end_time": "2024-11-26T12:31:24.631872Z",
     "start_time": "2024-11-26T12:31:21.874686Z"
    }
   },
   "outputs": [
    {
     "name": "stdout",
     "output_type": "stream",
     "text": [
      "start 0\n"
     ]
    },
    {
     "data": {
      "text/plain": "find paths:   0%|          | 0/250 [00:00<?, ?it/s]",
      "application/vnd.jupyter.widget-view+json": {
       "version_major": 2,
       "version_minor": 0,
       "model_id": "7ff23028c06a498ab37d36d531ee1255"
      }
     },
     "metadata": {},
     "output_type": "display_data"
    },
    {
     "name": "stdout",
     "output_type": "stream",
     "text": [
      "start 1\n"
     ]
    },
    {
     "data": {
      "text/plain": "find paths:   0%|          | 0/250 [00:00<?, ?it/s]",
      "application/vnd.jupyter.widget-view+json": {
       "version_major": 2,
       "version_minor": 0,
       "model_id": "86fc2c8c485144a2839d286966ce0670"
      }
     },
     "metadata": {},
     "output_type": "display_data"
    },
    {
     "name": "stdout",
     "output_type": "stream",
     "text": [
      "start 2\n"
     ]
    },
    {
     "data": {
      "text/plain": "find paths:   0%|          | 0/250 [00:00<?, ?it/s]",
      "application/vnd.jupyter.widget-view+json": {
       "version_major": 2,
       "version_minor": 0,
       "model_id": "1d7b1ef0e4324551891c2668b01ef92c"
      }
     },
     "metadata": {},
     "output_type": "display_data"
    },
    {
     "name": "stdout",
     "output_type": "stream",
     "text": [
      "start 3\n"
     ]
    },
    {
     "data": {
      "text/plain": "find paths:   0%|          | 0/250 [00:00<?, ?it/s]",
      "application/vnd.jupyter.widget-view+json": {
       "version_major": 2,
       "version_minor": 0,
       "model_id": "d7e2d632d4304d109b5241d1a8c10a56"
      }
     },
     "metadata": {},
     "output_type": "display_data"
    },
    {
     "name": "stdout",
     "output_type": "stream",
     "text": [
      "err_mean: 0.11 %\n",
      "err_min: -0.00 %\n",
      "err_max: 24.47 %\n",
      "acceleration: 5.08 times\n"
     ]
    }
   ],
   "source": [
    "NUM_ITERATION = 3  # чтобы уменьшить ошибку при вычислении времени выполнения, при каждом замере время меряется для NUM_ITERATION повторений\n",
    "WORKER = 4  # количество потоков\n",
    "\n",
    "\n",
    "def do_calc(data):\n",
    "    pps, i = data\n",
    "\n",
    "    stat = {}\n",
    "    stat['l'] = []\n",
    "    stat['h_l'] = []\n",
    "\n",
    "    stat['p'] = []\n",
    "    stat['h_p'] = []\n",
    "    stat['time_l'] = []\n",
    "    stat['time_h'] = []\n",
    "\n",
    "    stat['delta'] = []\n",
    "    # чисто чтобы tqdm нормально прогрузился \n",
    "    sleep(i / 10)\n",
    "    print('start', i)\n",
    "\n",
    "    for p1, p2 in tqdm(pps, desc='find paths', position=i):\n",
    "        if (p1, p2) in stat:\n",
    "            continue\n",
    "        # класический дейкстра\n",
    "        l, p = None, None\n",
    "        start = time.time()\n",
    "        for i in range(NUM_ITERATION):\n",
    "            l, p = nx.single_source_dijkstra(g, p1, p2, weight='length')\n",
    "        time_l = time.time() - start\n",
    "\n",
    "        # иерархический\n",
    "        h_l, h_p = None, None\n",
    "        start = time.time()\n",
    "        for _ in range(NUM_ITERATION):\n",
    "            h_l, h_p = dijkstra_pfa_cls(g, p1, p2) \n",
    "        time_h = time.time() - start\n",
    "\n",
    "        delta = (h_l - l) / l * 100\n",
    "        stat['l'].append(l)  # длина обычного пути\n",
    "        stat['h_l'].append(h_l)  # длина иерархического пути\n",
    "        stat['p'].append(p)  # обычный путь\n",
    "        stat['h_p'].append(h_p)  # иерархический путь\n",
    "        stat['delta'].append(delta)  # разница в длине\n",
    "        stat['time_l'].append(time_l)  # обычное время \n",
    "        stat['time_h'].append(time_h)  # иерархическое\n",
    "    return stat\n",
    "\n",
    "data = [([p for p in points[i::WORKER]], i) for i in range(WORKER)]\n",
    "# do_calc(data[0])\n",
    "with Pool(WORKER) as p:\n",
    "    res = p.map(do_calc, data)\n",
    "\n",
    "stat = {}\n",
    "for l in res:\n",
    "    for d in l:\n",
    "        if d not in stat:\n",
    "            stat[d] = []\n",
    "        stat[d].extend(l[d])\n",
    "print(f\"err_mean: {np.mean(stat['delta']):.2f} %\")\n",
    "print(f\"err_min: {np.min(stat['delta']):.2f} %\")\n",
    "print(f\"err_max: {np.max(stat['delta']):.2f} %\", )\n",
    "print(f\"acceleration: {np.mean(np.array(stat['time_l']) / np.array(stat['time_h'])):.2f} times\")"
   ]
  },
  {
   "cell_type": "code",
   "execution_count": 23,
   "id": "e0c0d817c47378c2",
   "metadata": {
    "collapsed": false,
    "ExecuteTime": {
     "end_time": "2024-11-26T12:31:24.639006Z",
     "start_time": "2024-11-26T12:31:24.634508Z"
    }
   },
   "outputs": [],
   "source": [
    "max_err_idx = np.argmax(stat['delta'])"
   ]
  },
  {
   "cell_type": "code",
   "execution_count": 24,
   "id": "56569198c3b78968",
   "metadata": {
    "collapsed": false,
    "ExecuteTime": {
     "end_time": "2024-11-26T12:31:24.646289Z",
     "start_time": "2024-11-26T12:31:24.640721Z"
    }
   },
   "outputs": [],
   "source": [
    "path = stat['p'][max_err_idx]\n",
    "h_path = stat['h_p'][max_err_idx]"
   ]
  },
  {
   "cell_type": "code",
   "execution_count": 25,
   "id": "9ad5c485635ede1",
   "metadata": {
    "collapsed": false,
    "ExecuteTime": {
     "end_time": "2024-11-26T12:31:24.678332Z",
     "start_time": "2024-11-26T12:31:24.648721Z"
    }
   },
   "outputs": [
    {
     "ename": "TypeError",
     "evalue": "object of type 'NoneType' has no len()",
     "output_type": "error",
     "traceback": [
      "\u001B[0;31m---------------------------------------------------------------------------\u001B[0m",
      "\u001B[0;31mTypeError\u001B[0m                                 Traceback (most recent call last)",
      "Cell \u001B[0;32mIn[25], line 1\u001B[0m\n\u001B[0;32m----> 1\u001B[0m \u001B[38;5;28mlen\u001B[39m(path), \u001B[38;5;28;43mlen\u001B[39;49m\u001B[43m(\u001B[49m\u001B[43mh_path\u001B[49m\u001B[43m)\u001B[49m\n",
      "\u001B[0;31mTypeError\u001B[0m: object of type 'NoneType' has no len()"
     ]
    }
   ],
   "source": [
    "len(path), len(h_path)"
   ]
  },
  {
   "cell_type": "code",
   "execution_count": 134,
   "id": "87f3a1144554bacd",
   "metadata": {
    "collapsed": false,
    "ExecuteTime": {
     "end_time": "2024-11-26T08:44:27.694252Z",
     "start_time": "2024-11-26T08:44:27.689080Z"
    }
   },
   "outputs": [
    {
     "data": {
      "text/plain": "(4084.9719999999993, 4289.187)"
     },
     "execution_count": 134,
     "metadata": {},
     "output_type": "execute_result"
    }
   ],
   "source": [
    "stat['l'][max_err_idx], stat['h_l'][max_err_idx]"
   ]
  },
  {
   "cell_type": "code",
   "execution_count": 78,
   "id": "d3c87591ee42ead2",
   "metadata": {
    "collapsed": false,
    "ExecuteTime": {
     "end_time": "2024-11-26T08:23:23.679143Z",
     "start_time": "2024-11-26T08:23:23.675900Z"
    }
   },
   "outputs": [],
   "source": [
    "p1, p2 = path[0], path[-1]"
   ]
  },
  {
   "cell_type": "markdown",
   "id": "850f3f3f5ab289bf",
   "metadata": {
    "collapsed": false
   },
   "source": []
  },
  {
   "cell_type": "code",
   "execution_count": 79,
   "id": "e111a68deb48ef0b",
   "metadata": {
    "collapsed": false,
    "ExecuteTime": {
     "end_time": "2024-11-26T08:23:25.684764Z",
     "start_time": "2024-11-26T08:23:25.681259Z"
    }
   },
   "outputs": [],
   "source": [
    "labels = {u: d['cluster'] for u, d in g.nodes(data=True)}"
   ]
  },
  {
   "cell_type": "code",
   "execution_count": 116,
   "id": "1a1a6f0599f5cbdc",
   "metadata": {
    "collapsed": false,
    "ExecuteTime": {
     "end_time": "2024-11-26T08:31:40.055393Z",
     "start_time": "2024-11-26T08:31:39.863809Z"
    }
   },
   "outputs": [],
   "source": [
    "pos_l = {u: [d['x'] + 0.001, d['y'] + 0.001] for u, d in g.nodes(data=True)}\n",
    "pos = {u: [d['x'], d['y']] for u, d in g.nodes(data=True)}\n"
   ]
  },
  {
   "cell_type": "code",
   "execution_count": 133,
   "id": "3e55de9980d61cc5",
   "metadata": {
    "collapsed": false,
    "ExecuteTime": {
     "end_time": "2024-11-26T08:44:14.449803Z",
     "start_time": "2024-11-26T08:44:14.147185Z"
    }
   },
   "outputs": [
    {
     "data": {
      "text/plain": "<Figure size 2000x1000 with 1 Axes>",
      "image/png": "[encoded data removed]"
     },
     "metadata": {},
     "output_type": "display_data"
    }
   ],
   "source": [
    "f, ax = plt.subplots(1, 1, figsize=(20, 10))\n",
    "f.suptitle('max_err')\n",
    "\n",
    "\n",
    "# nx.draw(g, pos=pos, ax=ax, node_size=10, alpha=0.5)\n",
    "nx.draw(g.subgraph(path), pos=pos, ax=ax, node_size=15, node_color='red', width=2, alpha=0.5)\n",
    "nx.draw(g.subgraph(h_path), pos=pos, ax=ax, node_size=15, node_color='green', width=2, alpha=0.5)\n",
    "# nx.draw_networkx_labels(g,pos_l,labels=labels,font_size=6)"
   ]
  },
  {
   "cell_type": "code",
   "execution_count": null,
   "id": "5592ac605e4db162",
   "metadata": {
    "collapsed": false
   },
   "outputs": [],
   "source": [
    "nx.single_source_dijkstra(g,p1,p2,weight='length')"
   ]
  },
  {
   "cell_type": "code",
   "execution_count": null,
   "id": "d38611334c807e54",
   "metadata": {
    "collapsed": false
   },
   "outputs": [],
   "source": [
    "bi_dijkstra_pfa_cls(g, p1,p2)"
   ]
  },
  {
   "cell_type": "code",
   "execution_count": null,
   "id": "1a6369a0755e99e7",
   "metadata": {
    "collapsed": false
   },
   "outputs": [],
   "source": [
    "893305603 in nx.single_source_dijkstra(g,p1,p2,weight='length')[1]"
   ]
  },
  {
   "cell_type": "code",
   "execution_count": null,
   "id": "b3e6540a4adab084",
   "metadata": {
    "collapsed": false
   },
   "outputs": [],
   "source": []
  }
 ],
 "metadata": {
  "kernelspec": {
   "display_name": "Python 3 (ipykernel)",
   "language": "python",
   "name": "python3"
  },
  "language_info": {
   "codemirror_mode": {
    "name": "ipython",
    "version": 3
   },
   "file_extension": ".py",
   "mimetype": "text/x-python",
   "name": "python",
   "nbconvert_exporter": "python",
   "pygments_lexer": "ipython3",
   "version": "3.10.12"
  }
 },
 "nbformat": 4,
 "nbformat_minor": 5
}
