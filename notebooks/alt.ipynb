{
 "cells": [
  {
   "cell_type": "code",
   "outputs": [],
   "source": [
    "import sys\n",
    "\n",
    "sys.path.append('../scripts')"
   ],
   "metadata": {
    "collapsed": false,
    "ExecuteTime": {
     "end_time": "2024-11-22T22:15:50.573939Z",
     "start_time": "2024-11-22T22:15:50.565799Z"
    }
   },
   "id": "8dc89016aba3f61f",
   "execution_count": 1
  },
  {
   "cell_type": "code",
   "outputs": [],
   "source": [
    "import os\n",
    "\n",
    "import pickle\n",
    "import time\n",
    "from multiprocessing import Pool\n",
    "from time import sleep\n",
    "\n",
    "import numpy as np\n",
    "from tqdm.notebook import trange, tqdm\n",
    "from scripts import centroids_graph_builder, graph_osm_loader, utils, clustering\n",
    "from heapq import heappop, heappush\n",
    "from itertools import count\n",
    "import networkx as nx\n",
    "\n",
    "import networkx as nx"
   ],
   "metadata": {
    "collapsed": false,
    "ExecuteTime": {
     "end_time": "2024-11-22T22:15:51.531811Z",
     "start_time": "2024-11-22T22:15:50.579247Z"
    }
   },
   "id": "initial_id",
   "execution_count": 2
  },
  {
   "cell_type": "code",
   "outputs": [],
   "source": [
    "def dijkstra_pfa_min_dst(graph: nx.Graph,\n",
    "                 start: set[int],\n",
    "                 ) -> \\\n",
    "        tuple[float, list[int]]:\n",
    "    adjacency = graph._adj\n",
    "    c = count()\n",
    "    push = heappush\n",
    "    pop = heappop\n",
    "    dist = {}\n",
    "    fringe = []\n",
    "    for s in start:\n",
    "        dist[s] = 0.0\n",
    "        push(fringe, (0.0, next(c), s))\n",
    "    while fringe:\n",
    "        (d, _, v) = pop(fringe)\n",
    "        for u, e in adjacency[v].items():\n",
    "            vu_dist = d + e['length']\n",
    "            if u not in dist or dist[u] > vu_dist:\n",
    "                dist[u] = vu_dist\n",
    "                push(fringe, (vu_dist, next(c), u))\n",
    "    return dist\n"
   ],
   "metadata": {
    "collapsed": false,
    "ExecuteTime": {
     "end_time": "2024-11-22T22:26:16.181668Z",
     "start_time": "2024-11-22T22:26:16.177866Z"
    }
   },
   "id": "102cb3354f7c186a",
   "execution_count": 43
  },
  {
   "cell_type": "markdown",
   "source": [
    "Примеры как резолвить комьюнити"
   ],
   "metadata": {
    "collapsed": false
   },
   "id": "24e484a2a3e88df1"
  },
  {
   "cell_type": "code",
   "outputs": [],
   "source": [
    "GRAPH_ID = 'R2555133'  # R13470549 R2555133 R3766483"
   ],
   "metadata": {
    "collapsed": false,
    "ExecuteTime": {
     "end_time": "2024-11-22T22:31:19.096457Z",
     "start_time": "2024-11-22T22:31:19.093117Z"
    }
   },
   "id": "3b4742a1a125081c",
   "execution_count": 67
  },
  {
   "cell_type": "code",
   "outputs": [
    {
     "data": {
      "text/plain": "(17883, 26972)"
     },
     "execution_count": 68,
     "metadata": {},
     "output_type": "execute_result"
    }
   ],
   "source": [
    "# примеры id есть в graph_osm_loader.py\n",
    "g = graph_osm_loader.get_graph(GRAPH_ID)  # загрузка графа\n",
    "# N = 1000\n",
    "# p = 0.01\n",
    "# g = get_rand_graph(N,p)\n",
    "len(g.nodes), len(g.edges)"
   ],
   "metadata": {
    "collapsed": false,
    "ExecuteTime": {
     "end_time": "2024-11-22T22:31:19.389663Z",
     "start_time": "2024-11-22T22:31:19.263162Z"
    }
   },
   "id": "b219e78cf93171f5",
   "execution_count": 68
  },
  {
   "cell_type": "code",
   "outputs": [
    {
     "data": {
      "text/plain": "858"
     },
     "execution_count": 69,
     "metadata": {},
     "output_type": "execute_result"
    }
   ],
   "source": [
    "utils.get_opt_cluster_count(len(g.nodes))  # оптимальное количество кластеров"
   ],
   "metadata": {
    "collapsed": false,
    "ExecuteTime": {
     "end_time": "2024-11-22T22:31:19.466620Z",
     "start_time": "2024-11-22T22:31:19.463355Z"
    }
   },
   "id": "b1053ecba87c88b6",
   "execution_count": 69
  },
  {
   "cell_type": "code",
   "outputs": [],
   "source": [
    "g.remove_edges_from(nx.selfloop_edges(g))"
   ],
   "metadata": {
    "collapsed": false,
    "ExecuteTime": {
     "end_time": "2024-11-22T22:31:19.693228Z",
     "start_time": "2024-11-22T22:31:19.689798Z"
    }
   },
   "id": "d2a76eca84cafd29",
   "execution_count": 70
  },
  {
   "cell_type": "code",
   "outputs": [],
   "source": [
    "name = 'cluster'"
   ],
   "metadata": {
    "collapsed": false,
    "ExecuteTime": {
     "end_time": "2024-11-22T22:31:20.188458Z",
     "start_time": "2024-11-22T22:31:20.185732Z"
    }
   },
   "id": "cfa176e857f7a6fb",
   "execution_count": 71
  },
  {
   "cell_type": "code",
   "outputs": [
    {
     "name": "stderr",
     "output_type": "stream",
     "text": [
      "100%|██████████| 100/100 [00:05<00:00, 18.32it/s]"
     ]
    },
    {
     "name": "stdout",
     "output_type": "stream",
     "text": [
      "3107\n"
     ]
    },
    {
     "name": "stderr",
     "output_type": "stream",
     "text": [
      "\n"
     ]
    }
   ],
   "source": [
    "cms2 = clustering.resolve_k_means_communities(g, resolution=400, max_iteration=100, cluster_name=name, print_log=True)\n",
    "print(len(cms2))"
   ],
   "metadata": {
    "collapsed": false,
    "ExecuteTime": {
     "end_time": "2024-11-22T22:31:26.921271Z",
     "start_time": "2024-11-22T22:31:20.523013Z"
    }
   },
   "id": "23c1a5d32d570651",
   "execution_count": 72
  },
  {
   "cell_type": "code",
   "outputs": [],
   "source": [
    "cls2n = centroids_graph_builder.get_cls2n(g, name=name)  # мапа кластер к соседним кластерам "
   ],
   "metadata": {
    "collapsed": false,
    "ExecuteTime": {
     "end_time": "2024-11-22T22:31:26.952146Z",
     "start_time": "2024-11-22T22:31:26.921935Z"
    }
   },
   "id": "e6594fe741a815f3",
   "execution_count": 73
  },
  {
   "cell_type": "code",
   "outputs": [
    {
     "name": "stderr",
     "output_type": "stream",
     "text": [
      "find centroids: 100%|██████████| 3107/3107 [00:00<00:00, 6041.61it/s]\n",
      "find edges: 100%|██████████| 3107/3107 [00:00<00:00, 5528.41it/s]\n"
     ]
    }
   ],
   "source": [
    "g1, cls2c = centroids_graph_builder.build_center_graph(g, cms2, cls2n, log=True, name=name)"
   ],
   "metadata": {
    "collapsed": false,
    "ExecuteTime": {
     "end_time": "2024-11-22T22:31:28.036100Z",
     "start_time": "2024-11-22T22:31:26.952718Z"
    }
   },
   "id": "718024858ba64653",
   "execution_count": 74
  },
  {
   "cell_type": "code",
   "outputs": [],
   "source": [
    "path = utils.get_path('pouits', f'points_{GRAPH_ID}.pickle')\n",
    "\n",
    "if os.path.exists(path):\n",
    "    with open(path, 'rb') as fp:\n",
    "        points = pickle.load(fp)\n",
    "        fp.close()\n",
    "else:\n",
    "    points = [utils.get_node_for_initial_graph_v2(g) for _ in trange(1000, desc='generate points')]\n",
    "    with open(path, 'wb') as fp:\n",
    "        pickle.dump(points, fp)\n",
    "        fp.close()"
   ],
   "metadata": {
    "collapsed": false,
    "ExecuteTime": {
     "end_time": "2024-11-22T22:31:28.043576Z",
     "start_time": "2024-11-22T22:31:28.038775Z"
    }
   },
   "id": "950e8ced345d955d",
   "execution_count": 75
  },
  {
   "cell_type": "markdown",
   "source": [],
   "metadata": {
    "collapsed": false
   },
   "id": "a4793ae718e64fac"
  },
  {
   "cell_type": "code",
   "outputs": [
    {
     "data": {
      "text/plain": "  0%|          | 0/3107 [00:00<?, ?it/s]",
      "application/vnd.jupyter.widget-view+json": {
       "version_major": 2,
       "version_minor": 0,
       "model_id": "e50a57be08e04e569c5b79f4c6ec815c"
      }
     },
     "metadata": {},
     "output_type": "display_data"
    }
   ],
   "source": [
    "d_clusters = {}\n",
    "d_nodes = {}\n",
    "for u in tqdm(g1.nodes()):\n",
    "    dst = dijkstra_pfa_min_dst(g, {cls2c[u]})\n",
    "    for v in g1.nodes():\n",
    "        d_clusters[u, v] = dst[cls2c[v]]\n",
    "        d_clusters[v, u] = dst[cls2c[v]]\n",
    "\n",
    "for u, d in tqdm(g.nodes(data=True)):\n",
    "    c = cls2c[d[name]]\n",
    "    l = nx.single_source_dijkstra(g, u, c, weight='length')[0]\n",
    "    d_nodes[u] = l"
   ],
   "metadata": {
    "collapsed": false,
    "is_executing": true,
    "ExecuteTime": {
     "start_time": "2024-11-22T22:31:28.044008Z"
    }
   },
   "id": "fba25ba03f4c60b8",
   "execution_count": null
  },
  {
   "cell_type": "code",
   "outputs": [],
   "source": [
    "from scripts import ch\n",
    "\n",
    "# chg = ch.build_ch_graph(g)"
   ],
   "metadata": {
    "collapsed": false,
    "is_executing": true
   },
   "id": "29c90daf9d7d22bc",
   "execution_count": null
  },
  {
   "cell_type": "code",
   "outputs": [],
   "source": [
    "nodes = g.nodes()\n",
    "\n",
    "def func(u, v):\n",
    "    c1 = nodes[u]['cluster']\n",
    "    c2 = nodes[v]['cluster']   \n",
    "    d1 = d_nodes[u] - d_nodes[v] - d_clusters[c1,c2]\n",
    "    d2 = abs(d_clusters[c1,c2] - d_nodes[v]) - d_nodes[u] \n",
    "    d3 = abs(d_clusters[c1,c2] - d_nodes[u]) - d_nodes[v]\n",
    "    d4 = d_nodes[v] - d_nodes[u] - d_clusters[c1,c2]\n",
    "    return max(d1,d2,d3,d4)"
   ],
   "metadata": {
    "collapsed": false,
    "is_executing": true
   },
   "id": "cfc8942099d85fc",
   "execution_count": null
  },
  {
   "cell_type": "code",
   "outputs": [],
   "source": [
    "points = [utils.get_node_for_initial_graph_v2(g) for _ in trange(1000, desc='generate points')]"
   ],
   "metadata": {
    "collapsed": false,
    "is_executing": true
   },
   "id": "499e060a5040c49c",
   "execution_count": null
  },
  {
   "cell_type": "code",
   "outputs": [],
   "source": [],
   "metadata": {
    "collapsed": false,
    "is_executing": true
   },
   "id": "c2b78f0ab2e2659",
   "execution_count": null
  },
  {
   "cell_type": "code",
   "outputs": [],
   "source": [
    "\n",
    "\n",
    "def bi_dijkstra_pfa(graph: nx.Graph,\n",
    "                    start: int,\n",
    "                    end: int\n",
    "                    ) -> tuple[float, list[int]]:\n",
    "    if start == end:\n",
    "        return 0, [start]\n",
    "    push = heappush\n",
    "    pop = heappop\n",
    "    dist = ({start: (0, None)}, {end: (0, None)})\n",
    "    fringe = ([], [])\n",
    "    c = count()\n",
    "\n",
    "    adjacency = graph._adj\n",
    "\n",
    "    push(fringe[0], (0, next(c), 0, start))\n",
    "    push(fringe[1], (0, next(c), 0, end))\n",
    "\n",
    "    union_node = None\n",
    "    union_dst = float('inf')\n",
    "    while fringe[0] and fringe[1]:\n",
    "        (_, _, d1, v1) = pop(fringe[0])\n",
    "        (_, _, d2, v2) = pop(fringe[1])\n",
    "        for u, e in adjacency[v1].items():\n",
    "            vu_dist = d1 + e['length']\n",
    "            if u not in dist[0] or dist[0][u][0] > vu_dist:\n",
    "                dist[0][u] = (vu_dist, v1)\n",
    "                push(fringe[0], (vu_dist + func(u, end), next(c), vu_dist, u))\n",
    "                if u in dist[1]:\n",
    "                    dd = dist[1][u][0] + dist[0][u][0]\n",
    "                    if dd < union_dst:\n",
    "                        union_dst = dd\n",
    "                        union_node = u\n",
    "\n",
    "        for u, e in adjacency[v2].items():\n",
    "            vu_dist = d2 + e['length']\n",
    "            if u not in dist[1] or dist[1][u][0] > vu_dist:\n",
    "                dist[1][u] = (vu_dist, v2)\n",
    "                push(fringe[1], (vu_dist + func(start, u), next(c), vu_dist, u))\n",
    "                if u in dist[0]:\n",
    "                    dd = dist[0][u][0] + dist[1][u][0]\n",
    "                    if dd < union_dst:\n",
    "                        union_dst = dd\n",
    "                        union_node = u\n",
    "\n",
    "        if union_node is not None:\n",
    "            break\n",
    "\n",
    "    d1, _ = dist[0][union_node]\n",
    "    d2, _ = dist[1][union_node]\n",
    "    path = []\n",
    "    \n",
    "    e = union_node\n",
    "    while dist[0][e][1] is not None:\n",
    "        path = [e] + path\n",
    "        e = dist[0][e][1]\n",
    "    path[0] = e\n",
    "\n",
    "    e = union_node\n",
    "    while dist[1][e][1] is not None:\n",
    "        path+= [e]\n",
    "        e = dist[1][e][1]\n",
    "    path[-1] = e\n",
    "    return union_dst, path\n"
   ],
   "metadata": {
    "collapsed": false,
    "is_executing": true
   },
   "id": "d339fff4a9547a5e",
   "execution_count": null
  },
  {
   "cell_type": "code",
   "outputs": [],
   "source": [
    "def dijkstra_pfa_cls(graph: nx.Graph,\n",
    "                     start: int,\n",
    "                     end: int\n",
    "                     ) -> tuple[float, list[int]]:\n",
    "    if start == end:\n",
    "        return 0, [start]\n",
    "    push = heappush\n",
    "    pop = heappop\n",
    "    dist = {start: (0, None)}\n",
    "    fringe = []\n",
    "    c = count()\n",
    "    adjacency = graph._adj\n",
    "    push(fringe, (0, next(c), 0, func(start, end), start))\n",
    "\n",
    "    while fringe:\n",
    "        (_, _, d1, l1, v1) = pop(fringe) \n",
    "        if v1 == end:\n",
    "            break\n",
    "        for u, e in adjacency[v1].items():\n",
    "            vu_dist = d1 + e['length']\n",
    "            if u not in dist or dist[u][0] > vu_dist:\n",
    "                dist[u] = (vu_dist, v1)\n",
    "                lu = func(u, end)\n",
    "                push(fringe, (vu_dist + lu, next(c), vu_dist, lu, u))\n",
    "\n",
    "    path = [end]\n",
    "    e = end\n",
    "    while dist[e][1] is not None:\n",
    "        e = dist[e][1]\n",
    "        path = [e] + path\n",
    "    l = 0\n",
    "    e = g.edges()\n",
    "    for i in range(len(path) - 1):\n",
    "        p1, p2 = path[i], path[i + 1]\n",
    "        l += e[p1, p2]['length']\n",
    "    return l, path"
   ],
   "metadata": {
    "collapsed": false,
    "is_executing": true
   },
   "id": "597f39eb6485807e",
   "execution_count": null
  },
  {
   "cell_type": "code",
   "outputs": [
    {
     "name": "stdout",
     "output_type": "stream",
     "text": [
      "start 0\n"
     ]
    },
    {
     "data": {
      "text/plain": "find paths:   0%|          | 0/250 [00:00<?, ?it/s]",
      "application/vnd.jupyter.widget-view+json": {
       "version_major": 2,
       "version_minor": 0,
       "model_id": "9505ae74a0944f95904bb608fe8e41a5"
      }
     },
     "metadata": {},
     "output_type": "display_data"
    },
    {
     "name": "stdout",
     "output_type": "stream",
     "text": [
      "start 1\n"
     ]
    },
    {
     "data": {
      "text/plain": "find paths:   0%|          | 0/250 [00:00<?, ?it/s]",
      "application/vnd.jupyter.widget-view+json": {
       "version_major": 2,
       "version_minor": 0,
       "model_id": "20356ae81fd7429cb2dfc1a5f4918c98"
      }
     },
     "metadata": {},
     "output_type": "display_data"
    },
    {
     "name": "stdout",
     "output_type": "stream",
     "text": [
      "start 2\n"
     ]
    },
    {
     "data": {
      "text/plain": "find paths:   0%|          | 0/250 [00:00<?, ?it/s]",
      "application/vnd.jupyter.widget-view+json": {
       "version_major": 2,
       "version_minor": 0,
       "model_id": "449e9b6260e64940bc4034dcaeeb9b6c"
      }
     },
     "metadata": {},
     "output_type": "display_data"
    },
    {
     "name": "stdout",
     "output_type": "stream",
     "text": [
      "start 3\n"
     ]
    },
    {
     "data": {
      "text/plain": "find paths:   0%|          | 0/250 [00:00<?, ?it/s]",
      "application/vnd.jupyter.widget-view+json": {
       "version_major": 2,
       "version_minor": 0,
       "model_id": "48ef7893ba9b4d5fa4bda67b560a2543"
      }
     },
     "metadata": {},
     "output_type": "display_data"
    },
    {
     "name": "stdout",
     "output_type": "stream",
     "text": [
      "err_mean: 0.00\n",
      "err_min: 0.00\n",
      "err_max: 0.00\n",
      "2.719918710592404\n"
     ]
    }
   ],
   "source": [
    "\n",
    "\n",
    "NUM_ITERATION = 2  # чтобы уменьшить ошибку при вычислении времени выполнения, при каждом замере время меряется для NUM_ITERATION повторений\n",
    "WORKER = 4  # количество потоков\n",
    "\n",
    "\n",
    "def do_calc(data):\n",
    "    pps, i = data\n",
    "\n",
    "    stat = {}\n",
    "    stat['l'] = []\n",
    "    stat['h_l'] = []\n",
    "    stat['p'] = []\n",
    "    stat['h_p'] = []\n",
    "    stat['time_l'] = []\n",
    "    stat['time_h'] = []\n",
    "\n",
    "    stat['delta'] = []\n",
    "    # чисто чтобы tqdm нормально прогрузился \n",
    "    sleep(i / 10)\n",
    "    print('start', i)\n",
    "\n",
    "    for p1, p2 in tqdm(pps, desc='find paths', position=i):\n",
    "        if (p1, p2) in stat:\n",
    "            continue\n",
    "        # класический дейкстра\n",
    "        l, p = None, None\n",
    "        start = time.time()\n",
    "        for i in range(NUM_ITERATION):\n",
    "            l, p = nx.single_source_dijkstra(g, p1, p2, weight='length')\n",
    "        time_l = time.time() - start\n",
    "\n",
    "        # иерархический\n",
    "        h_l, h_p = None, None\n",
    "        start = time.time()\n",
    "        for _ in range(NUM_ITERATION):\n",
    "            # h_l, h_p = bi_dijkstra_pfa(g, p1,p2) #find_path_length_h(g, g1,cms, p1, p2)\n",
    "            h_l, h_p = dijkstra_pfa_cls(g, p1, p2)  #find_path_length_h(g, g1,cms, p1, p2)\n",
    "            # h_l, h_p = nx.astar_path_length(g, p1, p2, heuristic=func, weight='length'),[]  #find_path_length_h(g, g1,cms, p1, p2)\n",
    "            # h_l,h_p=ch_pfa(chg, p1,p2)\n",
    "        time_h = time.time() - start\n",
    "\n",
    "        delta = (h_l - l) / l * 100\n",
    "        stat['l'].append(l)  # длина обычного пути\n",
    "        stat['h_l'].append(h_l)  # длина иерархического пути\n",
    "        stat['p'].append(p)  # обычный путь\n",
    "        stat['h_p'].append(h_p)  # иерархический путь\n",
    "        stat['delta'].append(delta)  # разница в длине\n",
    "        stat['time_l'].append(time_l)  # обычное время \n",
    "        stat['time_h'].append(time_h)  # иерархическое\n",
    "    return stat\n",
    "\n",
    "\n",
    "data = [([p for p in points[i::WORKER]], i) for i in range(WORKER)]\n",
    "# do_calc(data[0])\n",
    "with Pool(WORKER) as p:\n",
    "    res = p.map(do_calc, data)\n",
    "\n",
    "stat = {}\n",
    "for l in res:\n",
    "    for d in l:\n",
    "        if d not in stat:\n",
    "            stat[d] = []\n",
    "        stat[d].extend(l[d])\n",
    "print(f\"err_mean: {np.mean(stat['delta']):.2f}\")\n",
    "print(f\"err_min: {np.min(stat['delta']):.2f}\")\n",
    "print(f\"err_max: { np.max(stat['delta']):.2f}\",)\n",
    "print(np.mean(np.array(stat['time_l']) / np.array(stat['time_h'])))"
   ],
   "metadata": {
    "collapsed": false,
    "ExecuteTime": {
     "end_time": "2024-11-22T22:28:23.212231Z",
     "start_time": "2024-11-22T22:28:22.443790Z"
    }
   },
   "id": "d7674e5d2cbc4bb2",
   "execution_count": 66
  },
  {
   "cell_type": "code",
   "outputs": [],
   "source": [
    "len(g.nodes), len(g.edges), nx.density(g)"
   ],
   "metadata": {
    "collapsed": false
   },
   "id": "f2f9573ae8b0be63",
   "execution_count": null
  },
  {
   "cell_type": "code",
   "outputs": [],
   "source": [
    "p1,p2 = points[0]"
   ],
   "metadata": {
    "collapsed": false,
    "ExecuteTime": {
     "end_time": "2024-11-19T14:26:03.203170Z",
     "start_time": "2024-11-19T14:26:03.202464Z"
    }
   },
   "id": "6494171739b16290",
   "execution_count": null
  },
  {
   "cell_type": "code",
   "outputs": [],
   "source": [],
   "metadata": {
    "collapsed": false,
    "ExecuteTime": {
     "end_time": "2024-11-19T14:26:03.207364Z",
     "start_time": "2024-11-19T14:26:03.206871Z"
    }
   },
   "id": "a41c93a4c194ce26"
  }
 ],
 "metadata": {
  "kernelspec": {
   "display_name": "Python 3",
   "language": "python",
   "name": "python3"
  },
  "language_info": {
   "codemirror_mode": {
    "name": "ipython",
    "version": 2
   },
   "file_extension": ".py",
   "mimetype": "text/x-python",
   "name": "python",
   "nbconvert_exporter": "python",
   "pygments_lexer": "ipython2",
   "version": "2.7.6"
  }
 },
 "nbformat": 4,
 "nbformat_minor": 5
}
