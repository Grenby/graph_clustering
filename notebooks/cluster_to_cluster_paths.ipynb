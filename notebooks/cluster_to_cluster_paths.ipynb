{
 "cells": [
  {
   "cell_type": "code",
   "execution_count": 26,
   "id": "initial_id",
   "metadata": {
    "collapsed": true,
    "ExecuteTime": {
     "end_time": "2024-10-02T09:19:09.085040Z",
     "start_time": "2024-10-02T09:19:09.082402Z"
    }
   },
   "outputs": [],
   "source": [
    "import itertools\n",
    "import math\n",
    "import pickle\n",
    "import random\n",
    "import sys\n",
    "import time\n",
    "from multiprocessing import Pool\n",
    "\n",
    "import geopy\n",
    "import networkx as nx\n",
    "import numpy as np\n",
    "import pandas\n",
    "import pandas as pd\n",
    "from scipy.spatial import KDTree as kd\n",
    "from tqdm import trange, tqdm\n",
    "# import matplotlib.pyplot as plt\n",
    "import graph_tests\n",
    "import graph_generator\n",
    "import clustering\n",
    "import osmnx as ox\n",
    "import time\n",
    "from common import GraphLayer\n",
    "import numpy as np\n",
    "import matplotlib.pyplot as plt\n",
    "import pylab"
   ]
  },
  {
   "cell_type": "code",
   "outputs": [],
   "source": [
    "G = graph_generator.get_graph('R2555133')"
   ],
   "metadata": {
    "collapsed": false,
    "ExecuteTime": {
     "end_time": "2024-10-02T09:19:15.691828Z",
     "start_time": "2024-10-02T09:19:09.194691Z"
    }
   },
   "id": "10105641575583ec",
   "execution_count": 27
  },
  {
   "cell_type": "code",
   "outputs": [],
   "source": [
    "Q = nx.Graph()\n",
    "for u, d in G.nodes(data=True):\n",
    "    Q.add_node(u, x=d['x'], y=d['y'])\n",
    "for u, v, d in G.edges(data=True):\n",
    "    if u != v:\n",
    "        Q.add_edge(u, v, length=d['length'])\n",
    "G = Q"
   ],
   "metadata": {
    "collapsed": false,
    "ExecuteTime": {
     "end_time": "2024-10-02T09:32:06.689892Z",
     "start_time": "2024-10-02T09:31:41.465357Z"
    }
   },
   "id": "c00161ae03a2da40",
   "execution_count": 58
  },
  {
   "cell_type": "code",
   "outputs": [],
   "source": [
    "# print(G.edges(data=True))"
   ],
   "metadata": {
    "collapsed": false,
    "ExecuteTime": {
     "end_time": "2024-10-02T09:19:15.728469Z",
     "start_time": "2024-10-02T09:19:15.726665Z"
    }
   },
   "id": "fff8b2520d5f9937",
   "execution_count": 29
  },
  {
   "cell_type": "code",
   "outputs": [
    {
     "name": "stdout",
     "output_type": "stream",
     "text": [
      "r: 50 length\n"
     ]
    }
   ],
   "source": [
    "communities = clustering.LouvainKMeansCommunitiesResolver(resolution = 50).find_communities(G)\n",
    "clustering.CommunitiesResolver.write_communities(G, communities)\n",
    "cls2hubs = graph_generator.get_cluster_to_bridge_points(G)\n",
    "cls2n = graph_generator.get_cluster_to_neighboring_clusters(G)"
   ],
   "metadata": {
    "collapsed": false,
    "ExecuteTime": {
     "end_time": "2024-10-02T09:32:09.264395Z",
     "start_time": "2024-10-02T09:32:06.691631Z"
    }
   },
   "id": "afda82c1aeee1ecd",
   "execution_count": 59
  },
  {
   "cell_type": "code",
   "outputs": [],
   "source": [],
   "metadata": {
    "collapsed": false,
    "ExecuteTime": {
     "end_time": "2024-10-02T09:19:17.037079Z",
     "start_time": "2024-10-02T09:19:17.034390Z"
    }
   },
   "id": "16699844c34325be",
   "execution_count": 30
  },
  {
   "cell_type": "code",
   "outputs": [
    {
     "name": "stdout",
     "output_type": "stream",
     "text": [
      "1264\n"
     ]
    }
   ],
   "source": [
    "print(len(communities))"
   ],
   "metadata": {
    "collapsed": false,
    "ExecuteTime": {
     "end_time": "2024-10-02T09:32:09.267060Z",
     "start_time": "2024-10-02T09:32:09.264991Z"
    }
   },
   "id": "23bd615d3c81a0a8",
   "execution_count": 60
  },
  {
   "cell_type": "code",
   "outputs": [],
   "source": [],
   "metadata": {
    "collapsed": false,
    "ExecuteTime": {
     "end_time": "2024-10-02T09:19:17.043993Z",
     "start_time": "2024-10-02T09:19:17.042666Z"
    }
   },
   "id": "df23db42935e277",
   "execution_count": 31
  },
  {
   "cell_type": "code",
   "outputs": [],
   "source": [
    "c_from = 0\n",
    "c_to = 1\n",
    "\n",
    "nodes_from = communities[c_from]\n",
    "nodes_to = communities[c_to]\n"
   ],
   "metadata": {
    "collapsed": false,
    "ExecuteTime": {
     "end_time": "2024-10-02T09:32:09.273613Z",
     "start_time": "2024-10-02T09:32:09.268789Z"
    }
   },
   "id": "55ddba351aa45368",
   "execution_count": 61
  },
  {
   "cell_type": "code",
   "outputs": [
    {
     "name": "stdout",
     "output_type": "stream",
     "text": [
      "[1, 444, 555, 666] [666, 555, 444, 1]\n"
     ]
    }
   ],
   "source": [
    "a = list(dict.fromkeys([1,444,555,666]))\n",
    "b = list(dict.fromkeys([666,555,444,1]))\n",
    "print(a,b)"
   ],
   "metadata": {
    "collapsed": false,
    "ExecuteTime": {
     "end_time": "2024-10-02T09:32:09.275746Z",
     "start_time": "2024-10-02T09:32:09.274064Z"
    }
   },
   "id": "67eb49b97e9685a7",
   "execution_count": 62
  },
  {
   "cell_type": "code",
   "outputs": [
    {
     "name": "stderr",
     "output_type": "stream",
     "text": [
      "100%|██████████| 12/12 [00:00<00:00, 5826.77it/s]\n"
     ]
    }
   ],
   "source": [
    "c_from = 0\n",
    "c_to = 1\n",
    "\n",
    "nodes_from = communities[c_from]\n",
    "nodes_to = communities[c_to]\n",
    "\n",
    "statistic = {}\n",
    "total = 0\n",
    "for f in tqdm(nodes_from):\n",
    "    for t in nodes_to:\n",
    "        p = nx.single_source_dijkstra(G, f,t,weight='length')\n",
    "        cls = list(dict.fromkeys([int(G.nodes[u]['cluster']) for u in p[1]])) \n",
    "        cls = tuple(cls)\n",
    "        if cls not in statistic:\n",
    "            statistic[cls] = 0\n",
    "        statistic[cls]+=1\n",
    "        total +=1\n",
    "for k in statistic:\n",
    "    statistic[k]/=total\n"
   ],
   "metadata": {
    "collapsed": false,
    "ExecuteTime": {
     "end_time": "2024-10-02T09:32:09.281213Z",
     "start_time": "2024-10-02T09:32:09.276175Z"
    }
   },
   "id": "b57b2671d5af4fef",
   "execution_count": 63
  },
  {
   "cell_type": "code",
   "outputs": [
    {
     "data": {
      "text/plain": "{(0, 3, 1): 1.0}"
     },
     "execution_count": 64,
     "metadata": {},
     "output_type": "execute_result"
    }
   ],
   "source": [
    "statistic"
   ],
   "metadata": {
    "collapsed": false,
    "ExecuteTime": {
     "end_time": "2024-10-02T09:32:09.283456Z",
     "start_time": "2024-10-02T09:32:09.281645Z"
    }
   },
   "id": "5d77dddd3b78c426",
   "execution_count": 64
  },
  {
   "cell_type": "code",
   "outputs": [
    {
     "data": {
      "text/plain": "{'(0, 1)': 0.9166666666666666,\n '(0, 2, 9, 1)': 0.06111111111111111,\n '(0, 57, 1)': 0.022222222222222223}"
     },
     "execution_count": 36,
     "metadata": {},
     "output_type": "execute_result"
    }
   ],
   "source": [
    "f = {str(k): statistic[k] for k in statistic}\n",
    "f = list(f.items())\n",
    "f.sort(key = lambda x : -x[1])\n",
    "f = dict(f)\n",
    "f"
   ],
   "metadata": {
    "collapsed": false,
    "ExecuteTime": {
     "end_time": "2024-10-02T09:19:17.085510Z",
     "start_time": "2024-10-02T09:19:17.079749Z"
    }
   },
   "id": "f24c0d8cb9e67928",
   "execution_count": 36
  },
  {
   "cell_type": "code",
   "outputs": [],
   "source": [
    "def get_statistic(c_from,c_to, log = False):\n",
    "    nodes_from = communities[c_from]\n",
    "    nodes_to = communities[c_to]\n",
    "    \n",
    "    statistic = {}\n",
    "    total = 0\n",
    "    generator = tqdm(nodes_from, desc='find statistic') if log else nodes_from \n",
    "    for f in generator:\n",
    "        for t in nodes_to:\n",
    "            p = nx.single_source_dijkstra(G, f,t,weight='length')\n",
    "            cls = list(dict.fromkeys([int(G.nodes[u]['cluster']) for u in p[1]])) \n",
    "            \n",
    "            cls = tuple(cls)\n",
    "            if cls not in statistic:\n",
    "                statistic[cls] = 0\n",
    "            statistic[cls]+=1\n",
    "            total +=1\n",
    "    for k in statistic:\n",
    "        statistic[k]/=total\n",
    "    statistic = list(statistic.items())\n",
    "    statistic.sort(key = lambda x : -x[1])\n",
    "    statistic = dict(statistic)\n",
    "    return statistic"
   ],
   "metadata": {
    "collapsed": false,
    "ExecuteTime": {
     "end_time": "2024-10-02T09:32:11.017198Z",
     "start_time": "2024-10-02T09:32:11.010678Z"
    }
   },
   "id": "53082d31e8b8bd3d",
   "execution_count": 65
  },
  {
   "cell_type": "code",
   "outputs": [],
   "source": [
    "def get_statistic_per_point(c_from,c_to,cls2hubs, log = False):\n",
    "    # nodes_from =[u for u in nx.barycenter(extract_cluster_list_subgraph(G, [c_from], communities), weight='length')]\n",
    "    # nodes_to = [u for u in  nx.barycenter(extract_cluster_list_subgraph(G, [c_to], communities), weight='length')]\n",
    "    nodes_from = cls2hubs[c_from]\n",
    "    nodes_to = cls2hubs[c_to]\n",
    "    statistic = {}\n",
    "    generator = tqdm(nodes_from, desc='find statistic') if log else nodes_from \n",
    "    # generator = [nx.barycenter(extract_cluster_list_subgraph(G, [c_from], communities))[0]]\n",
    "    for f in generator:\n",
    "        statistic[f] = {}\n",
    "        for t in nodes_to:\n",
    "            p = nx.single_source_dijkstra(G, f,t,weight='length')\n",
    "            cls = list(dict.fromkeys([int(G.nodes[u]['cluster']) for u in p[1]])) \n",
    "            cls = tuple(cls)\n",
    "            if cls not in statistic[f]:\n",
    "                statistic[f][cls] = 0\n",
    "            statistic[f][cls] += 1\n",
    "    return statistic"
   ],
   "metadata": {
    "collapsed": false,
    "ExecuteTime": {
     "end_time": "2024-10-02T09:32:12.635467Z",
     "start_time": "2024-10-02T09:32:12.630987Z"
    }
   },
   "id": "3904d3debdff5a2c",
   "execution_count": 66
  },
  {
   "cell_type": "code",
   "outputs": [
    {
     "name": "stderr",
     "output_type": "stream",
     "text": [
      "find statistic: 100%|██████████| 18/18 [00:00<00:00, 2023.68it/s]"
     ]
    },
    {
     "name": "stdout",
     "output_type": "stream",
     "text": [
      "{(0,): 0.9320987654320988, (0, 1): 0.05555555555555555, (0, 2): 0.012345679012345678}\n"
     ]
    },
    {
     "name": "stderr",
     "output_type": "stream",
     "text": [
      "\n"
     ]
    }
   ],
   "source": [
    "print(get_statistic(0,0, cls2hubs))"
   ],
   "metadata": {
    "collapsed": false,
    "ExecuteTime": {
     "end_time": "2024-10-02T09:19:17.106248Z",
     "start_time": "2024-10-02T09:19:17.093362Z"
    }
   },
   "id": "c231c7bf769833ec",
   "execution_count": 39
  },
  {
   "cell_type": "code",
   "outputs": [],
   "source": [
    "def get_distance(c_from,c_to, c = None,log = False):\n",
    "    nodes_from = communities[c_from]\n",
    "    nodes_to = communities[c_to]\n",
    "    q = G if c is None else graph_generator.extract_cluster_list_subgraph(G, c, communities)\n",
    "    dist = {}\n",
    "    add = ' usual' if c is None else ' with clusters'\n",
    "    generator =  tqdm(nodes_from, desc='find paths' + add) if log else nodes_from\n",
    "    for f in generator:\n",
    "        for t in nodes_to:\n",
    "            p = nx.single_source_dijkstra(q, f,t,weight='length')\n",
    "            if f not in dist:\n",
    "                dist[f] = {}\n",
    "            dist[f][t] = p[0]\n",
    "    return dist"
   ],
   "metadata": {
    "collapsed": false,
    "ExecuteTime": {
     "end_time": "2024-10-02T09:32:15.374512Z",
     "start_time": "2024-10-02T09:32:15.369945Z"
    }
   },
   "id": "bb5c162b1db005d2",
   "execution_count": 67
  },
  {
   "cell_type": "code",
   "outputs": [],
   "source": [
    "usual_matrix =  get_distance(0,1)"
   ],
   "metadata": {
    "collapsed": false,
    "ExecuteTime": {
     "end_time": "2024-10-02T09:19:17.131304Z",
     "start_time": "2024-10-02T09:19:17.109618Z"
    }
   },
   "id": "f819982e4bfb4d2",
   "execution_count": 41
  },
  {
   "cell_type": "code",
   "outputs": [],
   "source": [
    "c1 = set([0, 268, 437, 27, 74, 385, 355, 4, 109, 311, 105, 3, 384, 427, 417, 348, 39, 18, 98, 99, 143, 144, 148, 149, 150, 451, 395, 153, 1])\n",
    "c2 = set([0, 369, 268, 331, 239, 355, 4, 109, 311, 105, 3, 384, 427, 417, 348, 39, 18, 98, 99, 143, 144, 148, 149, 150, 451, 395, 153, 1])\n",
    "cc = c1.union(c2)\n",
    "cluster_matrix =  get_distance(0,1, cc)"
   ],
   "metadata": {
    "collapsed": false,
    "ExecuteTime": {
     "end_time": "2024-10-02T09:19:17.159644Z",
     "start_time": "2024-10-02T09:19:17.133834Z"
    }
   },
   "id": "78d3f6e60f52e683",
   "execution_count": 42
  },
  {
   "cell_type": "code",
   "outputs": [],
   "source": [
    "err = {f : {t : abs(usual_matrix[f][t] - cluster_matrix[f][t])/usual_matrix[f][t] for t in usual_matrix[f]}for f in usual_matrix}"
   ],
   "metadata": {
    "collapsed": false,
    "ExecuteTime": {
     "end_time": "2024-10-02T09:19:17.162525Z",
     "start_time": "2024-10-02T09:19:17.160607Z"
    }
   },
   "id": "23227ff9fe39ac4c",
   "execution_count": 43
  },
  {
   "cell_type": "code",
   "outputs": [],
   "source": [
    "errs = [err[f][t] for f in err for t in err[f]]"
   ],
   "metadata": {
    "collapsed": false,
    "ExecuteTime": {
     "end_time": "2024-10-02T09:19:17.165861Z",
     "start_time": "2024-10-02T09:19:17.163115Z"
    }
   },
   "id": "8f1aa0d3ec0cfe55",
   "execution_count": 44
  },
  {
   "cell_type": "code",
   "outputs": [
    {
     "name": "stdout",
     "output_type": "stream",
     "text": [
      "0.009963765379895963\n"
     ]
    }
   ],
   "source": [
    "print(np.mean(errs))"
   ],
   "metadata": {
    "collapsed": false,
    "ExecuteTime": {
     "end_time": "2024-10-02T09:19:17.168776Z",
     "start_time": "2024-10-02T09:19:17.166335Z"
    }
   },
   "id": "43c782c147294d7",
   "execution_count": 45
  },
  {
   "cell_type": "code",
   "outputs": [
    {
     "name": "stderr",
     "output_type": "stream",
     "text": [
      "  1%|          | 4/790 [00:00<00:50, 15.47it/s]"
     ]
    },
    {
     "name": "stdout",
     "output_type": "stream",
     "text": [
      "from 0 to 1 mean: 0.009964±0.044952 max: 0.412521 acceleration: 1.515556\n",
      "from 0 to 2 mean: 0.000237±0.001822 max: 0.016676 acceleration: 1.389875\n",
      "from 0 to 3 mean: 0.009033±0.034654 max: 0.230514 acceleration: 1.014588\n",
      "from 0 to 4 mean: 0.035176±0.090612 max: 0.562528 acceleration: 1.267880\n"
     ]
    },
    {
     "name": "stderr",
     "output_type": "stream",
     "text": [
      "  1%|          | 6/790 [00:00<01:13, 10.70it/s]"
     ]
    },
    {
     "name": "stdout",
     "output_type": "stream",
     "text": [
      "from 0 to 5 mean: 0.008364±0.047737 max: 0.506380 acceleration: 1.473704\n",
      "from 0 to 6 mean: 0.002773±0.010250 max: 0.054738 acceleration: 2.220538\n"
     ]
    },
    {
     "name": "stderr",
     "output_type": "stream",
     "text": [
      "  1%|          | 9/790 [00:00<00:59, 13.04it/s]"
     ]
    },
    {
     "name": "stdout",
     "output_type": "stream",
     "text": [
      "from 0 to 7 mean: 0.129987±0.234111 max: 1.181717 acceleration: 1.189660\n",
      "from 0 to 8 mean: 0.111754±0.148816 max: 0.470968 acceleration: 0.883836\n",
      "from 0 to 9 mean: 0.038721±0.094034 max: 0.605260 acceleration: 1.686220\n",
      "from 0 to 10 mean: 0.022330±0.029675 max: 0.088071 acceleration: 5.997043\n"
     ]
    },
    {
     "name": "stderr",
     "output_type": "stream",
     "text": [
      "  1%|▏         | 11/790 [00:06<11:52,  1.09it/s]"
     ]
    },
    {
     "name": "stdout",
     "output_type": "stream",
     "text": [
      "from 0 to 11 mean: 0.028075±0.035291 max: 0.173083 acceleration: 5.112159\n"
     ]
    },
    {
     "name": "stderr",
     "output_type": "stream",
     "text": [
      "  2%|▏         | 12/790 [00:06<11:12,  1.16it/s]"
     ]
    },
    {
     "name": "stdout",
     "output_type": "stream",
     "text": [
      "from 0 to 12 mean: 0.032642±0.033996 max: 0.110816 acceleration: 6.322290\n",
      "from 0 to 13 mean: 0.025366±0.033593 max: 0.091042 acceleration: 7.240761\n"
     ]
    },
    {
     "name": "stderr",
     "output_type": "stream",
     "text": [
      "  2%|▏         | 14/790 [00:09<13:28,  1.04s/it]"
     ]
    },
    {
     "name": "stdout",
     "output_type": "stream",
     "text": [
      "from 0 to 14 mean: 0.032559±0.038126 max: 0.153292 acceleration: 6.832748\n"
     ]
    },
    {
     "name": "stderr",
     "output_type": "stream",
     "text": [
      "  2%|▏         | 15/790 [00:11<15:15,  1.18s/it]"
     ]
    },
    {
     "name": "stdout",
     "output_type": "stream",
     "text": [
      "from 0 to 15 mean: 0.032877±0.049881 max: 0.259719 acceleration: 5.415955\n"
     ]
    },
    {
     "name": "stderr",
     "output_type": "stream",
     "text": [
      "  2%|▏         | 16/790 [00:12<14:48,  1.15s/it]"
     ]
    },
    {
     "name": "stdout",
     "output_type": "stream",
     "text": [
      "from 0 to 16 mean: 0.018934±0.025125 max: 0.071241 acceleration: 5.019406\n"
     ]
    },
    {
     "name": "stderr",
     "output_type": "stream",
     "text": [
      "  2%|▏         | 17/790 [00:13<15:51,  1.23s/it]"
     ]
    },
    {
     "name": "stdout",
     "output_type": "stream",
     "text": [
      "from 0 to 17 mean: 0.039027±0.036149 max: 0.155441 acceleration: 5.526257\n"
     ]
    },
    {
     "name": "stderr",
     "output_type": "stream",
     "text": [
      "  2%|▏         | 17/790 [00:15<12:04,  1.07it/s]\n",
      "\n",
      "KeyboardInterrupt\n",
      "\n"
     ]
    }
   ],
   "source": [
    "import time\n",
    "\n",
    "data = {}\n",
    "top_clusters = 1\n",
    "for i in range(len(communities)):\n",
    "    data[i] = {}\n",
    "    for j in trange(i+1, len(communities)):\n",
    "        st = list(get_statistic(i,j).items())\n",
    "        c = set()\n",
    "        for cls in range(top_clusters):      \n",
    "            c1 = set(st[cls][0])\n",
    "            c = c.union(c1)\n",
    "        start = time.time_ns()\n",
    "        usual_matrix =  get_distance(i,j)\n",
    "        usual_time = time.time_ns() - start\n",
    "        start = time.time_ns()\n",
    "        cluster_matrix =  get_distance(i,j, c)\n",
    "        cluster_time = time.time_ns() - start\n",
    "        acc = usual_time / cluster_time\n",
    "        err = {f : {t : abs(usual_matrix[f][t] - cluster_matrix[f][t])/usual_matrix[f][t] for t in usual_matrix[f]}for f in usual_matrix}\n",
    "        errs = [err[f][t] for f in err for t in err[f]]\n",
    "        print(f'from {i} to {j} mean: {np.mean(errs):3f}±{np.std(errs):3f} max: {np.max(errs):3f} acceleration: {acc:3f}')\n",
    "        data[i][j] = errs"
   ],
   "metadata": {
    "collapsed": false,
    "ExecuteTime": {
     "end_time": "2024-10-02T09:20:08.107213Z",
     "start_time": "2024-10-02T09:19:52.021636Z"
    }
   },
   "id": "1c4dddf478f78a56",
   "execution_count": 47
  },
  {
   "cell_type": "code",
   "outputs": [],
   "source": [
    "def extract_cluster_list_subgraph(graph: nx.Graph, cluster_number: list[int] | set[int], communities=None) -> nx.Graph:\n",
    "    if communities:\n",
    "        nodes_to_keep = [u for c in cluster_number for u in communities[c]]\n",
    "    else:\n",
    "        nodes_to_keep = [node for node, data in graph.nodes(data=True) if data['cluster'] in cluster_number]\n",
    "    return  nx.Graph(graph.subgraph(nodes_to_keep))"
   ],
   "metadata": {
    "collapsed": false,
    "ExecuteTime": {
     "end_time": "2024-10-02T09:20:11.362576Z",
     "start_time": "2024-10-02T09:20:11.359494Z"
    }
   },
   "id": "a4c22aa25e01db45",
   "execution_count": 48
  },
  {
   "cell_type": "code",
   "outputs": [],
   "source": [
    "def draw():\n",
    "    pass"
   ],
   "metadata": {
    "collapsed": false,
    "ExecuteTime": {
     "end_time": "2024-10-02T09:19:17.211521Z",
     "start_time": "2024-10-02T09:19:17.211361Z"
    }
   },
   "id": "8c87eabea5d200"
  },
  {
   "cell_type": "code",
   "outputs": [
    {
     "name": "stderr",
     "output_type": "stream",
     "text": [
      "100%|██████████| 1264/1264 [00:46<00:00, 27.00it/s] \n"
     ]
    }
   ],
   "source": [
    "A = {}\n",
    "for i in trange(0,len(communities)):\n",
    "    A[i] = {}\n",
    "    for j in cls2n[i]:\n",
    "        data = get_statistic_per_point(i,j,cls2hubs,False)\n",
    "        ss= set()\n",
    "        for k,v in data.items():\n",
    "            for kk, vv in v.items():\n",
    "                ss.add(kk)\n",
    "        cls0to1 = set()\n",
    "        for ii in ss:\n",
    "            for jj in ii:\n",
    "                cls0to1.add(jj)\n",
    "        A[i][j] = cls0to1"
   ],
   "metadata": {
    "collapsed": false,
    "ExecuteTime": {
     "end_time": "2024-10-02T09:33:07.196716Z",
     "start_time": "2024-10-02T09:32:20.368915Z"
    }
   },
   "id": "2ae82cb3c85a4e08",
   "execution_count": 68
  },
  {
   "cell_type": "markdown",
   "source": [
    "print"
   ],
   "metadata": {
    "collapsed": false
   },
   "id": "e855249c5c5bf97c"
  },
  {
   "cell_type": "code",
   "outputs": [
    {
     "name": "stdout",
     "output_type": "stream",
     "text": [
      "264 5106\n"
     ]
    }
   ],
   "source": [
    "c_diff = 0\n",
    "c_eq = 0\n",
    "for i in A:\n",
    "    for j in A[i]:\n",
    "        a : set = cls2n[i]\n",
    "        a = a.union(set([i])).union(cls2n[j])\n",
    "        b : set = A[i][j]\n",
    "        delta = b.difference(a)\n",
    "        if len(delta) != 0:\n",
    "            c_diff+=1\n",
    "        else:\n",
    "            c_eq+=1\n",
    "print(c_diff, c_eq)"
   ],
   "metadata": {
    "collapsed": false,
    "ExecuteTime": {
     "end_time": "2024-10-02T11:13:23.732560Z",
     "start_time": "2024-10-02T11:13:23.720818Z"
    }
   },
   "id": "d11f61b7fa8eef9e",
   "execution_count": 103
  },
  {
   "cell_type": "code",
   "outputs": [
    {
     "name": "stdout",
     "output_type": "stream",
     "text": [
      "{2: 1510, 5: 694, 4: 1128, 3: 1504, 6: 270, 7: 144, 8: 74, 10: 10, 9: 26, 13: 6, 14: 2, 11: 2}\n"
     ]
    }
   ],
   "source": [
    "count_data = {}\n",
    "for i in A:\n",
    "    for j in A[i]:\n",
    "        l = len(A[i][j])\n",
    "        if l not in count_data:\n",
    "            count_data[l] = 0\n",
    "        count_data[l]+=1\n",
    "        # if len(A[i][j]) > 2:\n",
    "            # print(i,j,A[i][j])\n",
    "print(count_data)"
   ],
   "metadata": {
    "collapsed": false,
    "ExecuteTime": {
     "end_time": "2024-10-02T09:33:10.254470Z",
     "start_time": "2024-10-02T09:33:10.248150Z"
    }
   },
   "id": "34982654222c554c",
   "execution_count": 69
  },
  {
   "cell_type": "code",
   "outputs": [
    {
     "name": "stdout",
     "output_type": "stream",
     "text": [
      "r: 50 length\n"
     ]
    },
    {
     "name": "stderr",
     "output_type": "stream",
     "text": [
      "100%|██████████| 205/205 [00:00<00:00, 1370.48it/s]\n"
     ]
    },
    {
     "data": {
      "text/plain": "    n  count\n0   5    564\n1   3   1028\n2   4    848\n3   6    282\n4   2    798\n5   8     30\n6   7    110\n7   9     18\n8  10      6",
      "text/html": "<div>\n<style scoped>\n    .dataframe tbody tr th:only-of-type {\n        vertical-align: middle;\n    }\n\n    .dataframe tbody tr th {\n        vertical-align: top;\n    }\n\n    .dataframe thead th {\n        text-align: right;\n    }\n</style>\n<table border=\"1\" class=\"dataframe\">\n  <thead>\n    <tr style=\"text-align: right;\">\n      <th></th>\n      <th>n</th>\n      <th>count</th>\n    </tr>\n  </thead>\n  <tbody>\n    <tr>\n      <th>0</th>\n      <td>5</td>\n      <td>564</td>\n    </tr>\n    <tr>\n      <th>1</th>\n      <td>3</td>\n      <td>1028</td>\n    </tr>\n    <tr>\n      <th>2</th>\n      <td>4</td>\n      <td>848</td>\n    </tr>\n    <tr>\n      <th>3</th>\n      <td>6</td>\n      <td>282</td>\n    </tr>\n    <tr>\n      <th>4</th>\n      <td>2</td>\n      <td>798</td>\n    </tr>\n    <tr>\n      <th>5</th>\n      <td>8</td>\n      <td>30</td>\n    </tr>\n    <tr>\n      <th>6</th>\n      <td>7</td>\n      <td>110</td>\n    </tr>\n    <tr>\n      <th>7</th>\n      <td>9</td>\n      <td>18</td>\n    </tr>\n    <tr>\n      <th>8</th>\n      <td>10</td>\n      <td>6</td>\n    </tr>\n  </tbody>\n</table>\n</div>"
     },
     "execution_count": 56,
     "metadata": {},
     "output_type": "execute_result"
    }
   ],
   "source": [],
   "metadata": {
    "collapsed": false,
    "ExecuteTime": {
     "end_time": "2024-10-02T09:30:51.626696Z",
     "start_time": "2024-10-02T09:30:50.477633Z"
    }
   },
   "id": "8564be5b566890b7",
   "execution_count": 56
  },
  {
   "cell_type": "markdown",
   "source": [],
   "metadata": {
    "collapsed": false
   },
   "id": "8e28b444e9afe631"
  },
  {
   "cell_type": "code",
   "outputs": [],
   "source": [
    "data = {'n' : [k for k in count_data],\n",
    "        'count': [count_data[k]/2 for k in count_data]}\n",
    "df = pandas.DataFrame.from_dict(data)"
   ],
   "metadata": {
    "collapsed": false,
    "ExecuteTime": {
     "end_time": "2024-10-02T09:33:43.981561Z",
     "start_time": "2024-10-02T09:33:43.978733Z"
    }
   },
   "id": "51235e36e2b04f73",
   "execution_count": 72
  },
  {
   "cell_type": "markdown",
   "source": [],
   "metadata": {
    "collapsed": false
   },
   "id": "62b6df2ad86091d4"
  },
  {
   "cell_type": "code",
   "outputs": [],
   "source": [],
   "metadata": {
    "collapsed": false
   },
   "id": "3717178d891863b3"
  },
  {
   "cell_type": "code",
   "outputs": [
    {
     "data": {
      "text/plain": "     n  count\n0    2  755.0\n1    5  347.0\n2    4  564.0\n3    3  752.0\n4    6  135.0\n5    7   72.0\n6    8   37.0\n7   10    5.0\n8    9   13.0\n9   13    3.0\n10  14    1.0\n11  11    1.0",
      "text/html": "<div>\n<style scoped>\n    .dataframe tbody tr th:only-of-type {\n        vertical-align: middle;\n    }\n\n    .dataframe tbody tr th {\n        vertical-align: top;\n    }\n\n    .dataframe thead th {\n        text-align: right;\n    }\n</style>\n<table border=\"1\" class=\"dataframe\">\n  <thead>\n    <tr style=\"text-align: right;\">\n      <th></th>\n      <th>n</th>\n      <th>count</th>\n    </tr>\n  </thead>\n  <tbody>\n    <tr>\n      <th>0</th>\n      <td>2</td>\n      <td>755.0</td>\n    </tr>\n    <tr>\n      <th>1</th>\n      <td>5</td>\n      <td>347.0</td>\n    </tr>\n    <tr>\n      <th>2</th>\n      <td>4</td>\n      <td>564.0</td>\n    </tr>\n    <tr>\n      <th>3</th>\n      <td>3</td>\n      <td>752.0</td>\n    </tr>\n    <tr>\n      <th>4</th>\n      <td>6</td>\n      <td>135.0</td>\n    </tr>\n    <tr>\n      <th>5</th>\n      <td>7</td>\n      <td>72.0</td>\n    </tr>\n    <tr>\n      <th>6</th>\n      <td>8</td>\n      <td>37.0</td>\n    </tr>\n    <tr>\n      <th>7</th>\n      <td>10</td>\n      <td>5.0</td>\n    </tr>\n    <tr>\n      <th>8</th>\n      <td>9</td>\n      <td>13.0</td>\n    </tr>\n    <tr>\n      <th>9</th>\n      <td>13</td>\n      <td>3.0</td>\n    </tr>\n    <tr>\n      <th>10</th>\n      <td>14</td>\n      <td>1.0</td>\n    </tr>\n    <tr>\n      <th>11</th>\n      <td>11</td>\n      <td>1.0</td>\n    </tr>\n  </tbody>\n</table>\n</div>"
     },
     "execution_count": 73,
     "metadata": {},
     "output_type": "execute_result"
    }
   ],
   "source": [
    "df"
   ],
   "metadata": {
    "collapsed": false,
    "ExecuteTime": {
     "end_time": "2024-10-02T09:33:47.429288Z",
     "start_time": "2024-10-02T09:33:47.422535Z"
    }
   },
   "id": "b75a465fdff906f9",
   "execution_count": 73
  },
  {
   "cell_type": "code",
   "outputs": [],
   "source": [
    "layer = graph_generator.generate_layer(G,0, communities = communities,paths = 'first')\n",
    "layer = layer[0]"
   ],
   "metadata": {
    "collapsed": false,
    "ExecuteTime": {
     "end_time": "2024-10-02T10:51:39.972732Z",
     "start_time": "2024-10-02T10:51:38.106501Z"
    }
   },
   "id": "1a77590e8c19e303",
   "execution_count": 84
  },
  {
   "cell_type": "code",
   "outputs": [
    {
     "name": "stdout",
     "output_type": "stream",
     "text": [
      "1.7142857142857142\n",
      "1.5\n",
      "2.0\n",
      "2.0\n",
      "1.5\n",
      "1.6666666666666667\n",
      "1.6\n",
      "2.2\n",
      "1.0\n",
      "1.5\n",
      "9.0\n",
      "1.8333333333333333\n",
      "2.090909090909091\n",
      "3.2\n",
      "3.6\n",
      "1.5714285714285714\n",
      "1.5454545454545454\n",
      "2.625\n",
      "2.5\n",
      "2.625\n",
      "4.666666666666667\n",
      "1.8\n",
      "1.75\n",
      "2.1\n",
      "2.7142857142857144\n",
      "2.1666666666666665\n",
      "1.8181818181818181\n",
      "2.1\n",
      "1.1818181818181819\n",
      "3.5\n",
      "1.6153846153846154\n",
      "2.7142857142857144\n",
      "2.625\n",
      "2.0384615384615383\n",
      "2.25\n",
      "2.5\n",
      "3.0\n",
      "1.75\n",
      "1.0\n",
      "2.0\n",
      "3.3333333333333335\n",
      "1.5\n",
      "1.6666666666666667\n",
      "1.8333333333333333\n",
      "1.5\n",
      "2.0\n",
      "3.0\n",
      "2.8\n",
      "2.9\n",
      "1.125\n",
      "1.8461538461538463\n",
      "1.0\n",
      "2.0833333333333335\n",
      "2.875\n",
      "1.25\n",
      "3.5\n",
      "1.0\n",
      "3.125\n",
      "3.2\n",
      "3.0\n",
      "1.875\n",
      "2.3\n",
      "1.3\n",
      "1.6666666666666667\n",
      "1.25\n",
      "4.25\n",
      "1.8\n",
      "1.8333333333333333\n",
      "1.0\n",
      "1.4615384615384615\n",
      "2.0\n",
      "2.0\n",
      "3.2222222222222223\n",
      "1.875\n",
      "1.125\n",
      "1.0\n",
      "1.0\n",
      "1.6363636363636365\n",
      "1.8571428571428572\n",
      "2.1666666666666665\n",
      "1.6666666666666667\n",
      "6.4\n",
      "1.8571428571428572\n",
      "2.1666666666666665\n",
      "2.0\n",
      "2.0\n",
      "2.0\n",
      "1.5454545454545454\n",
      "4.0\n",
      "2.0\n",
      "1.5454545454545454\n",
      "1.7777777777777777\n",
      "1.1428571428571428\n",
      "2.142857142857143\n",
      "1.0\n",
      "1.0\n",
      "2.4\n",
      "2.25\n",
      "2.6666666666666665\n",
      "2.5\n",
      "2.8\n",
      "3.0\n",
      "1.8666666666666667\n",
      "1.125\n",
      "1.5789473684210527\n",
      "2.2\n",
      "1.1666666666666667\n",
      "2.0\n",
      "2.8461538461538463\n",
      "2.6363636363636362\n",
      "2.6666666666666665\n",
      "1.7692307692307692\n",
      "3.1\n",
      "1.5\n",
      "2.0588235294117645\n",
      "3.0\n",
      "2.3333333333333335\n",
      "1.9\n",
      "4.111111111111111\n",
      "2.8333333333333335\n",
      "1.4285714285714286\n",
      "1.2857142857142858\n",
      "1.3333333333333333\n",
      "2.0\n",
      "1.3333333333333333\n",
      "1.1428571428571428\n",
      "5.0\n",
      "1.5\n",
      "2.0\n",
      "1.2\n",
      "1.0\n",
      "1.3333333333333333\n",
      "1.5\n",
      "2.3333333333333335\n",
      "3.0\n",
      "1.0\n",
      "1.25\n",
      "1.6666666666666667\n",
      "1.5384615384615385\n",
      "1.5454545454545454\n",
      "1.6\n",
      "1.6\n",
      "1.2\n",
      "1.2857142857142858\n",
      "1.6363636363636365\n",
      "2.0625\n",
      "1.0\n",
      "1.1428571428571428\n",
      "1.0\n",
      "2.5\n",
      "2.5\n",
      "4.5\n",
      "2.090909090909091\n",
      "3.142857142857143\n",
      "2.2142857142857144\n",
      "2.25\n",
      "2.6666666666666665\n",
      "2.0\n",
      "1.3076923076923077\n",
      "1.5\n",
      "2.1666666666666665\n",
      "1.3333333333333333\n",
      "2.1818181818181817\n",
      "1.6\n",
      "1.5\n",
      "1.4444444444444444\n",
      "2.625\n",
      "1.2\n",
      "1.0\n",
      "2.0\n",
      "2.2222222222222223\n",
      "2.1818181818181817\n",
      "1.7777777777777777\n",
      "1.5\n",
      "1.6666666666666667\n",
      "1.0\n",
      "1.4444444444444444\n",
      "1.375\n",
      "1.4285714285714286\n",
      "2.142857142857143\n",
      "2.8\n",
      "2.8333333333333335\n",
      "2.2857142857142856\n",
      "2.4285714285714284\n",
      "1.0\n",
      "2.0\n",
      "2.6666666666666665\n",
      "5.5\n",
      "2.8333333333333335\n",
      "2.0\n",
      "1.625\n",
      "1.4285714285714286\n",
      "2.2857142857142856\n",
      "3.4\n",
      "1.75\n",
      "2.142857142857143\n",
      "2.3333333333333335\n",
      "1.2\n",
      "2.0\n",
      "2.4444444444444446\n",
      "1.5555555555555556\n",
      "1.4\n",
      "3.0\n",
      "2.5\n",
      "14.0\n",
      "2.1666666666666665\n",
      "1.5555555555555556\n",
      "1.0\n",
      "1.4\n",
      "1.0\n",
      "1.2857142857142858\n",
      "1.3333333333333333\n",
      "1.3333333333333333\n",
      "1.5\n",
      "3.3636363636363638\n",
      "2.4\n",
      "2.0\n",
      "4.666666666666667\n",
      "1.0\n",
      "1.3333333333333333\n",
      "1.5714285714285714\n",
      "3.5\n",
      "2.5\n",
      "1.5\n",
      "2.2857142857142856\n",
      "1.0\n",
      "1.0\n",
      "1.625\n",
      "1.8333333333333333\n",
      "1.3333333333333333\n",
      "3.5\n",
      "1.25\n",
      "3.142857142857143\n",
      "4.2727272727272725\n",
      "6.5\n",
      "2.0\n",
      "2.3333333333333335\n",
      "2.375\n",
      "4.666666666666667\n",
      "1.4166666666666667\n",
      "2.4166666666666665\n",
      "2.0\n",
      "1.5\n",
      "1.2\n",
      "1.6666666666666667\n",
      "3.142857142857143\n",
      "1.875\n",
      "1.0\n",
      "1.9090909090909092\n",
      "2.3333333333333335\n",
      "2.142857142857143\n",
      "2.0\n",
      "1.3333333333333333\n",
      "2.8333333333333335\n",
      "1.5\n",
      "2.2857142857142856\n",
      "1.8\n",
      "2.2\n",
      "2.0\n",
      "1.4\n",
      "1.0\n",
      "2.857142857142857\n",
      "1.7142857142857142\n",
      "2.6666666666666665\n",
      "2.75\n",
      "2.3\n",
      "2.5833333333333335\n",
      "2.0\n",
      "2.090909090909091\n",
      "1.9090909090909092\n",
      "2.6\n",
      "2.857142857142857\n",
      "1.6\n",
      "1.4285714285714286\n",
      "3.1666666666666665\n",
      "1.6666666666666667\n",
      "3.0\n",
      "4.0\n",
      "4.8\n",
      "1.4\n",
      "1.4444444444444444\n",
      "1.0\n",
      "1.1111111111111112\n",
      "2.0\n",
      "1.5714285714285714\n",
      "1.0\n",
      "2.3333333333333335\n",
      "1.0\n",
      "1.5454545454545454\n",
      "2.25\n",
      "1.9090909090909092\n",
      "1.5\n",
      "1.7777777777777777\n",
      "2.7142857142857144\n",
      "2.125\n",
      "1.5\n",
      "2.0\n",
      "2.5\n",
      "1.0\n",
      "2.3333333333333335\n",
      "1.2222222222222223\n",
      "2.4444444444444446\n",
      "4.25\n",
      "2.642857142857143\n",
      "1.6\n",
      "1.6\n",
      "1.75\n",
      "2.4166666666666665\n",
      "1.0\n",
      "4.5\n",
      "1.5454545454545454\n",
      "1.8571428571428572\n",
      "2.888888888888889\n",
      "2.0\n",
      "1.0\n",
      "1.2857142857142858\n",
      "1.25\n",
      "2.0\n",
      "1.6\n",
      "1.7272727272727273\n",
      "1.5\n",
      "1.2857142857142858\n",
      "1.5\n",
      "1.4\n",
      "1.8571428571428572\n",
      "2.0\n",
      "1.0\n",
      "2.5714285714285716\n",
      "3.25\n",
      "1.1818181818181819\n",
      "1.1666666666666667\n",
      "2.1666666666666665\n",
      "1.4285714285714286\n",
      "1.7777777777777777\n",
      "1.6666666666666667\n",
      "1.8\n",
      "2.142857142857143\n",
      "3.0\n",
      "2.4444444444444446\n",
      "3.0\n",
      "3.8\n",
      "1.0\n",
      "2.5384615384615383\n",
      "2.2\n",
      "1.8333333333333333\n",
      "3.25\n",
      "1.0\n",
      "2.0\n",
      "2.4615384615384617\n",
      "5.75\n",
      "1.2857142857142858\n",
      "1.2\n",
      "1.5\n",
      "4.25\n",
      "1.6666666666666667\n",
      "1.0\n",
      "1.5\n",
      "2.2857142857142856\n",
      "2.2\n",
      "1.8333333333333333\n",
      "1.4444444444444444\n",
      "2.111111111111111\n",
      "2.8181818181818183\n",
      "1.5714285714285714\n",
      "3.25\n",
      "2.8\n",
      "2.125\n",
      "2.4\n",
      "1.0\n",
      "1.0\n",
      "2.5\n",
      "4.333333333333333\n",
      "1.625\n",
      "1.75\n",
      "1.0\n",
      "2.6666666666666665\n",
      "4.75\n",
      "2.0\n",
      "4.6\n",
      "1.8\n",
      "3.142857142857143\n",
      "1.5714285714285714\n",
      "1.5\n",
      "5.0\n",
      "1.0\n",
      "1.2222222222222223\n",
      "5.333333333333333\n",
      "2.1666666666666665\n",
      "3.6\n",
      "1.1428571428571428\n",
      "1.6\n",
      "2.2\n",
      "9.5\n",
      "1.7777777777777777\n",
      "1.0\n",
      "4.333333333333333\n",
      "1.1818181818181819\n",
      "3.0\n",
      "1.2222222222222223\n",
      "4.0\n",
      "1.2857142857142858\n",
      "1.0\n",
      "1.0\n",
      "2.388888888888889\n",
      "2.8181818181818183\n",
      "3.0\n",
      "1.1818181818181819\n",
      "2.0\n",
      "2.6666666666666665\n",
      "1.375\n",
      "2.0588235294117645\n",
      "2.111111111111111\n",
      "2.6666666666666665\n",
      "1.4444444444444444\n",
      "2.5\n",
      "2.25\n",
      "2.0\n",
      "1.1666666666666667\n",
      "2.0\n",
      "3.6\n",
      "2.0\n",
      "2.5\n",
      "2.7\n",
      "2.0625\n",
      "2.5\n",
      "2.6666666666666665\n",
      "6.0\n",
      "2.6\n",
      "2.5\n",
      "1.0\n",
      "3.5\n",
      "2.4\n",
      "1.0\n",
      "1.0\n",
      "1.0\n",
      "2.5714285714285716\n",
      "2.0\n",
      "1.8571428571428572\n",
      "1.0\n",
      "1.4444444444444444\n",
      "2.0\n",
      "2.375\n",
      "3.2\n",
      "2.25\n",
      "1.0\n",
      "1.4\n",
      "1.8888888888888888\n",
      "1.1538461538461537\n",
      "2.5294117647058822\n",
      "1.8\n",
      "2.0\n",
      "4.333333333333333\n",
      "2.25\n",
      "2.25\n",
      "1.125\n",
      "2.176470588235294\n",
      "2.6363636363636362\n",
      "2.1\n",
      "3.75\n",
      "3.8333333333333335\n",
      "1.0\n",
      "1.625\n",
      "1.0\n",
      "1.0\n",
      "1.0\n",
      "1.6666666666666667\n",
      "2.2857142857142856\n",
      "2.0\n",
      "2.0\n",
      "4.0\n",
      "1.5\n",
      "3.5\n",
      "1.6\n",
      "1.0\n",
      "2.6666666666666665\n",
      "2.1538461538461537\n",
      "3.111111111111111\n",
      "1.1666666666666667\n",
      "2.142857142857143\n",
      "1.0\n",
      "2.6923076923076925\n",
      "2.1666666666666665\n",
      "1.5\n",
      "1.8888888888888888\n",
      "1.0\n",
      "1.9230769230769231\n",
      "2.0\n",
      "1.625\n",
      "1.0\n",
      "1.0\n",
      "3.3333333333333335\n",
      "2.5\n",
      "2.3\n",
      "3.0\n",
      "1.25\n",
      "2.5714285714285716\n",
      "1.0\n",
      "1.0\n",
      "1.9166666666666667\n",
      "2.125\n",
      "1.5\n",
      "1.6923076923076923\n",
      "1.1428571428571428\n",
      "1.6\n",
      "1.3636363636363635\n",
      "1.7777777777777777\n",
      "1.8333333333333333\n",
      "2.1666666666666665\n",
      "1.0\n",
      "2.3636363636363638\n",
      "2.5\n",
      "1.0\n",
      "1.0\n",
      "2.5714285714285716\n",
      "2.0\n",
      "1.3333333333333333\n",
      "1.2222222222222223\n",
      "2.4285714285714284\n",
      "1.0\n",
      "1.4444444444444444\n",
      "1.8888888888888888\n",
      "2.0\n",
      "2.0\n",
      "1.0\n",
      "1.3636363636363635\n",
      "2.0\n",
      "1.6\n",
      "1.7333333333333334\n",
      "1.6363636363636365\n",
      "4.076923076923077\n",
      "8.0\n",
      "2.5\n",
      "1.0\n",
      "2.75\n",
      "1.9090909090909092\n",
      "1.3333333333333333\n",
      "2.25\n",
      "2.1818181818181817\n",
      "3.75\n",
      "1.2\n",
      "1.3333333333333333\n",
      "2.7142857142857144\n",
      "2.0\n",
      "2.3333333333333335\n",
      "1.4\n",
      "2.3076923076923075\n",
      "1.8235294117647058\n",
      "2.0\n",
      "3.1666666666666665\n",
      "2.272727272727273\n",
      "1.1666666666666667\n",
      "2.2142857142857144\n",
      "1.4444444444444444\n",
      "1.6666666666666667\n",
      "1.75\n",
      "1.0\n",
      "1.0\n",
      "2.0\n",
      "1.3\n",
      "3.1666666666666665\n",
      "1.0\n",
      "2.8\n",
      "1.0\n",
      "1.6363636363636365\n",
      "1.625\n",
      "1.7\n",
      "2.3333333333333335\n",
      "3.5555555555555554\n",
      "1.8571428571428572\n",
      "2.0\n",
      "1.7142857142857142\n",
      "1.625\n",
      "1.0\n",
      "1.8888888888888888\n",
      "2.076923076923077\n",
      "3.0\n",
      "3.75\n",
      "1.625\n",
      "1.7777777777777777\n",
      "1.6\n",
      "2.3333333333333335\n",
      "2.125\n",
      "1.5555555555555556\n",
      "2.25\n",
      "1.2\n",
      "2.272727272727273\n",
      "2.5714285714285716\n",
      "1.875\n",
      "1.0\n",
      "2.0\n",
      "1.0\n",
      "1.8333333333333333\n",
      "1.0\n",
      "1.0\n",
      "2.3333333333333335\n",
      "1.8181818181818181\n",
      "3.0\n",
      "3.0\n",
      "1.75\n",
      "1.0\n",
      "1.6666666666666667\n",
      "1.0\n",
      "1.6666666666666667\n",
      "1.2\n",
      "1.7857142857142858\n",
      "1.2727272727272727\n",
      "3.0\n",
      "1.5\n",
      "1.5454545454545454\n",
      "1.5\n",
      "1.9166666666666667\n",
      "1.2\n",
      "2.5714285714285716\n",
      "2.0\n",
      "1.0\n",
      "1.0\n",
      "2.0\n",
      "3.0\n",
      "4.111111111111111\n",
      "3.2\n",
      "3.0\n",
      "1.5\n",
      "1.0\n",
      "1.6\n",
      "1.4285714285714286\n",
      "1.0\n",
      "1.3333333333333333\n",
      "1.5\n",
      "2.0\n",
      "1.4166666666666667\n",
      "2.727272727272727\n",
      "5.75\n",
      "1.0\n",
      "2.0\n",
      "1.0\n",
      "1.75\n",
      "3.3333333333333335\n",
      "1.1666666666666667\n",
      "2.125\n",
      "1.0\n",
      "2.5\n",
      "1.0\n",
      "2.3333333333333335\n",
      "1.7272727272727273\n",
      "1.7777777777777777\n",
      "3.25\n",
      "2.4\n",
      "2.142857142857143\n",
      "2.5\n",
      "3.0\n",
      "1.0\n",
      "2.0\n",
      "6.0\n",
      "2.5\n",
      "1.0\n",
      "2.5714285714285716\n",
      "1.7142857142857142\n",
      "1.5\n",
      "2.25\n",
      "1.6\n",
      "1.5\n",
      "1.7272727272727273\n",
      "1.25\n",
      "1.0\n",
      "1.2857142857142858\n",
      "2.2\n",
      "1.0\n",
      "1.5\n",
      "2.4285714285714284\n",
      "8.5\n",
      "1.6\n",
      "1.0\n",
      "2.125\n",
      "1.875\n",
      "2.4285714285714284\n",
      "2.5555555555555554\n",
      "1.7142857142857142\n",
      "1.75\n",
      "2.0833333333333335\n",
      "2.0\n",
      "3.3333333333333335\n",
      "1.0\n",
      "1.7272727272727273\n",
      "1.25\n",
      "1.3333333333333333\n",
      "1.7142857142857142\n",
      "1.5555555555555556\n",
      "1.7777777777777777\n",
      "2.0\n",
      "3.0\n",
      "2.4\n",
      "2.0833333333333335\n",
      "1.75\n",
      "1.5\n",
      "2.0\n",
      "2.3333333333333335\n",
      "1.0\n",
      "2.0\n",
      "1.4\n",
      "1.125\n",
      "1.7142857142857142\n",
      "2.2222222222222223\n",
      "1.0\n",
      "1.0\n",
      "4.0\n",
      "2.0\n",
      "2.5714285714285716\n",
      "2.0\n",
      "2.111111111111111\n",
      "2.0\n",
      "3.1666666666666665\n",
      "1.625\n",
      "1.8461538461538463\n",
      "3.3333333333333335\n",
      "1.4\n",
      "1.5714285714285714\n",
      "1.6666666666666667\n",
      "3.5\n",
      "2.4166666666666665\n",
      "2.8333333333333335\n",
      "2.4285714285714284\n",
      "1.4285714285714286\n",
      "3.125\n",
      "2.6666666666666665\n",
      "1.5555555555555556\n",
      "2.111111111111111\n",
      "2.6\n",
      "1.4285714285714286\n",
      "1.0\n",
      "1.3333333333333333\n",
      "2.625\n",
      "1.0\n",
      "1.5\n",
      "1.3333333333333333\n",
      "1.4\n",
      "1.9090909090909092\n",
      "1.8\n",
      "2.1818181818181817\n",
      "2.4545454545454546\n",
      "1.5714285714285714\n",
      "1.0\n",
      "1.3636363636363635\n",
      "3.0\n",
      "2.0\n",
      "2.2\n",
      "1.8\n",
      "3.8333333333333335\n",
      "2.5\n",
      "2.8333333333333335\n",
      "1.2\n",
      "1.8181818181818181\n",
      "1.25\n",
      "2.125\n",
      "1.6666666666666667\n",
      "5.0\n",
      "1.625\n",
      "1.1818181818181819\n",
      "2.625\n",
      "1.0\n",
      "2.0\n",
      "2.0\n",
      "2.5714285714285716\n",
      "1.5\n",
      "2.75\n",
      "2.5714285714285716\n",
      "1.0\n",
      "2.5\n",
      "1.6\n",
      "1.0\n",
      "1.6666666666666667\n",
      "2.0\n",
      "1.5555555555555556\n",
      "3.0\n",
      "2.5\n",
      "1.5714285714285714\n",
      "2.5555555555555554\n",
      "2.25\n",
      "2.0\n",
      "2.142857142857143\n",
      "1.7\n",
      "1.8333333333333333\n",
      "1.2857142857142858\n",
      "1.75\n",
      "2.0\n",
      "1.0\n",
      "2.6363636363636362\n",
      "1.1\n",
      "1.0\n",
      "3.0\n",
      "2.125\n",
      "2.933333333333333\n",
      "2.4\n",
      "3.0\n",
      "3.375\n",
      "2.0\n",
      "2.1666666666666665\n",
      "1.5714285714285714\n",
      "3.25\n",
      "3.5\n",
      "2.1666666666666665\n",
      "1.0\n",
      "6.333333333333333\n",
      "1.5\n",
      "1.5\n",
      "1.7\n",
      "3.4285714285714284\n",
      "2.0833333333333335\n",
      "1.5\n",
      "1.25\n",
      "2.769230769230769\n",
      "2.3076923076923075\n",
      "2.090909090909091\n",
      "2.176470588235294\n",
      "2.7142857142857144\n",
      "1.0\n",
      "2.5\n",
      "1.0\n",
      "3.0\n",
      "1.6666666666666667\n",
      "2.0\n",
      "1.0\n",
      "2.0\n",
      "1.25\n",
      "1.3\n",
      "1.3333333333333333\n",
      "1.3333333333333333\n",
      "3.0\n",
      "1.0\n",
      "2.5\n",
      "1.0\n",
      "2.0\n",
      "2.5\n",
      "1.9\n",
      "5.0\n",
      "2.5\n",
      "1.0\n",
      "2.0\n",
      "1.0\n",
      "1.0\n",
      "2.5\n",
      "4.0\n",
      "2.0\n",
      "1.4\n",
      "1.75\n",
      "1.0\n",
      "3.8\n",
      "1.75\n",
      "1.6666666666666667\n",
      "1.5714285714285714\n",
      "1.6\n",
      "3.5\n",
      "2.0\n",
      "1.4\n",
      "1.3\n",
      "1.1428571428571428\n",
      "3.6666666666666665\n",
      "1.2\n",
      "3.1\n",
      "1.1818181818181819\n",
      "2.4285714285714284\n",
      "2.230769230769231\n",
      "1.625\n",
      "1.2\n",
      "2.3333333333333335\n",
      "2.0\n",
      "1.3636363636363635\n",
      "5.0\n",
      "3.0\n",
      "1.4\n",
      "1.8\n",
      "1.8\n",
      "1.8\n",
      "1.6666666666666667\n",
      "2.6666666666666665\n",
      "1.1666666666666667\n",
      "3.0\n",
      "1.25\n",
      "3.0\n",
      "2.75\n",
      "1.3333333333333333\n",
      "2.5\n",
      "3.142857142857143\n",
      "2.2857142857142856\n",
      "3.2\n",
      "4.0\n",
      "2.25\n",
      "2.0\n",
      "2.8333333333333335\n",
      "1.0\n",
      "5.0\n",
      "1.1666666666666667\n",
      "1.0\n",
      "2.2\n",
      "1.5\n",
      "1.0\n",
      "2.2\n",
      "2.857142857142857\n",
      "2.0\n",
      "1.6\n",
      "1.0\n",
      "1.1666666666666667\n",
      "1.0\n",
      "4.0\n",
      "2.4\n",
      "3.5\n",
      "2.4285714285714284\n",
      "1.0\n",
      "2.3\n",
      "1.2\n",
      "1.8333333333333333\n",
      "2.090909090909091\n",
      "2.3333333333333335\n",
      "1.9090909090909092\n",
      "1.0\n",
      "5.0\n",
      "3.3333333333333335\n",
      "3.0\n",
      "2.3333333333333335\n",
      "3.1\n",
      "2.1818181818181817\n",
      "1.6666666666666667\n",
      "3.0\n",
      "3.0\n",
      "2.0\n",
      "2.25\n",
      "2.3333333333333335\n",
      "1.8333333333333333\n",
      "2.6666666666666665\n",
      "1.6666666666666667\n",
      "1.75\n",
      "1.5555555555555556\n",
      "4.0\n",
      "2.0\n",
      "1.0\n",
      "1.5\n",
      "1.3333333333333333\n",
      "4.333333333333333\n",
      "1.75\n",
      "1.6\n",
      "2.2857142857142856\n",
      "4.125\n",
      "1.9090909090909092\n",
      "1.8\n",
      "1.6666666666666667\n",
      "2.3333333333333335\n",
      "2.0\n",
      "1.2222222222222223\n",
      "1.0\n",
      "1.0\n",
      "1.5\n",
      "2.4166666666666665\n",
      "1.6\n",
      "2.0\n",
      "2.75\n",
      "2.875\n",
      "1.5\n",
      "1.0\n",
      "1.0\n",
      "1.0\n",
      "3.0\n",
      "1.0\n",
      "5.0\n",
      "1.2\n",
      "2.0\n",
      "3.2222222222222223\n",
      "2.0\n",
      "3.857142857142857\n",
      "1.8181818181818181\n",
      "4.0\n",
      "1.6\n",
      "3.0\n",
      "3.0\n",
      "2.2\n",
      "2.1666666666666665\n",
      "2.375\n",
      "4.666666666666667\n",
      "3.0\n",
      "6.0\n",
      "2.0\n",
      "1.0\n",
      "1.75\n",
      "1.6666666666666667\n",
      "3.0\n",
      "2.5454545454545454\n",
      "1.0\n",
      "1.8\n",
      "2.0\n",
      "2.0\n",
      "2.0\n",
      "1.8888888888888888\n",
      "2.875\n",
      "2.25\n",
      "1.7142857142857142\n",
      "1.4\n",
      "1.4\n",
      "2.909090909090909\n",
      "1.6666666666666667\n",
      "1.3333333333333333\n",
      "1.5238095238095237\n",
      "1.5454545454545454\n",
      "1.0\n",
      "1.7777777777777777\n",
      "2.1666666666666665\n",
      "2.2\n",
      "1.6666666666666667\n",
      "1.875\n",
      "2.3333333333333335\n",
      "1.7692307692307692\n",
      "2.75\n",
      "3.2857142857142856\n",
      "2.6\n",
      "2.4166666666666665\n",
      "1.75\n",
      "2.0\n",
      "2.7777777777777777\n",
      "2.2142857142857144\n",
      "2.6153846153846154\n",
      "2.0\n",
      "1.1666666666666667\n",
      "1.5833333333333333\n",
      "2.3333333333333335\n",
      "2.3333333333333335\n",
      "11.0\n",
      "3.4\n",
      "2.0\n",
      "1.0\n",
      "3.5\n",
      "2.25\n",
      "1.0\n",
      "1.75\n",
      "1.75\n",
      "3.727272727272727\n",
      "1.6\n",
      "4.4\n",
      "10.0\n",
      "3.6666666666666665\n",
      "2.0\n",
      "1.5\n",
      "1.5\n",
      "2.0\n",
      "1.1666666666666667\n",
      "3.0\n",
      "2.0\n",
      "1.5\n",
      "1.3333333333333333\n",
      "2.3\n",
      "2.5\n",
      "2.0\n",
      "1.25\n",
      "1.0\n",
      "2.6666666666666665\n",
      "3.3333333333333335\n",
      "1.5714285714285714\n",
      "1.0\n",
      "1.3333333333333333\n",
      "1.25\n",
      "1.875\n",
      "1.0\n",
      "2.0\n",
      "1.8571428571428572\n",
      "1.75\n",
      "3.25\n",
      "1.9090909090909092\n",
      "1.25\n",
      "2.0\n",
      "3.8\n",
      "3.2857142857142856\n",
      "1.0\n",
      "2.0\n",
      "3.25\n",
      "3.0\n",
      "3.5\n",
      "1.6363636363636365\n",
      "2.375\n",
      "1.1666666666666667\n",
      "1.4\n",
      "2.727272727272727\n",
      "3.2857142857142856\n",
      "1.5714285714285714\n",
      "2.5\n",
      "1.5\n",
      "1.6666666666666667\n",
      "1.8333333333333333\n",
      "2.1666666666666665\n",
      "1.0\n",
      "2.375\n",
      "3.0\n",
      "2.5384615384615383\n",
      "1.8\n",
      "1.0\n",
      "1.9166666666666667\n",
      "1.5\n",
      "1.625\n",
      "1.8571428571428572\n",
      "2.2\n",
      "2.142857142857143\n",
      "1.0\n",
      "3.0\n",
      "3.0\n",
      "2.3333333333333335\n",
      "4.142857142857143\n",
      "1.6\n",
      "6.0\n",
      "1.0\n",
      "2.6666666666666665\n",
      "5.333333333333333\n",
      "13.0\n",
      "2.7142857142857144\n",
      "3.2857142857142856\n",
      "4.0\n",
      "2.0\n",
      "2.727272727272727\n",
      "2.0\n",
      "4.0\n",
      "1.6\n",
      "3.0\n",
      "1.75\n",
      "2.125\n",
      "5.0\n",
      "5.2\n",
      "2.857142857142857\n",
      "1.0\n",
      "2.888888888888889\n",
      "1.2\n",
      "11.5\n",
      "1.75\n",
      "2.142857142857143\n",
      "2.3333333333333335\n",
      "3.125\n",
      "2.111111111111111\n",
      "1.6\n",
      "2.4\n",
      "1.0\n",
      "8.5\n",
      "2.8\n",
      "3.6666666666666665\n",
      "2.0\n",
      "2.0\n",
      "1.1428571428571428\n",
      "3.5\n",
      "1.0\n",
      "1.8\n",
      "1.0\n",
      "1.1428571428571428\n",
      "1.7142857142857142\n",
      "1.3333333333333333\n",
      "2.0\n",
      "3.0\n",
      "4.0\n",
      "1.0\n",
      "4.0\n",
      "9.0\n",
      "2.5\n",
      "3.0\n",
      "2.25\n",
      "1.3333333333333333\n",
      "1.0\n",
      "1.0\n",
      "1.3333333333333333\n",
      "2.3333333333333335\n",
      "2.0\n",
      "3.3333333333333335\n",
      "2.75\n",
      "5.666666666666667\n",
      "3.3\n",
      "1.6\n",
      "1.7777777777777777\n",
      "1.6\n",
      "1.0\n",
      "5.0\n",
      "2.4\n",
      "1.0\n",
      "1.8333333333333333\n",
      "3.375\n",
      "3.5\n",
      "1.5714285714285714\n",
      "3.25\n",
      "3.0\n",
      "3.75\n",
      "3.0\n",
      "2.5714285714285716\n",
      "2.0\n",
      "3.6\n",
      "1.0\n",
      "2.0\n",
      "3.25\n",
      "15.0\n",
      "3.5\n",
      "2.0\n",
      "3.0\n",
      "1.0\n",
      "2.0\n",
      "4.5\n",
      "1.0\n",
      "1.0\n",
      "1.0\n",
      "1.0\n",
      "1.5555555555555556\n",
      "2.75\n",
      "2.0\n",
      "1.5\n",
      "3.7777777777777777\n",
      "3.7777777777777777\n",
      "4.428571428571429\n",
      "4.0\n",
      "2.0\n",
      "4.666666666666667\n",
      "5.5\n",
      "2.0\n",
      "3.142857142857143\n",
      "5.0\n",
      "1.6\n",
      "4.0\n",
      "5.8\n",
      "7.0\n",
      "4.875\n",
      "4.333333333333333\n",
      "13.0\n",
      "2.3333333333333335\n",
      "2.4\n",
      "1.0\n",
      "3.0\n",
      "1.0\n",
      "5.0\n",
      "1.8888888888888888\n",
      "1.1428571428571428\n",
      "4.0\n",
      "2.6666666666666665\n",
      "3.0\n",
      "2.235294117647059\n",
      "1.4\n",
      "2.5\n",
      "3.25\n",
      "1.8333333333333333\n",
      "11.0\n",
      "13.0\n",
      "2.8333333333333335\n",
      "9.0\n",
      "1.0\n",
      "1.2\n",
      "3.5\n",
      "5.0\n",
      "1.0\n",
      "5.0\n",
      "2.75\n",
      "1.8\n",
      "2.0\n",
      "2.4\n",
      "1.4\n",
      "2.25\n",
      "1.8\n",
      "1.0\n",
      "2.0\n",
      "3.0\n",
      "2.142857142857143\n",
      "1.25\n",
      "1.5555555555555556\n",
      "2.0\n",
      "5.0\n",
      "1.0\n",
      "13.0\n",
      "1.0\n",
      "1.0\n",
      "1.6\n"
     ]
    }
   ],
   "source": [
    "for i,c in enumerate(communities):\n",
    "    print(len(c)/len(cls2hubs[i]))"
   ],
   "metadata": {
    "collapsed": false,
    "ExecuteTime": {
     "end_time": "2024-10-02T10:51:42.112698Z",
     "start_time": "2024-10-02T10:51:42.107825Z"
    }
   },
   "id": "11324ccca752c678",
   "execution_count": 85
  },
  {
   "cell_type": "code",
   "outputs": [],
   "source": [
    "f1 = 0\n",
    "f2 = 72\n",
    "nodes_from = communities[f1]\n",
    "nodes_to = communities[f2]\n",
    "\n",
    "u1 = layer.cluster_to_center[f1]\n",
    "u2 = layer.cluster_to_center[f2]\n",
    "p = nx.single_source_dijkstra(layer.centroids_graph, u1,u2,weight='length')\n",
    "clusters = set()\n",
    "for i in range(0,len(p[1])-1):\n",
    "    c1 = G.nodes[p[1][i]]['cluster']\n",
    "    c2 = G.nodes[p[1][i+1]]['cluster']\n",
    "    if c1 in A:\n",
    "        cc = A[c1][c2]\n",
    "    else:\n",
    "        cc = A[c2][c1]\n",
    "    for ccc in cc:\n",
    "        clusters.add(ccc)"
   ],
   "metadata": {
    "collapsed": false,
    "ExecuteTime": {
     "end_time": "2024-10-02T10:51:50.296042Z",
     "start_time": "2024-10-02T10:51:50.289301Z"
    }
   },
   "id": "ebac9461d6f5b7ae",
   "execution_count": 86
  },
  {
   "cell_type": "code",
   "outputs": [],
   "source": [
    "u1 = layer.cluster_to_center[f1]\n",
    "u2 = layer.cluster_to_center[f2]\n",
    "p = nx.single_source_dijkstra(layer.centroids_graph, u1,u2,weight='length')\n",
    "clusters = set()\n",
    "for i in range(0,len(p[1])-1):\n",
    "    c1 = G.nodes[p[1][i]]['cluster']\n",
    "    c2 = G.nodes[p[1][i+1]]['cluster']\n",
    "    if c1 in A:\n",
    "        cc = A[c1][c2]\n",
    "    else:\n",
    "        cc = A[c2][c1]\n",
    "    for ccc in cc:\n",
    "        clusters.add(ccc)\n",
    "        \n",
    "for uu1 in cls2n[f1]:\n",
    "    for uu2 in cls2n[f2]:\n",
    "        u1 = layer.cluster_to_center[uu1]\n",
    "        u2 = layer.cluster_to_center[uu2]\n",
    "        p = nx.single_source_dijkstra(layer.centroids_graph, u1,u2,weight='length')\n",
    "        clusters = set()\n",
    "        for i in range(0,len(p[1])-1):\n",
    "            c1 = G.nodes[p[1][i]]['cluster']\n",
    "            c2 = G.nodes[p[1][i+1]]['cluster']\n",
    "            if c1 in A:\n",
    "                cc = A[c1][c2]\n",
    "            else:\n",
    "                cc = A[c2][c1]\n",
    "            for ccc in cc:\n",
    "                clusters.add(ccc)\n",
    "        "
   ],
   "metadata": {
    "collapsed": false,
    "ExecuteTime": {
     "end_time": "2024-10-02T10:51:53.039007Z",
     "start_time": "2024-10-02T10:51:53.019741Z"
    }
   },
   "id": "479c3be06e398dd7",
   "execution_count": 87
  },
  {
   "cell_type": "code",
   "outputs": [
    {
     "name": "stdout",
     "output_type": "stream",
     "text": [
      "31\n",
      "17921 465\n",
      "27013 647\n"
     ]
    }
   ],
   "source": [
    "cls0to1 = clusters      \n",
    "print(len(cls0to1))\n",
    "GG = extract_cluster_list_subgraph(G, cls0to1, communities)\n",
    "print(len(G.nodes), len(GG.nodes))\n",
    "print(len(G.edges), len(GG.edges))"
   ],
   "metadata": {
    "collapsed": false,
    "ExecuteTime": {
     "end_time": "2024-10-02T10:51:56.835845Z",
     "start_time": "2024-10-02T10:51:56.822830Z"
    }
   },
   "id": "c3f971d486da78c6",
   "execution_count": 88
  },
  {
   "cell_type": "code",
   "outputs": [],
   "source": [],
   "metadata": {
    "collapsed": false
   },
   "id": "835b0aca3184bf95",
   "execution_count": null
  },
  {
   "cell_type": "code",
   "outputs": [],
   "source": [],
   "metadata": {
    "collapsed": false
   },
   "id": "ca0eadb06efa81f7",
   "execution_count": null
  },
  {
   "cell_type": "code",
   "outputs": [
    {
     "name": "stdout",
     "output_type": "stream",
     "text": [
      "(0, 6, 3, 7, 236, 927, 921, 919, 924, 88, 85, 81, 72) 28\n",
      "(0, 6, 3, 7, 236, 927, 921, 919, 924, 87, 80, 85, 82, 83, 64, 72) 1\n",
      "(0, 3, 7, 236, 927, 921, 919, 924, 88, 85, 81, 72) 224\n",
      "(0, 3, 7, 236, 927, 921, 919, 924, 87, 80, 85, 82, 83, 64, 72) 8\n",
      "(0, 4, 3, 7, 236, 927, 921, 919, 924, 88, 85, 81, 72) 84\n",
      "(0, 4, 3, 7, 236, 927, 921, 919, 924, 87, 80, 85, 82, 83, 64, 72) 3\n"
     ]
    }
   ],
   "source": [
    "f1 = 0\n",
    "f2 = 72\n",
    "nodes_from = communities[f1]\n",
    "nodes_to = communities[f2]\n",
    "\n",
    "paths = set()\n",
    "pp = {}\n",
    "for f in nodes_from:\n",
    "    for to in nodes_to:\n",
    "        p = nx.dijkstra_path(G, f, to, weight='length')\n",
    "        cls = tuple(list(dict.fromkeys([G.nodes[u]['cluster'] for u in p])))\n",
    "        if cls not in pp:\n",
    "            pp[cls] = 0\n",
    "        pp[cls]+=1\n",
    "        paths.add(cls)\n",
    "for i in pp:\n",
    "    print(i, pp[i])"
   ],
   "metadata": {
    "collapsed": false,
    "ExecuteTime": {
     "end_time": "2024-10-02T10:54:11.311705Z",
     "start_time": "2024-10-02T10:54:07.672016Z"
    }
   },
   "id": "765ceda161ce47a0",
   "execution_count": 89
  },
  {
   "cell_type": "code",
   "outputs": [
    {
     "name": "stdout",
     "output_type": "stream",
     "text": [
      "{0, 3, 4, 6, 7, 919, 921, 924, 927, 64, 72, 80, 81, 82, 83, 85, 87, 88, 236}\n"
     ]
    }
   ],
   "source": [
    "paths = set([vv for uu in paths for vv in uu ])\n",
    "print(paths)"
   ],
   "metadata": {
    "collapsed": false,
    "ExecuteTime": {
     "end_time": "2024-10-02T09:39:18.226626Z",
     "start_time": "2024-10-02T09:39:18.224595Z"
    }
   },
   "id": "d72588122514647f",
   "execution_count": 80
  },
  {
   "cell_type": "code",
   "outputs": [
    {
     "name": "stdout",
     "output_type": "stream",
     "text": [
      "usual time: 3153.55\n"
     ]
    },
    {
     "ename": "NodeNotFound",
     "evalue": "Node 239532064 not found in graph",
     "output_type": "error",
     "traceback": [
      "\u001B[0;31m---------------------------------------------------------------------------\u001B[0m",
      "\u001B[0;31mNodeNotFound\u001B[0m                              Traceback (most recent call last)",
      "Cell \u001B[0;32mIn[81], line 19\u001B[0m\n\u001B[1;32m     17\u001B[0m     stat2[f] \u001B[38;5;241m=\u001B[39m{}\n\u001B[1;32m     18\u001B[0m     \u001B[38;5;28;01mfor\u001B[39;00m to \u001B[38;5;129;01min\u001B[39;00m nodes_to:\n\u001B[0;32m---> 19\u001B[0m         p \u001B[38;5;241m=\u001B[39m \u001B[43mnx\u001B[49m\u001B[38;5;241;43m.\u001B[39;49m\u001B[43mshortest_path_length\u001B[49m\u001B[43m(\u001B[49m\u001B[43mGG\u001B[49m\u001B[43m,\u001B[49m\u001B[43m \u001B[49m\u001B[43mf\u001B[49m\u001B[43m,\u001B[49m\u001B[43m \u001B[49m\u001B[43mto\u001B[49m\u001B[43m,\u001B[49m\u001B[43m \u001B[49m\u001B[43mweight\u001B[49m\u001B[38;5;241;43m=\u001B[39;49m\u001B[38;5;124;43m'\u001B[39;49m\u001B[38;5;124;43mlength\u001B[39;49m\u001B[38;5;124;43m'\u001B[39;49m\u001B[43m)\u001B[49m\n\u001B[1;32m     20\u001B[0m         stat2[f][to] \u001B[38;5;241m=\u001B[39m p\n\u001B[1;32m     21\u001B[0m delta2 \u001B[38;5;241m=\u001B[39m time\u001B[38;5;241m.\u001B[39mtime_ns() \u001B[38;5;241m-\u001B[39m start\n",
      "File \u001B[0;32m<class 'networkx.utils.decorators.argmap'> compilation 53:3\u001B[0m, in \u001B[0;36margmap_shortest_path_length_50\u001B[0;34m(G, source, target, weight, method, backend, **backend_kwargs)\u001B[0m\n\u001B[1;32m      1\u001B[0m \u001B[38;5;28;01mimport\u001B[39;00m \u001B[38;5;21;01mbz2\u001B[39;00m\n\u001B[1;32m      2\u001B[0m \u001B[38;5;28;01mimport\u001B[39;00m \u001B[38;5;21;01mcollections\u001B[39;00m\n\u001B[0;32m----> 3\u001B[0m \u001B[38;5;28;01mimport\u001B[39;00m \u001B[38;5;21;01mgzip\u001B[39;00m\n\u001B[1;32m      4\u001B[0m \u001B[38;5;28;01mimport\u001B[39;00m \u001B[38;5;21;01minspect\u001B[39;00m\n\u001B[1;32m      5\u001B[0m \u001B[38;5;28;01mimport\u001B[39;00m \u001B[38;5;21;01mitertools\u001B[39;00m\n",
      "File \u001B[0;32m~/programming/graph_clustering/venv/lib/python3.10/site-packages/networkx/utils/backends.py:633\u001B[0m, in \u001B[0;36m_dispatchable.__call__\u001B[0;34m(self, backend, *args, **kwargs)\u001B[0m\n\u001B[1;32m    628\u001B[0m \u001B[38;5;250m\u001B[39m\u001B[38;5;124;03m\"\"\"Returns the result of the original function, or the backend function if\u001B[39;00m\n\u001B[1;32m    629\u001B[0m \u001B[38;5;124;03mthe backend is specified and that backend implements `func`.\"\"\"\u001B[39;00m\n\u001B[1;32m    631\u001B[0m \u001B[38;5;28;01mif\u001B[39;00m \u001B[38;5;129;01mnot\u001B[39;00m backends:\n\u001B[1;32m    632\u001B[0m     \u001B[38;5;66;03m# Fast path if no backends are installed\u001B[39;00m\n\u001B[0;32m--> 633\u001B[0m     \u001B[38;5;28;01mreturn\u001B[39;00m \u001B[38;5;28;43mself\u001B[39;49m\u001B[38;5;241;43m.\u001B[39;49m\u001B[43morig_func\u001B[49m\u001B[43m(\u001B[49m\u001B[38;5;241;43m*\u001B[39;49m\u001B[43margs\u001B[49m\u001B[43m,\u001B[49m\u001B[43m \u001B[49m\u001B[38;5;241;43m*\u001B[39;49m\u001B[38;5;241;43m*\u001B[39;49m\u001B[43mkwargs\u001B[49m\u001B[43m)\u001B[49m\n\u001B[1;32m    635\u001B[0m \u001B[38;5;66;03m# Use `backend_name` in this function instead of `backend`\u001B[39;00m\n\u001B[1;32m    636\u001B[0m backend_name \u001B[38;5;241m=\u001B[39m backend\n",
      "File \u001B[0;32m~/programming/graph_clustering/venv/lib/python3.10/site-packages/networkx/algorithms/shortest_paths/generic.py:328\u001B[0m, in \u001B[0;36mshortest_path_length\u001B[0;34m(G, source, target, weight, method)\u001B[0m\n\u001B[1;32m    326\u001B[0m     paths \u001B[38;5;241m=\u001B[39m \u001B[38;5;28mlen\u001B[39m(p) \u001B[38;5;241m-\u001B[39m \u001B[38;5;241m1\u001B[39m\n\u001B[1;32m    327\u001B[0m \u001B[38;5;28;01melif\u001B[39;00m method \u001B[38;5;241m==\u001B[39m \u001B[38;5;124m\"\u001B[39m\u001B[38;5;124mdijkstra\u001B[39m\u001B[38;5;124m\"\u001B[39m:\n\u001B[0;32m--> 328\u001B[0m     paths \u001B[38;5;241m=\u001B[39m \u001B[43mnx\u001B[49m\u001B[38;5;241;43m.\u001B[39;49m\u001B[43mdijkstra_path_length\u001B[49m\u001B[43m(\u001B[49m\u001B[43mG\u001B[49m\u001B[43m,\u001B[49m\u001B[43m \u001B[49m\u001B[43msource\u001B[49m\u001B[43m,\u001B[49m\u001B[43m \u001B[49m\u001B[43mtarget\u001B[49m\u001B[43m,\u001B[49m\u001B[43m \u001B[49m\u001B[43mweight\u001B[49m\u001B[43m)\u001B[49m\n\u001B[1;32m    329\u001B[0m \u001B[38;5;28;01melse\u001B[39;00m:  \u001B[38;5;66;03m# method == 'bellman-ford':\u001B[39;00m\n\u001B[1;32m    330\u001B[0m     paths \u001B[38;5;241m=\u001B[39m nx\u001B[38;5;241m.\u001B[39mbellman_ford_path_length(G, source, target, weight)\n",
      "File \u001B[0;32m<class 'networkx.utils.decorators.argmap'> compilation 85:3\u001B[0m, in \u001B[0;36margmap_dijkstra_path_length_82\u001B[0;34m(G, source, target, weight, backend, **backend_kwargs)\u001B[0m\n\u001B[1;32m      1\u001B[0m \u001B[38;5;28;01mimport\u001B[39;00m \u001B[38;5;21;01mbz2\u001B[39;00m\n\u001B[1;32m      2\u001B[0m \u001B[38;5;28;01mimport\u001B[39;00m \u001B[38;5;21;01mcollections\u001B[39;00m\n\u001B[0;32m----> 3\u001B[0m \u001B[38;5;28;01mimport\u001B[39;00m \u001B[38;5;21;01mgzip\u001B[39;00m\n\u001B[1;32m      4\u001B[0m \u001B[38;5;28;01mimport\u001B[39;00m \u001B[38;5;21;01minspect\u001B[39;00m\n\u001B[1;32m      5\u001B[0m \u001B[38;5;28;01mimport\u001B[39;00m \u001B[38;5;21;01mitertools\u001B[39;00m\n",
      "File \u001B[0;32m~/programming/graph_clustering/venv/lib/python3.10/site-packages/networkx/utils/backends.py:633\u001B[0m, in \u001B[0;36m_dispatchable.__call__\u001B[0;34m(self, backend, *args, **kwargs)\u001B[0m\n\u001B[1;32m    628\u001B[0m \u001B[38;5;250m\u001B[39m\u001B[38;5;124;03m\"\"\"Returns the result of the original function, or the backend function if\u001B[39;00m\n\u001B[1;32m    629\u001B[0m \u001B[38;5;124;03mthe backend is specified and that backend implements `func`.\"\"\"\u001B[39;00m\n\u001B[1;32m    631\u001B[0m \u001B[38;5;28;01mif\u001B[39;00m \u001B[38;5;129;01mnot\u001B[39;00m backends:\n\u001B[1;32m    632\u001B[0m     \u001B[38;5;66;03m# Fast path if no backends are installed\u001B[39;00m\n\u001B[0;32m--> 633\u001B[0m     \u001B[38;5;28;01mreturn\u001B[39;00m \u001B[38;5;28;43mself\u001B[39;49m\u001B[38;5;241;43m.\u001B[39;49m\u001B[43morig_func\u001B[49m\u001B[43m(\u001B[49m\u001B[38;5;241;43m*\u001B[39;49m\u001B[43margs\u001B[49m\u001B[43m,\u001B[49m\u001B[43m \u001B[49m\u001B[38;5;241;43m*\u001B[39;49m\u001B[38;5;241;43m*\u001B[39;49m\u001B[43mkwargs\u001B[49m\u001B[43m)\u001B[49m\n\u001B[1;32m    635\u001B[0m \u001B[38;5;66;03m# Use `backend_name` in this function instead of `backend`\u001B[39;00m\n\u001B[1;32m    636\u001B[0m backend_name \u001B[38;5;241m=\u001B[39m backend\n",
      "File \u001B[0;32m~/programming/graph_clustering/venv/lib/python3.10/site-packages/networkx/algorithms/shortest_paths/weighted.py:244\u001B[0m, in \u001B[0;36mdijkstra_path_length\u001B[0;34m(G, source, target, weight)\u001B[0m\n\u001B[1;32m    177\u001B[0m \u001B[38;5;250m\u001B[39m\u001B[38;5;124;03m\"\"\"Returns the shortest weighted path length in G from source to target.\u001B[39;00m\n\u001B[1;32m    178\u001B[0m \n\u001B[1;32m    179\u001B[0m \u001B[38;5;124;03mUses Dijkstra's Method to compute the shortest weighted path length\u001B[39;00m\n\u001B[0;32m   (...)\u001B[0m\n\u001B[1;32m    241\u001B[0m \n\u001B[1;32m    242\u001B[0m \u001B[38;5;124;03m\"\"\"\u001B[39;00m\n\u001B[1;32m    243\u001B[0m \u001B[38;5;28;01mif\u001B[39;00m source \u001B[38;5;129;01mnot\u001B[39;00m \u001B[38;5;129;01min\u001B[39;00m G:\n\u001B[0;32m--> 244\u001B[0m     \u001B[38;5;28;01mraise\u001B[39;00m nx\u001B[38;5;241m.\u001B[39mNodeNotFound(\u001B[38;5;124mf\u001B[39m\u001B[38;5;124m\"\u001B[39m\u001B[38;5;124mNode \u001B[39m\u001B[38;5;132;01m{\u001B[39;00msource\u001B[38;5;132;01m}\u001B[39;00m\u001B[38;5;124m not found in graph\u001B[39m\u001B[38;5;124m\"\u001B[39m)\n\u001B[1;32m    245\u001B[0m \u001B[38;5;28;01mif\u001B[39;00m source \u001B[38;5;241m==\u001B[39m target:\n\u001B[1;32m    246\u001B[0m     \u001B[38;5;28;01mreturn\u001B[39;00m \u001B[38;5;241m0\u001B[39m\n",
      "\u001B[0;31mNodeNotFound\u001B[0m: Node 239532064 not found in graph"
     ]
    }
   ],
   "source": [
    "stat1 = {}\n",
    "stat2 = {}\n",
    "\n",
    "\n",
    "\n",
    "start = time.time_ns()\n",
    "for f in nodes_from:\n",
    "    stat1[f] ={}\n",
    "    for to in nodes_to:\n",
    "        p = nx.shortest_path_length(G, f, to, weight='length')\n",
    "        stat1[f][to] = p\n",
    "delta1 = time.time_ns() - start\n",
    "print(f'usual time: {delta1/1000000:.2f}')\n",
    "\n",
    "start = time.time_ns()\n",
    "for f in nodes_from:\n",
    "    stat2[f] ={}\n",
    "    for to in nodes_to:\n",
    "        p = nx.shortest_path_length(GG, f, to, weight='length')\n",
    "        stat2[f][to] = p\n",
    "delta2 = time.time_ns() - start\n",
    "print(f'cls time: {delta2/1000000:.2f}')\n",
    "errs = []\n",
    "errs_abs = []\n",
    "for i in nodes_from:\n",
    "    for j in nodes_to:\n",
    "        errs.append(abs(stat1[i][j]- stat2[i][j])/stat1[i][j])\n",
    "        errs_abs.append(abs(stat1[i][j]- stat2[i][j]))\n",
    "print(f'acceleration: {delta1/delta2:.2f}')\n",
    "print(f'mean err {np.mean(errs):.3f}%; max err{ np.max(errs):.3f}%')\n",
    "print(f'mean err {np.mean(errs_abs):.3f}; max err{ np.max(errs_abs):.3f}')\n",
    "print('mean path len: ',np.mean([stat1[i][j] for i in nodes_from for j in nodes_to]))\n",
    "\n",
    "# \n",
    "# start = time.time_ns()\n",
    "# for f in nodes_from:\n",
    "#     stat2[f] ={}\n",
    "#     for to in nodes_to:\n",
    "#         p = nx.astar_path_length(GG, f, to, weight='length', heuristic=h)\n",
    "#         stat2[f][to] = p\n",
    "# delta = time.time_ns() - start\n",
    "# print(f'cls time a star: {delta/1000000:.2f}')\n",
    "# errs = []\n",
    "# errs_abs = []\n",
    "# for i in nodes_from:\n",
    "#     for j in nodes_to:\n",
    "#         errs.append(abs(stat1[i][j]- stat2[i][j])/stat1[i][j])\n",
    "#         errs_abs.append(abs(stat1[i][j]- stat2[i][j]))\n",
    "# print(f'mean err {np.mean(errs):.3f}%; max err{ np.max(errs):.3f}%')\n",
    "# print(f'mean err {np.mean(errs_abs):.3f}; max err{ np.max(errs_abs):.3f}')\n",
    "# print('mean path len: ',np.mean([stat1[i][j] for i in nodes_from for j in nodes_to]))"
   ],
   "metadata": {
    "collapsed": false,
    "ExecuteTime": {
     "end_time": "2024-10-02T09:39:21.663748Z",
     "start_time": "2024-10-02T09:39:18.227256Z"
    }
   },
   "id": "eff048b15bc408f3",
   "execution_count": 81
  },
  {
   "cell_type": "code",
   "outputs": [],
   "source": [
    "e = np.array(errs)\n",
    "e = e[e>0]\n",
    "plt.hist(e)"
   ],
   "metadata": {
    "collapsed": false,
    "ExecuteTime": {
     "end_time": "2024-10-02T09:39:21.664509Z",
     "start_time": "2024-10-02T09:39:21.664452Z"
    }
   },
   "id": "a225b839e3dacdc4",
   "execution_count": null
  },
  {
   "cell_type": "code",
   "outputs": [],
   "source": [
    "sub_graph_all = extract_cluster_list_subgraph(G, paths, communities)\n",
    "pos_all= { u : (d['x'],d['y']) for u,d in sub_graph_all.nodes(data=True)}\n",
    "\n",
    "sub_graph = extract_cluster_list_subgraph(G, {f1,f2}, communities)\n",
    "pos= { u : (d['x'],d['y']) for u,d in sub_graph.nodes(data=True)}\n",
    "# nx.draw_networkx_edge_labels(Q,pos)\n",
    "# nx.draw(G,pos, node_color =    values, node_size=1500,edge_color=edge_colors,edge_cmap=plt.cm.Reds)\n",
    "plt.figure(figsize=(10,10))\n",
    "nx.draw(sub_graph_all,pos_all, node_size=20,edge_cmap=plt.cm.Reds, alpha = 0.5)\n",
    "nx.draw(sub_graph,pos,node_color = 'red', node_size=20,edge_cmap=plt.cm.Reds)\n",
    "\n",
    "pylab.show()"
   ],
   "metadata": {
    "collapsed": false,
    "ExecuteTime": {
     "end_time": "2024-10-02T09:39:21.665153Z",
     "start_time": "2024-10-02T09:39:21.665084Z"
    }
   },
   "id": "a25b0b8809e06b84",
   "execution_count": null
  },
  {
   "cell_type": "code",
   "outputs": [
    {
     "ename": "NodeNotFound",
     "evalue": "Node 239532064 not found in graph",
     "output_type": "error",
     "traceback": [
      "\u001B[0;31m---------------------------------------------------------------------------\u001B[0m",
      "\u001B[0;31mNodeNotFound\u001B[0m                              Traceback (most recent call last)",
      "Cell \u001B[0;32mIn[82], line 8\u001B[0m\n\u001B[1;32m      6\u001B[0m \u001B[38;5;28;01mfor\u001B[39;00m to \u001B[38;5;129;01min\u001B[39;00m nodes_to:\n\u001B[1;32m      7\u001B[0m     p \u001B[38;5;241m=\u001B[39m nx\u001B[38;5;241m.\u001B[39msingle_source_dijkstra(G, f, to, weight\u001B[38;5;241m=\u001B[39m\u001B[38;5;124m'\u001B[39m\u001B[38;5;124mlength\u001B[39m\u001B[38;5;124m'\u001B[39m)\n\u001B[0;32m----> 8\u001B[0m     p_h \u001B[38;5;241m=\u001B[39m \u001B[43mnx\u001B[49m\u001B[38;5;241;43m.\u001B[39;49m\u001B[43msingle_source_dijkstra\u001B[49m\u001B[43m(\u001B[49m\u001B[43mGG\u001B[49m\u001B[43m,\u001B[49m\u001B[43m \u001B[49m\u001B[43mf\u001B[49m\u001B[43m,\u001B[49m\u001B[43m \u001B[49m\u001B[43mto\u001B[49m\u001B[43m,\u001B[49m\u001B[43m \u001B[49m\u001B[43mweight\u001B[49m\u001B[38;5;241;43m=\u001B[39;49m\u001B[38;5;124;43m'\u001B[39;49m\u001B[38;5;124;43mlength\u001B[39;49m\u001B[38;5;124;43m'\u001B[39;49m\u001B[43m)\u001B[49m\n\u001B[1;32m      9\u001B[0m     err \u001B[38;5;241m=\u001B[39m \u001B[38;5;28mabs\u001B[39m(p[\u001B[38;5;241m0\u001B[39m] \u001B[38;5;241m-\u001B[39m p_h[\u001B[38;5;241m0\u001B[39m]) \u001B[38;5;241m/\u001B[39m p[\u001B[38;5;241m0\u001B[39m]\n\u001B[1;32m     10\u001B[0m     \u001B[38;5;28;01mif\u001B[39;00m err \u001B[38;5;241m>\u001B[39m max_err:\n",
      "File \u001B[0;32m<class 'networkx.utils.decorators.argmap'> compilation 73:3\u001B[0m, in \u001B[0;36margmap_single_source_dijkstra_70\u001B[0;34m(G, source, target, cutoff, weight, backend, **backend_kwargs)\u001B[0m\n\u001B[1;32m      1\u001B[0m \u001B[38;5;28;01mimport\u001B[39;00m \u001B[38;5;21;01mbz2\u001B[39;00m\n\u001B[1;32m      2\u001B[0m \u001B[38;5;28;01mimport\u001B[39;00m \u001B[38;5;21;01mcollections\u001B[39;00m\n\u001B[0;32m----> 3\u001B[0m \u001B[38;5;28;01mimport\u001B[39;00m \u001B[38;5;21;01mgzip\u001B[39;00m\n\u001B[1;32m      4\u001B[0m \u001B[38;5;28;01mimport\u001B[39;00m \u001B[38;5;21;01minspect\u001B[39;00m\n\u001B[1;32m      5\u001B[0m \u001B[38;5;28;01mimport\u001B[39;00m \u001B[38;5;21;01mitertools\u001B[39;00m\n",
      "File \u001B[0;32m~/programming/graph_clustering/venv/lib/python3.10/site-packages/networkx/utils/backends.py:633\u001B[0m, in \u001B[0;36m_dispatchable.__call__\u001B[0;34m(self, backend, *args, **kwargs)\u001B[0m\n\u001B[1;32m    628\u001B[0m \u001B[38;5;250m\u001B[39m\u001B[38;5;124;03m\"\"\"Returns the result of the original function, or the backend function if\u001B[39;00m\n\u001B[1;32m    629\u001B[0m \u001B[38;5;124;03mthe backend is specified and that backend implements `func`.\"\"\"\u001B[39;00m\n\u001B[1;32m    631\u001B[0m \u001B[38;5;28;01mif\u001B[39;00m \u001B[38;5;129;01mnot\u001B[39;00m backends:\n\u001B[1;32m    632\u001B[0m     \u001B[38;5;66;03m# Fast path if no backends are installed\u001B[39;00m\n\u001B[0;32m--> 633\u001B[0m     \u001B[38;5;28;01mreturn\u001B[39;00m \u001B[38;5;28;43mself\u001B[39;49m\u001B[38;5;241;43m.\u001B[39;49m\u001B[43morig_func\u001B[49m\u001B[43m(\u001B[49m\u001B[38;5;241;43m*\u001B[39;49m\u001B[43margs\u001B[49m\u001B[43m,\u001B[49m\u001B[43m \u001B[49m\u001B[38;5;241;43m*\u001B[39;49m\u001B[38;5;241;43m*\u001B[39;49m\u001B[43mkwargs\u001B[49m\u001B[43m)\u001B[49m\n\u001B[1;32m    635\u001B[0m \u001B[38;5;66;03m# Use `backend_name` in this function instead of `backend`\u001B[39;00m\n\u001B[1;32m    636\u001B[0m backend_name \u001B[38;5;241m=\u001B[39m backend\n",
      "File \u001B[0;32m~/programming/graph_clustering/venv/lib/python3.10/site-packages/networkx/algorithms/shortest_paths/weighted.py:489\u001B[0m, in \u001B[0;36msingle_source_dijkstra\u001B[0;34m(G, source, target, cutoff, weight)\u001B[0m\n\u001B[1;32m    392\u001B[0m \u001B[38;5;129m@nx\u001B[39m\u001B[38;5;241m.\u001B[39m_dispatchable(edge_attrs\u001B[38;5;241m=\u001B[39m\u001B[38;5;124m\"\u001B[39m\u001B[38;5;124mweight\u001B[39m\u001B[38;5;124m\"\u001B[39m)\n\u001B[1;32m    393\u001B[0m \u001B[38;5;28;01mdef\u001B[39;00m \u001B[38;5;21msingle_source_dijkstra\u001B[39m(G, source, target\u001B[38;5;241m=\u001B[39m\u001B[38;5;28;01mNone\u001B[39;00m, cutoff\u001B[38;5;241m=\u001B[39m\u001B[38;5;28;01mNone\u001B[39;00m, weight\u001B[38;5;241m=\u001B[39m\u001B[38;5;124m\"\u001B[39m\u001B[38;5;124mweight\u001B[39m\u001B[38;5;124m\"\u001B[39m):\n\u001B[1;32m    394\u001B[0m \u001B[38;5;250m    \u001B[39m\u001B[38;5;124;03m\"\"\"Find shortest weighted paths and lengths from a source node.\u001B[39;00m\n\u001B[1;32m    395\u001B[0m \n\u001B[1;32m    396\u001B[0m \u001B[38;5;124;03m    Compute the shortest path length between source and all other\u001B[39;00m\n\u001B[0;32m   (...)\u001B[0m\n\u001B[1;32m    487\u001B[0m \u001B[38;5;124;03m    single_source_bellman_ford\u001B[39;00m\n\u001B[1;32m    488\u001B[0m \u001B[38;5;124;03m    \"\"\"\u001B[39;00m\n\u001B[0;32m--> 489\u001B[0m     \u001B[38;5;28;01mreturn\u001B[39;00m \u001B[43mmulti_source_dijkstra\u001B[49m\u001B[43m(\u001B[49m\n\u001B[1;32m    490\u001B[0m \u001B[43m        \u001B[49m\u001B[43mG\u001B[49m\u001B[43m,\u001B[49m\u001B[43m \u001B[49m\u001B[43m{\u001B[49m\u001B[43msource\u001B[49m\u001B[43m}\u001B[49m\u001B[43m,\u001B[49m\u001B[43m \u001B[49m\u001B[43mcutoff\u001B[49m\u001B[38;5;241;43m=\u001B[39;49m\u001B[43mcutoff\u001B[49m\u001B[43m,\u001B[49m\u001B[43m \u001B[49m\u001B[43mtarget\u001B[49m\u001B[38;5;241;43m=\u001B[39;49m\u001B[43mtarget\u001B[49m\u001B[43m,\u001B[49m\u001B[43m \u001B[49m\u001B[43mweight\u001B[49m\u001B[38;5;241;43m=\u001B[39;49m\u001B[43mweight\u001B[49m\n\u001B[1;32m    491\u001B[0m \u001B[43m    \u001B[49m\u001B[43m)\u001B[49m\n",
      "File \u001B[0;32m<class 'networkx.utils.decorators.argmap'> compilation 77:3\u001B[0m, in \u001B[0;36margmap_multi_source_dijkstra_74\u001B[0;34m(G, sources, target, cutoff, weight, backend, **backend_kwargs)\u001B[0m\n\u001B[1;32m      1\u001B[0m \u001B[38;5;28;01mimport\u001B[39;00m \u001B[38;5;21;01mbz2\u001B[39;00m\n\u001B[1;32m      2\u001B[0m \u001B[38;5;28;01mimport\u001B[39;00m \u001B[38;5;21;01mcollections\u001B[39;00m\n\u001B[0;32m----> 3\u001B[0m \u001B[38;5;28;01mimport\u001B[39;00m \u001B[38;5;21;01mgzip\u001B[39;00m\n\u001B[1;32m      4\u001B[0m \u001B[38;5;28;01mimport\u001B[39;00m \u001B[38;5;21;01minspect\u001B[39;00m\n\u001B[1;32m      5\u001B[0m \u001B[38;5;28;01mimport\u001B[39;00m \u001B[38;5;21;01mitertools\u001B[39;00m\n",
      "File \u001B[0;32m~/programming/graph_clustering/venv/lib/python3.10/site-packages/networkx/utils/backends.py:633\u001B[0m, in \u001B[0;36m_dispatchable.__call__\u001B[0;34m(self, backend, *args, **kwargs)\u001B[0m\n\u001B[1;32m    628\u001B[0m \u001B[38;5;250m\u001B[39m\u001B[38;5;124;03m\"\"\"Returns the result of the original function, or the backend function if\u001B[39;00m\n\u001B[1;32m    629\u001B[0m \u001B[38;5;124;03mthe backend is specified and that backend implements `func`.\"\"\"\u001B[39;00m\n\u001B[1;32m    631\u001B[0m \u001B[38;5;28;01mif\u001B[39;00m \u001B[38;5;129;01mnot\u001B[39;00m backends:\n\u001B[1;32m    632\u001B[0m     \u001B[38;5;66;03m# Fast path if no backends are installed\u001B[39;00m\n\u001B[0;32m--> 633\u001B[0m     \u001B[38;5;28;01mreturn\u001B[39;00m \u001B[38;5;28;43mself\u001B[39;49m\u001B[38;5;241;43m.\u001B[39;49m\u001B[43morig_func\u001B[49m\u001B[43m(\u001B[49m\u001B[38;5;241;43m*\u001B[39;49m\u001B[43margs\u001B[49m\u001B[43m,\u001B[49m\u001B[43m \u001B[49m\u001B[38;5;241;43m*\u001B[39;49m\u001B[38;5;241;43m*\u001B[39;49m\u001B[43mkwargs\u001B[49m\u001B[43m)\u001B[49m\n\u001B[1;32m    635\u001B[0m \u001B[38;5;66;03m# Use `backend_name` in this function instead of `backend`\u001B[39;00m\n\u001B[1;32m    636\u001B[0m backend_name \u001B[38;5;241m=\u001B[39m backend\n",
      "File \u001B[0;32m~/programming/graph_clustering/venv/lib/python3.10/site-packages/networkx/algorithms/shortest_paths/weighted.py:754\u001B[0m, in \u001B[0;36mmulti_source_dijkstra\u001B[0;34m(G, sources, target, cutoff, weight)\u001B[0m\n\u001B[1;32m    752\u001B[0m \u001B[38;5;28;01mfor\u001B[39;00m s \u001B[38;5;129;01min\u001B[39;00m sources:\n\u001B[1;32m    753\u001B[0m     \u001B[38;5;28;01mif\u001B[39;00m s \u001B[38;5;129;01mnot\u001B[39;00m \u001B[38;5;129;01min\u001B[39;00m G:\n\u001B[0;32m--> 754\u001B[0m         \u001B[38;5;28;01mraise\u001B[39;00m nx\u001B[38;5;241m.\u001B[39mNodeNotFound(\u001B[38;5;124mf\u001B[39m\u001B[38;5;124m\"\u001B[39m\u001B[38;5;124mNode \u001B[39m\u001B[38;5;132;01m{\u001B[39;00ms\u001B[38;5;132;01m}\u001B[39;00m\u001B[38;5;124m not found in graph\u001B[39m\u001B[38;5;124m\"\u001B[39m)\n\u001B[1;32m    755\u001B[0m \u001B[38;5;28;01mif\u001B[39;00m target \u001B[38;5;129;01min\u001B[39;00m sources:\n\u001B[1;32m    756\u001B[0m     \u001B[38;5;28;01mreturn\u001B[39;00m (\u001B[38;5;241m0\u001B[39m, [target])\n",
      "\u001B[0;31mNodeNotFound\u001B[0m: Node 239532064 not found in graph"
     ]
    }
   ],
   "source": [
    "max_err = 0\n",
    "max_err_h_path = None\n",
    "max_err_path = None\n",
    "\n",
    "for f in nodes_from:\n",
    "    for to in nodes_to:\n",
    "        p = nx.single_source_dijkstra(G, f, to, weight='length')\n",
    "        p_h = nx.single_source_dijkstra(GG, f, to, weight='length')\n",
    "        err = abs(p[0] - p_h[0]) / p[0]\n",
    "        if err > max_err:\n",
    "            max_err = err\n",
    "            max_err_path = p[1]\n",
    "            max_err_h_path = p_h[1]"
   ],
   "metadata": {
    "collapsed": false,
    "ExecuteTime": {
     "end_time": "2024-10-02T09:39:22.522855Z",
     "start_time": "2024-10-02T09:39:22.438302Z"
    }
   },
   "id": "379f059d2f5a4f6d",
   "execution_count": 82
  },
  {
   "cell_type": "code",
   "outputs": [],
   "source": [
    "print(max_err)"
   ],
   "metadata": {
    "collapsed": false
   },
   "id": "edea8827d4cca1a0",
   "execution_count": null
  },
  {
   "cell_type": "code",
   "outputs": [],
   "source": [
    "cluusters_usual = set([G.nodes[u]['cluster'] for u in max_err_path])\n",
    "cluusters_h = set([G.nodes[u]['cluster'] for u in max_err_h_path])\n",
    "\n",
    "sub_graph_all = extract_cluster_list_subgraph(G, cluusters_usual, communities)\n",
    "pos_all= { u : (d['x'],d['y']) for u,d in sub_graph_all.nodes(data=True)}\n",
    "\n",
    "sub_graph = extract_cluster_list_subgraph(G, cluusters_h, communities)\n",
    "pos= { u : (d['x'],d['y']) for u,d in sub_graph.nodes(data=True)}\n",
    "\n",
    "sub_graph_path = nx.subgraph(G, max_err_path)\n",
    "pos_sub_graph_path= { u : (d['x'],d['y']) for u,d in sub_graph_path.nodes(data=True)}\n",
    "\n",
    "\n",
    "# nx.draw_networkx_edge_labels(Q,pos)\n",
    "# nx.draw(G,pos, node_color =    values, node_size=1500,edge_color=edge_colors,edge_cmap=plt.cm.Reds)\n",
    "plt.figure(figsize=(10,10))\n",
    "# nx.draw(sub_graph_all,pos_all, node_size=20,edge_cmap=plt.cm.Reds, alpha = 0.5)\n",
    "# nx.draw(sub_graph,pos,node_color = 'red', node_size=20,edge_cmap=plt.cm.Reds)\n",
    "nx.draw(sub_graph_path,pos_sub_graph_path,node_color = 'green', node_size=20,edge_cmap=plt.cm.Reds, alpha = 0.5)\n",
    "nx.draw(GG,{ u : (d['x'],d['y']) for u,d in GG.nodes(data=True)},node_color = 'gray', node_size=20,edge_cmap=plt.cm.Reds, alpha = 0.5)\n",
    "\n",
    "pylab.show()"
   ],
   "metadata": {
    "collapsed": false
   },
   "id": "6ad7ae79acfb0c52",
   "execution_count": null
  },
  {
   "cell_type": "code",
   "outputs": [],
   "source": [
    "cls0to1 = set()\n",
    "for i in ss:\n",
    "    for j in i:\n",
    "        cls0to1.add(j)"
   ],
   "metadata": {
    "collapsed": false
   },
   "id": "b1aea006cad5e315",
   "execution_count": null
  },
  {
   "cell_type": "code",
   "outputs": [],
   "source": [
    "print(cls0to1)"
   ],
   "metadata": {
    "collapsed": false
   },
   "id": "6c9648230ba3392c",
   "execution_count": null
  },
  {
   "cell_type": "code",
   "outputs": [],
   "source": [],
   "metadata": {
    "collapsed": false
   },
   "id": "e786bfc9cf676687",
   "execution_count": null
  },
  {
   "cell_type": "code",
   "outputs": [],
   "source": [
    "GG = extract_cluster_list_subgraph(G, cls0to1, communities)\n",
    "print(len(G.nodes), len(GG.nodes))\n",
    "print(len(G.edges), len(GG.edges))"
   ],
   "metadata": {
    "collapsed": false
   },
   "id": "83f63aeae42d7808",
   "execution_count": null
  },
  {
   "cell_type": "code",
   "outputs": [],
   "source": [
    "f1 = 0\n",
    "f2 = 10\n",
    "\n",
    "stat1 = {}\n",
    "stat2 = {}\n",
    "\n",
    "nodes_from = communities[f1]\n",
    "nodes_to = communities[f2]\n",
    "\n",
    "start = time.time_ns()\n",
    "for f in nodes_from:\n",
    "    stat2[f] ={}\n",
    "    for to in nodes_to:\n",
    "        p = nx.shortest_path_length(GG, f, to, weight='length')\n",
    "        stat2[f][to] = p\n",
    "delta = time.time_ns() - start\n",
    "print(f'cls time: {delta/1000000:.2f}')\n",
    "start = time.time_ns()\n",
    "for f in nodes_from:\n",
    "    stat1[f] ={}\n",
    "    for to in nodes_to:\n",
    "        p = nx.shortest_path_length(G, f, to, weight='length')\n",
    "        stat1[f][to] = p\n",
    "delta = time.time_ns() - start\n",
    "print(f'usual time: {delta/1000000:.2f}')"
   ],
   "metadata": {
    "collapsed": false
   },
   "id": "31ad534319b962a",
   "execution_count": null
  },
  {
   "cell_type": "code",
   "outputs": [],
   "source": [
    "print(len(G.edges), len(GG.edges))"
   ],
   "metadata": {
    "collapsed": false
   },
   "id": "e518f6486de9d5cb",
   "execution_count": null
  },
  {
   "cell_type": "code",
   "outputs": [],
   "source": [
    "errs = []\n",
    "for i in nodes_from:\n",
    "    for j in nodes_to:\n",
    "        errs.append(abs(stat1[i][j]- stat2[i][j])/stat1[i][j])\n",
    "print(np.mean(errs), np.max(errs))"
   ],
   "metadata": {
    "collapsed": false
   },
   "id": "e8a8109b1082a937",
   "execution_count": null
  },
  {
   "cell_type": "code",
   "outputs": [],
   "source": [
    "cls2hubs = graph_generator.get_cluster_to_bridge_points(G)\n"
   ],
   "metadata": {
    "collapsed": false
   },
   "id": "d4b4907703a1f45f",
   "execution_count": null
  },
  {
   "cell_type": "code",
   "outputs": [],
   "source": [],
   "metadata": {
    "collapsed": false
   },
   "id": "bc478c9307ec9081"
  },
  {
   "cell_type": "code",
   "outputs": [],
   "source": [
    "def get_matrix():\n",
    "    res = {}\n",
    "    for i in trange(len(communities), position=1):\n",
    "        res[i] ={}\n",
    "        f = nx.barycenter(extract_cluster_list_subgraph(G, {i}, communities))[0]\n",
    "        for j in range(i+1, len(communities)):\n",
    "            res[i][j] = set()\n",
    "            points_to = cls2hubs[j]\n",
    "            for t in points_to:\n",
    "                p = nx.single_source_dijkstra(G, f, t, weight='length')\n",
    "                cls = set([G.nodes[u]['cluster'] for u in p[1]])\n",
    "                for c in cls:\n",
    "                    res[i][j].add(c)\n",
    "    return res\n",
    "A = get_matrix()"
   ],
   "metadata": {
    "collapsed": false
   },
   "id": "9e27d2fccb43571a",
   "execution_count": null
  },
  {
   "cell_type": "code",
   "outputs": [],
   "source": [
    "from multiprocessing import Pool\n",
    "\n",
    "def get_center(data):\n",
    "    G = data['graph']\n",
    "    clusters = data['clusters']\n",
    "    res = {}\n",
    "    for i in clusters: \n",
    "        res[i] = nx.barycenter(graph_generator.extract_cluster_subgraph(G, i))[0]\n",
    "    return res\n",
    "\n",
    "def get_path_clusters(data):\n",
    "    G = data['graph']\n",
    "    cls2hubs = data['cls2hubs']\n",
    "    cls2center = data['cls2center']\n",
    "    communities = data['communities']\n",
    "    i = data['i']\n",
    "    res = {i : {}}\n",
    "    for j in range(i+1, len(communities)):\n",
    "        res[i][j] = set()\n",
    "        for to in cls2hubs[j]:\n",
    "            p = nx.single_source_dijkstra(G, cls2center[i], to, weight='length')\n",
    "            cls = set([G.nodes[u]['cluster'] for u in p[1]])\n",
    "            for c in cls:\n",
    "                res[i][j].add(c)\n",
    "    return res\n",
    "\n",
    "\n",
    "def get_aj_matrix(G, communities):\n",
    "    NUM_THREADS = 6\n",
    "    cls2hubs = graph_generator.get_cluster_to_bridge_points(G)\n",
    "    with Pool(NUM_THREADS) as p:\n",
    "        \n",
    "        centers_data = [{'graph': G, 'clusters': range(i,len(communities), NUM_THREADS)} for i in range(NUM_THREADS)]\n",
    "        cls2center = list(tqdm(p.imap_unordered(get_center, centers_data), total = len(centers_data)))\n",
    "        cls2center = {k: v for d in cls2center for k, v in d.items()}\n",
    "\n",
    "        centers_data = [{'graph': G, 'cls2hubs': cls2hubs, 'cls2center':cls2center,'communities':communities, 'i':i} for i in range(len(communities))]\n",
    "        A = list(tqdm(p.imap_unordered(get_path_clusters, centers_data), total = len(centers_data)))\n",
    "        A = {k: v for d in A for k, v in d.items()} \n",
    "    return A\n",
    "A = get_aj_matrix(G, communities)"
   ],
   "metadata": {
    "collapsed": false
   },
   "id": "e8fcc1bef946f51f",
   "execution_count": null
  },
  {
   "cell_type": "code",
   "outputs": [],
   "source": [
    "communities = clustering.LouvainKMeansCommunitiesResolver(resolution = 5).find_communities(Q)\n",
    "clustering.CommunitiesResolver.write_communities(Q, communities)\n"
   ],
   "metadata": {
    "collapsed": false
   },
   "id": "e10c3334de6456d5",
   "execution_count": null
  },
  {
   "cell_type": "code",
   "outputs": [],
   "source": [
    "import time\n",
    "\n",
    "\n",
    "data = {}\n",
    "top_clusters = 4\n",
    "cls2n = graph_generator.get_cluster_to_neighboring_clusters(Q)\n",
    "print(cls2n[0])\n",
    "\n",
    "for i in range(len(communities)):\n",
    "    data[i] = {}\n",
    "    for j in cls2n[i]:\n",
    "        st = list(get_statistic(i,j).items())\n",
    "        print(st)\n",
    "        err = 0\n",
    "        c = set()\n",
    "        cls = 0\n",
    "        while err < 0.5:\n",
    "            err += st[cls][1]\n",
    "            c1 = set(st[cls][0])\n",
    "            c = c.union(c1)\n",
    "            cls+=1\n",
    "        start = time.time_ns()\n",
    "        usual_matrix =  get_distance(i,j)\n",
    "        usual_time = time.time_ns() - start\n",
    "        start = time.time_ns()\n",
    "        cluster_matrix =  get_distance(i,j, c)\n",
    "        cluster_time = time.time_ns() - start\n",
    "        acc = usual_time / cluster_time\n",
    "        err = {f : {t : abs(usual_matrix[f][t] - cluster_matrix[f][t])/usual_matrix[f][t] for t in usual_matrix[f]}for f in usual_matrix}\n",
    "        errs = [err[f][t] for f in err for t in err[f]]\n",
    "        print(f'from {i} to {j} mean: {np.mean(errs):3f}±{np.std(errs):3f} max: {np.max(errs):3f} acceleration: {acc:3f}')\n",
    "        # data[i][j] = errs"
   ],
   "metadata": {
    "collapsed": false
   },
   "id": "3c8d05cde38b0325",
   "execution_count": null
  },
  {
   "cell_type": "code",
   "outputs": [],
   "source": [
    "def calculate_matrix():\n",
    "    data = {}\n",
    "    # cls2n = graph_generator.get_cluster_to_neighboring_clusters(G)\n",
    "    for i in trange(len(communities), position=0):\n",
    "        data[i] = {}\n",
    "        for j in trange(i+1, len(communities)):\n",
    "            st = list(get_statistic(i,j).items())\n",
    "            err = 0\n",
    "            c = set()\n",
    "            cls = 0\n",
    "            while err < 0.8:\n",
    "                err += st[cls][1]\n",
    "                c1 = set(st[cls][0])\n",
    "                c = c.union(c1)\n",
    "                cls+=1\n",
    "            data[i][j] = c\n",
    "            if j not in data:\n",
    "                data[j] = {}\n",
    "            data[j][i] = c\n",
    "    return data"
   ],
   "metadata": {
    "collapsed": false
   },
   "id": "459e083b428f6999",
   "execution_count": null
  },
  {
   "cell_type": "code",
   "outputs": [],
   "source": [],
   "metadata": {
    "collapsed": false
   },
   "id": "b0236fcdafa07f8c"
  },
  {
   "cell_type": "code",
   "outputs": [],
   "source": [
    "matrix = calculate_matrix()"
   ],
   "metadata": {
    "collapsed": false
   },
   "id": "1ac883571c9d7691",
   "execution_count": null
  },
  {
   "cell_type": "code",
   "outputs": [],
   "source": [
    "N: int = 1000\n",
    "points = [graph_tests.get_node_for_initial_graph_v2(G) for _ in trange(N, desc='generate points')]"
   ],
   "metadata": {
    "collapsed": false
   },
   "id": "d094565d31094637",
   "execution_count": null
  },
  {
   "cell_type": "code",
   "outputs": [],
   "source": [
    "start = time.time_ns()\n",
    "for p1, p2 in tqdm(points):\n",
    "    p = nx.shortest_path(G,p1,p2, weight='length')\n",
    "usual_time = time.time_ns() - start\n",
    "usual_time"
   ],
   "metadata": {
    "collapsed": false
   },
   "id": "b1ebaac79dfedf9f",
   "execution_count": null
  },
  {
   "cell_type": "code",
   "outputs": [],
   "source": [
    "start = time.time_ns()\n",
    "for p1, p2 in tqdm(points):\n",
    "    c1,c2 = G.nodes[p1]['cluster'], G.nodes[p2]['cluster']\n",
    "    p = nx.shortest_path(graph_generator.extract_cluster_list_subgraph(G, matrix[c1][c2], communities),p1,p2, weight='length')\n",
    "usual_time = time.time_ns() - start\n",
    "usual_time"
   ],
   "metadata": {
    "collapsed": false
   },
   "id": "24ad3eae6005ca02",
   "execution_count": null
  },
  {
   "cell_type": "code",
   "outputs": [],
   "source": [
    "import networkx as nx\n",
    "import numpy as np\n",
    "import matplotlib.pyplot as plt\n",
    "import pylab\n"
   ],
   "metadata": {
    "collapsed": false
   },
   "id": "47aa3e701f498444",
   "execution_count": null
  },
  {
   "cell_type": "code",
   "outputs": [],
   "source": [
    "import math\n",
    "import os\n",
    "import pickle\n",
    "import random\n",
    "import sys\n",
    "from multiprocessing import Pool\n",
    "\n",
    "import networkx as nx\n",
    "import numpy as np\n",
    "from scipy.spatial import KDTree as kd\n",
    "\n",
    "\n",
    "def gen(N):\n",
    "    W, H = 1000, 1000\n",
    "    Q = nx.Graph()\n",
    "    for i in range(N):\n",
    "        x = random.random() * W\n",
    "        y = random.random() * H\n",
    "        Q.add_node(i, x=x, y=y)\n",
    "    return Q\n",
    "\n",
    "\n",
    "def add_density(H: nx.Graph, r) -> nx.Graph:\n",
    "    _G = H.copy()\n",
    "    ids = [node for node in H.nodes()]\n",
    "    points = [[d['x'], d['y']] for u, d in H.nodes(data=True)]\n",
    "\n",
    "    tree = kd(points)\n",
    "    prob = r - int(r)\n",
    "    for u, du in H.nodes(data=True):\n",
    "\n",
    "        dists, n_ids = tree.query([du['x'], du['y']], math.ceil(r))\n",
    "        if type(n_ids) is np.int64:\n",
    "            n_ids = [n_ids]\n",
    "            dists = [dists]\n",
    "        if math.ceil(r) == 1:\n",
    "            total = len(n_ids)\n",
    "        else:\n",
    "            total = len(n_ids) - 1\n",
    "            if random.random() < prob:\n",
    "                total += 1\n",
    "        for i in range(total):\n",
    "            _id = n_ids[i]\n",
    "            d = dists[i]\n",
    "            if ids[_id] == u:\n",
    "                continue\n",
    "            _G.add_edge(u, ids[_id], length=d)\n",
    "    if not nx.is_connected(_G):\n",
    "        print('fix connected')\n",
    "        tmp = []\n",
    "        for n in nx.connected_components(_G):\n",
    "            for q in n:\n",
    "                tmp.append(q)\n",
    "                break\n",
    "        for i in range(len(tmp) - 1):\n",
    "            d1 = _G.nodes[tmp[i]]\n",
    "            d2 = _G.nodes[tmp[i + 1]]\n",
    "            _G.add_edge(tmp[i], tmp[i + 1], length=((d1['x'] - d2['x']) ** 2 + (d1['y'] - d2['y']) ** 2) ** 0.5)\n",
    "    return _G"
   ],
   "metadata": {
    "collapsed": false
   },
   "id": "18b457113a8d37a1",
   "execution_count": null
  },
  {
   "cell_type": "code",
   "outputs": [],
   "source": [
    "Q = add_density(gen(40), 6)\n",
    "pos= { u : (d['x'],d['y']) for u,d in Q.nodes(data=True)}\n",
    "# nx.draw_networkx_edge_labels(Q,pos)\n",
    "# nx.draw(G,pos, node_color =    values, node_size=1500,edge_color=edge_colors,edge_cmap=plt.cm.Reds)\n",
    "nx.draw(Q,pos, node_size=150,edge_cmap=plt.cm.Reds)\n",
    "pylab.show()"
   ],
   "metadata": {
    "collapsed": false
   },
   "id": "4b935e031a1a10ba",
   "execution_count": null
  },
  {
   "cell_type": "code",
   "outputs": [],
   "source": [
    "def resolve_communities(H: nx.Graph, r: float = 20) -> list[set[int]]:\n",
    "    communities = nx.community.louvain_communities(H,\n",
    "                                                   seed=1534,\n",
    "                                                   weight='length',\n",
    "                                                   resolution=r)\n",
    "    cls = []\n",
    "\n",
    "    for i, c in enumerate(communities):\n",
    "        for n in nx.connected_components(H.subgraph(c)):\n",
    "            cls.append(n)\n",
    "    for i, ids in enumerate(cls):\n",
    "        for j in ids:\n",
    "            H.nodes[j]['cluster'] = i\n",
    "    return cls"
   ],
   "metadata": {
    "collapsed": false
   },
   "id": "7655fe5c3389851f",
   "execution_count": null
  },
  {
   "cell_type": "code",
   "outputs": [],
   "source": [],
   "metadata": {
    "collapsed": false
   },
   "id": "7e06ef5b879207f1",
   "execution_count": null
  },
  {
   "cell_type": "code",
   "outputs": [],
   "source": [
    "Q = add_density(gen(100), 5)\n",
    "pos= { u : (d['x'],d['y']) for u,d in Q.nodes(data=True)}\n",
    "cls = resolve_communities(Q,1\n",
    ")\n",
    "print(len(cls))\n",
    "cls_map = {}\n",
    "for i in range(len(cls)):\n",
    "    cls_map[i] = i\n",
    "values = []\n",
    "for u,d in Q.nodes(data=True):\n",
    "    values.append(plt.cm.tab10(cls_map[d['cluster']]))\n",
    "nx.draw(Q,pos,node_color = values, node_size=150)\n",
    "pylab.show()"
   ],
   "metadata": {
    "collapsed": false
   },
   "id": "b211d10f0d3ad1fc",
   "execution_count": null
  }
 ],
 "metadata": {
  "kernelspec": {
   "display_name": "Python 3",
   "language": "python",
   "name": "python3"
  },
  "language_info": {
   "codemirror_mode": {
    "name": "ipython",
    "version": 2
   },
   "file_extension": ".py",
   "mimetype": "text/x-python",
   "name": "python",
   "nbconvert_exporter": "python",
   "pygments_lexer": "ipython2",
   "version": "2.7.6"
  }
 },
 "nbformat": 4,
 "nbformat_minor": 5
}
