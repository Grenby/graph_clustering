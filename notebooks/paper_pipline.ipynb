{
 "cells": [
  {
   "cell_type": "code",
   "outputs": [],
   "source": [
    "import logging\n",
    "import sys\n",
    "\n",
    "root = logging.getLogger()\n",
    "root.setLevel(logging.INFO)\n",
    "\n",
    "handler = logging.StreamHandler(sys.stdout)\n",
    "handler.setLevel(logging.INFO)\n",
    "formatter = logging.Formatter('%(asctime)s - %(name)s - %(levelname)s - %(message)s')\n",
    "handler.setFormatter(formatter)\n",
    "root.addHandler(handler)"
   ],
   "metadata": {
    "collapsed": false
   },
   "id": "dde76cebf871e8c3",
   "execution_count": null
  },
  {
   "cell_type": "code",
   "outputs": [],
   "source": [
    "import sys\n",
    "\n",
    "sys.path.append('../scripts')\n",
    "sys.path.append('../')\n",
    "\n",
    "from scripts import graph_osm_loader\n",
    "from scripts import pipeline, centroids_graph_builder, clustering\n",
    "from scripts.path_findings import excraction_pfa, dijkstra_pfa\n",
    "from scripts import utils\n",
    "import scripts"
   ],
   "metadata": {
    "collapsed": false
   },
   "id": "e9ed6a4c09332b67",
   "execution_count": null
  },
  {
   "cell_type": "code",
   "outputs": [],
   "source": [
    "GRAPH_ID = 'R13470549'  # R13470549 R2555133 R3766483\n",
    "# примеры id есть в graph_osm_loader.py\n",
    "g = graph_osm_loader.get_graph(GRAPH_ID)\n",
    "print(len(g.nodes), len(g.edges))"
   ],
   "metadata": {
    "collapsed": false
   },
   "id": "f3d83b1cd99d1de9",
   "execution_count": null
  },
  {
   "cell_type": "code",
   "outputs": [],
   "source": [
    "points = utils.read_points(GRAPH_ID, g, num=1000)"
   ],
   "metadata": {
    "collapsed": false
   },
   "id": "362ff279af79b465",
   "execution_count": null
  },
  {
   "cell_type": "code",
   "outputs": [],
   "source": [
    "cms_resolver = clustering.LouvainCommunityResolver(resolution=25)\n",
    "cg = centroids_graph_builder.CentroidGraphBuilder().build(g, cms_resolver)\n",
    "\n",
    "baseline = dijkstra_pfa.Dijkstra(g)\n",
    "\n",
    "test_alg = excraction_pfa.ExtractionPfa(\n",
    "    g = g,\n",
    "    cg=cg,\n",
    "    upper=dijkstra_pfa.Dijkstra(cg.g),\n",
    "    down=dijkstra_pfa.Dijkstra(g)\n",
    ")"
   ],
   "metadata": {
    "collapsed": false
   },
   "id": "4325b5d0ed6e8858",
   "execution_count": null
  },
  {
   "cell_type": "code",
   "outputs": [],
   "source": [
    "stat = pipeline.PfaComparator(\n",
    "    baseline=baseline,\n",
    "    test_algorithm=test_alg,\n",
    "    points=points,\n",
    "    workers=10\n",
    ").compare()"
   ],
   "metadata": {
    "collapsed": false
   },
   "id": "ae3121ce02585050",
   "execution_count": null
  },
  {
   "cell_type": "code",
   "outputs": [],
   "source": [
    "stat"
   ],
   "metadata": {
    "collapsed": false
   },
   "id": "987dc47fb30c404",
   "execution_count": null
  },
  {
   "cell_type": "code",
   "outputs": [],
   "source": [],
   "metadata": {
    "collapsed": false
   },
   "id": "a693144e02e9f060"
  }
 ],
 "metadata": {
  "kernelspec": {
   "display_name": "Python 3",
   "language": "python",
   "name": "python3"
  },
  "language_info": {
   "codemirror_mode": {
    "name": "ipython",
    "version": 2
   },
   "file_extension": ".py",
   "mimetype": "text/x-python",
   "name": "python",
   "nbconvert_exporter": "python",
   "pygments_lexer": "ipython2",
   "version": "2.7.6"
  }
 },
 "nbformat": 4,
 "nbformat_minor": 5
}
