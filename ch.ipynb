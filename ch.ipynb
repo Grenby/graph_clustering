{
 "cells": [
  {
   "cell_type": "code",
   "outputs": [],
   "source": [
    "import os\n",
    "import pickle\n",
    "import time\n",
    "from multiprocessing import Pool\n",
    "from time import sleep\n",
    "\n",
    "import numpy as np\n",
    "from tqdm.notebook import trange, tqdm\n",
    "\n",
    "from scripts import ch\n",
    "from scripts import dijkstra\n",
    "from scripts import graph_osm_loader, utils"
   ],
   "metadata": {
    "collapsed": false
   },
   "id": "b8b05afdf30bea73",
   "execution_count": null
  },
  {
   "cell_type": "code",
   "outputs": [],
   "source": [
    "GRAPH_ID = 'R13470549'  # R13470549 R2555133 R207359"
   ],
   "metadata": {
    "collapsed": false
   },
   "id": "5f02b3f717415ab9",
   "execution_count": null
  },
  {
   "cell_type": "code",
   "outputs": [],
   "source": [
    "# примеры id есть в graph_osm_loader.py\n",
    "g = graph_osm_loader.get_graph(GRAPH_ID)  # загрузка графа\n",
    "len(g.nodes), len(g.edges)"
   ],
   "metadata": {
    "collapsed": false
   },
   "id": "6b4306a5f68c870a",
   "execution_count": null
  },
  {
   "cell_type": "code",
   "outputs": [],
   "source": [
    "ch_graph = ch.build_ch_graph(g)"
   ],
   "metadata": {
    "collapsed": false
   },
   "id": "683f0cd7fcaf7a2c",
   "execution_count": null
  },
  {
   "cell_type": "code",
   "outputs": [],
   "source": [
    "path = utils.get_path('pouits', f'points_{GRAPH_ID}.pickle')\n",
    "\n",
    "if os.path.exists(path):\n",
    "    with open(path, 'rb') as fp:\n",
    "        points = pickle.load(fp)\n",
    "        fp.close()\n",
    "else:\n",
    "    points = [utils.get_node_for_initial_graph_v2(g) for _ in trange(1000, desc='generate points')]\n",
    "    with open(path, 'wb') as fp:\n",
    "        pickle.dump(points, fp)\n",
    "        fp.close()"
   ],
   "metadata": {
    "collapsed": false
   },
   "id": "22ec26725249e9d8",
   "execution_count": null
  },
  {
   "cell_type": "code",
   "outputs": [],
   "source": [
    "\n",
    "NUM_ITERATION = 2  # чтобы уменьшить ошибку при вычислении времени выполнения, при каждом замере время меряется для NUM_ITERATION повторений\n",
    "WORKER = 4  # количество потоков\n",
    "\n",
    "\n",
    "def do_calc(data):\n",
    "    pps, i = data\n",
    "\n",
    "    stat = {}\n",
    "    stat['l'] = []\n",
    "    stat['h_l'] = []\n",
    "    stat['p'] = []\n",
    "    stat['h_p'] = []\n",
    "    stat['time_l'] = []\n",
    "    stat['time_h'] = []\n",
    "\n",
    "    stat['delta'] = []\n",
    "    # чисто чтобы tqdm нормально прогрузился \n",
    "    sleep(i / 10)\n",
    "    print('start', i)\n",
    "    for p1, p2 in tqdm(pps, desc='find paths', position=i):\n",
    "        if (p1, p2) in stat:\n",
    "            continue\n",
    "        # класический дейкстра\n",
    "        l, p = None, None\n",
    "        start = time.time()\n",
    "        for i in range(NUM_ITERATION):\n",
    "            l, p = dijkstra.dijkstra_pfa(g, p1, p2)\n",
    "        time_l = time.time() - start\n",
    "\n",
    "        # иерархический\n",
    "        h_l, h_p = None, None\n",
    "        start = time.time()\n",
    "        for _ in range(NUM_ITERATION):\n",
    "            h_l, h_p = ch.ch_pfa(ch_graph, p1, p2)  #bi_dijkstra_pfa(nodes2node, p1, p2)\n",
    "        time_h = time.time() - start\n",
    "\n",
    "        delta = (h_l - l) / l * 100\n",
    "        if delta > 100:\n",
    "            print(p1, p2)\n",
    "\n",
    "        stat['l'].append(l)  # длина обычного пути\n",
    "        stat['h_l'].append(h_l)  # длина иерархического пути\n",
    "        stat['p'].append(np.array(p))  # обычный путь\n",
    "        stat['h_p'].append(np.array(h_p))  # иерархический путь\n",
    "        stat['delta'].append(delta)  # разница в длине\n",
    "        stat['time_l'].append(time_l)  # обычное время \n",
    "        stat['time_h'].append(time_h)  # иерархическое\n",
    "    return stat\n",
    "\n",
    "\n",
    "data = [([p for p in points[i::WORKER]], i) for i in range(WORKER)]\n",
    "\n",
    "# do_calc(data[2])\n",
    "with Pool(WORKER) as p:\n",
    "    res = p.map(do_calc, data)\n",
    "\n",
    "stat = {}\n",
    "for l in res:\n",
    "    for d in l:\n",
    "        if d not in stat:\n",
    "            stat[d] = []\n",
    "        stat[d].extend(l[d])\n",
    "print(f'err_mean: {np.mean(stat[\"delta\"]):.5f}')\n",
    "print(f'err_min: {np.min(stat[\"delta\"]):.2f}')\n",
    "print(f'err_max: {np.max(stat[\"delta\"]):.2f}')\n",
    "print(f'err_max: {np.max( [len(stat[\"p\"][i]) - len(stat[\"h_p\"][i]) for i in range(len(stat[\"p\"]))]):.2f}')\n",
    "print(np.mean(np.array(stat['time_l']) / np.array(stat['time_h'])))"
   ],
   "metadata": {
    "collapsed": false
   },
   "id": "cb95eb84d2ed10df",
   "execution_count": null
  },
  {
   "cell_type": "code",
   "outputs": [],
   "source": [],
   "metadata": {
    "collapsed": false
   },
   "id": "9f16ab8bc0f9fff9",
   "execution_count": null
  }
 ],
 "metadata": {
  "kernelspec": {
   "display_name": "Python 3",
   "language": "python",
   "name": "python3"
  },
  "language_info": {
   "codemirror_mode": {
    "name": "ipython",
    "version": 2
   },
   "file_extension": ".py",
   "mimetype": "text/x-python",
   "name": "python",
   "nbconvert_exporter": "python",
   "pygments_lexer": "ipython2",
   "version": "2.7.6"
  }
 },
 "nbformat": 4,
 "nbformat_minor": 5
}
