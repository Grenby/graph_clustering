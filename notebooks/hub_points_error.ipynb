{
 "cells": [
  {
   "cell_type": "markdown",
   "source": [
    "notebook for error analyse"
   ],
   "metadata": {
    "collapsed": false
   },
   "id": "a1ec71e15147f2d3"
  },
  {
   "cell_type": "code",
   "outputs": [],
   "source": [
    "import logging\n",
    "import sys\n",
    "\n",
    "import matplotlib.pyplot as plt\n",
    "\n",
    "root = logging.getLogger()\n",
    "root.setLevel(logging.INFO)\n",
    "\n",
    "handler = logging.StreamHandler(sys.stdout)\n",
    "handler.setLevel(logging.INFO)\n",
    "formatter = logging.Formatter('%(asctime)s - %(name)s - %(levelname)s - %(message)s')\n",
    "handler.setFormatter(formatter)\n",
    "root.addHandler(handler)"
   ],
   "metadata": {
    "collapsed": false,
    "ExecuteTime": {
     "end_time": "2024-12-20T17:59:09.646903Z",
     "start_time": "2024-12-20T17:59:09.292118Z"
    }
   },
   "id": "53dec751eb7d7337",
   "execution_count": 1
  },
  {
   "cell_type": "code",
   "outputs": [],
   "source": [
    "import sys\n",
    "\n",
    "sys.path.append('../scripts')\n",
    "sys.path.append('../')\n",
    "from scripts import centroids_graph_builder\n",
    "from multiprocessing import Pool\n",
    "from scripts import dijkstra\n",
    "import numpy as np\n",
    "from tqdm.notebook import trange\n",
    "from scripts import graph_osm_loader, utils\n",
    "\n",
    "import networkx as nx\n",
    "from scripts import clustering"
   ],
   "metadata": {
    "collapsed": false,
    "ExecuteTime": {
     "end_time": "2024-12-20T17:59:11.265812Z",
     "start_time": "2024-12-20T17:59:09.842922Z"
    }
   },
   "id": "15c1eb90daa7302c",
   "execution_count": 2
  },
  {
   "cell_type": "code",
   "outputs": [],
   "source": [
    "NUM_ITERATION = 2\n",
    "WORKER = 10  # количество потоков"
   ],
   "metadata": {
    "collapsed": false,
    "ExecuteTime": {
     "end_time": "2024-12-20T17:59:11.268928Z",
     "start_time": "2024-12-20T17:59:11.266672Z"
    }
   },
   "id": "607e02cb4fa88adf",
   "execution_count": 3
  },
  {
   "cell_type": "code",
   "outputs": [],
   "source": [
    "    # 'PARIS': 'R71525',\n",
    "    # 'Prague': 'R435514',\n",
    "    # \n",
    "    # 'DUBAI': 'R3766483',\n"
   ],
   "metadata": {
    "collapsed": false,
    "ExecuteTime": {
     "end_time": "2024-12-20T17:59:11.619901Z",
     "start_time": "2024-12-20T17:59:11.617902Z"
    }
   },
   "id": "92f328a1c2ab7ec3",
   "execution_count": 4
  },
  {
   "cell_type": "code",
   "outputs": [],
   "source": [],
   "metadata": {
    "collapsed": false,
    "ExecuteTime": {
     "end_time": "2024-12-20T17:59:32.403112Z",
     "start_time": "2024-12-20T17:59:32.400952Z"
    }
   },
   "id": "2083a0e073e4e7fd",
   "execution_count": 6
  },
  {
   "cell_type": "code",
   "outputs": [
    {
     "name": "stdout",
     "output_type": "stream",
     "text": [
      "9507 14804\n"
     ]
    }
   ],
   "source": [
    "GRAPH_ID = 'R71525'  # R13470549 R2555133 R3766483\n",
    "# примеры id есть в graph_osm_loader.py\n",
    "# g = get_rand_graph(1000, 0.1)  # зарузка графа\n",
    "N = 10000\n",
    "p = 3 / N\n",
    "# g = get_rand_graph(N,p)\n",
    "# g = get_graph()\n",
    "g = graph_osm_loader.get_graph(GRAPH_ID)\n",
    "print(len(g.nodes), len(g.edges))"
   ],
   "metadata": {
    "collapsed": false,
    "ExecuteTime": {
     "end_time": "2024-12-20T18:00:46.527805Z",
     "start_time": "2024-12-20T18:00:46.508329Z"
    }
   },
   "id": "1e5b87472e77c825",
   "execution_count": 13
  },
  {
   "cell_type": "code",
   "outputs": [],
   "source": [
    "@utils.profile(iterations=2)\n",
    "def work():\n",
    "    return nx.connectivity.stoer_wagner(g, weight='length')[1] "
   ],
   "metadata": {
    "collapsed": false,
    "ExecuteTime": {
     "end_time": "2024-12-20T18:00:46.777947Z",
     "start_time": "2024-12-20T18:00:46.775829Z"
    }
   },
   "id": "71318039ecfd451",
   "execution_count": 14
  },
  {
   "cell_type": "code",
   "outputs": [
    {
     "data": {
      "text/plain": "(131.62689352035522,\n ([5057169769],\n  [5509971973,\n   166297606,\n   271450120,\n   116129800,\n   116129802,\n   174981131,\n   5509971981,\n   268140568,\n   141557799,\n   209158195,\n   6180929592,\n   6171131962,\n   6194954302,\n   7228489799,\n   1854603337,\n   245399630,\n   94175315,\n   5383094356,\n   5383094362,\n   25002088,\n   21659758,\n   21659759,\n   21659772,\n   21659773,\n   25198716,\n   4964974719,\n   203325570,\n   677773445,\n   430637190,\n   256409741,\n   906068109,\n   258048145,\n   21659803,\n   21659818,\n   21659819,\n   21659820,\n   21659821,\n   258408623,\n   21659826,\n   21659827,\n   5059182770,\n   5059182773,\n   5059182771,\n   408749290,\n   5059182779,\n   63111356,\n   249168058,\n   5059182780,\n   884211905,\n   258048194,\n   5059182789,\n   267583686,\n   12048793812,\n   359071960,\n   359071964,\n   21659876,\n   96141540,\n   8894513383,\n   175014120,\n   256409832,\n   169279721,\n   252969207,\n   175046904,\n   244580618,\n   9384198410,\n   6200688912,\n   94208275,\n   178880787,\n   258408724,\n   94208278,\n   94208279,\n   332431641,\n   332431642,\n   1433075993,\n   94208286,\n   94208287,\n   94208290,\n   6203408676,\n   227213605,\n   6203408677,\n   332431657,\n   332431658,\n   21659950,\n   175046959,\n   21659957,\n   178880823,\n   139264323,\n   343703877,\n   175079750,\n   272695623,\n   11712135496,\n   96141641,\n   1962508614,\n   128057687,\n   10721558873,\n   11009753444,\n   258146661,\n   6721864042,\n   6176080241,\n   8542126456,\n   8542126457,\n   116130176,\n   256409987,\n   21660038,\n   695566727,\n   21660039,\n   11028038026,\n   21660043,\n   21660044,\n   21660045,\n   353206666,\n   5152178573,\n   6750576057,\n   5152178580,\n   5152178583,\n   110517387,\n   1989837228,\n   1280606637,\n   1804894643,\n   175047091,\n   25625024,\n   368542144,\n   24969670,\n   21660107,\n   418054603,\n   24969677,\n   333677006,\n   24969685,\n   24969692,\n   25625054,\n   164102622,\n   25625056,\n   360930,\n   360932,\n   360935,\n   360937,\n   360938,\n   175014385,\n   360946,\n   94110195,\n   8542126581,\n   94110199,\n   94110200,\n   332202487,\n   9961898494,\n   340394504,\n   340394507,\n   273416715,\n   248578575,\n   360977,\n   360978,\n   360980,\n   248578580,\n   360982,\n   360983,\n   353206807,\n   260768281,\n   360986,\n   252805659,\n   6967198236,\n   360990,\n   360991,\n   6795554135,\n   360995,\n   360996,\n   360997,\n   360999,\n   361000,\n   361001,\n   248578600,\n   361003,\n   177308201,\n   1886061102,\n   1027146301,\n   361024,\n   94241344,\n   361027,\n   1425637956,\n   361031,\n   361032,\n   94208583,\n   361036,\n   361041,\n   361042,\n   361043,\n   361044,\n   361045,\n   6182175313,\n   361047,\n   361048,\n   3000304212,\n   361050,\n   368542291,\n   361058,\n   361059,\n   361060,\n   361062,\n   94143079,\n   94143078,\n   96141927,\n   36471402,\n   361068,\n   36471404,\n   361070,\n   94143086,\n   94143087,\n   21660273,\n   361074,\n   361075,\n   21660275,\n   21660274,\n   21660278,\n   21660279,\n   21660280,\n   21660281,\n   25002615,\n   94143090,\n   361084,\n   393871996,\n   361091,\n   361092,\n   175080067,\n   361096,\n   361098,\n   9429648010,\n   361100,\n   9429648011,\n   361102,\n   361103,\n   361104,\n   361105,\n   361106,\n   169280138,\n   361108,\n   361109,\n   361110,\n   25625239,\n   361112,\n   361114,\n   25625242,\n   361116,\n   361117,\n   361118,\n   250217117,\n   361120,\n   65307297,\n   25625246,\n   25625250,\n   25625252,\n   361125,\n   356385445,\n   6807716517,\n   246842023,\n   25002663,\n   1027146401,\n   175014568,\n   21660332,\n   25625261,\n   25002675,\n   21660340,\n   21660341,\n   802783930,\n   25002683,\n   250217154,\n   96142019,\n   25625284,\n   280429251,\n   25625286,\n   94208711,\n   11616256732,\n   21660389,\n   139265369,\n   1920074478,\n   25625329,\n   64127730,\n   25625331,\n   258573050,\n   826278651,\n   25625339,\n   207782660,\n   305955593,\n   5239603982,\n   245924632,\n   21660458,\n   7475430199,\n   7475430200,\n   15860538,\n   15860541,\n   164102984,\n   258573129,\n   883295055,\n   883295063,\n   36471648,\n   36471649,\n   36471651,\n   94110580,\n   94110581,\n   257033087,\n   257033088,\n   257033089,\n   364643208,\n   175014795,\n   177308558,\n   177308561,\n   94110611,\n   177308565,\n   96142236,\n   96142238,\n   4359357351,\n   368739240,\n   280429481,\n   4359357354,\n   27362231,\n   11930928064,\n   36471747,\n   8122172369,\n   25625557,\n   27362262,\n   116130775,\n   25625561,\n   25625563,\n   746980318,\n   25625567,\n   116130783,\n   746980321,\n   25625572,\n   134579176,\n   25199592,\n   94209002,\n   257688552,\n   227214316,\n   134579178,\n   134579180,\n   134579181,\n   21660667,\n   1832256510,\n   678855680,\n   292881410,\n   169280514,\n   177308681,\n   173999126,\n   25199639,\n   258573336,\n   25625636,\n   25625641,\n   25625643,\n   11330126892,\n   25625645,\n   25625648,\n   94143538,\n   96142386,\n   25625650,\n   25625651,\n   25625653,\n   25625655,\n   25625654,\n   25625656,\n   25625657,\n   25625658,\n   25625659,\n   25625660,\n   25199678,\n   25625661,\n   1440515127,\n   25625668,\n   94176325,\n   94209095,\n   249168967,\n   94176330,\n   25625675,\n   94176331,\n   94176332,\n   9182839886,\n   25625680,\n   164463699,\n   25625686,\n   248579166,\n   248579169,\n   301368419,\n   301368420,\n   116130924,\n   1021084784,\n   174032004,\n   262931591,\n   8579744904,\n   8579744905,\n   94110863,\n   253035664,\n   25625757,\n   368739485,\n   11071194275,\n   94241964,\n   175015093,\n   248579254,\n   34833592,\n   248579256,\n   248579259,\n   966263995,\n   207291586,\n   6428558537,\n   677151951,\n   1376158934,\n   1376158935,\n   301368539,\n   139232476,\n   25101533,\n   25101538,\n   25101541,\n   25101543,\n   204834024,\n   361704,\n   361705,\n   361706,\n   703726824,\n   6428558572,\n   361709,\n   25625836,\n   361711,\n   361712,\n   21660913,\n   361715,\n   21660916,\n   21660914,\n   21660915,\n   25625838,\n   25625847,\n   361721,\n   21660924,\n   361726,\n   94143743,\n   361729,\n   361730,\n   361731,\n   361732,\n   361733,\n   36472067,\n   361735,\n   361736,\n   361737,\n   361738,\n   361739,\n   361740,\n   361741,\n   361742,\n   21660937,\n   361744,\n   361745,\n   21660944,\n   361747,\n   361748,\n   21660948,\n   21660950,\n   21660949,\n   361752,\n   361753,\n   299271453,\n   21660964,\n   655295780,\n   1030161702,\n   21660967,\n   1030161704,\n   21660969,\n   21660970,\n   249660715,\n   21660972,\n   21660973,\n   21660974,\n   21660975,\n   21660976,\n   5843322160,\n   56526128,\n   627574060,\n   627574063,\n   245925171,\n   5843322159,\n   627574064,\n   89163066,\n   25625921,\n   25625924,\n   25625925,\n   245925191,\n   25625927,\n   25625929,\n   25625930,\n   21661003,\n   258573643,\n   676758859,\n   676758863,\n   25625939,\n   89163093,\n   4294378838,\n   89163097,\n   248579418,\n   4294378842,\n   21661018,\n   25625948,\n   25625950,\n   280462687,\n   25625949,\n   268207457,\n   25625951,\n   25625955,\n   25625956,\n   25625953,\n   676758884,\n   25625959,\n   25625960,\n   1757087085,\n   320898414,\n   1757087088,\n   11793696112,\n   248579442,\n   320898418,\n   94209398,\n   94143863,\n   94209400,\n   4225762683,\n   271418748,\n   4225762685,\n   89163134,\n   138151296,\n   21661060,\n   21661061,\n   7845905811,\n   248579476,\n   248579477,\n   21661080,\n   21661082,\n   112035228,\n   299271587,\n   3403646373,\n   3403646375,\n   3511223722,\n   11409098160,\n   130057658,\n   244483517,\n   244483520,\n   36472283,\n   15435230,\n   15435231,\n   15435232,\n   15435233,\n   15435234,\n   141559263,\n   15435240,\n   15435241,\n   15435242,\n   15435243,\n   15435244,\n   306087402,\n   15435249,\n   15435250,\n   15435252,\n   15435254,\n   178882038,\n   178882042,\n   15435259,\n   15435260,\n   15435261,\n   1811219963,\n   15435263,\n   1811219966,\n   94143998,\n   94143999,\n   178882047,\n   1811219965,\n   15435269,\n   311723525,\n   15435271,\n   15435272,\n   15435273,\n   15435274,\n   6089999883,\n   15435277,\n   15435280,\n   15435281,\n   15435282,\n   15435283,\n   12009276962,\n   11026499106,\n   123497817,\n   306087465,\n   15435310,\n   15435311,\n   11026499119,\n   11026499124,\n   10721199671,\n   123497820,\n   94137693,\n   247039550,\n   168363583,\n   5291869758,\n   168363585,\n   5291869762,\n   5291869763,\n   116131391,\n   175048261,\n   168363582,\n   265061959,\n   247039559,\n   797804097,\n   145983051,\n   267486796,\n   174032471,\n   6249842276,\n   168363624,\n   36472431,\n   7038043773,\n   11414406790,\n   938706566,\n   981730952,\n   981730959,\n   314312347,\n   25626269,\n   311723687,\n   94209706,\n   148735674,\n   25626299,\n   655296199,\n   5775918792,\n   244582108,\n   7140083424,\n   1766131427,\n   204834533,\n   1766131439,\n   36472566,\n   96143095,\n   36472568,\n   36472569,\n   49809150,\n   94144255,\n   94144256,\n   194414341,\n   194414345,\n   311068430,\n   25626383,\n   176949010,\n   250349330,\n   178882329,\n   25626403,\n   123766566,\n   1736247083,\n   25626414,\n   116131632,\n   258311984,\n   250349363,\n   174982973,\n   94209853,\n   94209855,\n   1736247101,\n   1736247102,\n   250349381,\n   258148183,\n   1921582936,\n   1921582937,\n   36472665,\n   176949086,\n   259262303,\n   6219204453,\n   273418095,\n   96143215,\n   168363888,\n   25102197,\n   25102203,\n   676890491,\n   151357308,\n   151357309,\n   177309563,\n   151357346,\n   142346148,\n   176949157,\n   2124630292,\n   94209968,\n   676890545,\n   676890544,\n   25102265,\n   602572738,\n   602572739,\n   178882511,\n   1577486292,\n   164431842,\n   245925859,\n   245925860,\n   281675747,\n   280692710,\n   36472814,\n   11256203248,\n   94144498,\n   151357427,\n   333678583,\n   333678584,\n   1245546489,\n   139266047,\n   49809410,\n   49809411,\n   245925892,\n   245925893,\n   235014152,\n   96143370,\n   36472843,\n   270731274,\n   176949258,\n   36472844,\n   303073294,\n   8264222748,\n   5041260572,\n   5041260574,\n   5041260577,\n   2577631266,\n   5041260581,\n   6865979437,\n   2577631280,\n   94144565,\n   6472763447,\n   3036743736,\n   3036743735,\n   151357502,\n   3220375623,\n   332204112,\n   94111834,\n   65308763,\n   359073889,\n   359073891,\n   270731367,\n   698058860,\n   199624817,\n   199624819,\n   177309811,\n   177309812,\n   957319293,\n   1181550725,\n   176949384,\n   116131978,\n   175114384,\n   141592723,\n   270960794,\n   677185710,\n   117639344,\n   277743793,\n   788760763,\n   597723324,\n   94144708,\n   94144709,\n   36473030,\n   36473032,\n   246286541,\n   246286542,\n   246286543,\n   246286547,\n   245401812,\n   246286550,\n   96143575,\n   899090648,\n   96143576,\n   25004249,\n   246286553,\n   246286552,\n   94243036,\n   246286551,\n   510920927,\n   245926115,\n   225741028,\n   25004264,\n   30378216,\n   1762593000,\n   1762593003,\n   30378220,\n   30378221,\n   1762593007,\n   30378224,\n   30378225,\n   36473079,\n   294062329,\n   5455382788,\n   94210316,\n   2700151053,\n   2700151057,\n   245926172,\n   6308595999,\n   294062367,\n   175016228,\n   2481752356,\n   273444340,\n   303073601,\n   2700151105,\n   303073603,\n   9189525835,\n   5963745612,\n   2700151117,\n   249661774,\n   2700151119,\n   5912562002,\n   884214101,\n   94210394,\n   224364902,\n   1433143659,\n   415140208,\n   1918830963,\n   216041844,\n   216041845,\n   36473226,\n   406653331,\n   8274315677,\n   320899492,\n   6361909684,\n   7594346938,\n   7594346941,\n   7594346942,\n   94243262,\n   320899521,\n   320899523,\n   94177741,\n   332040654,\n   6030199247,\n   9425390032,\n   7091915216,\n   151357908,\n   315296216,\n   36473316,\n   9844132326,\n   4426107369,\n   116132337,\n   258050545,\n   315296243,\n   320899576,\n   320899577,\n   3732081147,\n   151357971,\n   432802326,\n   9189984796,\n   249661993,\n   249661994,\n   338496057,\n   94112317,\n   94112319,\n   94112321,\n   500468290,\n   247040579,\n   65309265,\n   297208404,\n   287541857,\n   287541859,\n   178883172,\n   297208421,\n   348097135,\n   202771066,\n   249662080,\n   676727427,\n   249662085,\n   258050694,\n   258050697,\n   2832108170,\n   3835398795,\n   3835398802,\n   3835398803,\n   169314963,\n   94177943,\n   258050714,\n   3835398811,\n   3835398812,\n   1053788830,\n   94177951,\n   1776487073,\n   94177954,\n   568789666,\n   160664229,\n   116132518,\n   258050727,\n   249662126,\n   568789681,\n   247040690,\n   25103029,\n   175082166,\n   346622663,\n   281709257,\n   281709258,\n   346622671,\n   883296977,\n   6355258071,\n   25103068,\n   249662172,\n   249662175,\n   141789927,\n   94210795,\n   1588595435,\n   1588595442,\n   340855540,\n   249662201,\n   36473602,\n   174983938,\n   174983940,\n   975538950,\n   219253511,\n   247040776,\n   219253514,\n   151358219,\n   2394065675,\n   219253517,\n   247040780,\n   406653718,\n   268208926,\n   268208927,\n   94243623,\n   94243625,\n   134515510,\n   247040826,\n   247040832,\n   310348609,\n   558304066,\n   247040835,\n   247040834,\n   94178123,\n   367332175,\n   116132694,\n   116132695,\n   142347102,\n   9901902686,\n   367823710,\n   64621411,\n   94145388,\n   24972141,\n   94145390,\n   24972143,\n   24972144,\n   369331056,\n   369331058,\n   94210933,\n   510724985,\n   510724989,\n   510725003,\n   4692446096,\n   4692446097,\n   4920773520,\n   367332251,\n   64621468,\n   64621469,\n   36473759,\n   24972209,\n   24972211,\n   24972212,\n   24972213,\n   24972214,\n   8616217533,\n   303074238,\n   112036802,\n   409897942,\n   64621531,\n   64621532,\n   64621533,\n   310348773,\n   268209135,\n   244419577,\n   227052554,\n   24972308,\n   1395428384,\n   24972324,\n   24972325,\n   24972326,\n   24972327,\n   24972328,\n   24972331,\n   9422736429,\n   24972333,\n   24972336,\n   1987578932,\n   94178357,\n   244419638,\n   250350656,\n   94211139,\n   94211142,\n   94211143,\n   176950353,\n   24972373,\n   343706710,\n   24972375,\n   24972376,\n   160664667,\n   169315420,\n   24972382,\n   249662559,\n   116132962,\n   166300778,\n   622496879,\n   408751216,\n   24972408,\n   24972409,\n   24972412,\n   5582916736,\n   2043743361,\n   24972423,\n   24972424,\n   151358601,\n   151358603,\n   11334814867,\n   249662613,\n   249662614,\n   244419736,\n   971476124,\n   65277086,\n   9187101869,\n   ...]))"
     },
     "execution_count": 15,
     "metadata": {},
     "output_type": "execute_result"
    }
   ],
   "source": [
    "work()"
   ],
   "metadata": {
    "collapsed": false,
    "ExecuteTime": {
     "end_time": "2024-12-20T18:05:10.883446Z",
     "start_time": "2024-12-20T18:00:47.623575Z"
    }
   },
   "id": "a14cf900279b7cbb",
   "execution_count": 15
  },
  {
   "cell_type": "code",
   "outputs": [],
   "source": [
    "g.remove_edges_from(nx.selfloop_edges(g))"
   ],
   "metadata": {
    "collapsed": false,
    "ExecuteTime": {
     "end_time": "2024-12-20T16:56:49.808432Z",
     "start_time": "2024-12-20T16:56:49.805079Z"
    }
   },
   "id": "3655ef006e9d684e",
   "execution_count": 64
  },
  {
   "cell_type": "code",
   "outputs": [],
   "source": [
    "nodes = g.nodes()"
   ],
   "metadata": {
    "collapsed": false,
    "ExecuteTime": {
     "end_time": "2024-12-20T16:56:50.281771Z",
     "start_time": "2024-12-20T16:56:50.279617Z"
    }
   },
   "id": "331a8f1f8af52e95",
   "execution_count": 65
  },
  {
   "cell_type": "code",
   "outputs": [],
   "source": [
    "path = utils.get_path('pouits', f'points_{GRAPH_ID}.pickle')\n",
    "import os\n",
    "import pickle\n",
    "if os.path.exists(path):\n",
    "    with open(path, 'rb') as fp:\n",
    "        points = pickle.load(fp)\n",
    "        fp.close()\n",
    "else:\n",
    "    points = [utils.get_node_for_initial_graph_v2(g) for _ in trange(100, desc='generate points')]\n",
    "    with open(path, 'wb') as fp:\n",
    "        pickle.dump(points, fp)\n",
    "        fp.close()"
   ],
   "metadata": {
    "collapsed": false,
    "ExecuteTime": {
     "end_time": "2024-12-20T16:56:50.636081Z",
     "start_time": "2024-12-20T16:56:50.633356Z"
    }
   },
   "id": "3c5da6612ffd604c",
   "execution_count": 66
  },
  {
   "cell_type": "code",
   "outputs": [],
   "source": [
    "# find path between two points\n",
    "def find_path_length_h(\n",
    "        g0: nx.Graph,\n",
    "        g1: nx.Graph,\n",
    "        cms: list[set[int]] | tuple[set[int]],\n",
    "        from_node: int,\n",
    "        to_node: int) -> float:\n",
    "    from_cluster = g0.nodes()[from_node]['cluster']\n",
    "    to_cluster = g0.nodes()[to_node]['cluster']\n",
    "    \n",
    "    path = dijkstra.dijkstra_pfa(g1, from_cluster, to_cluster)[1]\n",
    "    cls = set([u for u in path])\n",
    "    g = centroids_graph_builder.extract_cluster_list_subgraph(g0, cls, cms)\n",
    "    return dijkstra.dijkstra_pfa(g, from_node, to_node, cms=cls)\n",
    "    "
   ],
   "metadata": {
    "collapsed": false,
    "ExecuteTime": {
     "end_time": "2024-12-20T16:56:51.223626Z",
     "start_time": "2024-12-20T16:56:51.220846Z"
    }
   },
   "id": "aaeae7ca41f075a3",
   "execution_count": 67
  },
  {
   "cell_type": "code",
   "outputs": [],
   "source": [
    "@utils.profile(iterations=NUM_ITERATION)\n",
    "def usual_path(g, p1, p2):\n",
    "    return dijkstra.dijkstra_pfa(g, p1,p2)\n",
    "\n",
    "@utils.profile(iterations=NUM_ITERATION)\n",
    "def h_path(g, g1, cms, p1, p2):\n",
    "    return find_path_length_h(g,g1, cms, p1, p2)"
   ],
   "metadata": {
    "collapsed": false,
    "ExecuteTime": {
     "end_time": "2024-12-20T16:56:51.838225Z",
     "start_time": "2024-12-20T16:56:51.835251Z"
    }
   },
   "id": "520a0392c2df9025",
   "execution_count": 68
  },
  {
   "cell_type": "code",
   "outputs": [],
   "source": [
    "def do_calc(data_partitions):\n",
    "    g, g1, cms, point_partition, worker_number = data_partitions\n",
    "\n",
    "    stat = {\n",
    "        'l': [],\n",
    "        'h_l': [],\n",
    "        'p': [],\n",
    "        'h_p': [],\n",
    "        'time_l': [],\n",
    "        'time_h': [],\n",
    "        'delta': []\n",
    "    }\n",
    "\n",
    "    \n",
    "    for p1, p2 in point_partition:\n",
    "        # класический дейкстра\n",
    "        time_l, (l, p) = usual_path(g, p1, p2)\n",
    "        # иерархический\n",
    "        time_h, (h_l, h_p) = h_path(g, g1, cms, p1, p2)\n",
    "        delta = (h_l - l) / l * 100\n",
    "\n",
    "        stat['l'].append(l)  # длина обычного пути\n",
    "        stat['h_l'].append(h_l)  # длина иерархического пути\n",
    "        stat['p'].append(p)  # обычный путь\n",
    "        stat['h_p'].append(h_p)  # иерархический путь\n",
    "        stat['delta'].append(delta)  # разница в длине\n",
    "        stat['time_l'].append(time_l)  # обычное время \n",
    "        stat['time_h'].append(time_h)  # иерархическое\n",
    "    return stat\n"
   ],
   "metadata": {
    "collapsed": false,
    "ExecuteTime": {
     "end_time": "2024-12-20T16:56:52.013991Z",
     "start_time": "2024-12-20T16:56:52.010591Z"
    }
   },
   "id": "f9c5f5990e85c3c0",
   "execution_count": 69
  },
  {
   "cell_type": "code",
   "outputs": [],
   "source": [
    "def get_error(g, cms):\n",
    "    cls2n =  centroids_graph_builder.get_cls2n(g) # мапа кластер к соседним кластерам \n",
    "    g1, cls2c = centroids_graph_builder.build_center_graph(g, cms, cls2n, log=False)   \n",
    "    \n",
    "    data = [(g, g1, cms, [p for p in points[i::WORKER]], i) for i in range(WORKER)]\n",
    "    with Pool(WORKER) as p:\n",
    "        stat = {k: v for r in p.imap_unordered(do_calc, data) for k, v in r.items()}\n",
    "    d, a =  np.mean(stat['delta']),np.mean(np.array(stat['time_l']) / np.array(stat['time_h']))\n",
    "    \n",
    "    return cms, centroids_graph_builder.get_cls2hubs(g), d, a "
   ],
   "metadata": {
    "collapsed": false,
    "ExecuteTime": {
     "end_time": "2024-12-20T16:56:52.570680Z",
     "start_time": "2024-12-20T16:56:52.567279Z"
    }
   },
   "id": "b16b3539a340be91",
   "execution_count": 70
  },
  {
   "cell_type": "code",
   "outputs": [],
   "source": [
    "data = {\n",
    "    'q' : [],\n",
    "    'e': [],\n",
    "    'a':[],\n",
    "    'n':[],\n",
    "    'n_mean':[]\n",
    "}"
   ],
   "metadata": {
    "collapsed": false,
    "ExecuteTime": {
     "end_time": "2024-12-20T16:56:53.154914Z",
     "start_time": "2024-12-20T16:56:53.152982Z"
    }
   },
   "id": "a43d682ef23825c3",
   "execution_count": 71
  },
  {
   "cell_type": "code",
   "outputs": [
    {
     "data": {
      "text/plain": "  0%|          | 0/100 [00:00<?, ?it/s]",
      "application/vnd.jupyter.widget-view+json": {
       "version_major": 2,
       "version_minor": 0,
       "model_id": "3b30ed3f9d9e4467b16aaaa774c6f2e6"
      }
     },
     "metadata": {},
     "output_type": "display_data"
    }
   ],
   "source": [
    "for r in trange(1,1000,10):\n",
    "    r = r / 10\n",
    "    cms, cls2hubs, d, a = get_error(g, r) \n",
    "    q = nx.community.partition_quality(g, cms)\n",
    "    data['q'].append(q)\n",
    "    data['e'].append(d)\n",
    "    data['a'].append(a)\n",
    "    data['n'].append(len(set(h for s in cls2hubs.values() for h in s)))\n",
    "    data['n_mean'].append(np.mean([len(s) for s in cls2hubs.values()]))"
   ],
   "metadata": {
    "collapsed": false,
    "ExecuteTime": {
     "end_time": "2024-12-20T16:30:51.038082Z",
     "start_time": "2024-12-20T16:26:34.286479Z"
    }
   },
   "id": "fb20ee604be35cca",
   "execution_count": 14
  },
  {
   "cell_type": "code",
   "outputs": [
    {
     "data": {
      "text/plain": "<matplotlib.collections.PathCollection at 0x70def9c04920>"
     },
     "execution_count": 20,
     "metadata": {},
     "output_type": "execute_result"
    },
    {
     "data": {
      "text/plain": "<Figure size 640x480 with 1 Axes>",
      "image/png": "[encoded data removed]"
     },
     "metadata": {},
     "output_type": "display_data"
    }
   ],
   "source": [
    "plt.scatter([x[0] for x in data['q']], data['a'])"
   ],
   "metadata": {
    "collapsed": false,
    "ExecuteTime": {
     "end_time": "2024-12-20T16:31:09.609177Z",
     "start_time": "2024-12-20T16:31:09.556433Z"
    }
   },
   "id": "aaf05015af63b310",
   "execution_count": 20
  },
  {
   "cell_type": "code",
   "outputs": [
    {
     "data": {
      "text/plain": "<matplotlib.collections.PathCollection at 0x70def922f8c0>"
     },
     "execution_count": 19,
     "metadata": {},
     "output_type": "execute_result"
    },
    {
     "data": {
      "text/plain": "<Figure size 640x480 with 1 Axes>",
      "image/png": "[encoded data removed]"
     },
     "metadata": {},
     "output_type": "display_data"
    }
   ],
   "source": [
    "plt.scatter([x for x in data['n']], data['a'])"
   ],
   "metadata": {
    "collapsed": false,
    "ExecuteTime": {
     "end_time": "2024-12-20T16:31:05.399486Z",
     "start_time": "2024-12-20T16:31:05.348596Z"
    }
   },
   "id": "f486be8772133dcf",
   "execution_count": 19
  },
  {
   "cell_type": "code",
   "outputs": [
    {
     "data": {
      "text/plain": "<matplotlib.collections.PathCollection at 0x70def9268bf0>"
     },
     "execution_count": 18,
     "metadata": {},
     "output_type": "execute_result"
    },
    {
     "data": {
      "text/plain": "<Figure size 640x480 with 1 Axes>",
      "image/png": "[encoded data removed]"
     },
     "metadata": {},
     "output_type": "display_data"
    }
   ],
   "source": [
    "plt.scatter([x for x in data['n_mean']], data['a'])"
   ],
   "metadata": {
    "collapsed": false,
    "ExecuteTime": {
     "end_time": "2024-12-20T16:30:59.933374Z",
     "start_time": "2024-12-20T16:30:59.878773Z"
    }
   },
   "id": "719c0df70762c313",
   "execution_count": 18
  },
  {
   "cell_type": "code",
   "outputs": [],
   "source": [
    "def validate_cms(H: nx.Graph, communities: list[set[int]] | tuple[set[int]]) -> list[set[int]]:\n",
    "    cls = []\n",
    "    if not H.is_directed():\n",
    "        for i, c in enumerate(communities):\n",
    "            for n in nx.connected_components(H.subgraph(c)):\n",
    "                cls.append(n)\n",
    "    else:\n",
    "        cls = communities\n",
    "    for i, ids in enumerate(cls):\n",
    "        for j in ids:\n",
    "            H.nodes()[j]['cluster'] = i\n",
    "    return cls\n"
   ],
   "metadata": {
    "collapsed": false,
    "ExecuteTime": {
     "end_time": "2024-12-20T17:08:18.092428Z",
     "start_time": "2024-12-20T17:08:18.089071Z"
    }
   },
   "id": "decc702c4ea564bd",
   "execution_count": 91
  },
  {
   "cell_type": "code",
   "outputs": [
    {
     "data": {
      "text/plain": "  0%|          | 0/9507 [00:00<?, ?it/s]",
      "application/vnd.jupyter.widget-view+json": {
       "version_major": 2,
       "version_minor": 0,
       "model_id": "eab7d7e521d04ff58160010816462bfb"
      }
     },
     "metadata": {},
     "output_type": "display_data"
    }
   ],
   "source": [],
   "metadata": {
    "collapsed": false,
    "ExecuteTime": {
     "end_time": "2024-12-20T16:59:16.855553Z",
     "start_time": "2024-12-20T16:56:56.734800Z"
    }
   },
   "id": "4f4822524b5a22d8",
   "execution_count": 72
  },
  {
   "cell_type": "code",
   "outputs": [
    {
     "name": "stdout",
     "output_type": "stream",
     "text": [
      "\n",
      "q: (0.7565522831667117, 0.9986627944714173)\n",
      "acceleration: 4.64811285085823\n",
      "delta: 19.85769835991699\n"
     ]
    }
   ],
   "source": [
    "cms = clustering.resolve_louvain_communities(g, resolution=50.5)\n",
    "cms, cls2hubs, d, a = get_error(g, cms) \n",
    "q = nx.community.partition_quality(g, cms)\n",
    "print(f\"\"\"\n",
    "q: {q}\n",
    "acceleration: {a}\n",
    "delta: {d}\n",
    "\"\"\")"
   ],
   "metadata": {
    "collapsed": false,
    "ExecuteTime": {
     "end_time": "2024-12-20T16:59:22.066432Z",
     "start_time": "2024-12-20T16:59:16.856367Z"
    }
   },
   "id": "9771cd95f399e401",
   "execution_count": 73
  },
  {
   "cell_type": "code",
   "outputs": [
    {
     "ename": "KeyboardInterrupt",
     "evalue": "",
     "output_type": "error",
     "traceback": [
      "\u001B[0;31m---------------------------------------------------------------------------\u001B[0m",
      "\u001B[0;31mKeyboardInterrupt\u001B[0m                         Traceback (most recent call last)",
      "Cell \u001B[0;32mIn[93], line 2\u001B[0m\n\u001B[1;32m      1\u001B[0m cms \u001B[38;5;241m=\u001B[39m nx\u001B[38;5;241m.\u001B[39mcommunity\u001B[38;5;241m.\u001B[39mgirvan_newman(g)\n\u001B[0;32m----> 2\u001B[0m cms \u001B[38;5;241m=\u001B[39m \u001B[43m[\u001B[49m\u001B[43mv\u001B[49m\u001B[43m \u001B[49m\u001B[38;5;28;43;01mfor\u001B[39;49;00m\u001B[43m \u001B[49m\u001B[43mv\u001B[49m\u001B[43m \u001B[49m\u001B[38;5;129;43;01min\u001B[39;49;00m\u001B[43m \u001B[49m\u001B[43mcms\u001B[49m\u001B[43m]\u001B[49m\n\u001B[1;32m      3\u001B[0m \u001B[38;5;28mprint\u001B[39m(cms)\n\u001B[1;32m      4\u001B[0m validate_cms(g, cms)\n",
      "File \u001B[0;32m~/programming/graph_clustering/venv/lib/python3.12/site-packages/networkx/algorithms/community/centrality.py:148\u001B[0m, in \u001B[0;36mgirvan_newman\u001B[0;34m(G, most_valuable_edge)\u001B[0m\n\u001B[1;32m    146\u001B[0m g\u001B[38;5;241m.\u001B[39mremove_edges_from(nx\u001B[38;5;241m.\u001B[39mselfloop_edges(g))\n\u001B[1;32m    147\u001B[0m \u001B[38;5;28;01mwhile\u001B[39;00m g\u001B[38;5;241m.\u001B[39mnumber_of_edges() \u001B[38;5;241m>\u001B[39m \u001B[38;5;241m0\u001B[39m:\n\u001B[0;32m--> 148\u001B[0m     \u001B[38;5;28;01myield\u001B[39;00m \u001B[43m_without_most_central_edges\u001B[49m\u001B[43m(\u001B[49m\u001B[43mg\u001B[49m\u001B[43m,\u001B[49m\u001B[43m \u001B[49m\u001B[43mmost_valuable_edge\u001B[49m\u001B[43m)\u001B[49m\n",
      "File \u001B[0;32m~/programming/graph_clustering/venv/lib/python3.12/site-packages/networkx/algorithms/community/centrality.py:167\u001B[0m, in \u001B[0;36m_without_most_central_edges\u001B[0;34m(G, most_valuable_edge)\u001B[0m\n\u001B[1;32m    165\u001B[0m num_new_components \u001B[38;5;241m=\u001B[39m original_num_components\n\u001B[1;32m    166\u001B[0m \u001B[38;5;28;01mwhile\u001B[39;00m num_new_components \u001B[38;5;241m<\u001B[39m\u001B[38;5;241m=\u001B[39m original_num_components:\n\u001B[0;32m--> 167\u001B[0m     edge \u001B[38;5;241m=\u001B[39m \u001B[43mmost_valuable_edge\u001B[49m\u001B[43m(\u001B[49m\u001B[43mG\u001B[49m\u001B[43m)\u001B[49m\n\u001B[1;32m    168\u001B[0m     G\u001B[38;5;241m.\u001B[39mremove_edge(\u001B[38;5;241m*\u001B[39medge)\n\u001B[1;32m    169\u001B[0m     new_components \u001B[38;5;241m=\u001B[39m \u001B[38;5;28mtuple\u001B[39m(nx\u001B[38;5;241m.\u001B[39mconnected_components(G))\n",
      "File \u001B[0;32m~/programming/graph_clustering/venv/lib/python3.12/site-packages/networkx/algorithms/community/centrality.py:139\u001B[0m, in \u001B[0;36mgirvan_newman.<locals>.most_valuable_edge\u001B[0;34m(G)\u001B[0m\n\u001B[1;32m    133\u001B[0m \u001B[38;5;250m\u001B[39m\u001B[38;5;124;03m\"\"\"Returns the edge with the highest betweenness centrality\u001B[39;00m\n\u001B[1;32m    134\u001B[0m \u001B[38;5;124;03min the graph `G`.\u001B[39;00m\n\u001B[1;32m    135\u001B[0m \n\u001B[1;32m    136\u001B[0m \u001B[38;5;124;03m\"\"\"\u001B[39;00m\n\u001B[1;32m    137\u001B[0m \u001B[38;5;66;03m# We have guaranteed that the graph is non-empty, so this\u001B[39;00m\n\u001B[1;32m    138\u001B[0m \u001B[38;5;66;03m# dictionary will never be empty.\u001B[39;00m\n\u001B[0;32m--> 139\u001B[0m betweenness \u001B[38;5;241m=\u001B[39m \u001B[43mnx\u001B[49m\u001B[38;5;241;43m.\u001B[39;49m\u001B[43medge_betweenness_centrality\u001B[49m\u001B[43m(\u001B[49m\u001B[43mG\u001B[49m\u001B[43m)\u001B[49m\n\u001B[1;32m    140\u001B[0m \u001B[38;5;28;01mreturn\u001B[39;00m \u001B[38;5;28mmax\u001B[39m(betweenness, key\u001B[38;5;241m=\u001B[39mbetweenness\u001B[38;5;241m.\u001B[39mget)\n",
      "File \u001B[0;32m<class 'networkx.utils.decorators.argmap'> compilation 100:4\u001B[0m, in \u001B[0;36margmap_edge_betweenness_centrality_96\u001B[0;34m(G, k, normalized, weight, seed, backend, **backend_kwargs)\u001B[0m\n\u001B[1;32m      2\u001B[0m \u001B[38;5;28;01mimport\u001B[39;00m \u001B[38;5;21;01mcollections\u001B[39;00m\n\u001B[1;32m      3\u001B[0m \u001B[38;5;28;01mimport\u001B[39;00m \u001B[38;5;21;01mgzip\u001B[39;00m\n\u001B[0;32m----> 4\u001B[0m \u001B[38;5;28;01mimport\u001B[39;00m \u001B[38;5;21;01minspect\u001B[39;00m\n\u001B[1;32m      5\u001B[0m \u001B[38;5;28;01mimport\u001B[39;00m \u001B[38;5;21;01mitertools\u001B[39;00m\n\u001B[1;32m      6\u001B[0m \u001B[38;5;28;01mimport\u001B[39;00m \u001B[38;5;21;01mre\u001B[39;00m\n",
      "File \u001B[0;32m~/programming/graph_clustering/venv/lib/python3.12/site-packages/networkx/utils/backends.py:967\u001B[0m, in \u001B[0;36m_dispatchable.__call__\u001B[0;34m(self, backend, *args, **kwargs)\u001B[0m\n\u001B[1;32m    965\u001B[0m     \u001B[38;5;28;01mif\u001B[39;00m backend \u001B[38;5;129;01mis\u001B[39;00m \u001B[38;5;129;01mnot\u001B[39;00m \u001B[38;5;28;01mNone\u001B[39;00m \u001B[38;5;129;01mand\u001B[39;00m backend \u001B[38;5;241m!=\u001B[39m \u001B[38;5;124m\"\u001B[39m\u001B[38;5;124mnetworkx\u001B[39m\u001B[38;5;124m\"\u001B[39m:\n\u001B[1;32m    966\u001B[0m         \u001B[38;5;28;01mraise\u001B[39;00m \u001B[38;5;167;01mImportError\u001B[39;00m(\u001B[38;5;124mf\u001B[39m\u001B[38;5;124m\"\u001B[39m\u001B[38;5;124m'\u001B[39m\u001B[38;5;132;01m{\u001B[39;00mbackend\u001B[38;5;132;01m}\u001B[39;00m\u001B[38;5;124m'\u001B[39m\u001B[38;5;124m backend is not installed\u001B[39m\u001B[38;5;124m\"\u001B[39m)\n\u001B[0;32m--> 967\u001B[0m     \u001B[38;5;28;01mreturn\u001B[39;00m \u001B[38;5;28;43mself\u001B[39;49m\u001B[38;5;241;43m.\u001B[39;49m\u001B[43morig_func\u001B[49m\u001B[43m(\u001B[49m\u001B[38;5;241;43m*\u001B[39;49m\u001B[43margs\u001B[49m\u001B[43m,\u001B[49m\u001B[43m \u001B[49m\u001B[38;5;241;43m*\u001B[39;49m\u001B[38;5;241;43m*\u001B[39;49m\u001B[43mkwargs\u001B[49m\u001B[43m)\u001B[49m\n\u001B[1;32m    969\u001B[0m \u001B[38;5;66;03m# Use `backend_name` in this function instead of `backend`.\u001B[39;00m\n\u001B[1;32m    970\u001B[0m \u001B[38;5;66;03m# This is purely for aesthetics and to make it easier to search for this\u001B[39;00m\n\u001B[1;32m    971\u001B[0m \u001B[38;5;66;03m# variable since \"backend\" is used in many comments and log/error messages.\u001B[39;00m\n\u001B[1;32m    972\u001B[0m backend_name \u001B[38;5;241m=\u001B[39m backend\n",
      "File \u001B[0;32m~/programming/graph_clustering/venv/lib/python3.12/site-packages/networkx/algorithms/centrality/betweenness.py:237\u001B[0m, in \u001B[0;36medge_betweenness_centrality\u001B[0;34m(G, k, normalized, weight, seed)\u001B[0m\n\u001B[1;32m    234\u001B[0m \u001B[38;5;28;01mfor\u001B[39;00m s \u001B[38;5;129;01min\u001B[39;00m nodes:\n\u001B[1;32m    235\u001B[0m     \u001B[38;5;66;03m# single source shortest paths\u001B[39;00m\n\u001B[1;32m    236\u001B[0m     \u001B[38;5;28;01mif\u001B[39;00m weight \u001B[38;5;129;01mis\u001B[39;00m \u001B[38;5;28;01mNone\u001B[39;00m:  \u001B[38;5;66;03m# use BFS\u001B[39;00m\n\u001B[0;32m--> 237\u001B[0m         S, P, sigma, _ \u001B[38;5;241m=\u001B[39m \u001B[43m_single_source_shortest_path_basic\u001B[49m\u001B[43m(\u001B[49m\u001B[43mG\u001B[49m\u001B[43m,\u001B[49m\u001B[43m \u001B[49m\u001B[43ms\u001B[49m\u001B[43m)\u001B[49m\n\u001B[1;32m    238\u001B[0m     \u001B[38;5;28;01melse\u001B[39;00m:  \u001B[38;5;66;03m# use Dijkstra's algorithm\u001B[39;00m\n\u001B[1;32m    239\u001B[0m         S, P, sigma, _ \u001B[38;5;241m=\u001B[39m _single_source_dijkstra_path_basic(G, s, weight)\n",
      "File \u001B[0;32m~/programming/graph_clustering/venv/lib/python3.12/site-packages/networkx/algorithms/centrality/betweenness.py:277\u001B[0m, in \u001B[0;36m_single_source_shortest_path_basic\u001B[0;34m(G, s)\u001B[0m\n\u001B[1;32m    275\u001B[0m         \u001B[38;5;28;01mif\u001B[39;00m D[w] \u001B[38;5;241m==\u001B[39m Dv \u001B[38;5;241m+\u001B[39m \u001B[38;5;241m1\u001B[39m:  \u001B[38;5;66;03m# this is a shortest path, count paths\u001B[39;00m\n\u001B[1;32m    276\u001B[0m             sigma[w] \u001B[38;5;241m+\u001B[39m\u001B[38;5;241m=\u001B[39m sigmav\n\u001B[0;32m--> 277\u001B[0m             P[w]\u001B[38;5;241m.\u001B[39mappend(v)  \u001B[38;5;66;03m# predecessors\u001B[39;00m\n\u001B[1;32m    278\u001B[0m \u001B[38;5;28;01mreturn\u001B[39;00m S, P, sigma, D\n",
      "\u001B[0;31mKeyboardInterrupt\u001B[0m: "
     ]
    }
   ],
   "source": [
    "cms = nx.community.girvan_newman(g)\n",
    "cms = [v for v in cms]\n",
    "print(cms)\n",
    "validate_cms(g, cms)\n",
    "\n",
    "cms, cls2hubs, d, a = get_error(g, cms) \n",
    "q = nx.community.partition_quality(g, cms)\n",
    "print(f\"\"\"\n",
    "q: {q}\n",
    "acceleration: {a}\n",
    "delta: {d}\n",
    "\"\"\")"
   ],
   "metadata": {
    "collapsed": false,
    "ExecuteTime": {
     "end_time": "2024-12-20T17:11:31.309146Z",
     "start_time": "2024-12-20T17:09:28.906243Z"
    }
   },
   "id": "9833f05b60b1fb33",
   "execution_count": 93
  },
  {
   "cell_type": "code",
   "outputs": [
    {
     "name": "stdout",
     "output_type": "stream",
     "text": [
      "2024-12-20 20:00:00,325 - root - INFO - communities: 742\n",
      "\n",
      "q: (0.7472304782491218, 0.998620370550487)\n",
      "acceleration: 4.270256758452598\n",
      "delta: 5.681197737245389\n"
     ]
    }
   ],
   "source": [
    "cms = clustering.resolve_k_means_communities(g, resolution=50.5)\n",
    "cms, cls2hubs, d, a = get_error(g, cms) \n",
    "q = nx.community.partition_quality(g, cms)\n",
    "print(f\"\"\"\n",
    "q: {q}\n",
    "acceleration: {a}\n",
    "delta: {d}\n",
    "\"\"\")"
   ],
   "metadata": {
    "collapsed": false,
    "ExecuteTime": {
     "end_time": "2024-12-20T17:00:10.108596Z",
     "start_time": "2024-12-20T16:59:59.731710Z"
    }
   },
   "id": "268e443128280f89",
   "execution_count": 75
  },
  {
   "cell_type": "code",
   "outputs": [
    {
     "ename": "KeyboardInterrupt",
     "evalue": "",
     "output_type": "error",
     "traceback": [
      "\u001B[0;31m---------------------------------------------------------------------------\u001B[0m",
      "\u001B[0;31mKeyboardInterrupt\u001B[0m                         Traceback (most recent call last)",
      "Cell \u001B[0;32mIn[6], line 1\u001B[0m\n\u001B[0;32m----> 1\u001B[0m \u001B[43mnx\u001B[49m\u001B[38;5;241;43m.\u001B[39;49m\u001B[43mconnectivity\u001B[49m\u001B[38;5;241;43m.\u001B[39;49m\u001B[43mstoer_wagner\u001B[49m\u001B[43m(\u001B[49m\u001B[43mg\u001B[49m\u001B[43m,\u001B[49m\u001B[43m \u001B[49m\u001B[43mweight\u001B[49m\u001B[38;5;241;43m=\u001B[39;49m\u001B[38;5;124;43m'\u001B[39;49m\u001B[38;5;124;43mlength\u001B[39;49m\u001B[38;5;124;43m'\u001B[39;49m\u001B[43m)\u001B[49m\n",
      "File \u001B[0;32m~/programming/graph_clustering/venv/lib/python3.12/site-packages/networkx/utils/decorators.py:788\u001B[0m, in \u001B[0;36margmap.__call__.<locals>.func\u001B[0;34m(_argmap__wrapper, *args, **kwargs)\u001B[0m\n\u001B[1;32m    787\u001B[0m \u001B[38;5;28;01mdef\u001B[39;00m \u001B[38;5;21mfunc\u001B[39m(\u001B[38;5;241m*\u001B[39margs, __wrapper\u001B[38;5;241m=\u001B[39m\u001B[38;5;28;01mNone\u001B[39;00m, \u001B[38;5;241m*\u001B[39m\u001B[38;5;241m*\u001B[39mkwargs):\n\u001B[0;32m--> 788\u001B[0m     \u001B[38;5;28;01mreturn\u001B[39;00m \u001B[43margmap\u001B[49m\u001B[38;5;241;43m.\u001B[39;49m\u001B[43m_lazy_compile\u001B[49m\u001B[43m(\u001B[49m\u001B[43m__wrapper\u001B[49m\u001B[43m)\u001B[49m\u001B[43m(\u001B[49m\u001B[38;5;241;43m*\u001B[39;49m\u001B[43margs\u001B[49m\u001B[43m,\u001B[49m\u001B[43m \u001B[49m\u001B[38;5;241;43m*\u001B[39;49m\u001B[38;5;241;43m*\u001B[39;49m\u001B[43mkwargs\u001B[49m\u001B[43m)\u001B[49m\n",
      "File \u001B[0;32m<class 'networkx.utils.decorators.argmap'> compilation 6:5\u001B[0m, in \u001B[0;36margmap_stoer_wagner_1\u001B[0;34m(G, weight, heap, backend, **backend_kwargs)\u001B[0m\n\u001B[1;32m      3\u001B[0m \u001B[38;5;28;01mimport\u001B[39;00m \u001B[38;5;21;01mgzip\u001B[39;00m\n\u001B[1;32m      4\u001B[0m \u001B[38;5;28;01mimport\u001B[39;00m \u001B[38;5;21;01minspect\u001B[39;00m\n\u001B[0;32m----> 5\u001B[0m \u001B[38;5;28;01mimport\u001B[39;00m \u001B[38;5;21;01mitertools\u001B[39;00m\n\u001B[1;32m      6\u001B[0m \u001B[38;5;28;01mimport\u001B[39;00m \u001B[38;5;21;01mre\u001B[39;00m\n\u001B[1;32m      7\u001B[0m \u001B[38;5;28;01mimport\u001B[39;00m \u001B[38;5;21;01mwarnings\u001B[39;00m\n",
      "File \u001B[0;32m~/programming/graph_clustering/venv/lib/python3.12/site-packages/networkx/utils/backends.py:967\u001B[0m, in \u001B[0;36m_dispatchable.__call__\u001B[0;34m(self, backend, *args, **kwargs)\u001B[0m\n\u001B[1;32m    965\u001B[0m     \u001B[38;5;28;01mif\u001B[39;00m backend \u001B[38;5;129;01mis\u001B[39;00m \u001B[38;5;129;01mnot\u001B[39;00m \u001B[38;5;28;01mNone\u001B[39;00m \u001B[38;5;129;01mand\u001B[39;00m backend \u001B[38;5;241m!=\u001B[39m \u001B[38;5;124m\"\u001B[39m\u001B[38;5;124mnetworkx\u001B[39m\u001B[38;5;124m\"\u001B[39m:\n\u001B[1;32m    966\u001B[0m         \u001B[38;5;28;01mraise\u001B[39;00m \u001B[38;5;167;01mImportError\u001B[39;00m(\u001B[38;5;124mf\u001B[39m\u001B[38;5;124m\"\u001B[39m\u001B[38;5;124m'\u001B[39m\u001B[38;5;132;01m{\u001B[39;00mbackend\u001B[38;5;132;01m}\u001B[39;00m\u001B[38;5;124m'\u001B[39m\u001B[38;5;124m backend is not installed\u001B[39m\u001B[38;5;124m\"\u001B[39m)\n\u001B[0;32m--> 967\u001B[0m     \u001B[38;5;28;01mreturn\u001B[39;00m \u001B[38;5;28;43mself\u001B[39;49m\u001B[38;5;241;43m.\u001B[39;49m\u001B[43morig_func\u001B[49m\u001B[43m(\u001B[49m\u001B[38;5;241;43m*\u001B[39;49m\u001B[43margs\u001B[49m\u001B[43m,\u001B[49m\u001B[43m \u001B[49m\u001B[38;5;241;43m*\u001B[39;49m\u001B[38;5;241;43m*\u001B[39;49m\u001B[43mkwargs\u001B[49m\u001B[43m)\u001B[49m\n\u001B[1;32m    969\u001B[0m \u001B[38;5;66;03m# Use `backend_name` in this function instead of `backend`.\u001B[39;00m\n\u001B[1;32m    970\u001B[0m \u001B[38;5;66;03m# This is purely for aesthetics and to make it easier to search for this\u001B[39;00m\n\u001B[1;32m    971\u001B[0m \u001B[38;5;66;03m# variable since \"backend\" is used in many comments and log/error messages.\u001B[39;00m\n\u001B[1;32m    972\u001B[0m backend_name \u001B[38;5;241m=\u001B[39m backend\n",
      "File \u001B[0;32m~/programming/graph_clustering/venv/lib/python3.12/site-packages/networkx/algorithms/connectivity/stoerwagner.py:123\u001B[0m, in \u001B[0;36mstoer_wagner\u001B[0;34m(G, weight, heap)\u001B[0m\n\u001B[1;32m    121\u001B[0m u \u001B[38;5;241m=\u001B[39m h\u001B[38;5;241m.\u001B[39mpop()[\u001B[38;5;241m0\u001B[39m]\n\u001B[1;32m    122\u001B[0m A\u001B[38;5;241m.\u001B[39madd(u)\n\u001B[0;32m--> 123\u001B[0m \u001B[38;5;28;01mfor\u001B[39;00m v, e \u001B[38;5;129;01min\u001B[39;00m \u001B[43mG\u001B[49m\u001B[43m[\u001B[49m\u001B[43mu\u001B[49m\u001B[43m]\u001B[49m\u001B[38;5;241;43m.\u001B[39;49m\u001B[43mitems\u001B[49m\u001B[43m(\u001B[49m\u001B[43m)\u001B[49m:\n\u001B[1;32m    124\u001B[0m     \u001B[38;5;28;01mif\u001B[39;00m v \u001B[38;5;129;01mnot\u001B[39;00m \u001B[38;5;129;01min\u001B[39;00m A:\n\u001B[1;32m    125\u001B[0m         h\u001B[38;5;241m.\u001B[39minsert(v, h\u001B[38;5;241m.\u001B[39mget(v, \u001B[38;5;241m0\u001B[39m) \u001B[38;5;241m-\u001B[39m e[\u001B[38;5;124m\"\u001B[39m\u001B[38;5;124mweight\u001B[39m\u001B[38;5;124m\"\u001B[39m])\n",
      "File \u001B[0;32m<frozen _collections_abc>:825\u001B[0m, in \u001B[0;36mitems\u001B[0;34m(self)\u001B[0m\n",
      "\u001B[0;31mKeyboardInterrupt\u001B[0m: "
     ]
    }
   ],
   "source": [],
   "metadata": {
    "collapsed": false,
    "ExecuteTime": {
     "end_time": "2024-12-20T17:59:19.954033Z",
     "start_time": "2024-12-20T17:59:14.667494Z"
    }
   },
   "id": "92c8e7b99ccac4c6",
   "execution_count": 6
  },
  {
   "cell_type": "code",
   "outputs": [],
   "source": [],
   "metadata": {
    "collapsed": false
   },
   "id": "dbcb5c745fca9801"
  }
 ],
 "metadata": {
  "kernelspec": {
   "display_name": "Python 3",
   "language": "python",
   "name": "python3"
  },
  "language_info": {
   "codemirror_mode": {
    "name": "ipython",
    "version": 2
   },
   "file_extension": ".py",
   "mimetype": "text/x-python",
   "name": "python",
   "nbconvert_exporter": "python",
   "pygments_lexer": "ipython2",
   "version": "2.7.6"
  }
 },
 "nbformat": 4,
 "nbformat_minor": 5
}
