{
 "cells": [
  {
   "cell_type": "code",
   "outputs": [],
   "source": [
    "import os\n",
    "\n",
    "import pickle\n",
    "import time\n",
    "from multiprocessing import Pool\n",
    "from time import sleep\n",
    "\n",
    "import networkx as nx\n",
    "import numpy as np\n",
    "from sklearn.cluster import HDBSCAN\n",
    "from tqdm.notebook import trange, tqdm\n",
    "from scripts import centroids_graph_builder, graph_osm_loader, utils"
   ],
   "metadata": {
    "collapsed": false,
    "ExecuteTime": {
     "end_time": "2024-10-26T13:38:35.679478Z",
     "start_time": "2024-10-26T13:38:35.674935Z"
    }
   },
   "id": "initial_id",
   "execution_count": 12
  },
  {
   "cell_type": "markdown",
   "source": [
    "Примеры как резолвить комьюнити"
   ],
   "metadata": {
    "collapsed": false
   },
   "id": "24e484a2a3e88df1"
  },
  {
   "cell_type": "code",
   "outputs": [],
   "source": [
    "#resolve_communities\n",
    "def resolve_communities(H: nx.Graph, **params) -> list[set[int]]:\n",
    "    communities = nx.community.louvain_communities(H,\n",
    "                                                   seed=1534,\n",
    "                                                   weight='length',\n",
    "                                                   resolution=params['r'])\n",
    "    return utils.validate_cms(H, communities)"
   ],
   "metadata": {
    "collapsed": false,
    "ExecuteTime": {
     "end_time": "2024-10-26T13:38:35.694847Z",
     "start_time": "2024-10-26T13:38:35.688904Z"
    }
   },
   "id": "b114b4571083fd89",
   "execution_count": 13
  },
  {
   "cell_type": "code",
   "outputs": [],
   "source": [
    "def resolve_by_hdbscan(H: nx.Graph):\n",
    "    def f(a,b):\n",
    "        u = int(a[2])\n",
    "        v = int(b[2])\n",
    "        if (u,v) in H.edges() or (v,u) in H.edges():\n",
    "            return H.edges()[(u,v)]['length']\n",
    "        return float('inf')\n",
    "        # return nx.single_source_dijkstra(g, u,v,weight='length')[0]\n",
    "    scan = HDBSCAN(metric=f, min_samples=1, max_cluster_size=30)\n",
    "    x = np.array([[d['x'], d['y'], u] for u, d in g.nodes(data=True)])\n",
    "    y = scan.fit_predict(x)\n",
    "    communities = {}\n",
    "    for i, u in enumerate(g.nodes):\n",
    "        cls = y[i]\n",
    "        if cls not in communities:\n",
    "            communities[cls] = set()\n",
    "        communities[cls].add(u)\n",
    "    communities = [communities[cls] for cls in communities]\n",
    "    del scan\n",
    "    return utils.validate_cms(H, communities)"
   ],
   "metadata": {
    "collapsed": false,
    "ExecuteTime": {
     "end_time": "2024-10-26T13:38:35.718834Z",
     "start_time": "2024-10-26T13:38:35.715898Z"
    }
   },
   "id": "b85841f8c53d4240",
   "execution_count": 14
  },
  {
   "cell_type": "code",
   "outputs": [],
   "source": [
    "# find path between two points\n",
    "def find_path_length_h(\n",
    "        g0: nx.Graph,\n",
    "        g1: nx.Graph,\n",
    "        cms: list[set[int]] | tuple[set[int]],\n",
    "        from_node: int,\n",
    "        to_node: int) -> float:\n",
    "    from_cluster = g0.nodes()[from_node]['cluster']\n",
    "    to_cluster = g0.nodes()[to_node]['cluster']\n",
    "\n",
    "    path = nx.single_source_dijkstra(g1, from_cluster, to_cluster, weight='length')[1]\n",
    "    cls = set([u for u in path])\n",
    "    g = centroids_graph_builder.extract_cluster_list_subgraph(g0, cls, cms)\n",
    "    return nx.single_source_dijkstra(g, from_node, to_node, weight='length')"
   ],
   "metadata": {
    "collapsed": false,
    "ExecuteTime": {
     "end_time": "2024-10-26T13:38:35.725179Z",
     "start_time": "2024-10-26T13:38:35.719649Z"
    }
   },
   "id": "f19c4ac09db589e6",
   "execution_count": 15
  },
  {
   "cell_type": "code",
   "outputs": [],
   "source": [
    "GRAPH_ID = 'R13470549'"
   ],
   "metadata": {
    "collapsed": false,
    "ExecuteTime": {
     "end_time": "2024-10-26T13:38:35.728082Z",
     "start_time": "2024-10-26T13:38:35.726729Z"
    }
   },
   "id": "3b4742a1a125081c",
   "execution_count": 16
  },
  {
   "cell_type": "code",
   "outputs": [
    {
     "data": {
      "text/plain": "(715, 1038)"
     },
     "execution_count": 17,
     "metadata": {},
     "output_type": "execute_result"
    }
   ],
   "source": [
    "# примеры id есть в test_city.py\n",
    "g = graph_osm_loader.get_graph(GRAPH_ID, path='./data/graphs') # загрузка графа\n",
    "len(g.nodes), len(g.edges)"
   ],
   "metadata": {
    "collapsed": false,
    "ExecuteTime": {
     "end_time": "2024-10-26T13:38:35.733266Z",
     "start_time": "2024-10-26T13:38:35.729903Z"
    }
   },
   "id": "b219e78cf93171f5",
   "execution_count": 17
  },
  {
   "cell_type": "code",
   "outputs": [
    {
     "data": {
      "text/plain": "128"
     },
     "execution_count": 18,
     "metadata": {},
     "output_type": "execute_result"
    }
   ],
   "source": [
    "utils.get_opt_cluster_count(len(g.nodes)) # оптимальное количество кластеров"
   ],
   "metadata": {
    "collapsed": false,
    "ExecuteTime": {
     "end_time": "2024-10-26T13:38:35.735719Z",
     "start_time": "2024-10-26T13:38:35.733890Z"
    }
   },
   "id": "b1053ecba87c88b6",
   "execution_count": 18
  },
  {
   "cell_type": "code",
   "outputs": [
    {
     "name": "stdout",
     "output_type": "stream",
     "text": [
      "143\n"
     ]
    }
   ],
   "source": [
    "cms = resolve_communities(g, r=26)\n",
    "print(len(cms))"
   ],
   "metadata": {
    "collapsed": false,
    "ExecuteTime": {
     "end_time": "2024-10-26T13:38:35.762638Z",
     "start_time": "2024-10-26T13:38:35.736204Z"
    }
   },
   "id": "23c1a5d32d570651",
   "execution_count": 19
  },
  {
   "cell_type": "code",
   "outputs": [],
   "source": [
    "cls2n =  centroids_graph_builder.get_cls2n(g) # мапа кластер к соседним кластерам "
   ],
   "metadata": {
    "collapsed": false,
    "ExecuteTime": {
     "end_time": "2024-10-26T13:38:35.766498Z",
     "start_time": "2024-10-26T13:38:35.763355Z"
    }
   },
   "id": "e6594fe741a815f3",
   "execution_count": 20
  },
  {
   "cell_type": "code",
   "outputs": [],
   "source": [
    "g1, cls2c = centroids_graph_builder.build_center_graph(g, cms, cls2n)"
   ],
   "metadata": {
    "collapsed": false,
    "ExecuteTime": {
     "end_time": "2024-10-26T13:38:35.799975Z",
     "start_time": "2024-10-26T13:38:35.767197Z"
    }
   },
   "id": "718024858ba64653",
   "execution_count": 21
  },
  {
   "cell_type": "code",
   "outputs": [
    {
     "data": {
      "text/plain": "generate points:   0%|          | 0/1000 [00:00<?, ?it/s]",
      "application/vnd.jupyter.widget-view+json": {
       "version_major": 2,
       "version_minor": 0,
       "model_id": "720da7ed530044128a2be5a8f6dc29e4"
      }
     },
     "metadata": {},
     "output_type": "display_data"
    }
   ],
   "source": [
    "path = f'./data/points/points_{GRAPH_ID}.pickle'\n",
    "\n",
    "if os.path.exists(path):\n",
    "    with open(path, 'rb') as fp:\n",
    "        points = pickle.load(fp)\n",
    "        fp.close()\n",
    "else:\n",
    "    points = [utils.get_node_for_initial_graph_v2(g) for _ in trange(1000, desc='generate points')]\n",
    "    with open(path, 'wb') as fp:\n",
    "        pickle.dump(points, fp)\n",
    "        fp.close()"
   ],
   "metadata": {
    "collapsed": false,
    "ExecuteTime": {
     "end_time": "2024-10-26T13:38:35.812315Z",
     "start_time": "2024-10-26T13:38:35.800692Z"
    }
   },
   "id": "950e8ced345d955d",
   "execution_count": 22
  },
  {
   "cell_type": "code",
   "outputs": [
    {
     "name": "stdout",
     "output_type": "stream",
     "text": [
      "start 0\n"
     ]
    },
    {
     "data": {
      "text/plain": "find paths:   0%|          | 0/250 [00:00<?, ?it/s]",
      "application/vnd.jupyter.widget-view+json": {
       "version_major": 2,
       "version_minor": 0,
       "model_id": "c1176ac33d71420f9b343cdae6bf675f"
      }
     },
     "metadata": {},
     "output_type": "display_data"
    },
    {
     "name": "stdout",
     "output_type": "stream",
     "text": [
      "start 1\n"
     ]
    },
    {
     "data": {
      "text/plain": "find paths:   0%|          | 0/250 [00:00<?, ?it/s]",
      "application/vnd.jupyter.widget-view+json": {
       "version_major": 2,
       "version_minor": 0,
       "model_id": "92f4acb754474a81b79157daa111265d"
      }
     },
     "metadata": {},
     "output_type": "display_data"
    },
    {
     "name": "stdout",
     "output_type": "stream",
     "text": [
      "start 2\n"
     ]
    },
    {
     "data": {
      "text/plain": "find paths:   0%|          | 0/250 [00:00<?, ?it/s]",
      "application/vnd.jupyter.widget-view+json": {
       "version_major": 2,
       "version_minor": 0,
       "model_id": "b7aa4be716f742479386e5809801e461"
      }
     },
     "metadata": {},
     "output_type": "display_data"
    },
    {
     "name": "stdout",
     "output_type": "stream",
     "text": [
      "start 3\n"
     ]
    },
    {
     "data": {
      "text/plain": "find paths:   0%|          | 0/250 [00:00<?, ?it/s]",
      "application/vnd.jupyter.widget-view+json": {
       "version_major": 2,
       "version_minor": 0,
       "model_id": "611cc49f852d4eeb84ec1fd11036ba07"
      }
     },
     "metadata": {},
     "output_type": "display_data"
    },
    {
     "name": "stdout",
     "output_type": "stream",
     "text": [
      "err_mean: 10.025410017043667\n",
      "err_min: 0.0\n",
      "err_max: 205.43130005256717\n",
      "1.481527375016949\n"
     ]
    }
   ],
   "source": [
    "NUM_ITERATION = 2 # чтобы уменьшить ошибку при вычислении времени выполнения, при каждом замере время меряется для NUM_ITERATION повторений\n",
    "WORKER = 4 # количество потоков\n",
    "\n",
    "\n",
    "def do_calc(data):\n",
    "    pps, i = data\n",
    "\n",
    "    stat = {}\n",
    "    stat['l'] = []\n",
    "    stat['h_l'] = []\n",
    "    stat['p'] = []\n",
    "    stat['h_p'] = []\n",
    "    stat['time_l'] = []\n",
    "    stat['time_h'] = []\n",
    "\n",
    "    stat['delta'] = []\n",
    "    # чисто чтобы tqdm нормально прогрузился \n",
    "    sleep(i/10)\n",
    "    print('start', i)\n",
    "    \n",
    "    for p1, p2 in tqdm(pps, desc='find paths', position=i):\n",
    "        if (p1, p2) in stat:\n",
    "            continue\n",
    "        # класический дейкстра\n",
    "        l, p = None, None\n",
    "        start = time.time()\n",
    "        for i in range(NUM_ITERATION):\n",
    "            l, p = nx.single_source_dijkstra(g, p1, p2, weight='length')\n",
    "        time_l = time.time() - start\n",
    "        \n",
    "        # иерархический\n",
    "        h_l, h_p = None, None\n",
    "        start = time.time()\n",
    "        for _ in range(NUM_ITERATION):\n",
    "            h_l, h_p = find_path_length_h(g, g1,cms, p1, p2)\n",
    "        time_h = time.time() - start\n",
    "        \n",
    "        delta = (h_l - l) / l * 100\n",
    "        stat['l'].append(l) # длина обычного пути\n",
    "        stat['h_l'].append(h_l) # длина иерархического пути\n",
    "        stat['p'].append(p) # обычный путь\n",
    "        stat['h_p'].append(h_p) # иерархический путь\n",
    "        stat['delta'].append(delta) # разница в длине\n",
    "        stat['time_l'].append(time_l) # обычное время \n",
    "        stat['time_h'].append(time_h) # иерархическое\n",
    "    return stat\n",
    "\n",
    "data = [([p for p in points[i::WORKER]], i) for i in range(WORKER)]\n",
    "with Pool(WORKER) as p:\n",
    "    res = p.map(do_calc, data)\n",
    "\n",
    "stat = {}\n",
    "for l in res:\n",
    "    for d in l:\n",
    "        if d not in stat:\n",
    "            stat[d] = []\n",
    "        stat[d].extend(l[d])\n",
    "print('err_mean:', np.mean(stat['delta']))\n",
    "print('err_min:', np.min(stat['delta']))\n",
    "print('err_max:', np.max(stat['delta']))\n",
    "print(np.mean(np.array(stat['time_l']) / np.array(stat['time_h'])))"
   ],
   "metadata": {
    "collapsed": false,
    "ExecuteTime": {
     "end_time": "2024-10-26T13:38:36.636253Z",
     "start_time": "2024-10-26T13:38:35.813230Z"
    }
   },
   "id": "d7674e5d2cbc4bb2",
   "execution_count": 23
  }
 ],
 "metadata": {
  "kernelspec": {
   "display_name": "Python 3",
   "language": "python",
   "name": "python3"
  },
  "language_info": {
   "codemirror_mode": {
    "name": "ipython",
    "version": 2
   },
   "file_extension": ".py",
   "mimetype": "text/x-python",
   "name": "python",
   "nbconvert_exporter": "python",
   "pygments_lexer": "ipython2",
   "version": "2.7.6"
  }
 },
 "nbformat": 4,
 "nbformat_minor": 5
}
