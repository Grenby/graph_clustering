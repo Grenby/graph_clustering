{
 "cells": [
  {
   "cell_type": "code",
   "outputs": [],
   "source": [
    "import logging\n",
    "import sys\n",
    "\n",
    "import numpy as np\n",
    "\n",
    "root = logging.getLogger()\n",
    "root.setLevel(logging.INFO)\n",
    "\n",
    "handler = logging.StreamHandler(sys.stdout)\n",
    "handler.setLevel(logging.INFO)\n",
    "formatter = logging.Formatter('%(asctime)s - %(name)s - %(levelname)s - %(message)s')\n",
    "handler.setFormatter(formatter)\n",
    "root.addHandler(handler)"
   ],
   "metadata": {
    "collapsed": false,
    "ExecuteTime": {
     "end_time": "2025-06-23T15:07:09.493760Z",
     "start_time": "2025-06-23T15:07:09.344018Z"
    }
   },
   "id": "dde76cebf871e8c3",
   "execution_count": 1
  },
  {
   "cell_type": "code",
   "outputs": [],
   "source": [
    "import sys\n",
    "\n",
    "sys.path.append('../scripts')\n",
    "sys.path.append('../')\n",
    "\n",
    "from scripts import graph_osm_loader\n",
    "from scripts import pipeline, centroids_graph_builder, clustering\n",
    "from scripts.path_findings import excraction_pfa, dijkstra_pfa\n",
    "from scripts import utils"
   ],
   "metadata": {
    "collapsed": false,
    "ExecuteTime": {
     "end_time": "2025-06-23T15:07:11.317516Z",
     "start_time": "2025-06-23T15:07:09.667474Z"
    }
   },
   "id": "e9ed6a4c09332b67",
   "execution_count": 2
  },
  {
   "cell_type": "code",
   "outputs": [],
   "source": [
    "GRAPH_ID = 'R2555133'  # R13470549 R2555133 R3766483\n",
    "# примеры id есть в graph_osm_loader.py\n",
    "# g = graph_osm_loader.get_graph(GRAPH_ID)\n",
    "# print(len(g.nodes), len(g.edges))"
   ],
   "metadata": {
    "collapsed": false,
    "ExecuteTime": {
     "end_time": "2025-06-23T15:07:11.322734Z",
     "start_time": "2025-06-23T15:07:11.319372Z"
    }
   },
   "id": "f3d83b1cd99d1de9",
   "execution_count": 3
  },
  {
   "cell_type": "code",
   "outputs": [
    {
     "data": {
      "text/plain": "True"
     },
     "execution_count": 12,
     "metadata": {},
     "output_type": "execute_result"
    }
   ],
   "source": [
    "import networkx as nx\n",
    "g = nx.fast_gnp_random_graph(n=5000, p = 0.008)\n",
    "for u,v,d in g.edges(data=True):\n",
    "    d['length'] = (np.random.rand() + 0.01)\n",
    "nx.is_connected(g)"
   ],
   "metadata": {
    "collapsed": false,
    "ExecuteTime": {
     "end_time": "2025-06-23T15:09:12.997182Z",
     "start_time": "2025-06-23T15:09:12.536966Z"
    }
   },
   "id": "4a53b0e12ee2a",
   "execution_count": 12
  },
  {
   "cell_type": "code",
   "outputs": [],
   "source": [
    "points = utils.read_points('n', g, num=1000)"
   ],
   "metadata": {
    "collapsed": false,
    "ExecuteTime": {
     "end_time": "2025-06-23T15:09:13.537271Z",
     "start_time": "2025-06-23T15:09:13.532863Z"
    }
   },
   "id": "362ff279af79b465",
   "execution_count": 13
  },
  {
   "cell_type": "code",
   "outputs": [
    {
     "data": {
      "text/plain": "  0%|          | 0/100166 [00:00<?, ?it/s]",
      "application/vnd.jupyter.widget-view+json": {
       "version_major": 2,
       "version_minor": 0,
       "model_id": "d17866e64ba1421f8f002b2a39e75331"
      }
     },
     "metadata": {},
     "output_type": "display_data"
    }
   ],
   "source": [
    "from tqdm.notebook import tqdm\n",
    "x = len(g.edges)/len(g.nodes)*4\n",
    "# print(x)\n",
    "for u,v,d in tqdm(g.edges(data=True)):\n",
    "    d['l'] = 1/(d['length'])\n",
    "    d['l_1'] = 1/(d['length'])**3"
   ],
   "metadata": {
    "collapsed": false,
    "ExecuteTime": {
     "end_time": "2025-06-23T15:09:14.177555Z",
     "start_time": "2025-06-23T15:09:13.934512Z"
    }
   },
   "id": "36d6320e84116664",
   "execution_count": 14
  },
  {
   "cell_type": "code",
   "outputs": [
    {
     "data": {
      "text/plain": "find centroids:   0%|          | 0/11 [00:00<?, ?it/s]",
      "application/vnd.jupyter.widget-view+json": {
       "version_major": 2,
       "version_minor": 0,
       "model_id": "3b68297fa0874e1499da0d1d8bdc884f"
      }
     },
     "metadata": {},
     "output_type": "display_data"
    },
    {
     "name": "stderr",
     "output_type": "stream",
     "text": [
      "\n",
      "KeyboardInterrupt\n",
      "\n"
     ]
    }
   ],
   "source": [
    "cms_resolver = clustering.LouvainCommunityResolver(resolution=1)\n",
    "cg = centroids_graph_builder.CentroidGraphBuilder().build(g, cms_resolver)\n",
    "\n",
    "baseline = dijkstra_pfa.Dijkstra(g)\n",
    "\n",
    "test_alg = excraction_pfa.ExtractionPfa(\n",
    "    g = g,\n",
    "    cg=cg,\n",
    "    upper=dijkstra_pfa.Dijkstra(cg.g),\n",
    "    down=dijkstra_pfa.Dijkstra(g)\n",
    ")\n",
    "stat_paper = pipeline.PfaComparator(\n",
    "    baseline=baseline,\n",
    "    test_algorithm=test_alg,\n",
    "    points=points,\n",
    "    workers=4\n",
    ").compare()"
   ],
   "metadata": {
    "collapsed": false,
    "ExecuteTime": {
     "end_time": "2025-06-23T15:09:23.004744Z",
     "start_time": "2025-06-23T15:09:14.715939Z"
    }
   },
   "id": "4325b5d0ed6e8858",
   "execution_count": 15
  },
  {
   "cell_type": "code",
   "outputs": [
    {
     "data": {
      "text/plain": "find centroids:   0%|          | 0/20 [00:00<?, ?it/s]",
      "application/vnd.jupyter.widget-view+json": {
       "version_major": 2,
       "version_minor": 0,
       "model_id": "660c82bb5142459488d8eab04e8298e8"
      }
     },
     "metadata": {},
     "output_type": "display_data"
    },
    {
     "data": {
      "text/plain": "find edges:   0%|          | 0/20 [00:00<?, ?it/s]",
      "application/vnd.jupyter.widget-view+json": {
       "version_major": 2,
       "version_minor": 0,
       "model_id": "11bd19f5a9c144bc9a0f197e94589fe0"
      }
     },
     "metadata": {},
     "output_type": "display_data"
    },
    {
     "name": "stdout",
     "output_type": "stream",
     "text": [
      "start 0\n"
     ]
    },
    {
     "data": {
      "text/plain": "find paths:   0%|          | 0/250 [00:00<?, ?it/s]",
      "application/vnd.jupyter.widget-view+json": {
       "version_major": 2,
       "version_minor": 0,
       "model_id": "9b5bf258d9d7476098b53f17c89dc5f2"
      }
     },
     "metadata": {},
     "output_type": "display_data"
    },
    {
     "name": "stdout",
     "output_type": "stream",
     "text": [
      "start 1\n"
     ]
    },
    {
     "data": {
      "text/plain": "find paths:   0%|          | 0/250 [00:00<?, ?it/s]",
      "application/vnd.jupyter.widget-view+json": {
       "version_major": 2,
       "version_minor": 0,
       "model_id": "ed97635967b444f498c360816fe8df84"
      }
     },
     "metadata": {},
     "output_type": "display_data"
    },
    {
     "name": "stdout",
     "output_type": "stream",
     "text": [
      "start 2\n"
     ]
    },
    {
     "data": {
      "text/plain": "find paths:   0%|          | 0/250 [00:00<?, ?it/s]",
      "application/vnd.jupyter.widget-view+json": {
       "version_major": 2,
       "version_minor": 0,
       "model_id": "431fab916ae94646b560bb43207ffc92"
      }
     },
     "metadata": {},
     "output_type": "display_data"
    },
    {
     "name": "stdout",
     "output_type": "stream",
     "text": [
      "start 3\n"
     ]
    },
    {
     "data": {
      "text/plain": "find paths:   0%|          | 0/250 [00:00<?, ?it/s]",
      "application/vnd.jupyter.widget-view+json": {
       "version_major": 2,
       "version_minor": 0,
       "model_id": "612bec277f76472599b10145a611d386"
      }
     },
     "metadata": {},
     "output_type": "display_data"
    }
   ],
   "source": [
    "cms_resolver = clustering.LouvainCommunityResolver(resolution=0.4,weight='l')\n",
    "\n",
    "cg = centroids_graph_builder.CentroidGraphBuilder().build(g, cms_resolver)\n",
    "\n",
    "baseline = dijkstra_pfa.Dijkstra(g)\n",
    "\n",
    "test_alg = excraction_pfa.ExtractionPfa(\n",
    "    g = g,\n",
    "    cg=cg,\n",
    "    upper=dijkstra_pfa.Dijkstra(cg.g),\n",
    "    down=dijkstra_pfa.Dijkstra(g)\n",
    ")\n",
    "stat_new = pipeline.PfaComparator(\n",
    "    baseline=baseline,\n",
    "    test_algorithm=test_alg,\n",
    "    points=points,\n",
    "    workers=4\n",
    ").compare()"
   ],
   "metadata": {
    "collapsed": false,
    "ExecuteTime": {
     "end_time": "2025-06-23T15:07:53.671568Z",
     "start_time": "2025-06-23T15:07:41.962730Z"
    }
   },
   "id": "ae3121ce02585050",
   "execution_count": 9
  },
  {
   "cell_type": "code",
   "outputs": [
    {
     "data": {
      "text/plain": "find centroids:   0%|          | 0/19 [00:00<?, ?it/s]",
      "application/vnd.jupyter.widget-view+json": {
       "version_major": 2,
       "version_minor": 0,
       "model_id": "c942c6314c504f759203e4c7fdc8c247"
      }
     },
     "metadata": {},
     "output_type": "display_data"
    },
    {
     "data": {
      "text/plain": "find edges:   0%|          | 0/19 [00:00<?, ?it/s]",
      "application/vnd.jupyter.widget-view+json": {
       "version_major": 2,
       "version_minor": 0,
       "model_id": "14c7b13310c34a398d28f9ba5fd2475d"
      }
     },
     "metadata": {},
     "output_type": "display_data"
    },
    {
     "name": "stdout",
     "output_type": "stream",
     "text": [
      "start 0\n"
     ]
    },
    {
     "data": {
      "text/plain": "find paths:   0%|          | 0/250 [00:00<?, ?it/s]",
      "application/vnd.jupyter.widget-view+json": {
       "version_major": 2,
       "version_minor": 0,
       "model_id": "7b68f0fc43994fde99db4ecd0a6ae8a4"
      }
     },
     "metadata": {},
     "output_type": "display_data"
    },
    {
     "name": "stdout",
     "output_type": "stream",
     "text": [
      "start 1\n"
     ]
    },
    {
     "data": {
      "text/plain": "find paths:   0%|          | 0/250 [00:00<?, ?it/s]",
      "application/vnd.jupyter.widget-view+json": {
       "version_major": 2,
       "version_minor": 0,
       "model_id": "1a5cc1d949dd4107a167d225712caa16"
      }
     },
     "metadata": {},
     "output_type": "display_data"
    },
    {
     "name": "stdout",
     "output_type": "stream",
     "text": [
      "start 2\n"
     ]
    },
    {
     "data": {
      "text/plain": "find paths:   0%|          | 0/250 [00:00<?, ?it/s]",
      "application/vnd.jupyter.widget-view+json": {
       "version_major": 2,
       "version_minor": 0,
       "model_id": "147b72c2b1ca40a3bf525c687e3c7f7d"
      }
     },
     "metadata": {},
     "output_type": "display_data"
    },
    {
     "name": "stdout",
     "output_type": "stream",
     "text": [
      "start 3\n"
     ]
    },
    {
     "data": {
      "text/plain": "find paths:   0%|          | 0/250 [00:00<?, ?it/s]",
      "application/vnd.jupyter.widget-view+json": {
       "version_major": 2,
       "version_minor": 0,
       "model_id": "2472b4ea77bc4bd0a045edc6ad2e37a6"
      }
     },
     "metadata": {},
     "output_type": "display_data"
    }
   ],
   "source": [
    "cms_resolver = clustering.LouvainKMeansCommunityResolver(resolution=1)\n",
    "cg = centroids_graph_builder.CentroidGraphBuilder().build(g, cms_resolver)\n",
    "\n",
    "baseline = dijkstra_pfa.Dijkstra(g)\n",
    "\n",
    "test_alg = excraction_pfa.ExtractionPfa(\n",
    "    g = g,\n",
    "    cg=cg,\n",
    "    upper=dijkstra_pfa.Dijkstra(cg.g),\n",
    "    down=dijkstra_pfa.Dijkstra(g)\n",
    ")\n",
    "stat_kmeans_old = pipeline.PfaComparator(\n",
    "    baseline=baseline,\n",
    "    test_algorithm=test_alg,\n",
    "    points=points,\n",
    "    workers=4\n",
    ").compare()"
   ],
   "metadata": {
    "collapsed": false,
    "ExecuteTime": {
     "end_time": "2025-06-23T15:02:48.031472Z",
     "start_time": "2025-06-23T15:02:34.595004Z"
    }
   },
   "id": "e23b11b6fff1b06b",
   "execution_count": 9
  },
  {
   "cell_type": "code",
   "outputs": [
    {
     "data": {
      "text/plain": "find centroids:   0%|          | 0/43 [00:00<?, ?it/s]",
      "application/vnd.jupyter.widget-view+json": {
       "version_major": 2,
       "version_minor": 0,
       "model_id": "70e70e44066f4795b6f120c8f1cb132c"
      }
     },
     "metadata": {},
     "output_type": "display_data"
    },
    {
     "data": {
      "text/plain": "find edges:   0%|          | 0/43 [00:00<?, ?it/s]",
      "application/vnd.jupyter.widget-view+json": {
       "version_major": 2,
       "version_minor": 0,
       "model_id": "be041e8c61db45a0964b38c619b9e4cc"
      }
     },
     "metadata": {},
     "output_type": "display_data"
    },
    {
     "name": "stdout",
     "output_type": "stream",
     "text": [
      "start 0\n"
     ]
    },
    {
     "data": {
      "text/plain": "find paths:   0%|          | 0/250 [00:00<?, ?it/s]",
      "application/vnd.jupyter.widget-view+json": {
       "version_major": 2,
       "version_minor": 0,
       "model_id": "bdf25ddd9a664718b040ac9f933a2ba7"
      }
     },
     "metadata": {},
     "output_type": "display_data"
    },
    {
     "name": "stdout",
     "output_type": "stream",
     "text": [
      "start 1\n"
     ]
    },
    {
     "data": {
      "text/plain": "find paths:   0%|          | 0/250 [00:00<?, ?it/s]",
      "application/vnd.jupyter.widget-view+json": {
       "version_major": 2,
       "version_minor": 0,
       "model_id": "4e1f04e443194bd1bb4ec18fed6b6280"
      }
     },
     "metadata": {},
     "output_type": "display_data"
    },
    {
     "name": "stdout",
     "output_type": "stream",
     "text": [
      "start 2\n"
     ]
    },
    {
     "data": {
      "text/plain": "find paths:   0%|          | 0/250 [00:00<?, ?it/s]",
      "application/vnd.jupyter.widget-view+json": {
       "version_major": 2,
       "version_minor": 0,
       "model_id": "f30375080ae048cca766f30f1a20d4d1"
      }
     },
     "metadata": {},
     "output_type": "display_data"
    },
    {
     "name": "stdout",
     "output_type": "stream",
     "text": [
      "start 3\n"
     ]
    },
    {
     "data": {
      "text/plain": "find paths:   0%|          | 0/250 [00:00<?, ?it/s]",
      "application/vnd.jupyter.widget-view+json": {
       "version_major": 2,
       "version_minor": 0,
       "model_id": "59248dffd45c4619935d6b391cdbd492"
      }
     },
     "metadata": {},
     "output_type": "display_data"
    }
   ],
   "source": [
    "cms_resolver = clustering.LouvainKMeansCommunityResolver(resolution=1,kmeans_weight='length',weight='l' )\n",
    "cg = centroids_graph_builder.CentroidGraphBuilder().build(g, cms_resolver)\n",
    "\n",
    "baseline = dijkstra_pfa.Dijkstra(g)\n",
    "\n",
    "test_alg = excraction_pfa.ExtractionPfa(\n",
    "    g = g,\n",
    "    cg=cg,\n",
    "    upper=dijkstra_pfa.Dijkstra(cg.g),\n",
    "    down=dijkstra_pfa.Dijkstra(g)\n",
    ")\n",
    "stat_kmeans_new = pipeline.PfaComparator(\n",
    "    baseline=baseline,\n",
    "    test_algorithm=test_alg,\n",
    "    points=points,\n",
    "    workers=4\n",
    ").compare()"
   ],
   "metadata": {
    "collapsed": false,
    "ExecuteTime": {
     "end_time": "2025-06-23T15:03:04.003299Z",
     "start_time": "2025-06-23T15:02:48.035381Z"
    }
   },
   "id": "987dc47fb30c404",
   "execution_count": 10
  },
  {
   "cell_type": "code",
   "outputs": [
    {
     "data": {
      "text/plain": "find centroids:   0%|          | 0/65 [00:00<?, ?it/s]",
      "application/vnd.jupyter.widget-view+json": {
       "version_major": 2,
       "version_minor": 0,
       "model_id": "98f168f5cffc45f781cb732e3943d437"
      }
     },
     "metadata": {},
     "output_type": "display_data"
    },
    {
     "data": {
      "text/plain": "find edges:   0%|          | 0/65 [00:00<?, ?it/s]",
      "application/vnd.jupyter.widget-view+json": {
       "version_major": 2,
       "version_minor": 0,
       "model_id": "d2067adbcb294a0ea3a34437ee8049fa"
      }
     },
     "metadata": {},
     "output_type": "display_data"
    },
    {
     "name": "stdout",
     "output_type": "stream",
     "text": [
      "start 0\n"
     ]
    },
    {
     "data": {
      "text/plain": "find paths:   0%|          | 0/250 [00:00<?, ?it/s]",
      "application/vnd.jupyter.widget-view+json": {
       "version_major": 2,
       "version_minor": 0,
       "model_id": "4b16ad6985a14faaa26a1712a48df643"
      }
     },
     "metadata": {},
     "output_type": "display_data"
    },
    {
     "name": "stdout",
     "output_type": "stream",
     "text": [
      "start 1\n"
     ]
    },
    {
     "data": {
      "text/plain": "find paths:   0%|          | 0/250 [00:00<?, ?it/s]",
      "application/vnd.jupyter.widget-view+json": {
       "version_major": 2,
       "version_minor": 0,
       "model_id": "301a3b68e0de44ec959d6f94611e8a6e"
      }
     },
     "metadata": {},
     "output_type": "display_data"
    },
    {
     "name": "stdout",
     "output_type": "stream",
     "text": [
      "start 2\n"
     ]
    },
    {
     "data": {
      "text/plain": "find paths:   0%|          | 0/250 [00:00<?, ?it/s]",
      "application/vnd.jupyter.widget-view+json": {
       "version_major": 2,
       "version_minor": 0,
       "model_id": "c4b1f57d51e94dea842da4eab4ae64f3"
      }
     },
     "metadata": {},
     "output_type": "display_data"
    },
    {
     "name": "stdout",
     "output_type": "stream",
     "text": [
      "start 3\n"
     ]
    },
    {
     "data": {
      "text/plain": "find paths:   0%|          | 0/250 [00:00<?, ?it/s]",
      "application/vnd.jupyter.widget-view+json": {
       "version_major": 2,
       "version_minor": 0,
       "model_id": "cc480ececcda45f89e307ef69dc906e6"
      }
     },
     "metadata": {},
     "output_type": "display_data"
    }
   ],
   "source": [
    "cms_resolver = clustering.LouvainKMeansCommunityResolver(resolution=1,kmeans_weight='length',weight='l_1' )\n",
    "cg = centroids_graph_builder.CentroidGraphBuilder().build(g, cms_resolver)\n",
    "\n",
    "baseline = dijkstra_pfa.Dijkstra(g)\n",
    "\n",
    "test_alg = excraction_pfa.ExtractionPfa(\n",
    "    g = g,\n",
    "    cg=cg,\n",
    "    upper=dijkstra_pfa.Dijkstra(cg.g),\n",
    "    down=dijkstra_pfa.Dijkstra(g)\n",
    ")\n",
    "stat_kmeans_new1 = pipeline.PfaComparator(\n",
    "    baseline=baseline,\n",
    "    test_algorithm=test_alg,\n",
    "    points=points,\n",
    "    workers=4\n",
    ").compare()"
   ],
   "metadata": {
    "collapsed": false,
    "ExecuteTime": {
     "end_time": "2025-06-23T15:03:25.037047Z",
     "start_time": "2025-06-23T15:03:04.005451Z"
    }
   },
   "id": "b0e6abe6b65218e8",
   "execution_count": 11
  },
  {
   "cell_type": "code",
   "outputs": [
    {
     "data": {
      "text/plain": "\n        err_max:    2728.9624\n        err_min:    0.0000\n        err_median: 228.6478\n        err_mean:   262.4798\n        \n        acceleration_max:    172.8014\n        acceleration_min:    0.0516\n        acceleration_median: 7.5557\n        acceleration_mean:   10.6004\n        "
     },
     "execution_count": 10,
     "metadata": {},
     "output_type": "execute_result"
    }
   ],
   "source": [
    "stat_paper"
   ],
   "metadata": {
    "collapsed": false,
    "ExecuteTime": {
     "end_time": "2025-06-23T15:07:53.682312Z",
     "start_time": "2025-06-23T15:07:53.674724Z"
    }
   },
   "id": "a693144e02e9f060",
   "execution_count": 10
  },
  {
   "cell_type": "code",
   "outputs": [
    {
     "data": {
      "text/plain": "\n        err_max:    250.6528\n        err_min:    0.0000\n        err_median: 5.4733\n        err_mean:   18.0788\n        \n        acceleration_max:    51.5871\n        acceleration_min:    0.0566\n        acceleration_median: 3.4516\n        acceleration_mean:   4.7733\n        "
     },
     "execution_count": 11,
     "metadata": {},
     "output_type": "execute_result"
    }
   ],
   "source": [
    "stat_new"
   ],
   "metadata": {
    "collapsed": false,
    "ExecuteTime": {
     "end_time": "2025-06-23T15:07:53.700035Z",
     "start_time": "2025-06-23T15:07:53.684204Z"
    }
   },
   "id": "72bdb289966d59c2",
   "execution_count": 11
  },
  {
   "cell_type": "code",
   "outputs": [
    {
     "data": {
      "text/plain": "\n        err_max:    189.3263\n        err_min:    0.0000\n        err_median: 5.0444\n        err_mean:   17.6985\n        \n        acceleration_max:    36.2795\n        acceleration_min:    0.2052\n        acceleration_median: 5.2494\n        acceleration_mean:   6.1694\n        "
     },
     "execution_count": 14,
     "metadata": {},
     "output_type": "execute_result"
    }
   ],
   "source": [
    "stat_kmeans_old"
   ],
   "metadata": {
    "collapsed": false,
    "ExecuteTime": {
     "end_time": "2025-06-23T15:03:25.071297Z",
     "start_time": "2025-06-23T15:03:25.064640Z"
    }
   },
   "id": "8c2d49dd07c12b1",
   "execution_count": 14
  },
  {
   "cell_type": "code",
   "outputs": [
    {
     "data": {
      "text/plain": "\n        err_max:    212.3090\n        err_min:    0.0000\n        err_median: 16.3227\n        err_mean:   27.9239\n        \n        acceleration_max:    42.9953\n        acceleration_min:    0.0290\n        acceleration_median: 6.5625\n        acceleration_mean:   7.3537\n        "
     },
     "execution_count": 15,
     "metadata": {},
     "output_type": "execute_result"
    }
   ],
   "source": [
    "stat_kmeans_new"
   ],
   "metadata": {
    "collapsed": false,
    "ExecuteTime": {
     "end_time": "2025-06-23T15:03:25.080670Z",
     "start_time": "2025-06-23T15:03:25.073502Z"
    }
   },
   "id": "1ffdb889840bc9f8",
   "execution_count": 15
  },
  {
   "cell_type": "code",
   "outputs": [
    {
     "data": {
      "text/plain": "\n        err_max:    453.2020\n        err_min:    0.0000\n        err_median: 20.8933\n        err_mean:   34.3584\n        \n        acceleration_max:    51.6309\n        acceleration_min:    0.0349\n        acceleration_median: 4.7968\n        acceleration_mean:   5.7762\n        "
     },
     "execution_count": 16,
     "metadata": {},
     "output_type": "execute_result"
    }
   ],
   "source": [
    "stat_kmeans_new1"
   ],
   "metadata": {
    "collapsed": false,
    "ExecuteTime": {
     "end_time": "2025-06-23T15:03:25.090856Z",
     "start_time": "2025-06-23T15:03:25.084693Z"
    }
   },
   "id": "46d370e70bd042b6",
   "execution_count": 16
  },
  {
   "cell_type": "code",
   "outputs": [],
   "source": [],
   "metadata": {
    "collapsed": false,
    "ExecuteTime": {
     "end_time": "2025-06-23T14:45:08.194413Z",
     "start_time": "2025-06-23T14:45:08.191144Z"
    }
   },
   "id": "f4ab9aef6d74cc40",
   "execution_count": 51
  }
 ],
 "metadata": {
  "kernelspec": {
   "display_name": "Python 3",
   "language": "python",
   "name": "python3"
  },
  "language_info": {
   "codemirror_mode": {
    "name": "ipython",
    "version": 2
   },
   "file_extension": ".py",
   "mimetype": "text/x-python",
   "name": "python",
   "nbconvert_exporter": "python",
   "pygments_lexer": "ipython2",
   "version": "2.7.6"
  }
 },
 "nbformat": 4,
 "nbformat_minor": 5
}
