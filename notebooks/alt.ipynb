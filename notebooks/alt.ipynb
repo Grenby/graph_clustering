{
 "cells": [
  {
   "cell_type": "code",
   "outputs": [],
   "source": [
    "import sys\n",
    "\n",
    "from scripts.pfa import Path\n",
    "\n",
    "sys.path.append('../')"
   ],
   "metadata": {
    "collapsed": false,
    "ExecuteTime": {
     "end_time": "2024-12-21T12:38:15.761194Z",
     "start_time": "2024-12-21T12:38:15.640793Z"
    }
   },
   "id": "8dc89016aba3f61f",
   "execution_count": 2
  },
  {
   "cell_type": "code",
   "outputs": [],
   "source": [
    "from tqdm.notebook import tqdm\n",
    "from scripts import centroids_graph_builder, graph_osm_loader, utils, clustering\n",
    "from heapq import heappop, heappush\n",
    "from itertools import count\n",
    "from scripts import pipeline, pfa\n",
    "from scripts.path_findings import dijkstra_pfa\n",
    "import networkx as nx"
   ],
   "metadata": {
    "collapsed": false,
    "ExecuteTime": {
     "end_time": "2024-12-21T12:38:17.315722Z",
     "start_time": "2024-12-21T12:38:15.763125Z"
    }
   },
   "id": "initial_id",
   "execution_count": 3
  },
  {
   "cell_type": "code",
   "outputs": [],
   "source": [
    "def dijkstra_pfa_min_dst(graph: nx.Graph,\n",
    "                 start: set[int],\n",
    "                 ) -> \\\n",
    "        tuple[float, list[int]]:\n",
    "    adjacency = graph._adj\n",
    "    c = count()\n",
    "    push = heappush\n",
    "    pop = heappop\n",
    "    dist = {}\n",
    "    fringe = []\n",
    "    for s in start:\n",
    "        dist[s] = 0.0\n",
    "        push(fringe, (0.0, next(c), s))\n",
    "    while fringe:\n",
    "        (d, _, v) = pop(fringe)\n",
    "        for u, e in adjacency[v].items():\n",
    "            vu_dist = d + e['length']\n",
    "            if u not in dist or dist[u] > vu_dist:\n",
    "                dist[u] = vu_dist\n",
    "                push(fringe, (vu_dist, next(c), u))\n",
    "    return dist\n"
   ],
   "metadata": {
    "collapsed": false,
    "ExecuteTime": {
     "end_time": "2024-12-21T12:38:17.319463Z",
     "start_time": "2024-12-21T12:38:17.316806Z"
    }
   },
   "id": "102cb3354f7c186a",
   "execution_count": 4
  },
  {
   "cell_type": "markdown",
   "source": [
    "Примеры как резолвить комьюнити"
   ],
   "metadata": {
    "collapsed": false
   },
   "id": "24e484a2a3e88df1"
  },
  {
   "cell_type": "code",
   "outputs": [],
   "source": [
    "GRAPH_ID = 'R13470549'  # R13470549 R2555133 R3766483"
   ],
   "metadata": {
    "collapsed": false,
    "ExecuteTime": {
     "end_time": "2024-12-21T12:38:17.329773Z",
     "start_time": "2024-12-21T12:38:17.320913Z"
    }
   },
   "id": "3b4742a1a125081c",
   "execution_count": 5
  },
  {
   "cell_type": "code",
   "outputs": [
    {
     "data": {
      "text/plain": "(723, 1046)"
     },
     "execution_count": 6,
     "metadata": {},
     "output_type": "execute_result"
    }
   ],
   "source": [
    "# примеры id есть в graph_osm_loader.py\n",
    "g = graph_osm_loader.get_graph(GRAPH_ID)  # загрузка графа\n",
    "# N = 1000\n",
    "# p = 0.01\n",
    "# g = get_rand_graph(N,p)\n",
    "len(g.nodes), len(g.edges)"
   ],
   "metadata": {
    "collapsed": false,
    "ExecuteTime": {
     "end_time": "2024-12-21T12:38:17.337490Z",
     "start_time": "2024-12-21T12:38:17.330454Z"
    }
   },
   "id": "b219e78cf93171f5",
   "execution_count": 6
  },
  {
   "cell_type": "code",
   "outputs": [
    {
     "data": {
      "text/plain": "128"
     },
     "execution_count": 7,
     "metadata": {},
     "output_type": "execute_result"
    }
   ],
   "source": [
    "utils.get_opt_cluster_count(len(g.nodes))  # оптимальное количество кластеров"
   ],
   "metadata": {
    "collapsed": false,
    "ExecuteTime": {
     "end_time": "2024-12-21T12:38:17.340609Z",
     "start_time": "2024-12-21T12:38:17.337960Z"
    }
   },
   "id": "b1053ecba87c88b6",
   "execution_count": 7
  },
  {
   "cell_type": "code",
   "outputs": [],
   "source": [
    "g.remove_edges_from(nx.selfloop_edges(g))"
   ],
   "metadata": {
    "collapsed": false,
    "ExecuteTime": {
     "end_time": "2024-12-21T12:38:17.344690Z",
     "start_time": "2024-12-21T12:38:17.341198Z"
    }
   },
   "id": "d2a76eca84cafd29",
   "execution_count": 8
  },
  {
   "cell_type": "code",
   "outputs": [],
   "source": [
    "name = 'cluster'"
   ],
   "metadata": {
    "collapsed": false,
    "ExecuteTime": {
     "end_time": "2024-12-21T12:38:17.347185Z",
     "start_time": "2024-12-21T12:38:17.345461Z"
    }
   },
   "id": "cfa176e857f7a6fb",
   "execution_count": 9
  },
  {
   "cell_type": "code",
   "outputs": [],
   "source": [],
   "metadata": {
    "collapsed": false
   },
   "id": "6501c28ea5d8da83"
  },
  {
   "cell_type": "code",
   "outputs": [
    {
     "name": "stderr",
     "output_type": "stream",
     "text": [
      "100%|██████████| 100/100 [00:00<00:00, 3266.92it/s]"
     ]
    },
    {
     "name": "stdout",
     "output_type": "stream",
     "text": [
      "554\n"
     ]
    },
    {
     "name": "stderr",
     "output_type": "stream",
     "text": [
      "\n"
     ]
    }
   ],
   "source": [
    "cms2 = clustering.resolve_k_means_communities(g, resolution=400, max_iteration=100, cluster_name=name, print_log=True)\n",
    "print(len(cms2))"
   ],
   "metadata": {
    "collapsed": false,
    "ExecuteTime": {
     "end_time": "2024-12-21T12:38:17.405743Z",
     "start_time": "2024-12-21T12:38:17.349945Z"
    }
   },
   "id": "23c1a5d32d570651",
   "execution_count": 10
  },
  {
   "cell_type": "code",
   "outputs": [],
   "source": [
    "cls2n = centroids_graph_builder.get_cls2n(g, name=name)  # мапа кластер к соседним кластерам "
   ],
   "metadata": {
    "collapsed": false,
    "ExecuteTime": {
     "end_time": "2024-12-21T12:38:17.408769Z",
     "start_time": "2024-12-21T12:38:17.406264Z"
    }
   },
   "id": "e6594fe741a815f3",
   "execution_count": 11
  },
  {
   "cell_type": "code",
   "outputs": [
    {
     "data": {
      "text/plain": "find centroids:   0%|          | 0/554 [00:00<?, ?it/s]",
      "application/vnd.jupyter.widget-view+json": {
       "version_major": 2,
       "version_minor": 0,
       "model_id": "e29e0cfad00d4cd6a471d190ae100fb2"
      }
     },
     "metadata": {},
     "output_type": "display_data"
    },
    {
     "data": {
      "text/plain": "find edges:   0%|          | 0/554 [00:00<?, ?it/s]",
      "application/vnd.jupyter.widget-view+json": {
       "version_major": 2,
       "version_minor": 0,
       "model_id": "f5ce990cfd3a49e5a3448455537513d2"
      }
     },
     "metadata": {},
     "output_type": "display_data"
    }
   ],
   "source": [
    "g1, cls2c = centroids_graph_builder.build_center_graph(g, cms2, cls2n, log=True, name=name)"
   ],
   "metadata": {
    "collapsed": false,
    "ExecuteTime": {
     "end_time": "2024-12-21T12:38:17.445537Z",
     "start_time": "2024-12-21T12:38:17.409349Z"
    }
   },
   "id": "718024858ba64653",
   "execution_count": 12
  },
  {
   "cell_type": "code",
   "outputs": [],
   "source": [
    "points = utils.generate_points(g, 1000)"
   ],
   "metadata": {
    "collapsed": false,
    "ExecuteTime": {
     "end_time": "2024-12-21T12:38:17.451523Z",
     "start_time": "2024-12-21T12:38:17.446115Z"
    }
   },
   "id": "950e8ced345d955d",
   "execution_count": 13
  },
  {
   "cell_type": "markdown",
   "source": [],
   "metadata": {
    "collapsed": false
   },
   "id": "a4793ae718e64fac"
  },
  {
   "cell_type": "code",
   "outputs": [
    {
     "data": {
      "text/plain": "  0%|          | 0/554 [00:00<?, ?it/s]",
      "application/vnd.jupyter.widget-view+json": {
       "version_major": 2,
       "version_minor": 0,
       "model_id": "3c54e34518eb4505b3a5994fe7f68e8c"
      }
     },
     "metadata": {},
     "output_type": "display_data"
    },
    {
     "data": {
      "text/plain": "  0%|          | 0/723 [00:00<?, ?it/s]",
      "application/vnd.jupyter.widget-view+json": {
       "version_major": 2,
       "version_minor": 0,
       "model_id": "8352d6ba827a4179be185f11bbb88da2"
      }
     },
     "metadata": {},
     "output_type": "display_data"
    }
   ],
   "source": [
    "d_clusters = {}\n",
    "d_nodes = {}\n",
    "for u in tqdm(g1.nodes()):\n",
    "    dst = dijkstra_pfa_min_dst(g, {cls2c[u]})\n",
    "    for v in g1.nodes():\n",
    "        d_clusters[u, v] = dst[cls2c[v]]\n",
    "        d_clusters[v, u] = dst[cls2c[v]]\n",
    "\n",
    "for u, d in tqdm(g.nodes(data=True)):\n",
    "    c = cls2c[d[name]]\n",
    "    l = nx.single_source_dijkstra(g, u, c, weight='length')[0]\n",
    "    d_nodes[u] = l"
   ],
   "metadata": {
    "collapsed": false,
    "ExecuteTime": {
     "end_time": "2024-12-21T12:38:18.001001Z",
     "start_time": "2024-12-21T12:38:17.452452Z"
    }
   },
   "id": "fba25ba03f4c60b8",
   "execution_count": 14
  },
  {
   "cell_type": "code",
   "outputs": [],
   "source": [
    "nodes = g.nodes()\n",
    "\n",
    "def func(u, v):\n",
    "    c1 = nodes[u]['cluster']\n",
    "    c2 = nodes[v]['cluster']   \n",
    "    d1 = d_nodes[u] - d_nodes[v] - d_clusters[c1,c2]\n",
    "    d2 = abs(d_clusters[c1,c2] - d_nodes[v]) - d_nodes[u] \n",
    "    d3 = abs(d_clusters[c1,c2] - d_nodes[u]) - d_nodes[v]\n",
    "    d4 = d_nodes[v] - d_nodes[u] - d_clusters[c1,c2]\n",
    "    return max(d1,d2,d3,d4)"
   ],
   "metadata": {
    "collapsed": false,
    "ExecuteTime": {
     "end_time": "2024-12-21T12:38:18.004055Z",
     "start_time": "2024-12-21T12:38:18.001814Z"
    }
   },
   "id": "cfc8942099d85fc",
   "execution_count": 15
  },
  {
   "cell_type": "code",
   "outputs": [],
   "source": [
    "def dijkstra_pfa_cls(graph: nx.Graph,\n",
    "                     start: int,\n",
    "                     end: int\n",
    "                     ) -> tuple[float, list[int]]:\n",
    "    if start == end:\n",
    "        return 0, [start]\n",
    "    push = heappush\n",
    "    pop = heappop\n",
    "    dist = {start: (0, None)}\n",
    "    fringe = []\n",
    "    c = count()\n",
    "    adjacency = graph._adj\n",
    "    push(fringe, (0, next(c), 0, func(start, end), start))\n",
    "\n",
    "    while fringe:\n",
    "        (_, _, d1, l1, v1) = pop(fringe) \n",
    "        if v1 == end:\n",
    "            break\n",
    "        for u, e in adjacency[v1].items():\n",
    "            vu_dist = d1 + e['length']\n",
    "            if u not in dist or dist[u][0] > vu_dist:\n",
    "                dist[u] = (vu_dist, v1)\n",
    "                lu = func(u, end)\n",
    "                push(fringe, (vu_dist + lu, next(c), vu_dist, lu, u))\n",
    "\n",
    "    path = [end]\n",
    "    e = end\n",
    "    while dist[e][1] is not None:\n",
    "        e = dist[e][1]\n",
    "        path = [e] + path\n",
    "    l = 0\n",
    "    e = g.edges()\n",
    "    for i in range(len(path) - 1):\n",
    "        p1, p2 = path[i], path[i + 1]\n",
    "        l += e[p1, p2]['length']\n",
    "    return l, path"
   ],
   "metadata": {
    "collapsed": false,
    "ExecuteTime": {
     "end_time": "2024-12-21T12:38:18.011467Z",
     "start_time": "2024-12-21T12:38:18.004503Z"
    }
   },
   "id": "597f39eb6485807e",
   "execution_count": 16
  },
  {
   "cell_type": "code",
   "outputs": [
    {
     "name": "stdout",
     "output_type": "stream",
     "text": [
      "start 0\n"
     ]
    },
    {
     "data": {
      "text/plain": "find paths:   0%|          | 0/250 [00:00<?, ?it/s]",
      "application/vnd.jupyter.widget-view+json": {
       "version_major": 2,
       "version_minor": 0,
       "model_id": "02f77581a14444dc83e42861ab8f6424"
      }
     },
     "metadata": {},
     "output_type": "display_data"
    },
    {
     "name": "stdout",
     "output_type": "stream",
     "text": [
      "start 1\n"
     ]
    },
    {
     "data": {
      "text/plain": "find paths:   0%|          | 0/250 [00:00<?, ?it/s]",
      "application/vnd.jupyter.widget-view+json": {
       "version_major": 2,
       "version_minor": 0,
       "model_id": "7068076f51784a5abaaaee08c1c81f99"
      }
     },
     "metadata": {},
     "output_type": "display_data"
    },
    {
     "name": "stdout",
     "output_type": "stream",
     "text": [
      "start 2\n"
     ]
    },
    {
     "data": {
      "text/plain": "find paths:   0%|          | 0/250 [00:00<?, ?it/s]",
      "application/vnd.jupyter.widget-view+json": {
       "version_major": 2,
       "version_minor": 0,
       "model_id": "c7090aac583e47fd8d431805cc5c1738"
      }
     },
     "metadata": {},
     "output_type": "display_data"
    },
    {
     "name": "stdout",
     "output_type": "stream",
     "text": [
      "start 3\n"
     ]
    },
    {
     "data": {
      "text/plain": "find paths:   0%|          | 0/250 [00:00<?, ?it/s]",
      "application/vnd.jupyter.widget-view+json": {
       "version_major": 2,
       "version_minor": 0,
       "model_id": "e4aeaad6744b404daf4d61c1462c7836"
      }
     },
     "metadata": {},
     "output_type": "display_data"
    },
    {
     "data": {
      "text/plain": "\n        err_max:    0.0000\n        err_min:    0.0000\n        err_median: 0.0000\n        err_mean:   0.0000\n        \n        acceleration_max:    12.6139\n        acceleration_min:    0.2152\n        acceleration_median: 2.2369\n        acceleration_mean:   2.3359\n        "
     },
     "execution_count": 17,
     "metadata": {},
     "output_type": "execute_result"
    }
   ],
   "source": [
    "class AltPfa(pfa.PathFinding):\n",
    "    \n",
    "    def find_path(self, start: int, end: int)-> Path:\n",
    "        return dijkstra_pfa_cls(self.g, start, end)\n",
    "\n",
    "stat = pipeline.PfaComparator(\n",
    "    baseline=dijkstra_pfa.Dijkstra(g),\n",
    "    test_algorithm=AltPfa(g),\n",
    "    points=points\n",
    ").compare()\n",
    "stat"
   ],
   "metadata": {
    "collapsed": false,
    "ExecuteTime": {
     "end_time": "2024-12-21T12:38:18.912955Z",
     "start_time": "2024-12-21T12:38:18.012087Z"
    }
   },
   "id": "4d7b33bb20e7bf4f",
   "execution_count": 17
  },
  {
   "cell_type": "code",
   "outputs": [],
   "source": [],
   "metadata": {
    "collapsed": false,
    "ExecuteTime": {
     "end_time": "2024-12-21T12:38:18.915548Z",
     "start_time": "2024-12-21T12:38:18.913817Z"
    }
   },
   "id": "e75f810e25ba908e",
   "execution_count": 17
  }
 ],
 "metadata": {
  "kernelspec": {
   "display_name": "Python 3",
   "language": "python",
   "name": "python3"
  },
  "language_info": {
   "codemirror_mode": {
    "name": "ipython",
    "version": 2
   },
   "file_extension": ".py",
   "mimetype": "text/x-python",
   "name": "python",
   "nbconvert_exporter": "python",
   "pygments_lexer": "ipython2",
   "version": "2.7.6"
  }
 },
 "nbformat": 4,
 "nbformat_minor": 5
}
